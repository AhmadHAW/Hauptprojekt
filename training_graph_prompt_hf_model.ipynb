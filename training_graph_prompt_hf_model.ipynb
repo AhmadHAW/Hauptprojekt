{
    "cells": [
        {
            "cell_type": "markdown",
            "metadata": {},
            "source": [
                "# Training and Evaluation of GNNs and LLMs\n",
                "In this notebook, we train the models on the [MovieLens Dataset](https://movielens.org/) after the Pytorch Geometrics Tutorial on [Link Prediction](https://colab.research.google.com/drive/1xpzn1Nvai1ygd_P5Yambc_oe4VBPK_ZT?usp=sharing#scrollTo=vit8xKCiXAue).\n",
                "\n",
                "First we import all of our dependencies.\n",
                "\n",
                "The **GraphRepresentationGenerator** manages and trains a GNN model. Its most important interfaces include\n",
                "**the constructor**, which defines the GNN architecture and loads the pre-trained GNN model if it is already on the hard disk,\n",
                "**the training method**, which initializes the training on the GNN model and\n",
                "**the get_embedding methods**, which represent the inference interface to the GNN model and return the corresponding embeddings in the dimension defined in the constructor for given user movie node pairs.\n",
                "\n",
                "**The MovieLensLoader** loads and manages the data sets. The most important tasks include **saving and (re)loading and transforming** the data sets.\n",
                "\n",
                "**PromptEncoderOnlyClassifier** and **VanillaEncoderOnlyClassifier** each manage a **prompt (model) LLM** and a **vanilla (model) LLM**. An EncoderOnlyClassifier (ClassifierBase) provides interfaces for training and testing an LLM model.\n",
                "PromptEncoder and VanillaEncoder differ from their DataCollectors. DataCollectors change the behavior of the models during training and testing and allow data points to be created at runtime. With the help of these collators, we **create non-existent edges on the fly**."
            ]
        },
        {
            "cell_type": "code",
            "execution_count": 1,
            "metadata": {},
            "outputs": [],
            "source": [
                "from graph_representation_generator.graph_representation_generator import (\n",
                "    GraphRepresentationGenerator,\n",
                ")\n",
                "from dataset_manager.movie_lens_manager import MovieLensManager\n",
                "from dataset_manager.kg_manager import ROOT\n",
                "from llm_manager.graph_prompter_hf.classifier import GraphPrompterHF"
            ]
        },
        {
            "cell_type": "code",
            "execution_count": 2,
            "metadata": {},
            "outputs": [],
            "source": [
                "MODEL_NAME = \"google/bert_uncased_L-2_H-128_A-2\"\n",
                "EPOCHS = 1\n",
                "BATCH_SIZE_LLM = 256"
            ]
        },
        {
            "cell_type": "markdown",
            "metadata": {},
            "source": [
                "We define in advance which **Knowledge Graph Embedding Dimension (KGE_DIMENSION)** the GNN encoder has. We want to determine from which output dimension the GNN encoder can produce embeddings that lead to a significant increase in performance *without exceeding the context length of the LLMs*. In the original tutorial, the KGE_DIMENSION was $64$."
            ]
        },
        {
            "cell_type": "code",
            "execution_count": 3,
            "metadata": {},
            "outputs": [],
            "source": [
                "kg_manager = MovieLensManager()"
            ]
        },
        {
            "cell_type": "markdown",
            "metadata": {},
            "source": [
                "llm_df = kg_manager.llm_df.merge(kg_manager.target_df[[\"id\", \"prompt_feature_title\", \"prompt_feature_genres\"]].rename(columns={\"id\": \"target_id\"}), on = \"target_id\")\n",
                "llm_df"
            ]
        },
        {
            "cell_type": "markdown",
            "metadata": {},
            "source": [
                "First we load the MovieLensLoader, which downloads the Movie Lens dataset (https://files.grouplens.org/datasets/movielens/ml-32m.zip) and prepares it to be used on GNN and LLM. We also pass the embedding dimensions that we will assume we are training with. First time takes approx. 30 sec."
            ]
        },
        {
            "cell_type": "code",
            "execution_count": 4,
            "metadata": {},
            "outputs": [
                {
                    "data": {
                        "text/plain": [
                            "HeteroData(\n",
                            "  source={ node_id=[200948] },\n",
                            "  target={\n",
                            "    node_id=[87585],\n",
                            "    x=[87585, 20],\n",
                            "  },\n",
                            "  (source, edge, target)={ edge_index=[2, 32000204] },\n",
                            "  (target, rev_edge, source)={ edge_index=[2, 32000204] }\n",
                            ")"
                        ]
                    },
                    "execution_count": 4,
                    "metadata": {},
                    "output_type": "execute_result"
                }
            ],
            "source": [
                "kg_manager.data"
            ]
        },
        {
            "cell_type": "markdown",
            "metadata": {},
            "source": [
                "Next, we initialize the GNN trainers (possible on Cuda), one for each KGE_DIMENSION.\n",
                "A GNN trainer manages a model and each model consists of an **encoder and classifier** part.\n",
                "\n",
                "**The encoder** is a parameterized *Grap Convolutional Network (GCN)* with a *2-layer GNN computation graph* and a single *ReLU* activation function in between.\n",
                "\n",
                "**The classifier** applies the dot-product between source and destination kges to derive edge-level predictions."
            ]
        },
        {
            "cell_type": "code",
            "execution_count": 5,
            "metadata": {},
            "outputs": [
                {
                    "name": "stdout",
                    "output_type": "stream",
                    "text": [
                        "loading pretrained model\n",
                        "Device: 'cuda'\n"
                    ]
                }
            ],
            "source": [
                "graph_representation_generator_graph_prompter_hf = GraphRepresentationGenerator(\n",
                "    kg_manager.data.to(\"cuda\"),\n",
                "    kg_manager.gnn_train_data.to(\"cuda\"),\n",
                "    kg_manager.gnn_val_data.to(\"cuda\"),\n",
                "    kg_manager.gnn_test_data.to(\"cuda\"),\n",
                "    hidden_channels=128,\n",
                "    kge_dimension=128,\n",
                "    force_recompute=False,\n",
                "    device=\"cuda\",\n",
                ")"
            ]
        },
        {
            "cell_type": "markdown",
            "metadata": {},
            "source": [
                "Next we produce the KGEs for every edge in the dataset. These embeddings can then be used for the LLM on the link-prediction task."
            ]
        },
        {
            "cell_type": "markdown",
            "metadata": {},
            "source": [
                "Next we initialize the vanilla encoder only classifier. This classifier does only use the NLP part of the prompt (no KGE) for predicting if the given link exists."
            ]
        },
        {
            "cell_type": "code",
            "execution_count": 6,
            "metadata": {},
            "outputs": [
                {
                    "name": "stdout",
                    "output_type": "stream",
                    "text": [
                        "device cuda\n",
                        "5\n",
                        "5\n",
                        "5\n"
                    ]
                }
            ],
            "source": [
                "graph_prompter_hf_bert_classifier = GraphPrompterHF(\n",
                "    kge_manager=kg_manager,\n",
                "    get_embeddings_cb=graph_representation_generator_graph_prompter_hf.get_embeddings,\n",
                "    model_name=MODEL_NAME,\n",
                "    vanilla_model_path=f\"{ROOT}/llm/graph_prompter_hf_frozen/training/best\",\n",
                "    gnn_parameters=list(\n",
                "        graph_representation_generator_graph_prompter_hf.model.parameters()\n",
                "    ),\n",
                ")"
            ]
        },
        {
            "cell_type": "code",
            "execution_count": 7,
            "metadata": {},
            "outputs": [
                {
                    "data": {
                        "application/vnd.jupyter.widget-view+json": {
                            "model_id": "c6a6222ebf234a2c8fd3ca986d14aba5",
                            "version_major": 2,
                            "version_minor": 0
                        },
                        "text/plain": [
                            "Loading dataset from disk:   0%|          | 0/63 [00:00<?, ?it/s]"
                        ]
                    },
                    "metadata": {},
                    "output_type": "display_data"
                },
                {
                    "data": {
                        "application/vnd.jupyter.widget-view+json": {
                            "model_id": "899313d7b70944ddbd32ee75736f785f",
                            "version_major": 2,
                            "version_minor": 0
                        },
                        "text/plain": [
                            "Loading dataset from disk:   0%|          | 0/23 [00:00<?, ?it/s]"
                        ]
                    },
                    "metadata": {},
                    "output_type": "display_data"
                },
                {
                    "data": {
                        "application/vnd.jupyter.widget-view+json": {
                            "model_id": "b5bc35cab2894ace9af244feb1e3f6f2",
                            "version_major": 2,
                            "version_minor": 0
                        },
                        "text/plain": [
                            "Loading dataset from disk:   0%|          | 0/23 [00:00<?, ?it/s]"
                        ]
                    },
                    "metadata": {},
                    "output_type": "display_data"
                }
            ],
            "source": [
                "dataset_embedding = kg_manager.generate_graph_prompter_hf_embedding_dataset(\n",
                "    graph_prompter_hf_bert_classifier.tokenizer.sep_token,\n",
                "    graph_prompter_hf_bert_classifier.tokenizer.pad_token,\n",
                "    graph_prompter_hf_bert_classifier.tokenize_function,\n",
                ")"
            ]
        },
        {
            "cell_type": "code",
            "execution_count": 13,
            "metadata": {},
            "outputs": [
                {
                    "name": "stdout",
                    "output_type": "stream",
                    "text": [
                        "True\n"
                    ]
                }
            ],
            "source": [
                "import torch\n",
                "\n",
                "gnn_model = graph_representation_generator_graph_prompter_hf.model\n",
                "trainer = graph_prompter_hf_bert_classifier._get_trainer(\n",
                "    dataset_embedding, epochs=EPOCHS, batch_size=BATCH_SIZE_LLM\n",
                ")\n",
                "optimizer = torch.optim.SGD(\n",
                "    list(trainer.model.parameters()) + list(gnn_model.parameters()),\n",
                "    lr=0.001,\n",
                "    momentum=0.9,\n",
                ")\n",
                "\n",
                "\n",
                "def inspect_gradients(trainer, batch):\n",
                "    optimizer.zero_grad()  # Clear previous gradients\n",
                "    trainer.model.eval()  # Set model to eval mode (no dropout, etc.)\n",
                "    outputs = trainer.model(**batch)\n",
                "    loss = outputs.loss\n",
                "    loss.backward()  # Run backward to compute gradients\n",
                "    optimizer.step()\n",
                "    for name, param in gnn_model.named_parameters():\n",
                "        if param.requires_grad and param.grad is not None:\n",
                "            print(f\"Gradient for gnn {name}: {param.grad}\")\n",
                "\n",
                "    # for name, param in trainer.model.named_parameters():\n",
                "    #     if param.requires_grad and param.grad is not None:\n",
                "    #         print(f\"Gradient for LLM{name}: {(param.grad > 0).any()}\")\n",
                "\n",
                "\n",
                "# Example of grabbing a batch and inspecting gradients\n",
                "for i in range(1):\n",
                "    sample_batch = next(iter(trainer.get_train_dataloader()))\n",
                "\n",
                "    inspect_gradients(trainer, sample_batch)\n",
                "\n",
                "tens_1 = graph_representation_generator_graph_prompter_hf.model.to(\n",
                "    device=\"cpu\"\n",
                ").state_dict()\n",
                "\n",
                "tens_2 = torch.load(\"./data/gnn/backup/model_128.pth\")\n",
                "same = True\n",
                "for key in tens_1.keys():\n",
                "    if isinstance(tens_1[key], torch.Tensor):\n",
                "        if not (tens_1[key] == tens_2[key]).all():\n",
                "            same = False\n",
                "print(same)"
            ]
        },
        {
            "cell_type": "code",
            "execution_count": 8,
            "metadata": {},
            "outputs": [
                {
                    "data": {
                        "text/plain": [
                            "device(type='cuda', index=0)"
                        ]
                    },
                    "execution_count": 8,
                    "metadata": {},
                    "output_type": "execute_result"
                }
            ],
            "source": [
                "graph_prompter_hf_bert_classifier.model.device"
            ]
        },
        {
            "cell_type": "code",
            "execution_count": null,
            "metadata": {},
            "outputs": [],
            "source": [
                "graph_prompter_hf_bert_classifier.train_model_on_data(\n",
                "    dataset_embedding,\n",
                "    epochs=EPOCHS,\n",
                "    batch_size=BATCH_SIZE_LLM,\n",
                ")\n",
                "graph_representation_generator_graph_prompter_hf.save_model()"
            ]
        },
        {
            "cell_type": "code",
            "execution_count": 15,
            "metadata": {},
            "outputs": [
                {
                    "name": "stdout",
                    "output_type": "stream",
                    "text": [
                        "target_lin.weight is same\n",
                        "target_lin.bias is same\n",
                        "source_emb.weight is same\n",
                        "target_emb.weight is same\n",
                        "gnn.conv1.source__edge__target.lin_l.weight is same\n",
                        "gnn.conv1.source__edge__target.lin_l.bias is same\n",
                        "gnn.conv1.source__edge__target.lin_r.weight is same\n",
                        "gnn.conv1.target__rev_edge__source.lin_l.weight is same\n",
                        "gnn.conv1.target__rev_edge__source.lin_l.bias is same\n",
                        "gnn.conv1.target__rev_edge__source.lin_r.weight is same\n",
                        "gnn.conv2.source__edge__target.lin_l.weight is same\n",
                        "gnn.conv2.source__edge__target.lin_l.bias is same\n",
                        "gnn.conv2.source__edge__target.lin_r.weight is same\n",
                        "gnn.conv2.target__rev_edge__source.lin_l.weight is same\n",
                        "gnn.conv2.target__rev_edge__source.lin_l.bias is same\n",
                        "gnn.conv2.target__rev_edge__source.lin_r.weight is same\n"
                    ]
                }
            ],
            "source": [
                "import torch\n",
                "\n",
                "tens_1 = graph_representation_generator_graph_prompter_hf.model.to(\n",
                "    device=\"cpu\"\n",
                ").state_dict()\n",
                "\n",
                "tens_2 = torch.load(\"./data/gnn/backup/model_128.pth\")\n",
                "for key in tens_1.keys():\n",
                "    if isinstance(tens_1[key], torch.Tensor):\n",
                "        if (tens_1[key] == tens_2[key]).all():\n",
                "            print(key, \"is same\")\n",
                "        else:\n",
                "            print(key, \"is not same\")"
            ]
        },
        {
            "cell_type": "code",
            "execution_count": null,
            "metadata": {},
            "outputs": [],
            "source": []
        }
    ],
    "metadata": {
        "kernelspec": {
            "display_name": "hauptprojekt",
            "language": "python",
            "name": "python3"
        },
        "language_info": {
            "codemirror_mode": {
                "name": "ipython",
                "version": 3
            },
            "file_extension": ".py",
            "mimetype": "text/x-python",
            "name": "python",
            "nbconvert_exporter": "python",
            "pygments_lexer": "ipython3",
            "version": "3.12.4"
        }
    },
    "nbformat": 4,
    "nbformat_minor": 2
}
