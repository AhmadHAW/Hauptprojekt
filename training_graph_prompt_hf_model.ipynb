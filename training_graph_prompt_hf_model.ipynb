{
    "cells": [
        {
            "cell_type": "markdown",
            "metadata": {},
            "source": [
                "# Training and Evaluation of GNNs and LLMs\n",
                "In this notebook, we train the models on the [MovieLens Dataset](https://movielens.org/) after the Pytorch Geometrics Tutorial on [Link Prediction](https://colab.research.google.com/drive/1xpzn1Nvai1ygd_P5Yambc_oe4VBPK_ZT?usp=sharing#scrollTo=vit8xKCiXAue).\n",
                "\n",
                "First we import all of our dependencies.\n",
                "\n",
                "The **GraphRepresentationGenerator** manages and trains a GNN model. Its most important interfaces include\n",
                "**the constructor**, which defines the GNN architecture and loads the pre-trained GNN model if it is already on the hard disk,\n",
                "**the training method**, which initializes the training on the GNN model and\n",
                "**the get_embedding methods**, which represent the inference interface to the GNN model and return the corresponding embeddings in the dimension defined in the constructor for given user movie node pairs.\n",
                "\n",
                "**The MovieLensLoader** loads and manages the data sets. The most important tasks include **saving and (re)loading and transforming** the data sets.\n",
                "\n",
                "**PromptEncoderOnlyClassifier** and **VanillaEncoderOnlyClassifier** each manage a **prompt (model) LLM** and a **vanilla (model) LLM**. An EncoderOnlyClassifier (ClassifierBase) provides interfaces for training and testing an LLM model.\n",
                "PromptEncoder and VanillaEncoder differ from their DataCollectors. DataCollectors change the behavior of the models during training and testing and allow data points to be created at runtime. With the help of these collators, we **create non-existent edges on the fly**."
            ]
        },
        {
            "cell_type": "code",
            "execution_count": 1,
            "metadata": {},
            "outputs": [],
            "source": [
                "from graph_representation_generator.graph_representation_generator import (\n",
                "    GraphRepresentationGenerator,\n",
                ")\n",
                "from dataset_manager.movie_lens_manager import MovieLensManager\n",
                "from dataset_manager.kg_manager import ROOT\n",
                "from llm_manager.graph_prompter_hf.classifier import GraphPrompterHF"
            ]
        },
        {
            "cell_type": "code",
            "execution_count": 2,
            "metadata": {},
            "outputs": [],
            "source": [
                "MODEL_NAME = \"google/bert_uncased_L-2_H-128_A-2\"\n",
                "EPOCHS = 20\n",
                "BATCH_SIZE_LLM = 256"
            ]
        },
        {
            "cell_type": "markdown",
            "metadata": {},
            "source": [
                "We define in advance which **Knowledge Graph Embedding Dimension (KGE_DIMENSION)** the GNN encoder has. We want to determine from which output dimension the GNN encoder can produce embeddings that lead to a significant increase in performance *without exceeding the context length of the LLMs*. In the original tutorial, the KGE_DIMENSION was $64$."
            ]
        },
        {
            "cell_type": "code",
            "execution_count": 3,
            "metadata": {},
            "outputs": [],
            "source": [
                "kg_manager = MovieLensManager()"
            ]
        },
        {
            "cell_type": "markdown",
            "metadata": {},
            "source": [
                "llm_df = kg_manager.llm_df.merge(kg_manager.target_df[[\"id\", \"prompt_feature_title\", \"prompt_feature_genres\"]].rename(columns={\"id\": \"target_id\"}), on = \"target_id\")\n",
                "llm_df"
            ]
        },
        {
            "cell_type": "markdown",
            "metadata": {},
            "source": [
                "First we load the MovieLensLoader, which downloads the Movie Lens dataset (https://files.grouplens.org/datasets/movielens/ml-32m.zip) and prepares it to be used on GNN and LLM. We also pass the embedding dimensions that we will assume we are training with. First time takes approx. 30 sec."
            ]
        },
        {
            "cell_type": "code",
            "execution_count": 4,
            "metadata": {},
            "outputs": [
                {
                    "data": {
                        "text/plain": [
                            "HeteroData(\n",
                            "  source={ node_id=[610] },\n",
                            "  target={\n",
                            "    node_id=[9742],\n",
                            "    x=[9742, 20],\n",
                            "  },\n",
                            "  (source, edge, target)={ edge_index=[2, 100836] },\n",
                            "  (target, rev_edge, source)={ edge_index=[2, 100836] }\n",
                            ")"
                        ]
                    },
                    "execution_count": 4,
                    "metadata": {},
                    "output_type": "execute_result"
                }
            ],
            "source": [
                "kg_manager.data"
            ]
        },
        {
            "cell_type": "markdown",
            "metadata": {},
            "source": [
                "Next, we initialize the GNN trainers (possible on Cuda), one for each KGE_DIMENSION.\n",
                "A GNN trainer manages a model and each model consists of an **encoder and classifier** part.\n",
                "\n",
                "**The encoder** is a parameterized *Grap Convolutional Network (GCN)* with a *2-layer GNN computation graph* and a single *ReLU* activation function in between.\n",
                "\n",
                "**The classifier** applies the dot-product between source and destination kges to derive edge-level predictions."
            ]
        },
        {
            "cell_type": "code",
            "execution_count": 5,
            "metadata": {},
            "outputs": [
                {
                    "name": "stdout",
                    "output_type": "stream",
                    "text": [
                        "loading pretrained model\n",
                        "Device: 'cuda'\n"
                    ]
                }
            ],
            "source": [
                "graph_representation_generator_graph_prompter_hf = GraphRepresentationGenerator(\n",
                "    kg_manager.data.to(\"cuda\"),\n",
                "    kg_manager.gnn_train_data.to(\"cuda\"),\n",
                "    kg_manager.gnn_val_data.to(\"cuda\"),\n",
                "    kg_manager.gnn_test_data.to(\"cuda\"),\n",
                "    hidden_channels=128,\n",
                "    kge_dimension=128,\n",
                "    force_recompute=False,\n",
                "    device=\"cuda\",\n",
                ")"
            ]
        },
        {
            "cell_type": "markdown",
            "metadata": {},
            "source": [
                "Next we produce the KGEs for every edge in the dataset. These embeddings can then be used for the LLM on the link-prediction task."
            ]
        },
        {
            "cell_type": "markdown",
            "metadata": {},
            "source": [
                "Next we initialize the vanilla encoder only classifier. This classifier does only use the NLP part of the prompt (no KGE) for predicting if the given link exists."
            ]
        },
        {
            "cell_type": "code",
            "execution_count": 6,
            "metadata": {},
            "outputs": [
                {
                    "name": "stdout",
                    "output_type": "stream",
                    "text": [
                        "device cuda\n",
                        "5\n",
                        "5\n",
                        "5\n"
                    ]
                }
            ],
            "source": [
                "graph_prompter_hf_bert_classifier = GraphPrompterHF(\n",
                "    kge_manager=kg_manager,\n",
                "    get_embeddings_cb=graph_representation_generator_graph_prompter_hf.get_embeddings,\n",
                "    model_name=MODEL_NAME,\n",
                "    vanilla_model_path=f\"{ROOT}/llm/graph_prompter_hf_frozen/training/best\",\n",
                "    gnn_parameters=list(\n",
                "        graph_representation_generator_graph_prompter_hf.model.parameters()\n",
                "    ),\n",
                ")"
            ]
        },
        {
            "cell_type": "code",
            "execution_count": 7,
            "metadata": {},
            "outputs": [],
            "source": [
                "dataset_embedding = kg_manager.generate_graph_prompter_hf_embedding_dataset(\n",
                "    graph_prompter_hf_bert_classifier.tokenizer.sep_token,\n",
                "    graph_prompter_hf_bert_classifier.tokenizer.pad_token,\n",
                "    graph_prompter_hf_bert_classifier.tokenize_function,\n",
                ")"
            ]
        },
        {
            "cell_type": "code",
            "execution_count": 8,
            "metadata": {},
            "outputs": [
                {
                    "data": {
                        "text/plain": [
                            "device(type='cuda', index=0)"
                        ]
                    },
                    "execution_count": 8,
                    "metadata": {},
                    "output_type": "execute_result"
                }
            ],
            "source": [
                "graph_prompter_hf_bert_classifier.model.device"
            ]
        },
        {
            "cell_type": "code",
            "execution_count": 9,
            "metadata": {},
            "outputs": [
                {
                    "name": "stdout",
                    "output_type": "stream",
                    "text": [
                        "Adding GNN parameters to optimizer\n"
                    ]
                },
                {
                    "data": {
                        "application/vnd.jupyter.widget-view+json": {
                            "model_id": "28fd53f7aff74e49b7394766d9d4f338",
                            "version_major": 2,
                            "version_minor": 0
                        },
                        "text/plain": [
                            "  0%|          | 0/4420 [00:00<?, ?it/s]"
                        ]
                    },
                    "metadata": {},
                    "output_type": "display_data"
                },
                {
                    "name": "stderr",
                    "output_type": "stream",
                    "text": [
                        "c:\\Users\\MARS\\.conda\\envs\\hauptprojekt\\Lib\\site-packages\\transformers\\models\\bert\\modeling_bert.py:440: UserWarning: 1Torch was not compiled with flash attention. (Triggered internally at ..\\aten\\src\\ATen\\native\\transformers\\cuda\\sdp_utils.cpp:455.)\n",
                        "  attn_output = torch.nn.functional.scaled_dot_product_attention(\n"
                    ]
                },
                {
                    "name": "stdout",
                    "output_type": "stream",
                    "text": [
                        "{'loss': 0.355, 'grad_norm': 1.0741111040115356, 'learning_rate': 1.0000000000000002e-06, 'epoch': 0.05}\n",
                        "{'loss': 0.3517, 'grad_norm': 1.876395344734192, 'learning_rate': 2.0000000000000003e-06, 'epoch': 0.09}\n",
                        "{'loss': 0.3609, 'grad_norm': 0.9085135459899902, 'learning_rate': 3e-06, 'epoch': 0.14}\n",
                        "{'loss': 0.3533, 'grad_norm': 2.4121317863464355, 'learning_rate': 4.000000000000001e-06, 'epoch': 0.18}\n",
                        "{'loss': 0.3715, 'grad_norm': 1.5719934701919556, 'learning_rate': 5e-06, 'epoch': 0.23}\n",
                        "{'loss': 0.3641, 'grad_norm': 3.3062729835510254, 'learning_rate': 6e-06, 'epoch': 0.27}\n",
                        "{'loss': 0.3394, 'grad_norm': 1.954710602760315, 'learning_rate': 7.000000000000001e-06, 'epoch': 0.32}\n",
                        "{'loss': 0.3445, 'grad_norm': 0.876276969909668, 'learning_rate': 8.000000000000001e-06, 'epoch': 0.36}\n",
                        "{'loss': 0.348, 'grad_norm': 3.0029659271240234, 'learning_rate': 9e-06, 'epoch': 0.41}\n",
                        "{'loss': 0.3726, 'grad_norm': 1.1106078624725342, 'learning_rate': 1e-05, 'epoch': 0.45}\n",
                        "{'loss': 0.3467, 'grad_norm': 2.5374529361724854, 'learning_rate': 1.1000000000000001e-05, 'epoch': 0.5}\n",
                        "{'loss': 0.3736, 'grad_norm': 1.1131024360656738, 'learning_rate': 1.2e-05, 'epoch': 0.54}\n",
                        "{'loss': 0.3461, 'grad_norm': 1.139830470085144, 'learning_rate': 1.3000000000000001e-05, 'epoch': 0.59}\n",
                        "{'loss': 0.3646, 'grad_norm': 2.285470962524414, 'learning_rate': 1.4000000000000001e-05, 'epoch': 0.63}\n",
                        "{'loss': 0.3748, 'grad_norm': 1.4909911155700684, 'learning_rate': 1.5e-05, 'epoch': 0.68}\n",
                        "{'loss': 0.3459, 'grad_norm': 1.150820255279541, 'learning_rate': 1.6000000000000003e-05, 'epoch': 0.72}\n",
                        "{'loss': 0.357, 'grad_norm': 0.8213694095611572, 'learning_rate': 1.7000000000000003e-05, 'epoch': 0.77}\n",
                        "{'loss': 0.3446, 'grad_norm': 1.293310284614563, 'learning_rate': 1.8e-05, 'epoch': 0.81}\n",
                        "{'loss': 0.3454, 'grad_norm': 0.7824533581733704, 'learning_rate': 1.9e-05, 'epoch': 0.86}\n",
                        "{'loss': 0.3528, 'grad_norm': 1.06234872341156, 'learning_rate': 2e-05, 'epoch': 0.9}\n",
                        "{'loss': 0.3368, 'grad_norm': 0.9920556545257568, 'learning_rate': 2.1e-05, 'epoch': 0.95}\n",
                        "{'loss': 0.3519, 'grad_norm': 0.9085947275161743, 'learning_rate': 2.2000000000000003e-05, 'epoch': 1.0}\n"
                    ]
                },
                {
                    "data": {
                        "application/vnd.jupyter.widget-view+json": {
                            "model_id": "11e5c066faaf4931a2105d8baf95192c",
                            "version_major": 2,
                            "version_minor": 0
                        },
                        "text/plain": [
                            "  0%|          | 0/79 [00:00<?, ?it/s]"
                        ]
                    },
                    "metadata": {},
                    "output_type": "display_data"
                },
                {
                    "name": "stdout",
                    "output_type": "stream",
                    "text": [
                        "{'eval_loss': 0.40815994143486023, 'eval_accuracy': 0.8198948725577705, 'eval_runtime': 25.1849, 'eval_samples_per_second': 800.716, 'eval_steps_per_second': 3.137, 'epoch': 1.0}\n",
                        "{'loss': 0.321, 'grad_norm': 1.1981068849563599, 'learning_rate': 2.3000000000000003e-05, 'epoch': 1.04}\n",
                        "{'loss': 0.3285, 'grad_norm': 1.0269941091537476, 'learning_rate': 2.4e-05, 'epoch': 1.09}\n",
                        "{'loss': 0.3332, 'grad_norm': 1.42103910446167, 'learning_rate': 2.5e-05, 'epoch': 1.13}\n",
                        "{'loss': 0.3398, 'grad_norm': 1.0261763334274292, 'learning_rate': 2.6000000000000002e-05, 'epoch': 1.18}\n",
                        "{'loss': 0.3434, 'grad_norm': 1.1420198678970337, 'learning_rate': 2.7000000000000002e-05, 'epoch': 1.22}\n",
                        "{'loss': 0.3436, 'grad_norm': 1.1744475364685059, 'learning_rate': 2.8000000000000003e-05, 'epoch': 1.27}\n",
                        "{'loss': 0.341, 'grad_norm': 0.8749231696128845, 'learning_rate': 2.9e-05, 'epoch': 1.31}\n",
                        "{'loss': 0.3241, 'grad_norm': 0.862678587436676, 'learning_rate': 3e-05, 'epoch': 1.36}\n",
                        "{'loss': 0.327, 'grad_norm': 0.9912427067756653, 'learning_rate': 3.1e-05, 'epoch': 1.4}\n",
                        "{'loss': 0.3409, 'grad_norm': 0.9047075510025024, 'learning_rate': 3.2000000000000005e-05, 'epoch': 1.45}\n",
                        "{'loss': 0.3237, 'grad_norm': 0.8651724457740784, 'learning_rate': 3.3e-05, 'epoch': 1.49}\n",
                        "{'loss': 0.339, 'grad_norm': 0.7985240817070007, 'learning_rate': 3.4000000000000007e-05, 'epoch': 1.54}\n",
                        "{'loss': 0.3309, 'grad_norm': 0.9190462827682495, 'learning_rate': 3.5e-05, 'epoch': 1.58}\n",
                        "{'loss': 0.3284, 'grad_norm': 1.3540695905685425, 'learning_rate': 3.6e-05, 'epoch': 1.63}\n",
                        "{'loss': 0.3323, 'grad_norm': 0.9062365889549255, 'learning_rate': 3.7e-05, 'epoch': 1.67}\n",
                        "{'loss': 0.3227, 'grad_norm': 1.0368905067443848, 'learning_rate': 3.8e-05, 'epoch': 1.72}\n",
                        "{'loss': 0.3503, 'grad_norm': 0.9445332288742065, 'learning_rate': 3.9000000000000006e-05, 'epoch': 1.76}\n",
                        "{'loss': 0.3462, 'grad_norm': 1.582594871520996, 'learning_rate': 4e-05, 'epoch': 1.81}\n",
                        "{'loss': 0.3187, 'grad_norm': 1.0749242305755615, 'learning_rate': 4.1e-05, 'epoch': 1.86}\n",
                        "{'loss': 0.3405, 'grad_norm': 1.1813874244689941, 'learning_rate': 4.2e-05, 'epoch': 1.9}\n",
                        "{'loss': 0.3383, 'grad_norm': 0.9002544283866882, 'learning_rate': 4.3e-05, 'epoch': 1.95}\n",
                        "{'loss': 0.3361, 'grad_norm': 0.9413397312164307, 'learning_rate': 4.4000000000000006e-05, 'epoch': 1.99}\n"
                    ]
                },
                {
                    "data": {
                        "application/vnd.jupyter.widget-view+json": {
                            "model_id": "b145b903f5254f3f8bdb449d3691f212",
                            "version_major": 2,
                            "version_minor": 0
                        },
                        "text/plain": [
                            "  0%|          | 0/79 [00:00<?, ?it/s]"
                        ]
                    },
                    "metadata": {},
                    "output_type": "display_data"
                },
                {
                    "name": "stdout",
                    "output_type": "stream",
                    "text": [
                        "{'eval_loss': 0.39680215716362, 'eval_accuracy': 0.8296142021223842, 'eval_runtime': 25.0548, 'eval_samples_per_second': 804.875, 'eval_steps_per_second': 3.153, 'epoch': 2.0}\n",
                        "{'loss': 0.3373, 'grad_norm': 0.7364561557769775, 'learning_rate': 4.5e-05, 'epoch': 2.04}\n",
                        "{'loss': 0.3266, 'grad_norm': 1.0501465797424316, 'learning_rate': 4.600000000000001e-05, 'epoch': 2.08}\n",
                        "{'loss': 0.3261, 'grad_norm': 0.9130332469940186, 'learning_rate': 4.7e-05, 'epoch': 2.13}\n",
                        "{'loss': 0.3221, 'grad_norm': 0.8499203324317932, 'learning_rate': 4.8e-05, 'epoch': 2.17}\n",
                        "{'loss': 0.3307, 'grad_norm': 0.8420438170433044, 'learning_rate': 4.9e-05, 'epoch': 2.22}\n",
                        "{'loss': 0.3338, 'grad_norm': 0.9202855825424194, 'learning_rate': 5e-05, 'epoch': 2.26}\n",
                        "{'loss': 0.3218, 'grad_norm': 1.2867136001586914, 'learning_rate': 4.987244897959184e-05, 'epoch': 2.31}\n",
                        "{'loss': 0.3363, 'grad_norm': 0.9354099631309509, 'learning_rate': 4.974489795918368e-05, 'epoch': 2.35}\n",
                        "{'loss': 0.3181, 'grad_norm': 0.8162130117416382, 'learning_rate': 4.961734693877551e-05, 'epoch': 2.4}\n",
                        "{'loss': 0.3352, 'grad_norm': 0.9358385801315308, 'learning_rate': 4.9489795918367346e-05, 'epoch': 2.44}\n",
                        "{'loss': 0.3306, 'grad_norm': 0.8254494667053223, 'learning_rate': 4.9362244897959184e-05, 'epoch': 2.49}\n",
                        "{'loss': 0.323, 'grad_norm': 0.9707921147346497, 'learning_rate': 4.923469387755102e-05, 'epoch': 2.53}\n",
                        "{'loss': 0.3214, 'grad_norm': 1.7145153284072876, 'learning_rate': 4.910714285714286e-05, 'epoch': 2.58}\n",
                        "{'loss': 0.3274, 'grad_norm': 0.9545900225639343, 'learning_rate': 4.89795918367347e-05, 'epoch': 2.62}\n",
                        "{'loss': 0.3206, 'grad_norm': 1.008620023727417, 'learning_rate': 4.8852040816326534e-05, 'epoch': 2.67}\n",
                        "{'loss': 0.3096, 'grad_norm': 1.0070559978485107, 'learning_rate': 4.872448979591837e-05, 'epoch': 2.71}\n",
                        "{'loss': 0.3239, 'grad_norm': 0.7039495706558228, 'learning_rate': 4.859693877551021e-05, 'epoch': 2.76}\n",
                        "{'loss': 0.3072, 'grad_norm': 1.3201065063476562, 'learning_rate': 4.846938775510204e-05, 'epoch': 2.81}\n",
                        "{'loss': 0.3208, 'grad_norm': 0.779048502445221, 'learning_rate': 4.834183673469388e-05, 'epoch': 2.85}\n",
                        "{'loss': 0.3254, 'grad_norm': 1.3697763681411743, 'learning_rate': 4.8214285714285716e-05, 'epoch': 2.9}\n",
                        "{'loss': 0.3283, 'grad_norm': 0.8825127482414246, 'learning_rate': 4.8086734693877554e-05, 'epoch': 2.94}\n",
                        "{'loss': 0.3205, 'grad_norm': 0.7667142748832703, 'learning_rate': 4.795918367346939e-05, 'epoch': 2.99}\n"
                    ]
                },
                {
                    "data": {
                        "application/vnd.jupyter.widget-view+json": {
                            "model_id": "1d8ce8a46a504b5a83c440f4236a9981",
                            "version_major": 2,
                            "version_minor": 0
                        },
                        "text/plain": [
                            "  0%|          | 0/79 [00:00<?, ?it/s]"
                        ]
                    },
                    "metadata": {},
                    "output_type": "display_data"
                },
                {
                    "name": "stdout",
                    "output_type": "stream",
                    "text": [
                        "{'eval_loss': 0.38974353671073914, 'eval_accuracy': 0.8294158484578003, 'eval_runtime': 25.1772, 'eval_samples_per_second': 800.964, 'eval_steps_per_second': 3.138, 'epoch': 3.0}\n",
                        "{'loss': 0.3238, 'grad_norm': 1.3200784921646118, 'learning_rate': 4.783163265306123e-05, 'epoch': 3.03}\n",
                        "{'loss': 0.3049, 'grad_norm': 0.9575657248497009, 'learning_rate': 4.7704081632653066e-05, 'epoch': 3.08}\n",
                        "{'loss': 0.3147, 'grad_norm': 0.6802219152450562, 'learning_rate': 4.7576530612244904e-05, 'epoch': 3.12}\n",
                        "{'loss': 0.3097, 'grad_norm': 0.9902365207672119, 'learning_rate': 4.744897959183674e-05, 'epoch': 3.17}\n",
                        "{'loss': 0.3209, 'grad_norm': 1.1015164852142334, 'learning_rate': 4.732142857142857e-05, 'epoch': 3.21}\n",
                        "{'loss': 0.3071, 'grad_norm': 0.8271260261535645, 'learning_rate': 4.719387755102041e-05, 'epoch': 3.26}\n",
                        "{'loss': 0.3249, 'grad_norm': 0.8030689358711243, 'learning_rate': 4.706632653061225e-05, 'epoch': 3.3}\n",
                        "{'loss': 0.3114, 'grad_norm': 0.7284666299819946, 'learning_rate': 4.6938775510204086e-05, 'epoch': 3.35}\n",
                        "{'loss': 0.3347, 'grad_norm': 1.2286990880966187, 'learning_rate': 4.6811224489795916e-05, 'epoch': 3.39}\n",
                        "{'loss': 0.3197, 'grad_norm': 0.9015104174613953, 'learning_rate': 4.6683673469387754e-05, 'epoch': 3.44}\n",
                        "{'loss': 0.3443, 'grad_norm': 0.9068851470947266, 'learning_rate': 4.655612244897959e-05, 'epoch': 3.48}\n",
                        "{'loss': 0.3239, 'grad_norm': 0.8100041151046753, 'learning_rate': 4.642857142857143e-05, 'epoch': 3.53}\n",
                        "{'loss': 0.3255, 'grad_norm': 0.8545413613319397, 'learning_rate': 4.630102040816327e-05, 'epoch': 3.57}\n",
                        "{'loss': 0.3372, 'grad_norm': 0.7532680630683899, 'learning_rate': 4.6173469387755105e-05, 'epoch': 3.62}\n",
                        "{'loss': 0.3407, 'grad_norm': 1.0571742057800293, 'learning_rate': 4.604591836734694e-05, 'epoch': 3.67}\n",
                        "{'loss': 0.3144, 'grad_norm': 1.1023482084274292, 'learning_rate': 4.591836734693878e-05, 'epoch': 3.71}\n",
                        "{'loss': 0.3182, 'grad_norm': 0.9657694697380066, 'learning_rate': 4.579081632653062e-05, 'epoch': 3.76}\n",
                        "{'loss': 0.33, 'grad_norm': 0.7502360939979553, 'learning_rate': 4.566326530612245e-05, 'epoch': 3.8}\n",
                        "{'loss': 0.3256, 'grad_norm': 0.7057257890701294, 'learning_rate': 4.5535714285714286e-05, 'epoch': 3.85}\n",
                        "{'loss': 0.3335, 'grad_norm': 1.257323145866394, 'learning_rate': 4.5408163265306124e-05, 'epoch': 3.89}\n",
                        "{'loss': 0.3131, 'grad_norm': 0.7381221652030945, 'learning_rate': 4.528061224489796e-05, 'epoch': 3.94}\n",
                        "{'loss': 0.327, 'grad_norm': 0.8000094890594482, 'learning_rate': 4.515306122448979e-05, 'epoch': 3.98}\n"
                    ]
                },
                {
                    "data": {
                        "application/vnd.jupyter.widget-view+json": {
                            "model_id": "246628d75aa347f596e94f7287e3fbab",
                            "version_major": 2,
                            "version_minor": 0
                        },
                        "text/plain": [
                            "  0%|          | 0/79 [00:00<?, ?it/s]"
                        ]
                    },
                    "metadata": {},
                    "output_type": "display_data"
                },
                {
                    "name": "stdout",
                    "output_type": "stream",
                    "text": [
                        "{'eval_loss': 0.39990898966789246, 'eval_accuracy': 0.8269364276505008, 'eval_runtime': 25.1034, 'eval_samples_per_second': 803.317, 'eval_steps_per_second': 3.147, 'epoch': 4.0}\n",
                        "{'loss': 0.3131, 'grad_norm': 0.9976614713668823, 'learning_rate': 4.502551020408164e-05, 'epoch': 4.03}\n",
                        "{'loss': 0.3061, 'grad_norm': 0.8106124997138977, 'learning_rate': 4.4897959183673474e-05, 'epoch': 4.07}\n",
                        "{'loss': 0.2996, 'grad_norm': 1.612487554550171, 'learning_rate': 4.477040816326531e-05, 'epoch': 4.12}\n",
                        "{'loss': 0.3309, 'grad_norm': 1.1184052228927612, 'learning_rate': 4.464285714285715e-05, 'epoch': 4.16}\n",
                        "{'loss': 0.3209, 'grad_norm': 1.0129389762878418, 'learning_rate': 4.451530612244898e-05, 'epoch': 4.21}\n",
                        "{'loss': 0.3172, 'grad_norm': 0.9195023775100708, 'learning_rate': 4.438775510204082e-05, 'epoch': 4.25}\n",
                        "{'loss': 0.324, 'grad_norm': 1.047583818435669, 'learning_rate': 4.4260204081632656e-05, 'epoch': 4.3}\n",
                        "{'loss': 0.3171, 'grad_norm': 1.625493049621582, 'learning_rate': 4.4132653061224493e-05, 'epoch': 4.34}\n",
                        "{'loss': 0.3045, 'grad_norm': 0.9458743929862976, 'learning_rate': 4.4005102040816324e-05, 'epoch': 4.39}\n",
                        "{'loss': 0.3113, 'grad_norm': 1.0694355964660645, 'learning_rate': 4.387755102040816e-05, 'epoch': 4.43}\n",
                        "{'loss': 0.3079, 'grad_norm': 1.3430010080337524, 'learning_rate': 4.375e-05, 'epoch': 4.48}\n",
                        "{'loss': 0.3093, 'grad_norm': 0.9499574303627014, 'learning_rate': 4.362244897959184e-05, 'epoch': 4.52}\n",
                        "{'loss': 0.3171, 'grad_norm': 0.7539573907852173, 'learning_rate': 4.3494897959183675e-05, 'epoch': 4.57}\n",
                        "{'loss': 0.3174, 'grad_norm': 0.6960327625274658, 'learning_rate': 4.336734693877551e-05, 'epoch': 4.62}\n",
                        "{'loss': 0.3451, 'grad_norm': 1.32610023021698, 'learning_rate': 4.323979591836735e-05, 'epoch': 4.66}\n",
                        "{'loss': 0.3149, 'grad_norm': 0.8039104342460632, 'learning_rate': 4.311224489795919e-05, 'epoch': 4.71}\n",
                        "{'loss': 0.3195, 'grad_norm': 1.078299880027771, 'learning_rate': 4.2984693877551025e-05, 'epoch': 4.75}\n",
                        "{'loss': 0.3249, 'grad_norm': 1.0636725425720215, 'learning_rate': 4.2857142857142856e-05, 'epoch': 4.8}\n",
                        "{'loss': 0.2968, 'grad_norm': 0.7604073286056519, 'learning_rate': 4.2729591836734694e-05, 'epoch': 4.84}\n",
                        "{'loss': 0.3226, 'grad_norm': 0.8535388112068176, 'learning_rate': 4.260204081632653e-05, 'epoch': 4.89}\n",
                        "{'loss': 0.3332, 'grad_norm': 0.7342921495437622, 'learning_rate': 4.247448979591837e-05, 'epoch': 4.93}\n",
                        "{'loss': 0.3419, 'grad_norm': 0.9859388470649719, 'learning_rate': 4.234693877551021e-05, 'epoch': 4.98}\n"
                    ]
                },
                {
                    "data": {
                        "application/vnd.jupyter.widget-view+json": {
                            "model_id": "45b0b835e2e7442783f236d14ade5ec4",
                            "version_major": 2,
                            "version_minor": 0
                        },
                        "text/plain": [
                            "  0%|          | 0/79 [00:00<?, ?it/s]"
                        ]
                    },
                    "metadata": {},
                    "output_type": "display_data"
                },
                {
                    "name": "stdout",
                    "output_type": "stream",
                    "text": [
                        "{'eval_loss': 0.3860858678817749, 'eval_accuracy': 0.8289199642963404, 'eval_runtime': 25.1535, 'eval_samples_per_second': 801.717, 'eval_steps_per_second': 3.141, 'epoch': 5.0}\n",
                        "{'loss': 0.3109, 'grad_norm': 0.8640084862709045, 'learning_rate': 4.2219387755102045e-05, 'epoch': 5.02}\n",
                        "{'loss': 0.3075, 'grad_norm': 1.278978705406189, 'learning_rate': 4.209183673469388e-05, 'epoch': 5.07}\n",
                        "{'loss': 0.3112, 'grad_norm': 0.7452021241188049, 'learning_rate': 4.196428571428572e-05, 'epoch': 5.11}\n",
                        "{'loss': 0.3115, 'grad_norm': 1.0173640251159668, 'learning_rate': 4.183673469387756e-05, 'epoch': 5.16}\n",
                        "{'loss': 0.2995, 'grad_norm': 1.6588777303695679, 'learning_rate': 4.170918367346939e-05, 'epoch': 5.2}\n",
                        "{'loss': 0.3092, 'grad_norm': 0.7470638155937195, 'learning_rate': 4.1581632653061226e-05, 'epoch': 5.25}\n",
                        "{'loss': 0.3176, 'grad_norm': 1.3117096424102783, 'learning_rate': 4.1454081632653064e-05, 'epoch': 5.29}\n",
                        "{'loss': 0.295, 'grad_norm': 0.9412911534309387, 'learning_rate': 4.13265306122449e-05, 'epoch': 5.34}\n",
                        "{'loss': 0.3181, 'grad_norm': 1.3034008741378784, 'learning_rate': 4.119897959183674e-05, 'epoch': 5.38}\n",
                        "{'loss': 0.3373, 'grad_norm': 0.7568695545196533, 'learning_rate': 4.107142857142857e-05, 'epoch': 5.43}\n",
                        "{'loss': 0.3113, 'grad_norm': 1.2290900945663452, 'learning_rate': 4.094387755102041e-05, 'epoch': 5.48}\n",
                        "{'loss': 0.3126, 'grad_norm': 1.0971192121505737, 'learning_rate': 4.0816326530612245e-05, 'epoch': 5.52}\n",
                        "{'loss': 0.3122, 'grad_norm': 1.4092645645141602, 'learning_rate': 4.068877551020408e-05, 'epoch': 5.57}\n",
                        "{'loss': 0.3047, 'grad_norm': 0.6944735646247864, 'learning_rate': 4.056122448979592e-05, 'epoch': 5.61}\n",
                        "{'loss': 0.307, 'grad_norm': 0.9832459688186646, 'learning_rate': 4.043367346938776e-05, 'epoch': 5.66}\n",
                        "{'loss': 0.3104, 'grad_norm': 1.0486363172531128, 'learning_rate': 4.0306122448979596e-05, 'epoch': 5.7}\n",
                        "{'loss': 0.3112, 'grad_norm': 0.8825256824493408, 'learning_rate': 4.017857142857143e-05, 'epoch': 5.75}\n",
                        "{'loss': 0.3248, 'grad_norm': 1.2837151288986206, 'learning_rate': 4.0051020408163264e-05, 'epoch': 5.79}\n",
                        "{'loss': 0.3073, 'grad_norm': 0.6249525547027588, 'learning_rate': 3.99234693877551e-05, 'epoch': 5.84}\n",
                        "{'loss': 0.3095, 'grad_norm': 0.7522197961807251, 'learning_rate': 3.979591836734694e-05, 'epoch': 5.88}\n",
                        "{'loss': 0.3183, 'grad_norm': 1.1241356134414673, 'learning_rate': 3.966836734693878e-05, 'epoch': 5.93}\n",
                        "{'loss': 0.3374, 'grad_norm': 0.9454697370529175, 'learning_rate': 3.9540816326530615e-05, 'epoch': 5.97}\n"
                    ]
                },
                {
                    "data": {
                        "application/vnd.jupyter.widget-view+json": {
                            "model_id": "5975ab005db54bbc96a265b162d36670",
                            "version_major": 2,
                            "version_minor": 0
                        },
                        "text/plain": [
                            "  0%|          | 0/79 [00:00<?, ?it/s]"
                        ]
                    },
                    "metadata": {},
                    "output_type": "display_data"
                },
                {
                    "name": "stdout",
                    "output_type": "stream",
                    "text": [
                        "{'eval_loss': 0.3716958463191986, 'eval_accuracy': 0.8376971139541803, 'eval_runtime': 25.0838, 'eval_samples_per_second': 803.946, 'eval_steps_per_second': 3.149, 'epoch': 6.0}\n",
                        "{'loss': 0.3249, 'grad_norm': 0.845267653465271, 'learning_rate': 3.9413265306122446e-05, 'epoch': 6.02}\n",
                        "{'loss': 0.3042, 'grad_norm': 0.7267133593559265, 'learning_rate': 3.928571428571429e-05, 'epoch': 6.06}\n",
                        "{'loss': 0.3059, 'grad_norm': 1.2131600379943848, 'learning_rate': 3.915816326530613e-05, 'epoch': 6.11}\n",
                        "{'loss': 0.2997, 'grad_norm': 1.5444597005844116, 'learning_rate': 3.9030612244897965e-05, 'epoch': 6.15}\n",
                        "{'loss': 0.3154, 'grad_norm': 0.7504377961158752, 'learning_rate': 3.8903061224489796e-05, 'epoch': 6.2}\n",
                        "{'loss': 0.3212, 'grad_norm': 0.9384281039237976, 'learning_rate': 3.8775510204081634e-05, 'epoch': 6.24}\n",
                        "{'loss': 0.3047, 'grad_norm': 0.7232848405838013, 'learning_rate': 3.864795918367347e-05, 'epoch': 6.29}\n",
                        "{'loss': 0.3101, 'grad_norm': 0.7312148213386536, 'learning_rate': 3.852040816326531e-05, 'epoch': 6.33}\n",
                        "{'loss': 0.3211, 'grad_norm': 0.999066948890686, 'learning_rate': 3.839285714285715e-05, 'epoch': 6.38}\n",
                        "{'loss': 0.3253, 'grad_norm': 0.6205547451972961, 'learning_rate': 3.826530612244898e-05, 'epoch': 6.43}\n",
                        "{'loss': 0.312, 'grad_norm': 0.7064526081085205, 'learning_rate': 3.8137755102040815e-05, 'epoch': 6.47}\n",
                        "{'loss': 0.3071, 'grad_norm': 0.6112321019172668, 'learning_rate': 3.801020408163265e-05, 'epoch': 6.52}\n",
                        "{'loss': 0.3287, 'grad_norm': 1.2004010677337646, 'learning_rate': 3.788265306122449e-05, 'epoch': 6.56}\n",
                        "{'loss': 0.2949, 'grad_norm': 0.6596394181251526, 'learning_rate': 3.775510204081633e-05, 'epoch': 6.61}\n",
                        "{'loss': 0.3024, 'grad_norm': 0.7075040936470032, 'learning_rate': 3.7627551020408166e-05, 'epoch': 6.65}\n",
                        "{'loss': 0.3132, 'grad_norm': 0.9268050789833069, 'learning_rate': 3.7500000000000003e-05, 'epoch': 6.7}\n",
                        "{'loss': 0.2899, 'grad_norm': 0.6498728394508362, 'learning_rate': 3.737244897959184e-05, 'epoch': 6.74}\n",
                        "{'loss': 0.3105, 'grad_norm': 0.9733160138130188, 'learning_rate': 3.724489795918368e-05, 'epoch': 6.79}\n",
                        "{'loss': 0.3092, 'grad_norm': 1.2578871250152588, 'learning_rate': 3.711734693877551e-05, 'epoch': 6.83}\n",
                        "{'loss': 0.3023, 'grad_norm': 0.8576549291610718, 'learning_rate': 3.698979591836735e-05, 'epoch': 6.88}\n",
                        "{'loss': 0.3026, 'grad_norm': 0.9065715670585632, 'learning_rate': 3.6862244897959185e-05, 'epoch': 6.92}\n",
                        "{'loss': 0.3076, 'grad_norm': 1.0400395393371582, 'learning_rate': 3.673469387755102e-05, 'epoch': 6.97}\n"
                    ]
                },
                {
                    "data": {
                        "application/vnd.jupyter.widget-view+json": {
                            "model_id": "e5e0754b38df4a369f8266d9d9c6094b",
                            "version_major": 2,
                            "version_minor": 0
                        },
                        "text/plain": [
                            "  0%|          | 0/79 [00:00<?, ?it/s]"
                        ]
                    },
                    "metadata": {},
                    "output_type": "display_data"
                },
                {
                    "name": "stdout",
                    "output_type": "stream",
                    "text": [
                        "{'eval_loss': 0.39719563722610474, 'eval_accuracy': 0.8281761380541506, 'eval_runtime': 25.1109, 'eval_samples_per_second': 803.077, 'eval_steps_per_second': 3.146, 'epoch': 7.0}\n",
                        "{'loss': 0.335, 'grad_norm': 1.0525916814804077, 'learning_rate': 3.6607142857142853e-05, 'epoch': 7.01}\n",
                        "{'loss': 0.315, 'grad_norm': 0.7825809121131897, 'learning_rate': 3.64795918367347e-05, 'epoch': 7.06}\n",
                        "{'loss': 0.3012, 'grad_norm': 0.7532649040222168, 'learning_rate': 3.6352040816326536e-05, 'epoch': 7.1}\n",
                        "{'loss': 0.3211, 'grad_norm': 0.9102079272270203, 'learning_rate': 3.622448979591837e-05, 'epoch': 7.15}\n",
                        "{'loss': 0.308, 'grad_norm': 0.7587213516235352, 'learning_rate': 3.609693877551021e-05, 'epoch': 7.19}\n",
                        "{'loss': 0.3172, 'grad_norm': 0.6602509617805481, 'learning_rate': 3.596938775510204e-05, 'epoch': 7.24}\n",
                        "{'loss': 0.3214, 'grad_norm': 1.143277883529663, 'learning_rate': 3.584183673469388e-05, 'epoch': 7.29}\n",
                        "{'loss': 0.3201, 'grad_norm': 0.8287230730056763, 'learning_rate': 3.571428571428572e-05, 'epoch': 7.33}\n",
                        "{'loss': 0.3177, 'grad_norm': 0.8855326175689697, 'learning_rate': 3.5586734693877555e-05, 'epoch': 7.38}\n",
                        "{'loss': 0.3161, 'grad_norm': 0.8340751528739929, 'learning_rate': 3.5459183673469385e-05, 'epoch': 7.42}\n",
                        "{'loss': 0.2981, 'grad_norm': 0.7211651802062988, 'learning_rate': 3.533163265306122e-05, 'epoch': 7.47}\n",
                        "{'loss': 0.2975, 'grad_norm': 0.6814972758293152, 'learning_rate': 3.520408163265306e-05, 'epoch': 7.51}\n",
                        "{'loss': 0.2981, 'grad_norm': 0.6571587920188904, 'learning_rate': 3.50765306122449e-05, 'epoch': 7.56}\n",
                        "{'loss': 0.3094, 'grad_norm': 0.7521306872367859, 'learning_rate': 3.4948979591836736e-05, 'epoch': 7.6}\n",
                        "{'loss': 0.3203, 'grad_norm': 1.1573506593704224, 'learning_rate': 3.4821428571428574e-05, 'epoch': 7.65}\n",
                        "{'loss': 0.3156, 'grad_norm': 0.9053794741630554, 'learning_rate': 3.469387755102041e-05, 'epoch': 7.69}\n",
                        "{'loss': 0.3016, 'grad_norm': 0.9254421591758728, 'learning_rate': 3.456632653061225e-05, 'epoch': 7.74}\n",
                        "{'loss': 0.3189, 'grad_norm': 0.6061012744903564, 'learning_rate': 3.443877551020409e-05, 'epoch': 7.78}\n",
                        "{'loss': 0.2948, 'grad_norm': 0.9117426872253418, 'learning_rate': 3.431122448979592e-05, 'epoch': 7.83}\n",
                        "{'loss': 0.3142, 'grad_norm': 0.8105942010879517, 'learning_rate': 3.4183673469387755e-05, 'epoch': 7.87}\n",
                        "{'loss': 0.2947, 'grad_norm': 0.8635097742080688, 'learning_rate': 3.405612244897959e-05, 'epoch': 7.92}\n",
                        "{'loss': 0.3131, 'grad_norm': 0.6810377240180969, 'learning_rate': 3.392857142857143e-05, 'epoch': 7.96}\n"
                    ]
                },
                {
                    "data": {
                        "application/vnd.jupyter.widget-view+json": {
                            "model_id": "192297b958834ca5bda40a4920de4aeb",
                            "version_major": 2,
                            "version_minor": 0
                        },
                        "text/plain": [
                            "  0%|          | 0/79 [00:00<?, ?it/s]"
                        ]
                    },
                    "metadata": {},
                    "output_type": "display_data"
                },
                {
                    "name": "stdout",
                    "output_type": "stream",
                    "text": [
                        "{'eval_loss': 0.3808134198188782, 'eval_accuracy': 0.8333333333333334, 'eval_runtime': 25.1981, 'eval_samples_per_second': 800.298, 'eval_steps_per_second': 3.135, 'epoch': 8.0}\n",
                        "{'loss': 0.3156, 'grad_norm': 0.873103678226471, 'learning_rate': 3.380102040816326e-05, 'epoch': 8.01}\n",
                        "{'loss': 0.3079, 'grad_norm': 0.643046498298645, 'learning_rate': 3.36734693877551e-05, 'epoch': 8.05}\n",
                        "{'loss': 0.294, 'grad_norm': 0.663425624370575, 'learning_rate': 3.354591836734694e-05, 'epoch': 8.1}\n",
                        "{'loss': 0.3314, 'grad_norm': 0.7626339793205261, 'learning_rate': 3.341836734693878e-05, 'epoch': 8.14}\n",
                        "{'loss': 0.3105, 'grad_norm': 0.8124741911888123, 'learning_rate': 3.329081632653062e-05, 'epoch': 8.19}\n",
                        "{'loss': 0.2906, 'grad_norm': 1.0091280937194824, 'learning_rate': 3.316326530612245e-05, 'epoch': 8.24}\n",
                        "{'loss': 0.3239, 'grad_norm': 1.1109000444412231, 'learning_rate': 3.303571428571429e-05, 'epoch': 8.28}\n",
                        "{'loss': 0.2889, 'grad_norm': 0.6811895966529846, 'learning_rate': 3.2908163265306125e-05, 'epoch': 8.33}\n",
                        "{'loss': 0.3058, 'grad_norm': 0.7907837629318237, 'learning_rate': 3.278061224489796e-05, 'epoch': 8.37}\n",
                        "{'loss': 0.3044, 'grad_norm': 0.7142947912216187, 'learning_rate': 3.265306122448979e-05, 'epoch': 8.42}\n",
                        "{'loss': 0.3088, 'grad_norm': 0.7035617232322693, 'learning_rate': 3.252551020408163e-05, 'epoch': 8.46}\n",
                        "{'loss': 0.2869, 'grad_norm': 0.6139506697654724, 'learning_rate': 3.239795918367347e-05, 'epoch': 8.51}\n",
                        "{'loss': 0.2841, 'grad_norm': 0.6553863883018494, 'learning_rate': 3.2270408163265306e-05, 'epoch': 8.55}\n",
                        "{'loss': 0.2978, 'grad_norm': 0.9269838929176331, 'learning_rate': 3.2142857142857144e-05, 'epoch': 8.6}\n",
                        "{'loss': 0.2905, 'grad_norm': 0.7686424255371094, 'learning_rate': 3.201530612244898e-05, 'epoch': 8.64}\n",
                        "{'loss': 0.3067, 'grad_norm': 0.7028532028198242, 'learning_rate': 3.188775510204082e-05, 'epoch': 8.69}\n",
                        "{'loss': 0.3035, 'grad_norm': 0.773453414440155, 'learning_rate': 3.176020408163266e-05, 'epoch': 8.73}\n",
                        "{'loss': 0.29, 'grad_norm': 0.6323313117027283, 'learning_rate': 3.1632653061224494e-05, 'epoch': 8.78}\n",
                        "{'loss': 0.3201, 'grad_norm': 0.5913547277450562, 'learning_rate': 3.1505102040816325e-05, 'epoch': 8.82}\n",
                        "{'loss': 0.3182, 'grad_norm': 0.7830720543861389, 'learning_rate': 3.137755102040816e-05, 'epoch': 8.87}\n",
                        "{'loss': 0.2928, 'grad_norm': 0.6412796378135681, 'learning_rate': 3.125e-05, 'epoch': 8.91}\n",
                        "{'loss': 0.3032, 'grad_norm': 0.7298560738563538, 'learning_rate': 3.112244897959184e-05, 'epoch': 8.96}\n"
                    ]
                },
                {
                    "data": {
                        "application/vnd.jupyter.widget-view+json": {
                            "model_id": "41531723fe9f4f04b8f707105e06b7d5",
                            "version_major": 2,
                            "version_minor": 0
                        },
                        "text/plain": [
                            "  0%|          | 0/79 [00:00<?, ?it/s]"
                        ]
                    },
                    "metadata": {},
                    "output_type": "display_data"
                },
                {
                    "name": "stdout",
                    "output_type": "stream",
                    "text": [
                        "{'eval_loss': 0.39749082922935486, 'eval_accuracy': 0.8306059704453039, 'eval_runtime': 25.1714, 'eval_samples_per_second': 801.147, 'eval_steps_per_second': 3.138, 'epoch': 9.0}\n",
                        "{'loss': 0.2928, 'grad_norm': 0.9235753417015076, 'learning_rate': 3.0994897959183676e-05, 'epoch': 9.0}\n",
                        "{'loss': 0.3083, 'grad_norm': 0.8418534398078918, 'learning_rate': 3.086734693877551e-05, 'epoch': 9.05}\n",
                        "{'loss': 0.305, 'grad_norm': 0.7816949486732483, 'learning_rate': 3.073979591836735e-05, 'epoch': 9.1}\n",
                        "{'loss': 0.3038, 'grad_norm': 1.0521022081375122, 'learning_rate': 3.061224489795919e-05, 'epoch': 9.14}\n",
                        "{'loss': 0.3065, 'grad_norm': 0.7270749807357788, 'learning_rate': 3.0484693877551023e-05, 'epoch': 9.19}\n",
                        "{'loss': 0.3057, 'grad_norm': 0.9143624901771545, 'learning_rate': 3.0357142857142857e-05, 'epoch': 9.23}\n",
                        "{'loss': 0.2908, 'grad_norm': 1.1849206686019897, 'learning_rate': 3.0229591836734695e-05, 'epoch': 9.28}\n",
                        "{'loss': 0.2814, 'grad_norm': 0.7129260301589966, 'learning_rate': 3.0102040816326533e-05, 'epoch': 9.32}\n",
                        "{'loss': 0.2931, 'grad_norm': 0.7791487574577332, 'learning_rate': 2.997448979591837e-05, 'epoch': 9.37}\n",
                        "{'loss': 0.2968, 'grad_norm': 0.9854655861854553, 'learning_rate': 2.9846938775510208e-05, 'epoch': 9.41}\n",
                        "{'loss': 0.3172, 'grad_norm': 0.9898658394813538, 'learning_rate': 2.9719387755102042e-05, 'epoch': 9.46}\n",
                        "{'loss': 0.3082, 'grad_norm': 1.0520129203796387, 'learning_rate': 2.959183673469388e-05, 'epoch': 9.5}\n",
                        "{'loss': 0.2886, 'grad_norm': 0.5712546706199646, 'learning_rate': 2.9464285714285718e-05, 'epoch': 9.55}\n",
                        "{'loss': 0.3051, 'grad_norm': 0.683859646320343, 'learning_rate': 2.9336734693877555e-05, 'epoch': 9.59}\n",
                        "{'loss': 0.3062, 'grad_norm': 0.6701725125312805, 'learning_rate': 2.9209183673469386e-05, 'epoch': 9.64}\n",
                        "{'loss': 0.2986, 'grad_norm': 0.9264090061187744, 'learning_rate': 2.9081632653061224e-05, 'epoch': 9.68}\n",
                        "{'loss': 0.3007, 'grad_norm': 0.6792353391647339, 'learning_rate': 2.895408163265306e-05, 'epoch': 9.73}\n",
                        "{'loss': 0.2944, 'grad_norm': 1.5131586790084839, 'learning_rate': 2.8826530612244902e-05, 'epoch': 9.77}\n",
                        "{'loss': 0.3064, 'grad_norm': 1.3705888986587524, 'learning_rate': 2.869897959183674e-05, 'epoch': 9.82}\n",
                        "{'loss': 0.2898, 'grad_norm': 0.8596593141555786, 'learning_rate': 2.857142857142857e-05, 'epoch': 9.86}\n",
                        "{'loss': 0.306, 'grad_norm': 1.1387077569961548, 'learning_rate': 2.844387755102041e-05, 'epoch': 9.91}\n",
                        "{'loss': 0.2923, 'grad_norm': 0.8665184378623962, 'learning_rate': 2.8316326530612246e-05, 'epoch': 9.95}\n",
                        "{'loss': 0.2968, 'grad_norm': 0.9544186592102051, 'learning_rate': 2.8188775510204084e-05, 'epoch': 10.0}\n"
                    ]
                },
                {
                    "data": {
                        "application/vnd.jupyter.widget-view+json": {
                            "model_id": "bcc7cb9ab7b141789623c353bd256f5c",
                            "version_major": 2,
                            "version_minor": 0
                        },
                        "text/plain": [
                            "  0%|          | 0/79 [00:00<?, ?it/s]"
                        ]
                    },
                    "metadata": {},
                    "output_type": "display_data"
                },
                {
                    "name": "stdout",
                    "output_type": "stream",
                    "text": [
                        "{'eval_loss': 0.4004717171192169, 'eval_accuracy': 0.8248041257562233, 'eval_runtime': 25.2227, 'eval_samples_per_second': 799.517, 'eval_steps_per_second': 3.132, 'epoch': 10.0}\n",
                        "{'loss': 0.2975, 'grad_norm': 0.9807771444320679, 'learning_rate': 2.8061224489795918e-05, 'epoch': 10.05}\n",
                        "{'loss': 0.2868, 'grad_norm': 1.053775429725647, 'learning_rate': 2.7933673469387756e-05, 'epoch': 10.09}\n",
                        "{'loss': 0.284, 'grad_norm': 0.7571933269500732, 'learning_rate': 2.7806122448979593e-05, 'epoch': 10.14}\n",
                        "{'loss': 0.3133, 'grad_norm': 0.9678820967674255, 'learning_rate': 2.767857142857143e-05, 'epoch': 10.18}\n",
                        "{'loss': 0.3062, 'grad_norm': 1.0475945472717285, 'learning_rate': 2.7551020408163265e-05, 'epoch': 10.23}\n",
                        "{'loss': 0.2932, 'grad_norm': 0.8248042464256287, 'learning_rate': 2.7423469387755103e-05, 'epoch': 10.27}\n",
                        "{'loss': 0.2784, 'grad_norm': 0.9090235829353333, 'learning_rate': 2.729591836734694e-05, 'epoch': 10.32}\n",
                        "{'loss': 0.2872, 'grad_norm': 0.8328433632850647, 'learning_rate': 2.7168367346938778e-05, 'epoch': 10.36}\n",
                        "{'loss': 0.292, 'grad_norm': 0.6525712013244629, 'learning_rate': 2.7040816326530616e-05, 'epoch': 10.41}\n",
                        "{'loss': 0.2968, 'grad_norm': 0.7625675797462463, 'learning_rate': 2.6913265306122447e-05, 'epoch': 10.45}\n",
                        "{'loss': 0.2868, 'grad_norm': 1.9384088516235352, 'learning_rate': 2.6785714285714288e-05, 'epoch': 10.5}\n",
                        "{'loss': 0.2879, 'grad_norm': 1.1182321310043335, 'learning_rate': 2.6658163265306125e-05, 'epoch': 10.54}\n",
                        "{'loss': 0.3043, 'grad_norm': 0.9008472561836243, 'learning_rate': 2.6530612244897963e-05, 'epoch': 10.59}\n",
                        "{'loss': 0.2675, 'grad_norm': 0.6958197951316833, 'learning_rate': 2.6403061224489794e-05, 'epoch': 10.63}\n",
                        "{'loss': 0.318, 'grad_norm': 0.9491654634475708, 'learning_rate': 2.627551020408163e-05, 'epoch': 10.68}\n",
                        "{'loss': 0.2834, 'grad_norm': 1.1580348014831543, 'learning_rate': 2.614795918367347e-05, 'epoch': 10.72}\n",
                        "{'loss': 0.2851, 'grad_norm': 0.5347713232040405, 'learning_rate': 2.6020408163265307e-05, 'epoch': 10.77}\n",
                        "{'loss': 0.2745, 'grad_norm': 0.7155717015266418, 'learning_rate': 2.5892857142857148e-05, 'epoch': 10.81}\n",
                        "{'loss': 0.2844, 'grad_norm': 1.1940864324569702, 'learning_rate': 2.576530612244898e-05, 'epoch': 10.86}\n",
                        "{'loss': 0.288, 'grad_norm': 0.6709835529327393, 'learning_rate': 2.5637755102040816e-05, 'epoch': 10.9}\n",
                        "{'loss': 0.3107, 'grad_norm': 0.9962335228919983, 'learning_rate': 2.5510204081632654e-05, 'epoch': 10.95}\n",
                        "{'loss': 0.3055, 'grad_norm': 0.7891754508018494, 'learning_rate': 2.538265306122449e-05, 'epoch': 11.0}\n"
                    ]
                },
                {
                    "data": {
                        "application/vnd.jupyter.widget-view+json": {
                            "model_id": "e2d010a991eb4acdaa78324d7359510e",
                            "version_major": 2,
                            "version_minor": 0
                        },
                        "text/plain": [
                            "  0%|          | 0/79 [00:00<?, ?it/s]"
                        ]
                    },
                    "metadata": {},
                    "output_type": "display_data"
                },
                {
                    "name": "stdout",
                    "output_type": "stream",
                    "text": [
                        "{'eval_loss': 0.4028257429599762, 'eval_accuracy': 0.817812159079639, 'eval_runtime': 25.2621, 'eval_samples_per_second': 798.272, 'eval_steps_per_second': 3.127, 'epoch': 11.0}\n",
                        "{'loss': 0.2907, 'grad_norm': 0.5590888261795044, 'learning_rate': 2.5255102040816326e-05, 'epoch': 11.04}\n",
                        "{'loss': 0.2894, 'grad_norm': 0.81894451379776, 'learning_rate': 2.5127551020408164e-05, 'epoch': 11.09}\n",
                        "{'loss': 0.2925, 'grad_norm': 0.6611219644546509, 'learning_rate': 2.5e-05, 'epoch': 11.13}\n",
                        "{'loss': 0.3004, 'grad_norm': 0.6888067126274109, 'learning_rate': 2.487244897959184e-05, 'epoch': 11.18}\n",
                        "{'loss': 0.3059, 'grad_norm': 0.6519743800163269, 'learning_rate': 2.4744897959183673e-05, 'epoch': 11.22}\n",
                        "{'loss': 0.2914, 'grad_norm': 0.6286521553993225, 'learning_rate': 2.461734693877551e-05, 'epoch': 11.27}\n",
                        "{'loss': 0.2896, 'grad_norm': 0.6743403673171997, 'learning_rate': 2.448979591836735e-05, 'epoch': 11.31}\n",
                        "{'loss': 0.2969, 'grad_norm': 0.7790269255638123, 'learning_rate': 2.4362244897959186e-05, 'epoch': 11.36}\n",
                        "{'loss': 0.2859, 'grad_norm': 0.8751367926597595, 'learning_rate': 2.423469387755102e-05, 'epoch': 11.4}\n",
                        "{'loss': 0.2863, 'grad_norm': 0.9154907464981079, 'learning_rate': 2.4107142857142858e-05, 'epoch': 11.45}\n",
                        "{'loss': 0.2736, 'grad_norm': 0.7205150127410889, 'learning_rate': 2.3979591836734696e-05, 'epoch': 11.49}\n",
                        "{'loss': 0.3019, 'grad_norm': 0.8039847016334534, 'learning_rate': 2.3852040816326533e-05, 'epoch': 11.54}\n",
                        "{'loss': 0.277, 'grad_norm': 0.8298038840293884, 'learning_rate': 2.372448979591837e-05, 'epoch': 11.58}\n",
                        "{'loss': 0.2821, 'grad_norm': 0.7868292927742004, 'learning_rate': 2.3596938775510205e-05, 'epoch': 11.63}\n",
                        "{'loss': 0.3026, 'grad_norm': 0.6823771595954895, 'learning_rate': 2.3469387755102043e-05, 'epoch': 11.67}\n",
                        "{'loss': 0.2994, 'grad_norm': 0.7652211785316467, 'learning_rate': 2.3341836734693877e-05, 'epoch': 11.72}\n",
                        "{'loss': 0.2788, 'grad_norm': 0.5624068379402161, 'learning_rate': 2.3214285714285715e-05, 'epoch': 11.76}\n",
                        "{'loss': 0.2775, 'grad_norm': 0.6411653161048889, 'learning_rate': 2.3086734693877552e-05, 'epoch': 11.81}\n",
                        "{'loss': 0.276, 'grad_norm': 0.8396844863891602, 'learning_rate': 2.295918367346939e-05, 'epoch': 11.86}\n",
                        "{'loss': 0.2988, 'grad_norm': 0.6352906227111816, 'learning_rate': 2.2831632653061224e-05, 'epoch': 11.9}\n",
                        "{'loss': 0.2813, 'grad_norm': 0.6678502559661865, 'learning_rate': 2.2704081632653062e-05, 'epoch': 11.95}\n",
                        "{'loss': 0.2789, 'grad_norm': 0.8808280825614929, 'learning_rate': 2.2576530612244896e-05, 'epoch': 11.99}\n"
                    ]
                },
                {
                    "data": {
                        "application/vnd.jupyter.widget-view+json": {
                            "model_id": "0e23cffc03994332908b31c603925fbe",
                            "version_major": 2,
                            "version_minor": 0
                        },
                        "text/plain": [
                            "  0%|          | 0/79 [00:00<?, ?it/s]"
                        ]
                    },
                    "metadata": {},
                    "output_type": "display_data"
                },
                {
                    "name": "stdout",
                    "output_type": "stream",
                    "text": [
                        "{'eval_loss': 0.3995839059352875, 'eval_accuracy': 0.8248537141723693, 'eval_runtime': 25.1366, 'eval_samples_per_second': 802.258, 'eval_steps_per_second': 3.143, 'epoch': 12.0}\n",
                        "{'loss': 0.2791, 'grad_norm': 0.9568220973014832, 'learning_rate': 2.2448979591836737e-05, 'epoch': 12.04}\n",
                        "{'loss': 0.2953, 'grad_norm': 1.023318886756897, 'learning_rate': 2.2321428571428575e-05, 'epoch': 12.08}\n",
                        "{'loss': 0.2973, 'grad_norm': 0.7331791520118713, 'learning_rate': 2.219387755102041e-05, 'epoch': 12.13}\n",
                        "{'loss': 0.278, 'grad_norm': 0.6360389590263367, 'learning_rate': 2.2066326530612247e-05, 'epoch': 12.17}\n",
                        "{'loss': 0.2918, 'grad_norm': 0.6958456039428711, 'learning_rate': 2.193877551020408e-05, 'epoch': 12.22}\n",
                        "{'loss': 0.3074, 'grad_norm': 0.670377254486084, 'learning_rate': 2.181122448979592e-05, 'epoch': 12.26}\n",
                        "{'loss': 0.2849, 'grad_norm': 0.8154102563858032, 'learning_rate': 2.1683673469387756e-05, 'epoch': 12.31}\n",
                        "{'loss': 0.2877, 'grad_norm': 0.657863199710846, 'learning_rate': 2.1556122448979594e-05, 'epoch': 12.35}\n",
                        "{'loss': 0.2757, 'grad_norm': 0.5968208909034729, 'learning_rate': 2.1428571428571428e-05, 'epoch': 12.4}\n",
                        "{'loss': 0.262, 'grad_norm': 0.8568859100341797, 'learning_rate': 2.1301020408163266e-05, 'epoch': 12.44}\n",
                        "{'loss': 0.2718, 'grad_norm': 0.8089999556541443, 'learning_rate': 2.1173469387755103e-05, 'epoch': 12.49}\n",
                        "{'loss': 0.2893, 'grad_norm': 0.7509855031967163, 'learning_rate': 2.104591836734694e-05, 'epoch': 12.53}\n",
                        "{'loss': 0.2784, 'grad_norm': 0.723799467086792, 'learning_rate': 2.091836734693878e-05, 'epoch': 12.58}\n",
                        "{'loss': 0.3091, 'grad_norm': 1.138301968574524, 'learning_rate': 2.0790816326530613e-05, 'epoch': 12.62}\n",
                        "{'loss': 0.2745, 'grad_norm': 0.5735876560211182, 'learning_rate': 2.066326530612245e-05, 'epoch': 12.67}\n",
                        "{'loss': 0.2856, 'grad_norm': 0.8262213468551636, 'learning_rate': 2.0535714285714285e-05, 'epoch': 12.71}\n",
                        "{'loss': 0.2605, 'grad_norm': 0.7267501950263977, 'learning_rate': 2.0408163265306123e-05, 'epoch': 12.76}\n",
                        "{'loss': 0.2858, 'grad_norm': 0.6558958888053894, 'learning_rate': 2.028061224489796e-05, 'epoch': 12.81}\n",
                        "{'loss': 0.2849, 'grad_norm': 0.777991533279419, 'learning_rate': 2.0153061224489798e-05, 'epoch': 12.85}\n",
                        "{'loss': 0.3045, 'grad_norm': 0.7035394310951233, 'learning_rate': 2.0025510204081632e-05, 'epoch': 12.9}\n",
                        "{'loss': 0.2779, 'grad_norm': 0.6492963433265686, 'learning_rate': 1.989795918367347e-05, 'epoch': 12.94}\n",
                        "{'loss': 0.2976, 'grad_norm': 0.7080755233764648, 'learning_rate': 1.9770408163265307e-05, 'epoch': 12.99}\n"
                    ]
                },
                {
                    "data": {
                        "application/vnd.jupyter.widget-view+json": {
                            "model_id": "e455e4537a0e4c5f9ca2493dee963717",
                            "version_major": 2,
                            "version_minor": 0
                        },
                        "text/plain": [
                            "  0%|          | 0/79 [00:00<?, ?it/s]"
                        ]
                    },
                    "metadata": {},
                    "output_type": "display_data"
                },
                {
                    "name": "stdout",
                    "output_type": "stream",
                    "text": [
                        "{'eval_loss': 0.3990321159362793, 'eval_accuracy': 0.8236635921848656, 'eval_runtime': 25.0958, 'eval_samples_per_second': 803.562, 'eval_steps_per_second': 3.148, 'epoch': 13.0}\n",
                        "{'loss': 0.2845, 'grad_norm': 0.834611713886261, 'learning_rate': 1.9642857142857145e-05, 'epoch': 13.03}\n",
                        "{'loss': 0.2967, 'grad_norm': 0.7282406091690063, 'learning_rate': 1.9515306122448983e-05, 'epoch': 13.08}\n",
                        "{'loss': 0.2714, 'grad_norm': 0.7536174058914185, 'learning_rate': 1.9387755102040817e-05, 'epoch': 13.12}\n",
                        "{'loss': 0.2951, 'grad_norm': 0.893649160861969, 'learning_rate': 1.9260204081632655e-05, 'epoch': 13.17}\n",
                        "{'loss': 0.2763, 'grad_norm': 0.8349677324295044, 'learning_rate': 1.913265306122449e-05, 'epoch': 13.21}\n",
                        "{'loss': 0.2933, 'grad_norm': 0.696458101272583, 'learning_rate': 1.9005102040816326e-05, 'epoch': 13.26}\n",
                        "{'loss': 0.2924, 'grad_norm': 0.7754443287849426, 'learning_rate': 1.8877551020408164e-05, 'epoch': 13.3}\n",
                        "{'loss': 0.273, 'grad_norm': 0.7297311425209045, 'learning_rate': 1.8750000000000002e-05, 'epoch': 13.35}\n",
                        "{'loss': 0.2822, 'grad_norm': 0.9440682530403137, 'learning_rate': 1.862244897959184e-05, 'epoch': 13.39}\n",
                        "{'loss': 0.2758, 'grad_norm': 0.628375232219696, 'learning_rate': 1.8494897959183674e-05, 'epoch': 13.44}\n",
                        "{'loss': 0.2786, 'grad_norm': 0.8619616627693176, 'learning_rate': 1.836734693877551e-05, 'epoch': 13.48}\n",
                        "{'loss': 0.2766, 'grad_norm': 0.7773647308349609, 'learning_rate': 1.823979591836735e-05, 'epoch': 13.53}\n",
                        "{'loss': 0.2978, 'grad_norm': 0.881246030330658, 'learning_rate': 1.8112244897959187e-05, 'epoch': 13.57}\n",
                        "{'loss': 0.2845, 'grad_norm': 0.9032166600227356, 'learning_rate': 1.798469387755102e-05, 'epoch': 13.62}\n",
                        "{'loss': 0.2643, 'grad_norm': 0.827488899230957, 'learning_rate': 1.785714285714286e-05, 'epoch': 13.67}\n",
                        "{'loss': 0.2883, 'grad_norm': 0.851388692855835, 'learning_rate': 1.7729591836734693e-05, 'epoch': 13.71}\n",
                        "{'loss': 0.2613, 'grad_norm': 0.6832358837127686, 'learning_rate': 1.760204081632653e-05, 'epoch': 13.76}\n",
                        "{'loss': 0.2865, 'grad_norm': 0.8057956695556641, 'learning_rate': 1.7474489795918368e-05, 'epoch': 13.8}\n",
                        "{'loss': 0.2847, 'grad_norm': 0.6754166483879089, 'learning_rate': 1.7346938775510206e-05, 'epoch': 13.85}\n",
                        "{'loss': 0.2659, 'grad_norm': 0.6841858625411987, 'learning_rate': 1.7219387755102043e-05, 'epoch': 13.89}\n",
                        "{'loss': 0.2853, 'grad_norm': 0.8674917221069336, 'learning_rate': 1.7091836734693878e-05, 'epoch': 13.94}\n",
                        "{'loss': 0.3058, 'grad_norm': 1.0354324579238892, 'learning_rate': 1.6964285714285715e-05, 'epoch': 13.98}\n"
                    ]
                },
                {
                    "data": {
                        "application/vnd.jupyter.widget-view+json": {
                            "model_id": "6b08315adc884be7a53f7c36dc969f00",
                            "version_major": 2,
                            "version_minor": 0
                        },
                        "text/plain": [
                            "  0%|          | 0/79 [00:00<?, ?it/s]"
                        ]
                    },
                    "metadata": {},
                    "output_type": "display_data"
                },
                {
                    "name": "stdout",
                    "output_type": "stream",
                    "text": [
                        "{'eval_loss': 0.38524892926216125, 'eval_accuracy': 0.8324407418427056, 'eval_runtime': 25.1305, 'eval_samples_per_second': 802.451, 'eval_steps_per_second': 3.144, 'epoch': 14.0}\n",
                        "{'loss': 0.2731, 'grad_norm': 0.6630458235740662, 'learning_rate': 1.683673469387755e-05, 'epoch': 14.03}\n",
                        "{'loss': 0.2677, 'grad_norm': 0.6397427320480347, 'learning_rate': 1.670918367346939e-05, 'epoch': 14.07}\n",
                        "{'loss': 0.2965, 'grad_norm': 0.7462073564529419, 'learning_rate': 1.6581632653061225e-05, 'epoch': 14.12}\n",
                        "{'loss': 0.3007, 'grad_norm': 0.8417897820472717, 'learning_rate': 1.6454081632653062e-05, 'epoch': 14.16}\n",
                        "{'loss': 0.276, 'grad_norm': 0.7011064887046814, 'learning_rate': 1.6326530612244897e-05, 'epoch': 14.21}\n",
                        "{'loss': 0.2662, 'grad_norm': 0.9347846508026123, 'learning_rate': 1.6198979591836734e-05, 'epoch': 14.25}\n",
                        "{'loss': 0.2757, 'grad_norm': 0.7841396927833557, 'learning_rate': 1.6071428571428572e-05, 'epoch': 14.3}\n",
                        "{'loss': 0.2759, 'grad_norm': 0.8096339106559753, 'learning_rate': 1.594387755102041e-05, 'epoch': 14.34}\n",
                        "{'loss': 0.2771, 'grad_norm': 1.0612688064575195, 'learning_rate': 1.5816326530612247e-05, 'epoch': 14.39}\n",
                        "{'loss': 0.2929, 'grad_norm': 1.0639582872390747, 'learning_rate': 1.568877551020408e-05, 'epoch': 14.43}\n",
                        "{'loss': 0.2785, 'grad_norm': 0.7753309607505798, 'learning_rate': 1.556122448979592e-05, 'epoch': 14.48}\n",
                        "{'loss': 0.2824, 'grad_norm': 0.8010159730911255, 'learning_rate': 1.5433673469387753e-05, 'epoch': 14.52}\n",
                        "{'loss': 0.2806, 'grad_norm': 0.8345471024513245, 'learning_rate': 1.5306122448979594e-05, 'epoch': 14.57}\n",
                        "{'loss': 0.2701, 'grad_norm': 0.6193535327911377, 'learning_rate': 1.5178571428571429e-05, 'epoch': 14.62}\n",
                        "{'loss': 0.2654, 'grad_norm': 1.313461422920227, 'learning_rate': 1.5051020408163266e-05, 'epoch': 14.66}\n",
                        "{'loss': 0.2759, 'grad_norm': 0.7372733950614929, 'learning_rate': 1.4923469387755104e-05, 'epoch': 14.71}\n",
                        "{'loss': 0.2758, 'grad_norm': 0.9444003701210022, 'learning_rate': 1.479591836734694e-05, 'epoch': 14.75}\n",
                        "{'loss': 0.2942, 'grad_norm': 0.7957518100738525, 'learning_rate': 1.4668367346938778e-05, 'epoch': 14.8}\n",
                        "{'loss': 0.2811, 'grad_norm': 0.8809401988983154, 'learning_rate': 1.4540816326530612e-05, 'epoch': 14.84}\n",
                        "{'loss': 0.2666, 'grad_norm': 0.8328789472579956, 'learning_rate': 1.4413265306122451e-05, 'epoch': 14.89}\n",
                        "{'loss': 0.2776, 'grad_norm': 1.3427600860595703, 'learning_rate': 1.4285714285714285e-05, 'epoch': 14.93}\n",
                        "{'loss': 0.2762, 'grad_norm': 0.650143027305603, 'learning_rate': 1.4158163265306123e-05, 'epoch': 14.98}\n"
                    ]
                },
                {
                    "data": {
                        "application/vnd.jupyter.widget-view+json": {
                            "model_id": "b9214cca210147528b1abb24550056bc",
                            "version_major": 2,
                            "version_minor": 0
                        },
                        "text/plain": [
                            "  0%|          | 0/79 [00:00<?, ?it/s]"
                        ]
                    },
                    "metadata": {},
                    "output_type": "display_data"
                },
                {
                    "name": "stdout",
                    "output_type": "stream",
                    "text": [
                        "{'eval_loss': 0.3939274251461029, 'eval_accuracy': 0.8283249033025886, 'eval_runtime': 25.2645, 'eval_samples_per_second': 798.195, 'eval_steps_per_second': 3.127, 'epoch': 15.0}\n",
                        "{'loss': 0.2789, 'grad_norm': 0.7240311503410339, 'learning_rate': 1.4030612244897959e-05, 'epoch': 15.02}\n",
                        "{'loss': 0.2742, 'grad_norm': 1.0795177221298218, 'learning_rate': 1.3903061224489797e-05, 'epoch': 15.07}\n",
                        "{'loss': 0.2828, 'grad_norm': 1.1326555013656616, 'learning_rate': 1.3775510204081633e-05, 'epoch': 15.11}\n",
                        "{'loss': 0.2862, 'grad_norm': 0.76488196849823, 'learning_rate': 1.364795918367347e-05, 'epoch': 15.16}\n",
                        "{'loss': 0.2758, 'grad_norm': 0.8261799812316895, 'learning_rate': 1.3520408163265308e-05, 'epoch': 15.2}\n",
                        "{'loss': 0.2804, 'grad_norm': 0.6380460858345032, 'learning_rate': 1.3392857142857144e-05, 'epoch': 15.25}\n",
                        "{'loss': 0.2817, 'grad_norm': 0.594569981098175, 'learning_rate': 1.3265306122448982e-05, 'epoch': 15.29}\n",
                        "{'loss': 0.2762, 'grad_norm': 0.7707346677780151, 'learning_rate': 1.3137755102040816e-05, 'epoch': 15.34}\n",
                        "{'loss': 0.2794, 'grad_norm': 0.9436687231063843, 'learning_rate': 1.3010204081632653e-05, 'epoch': 15.38}\n",
                        "{'loss': 0.2815, 'grad_norm': 0.8068641424179077, 'learning_rate': 1.288265306122449e-05, 'epoch': 15.43}\n",
                        "{'loss': 0.2718, 'grad_norm': 0.8596644997596741, 'learning_rate': 1.2755102040816327e-05, 'epoch': 15.48}\n",
                        "{'loss': 0.289, 'grad_norm': 0.7402933835983276, 'learning_rate': 1.2627551020408163e-05, 'epoch': 15.52}\n",
                        "{'loss': 0.2699, 'grad_norm': 0.7683641314506531, 'learning_rate': 1.25e-05, 'epoch': 15.57}\n",
                        "{'loss': 0.2705, 'grad_norm': 0.7423512935638428, 'learning_rate': 1.2372448979591837e-05, 'epoch': 15.61}\n",
                        "{'loss': 0.2547, 'grad_norm': 0.7053636312484741, 'learning_rate': 1.2244897959183674e-05, 'epoch': 15.66}\n",
                        "{'loss': 0.2762, 'grad_norm': 0.8242063522338867, 'learning_rate': 1.211734693877551e-05, 'epoch': 15.7}\n",
                        "{'loss': 0.2784, 'grad_norm': 0.6984584927558899, 'learning_rate': 1.1989795918367348e-05, 'epoch': 15.75}\n",
                        "{'loss': 0.2943, 'grad_norm': 0.8534315228462219, 'learning_rate': 1.1862244897959185e-05, 'epoch': 15.79}\n",
                        "{'loss': 0.2806, 'grad_norm': 0.6887786388397217, 'learning_rate': 1.1734693877551021e-05, 'epoch': 15.84}\n",
                        "{'loss': 0.2914, 'grad_norm': 0.8460612893104553, 'learning_rate': 1.1607142857142857e-05, 'epoch': 15.88}\n",
                        "{'loss': 0.2851, 'grad_norm': 0.9911850094795227, 'learning_rate': 1.1479591836734695e-05, 'epoch': 15.93}\n",
                        "{'loss': 0.2708, 'grad_norm': 0.73897784948349, 'learning_rate': 1.1352040816326531e-05, 'epoch': 15.97}\n"
                    ]
                },
                {
                    "data": {
                        "application/vnd.jupyter.widget-view+json": {
                            "model_id": "8e4fbea94f664da4ab425ede5f1cdb5a",
                            "version_major": 2,
                            "version_minor": 0
                        },
                        "text/plain": [
                            "  0%|          | 0/79 [00:00<?, ?it/s]"
                        ]
                    },
                    "metadata": {},
                    "output_type": "display_data"
                },
                {
                    "name": "stdout",
                    "output_type": "stream",
                    "text": [
                        "{'eval_loss': 0.3908120095729828, 'eval_accuracy': 0.8306059704453039, 'eval_runtime': 25.3512, 'eval_samples_per_second': 795.466, 'eval_steps_per_second': 3.116, 'epoch': 16.0}\n",
                        "{'loss': 0.2744, 'grad_norm': 0.7249284386634827, 'learning_rate': 1.1224489795918369e-05, 'epoch': 16.02}\n",
                        "{'loss': 0.3042, 'grad_norm': 1.027177333831787, 'learning_rate': 1.1096938775510205e-05, 'epoch': 16.06}\n",
                        "{'loss': 0.2711, 'grad_norm': 0.5578724145889282, 'learning_rate': 1.096938775510204e-05, 'epoch': 16.11}\n",
                        "{'loss': 0.2724, 'grad_norm': 0.7209962606430054, 'learning_rate': 1.0841836734693878e-05, 'epoch': 16.15}\n",
                        "{'loss': 0.2703, 'grad_norm': 0.7440674901008606, 'learning_rate': 1.0714285714285714e-05, 'epoch': 16.2}\n",
                        "{'loss': 0.286, 'grad_norm': 0.7638757228851318, 'learning_rate': 1.0586734693877552e-05, 'epoch': 16.24}\n",
                        "{'loss': 0.2832, 'grad_norm': 0.7951112389564514, 'learning_rate': 1.045918367346939e-05, 'epoch': 16.29}\n",
                        "{'loss': 0.2786, 'grad_norm': 0.6571719646453857, 'learning_rate': 1.0331632653061225e-05, 'epoch': 16.33}\n",
                        "{'loss': 0.26, 'grad_norm': 0.7014073729515076, 'learning_rate': 1.0204081632653061e-05, 'epoch': 16.38}\n",
                        "{'loss': 0.2815, 'grad_norm': 0.6224287748336792, 'learning_rate': 1.0076530612244899e-05, 'epoch': 16.43}\n",
                        "{'loss': 0.2631, 'grad_norm': 0.9146035313606262, 'learning_rate': 9.948979591836735e-06, 'epoch': 16.47}\n",
                        "{'loss': 0.2748, 'grad_norm': 1.001016616821289, 'learning_rate': 9.821428571428573e-06, 'epoch': 16.52}\n",
                        "{'loss': 0.2816, 'grad_norm': 0.5296024084091187, 'learning_rate': 9.693877551020408e-06, 'epoch': 16.56}\n",
                        "{'loss': 0.2769, 'grad_norm': 1.0566892623901367, 'learning_rate': 9.566326530612244e-06, 'epoch': 16.61}\n",
                        "{'loss': 0.2802, 'grad_norm': 0.6729338765144348, 'learning_rate': 9.438775510204082e-06, 'epoch': 16.65}\n",
                        "{'loss': 0.2675, 'grad_norm': 0.8638843297958374, 'learning_rate': 9.31122448979592e-06, 'epoch': 16.7}\n",
                        "{'loss': 0.2797, 'grad_norm': 0.7308843731880188, 'learning_rate': 9.183673469387756e-06, 'epoch': 16.74}\n",
                        "{'loss': 0.2877, 'grad_norm': 0.7232311367988586, 'learning_rate': 9.056122448979593e-06, 'epoch': 16.79}\n",
                        "{'loss': 0.2688, 'grad_norm': 0.8855873942375183, 'learning_rate': 8.92857142857143e-06, 'epoch': 16.83}\n",
                        "{'loss': 0.2636, 'grad_norm': 0.7856696248054504, 'learning_rate': 8.801020408163265e-06, 'epoch': 16.88}\n",
                        "{'loss': 0.2741, 'grad_norm': 0.8633432388305664, 'learning_rate': 8.673469387755103e-06, 'epoch': 16.92}\n",
                        "{'loss': 0.2662, 'grad_norm': 0.8009829521179199, 'learning_rate': 8.545918367346939e-06, 'epoch': 16.97}\n"
                    ]
                },
                {
                    "data": {
                        "application/vnd.jupyter.widget-view+json": {
                            "model_id": "22f8a659d0624a1cb540931584f89176",
                            "version_major": 2,
                            "version_minor": 0
                        },
                        "text/plain": [
                            "  0%|          | 0/79 [00:00<?, ?it/s]"
                        ]
                    },
                    "metadata": {},
                    "output_type": "display_data"
                },
                {
                    "name": "stdout",
                    "output_type": "stream",
                    "text": [
                        "{'eval_loss': 0.3907434344291687, 'eval_accuracy': 0.8301100862838441, 'eval_runtime': 25.2059, 'eval_samples_per_second': 800.052, 'eval_steps_per_second': 3.134, 'epoch': 17.0}\n",
                        "{'loss': 0.2789, 'grad_norm': 0.7972033619880676, 'learning_rate': 8.418367346938775e-06, 'epoch': 17.01}\n",
                        "{'loss': 0.2857, 'grad_norm': 0.6180434226989746, 'learning_rate': 8.290816326530612e-06, 'epoch': 17.06}\n",
                        "{'loss': 0.2632, 'grad_norm': 0.7769445180892944, 'learning_rate': 8.163265306122448e-06, 'epoch': 17.1}\n",
                        "{'loss': 0.2875, 'grad_norm': 0.7252843379974365, 'learning_rate': 8.035714285714286e-06, 'epoch': 17.15}\n",
                        "{'loss': 0.264, 'grad_norm': 0.6928356885910034, 'learning_rate': 7.908163265306124e-06, 'epoch': 17.19}\n",
                        "{'loss': 0.2748, 'grad_norm': 0.8823881149291992, 'learning_rate': 7.78061224489796e-06, 'epoch': 17.24}\n",
                        "{'loss': 0.2732, 'grad_norm': 0.6545863151550293, 'learning_rate': 7.653061224489797e-06, 'epoch': 17.29}\n",
                        "{'loss': 0.2827, 'grad_norm': 0.7143202424049377, 'learning_rate': 7.525510204081633e-06, 'epoch': 17.33}\n",
                        "{'loss': 0.2747, 'grad_norm': 1.1575798988342285, 'learning_rate': 7.39795918367347e-06, 'epoch': 17.38}\n",
                        "{'loss': 0.2776, 'grad_norm': 0.7072863578796387, 'learning_rate': 7.270408163265306e-06, 'epoch': 17.42}\n",
                        "{'loss': 0.2645, 'grad_norm': 1.344880223274231, 'learning_rate': 7.142857142857143e-06, 'epoch': 17.47}\n",
                        "{'loss': 0.2856, 'grad_norm': 1.3037937879562378, 'learning_rate': 7.0153061224489795e-06, 'epoch': 17.51}\n",
                        "{'loss': 0.2583, 'grad_norm': 1.0665035247802734, 'learning_rate': 6.887755102040816e-06, 'epoch': 17.56}\n",
                        "{'loss': 0.2928, 'grad_norm': 1.0275468826293945, 'learning_rate': 6.760204081632654e-06, 'epoch': 17.6}\n",
                        "{'loss': 0.2687, 'grad_norm': 1.2354471683502197, 'learning_rate': 6.632653061224491e-06, 'epoch': 17.65}\n",
                        "{'loss': 0.2814, 'grad_norm': 0.8945617079734802, 'learning_rate': 6.505102040816327e-06, 'epoch': 17.69}\n",
                        "{'loss': 0.2608, 'grad_norm': 0.7994982600212097, 'learning_rate': 6.3775510204081635e-06, 'epoch': 17.74}\n",
                        "{'loss': 0.2655, 'grad_norm': 1.361923336982727, 'learning_rate': 6.25e-06, 'epoch': 17.78}\n",
                        "{'loss': 0.2689, 'grad_norm': 0.936410129070282, 'learning_rate': 6.122448979591837e-06, 'epoch': 17.83}\n",
                        "{'loss': 0.2643, 'grad_norm': 0.8184608221054077, 'learning_rate': 5.994897959183674e-06, 'epoch': 17.87}\n",
                        "{'loss': 0.2741, 'grad_norm': 1.0115464925765991, 'learning_rate': 5.867346938775511e-06, 'epoch': 17.92}\n",
                        "{'loss': 0.2626, 'grad_norm': 0.7834805846214294, 'learning_rate': 5.7397959183673475e-06, 'epoch': 17.96}\n"
                    ]
                },
                {
                    "data": {
                        "application/vnd.jupyter.widget-view+json": {
                            "model_id": "9131469ef1724c72a0bb1e4efa00ec73",
                            "version_major": 2,
                            "version_minor": 0
                        },
                        "text/plain": [
                            "  0%|          | 0/79 [00:00<?, ?it/s]"
                        ]
                    },
                    "metadata": {},
                    "output_type": "display_data"
                },
                {
                    "name": "stdout",
                    "output_type": "stream",
                    "text": [
                        "{'eval_loss': 0.39922094345092773, 'eval_accuracy': 0.8283249033025886, 'eval_runtime': 24.6248, 'eval_samples_per_second': 818.931, 'eval_steps_per_second': 3.208, 'epoch': 18.0}\n",
                        "{'loss': 0.2776, 'grad_norm': 0.7784190773963928, 'learning_rate': 5.612244897959184e-06, 'epoch': 18.01}\n",
                        "{'loss': 0.2789, 'grad_norm': 0.6871457695960999, 'learning_rate': 5.48469387755102e-06, 'epoch': 18.05}\n",
                        "{'loss': 0.2708, 'grad_norm': 1.122105360031128, 'learning_rate': 5.357142857142857e-06, 'epoch': 18.1}\n",
                        "{'loss': 0.267, 'grad_norm': 0.6641886830329895, 'learning_rate': 5.229591836734695e-06, 'epoch': 18.14}\n",
                        "{'loss': 0.2917, 'grad_norm': 0.7204041481018066, 'learning_rate': 5.102040816326531e-06, 'epoch': 18.19}\n",
                        "{'loss': 0.2441, 'grad_norm': 0.888738214969635, 'learning_rate': 4.9744897959183674e-06, 'epoch': 18.24}\n",
                        "{'loss': 0.2654, 'grad_norm': 0.6214226484298706, 'learning_rate': 4.846938775510204e-06, 'epoch': 18.28}\n",
                        "{'loss': 0.2696, 'grad_norm': 0.7031832933425903, 'learning_rate': 4.719387755102041e-06, 'epoch': 18.33}\n",
                        "{'loss': 0.2813, 'grad_norm': 1.0145249366760254, 'learning_rate': 4.591836734693878e-06, 'epoch': 18.37}\n",
                        "{'loss': 0.2759, 'grad_norm': 1.7656526565551758, 'learning_rate': 4.464285714285715e-06, 'epoch': 18.42}\n",
                        "{'loss': 0.251, 'grad_norm': 0.727128803730011, 'learning_rate': 4.336734693877551e-06, 'epoch': 18.46}\n",
                        "{'loss': 0.2797, 'grad_norm': 0.9326655864715576, 'learning_rate': 4.209183673469387e-06, 'epoch': 18.51}\n",
                        "{'loss': 0.2632, 'grad_norm': 0.8238599896430969, 'learning_rate': 4.081632653061224e-06, 'epoch': 18.55}\n",
                        "{'loss': 0.2827, 'grad_norm': 0.7329203486442566, 'learning_rate': 3.954081632653062e-06, 'epoch': 18.6}\n",
                        "{'loss': 0.263, 'grad_norm': 0.9124281406402588, 'learning_rate': 3.826530612244899e-06, 'epoch': 18.64}\n",
                        "{'loss': 0.2882, 'grad_norm': 0.9571157693862915, 'learning_rate': 3.698979591836735e-06, 'epoch': 18.69}\n",
                        "{'loss': 0.288, 'grad_norm': 0.8348065614700317, 'learning_rate': 3.5714285714285714e-06, 'epoch': 18.73}\n",
                        "{'loss': 0.2784, 'grad_norm': 0.8706603646278381, 'learning_rate': 3.443877551020408e-06, 'epoch': 18.78}\n",
                        "{'loss': 0.2651, 'grad_norm': 1.1139620542526245, 'learning_rate': 3.3163265306122454e-06, 'epoch': 18.82}\n",
                        "{'loss': 0.2803, 'grad_norm': 0.9814253449440002, 'learning_rate': 3.1887755102040818e-06, 'epoch': 18.87}\n",
                        "{'loss': 0.281, 'grad_norm': 0.6533317565917969, 'learning_rate': 3.0612244897959185e-06, 'epoch': 18.91}\n",
                        "{'loss': 0.278, 'grad_norm': 1.6004124879837036, 'learning_rate': 2.9336734693877553e-06, 'epoch': 18.96}\n"
                    ]
                },
                {
                    "data": {
                        "application/vnd.jupyter.widget-view+json": {
                            "model_id": "c2888a354340415da0091f5484699987",
                            "version_major": 2,
                            "version_minor": 0
                        },
                        "text/plain": [
                            "  0%|          | 0/79 [00:00<?, ?it/s]"
                        ]
                    },
                    "metadata": {},
                    "output_type": "display_data"
                },
                {
                    "name": "stdout",
                    "output_type": "stream",
                    "text": [
                        "{'eval_loss': 0.38471725583076477, 'eval_accuracy': 0.8325399186749975, 'eval_runtime': 25.1758, 'eval_samples_per_second': 801.008, 'eval_steps_per_second': 3.138, 'epoch': 19.0}\n",
                        "{'loss': 0.2811, 'grad_norm': 0.7393852472305298, 'learning_rate': 2.806122448979592e-06, 'epoch': 19.0}\n",
                        "{'loss': 0.2738, 'grad_norm': 1.002983570098877, 'learning_rate': 2.6785714285714285e-06, 'epoch': 19.05}\n",
                        "{'loss': 0.2818, 'grad_norm': 0.7903978824615479, 'learning_rate': 2.5510204081632653e-06, 'epoch': 19.1}\n",
                        "{'loss': 0.272, 'grad_norm': 0.5809009671211243, 'learning_rate': 2.423469387755102e-06, 'epoch': 19.14}\n",
                        "{'loss': 0.2502, 'grad_norm': 0.721860945224762, 'learning_rate': 2.295918367346939e-06, 'epoch': 19.19}\n",
                        "{'loss': 0.2747, 'grad_norm': 0.9174560308456421, 'learning_rate': 2.1683673469387757e-06, 'epoch': 19.23}\n",
                        "{'loss': 0.2612, 'grad_norm': 0.7184321284294128, 'learning_rate': 2.040816326530612e-06, 'epoch': 19.28}\n",
                        "{'loss': 0.2779, 'grad_norm': 0.7707904577255249, 'learning_rate': 1.9132653061224493e-06, 'epoch': 19.32}\n",
                        "{'loss': 0.2656, 'grad_norm': 0.8063074350357056, 'learning_rate': 1.7857142857142857e-06, 'epoch': 19.37}\n",
                        "{'loss': 0.2651, 'grad_norm': 1.0827908515930176, 'learning_rate': 1.6581632653061227e-06, 'epoch': 19.41}\n",
                        "{'loss': 0.2653, 'grad_norm': 0.5983487963676453, 'learning_rate': 1.5306122448979593e-06, 'epoch': 19.46}\n",
                        "{'loss': 0.2729, 'grad_norm': 1.1378389596939087, 'learning_rate': 1.403061224489796e-06, 'epoch': 19.5}\n",
                        "{'loss': 0.2488, 'grad_norm': 0.8789403438568115, 'learning_rate': 1.2755102040816327e-06, 'epoch': 19.55}\n",
                        "{'loss': 0.2742, 'grad_norm': 0.631673276424408, 'learning_rate': 1.1479591836734695e-06, 'epoch': 19.59}\n",
                        "{'loss': 0.2607, 'grad_norm': 0.7015337944030762, 'learning_rate': 1.020408163265306e-06, 'epoch': 19.64}\n",
                        "{'loss': 0.2628, 'grad_norm': 1.4929808378219604, 'learning_rate': 8.928571428571428e-07, 'epoch': 19.68}\n",
                        "{'loss': 0.2647, 'grad_norm': 0.7563575506210327, 'learning_rate': 7.653061224489796e-07, 'epoch': 19.73}\n",
                        "{'loss': 0.2588, 'grad_norm': 0.595085084438324, 'learning_rate': 6.377551020408163e-07, 'epoch': 19.77}\n",
                        "{'loss': 0.2774, 'grad_norm': 0.9232520461082458, 'learning_rate': 5.10204081632653e-07, 'epoch': 19.82}\n",
                        "{'loss': 0.2513, 'grad_norm': 0.7275443077087402, 'learning_rate': 3.826530612244898e-07, 'epoch': 19.86}\n",
                        "{'loss': 0.2745, 'grad_norm': 1.3247277736663818, 'learning_rate': 2.551020408163265e-07, 'epoch': 19.91}\n",
                        "{'loss': 0.2568, 'grad_norm': 0.9144827723503113, 'learning_rate': 1.2755102040816326e-07, 'epoch': 19.95}\n",
                        "{'loss': 0.2668, 'grad_norm': 1.1004680395126343, 'learning_rate': 0.0, 'epoch': 20.0}\n"
                    ]
                },
                {
                    "data": {
                        "application/vnd.jupyter.widget-view+json": {
                            "model_id": "a3b1bb6dd0084a448bc7e9ef6e08dc1e",
                            "version_major": 2,
                            "version_minor": 0
                        },
                        "text/plain": [
                            "  0%|          | 0/79 [00:00<?, ?it/s]"
                        ]
                    },
                    "metadata": {},
                    "output_type": "display_data"
                },
                {
                    "name": "stdout",
                    "output_type": "stream",
                    "text": [
                        "{'eval_loss': 0.39049065113067627, 'eval_accuracy': 0.8331349796687494, 'eval_runtime': 24.9873, 'eval_samples_per_second': 807.051, 'eval_steps_per_second': 3.162, 'epoch': 20.0}\n",
                        "{'train_runtime': 2293.9303, 'train_samples_per_second': 492.334, 'train_steps_per_second': 1.927, 'train_loss': 0.2993068355240973, 'epoch': 20.0}\n"
                    ]
                }
            ],
            "source": [
                "graph_prompter_hf_bert_classifier.train_model_on_data(\n",
                "    dataset_embedding,\n",
                "    epochs=EPOCHS,\n",
                "    batch_size=BATCH_SIZE_LLM,\n",
                ")\n",
                "graph_representation_generator_graph_prompter_hf.save_model()"
            ]
        },
        {
            "cell_type": "code",
            "execution_count": 10,
            "metadata": {},
            "outputs": [
                {
                    "name": "stdout",
                    "output_type": "stream",
                    "text": [
                        "target_lin.weight is not same\n",
                        "target_lin.bias is not same\n",
                        "source_emb.weight is not same\n",
                        "target_emb.weight is not same\n",
                        "gnn.conv1.source__edge__target.lin_l.weight is not same\n",
                        "gnn.conv1.source__edge__target.lin_l.bias is not same\n",
                        "gnn.conv1.source__edge__target.lin_r.weight is not same\n",
                        "gnn.conv1.target__rev_edge__source.lin_l.weight is not same\n",
                        "gnn.conv1.target__rev_edge__source.lin_l.bias is not same\n",
                        "gnn.conv1.target__rev_edge__source.lin_r.weight is not same\n",
                        "gnn.conv2.source__edge__target.lin_l.weight is not same\n",
                        "gnn.conv2.source__edge__target.lin_l.bias is not same\n",
                        "gnn.conv2.source__edge__target.lin_r.weight is not same\n",
                        "gnn.conv2.target__rev_edge__source.lin_l.weight is not same\n",
                        "gnn.conv2.target__rev_edge__source.lin_l.bias is not same\n",
                        "gnn.conv2.target__rev_edge__source.lin_r.weight is not same\n"
                    ]
                }
            ],
            "source": [
                "import torch\n",
                "\n",
                "tens_1 = graph_representation_generator_graph_prompter_hf.model.to(\n",
                "    device=\"cpu\"\n",
                ").state_dict()\n",
                "\n",
                "tens_2 = torch.load(\"./data/gnn/backup/model_128.pth\")\n",
                "for key in tens_1.keys():\n",
                "    if isinstance(tens_1[key], torch.Tensor):\n",
                "        if (tens_1[key] == tens_2[key]).all():\n",
                "            print(key, \"is same\")\n",
                "        else:\n",
                "            print(key, \"is not same\")"
            ]
        },
        {
            "cell_type": "code",
            "execution_count": null,
            "metadata": {},
            "outputs": [],
            "source": []
        }
    ],
    "metadata": {
        "kernelspec": {
            "display_name": "hauptprojekt",
            "language": "python",
            "name": "python3"
        },
        "language_info": {
            "codemirror_mode": {
                "name": "ipython",
                "version": 3
            },
            "file_extension": ".py",
            "mimetype": "text/x-python",
            "name": "python",
            "nbconvert_exporter": "python",
            "pygments_lexer": "ipython3",
            "version": "3.12.4"
        }
    },
    "nbformat": 4,
    "nbformat_minor": 2
}
