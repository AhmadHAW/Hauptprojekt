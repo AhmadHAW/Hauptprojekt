{
 "cells": [
  {
   "cell_type": "markdown",
   "metadata": {},
   "source": [
    "# LLM Tasks\n",
    "Classify Genre given title\n",
    "\n",
    "Predict Similar titles given title\n",
    "\n",
    "Predict Genre Combinations that are not yet popular\n"
   ]
  },
  {
   "cell_type": "code",
   "execution_count": 13,
   "metadata": {},
   "outputs": [],
   "source": [
    "from transformers import BertForSequenceClassification, BertTokenizer\n",
    "from torch_geometric.data import download_url, extract_zip\n",
    "import torch\n",
    "import pandas as pd"
   ]
  },
  {
   "cell_type": "code",
   "execution_count": 6,
   "metadata": {},
   "outputs": [
    {
     "name": "stderr",
     "output_type": "stream",
     "text": [
      "Using existing file ml-latest-small.zip\n",
      "Extracting ./data\\ml-latest-small.zip\n"
     ]
    }
   ],
   "source": [
    "url = 'https://files.grouplens.org/datasets/movielens/ml-latest-small.zip'\n",
    "extract_zip(download_url(url, './data'), './data')\n",
    "\n",
    "movies_path = './data/ml-latest-small/movies.csv'\n",
    "ratings_path = './data/ml-latest-small/ratings.csv'"
   ]
  },
  {
   "cell_type": "code",
   "execution_count": 14,
   "metadata": {},
   "outputs": [
    {
     "name": "stdout",
     "output_type": "stream",
     "text": [
      "movies.csv:\n",
      "===========\n",
      "   movieId                               title  \\\n",
      "0        1                    Toy Story (1995)   \n",
      "1        2                      Jumanji (1995)   \n",
      "2        3             Grumpier Old Men (1995)   \n",
      "3        4            Waiting to Exhale (1995)   \n",
      "4        5  Father of the Bride Part II (1995)   \n",
      "\n",
      "                                        genres  \n",
      "0  Adventure|Animation|Children|Comedy|Fantasy  \n",
      "1                   Adventure|Children|Fantasy  \n",
      "2                               Comedy|Romance  \n",
      "3                         Comedy|Drama|Romance  \n",
      "4                                       Comedy  \n"
     ]
    }
   ],
   "source": [
    "print('movies.csv:')\n",
    "print('===========')\n",
    "movies_df = pd.read_csv(movies_path)\n",
    "genres = movies_df['genres'].str.get_dummies('|')\n",
    "print(movies_df.head())"
   ]
  },
  {
   "cell_type": "code",
   "execution_count": 12,
   "metadata": {},
   "outputs": [
    {
     "name": "stdout",
     "output_type": "stream",
     "text": [
      "ratings.csv:\n",
      "===========\n",
      "   userId  movieId  rating  timestamp\n",
      "0       1        1     4.0  964982703\n",
      "1       1        3     4.0  964981247\n",
      "2       1        6     4.0  964982224\n",
      "3       1       47     5.0  964983815\n",
      "4       1       50     5.0  964982931\n"
     ]
    }
   ],
   "source": [
    "print('ratings.csv:')\n",
    "print('===========')\n",
    "ratings_df = pd.read_csv(ratings_path)\n",
    "print(ratings_df.head())\n"
   ]
  },
  {
   "cell_type": "code",
   "execution_count": 29,
   "metadata": {},
   "outputs": [
    {
     "name": "stdout",
     "output_type": "stream",
     "text": [
      "Mapping of user IDs to consecutive values:\n",
      "==========================================\n",
      "   userId  mappedUserId\n",
      "0       1             0\n",
      "1       2             1\n",
      "2       3             2\n",
      "3       4             3\n",
      "4       5             4\n",
      "\n",
      "Mapping of movie IDs to consecutive values:\n",
      "===========================================\n",
      "   movieId  mappedMovieId                               title\n",
      "0        0              0                    Toy Story (1995)\n",
      "1        1              1                      Jumanji (1995)\n",
      "2        2              2             Grumpier Old Men (1995)\n",
      "3        3              3            Waiting to Exhale (1995)\n",
      "4        4              4  Father of the Bride Part II (1995)\n"
     ]
    }
   ],
   "source": [
    "# Create a mapping from unique user indices to range [0, num_user_nodes):\n",
    "unique_user_id = ratings_df['userId'].unique()\n",
    "unique_user_id = pd.DataFrame(data={\n",
    "    'userId': unique_user_id,\n",
    "    'mappedUserId': pd.RangeIndex(len(unique_user_id)),\n",
    "})\n",
    "print(\"Mapping of user IDs to consecutive values:\")\n",
    "print(\"==========================================\")\n",
    "print(unique_user_id.head())\n",
    "print()\n",
    "# Create a mapping from unique movie indices to range [0, num_movie_nodes):\n",
    "unique_movie_id = pd.DataFrame(data={\n",
    "    'movieId': movies_df.index,\n",
    "    'mappedMovieId': pd.RangeIndex(len(movies_df)),\n",
    "    'title': movies_df[\"title\"]\n",
    "})\n",
    "print(\"Mapping of movie IDs to consecutive values:\")\n",
    "print(\"===========================================\")\n",
    "print(unique_movie_id.head())"
   ]
  },
  {
   "cell_type": "code",
   "execution_count": 31,
   "metadata": {},
   "outputs": [
    {
     "data": {
      "text/html": [
       "<div>\n",
       "<style scoped>\n",
       "    .dataframe tbody tr th:only-of-type {\n",
       "        vertical-align: middle;\n",
       "    }\n",
       "\n",
       "    .dataframe tbody tr th {\n",
       "        vertical-align: top;\n",
       "    }\n",
       "\n",
       "    .dataframe thead th {\n",
       "        text-align: right;\n",
       "    }\n",
       "</style>\n",
       "<table border=\"1\" class=\"dataframe\">\n",
       "  <thead>\n",
       "    <tr style=\"text-align: right;\">\n",
       "      <th></th>\n",
       "      <th>userId</th>\n",
       "      <th>movieId</th>\n",
       "      <th>rating</th>\n",
       "      <th>timestamp</th>\n",
       "      <th>mappedUserId</th>\n",
       "      <th>mappedMovieId</th>\n",
       "      <th>title</th>\n",
       "    </tr>\n",
       "  </thead>\n",
       "  <tbody>\n",
       "    <tr>\n",
       "      <th>0</th>\n",
       "      <td>1</td>\n",
       "      <td>1</td>\n",
       "      <td>4.0</td>\n",
       "      <td>964982703</td>\n",
       "      <td>0</td>\n",
       "      <td>1</td>\n",
       "      <td>Jumanji (1995)</td>\n",
       "    </tr>\n",
       "    <tr>\n",
       "      <th>1</th>\n",
       "      <td>1</td>\n",
       "      <td>3</td>\n",
       "      <td>4.0</td>\n",
       "      <td>964981247</td>\n",
       "      <td>0</td>\n",
       "      <td>3</td>\n",
       "      <td>Waiting to Exhale (1995)</td>\n",
       "    </tr>\n",
       "    <tr>\n",
       "      <th>2</th>\n",
       "      <td>1</td>\n",
       "      <td>6</td>\n",
       "      <td>4.0</td>\n",
       "      <td>964982224</td>\n",
       "      <td>0</td>\n",
       "      <td>6</td>\n",
       "      <td>Sabrina (1995)</td>\n",
       "    </tr>\n",
       "    <tr>\n",
       "      <th>3</th>\n",
       "      <td>1</td>\n",
       "      <td>47</td>\n",
       "      <td>5.0</td>\n",
       "      <td>964983815</td>\n",
       "      <td>0</td>\n",
       "      <td>47</td>\n",
       "      <td>Mighty Aphrodite (1995)</td>\n",
       "    </tr>\n",
       "    <tr>\n",
       "      <th>4</th>\n",
       "      <td>1</td>\n",
       "      <td>50</td>\n",
       "      <td>5.0</td>\n",
       "      <td>964982931</td>\n",
       "      <td>0</td>\n",
       "      <td>50</td>\n",
       "      <td>Georgia (1995)</td>\n",
       "    </tr>\n",
       "    <tr>\n",
       "      <th>...</th>\n",
       "      <td>...</td>\n",
       "      <td>...</td>\n",
       "      <td>...</td>\n",
       "      <td>...</td>\n",
       "      <td>...</td>\n",
       "      <td>...</td>\n",
       "      <td>...</td>\n",
       "    </tr>\n",
       "    <tr>\n",
       "      <th>77934</th>\n",
       "      <td>610</td>\n",
       "      <td>8950</td>\n",
       "      <td>4.5</td>\n",
       "      <td>1493849533</td>\n",
       "      <td>609</td>\n",
       "      <td>8950</td>\n",
       "      <td>Creep (2014)</td>\n",
       "    </tr>\n",
       "    <tr>\n",
       "      <th>77935</th>\n",
       "      <td>610</td>\n",
       "      <td>8957</td>\n",
       "      <td>3.0</td>\n",
       "      <td>1493847395</td>\n",
       "      <td>609</td>\n",
       "      <td>8957</td>\n",
       "      <td>Bad Asses on the Bayou (2015)</td>\n",
       "    </tr>\n",
       "    <tr>\n",
       "      <th>77936</th>\n",
       "      <td>610</td>\n",
       "      <td>8961</td>\n",
       "      <td>5.0</td>\n",
       "      <td>1493844829</td>\n",
       "      <td>609</td>\n",
       "      <td>8961</td>\n",
       "      <td>Villain (1971)</td>\n",
       "    </tr>\n",
       "    <tr>\n",
       "      <th>77937</th>\n",
       "      <td>610</td>\n",
       "      <td>8983</td>\n",
       "      <td>3.5</td>\n",
       "      <td>1493845284</td>\n",
       "      <td>609</td>\n",
       "      <td>8983</td>\n",
       "      <td>Feast (2014)</td>\n",
       "    </tr>\n",
       "    <tr>\n",
       "      <th>77938</th>\n",
       "      <td>610</td>\n",
       "      <td>8985</td>\n",
       "      <td>2.5</td>\n",
       "      <td>1493845630</td>\n",
       "      <td>609</td>\n",
       "      <td>8985</td>\n",
       "      <td>Return to Treasure Island (1988)</td>\n",
       "    </tr>\n",
       "  </tbody>\n",
       "</table>\n",
       "<p>77939 rows × 7 columns</p>\n",
       "</div>"
      ],
      "text/plain": [
       "       userId  movieId  rating   timestamp  mappedUserId  mappedMovieId  \\\n",
       "0           1        1     4.0   964982703             0              1   \n",
       "1           1        3     4.0   964981247             0              3   \n",
       "2           1        6     4.0   964982224             0              6   \n",
       "3           1       47     5.0   964983815             0             47   \n",
       "4           1       50     5.0   964982931             0             50   \n",
       "...       ...      ...     ...         ...           ...            ...   \n",
       "77934     610     8950     4.5  1493849533           609           8950   \n",
       "77935     610     8957     3.0  1493847395           609           8957   \n",
       "77936     610     8961     5.0  1493844829           609           8961   \n",
       "77937     610     8983     3.5  1493845284           609           8983   \n",
       "77938     610     8985     2.5  1493845630           609           8985   \n",
       "\n",
       "                                  title  \n",
       "0                        Jumanji (1995)  \n",
       "1              Waiting to Exhale (1995)  \n",
       "2                        Sabrina (1995)  \n",
       "3               Mighty Aphrodite (1995)  \n",
       "4                        Georgia (1995)  \n",
       "...                                 ...  \n",
       "77934                      Creep (2014)  \n",
       "77935     Bad Asses on the Bayou (2015)  \n",
       "77936                    Villain (1971)  \n",
       "77937                      Feast (2014)  \n",
       "77938  Return to Treasure Island (1988)  \n",
       "\n",
       "[77939 rows x 7 columns]"
      ]
     },
     "execution_count": 31,
     "metadata": {},
     "output_type": "execute_result"
    }
   ],
   "source": [
    "ratings_df.merge(unique_user_id, on=\"userId\", how=\"left\").merge(unique_movie_id, on=\"movieId\")"
   ]
  }
 ],
 "metadata": {
  "kernelspec": {
   "display_name": "hauptprojekt",
   "language": "python",
   "name": "python3"
  },
  "language_info": {
   "codemirror_mode": {
    "name": "ipython",
    "version": 3
   },
   "file_extension": ".py",
   "mimetype": "text/x-python",
   "name": "python",
   "nbconvert_exporter": "python",
   "pygments_lexer": "ipython3",
   "version": "3.12.4"
  }
 },
 "nbformat": 4,
 "nbformat_minor": 2
}
