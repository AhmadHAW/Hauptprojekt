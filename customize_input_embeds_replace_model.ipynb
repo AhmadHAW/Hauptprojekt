{
    "cells": [
        {
            "cell_type": "code",
            "execution_count": 1,
            "metadata": {},
            "outputs": [],
            "source": [
                "from llm_manager import (\n",
                "    SequenceClassifierOutputOverRanges,\n",
                "    EmbeddingBasedClassifier,\n",
                "    ClassifierBase,\n",
                "    ID2LABEL,\n",
                "    LABEL2ID,\n",
                "    MODEL_NAME,\n",
                ")\n",
                "from dataset_manager import ROOT, MovieLensManager, INPUT_EMBEDS_REPLACE_KGE_DIMENSION\n",
                "from graph_representation_generator import GraphRepresentationGenerator\n",
                "from typing import Optional, Union, Tuple\n",
                "import os\n",
                "\n",
                "import torch\n",
                "from torch.nn import BCEWithLogitsLoss, CrossEntropyLoss, MSELoss\n",
                "from transformers import BertForSequenceClassification"
            ]
        },
        {
            "cell_type": "markdown",
            "metadata": {},
            "source": [
                "# Customize Input Embeds Replace Classifier\n",
                "In our first experiments we noticed that replacing the placeholders of the input embeds with the KGEs breakes up the gradient propagation all the way back. To make it even, we will freeze this entire step so that only the attention headers are trained. "
            ]
        },
        {
            "cell_type": "code",
            "execution_count": 2,
            "metadata": {},
            "outputs": [],
            "source": [
                "class GraphPrompterHFFrozenBertForSequenceClassification(\n",
                "    BertForSequenceClassification\n",
                "):\n",
                "    def forward(\n",
                "        self,\n",
                "        input_ids: Optional[torch.Tensor] = None,\n",
                "        attention_mask: Optional[torch.Tensor] = None,\n",
                "        token_type_ids: Optional[torch.Tensor] = None,\n",
                "        position_ids: Optional[torch.Tensor] = None,\n",
                "        head_mask: Optional[torch.Tensor] = None,\n",
                "        inputs_embeds: Optional[torch.Tensor] = None,\n",
                "        labels: Optional[torch.Tensor] = None,\n",
                "        output_attentions: Optional[bool] = None,\n",
                "        output_hidden_states: Optional[bool] = None,\n",
                "        return_dict: Optional[bool] = None,\n",
                "        graph_embeddings: Optional[torch.Tensor] = None,\n",
                "        token_type_ranges: Optional[torch.Tensor] = None,\n",
                "    ) -> Union[Tuple[torch.Tensor], SequenceClassifierOutputOverRanges]:\n",
                "        r\"\"\"\n",
                "        labels (`torch.LongTensor` of shape `(batch_size,)`, *optional*):\n",
                "            Labels for computing the sequence classification/regression loss. Indices should be in `[0, ...,\n",
                "            config.num_labels - 1]`. If `config.num_labels == 1` a regression loss is computed (Mean-Square loss), If\n",
                "            `config.num_labels > 1` a classification loss is computed (Cross-Entropy).\n",
                "        \"\"\"\n",
                "        return_dict = (\n",
                "            return_dict if return_dict is not None else self.config.use_return_dict\n",
                "        )\n",
                "        if inputs_embeds is None:\n",
                "            # CHANGES: we freeze the gradients when producing input embeddings and detach them before passing them on just to be save\n",
                "            with torch.no_grad():\n",
                "                inputs_embeds = self.bert.embeddings(input_ids).detach()\n",
                "            assert isinstance(inputs_embeds, torch.Tensor)\n",
                "        if graph_embeddings is not None and len(graph_embeddings) > 0:\n",
                "            if attention_mask is not None:\n",
                "                mask = (\n",
                "                    (\n",
                "                        (attention_mask.to(self.device).sum(dim=1) - 1)\n",
                "                        .unsqueeze(1)\n",
                "                        .repeat((1, 2))\n",
                "                        - torch.tensor([3, 1], device=self.device)\n",
                "                    )\n",
                "                    .unsqueeze(2)\n",
                "                    .repeat((1, 1, self.config.hidden_size))\n",
                "                )  # basically a mask finding the last positions between the sep tokens (reshaped so they can be used in scatter)\n",
                "                inputs_embeds = inputs_embeds.to(\n",
                "                    self.device\n",
                "                ).scatter(\n",
                "                    1, mask.to(self.device), graph_embeddings.to(self.device)\n",
                "                )  # replace the input embeds at the place holder positions with the KGEs.\n",
                "        outputs = self.bert(\n",
                "            attention_mask=attention_mask,\n",
                "            token_type_ids=token_type_ids,\n",
                "            position_ids=position_ids,\n",
                "            head_mask=head_mask,\n",
                "            inputs_embeds=inputs_embeds,\n",
                "            output_attentions=output_attentions,\n",
                "            output_hidden_states=output_hidden_states,\n",
                "            return_dict=return_dict,\n",
                "        )  # feed forward the input embeds to the attention model\n",
                "\n",
                "        pooled_output = outputs[1]\n",
                "\n",
                "        pooled_output = self.dropout(pooled_output)\n",
                "        logits = self.classifier(pooled_output)\n",
                "        loss = None\n",
                "        if labels is not None:\n",
                "            if self.config.problem_type is None:\n",
                "                if self.num_labels == 1:\n",
                "                    self.config.problem_type = \"regression\"\n",
                "                elif self.num_labels > 1 and (\n",
                "                    labels.dtype == torch.long or labels.dtype == torch.int\n",
                "                ):\n",
                "                    self.config.problem_type = \"single_label_classification\"\n",
                "                else:\n",
                "                    self.config.problem_type = \"multi_label_classification\"\n",
                "\n",
                "            if self.config.problem_type == \"regression\":\n",
                "                loss_fct = MSELoss()\n",
                "                if self.num_labels == 1:\n",
                "                    loss = loss_fct(logits.squeeze(), labels.squeeze())\n",
                "                else:\n",
                "                    loss = loss_fct(logits, labels)\n",
                "            elif self.config.problem_type == \"single_label_classification\":\n",
                "                loss_fct = CrossEntropyLoss()\n",
                "                loss = loss_fct(logits.view(-1, self.num_labels), labels.view(-1))\n",
                "            elif self.config.problem_type == \"multi_label_classification\":\n",
                "                loss_fct = BCEWithLogitsLoss()\n",
                "                loss = loss_fct(logits, labels)\n",
                "        if not return_dict:\n",
                "            output = (logits,) + outputs[2:]\n",
                "            return ((loss,) + output) if loss is not None else output\n",
                "\n",
                "        return SequenceClassifierOutputOverRanges(\n",
                "            loss=loss,\n",
                "            logits=logits,\n",
                "            hidden_states=outputs.hidden_states,\n",
                "            attentions=outputs.attentions,\n",
                "            token_type_ranges=token_type_ranges,\n",
                "        )"
            ]
        },
        {
            "cell_type": "markdown",
            "metadata": {},
            "source": [
                "Next we define the new Classifier the same way the original was defined, with the exception of the model we are loading, which is the new frozen model."
            ]
        },
        {
            "cell_type": "code",
            "execution_count": 3,
            "metadata": {},
            "outputs": [],
            "source": [
                "class GraphPrompterHFFrozenClassifier(EmbeddingBasedClassifier):\n",
                "    def __init__(\n",
                "        self,\n",
                "        kge_manager,\n",
                "        get_embedding_cb,\n",
                "        root_path,\n",
                "        model_name=MODEL_NAME,\n",
                "        model_max_length=256,\n",
                "        false_ratio=1.0,\n",
                "        force_recompute=False,\n",
                "    ) -> None:\n",
                "        training_path = f\"{root_path}/training\"\n",
                "        model_path = f\"{training_path}/best\"\n",
                "\n",
                "        if os.path.exists(model_path) and not force_recompute:\n",
                "            model = (\n",
                "                GraphPrompterHFFrozenBertForSequenceClassification.from_pretrained(\n",
                "                    model_path,\n",
                "                    num_labels=2,\n",
                "                    id2label=ID2LABEL,\n",
                "                    label2id=LABEL2ID,\n",
                "                )\n",
                "            )\n",
                "        else:\n",
                "            model = (\n",
                "                GraphPrompterHFFrozenBertForSequenceClassification.from_pretrained(\n",
                "                    model_name, num_labels=2, id2label=ID2LABEL, label2id=LABEL2ID\n",
                "                )\n",
                "            )\n",
                "        assert isinstance(model, BertForSequenceClassification)\n",
                "        super().__init__(\n",
                "            kge_manager,\n",
                "            get_embedding_cb,\n",
                "            root_path,\n",
                "            model,\n",
                "            model_name,\n",
                "            model_max_length,\n",
                "            false_ratio,\n",
                "            force_recompute,\n",
                "        )\n",
                "\n",
                "    def plot_training_loss_and_accuracy(self):\n",
                "        model_type = \"Input Embeds Replace\"\n",
                "        self._plot_training_loss_and_accuracy(model_type)"
            ]
        },
        {
            "cell_type": "markdown",
            "metadata": {},
            "source": [
                "Now comes the whole training procedure (see training_models.ipynb)"
            ]
        },
        {
            "cell_type": "code",
            "execution_count": 4,
            "metadata": {},
            "outputs": [
                {
                    "name": "stdout",
                    "output_type": "stream",
                    "text": [
                        "loading pretrained model\n",
                        "Device: 'cuda'\n"
                    ]
                }
            ],
            "source": [
                "kg_manager = MovieLensManager()\n",
                "EPOCHS = 20\n",
                "BATCH_SIZE = 256\n",
                "graph_representation_generator_graph_prompter_hf = GraphRepresentationGenerator(\n",
                "    kg_manager.data,\n",
                "    kg_manager.gnn_train_data,\n",
                "    kg_manager.gnn_val_data,\n",
                "    kg_manager.gnn_test_data,\n",
                "    hidden_channels=INPUT_EMBEDS_REPLACE_KGE_DIMENSION,\n",
                "    kge_dimension=INPUT_EMBEDS_REPLACE_KGE_DIMENSION,\n",
                ")\n",
                "graph_prompter_hf_embeddings = (\n",
                "    graph_representation_generator_graph_prompter_hf.get_saved_embeddings(\n",
                "        \"graph_prompter_hf\"\n",
                "    )\n",
                ")\n",
                "save = False\n",
                "if graph_prompter_hf_embeddings is None:\n",
                "    graph_prompter_hf_embeddings = (\n",
                "        graph_representation_generator_graph_prompter_hf.generate_embeddings(\n",
                "            kg_manager.llm_df\n",
                "        )\n",
                "    )\n",
                "    save = True\n",
                "kg_manager.append_graph_prompter_hf_graph_embeddings(\n",
                "    graph_prompter_hf_embeddings, save=save\n",
                ")"
            ]
        },
        {
            "cell_type": "code",
            "execution_count": 5,
            "metadata": {},
            "outputs": [
                {
                    "name": "stderr",
                    "output_type": "stream",
                    "text": [
                        "Some weights of GraphPrompterHFFrozenBertForSequenceClassification were not initialized from the model checkpoint at google/bert_uncased_L-2_H-128_A-2 and are newly initialized: ['classifier.bias', 'classifier.weight']\n",
                        "You should probably TRAIN this model on a down-stream task to be able to use it for predictions and inference.\n"
                    ]
                },
                {
                    "data": {
                        "text/plain": [
                            "DatasetDict({\n",
                            "    train: Dataset({\n",
                            "        features: ['source_id', 'target_id', 'id_x', 'id_y', 'prompt_feature_title', 'prompt_feature_genres', 'labels', 'split', 'prompt', 'gnn_feature_(no genres listed)', 'gnn_feature_Action', 'gnn_feature_Adventure', 'gnn_feature_Animation', 'gnn_feature_Children', 'gnn_feature_Comedy', 'gnn_feature_Crime', 'gnn_feature_Documentary', 'gnn_feature_Drama', 'gnn_feature_Fantasy', 'gnn_feature_Film-Noir', 'gnn_feature_Horror', 'gnn_feature_IMAX', 'gnn_feature_Musical', 'gnn_feature_Mystery', 'gnn_feature_Romance', 'gnn_feature_Sci-Fi', 'gnn_feature_Thriller', 'gnn_feature_War', 'gnn_feature_Western', 'graph_prompter_hf_source_embedding', 'graph_prompter_hf_target_embedding', 'graph_embeddings', 'input_ids', 'attention_mask', 'token_type_ranges'],\n",
                            "        num_rows: 56469\n",
                            "    })\n",
                            "    val: Dataset({\n",
                            "        features: ['source_id', 'target_id', 'id_x', 'id_y', 'prompt_feature_title', 'prompt_feature_genres', 'labels', 'split', 'prompt', 'gnn_feature_(no genres listed)', 'gnn_feature_Action', 'gnn_feature_Adventure', 'gnn_feature_Animation', 'gnn_feature_Children', 'gnn_feature_Comedy', 'gnn_feature_Crime', 'gnn_feature_Documentary', 'gnn_feature_Drama', 'gnn_feature_Fantasy', 'gnn_feature_Film-Noir', 'gnn_feature_Horror', 'gnn_feature_IMAX', 'gnn_feature_Musical', 'gnn_feature_Mystery', 'gnn_feature_Romance', 'gnn_feature_Sci-Fi', 'gnn_feature_Thriller', 'gnn_feature_War', 'gnn_feature_Western', 'graph_prompter_hf_source_embedding', 'graph_prompter_hf_target_embedding', 'graph_embeddings', 'input_ids', 'attention_mask', 'token_type_ranges'],\n",
                            "        num_rows: 34284\n",
                            "    })\n",
                            "    test: Dataset({\n",
                            "        features: ['source_id', 'target_id', 'id_x', 'id_y', 'prompt_feature_title', 'prompt_feature_genres', 'labels', 'split', 'prompt', 'gnn_feature_(no genres listed)', 'gnn_feature_Action', 'gnn_feature_Adventure', 'gnn_feature_Animation', 'gnn_feature_Children', 'gnn_feature_Comedy', 'gnn_feature_Crime', 'gnn_feature_Documentary', 'gnn_feature_Drama', 'gnn_feature_Fantasy', 'gnn_feature_Film-Noir', 'gnn_feature_Horror', 'gnn_feature_IMAX', 'gnn_feature_Musical', 'gnn_feature_Mystery', 'gnn_feature_Romance', 'gnn_feature_Sci-Fi', 'gnn_feature_Thriller', 'gnn_feature_War', 'gnn_feature_Western', 'graph_prompter_hf_source_embedding', 'graph_prompter_hf_target_embedding', 'graph_embeddings', 'input_ids', 'attention_mask', 'token_type_ranges'],\n",
                            "        num_rows: 34284\n",
                            "    })\n",
                            "})"
                        ]
                    },
                    "execution_count": 5,
                    "metadata": {},
                    "output_type": "execute_result"
                }
            ],
            "source": [
                "INPUT_EMBEDS_REPLACE_FROZEN_ROOT = (\n",
                "    f\"{ROOT}/llm/graph_prompter_hf_frozen\"  # make sure the dir exists\n",
                ")\n",
                "if not os.path.exists(INPUT_EMBEDS_REPLACE_FROZEN_ROOT):\n",
                "    os.makedirs(INPUT_EMBEDS_REPLACE_FROZEN_ROOT)\n",
                "graph_prompter_hf_frozen_bert_classifier = GraphPrompterHFFrozenClassifier(\n",
                "    kg_manager,\n",
                "    graph_representation_generator_graph_prompter_hf.get_embedding,\n",
                "    root_path=INPUT_EMBEDS_REPLACE_FROZEN_ROOT,\n",
                ")\n",
                "dataset_graph_prompter_hf = (\n",
                "    kg_manager.generate_graph_prompter_hf_embedding_dataset(\n",
                "        graph_prompter_hf_frozen_bert_classifier.tokenizer.sep_token,\n",
                "        graph_prompter_hf_frozen_bert_classifier.tokenizer.pad_token,\n",
                "        graph_prompter_hf_frozen_bert_classifier.tokenize_function,\n",
                "        force_recompute=False,\n",
                "    )\n",
                ")\n",
                "dataset_graph_prompter_hf"
            ]
        },
        {
            "cell_type": "code",
            "execution_count": 6,
            "metadata": {},
            "outputs": [
                {
                    "data": {
                        "application/vnd.jupyter.widget-view+json": {
                            "model_id": "d58a512d037c4f4ebd6cc131d369a80b",
                            "version_major": 2,
                            "version_minor": 0
                        },
                        "text/plain": [
                            "  0%|          | 0/4420 [00:00<?, ?it/s]"
                        ]
                    },
                    "metadata": {},
                    "output_type": "display_data"
                },
                {
                    "name": "stderr",
                    "output_type": "stream",
                    "text": [
                        "c:\\Users\\MARS\\.conda\\envs\\hauptprojekt\\Lib\\site-packages\\transformers\\models\\bert\\modeling_bert.py:439: UserWarning: 1Torch was not compiled with flash attention. (Triggered internally at ..\\aten\\src\\ATen\\native\\transformers\\cuda\\sdp_utils.cpp:455.)\n",
                        "  attn_output = torch.nn.functional.scaled_dot_product_attention(\n"
                    ]
                },
                {
                    "name": "stdout",
                    "output_type": "stream",
                    "text": [
                        "{'loss': 0.7055, 'grad_norm': 0.6920956969261169, 'learning_rate': 1.0000000000000002e-06, 'epoch': 0.05}\n",
                        "{'loss': 0.7042, 'grad_norm': 1.1834245920181274, 'learning_rate': 2.0000000000000003e-06, 'epoch': 0.09}\n",
                        "{'loss': 0.7011, 'grad_norm': 0.6951578855514526, 'learning_rate': 3e-06, 'epoch': 0.14}\n",
                        "{'loss': 0.7024, 'grad_norm': 0.6460822820663452, 'learning_rate': 4.000000000000001e-06, 'epoch': 0.18}\n",
                        "{'loss': 0.7003, 'grad_norm': 0.737121045589447, 'learning_rate': 5e-06, 'epoch': 0.23}\n",
                        "{'loss': 0.6973, 'grad_norm': 1.1496777534484863, 'learning_rate': 6e-06, 'epoch': 0.27}\n",
                        "{'loss': 0.6954, 'grad_norm': 0.5198498368263245, 'learning_rate': 7.000000000000001e-06, 'epoch': 0.32}\n",
                        "{'loss': 0.695, 'grad_norm': 0.4533461630344391, 'learning_rate': 8.000000000000001e-06, 'epoch': 0.36}\n",
                        "{'loss': 0.6926, 'grad_norm': 0.4349064230918884, 'learning_rate': 9e-06, 'epoch': 0.41}\n",
                        "{'loss': 0.6885, 'grad_norm': 0.5290090441703796, 'learning_rate': 1e-05, 'epoch': 0.45}\n",
                        "{'loss': 0.6837, 'grad_norm': 0.5029398202896118, 'learning_rate': 1.1000000000000001e-05, 'epoch': 0.5}\n",
                        "{'loss': 0.6819, 'grad_norm': 0.4907887279987335, 'learning_rate': 1.2e-05, 'epoch': 0.54}\n",
                        "{'loss': 0.6782, 'grad_norm': 0.5006850361824036, 'learning_rate': 1.3000000000000001e-05, 'epoch': 0.59}\n",
                        "{'loss': 0.6697, 'grad_norm': 0.7987362146377563, 'learning_rate': 1.4000000000000001e-05, 'epoch': 0.63}\n",
                        "{'loss': 0.6663, 'grad_norm': 0.7914993762969971, 'learning_rate': 1.5e-05, 'epoch': 0.68}\n",
                        "{'loss': 0.6544, 'grad_norm': 0.4278554916381836, 'learning_rate': 1.6000000000000003e-05, 'epoch': 0.72}\n",
                        "{'loss': 0.6529, 'grad_norm': 0.6039032340049744, 'learning_rate': 1.7000000000000003e-05, 'epoch': 0.77}\n",
                        "{'loss': 0.6384, 'grad_norm': 0.5314583778381348, 'learning_rate': 1.8e-05, 'epoch': 0.81}\n",
                        "{'loss': 0.6344, 'grad_norm': 0.6221603155136108, 'learning_rate': 1.9e-05, 'epoch': 0.86}\n",
                        "{'loss': 0.6306, 'grad_norm': 0.8097779750823975, 'learning_rate': 2e-05, 'epoch': 0.9}\n",
                        "{'loss': 0.6148, 'grad_norm': 0.7153388857841492, 'learning_rate': 2.1e-05, 'epoch': 0.95}\n",
                        "{'loss': 0.608, 'grad_norm': 0.5797745585441589, 'learning_rate': 2.2000000000000003e-05, 'epoch': 1.0}\n"
                    ]
                },
                {
                    "data": {
                        "application/vnd.jupyter.widget-view+json": {
                            "model_id": "7f7745bc06484dec86c2223f0a4064f9",
                            "version_major": 2,
                            "version_minor": 0
                        },
                        "text/plain": [
                            "  0%|          | 0/134 [00:00<?, ?it/s]"
                        ]
                    },
                    "metadata": {},
                    "output_type": "display_data"
                },
                {
                    "name": "stdout",
                    "output_type": "stream",
                    "text": [
                        "{'eval_loss': 0.5785201787948608, 'eval_accuracy': 0.7287947730719869, 'eval_runtime': 31.0727, 'eval_samples_per_second': 1103.347, 'eval_steps_per_second': 4.312, 'epoch': 1.0}\n",
                        "{'loss': 0.6016, 'grad_norm': 0.6119468212127686, 'learning_rate': 2.3000000000000003e-05, 'epoch': 1.04}\n",
                        "{'loss': 0.6047, 'grad_norm': 0.5500653386116028, 'learning_rate': 2.4e-05, 'epoch': 1.09}\n",
                        "{'loss': 0.5903, 'grad_norm': 0.7359963059425354, 'learning_rate': 2.5e-05, 'epoch': 1.13}\n",
                        "{'loss': 0.5866, 'grad_norm': 0.9616073369979858, 'learning_rate': 2.6000000000000002e-05, 'epoch': 1.18}\n",
                        "{'loss': 0.5692, 'grad_norm': 0.8594094514846802, 'learning_rate': 2.7000000000000002e-05, 'epoch': 1.22}\n",
                        "{'loss': 0.5854, 'grad_norm': 0.8118565082550049, 'learning_rate': 2.8000000000000003e-05, 'epoch': 1.27}\n",
                        "{'loss': 0.5623, 'grad_norm': 0.7552378177642822, 'learning_rate': 2.9e-05, 'epoch': 1.31}\n",
                        "{'loss': 0.567, 'grad_norm': 0.5573002696037292, 'learning_rate': 3e-05, 'epoch': 1.36}\n",
                        "{'loss': 0.5685, 'grad_norm': 0.5983429551124573, 'learning_rate': 3.1e-05, 'epoch': 1.4}\n",
                        "{'loss': 0.5837, 'grad_norm': 0.7626038789749146, 'learning_rate': 3.2000000000000005e-05, 'epoch': 1.45}\n",
                        "{'loss': 0.5661, 'grad_norm': 0.6355108618736267, 'learning_rate': 3.3e-05, 'epoch': 1.49}\n",
                        "{'loss': 0.555, 'grad_norm': 0.6210779547691345, 'learning_rate': 3.4000000000000007e-05, 'epoch': 1.54}\n",
                        "{'loss': 0.541, 'grad_norm': 0.6833014488220215, 'learning_rate': 3.5e-05, 'epoch': 1.58}\n",
                        "{'loss': 0.5563, 'grad_norm': 0.4982384145259857, 'learning_rate': 3.6e-05, 'epoch': 1.63}\n",
                        "{'loss': 0.5476, 'grad_norm': 0.655081033706665, 'learning_rate': 3.7e-05, 'epoch': 1.67}\n",
                        "{'loss': 0.5313, 'grad_norm': 1.3119052648544312, 'learning_rate': 3.8e-05, 'epoch': 1.72}\n",
                        "{'loss': 0.544, 'grad_norm': 0.6379653215408325, 'learning_rate': 3.9000000000000006e-05, 'epoch': 1.76}\n",
                        "{'loss': 0.5164, 'grad_norm': 0.7915986180305481, 'learning_rate': 4e-05, 'epoch': 1.81}\n",
                        "{'loss': 0.528, 'grad_norm': 0.7412219047546387, 'learning_rate': 4.1e-05, 'epoch': 1.86}\n",
                        "{'loss': 0.5197, 'grad_norm': 1.136104702949524, 'learning_rate': 4.2e-05, 'epoch': 1.9}\n",
                        "{'loss': 0.5138, 'grad_norm': 0.9606473445892334, 'learning_rate': 4.3e-05, 'epoch': 1.95}\n",
                        "{'loss': 0.517, 'grad_norm': 0.8222392797470093, 'learning_rate': 4.4000000000000006e-05, 'epoch': 1.99}\n"
                    ]
                },
                {
                    "data": {
                        "application/vnd.jupyter.widget-view+json": {
                            "model_id": "a781dc57207143f2916a7bcc70b25d66",
                            "version_major": 2,
                            "version_minor": 0
                        },
                        "text/plain": [
                            "  0%|          | 0/134 [00:00<?, ?it/s]"
                        ]
                    },
                    "metadata": {},
                    "output_type": "display_data"
                },
                {
                    "name": "stdout",
                    "output_type": "stream",
                    "text": [
                        "{'eval_loss': 0.44817566871643066, 'eval_accuracy': 0.7996441488741104, 'eval_runtime': 30.6204, 'eval_samples_per_second': 1119.646, 'eval_steps_per_second': 4.376, 'epoch': 2.0}\n",
                        "{'loss': 0.4969, 'grad_norm': 1.1562436819076538, 'learning_rate': 4.5e-05, 'epoch': 2.04}\n",
                        "{'loss': 0.4671, 'grad_norm': 0.8428548574447632, 'learning_rate': 4.600000000000001e-05, 'epoch': 2.08}\n",
                        "{'loss': 0.4675, 'grad_norm': 0.7837862968444824, 'learning_rate': 4.7e-05, 'epoch': 2.13}\n",
                        "{'loss': 0.4484, 'grad_norm': 2.057143449783325, 'learning_rate': 4.8e-05, 'epoch': 2.17}\n",
                        "{'loss': 0.447, 'grad_norm': 0.8299083113670349, 'learning_rate': 4.9e-05, 'epoch': 2.22}\n",
                        "{'loss': 0.4455, 'grad_norm': 1.5028512477874756, 'learning_rate': 5e-05, 'epoch': 2.26}\n",
                        "{'loss': 0.4182, 'grad_norm': 1.727279543876648, 'learning_rate': 4.987244897959184e-05, 'epoch': 2.31}\n",
                        "{'loss': 0.4397, 'grad_norm': 0.6622062921524048, 'learning_rate': 4.974489795918368e-05, 'epoch': 2.35}\n",
                        "{'loss': 0.4254, 'grad_norm': 0.679668128490448, 'learning_rate': 4.961734693877551e-05, 'epoch': 2.4}\n",
                        "{'loss': 0.4086, 'grad_norm': 0.7577984929084778, 'learning_rate': 4.9489795918367346e-05, 'epoch': 2.44}\n",
                        "{'loss': 0.412, 'grad_norm': 1.2153472900390625, 'learning_rate': 4.9362244897959184e-05, 'epoch': 2.49}\n",
                        "{'loss': 0.4165, 'grad_norm': 0.8625776171684265, 'learning_rate': 4.923469387755102e-05, 'epoch': 2.53}\n",
                        "{'loss': 0.3955, 'grad_norm': 0.8109550476074219, 'learning_rate': 4.910714285714286e-05, 'epoch': 2.58}\n",
                        "{'loss': 0.4058, 'grad_norm': 0.7205060720443726, 'learning_rate': 4.89795918367347e-05, 'epoch': 2.62}\n",
                        "{'loss': 0.3986, 'grad_norm': 0.9806261658668518, 'learning_rate': 4.8852040816326534e-05, 'epoch': 2.67}\n",
                        "{'loss': 0.4095, 'grad_norm': 0.9302304983139038, 'learning_rate': 4.872448979591837e-05, 'epoch': 2.71}\n",
                        "{'loss': 0.3967, 'grad_norm': 0.7086514830589294, 'learning_rate': 4.859693877551021e-05, 'epoch': 2.76}\n",
                        "{'loss': 0.4114, 'grad_norm': 1.0907001495361328, 'learning_rate': 4.846938775510204e-05, 'epoch': 2.81}\n",
                        "{'loss': 0.3625, 'grad_norm': 0.7862990498542786, 'learning_rate': 4.834183673469388e-05, 'epoch': 2.85}\n",
                        "{'loss': 0.3842, 'grad_norm': 1.0104587078094482, 'learning_rate': 4.8214285714285716e-05, 'epoch': 2.9}\n",
                        "{'loss': 0.3801, 'grad_norm': 0.9419922232627869, 'learning_rate': 4.8086734693877554e-05, 'epoch': 2.94}\n",
                        "{'loss': 0.3837, 'grad_norm': 0.5928751230239868, 'learning_rate': 4.795918367346939e-05, 'epoch': 2.99}\n"
                    ]
                },
                {
                    "data": {
                        "application/vnd.jupyter.widget-view+json": {
                            "model_id": "f42922dc16cb4b50a7019968b3e3b70f",
                            "version_major": 2,
                            "version_minor": 0
                        },
                        "text/plain": [
                            "  0%|          | 0/134 [00:00<?, ?it/s]"
                        ]
                    },
                    "metadata": {},
                    "output_type": "display_data"
                },
                {
                    "name": "stdout",
                    "output_type": "stream",
                    "text": [
                        "{'eval_loss': 0.344199538230896, 'eval_accuracy': 0.8500466690001167, 'eval_runtime': 31.0972, 'eval_samples_per_second': 1102.479, 'eval_steps_per_second': 4.309, 'epoch': 3.0}\n",
                        "{'loss': 0.3803, 'grad_norm': 0.8910186886787415, 'learning_rate': 4.783163265306123e-05, 'epoch': 3.03}\n",
                        "{'loss': 0.3743, 'grad_norm': 0.8793795704841614, 'learning_rate': 4.7704081632653066e-05, 'epoch': 3.08}\n",
                        "{'loss': 0.3847, 'grad_norm': 0.8121848702430725, 'learning_rate': 4.7576530612244904e-05, 'epoch': 3.12}\n",
                        "{'loss': 0.3776, 'grad_norm': 0.7177539467811584, 'learning_rate': 4.744897959183674e-05, 'epoch': 3.17}\n",
                        "{'loss': 0.369, 'grad_norm': 1.1468653678894043, 'learning_rate': 4.732142857142857e-05, 'epoch': 3.21}\n",
                        "{'loss': 0.3769, 'grad_norm': 0.8686121106147766, 'learning_rate': 4.719387755102041e-05, 'epoch': 3.26}\n",
                        "{'loss': 0.3783, 'grad_norm': 0.9090591669082642, 'learning_rate': 4.706632653061225e-05, 'epoch': 3.3}\n",
                        "{'loss': 0.3545, 'grad_norm': 0.861648678779602, 'learning_rate': 4.6938775510204086e-05, 'epoch': 3.35}\n",
                        "{'loss': 0.3699, 'grad_norm': 0.9698889255523682, 'learning_rate': 4.6811224489795916e-05, 'epoch': 3.39}\n",
                        "{'loss': 0.3675, 'grad_norm': 0.6445688605308533, 'learning_rate': 4.6683673469387754e-05, 'epoch': 3.44}\n",
                        "{'loss': 0.3648, 'grad_norm': 1.3140379190444946, 'learning_rate': 4.655612244897959e-05, 'epoch': 3.48}\n",
                        "{'loss': 0.3727, 'grad_norm': 0.8502628207206726, 'learning_rate': 4.642857142857143e-05, 'epoch': 3.53}\n",
                        "{'loss': 0.3525, 'grad_norm': 0.8415287137031555, 'learning_rate': 4.630102040816327e-05, 'epoch': 3.57}\n",
                        "{'loss': 0.3749, 'grad_norm': 1.215450644493103, 'learning_rate': 4.6173469387755105e-05, 'epoch': 3.62}\n",
                        "{'loss': 0.3797, 'grad_norm': 0.9057748913764954, 'learning_rate': 4.604591836734694e-05, 'epoch': 3.67}\n",
                        "{'loss': 0.374, 'grad_norm': 0.929571807384491, 'learning_rate': 4.591836734693878e-05, 'epoch': 3.71}\n",
                        "{'loss': 0.3835, 'grad_norm': 0.6951085329055786, 'learning_rate': 4.579081632653062e-05, 'epoch': 3.76}\n",
                        "{'loss': 0.3498, 'grad_norm': 0.8636166453361511, 'learning_rate': 4.566326530612245e-05, 'epoch': 3.8}\n",
                        "{'loss': 0.3703, 'grad_norm': 0.8131382465362549, 'learning_rate': 4.5535714285714286e-05, 'epoch': 3.85}\n",
                        "{'loss': 0.3393, 'grad_norm': 0.7056335806846619, 'learning_rate': 4.5408163265306124e-05, 'epoch': 3.89}\n",
                        "{'loss': 0.3638, 'grad_norm': 0.8196306824684143, 'learning_rate': 4.528061224489796e-05, 'epoch': 3.94}\n",
                        "{'loss': 0.3502, 'grad_norm': 0.9068329930305481, 'learning_rate': 4.515306122448979e-05, 'epoch': 3.98}\n"
                    ]
                },
                {
                    "data": {
                        "application/vnd.jupyter.widget-view+json": {
                            "model_id": "7eb0f8ea4fe54c7195a600bf30cc523b",
                            "version_major": 2,
                            "version_minor": 0
                        },
                        "text/plain": [
                            "  0%|          | 0/134 [00:00<?, ?it/s]"
                        ]
                    },
                    "metadata": {},
                    "output_type": "display_data"
                },
                {
                    "name": "stdout",
                    "output_type": "stream",
                    "text": [
                        "{'eval_loss': 0.31359803676605225, 'eval_accuracy': 0.8663808190409521, 'eval_runtime': 31.0598, 'eval_samples_per_second': 1103.806, 'eval_steps_per_second': 4.314, 'epoch': 4.0}\n",
                        "{'loss': 0.3451, 'grad_norm': 1.0744616985321045, 'learning_rate': 4.502551020408164e-05, 'epoch': 4.03}\n",
                        "{'loss': 0.3487, 'grad_norm': 1.2852296829223633, 'learning_rate': 4.4897959183673474e-05, 'epoch': 4.07}\n",
                        "{'loss': 0.382, 'grad_norm': 1.281740665435791, 'learning_rate': 4.477040816326531e-05, 'epoch': 4.12}\n",
                        "{'loss': 0.3606, 'grad_norm': 0.8177499175071716, 'learning_rate': 4.464285714285715e-05, 'epoch': 4.16}\n",
                        "{'loss': 0.3532, 'grad_norm': 0.773481547832489, 'learning_rate': 4.451530612244898e-05, 'epoch': 4.21}\n",
                        "{'loss': 0.3415, 'grad_norm': 0.6825517416000366, 'learning_rate': 4.438775510204082e-05, 'epoch': 4.25}\n",
                        "{'loss': 0.3449, 'grad_norm': 0.9061127305030823, 'learning_rate': 4.4260204081632656e-05, 'epoch': 4.3}\n",
                        "{'loss': 0.3442, 'grad_norm': 0.6647849082946777, 'learning_rate': 4.4132653061224493e-05, 'epoch': 4.34}\n",
                        "{'loss': 0.3655, 'grad_norm': 0.7862443327903748, 'learning_rate': 4.4005102040816324e-05, 'epoch': 4.39}\n",
                        "{'loss': 0.3467, 'grad_norm': 0.8189405798912048, 'learning_rate': 4.387755102040816e-05, 'epoch': 4.43}\n",
                        "{'loss': 0.3629, 'grad_norm': 0.8288792371749878, 'learning_rate': 4.375e-05, 'epoch': 4.48}\n",
                        "{'loss': 0.3675, 'grad_norm': 0.7616240382194519, 'learning_rate': 4.362244897959184e-05, 'epoch': 4.52}\n",
                        "{'loss': 0.3451, 'grad_norm': 0.8113358020782471, 'learning_rate': 4.3494897959183675e-05, 'epoch': 4.57}\n",
                        "{'loss': 0.3575, 'grad_norm': 0.9344717860221863, 'learning_rate': 4.336734693877551e-05, 'epoch': 4.62}\n",
                        "{'loss': 0.3565, 'grad_norm': 0.6068547964096069, 'learning_rate': 4.323979591836735e-05, 'epoch': 4.66}\n",
                        "{'loss': 0.3506, 'grad_norm': 1.305334448814392, 'learning_rate': 4.311224489795919e-05, 'epoch': 4.71}\n",
                        "{'loss': 0.3399, 'grad_norm': 0.6781584620475769, 'learning_rate': 4.2984693877551025e-05, 'epoch': 4.75}\n",
                        "{'loss': 0.3555, 'grad_norm': 1.0307587385177612, 'learning_rate': 4.2857142857142856e-05, 'epoch': 4.8}\n",
                        "{'loss': 0.3626, 'grad_norm': 0.6971452832221985, 'learning_rate': 4.2729591836734694e-05, 'epoch': 4.84}\n",
                        "{'loss': 0.3404, 'grad_norm': 0.7962480187416077, 'learning_rate': 4.260204081632653e-05, 'epoch': 4.89}\n",
                        "{'loss': 0.3302, 'grad_norm': 0.7378038167953491, 'learning_rate': 4.247448979591837e-05, 'epoch': 4.93}\n",
                        "{'loss': 0.327, 'grad_norm': 0.9468066096305847, 'learning_rate': 4.234693877551021e-05, 'epoch': 4.98}\n"
                    ]
                },
                {
                    "data": {
                        "application/vnd.jupyter.widget-view+json": {
                            "model_id": "d5bcf3a820814ac9a3013c0cc3581c99",
                            "version_major": 2,
                            "version_minor": 0
                        },
                        "text/plain": [
                            "  0%|          | 0/134 [00:00<?, ?it/s]"
                        ]
                    },
                    "metadata": {},
                    "output_type": "display_data"
                },
                {
                    "name": "stdout",
                    "output_type": "stream",
                    "text": [
                        "{'eval_loss': 0.29713767766952515, 'eval_accuracy': 0.8734978415587447, 'eval_runtime': 30.545, 'eval_samples_per_second': 1122.408, 'eval_steps_per_second': 4.387, 'epoch': 5.0}\n",
                        "{'loss': 0.3475, 'grad_norm': 0.8401666283607483, 'learning_rate': 4.2219387755102045e-05, 'epoch': 5.02}\n",
                        "{'loss': 0.3402, 'grad_norm': 0.6340931057929993, 'learning_rate': 4.209183673469388e-05, 'epoch': 5.07}\n",
                        "{'loss': 0.3463, 'grad_norm': 0.9996523857116699, 'learning_rate': 4.196428571428572e-05, 'epoch': 5.11}\n",
                        "{'loss': 0.3364, 'grad_norm': 0.9060143828392029, 'learning_rate': 4.183673469387756e-05, 'epoch': 5.16}\n",
                        "{'loss': 0.3234, 'grad_norm': 0.677783191204071, 'learning_rate': 4.170918367346939e-05, 'epoch': 5.2}\n",
                        "{'loss': 0.3215, 'grad_norm': 0.8394181132316589, 'learning_rate': 4.1581632653061226e-05, 'epoch': 5.25}\n",
                        "{'loss': 0.3377, 'grad_norm': 0.8322839736938477, 'learning_rate': 4.1454081632653064e-05, 'epoch': 5.29}\n",
                        "{'loss': 0.3432, 'grad_norm': 0.7714694142341614, 'learning_rate': 4.13265306122449e-05, 'epoch': 5.34}\n",
                        "{'loss': 0.3441, 'grad_norm': 0.9001675248146057, 'learning_rate': 4.119897959183674e-05, 'epoch': 5.38}\n",
                        "{'loss': 0.3348, 'grad_norm': 0.8449530601501465, 'learning_rate': 4.107142857142857e-05, 'epoch': 5.43}\n",
                        "{'loss': 0.3331, 'grad_norm': 0.7548395395278931, 'learning_rate': 4.094387755102041e-05, 'epoch': 5.48}\n",
                        "{'loss': 0.3319, 'grad_norm': 1.0967472791671753, 'learning_rate': 4.0816326530612245e-05, 'epoch': 5.52}\n",
                        "{'loss': 0.3237, 'grad_norm': 0.7882025241851807, 'learning_rate': 4.068877551020408e-05, 'epoch': 5.57}\n",
                        "{'loss': 0.3284, 'grad_norm': 0.8206542730331421, 'learning_rate': 4.056122448979592e-05, 'epoch': 5.61}\n",
                        "{'loss': 0.3198, 'grad_norm': 0.8704517483711243, 'learning_rate': 4.043367346938776e-05, 'epoch': 5.66}\n",
                        "{'loss': 0.3385, 'grad_norm': 0.908204972743988, 'learning_rate': 4.0306122448979596e-05, 'epoch': 5.7}\n",
                        "{'loss': 0.337, 'grad_norm': 1.0042929649353027, 'learning_rate': 4.017857142857143e-05, 'epoch': 5.75}\n",
                        "{'loss': 0.3396, 'grad_norm': 1.0382636785507202, 'learning_rate': 4.0051020408163264e-05, 'epoch': 5.79}\n",
                        "{'loss': 0.3147, 'grad_norm': 0.8031811118125916, 'learning_rate': 3.99234693877551e-05, 'epoch': 5.84}\n",
                        "{'loss': 0.3258, 'grad_norm': 0.6933413743972778, 'learning_rate': 3.979591836734694e-05, 'epoch': 5.88}\n",
                        "{'loss': 0.322, 'grad_norm': 0.8038663268089294, 'learning_rate': 3.966836734693878e-05, 'epoch': 5.93}\n",
                        "{'loss': 0.3113, 'grad_norm': 0.812766969203949, 'learning_rate': 3.9540816326530615e-05, 'epoch': 5.97}\n"
                    ]
                },
                {
                    "data": {
                        "application/vnd.jupyter.widget-view+json": {
                            "model_id": "b255d16f920c4692a22ab3913eb478fa",
                            "version_major": 2,
                            "version_minor": 0
                        },
                        "text/plain": [
                            "  0%|          | 0/134 [00:00<?, ?it/s]"
                        ]
                    },
                    "metadata": {},
                    "output_type": "display_data"
                },
                {
                    "name": "stdout",
                    "output_type": "stream",
                    "text": [
                        "{'eval_loss': 0.2820236384868622, 'eval_accuracy': 0.8826566328316415, 'eval_runtime': 30.4241, 'eval_samples_per_second': 1126.869, 'eval_steps_per_second': 4.404, 'epoch': 6.0}\n",
                        "{'loss': 0.3188, 'grad_norm': 1.1288292407989502, 'learning_rate': 3.9413265306122446e-05, 'epoch': 6.02}\n",
                        "{'loss': 0.3305, 'grad_norm': 0.8152766227722168, 'learning_rate': 3.928571428571429e-05, 'epoch': 6.06}\n",
                        "{'loss': 0.3301, 'grad_norm': 0.844337522983551, 'learning_rate': 3.915816326530613e-05, 'epoch': 6.11}\n",
                        "{'loss': 0.327, 'grad_norm': 1.0029500722885132, 'learning_rate': 3.9030612244897965e-05, 'epoch': 6.15}\n",
                        "{'loss': 0.3234, 'grad_norm': 0.7166342735290527, 'learning_rate': 3.8903061224489796e-05, 'epoch': 6.2}\n",
                        "{'loss': 0.3117, 'grad_norm': 0.8200662732124329, 'learning_rate': 3.8775510204081634e-05, 'epoch': 6.24}\n",
                        "{'loss': 0.3262, 'grad_norm': 0.9191544055938721, 'learning_rate': 3.864795918367347e-05, 'epoch': 6.29}\n",
                        "{'loss': 0.3219, 'grad_norm': 1.213193416595459, 'learning_rate': 3.852040816326531e-05, 'epoch': 6.33}\n",
                        "{'loss': 0.306, 'grad_norm': 0.9800425171852112, 'learning_rate': 3.839285714285715e-05, 'epoch': 6.38}\n",
                        "{'loss': 0.3197, 'grad_norm': 0.6952030062675476, 'learning_rate': 3.826530612244898e-05, 'epoch': 6.43}\n",
                        "{'loss': 0.3499, 'grad_norm': 0.9511454701423645, 'learning_rate': 3.8137755102040815e-05, 'epoch': 6.47}\n",
                        "{'loss': 0.329, 'grad_norm': 0.7273952960968018, 'learning_rate': 3.801020408163265e-05, 'epoch': 6.52}\n",
                        "{'loss': 0.3082, 'grad_norm': 0.9288010597229004, 'learning_rate': 3.788265306122449e-05, 'epoch': 6.56}\n",
                        "{'loss': 0.3276, 'grad_norm': 1.1135951280593872, 'learning_rate': 3.775510204081633e-05, 'epoch': 6.61}\n",
                        "{'loss': 0.3327, 'grad_norm': 0.7640361785888672, 'learning_rate': 3.7627551020408166e-05, 'epoch': 6.65}\n",
                        "{'loss': 0.3111, 'grad_norm': 0.8155103921890259, 'learning_rate': 3.7500000000000003e-05, 'epoch': 6.7}\n",
                        "{'loss': 0.3314, 'grad_norm': 0.8600329160690308, 'learning_rate': 3.737244897959184e-05, 'epoch': 6.74}\n",
                        "{'loss': 0.3196, 'grad_norm': 0.9188733696937561, 'learning_rate': 3.724489795918368e-05, 'epoch': 6.79}\n",
                        "{'loss': 0.3086, 'grad_norm': 0.8632702827453613, 'learning_rate': 3.711734693877551e-05, 'epoch': 6.83}\n",
                        "{'loss': 0.2998, 'grad_norm': 1.3005540370941162, 'learning_rate': 3.698979591836735e-05, 'epoch': 6.88}\n",
                        "{'loss': 0.3131, 'grad_norm': 1.1294376850128174, 'learning_rate': 3.6862244897959185e-05, 'epoch': 6.92}\n",
                        "{'loss': 0.3308, 'grad_norm': 0.7894808053970337, 'learning_rate': 3.673469387755102e-05, 'epoch': 6.97}\n"
                    ]
                },
                {
                    "data": {
                        "application/vnd.jupyter.widget-view+json": {
                            "model_id": "c3b47e1c22fc403fba9e73bfbc935f83",
                            "version_major": 2,
                            "version_minor": 0
                        },
                        "text/plain": [
                            "  0%|          | 0/134 [00:00<?, ?it/s]"
                        ]
                    },
                    "metadata": {},
                    "output_type": "display_data"
                },
                {
                    "name": "stdout",
                    "output_type": "stream",
                    "text": [
                        "{'eval_loss': 0.26922616362571716, 'eval_accuracy': 0.8882277447205693, 'eval_runtime': 30.4332, 'eval_samples_per_second': 1126.535, 'eval_steps_per_second': 4.403, 'epoch': 7.0}\n",
                        "{'loss': 0.3214, 'grad_norm': 0.8906382322311401, 'learning_rate': 3.6607142857142853e-05, 'epoch': 7.01}\n",
                        "{'loss': 0.3162, 'grad_norm': 0.7677427530288696, 'learning_rate': 3.64795918367347e-05, 'epoch': 7.06}\n",
                        "{'loss': 0.319, 'grad_norm': 0.7352374196052551, 'learning_rate': 3.6352040816326536e-05, 'epoch': 7.1}\n",
                        "{'loss': 0.2861, 'grad_norm': 1.0871706008911133, 'learning_rate': 3.622448979591837e-05, 'epoch': 7.15}\n",
                        "{'loss': 0.3105, 'grad_norm': 0.8124300241470337, 'learning_rate': 3.609693877551021e-05, 'epoch': 7.19}\n",
                        "{'loss': 0.3386, 'grad_norm': 0.7092180252075195, 'learning_rate': 3.596938775510204e-05, 'epoch': 7.24}\n",
                        "{'loss': 0.3229, 'grad_norm': 0.9064545631408691, 'learning_rate': 3.584183673469388e-05, 'epoch': 7.29}\n",
                        "{'loss': 0.3159, 'grad_norm': 0.8729361891746521, 'learning_rate': 3.571428571428572e-05, 'epoch': 7.33}\n",
                        "{'loss': 0.3049, 'grad_norm': 0.759066641330719, 'learning_rate': 3.5586734693877555e-05, 'epoch': 7.38}\n",
                        "{'loss': 0.3128, 'grad_norm': 0.9494161009788513, 'learning_rate': 3.5459183673469385e-05, 'epoch': 7.42}\n",
                        "{'loss': 0.3297, 'grad_norm': 0.8496080636978149, 'learning_rate': 3.533163265306122e-05, 'epoch': 7.47}\n",
                        "{'loss': 0.3158, 'grad_norm': 0.9346878528594971, 'learning_rate': 3.520408163265306e-05, 'epoch': 7.51}\n",
                        "{'loss': 0.311, 'grad_norm': 0.7828674912452698, 'learning_rate': 3.50765306122449e-05, 'epoch': 7.56}\n",
                        "{'loss': 0.2993, 'grad_norm': 0.9807130694389343, 'learning_rate': 3.4948979591836736e-05, 'epoch': 7.6}\n",
                        "{'loss': 0.304, 'grad_norm': 0.9214589595794678, 'learning_rate': 3.4821428571428574e-05, 'epoch': 7.65}\n",
                        "{'loss': 0.3144, 'grad_norm': 0.8122185468673706, 'learning_rate': 3.469387755102041e-05, 'epoch': 7.69}\n",
                        "{'loss': 0.2944, 'grad_norm': 0.8008729219436646, 'learning_rate': 3.456632653061225e-05, 'epoch': 7.74}\n",
                        "{'loss': 0.2996, 'grad_norm': 0.8039957880973816, 'learning_rate': 3.443877551020409e-05, 'epoch': 7.78}\n",
                        "{'loss': 0.3011, 'grad_norm': 0.7494596838951111, 'learning_rate': 3.431122448979592e-05, 'epoch': 7.83}\n",
                        "{'loss': 0.3431, 'grad_norm': 0.8635287880897522, 'learning_rate': 3.4183673469387755e-05, 'epoch': 7.87}\n",
                        "{'loss': 0.3171, 'grad_norm': 0.9360194206237793, 'learning_rate': 3.405612244897959e-05, 'epoch': 7.92}\n",
                        "{'loss': 0.3159, 'grad_norm': 0.8255582451820374, 'learning_rate': 3.392857142857143e-05, 'epoch': 7.96}\n"
                    ]
                },
                {
                    "data": {
                        "application/vnd.jupyter.widget-view+json": {
                            "model_id": "a2e63a7de22f4f249b23460b9eefa9a1",
                            "version_major": 2,
                            "version_minor": 0
                        },
                        "text/plain": [
                            "  0%|          | 0/134 [00:00<?, ?it/s]"
                        ]
                    },
                    "metadata": {},
                    "output_type": "display_data"
                },
                {
                    "name": "stdout",
                    "output_type": "stream",
                    "text": [
                        "{'eval_loss': 0.26424461603164673, 'eval_accuracy': 0.8914945747287364, 'eval_runtime': 30.7094, 'eval_samples_per_second': 1116.399, 'eval_steps_per_second': 4.363, 'epoch': 8.0}\n",
                        "{'loss': 0.3196, 'grad_norm': 0.9444246292114258, 'learning_rate': 3.380102040816326e-05, 'epoch': 8.01}\n",
                        "{'loss': 0.2984, 'grad_norm': 1.0085216760635376, 'learning_rate': 3.36734693877551e-05, 'epoch': 8.05}\n",
                        "{'loss': 0.3217, 'grad_norm': 0.7169920206069946, 'learning_rate': 3.354591836734694e-05, 'epoch': 8.1}\n",
                        "{'loss': 0.3056, 'grad_norm': 0.8081768751144409, 'learning_rate': 3.341836734693878e-05, 'epoch': 8.14}\n",
                        "{'loss': 0.2998, 'grad_norm': 0.9646367430686951, 'learning_rate': 3.329081632653062e-05, 'epoch': 8.19}\n",
                        "{'loss': 0.3116, 'grad_norm': 1.0990928411483765, 'learning_rate': 3.316326530612245e-05, 'epoch': 8.24}\n",
                        "{'loss': 0.3018, 'grad_norm': 1.1029318571090698, 'learning_rate': 3.303571428571429e-05, 'epoch': 8.28}\n",
                        "{'loss': 0.3234, 'grad_norm': 0.7210940718650818, 'learning_rate': 3.2908163265306125e-05, 'epoch': 8.33}\n",
                        "{'loss': 0.3231, 'grad_norm': 0.8595017790794373, 'learning_rate': 3.278061224489796e-05, 'epoch': 8.37}\n",
                        "{'loss': 0.3229, 'grad_norm': 0.8013493418693542, 'learning_rate': 3.265306122448979e-05, 'epoch': 8.42}\n",
                        "{'loss': 0.2956, 'grad_norm': 1.0141232013702393, 'learning_rate': 3.252551020408163e-05, 'epoch': 8.46}\n",
                        "{'loss': 0.3051, 'grad_norm': 0.851381778717041, 'learning_rate': 3.239795918367347e-05, 'epoch': 8.51}\n",
                        "{'loss': 0.3013, 'grad_norm': 0.9953784942626953, 'learning_rate': 3.2270408163265306e-05, 'epoch': 8.55}\n",
                        "{'loss': 0.3086, 'grad_norm': 0.9761381149291992, 'learning_rate': 3.2142857142857144e-05, 'epoch': 8.6}\n",
                        "{'loss': 0.3104, 'grad_norm': 0.8484815359115601, 'learning_rate': 3.201530612244898e-05, 'epoch': 8.64}\n",
                        "{'loss': 0.3088, 'grad_norm': 1.00614595413208, 'learning_rate': 3.188775510204082e-05, 'epoch': 8.69}\n",
                        "{'loss': 0.3038, 'grad_norm': 1.1849467754364014, 'learning_rate': 3.176020408163266e-05, 'epoch': 8.73}\n",
                        "{'loss': 0.2979, 'grad_norm': 0.7870370745658875, 'learning_rate': 3.1632653061224494e-05, 'epoch': 8.78}\n",
                        "{'loss': 0.2907, 'grad_norm': 1.0708221197128296, 'learning_rate': 3.1505102040816325e-05, 'epoch': 8.82}\n",
                        "{'loss': 0.3103, 'grad_norm': 0.922789454460144, 'learning_rate': 3.137755102040816e-05, 'epoch': 8.87}\n",
                        "{'loss': 0.3018, 'grad_norm': 0.7598296403884888, 'learning_rate': 3.125e-05, 'epoch': 8.91}\n",
                        "{'loss': 0.31, 'grad_norm': 1.0889323949813843, 'learning_rate': 3.112244897959184e-05, 'epoch': 8.96}\n"
                    ]
                },
                {
                    "data": {
                        "application/vnd.jupyter.widget-view+json": {
                            "model_id": "5b6bd612dc3a4bc5b2b4a1ffbc5b09d0",
                            "version_major": 2,
                            "version_minor": 0
                        },
                        "text/plain": [
                            "  0%|          | 0/134 [00:00<?, ?it/s]"
                        ]
                    },
                    "metadata": {},
                    "output_type": "display_data"
                },
                {
                    "name": "stdout",
                    "output_type": "stream",
                    "text": [
                        "{'eval_loss': 0.26646938920021057, 'eval_accuracy': 0.8905903628514759, 'eval_runtime': 31.529, 'eval_samples_per_second': 1087.379, 'eval_steps_per_second': 4.25, 'epoch': 9.0}\n",
                        "{'loss': 0.305, 'grad_norm': 0.7841144800186157, 'learning_rate': 3.0994897959183676e-05, 'epoch': 9.0}\n",
                        "{'loss': 0.2916, 'grad_norm': 1.1914547681808472, 'learning_rate': 3.086734693877551e-05, 'epoch': 9.05}\n",
                        "{'loss': 0.2826, 'grad_norm': 0.8577204346656799, 'learning_rate': 3.073979591836735e-05, 'epoch': 9.1}\n",
                        "{'loss': 0.291, 'grad_norm': 0.8156721591949463, 'learning_rate': 3.061224489795919e-05, 'epoch': 9.14}\n",
                        "{'loss': 0.3158, 'grad_norm': 1.7646825313568115, 'learning_rate': 3.0484693877551023e-05, 'epoch': 9.19}\n",
                        "{'loss': 0.3149, 'grad_norm': 0.7422825694084167, 'learning_rate': 3.0357142857142857e-05, 'epoch': 9.23}\n",
                        "{'loss': 0.3187, 'grad_norm': 0.8189684152603149, 'learning_rate': 3.0229591836734695e-05, 'epoch': 9.28}\n",
                        "{'loss': 0.2878, 'grad_norm': 0.7954614162445068, 'learning_rate': 3.0102040816326533e-05, 'epoch': 9.32}\n",
                        "{'loss': 0.2885, 'grad_norm': 0.7827361822128296, 'learning_rate': 2.997448979591837e-05, 'epoch': 9.37}\n",
                        "{'loss': 0.2943, 'grad_norm': 1.2629966735839844, 'learning_rate': 2.9846938775510208e-05, 'epoch': 9.41}\n",
                        "{'loss': 0.2913, 'grad_norm': 0.8124844431877136, 'learning_rate': 2.9719387755102042e-05, 'epoch': 9.46}\n",
                        "{'loss': 0.2914, 'grad_norm': 0.9592776298522949, 'learning_rate': 2.959183673469388e-05, 'epoch': 9.5}\n",
                        "{'loss': 0.3101, 'grad_norm': 0.8282872438430786, 'learning_rate': 2.9464285714285718e-05, 'epoch': 9.55}\n",
                        "{'loss': 0.3028, 'grad_norm': 0.8655185699462891, 'learning_rate': 2.9336734693877555e-05, 'epoch': 9.59}\n",
                        "{'loss': 0.2869, 'grad_norm': 1.3374580144882202, 'learning_rate': 2.9209183673469386e-05, 'epoch': 9.64}\n",
                        "{'loss': 0.3104, 'grad_norm': 1.0316758155822754, 'learning_rate': 2.9081632653061224e-05, 'epoch': 9.68}\n",
                        "{'loss': 0.3045, 'grad_norm': 1.0154775381088257, 'learning_rate': 2.895408163265306e-05, 'epoch': 9.73}\n",
                        "{'loss': 0.3017, 'grad_norm': 0.8753305077552795, 'learning_rate': 2.8826530612244902e-05, 'epoch': 9.77}\n",
                        "{'loss': 0.2984, 'grad_norm': 0.7090672850608826, 'learning_rate': 2.869897959183674e-05, 'epoch': 9.82}\n",
                        "{'loss': 0.2957, 'grad_norm': 0.9869070649147034, 'learning_rate': 2.857142857142857e-05, 'epoch': 9.86}\n",
                        "{'loss': 0.3284, 'grad_norm': 1.640722393989563, 'learning_rate': 2.844387755102041e-05, 'epoch': 9.91}\n",
                        "{'loss': 0.2881, 'grad_norm': 0.8795481324195862, 'learning_rate': 2.8316326530612246e-05, 'epoch': 9.95}\n",
                        "{'loss': 0.3088, 'grad_norm': 0.8560769557952881, 'learning_rate': 2.8188775510204084e-05, 'epoch': 10.0}\n"
                    ]
                },
                {
                    "data": {
                        "application/vnd.jupyter.widget-view+json": {
                            "model_id": "658a83480d6f4bdaa594c9099dc86ad6",
                            "version_major": 2,
                            "version_minor": 0
                        },
                        "text/plain": [
                            "  0%|          | 0/134 [00:00<?, ?it/s]"
                        ]
                    },
                    "metadata": {},
                    "output_type": "display_data"
                },
                {
                    "name": "stdout",
                    "output_type": "stream",
                    "text": [
                        "{'eval_loss': 0.26763173937797546, 'eval_accuracy': 0.8889277797223194, 'eval_runtime': 30.9527, 'eval_samples_per_second': 1107.627, 'eval_steps_per_second': 4.329, 'epoch': 10.0}\n",
                        "{'loss': 0.3039, 'grad_norm': 0.8635313510894775, 'learning_rate': 2.8061224489795918e-05, 'epoch': 10.05}\n",
                        "{'loss': 0.3021, 'grad_norm': 0.7064277529716492, 'learning_rate': 2.7933673469387756e-05, 'epoch': 10.09}\n",
                        "{'loss': 0.2911, 'grad_norm': 0.7334499359130859, 'learning_rate': 2.7806122448979593e-05, 'epoch': 10.14}\n",
                        "{'loss': 0.2925, 'grad_norm': 0.7827435731887817, 'learning_rate': 2.767857142857143e-05, 'epoch': 10.18}\n",
                        "{'loss': 0.2797, 'grad_norm': 0.6792486906051636, 'learning_rate': 2.7551020408163265e-05, 'epoch': 10.23}\n",
                        "{'loss': 0.3092, 'grad_norm': 0.7230169177055359, 'learning_rate': 2.7423469387755103e-05, 'epoch': 10.27}\n",
                        "{'loss': 0.2895, 'grad_norm': 0.8957627415657043, 'learning_rate': 2.729591836734694e-05, 'epoch': 10.32}\n",
                        "{'loss': 0.2718, 'grad_norm': 0.7441991567611694, 'learning_rate': 2.7168367346938778e-05, 'epoch': 10.36}\n",
                        "{'loss': 0.2973, 'grad_norm': 1.0749026536941528, 'learning_rate': 2.7040816326530616e-05, 'epoch': 10.41}\n",
                        "{'loss': 0.3137, 'grad_norm': 1.2190643548965454, 'learning_rate': 2.6913265306122447e-05, 'epoch': 10.45}\n",
                        "{'loss': 0.293, 'grad_norm': 0.7481569647789001, 'learning_rate': 2.6785714285714288e-05, 'epoch': 10.5}\n",
                        "{'loss': 0.2974, 'grad_norm': 0.7751298546791077, 'learning_rate': 2.6658163265306125e-05, 'epoch': 10.54}\n",
                        "{'loss': 0.2849, 'grad_norm': 0.9482277631759644, 'learning_rate': 2.6530612244897963e-05, 'epoch': 10.59}\n",
                        "{'loss': 0.3095, 'grad_norm': 0.8870630860328674, 'learning_rate': 2.6403061224489794e-05, 'epoch': 10.63}\n",
                        "{'loss': 0.2995, 'grad_norm': 1.1476091146469116, 'learning_rate': 2.627551020408163e-05, 'epoch': 10.68}\n",
                        "{'loss': 0.2963, 'grad_norm': 0.7897012233734131, 'learning_rate': 2.614795918367347e-05, 'epoch': 10.72}\n",
                        "{'loss': 0.2937, 'grad_norm': 0.6613699793815613, 'learning_rate': 2.6020408163265307e-05, 'epoch': 10.77}\n",
                        "{'loss': 0.2945, 'grad_norm': 1.0480729341506958, 'learning_rate': 2.5892857142857148e-05, 'epoch': 10.81}\n",
                        "{'loss': 0.3035, 'grad_norm': 0.8460291028022766, 'learning_rate': 2.576530612244898e-05, 'epoch': 10.86}\n",
                        "{'loss': 0.2746, 'grad_norm': 0.8626999855041504, 'learning_rate': 2.5637755102040816e-05, 'epoch': 10.9}\n",
                        "{'loss': 0.2866, 'grad_norm': 0.6979677677154541, 'learning_rate': 2.5510204081632654e-05, 'epoch': 10.95}\n",
                        "{'loss': 0.2736, 'grad_norm': 1.375892162322998, 'learning_rate': 2.538265306122449e-05, 'epoch': 11.0}\n"
                    ]
                },
                {
                    "data": {
                        "application/vnd.jupyter.widget-view+json": {
                            "model_id": "a4b88784c2cc4d6787bc2c6d228d60c0",
                            "version_major": 2,
                            "version_minor": 0
                        },
                        "text/plain": [
                            "  0%|          | 0/134 [00:00<?, ?it/s]"
                        ]
                    },
                    "metadata": {},
                    "output_type": "display_data"
                },
                {
                    "name": "stdout",
                    "output_type": "stream",
                    "text": [
                        "{'eval_loss': 0.2562359571456909, 'eval_accuracy': 0.8963656516159141, 'eval_runtime': 30.7099, 'eval_samples_per_second': 1116.383, 'eval_steps_per_second': 4.363, 'epoch': 11.0}\n",
                        "{'loss': 0.3025, 'grad_norm': 0.7654920816421509, 'learning_rate': 2.5255102040816326e-05, 'epoch': 11.04}\n",
                        "{'loss': 0.2835, 'grad_norm': 0.7954716682434082, 'learning_rate': 2.5127551020408164e-05, 'epoch': 11.09}\n",
                        "{'loss': 0.3014, 'grad_norm': 0.9197812080383301, 'learning_rate': 2.5e-05, 'epoch': 11.13}\n",
                        "{'loss': 0.3028, 'grad_norm': 1.0141725540161133, 'learning_rate': 2.487244897959184e-05, 'epoch': 11.18}\n",
                        "{'loss': 0.2969, 'grad_norm': 0.895582914352417, 'learning_rate': 2.4744897959183673e-05, 'epoch': 11.22}\n",
                        "{'loss': 0.2905, 'grad_norm': 0.7877312898635864, 'learning_rate': 2.461734693877551e-05, 'epoch': 11.27}\n",
                        "{'loss': 0.3079, 'grad_norm': 0.9836503267288208, 'learning_rate': 2.448979591836735e-05, 'epoch': 11.31}\n",
                        "{'loss': 0.3058, 'grad_norm': 0.7494577169418335, 'learning_rate': 2.4362244897959186e-05, 'epoch': 11.36}\n",
                        "{'loss': 0.2972, 'grad_norm': 0.9840218424797058, 'learning_rate': 2.423469387755102e-05, 'epoch': 11.4}\n",
                        "{'loss': 0.2866, 'grad_norm': 0.8880062699317932, 'learning_rate': 2.4107142857142858e-05, 'epoch': 11.45}\n",
                        "{'loss': 0.313, 'grad_norm': 0.880836546421051, 'learning_rate': 2.3979591836734696e-05, 'epoch': 11.49}\n",
                        "{'loss': 0.2882, 'grad_norm': 0.8282631635665894, 'learning_rate': 2.3852040816326533e-05, 'epoch': 11.54}\n",
                        "{'loss': 0.2707, 'grad_norm': 0.7278854250907898, 'learning_rate': 2.372448979591837e-05, 'epoch': 11.58}\n",
                        "{'loss': 0.2861, 'grad_norm': 0.8139691352844238, 'learning_rate': 2.3596938775510205e-05, 'epoch': 11.63}\n",
                        "{'loss': 0.2854, 'grad_norm': 0.7651835083961487, 'learning_rate': 2.3469387755102043e-05, 'epoch': 11.67}\n",
                        "{'loss': 0.301, 'grad_norm': 0.7874810099601746, 'learning_rate': 2.3341836734693877e-05, 'epoch': 11.72}\n",
                        "{'loss': 0.3079, 'grad_norm': 0.9468281865119934, 'learning_rate': 2.3214285714285715e-05, 'epoch': 11.76}\n",
                        "{'loss': 0.3094, 'grad_norm': 0.8371450901031494, 'learning_rate': 2.3086734693877552e-05, 'epoch': 11.81}\n",
                        "{'loss': 0.2905, 'grad_norm': 0.9369453191757202, 'learning_rate': 2.295918367346939e-05, 'epoch': 11.86}\n",
                        "{'loss': 0.2844, 'grad_norm': 1.0377955436706543, 'learning_rate': 2.2831632653061224e-05, 'epoch': 11.9}\n",
                        "{'loss': 0.2921, 'grad_norm': 0.7868772149085999, 'learning_rate': 2.2704081632653062e-05, 'epoch': 11.95}\n",
                        "{'loss': 0.2746, 'grad_norm': 1.1604427099227905, 'learning_rate': 2.2576530612244896e-05, 'epoch': 11.99}\n"
                    ]
                },
                {
                    "data": {
                        "application/vnd.jupyter.widget-view+json": {
                            "model_id": "8c5ab2e8f2e649fd9e2c0f89881db265",
                            "version_major": 2,
                            "version_minor": 0
                        },
                        "text/plain": [
                            "  0%|          | 0/134 [00:00<?, ?it/s]"
                        ]
                    },
                    "metadata": {},
                    "output_type": "display_data"
                },
                {
                    "name": "stdout",
                    "output_type": "stream",
                    "text": [
                        "{'eval_loss': 0.2553376257419586, 'eval_accuracy': 0.8956364484890911, 'eval_runtime': 30.8722, 'eval_samples_per_second': 1110.513, 'eval_steps_per_second': 4.34, 'epoch': 12.0}\n",
                        "{'loss': 0.2815, 'grad_norm': 0.9327031373977661, 'learning_rate': 2.2448979591836737e-05, 'epoch': 12.04}\n",
                        "{'loss': 0.2965, 'grad_norm': 0.9915962815284729, 'learning_rate': 2.2321428571428575e-05, 'epoch': 12.08}\n",
                        "{'loss': 0.2792, 'grad_norm': 0.8836171627044678, 'learning_rate': 2.219387755102041e-05, 'epoch': 12.13}\n",
                        "{'loss': 0.3033, 'grad_norm': 0.8192165493965149, 'learning_rate': 2.2066326530612247e-05, 'epoch': 12.17}\n",
                        "{'loss': 0.2849, 'grad_norm': 0.6669965982437134, 'learning_rate': 2.193877551020408e-05, 'epoch': 12.22}\n",
                        "{'loss': 0.3054, 'grad_norm': 0.7564768195152283, 'learning_rate': 2.181122448979592e-05, 'epoch': 12.26}\n",
                        "{'loss': 0.3034, 'grad_norm': 1.02680504322052, 'learning_rate': 2.1683673469387756e-05, 'epoch': 12.31}\n",
                        "{'loss': 0.2938, 'grad_norm': 0.8154210448265076, 'learning_rate': 2.1556122448979594e-05, 'epoch': 12.35}\n",
                        "{'loss': 0.2813, 'grad_norm': 0.6792632341384888, 'learning_rate': 2.1428571428571428e-05, 'epoch': 12.4}\n",
                        "{'loss': 0.2817, 'grad_norm': 0.7704495191574097, 'learning_rate': 2.1301020408163266e-05, 'epoch': 12.44}\n",
                        "{'loss': 0.279, 'grad_norm': 0.7157779335975647, 'learning_rate': 2.1173469387755103e-05, 'epoch': 12.49}\n",
                        "{'loss': 0.2999, 'grad_norm': 0.7461932301521301, 'learning_rate': 2.104591836734694e-05, 'epoch': 12.53}\n",
                        "{'loss': 0.2864, 'grad_norm': 0.7539840936660767, 'learning_rate': 2.091836734693878e-05, 'epoch': 12.58}\n",
                        "{'loss': 0.3032, 'grad_norm': 0.819335401058197, 'learning_rate': 2.0790816326530613e-05, 'epoch': 12.62}\n",
                        "{'loss': 0.2916, 'grad_norm': 0.852683424949646, 'learning_rate': 2.066326530612245e-05, 'epoch': 12.67}\n",
                        "{'loss': 0.2761, 'grad_norm': 0.9091451168060303, 'learning_rate': 2.0535714285714285e-05, 'epoch': 12.71}\n",
                        "{'loss': 0.309, 'grad_norm': 0.804023265838623, 'learning_rate': 2.0408163265306123e-05, 'epoch': 12.76}\n",
                        "{'loss': 0.2816, 'grad_norm': 0.9807842373847961, 'learning_rate': 2.028061224489796e-05, 'epoch': 12.81}\n",
                        "{'loss': 0.2898, 'grad_norm': 0.8300300240516663, 'learning_rate': 2.0153061224489798e-05, 'epoch': 12.85}\n",
                        "{'loss': 0.2887, 'grad_norm': 1.0051015615463257, 'learning_rate': 2.0025510204081632e-05, 'epoch': 12.9}\n",
                        "{'loss': 0.2955, 'grad_norm': 0.9824649691581726, 'learning_rate': 1.989795918367347e-05, 'epoch': 12.94}\n",
                        "{'loss': 0.2842, 'grad_norm': 0.960967481136322, 'learning_rate': 1.9770408163265307e-05, 'epoch': 12.99}\n"
                    ]
                },
                {
                    "data": {
                        "application/vnd.jupyter.widget-view+json": {
                            "model_id": "6a75ae6015bf486192bd07341cb42181",
                            "version_major": 2,
                            "version_minor": 0
                        },
                        "text/plain": [
                            "  0%|          | 0/134 [00:00<?, ?it/s]"
                        ]
                    },
                    "metadata": {},
                    "output_type": "display_data"
                },
                {
                    "name": "stdout",
                    "output_type": "stream",
                    "text": [
                        "{'eval_loss': 0.2545433044433594, 'eval_accuracy': 0.8954906078637265, 'eval_runtime': 30.5774, 'eval_samples_per_second': 1121.22, 'eval_steps_per_second': 4.382, 'epoch': 13.0}\n",
                        "{'loss': 0.2893, 'grad_norm': 0.8150110840797424, 'learning_rate': 1.9642857142857145e-05, 'epoch': 13.03}\n",
                        "{'loss': 0.2867, 'grad_norm': 1.1148560047149658, 'learning_rate': 1.9515306122448983e-05, 'epoch': 13.08}\n",
                        "{'loss': 0.3053, 'grad_norm': 0.881665825843811, 'learning_rate': 1.9387755102040817e-05, 'epoch': 13.12}\n",
                        "{'loss': 0.2783, 'grad_norm': 0.9508885741233826, 'learning_rate': 1.9260204081632655e-05, 'epoch': 13.17}\n",
                        "{'loss': 0.2929, 'grad_norm': 0.9716324210166931, 'learning_rate': 1.913265306122449e-05, 'epoch': 13.21}\n",
                        "{'loss': 0.2942, 'grad_norm': 0.9872744679450989, 'learning_rate': 1.9005102040816326e-05, 'epoch': 13.26}\n",
                        "{'loss': 0.2981, 'grad_norm': 0.8986158967018127, 'learning_rate': 1.8877551020408164e-05, 'epoch': 13.3}\n",
                        "{'loss': 0.3011, 'grad_norm': 1.0113205909729004, 'learning_rate': 1.8750000000000002e-05, 'epoch': 13.35}\n",
                        "{'loss': 0.2963, 'grad_norm': 0.7988021373748779, 'learning_rate': 1.862244897959184e-05, 'epoch': 13.39}\n",
                        "{'loss': 0.2888, 'grad_norm': 0.7128719687461853, 'learning_rate': 1.8494897959183674e-05, 'epoch': 13.44}\n",
                        "{'loss': 0.289, 'grad_norm': 0.8866145610809326, 'learning_rate': 1.836734693877551e-05, 'epoch': 13.48}\n",
                        "{'loss': 0.2757, 'grad_norm': 0.7901288866996765, 'learning_rate': 1.823979591836735e-05, 'epoch': 13.53}\n",
                        "{'loss': 0.2819, 'grad_norm': 0.9436347484588623, 'learning_rate': 1.8112244897959187e-05, 'epoch': 13.57}\n",
                        "{'loss': 0.3184, 'grad_norm': 0.763266384601593, 'learning_rate': 1.798469387755102e-05, 'epoch': 13.62}\n",
                        "{'loss': 0.3022, 'grad_norm': 0.713572084903717, 'learning_rate': 1.785714285714286e-05, 'epoch': 13.67}\n",
                        "{'loss': 0.3049, 'grad_norm': 0.898945152759552, 'learning_rate': 1.7729591836734693e-05, 'epoch': 13.71}\n",
                        "{'loss': 0.2872, 'grad_norm': 0.9199485778808594, 'learning_rate': 1.760204081632653e-05, 'epoch': 13.76}\n",
                        "{'loss': 0.2759, 'grad_norm': 0.7170314192771912, 'learning_rate': 1.7474489795918368e-05, 'epoch': 13.8}\n",
                        "{'loss': 0.2855, 'grad_norm': 0.8261894583702087, 'learning_rate': 1.7346938775510206e-05, 'epoch': 13.85}\n",
                        "{'loss': 0.2823, 'grad_norm': 0.7168136239051819, 'learning_rate': 1.7219387755102043e-05, 'epoch': 13.89}\n",
                        "{'loss': 0.2973, 'grad_norm': 0.7729644179344177, 'learning_rate': 1.7091836734693878e-05, 'epoch': 13.94}\n",
                        "{'loss': 0.2773, 'grad_norm': 1.3334310054779053, 'learning_rate': 1.6964285714285715e-05, 'epoch': 13.98}\n"
                    ]
                },
                {
                    "data": {
                        "application/vnd.jupyter.widget-view+json": {
                            "model_id": "0150eca482b040348a554fe1955ab592",
                            "version_major": 2,
                            "version_minor": 0
                        },
                        "text/plain": [
                            "  0%|          | 0/134 [00:00<?, ?it/s]"
                        ]
                    },
                    "metadata": {},
                    "output_type": "display_data"
                },
                {
                    "name": "stdout",
                    "output_type": "stream",
                    "text": [
                        "{'eval_loss': 0.25441882014274597, 'eval_accuracy': 0.8949072453622681, 'eval_runtime': 31.0462, 'eval_samples_per_second': 1104.288, 'eval_steps_per_second': 4.316, 'epoch': 14.0}\n",
                        "{'loss': 0.2956, 'grad_norm': 1.0056380033493042, 'learning_rate': 1.683673469387755e-05, 'epoch': 14.03}\n",
                        "{'loss': 0.2878, 'grad_norm': 0.7249377369880676, 'learning_rate': 1.670918367346939e-05, 'epoch': 14.07}\n",
                        "{'loss': 0.2842, 'grad_norm': 0.7160003185272217, 'learning_rate': 1.6581632653061225e-05, 'epoch': 14.12}\n",
                        "{'loss': 0.3078, 'grad_norm': 1.0268734693527222, 'learning_rate': 1.6454081632653062e-05, 'epoch': 14.16}\n",
                        "{'loss': 0.2857, 'grad_norm': 0.7211300134658813, 'learning_rate': 1.6326530612244897e-05, 'epoch': 14.21}\n",
                        "{'loss': 0.2891, 'grad_norm': 0.8397911787033081, 'learning_rate': 1.6198979591836734e-05, 'epoch': 14.25}\n",
                        "{'loss': 0.3031, 'grad_norm': 0.8738505244255066, 'learning_rate': 1.6071428571428572e-05, 'epoch': 14.3}\n",
                        "{'loss': 0.2681, 'grad_norm': 0.8145748972892761, 'learning_rate': 1.594387755102041e-05, 'epoch': 14.34}\n",
                        "{'loss': 0.2776, 'grad_norm': 0.7517110705375671, 'learning_rate': 1.5816326530612247e-05, 'epoch': 14.39}\n",
                        "{'loss': 0.3086, 'grad_norm': 0.9074687361717224, 'learning_rate': 1.568877551020408e-05, 'epoch': 14.43}\n",
                        "{'loss': 0.2842, 'grad_norm': 0.9081470966339111, 'learning_rate': 1.556122448979592e-05, 'epoch': 14.48}\n",
                        "{'loss': 0.2865, 'grad_norm': 0.9505536556243896, 'learning_rate': 1.5433673469387753e-05, 'epoch': 14.52}\n",
                        "{'loss': 0.2753, 'grad_norm': 0.7790871262550354, 'learning_rate': 1.5306122448979594e-05, 'epoch': 14.57}\n",
                        "{'loss': 0.2825, 'grad_norm': 0.799314022064209, 'learning_rate': 1.5178571428571429e-05, 'epoch': 14.62}\n",
                        "{'loss': 0.2822, 'grad_norm': 0.8098572492599487, 'learning_rate': 1.5051020408163266e-05, 'epoch': 14.66}\n",
                        "{'loss': 0.2768, 'grad_norm': 0.9005526304244995, 'learning_rate': 1.4923469387755104e-05, 'epoch': 14.71}\n",
                        "{'loss': 0.2884, 'grad_norm': 0.7836103439331055, 'learning_rate': 1.479591836734694e-05, 'epoch': 14.75}\n",
                        "{'loss': 0.2838, 'grad_norm': 0.8605281114578247, 'learning_rate': 1.4668367346938778e-05, 'epoch': 14.8}\n",
                        "{'loss': 0.2953, 'grad_norm': 0.7863966822624207, 'learning_rate': 1.4540816326530612e-05, 'epoch': 14.84}\n",
                        "{'loss': 0.2902, 'grad_norm': 0.819274365901947, 'learning_rate': 1.4413265306122451e-05, 'epoch': 14.89}\n",
                        "{'loss': 0.2784, 'grad_norm': 0.864105224609375, 'learning_rate': 1.4285714285714285e-05, 'epoch': 14.93}\n",
                        "{'loss': 0.2815, 'grad_norm': 0.8760820031166077, 'learning_rate': 1.4158163265306123e-05, 'epoch': 14.98}\n"
                    ]
                },
                {
                    "data": {
                        "application/vnd.jupyter.widget-view+json": {
                            "model_id": "e45738b90d3640d6819cb8a1165f012c",
                            "version_major": 2,
                            "version_minor": 0
                        },
                        "text/plain": [
                            "  0%|          | 0/134 [00:00<?, ?it/s]"
                        ]
                    },
                    "metadata": {},
                    "output_type": "display_data"
                },
                {
                    "name": "stdout",
                    "output_type": "stream",
                    "text": [
                        "{'eval_loss': 0.2504860460758209, 'eval_accuracy': 0.8959864659899661, 'eval_runtime': 29.7193, 'eval_samples_per_second': 1153.592, 'eval_steps_per_second': 4.509, 'epoch': 15.0}\n",
                        "{'loss': 0.2802, 'grad_norm': 0.8941984176635742, 'learning_rate': 1.4030612244897959e-05, 'epoch': 15.02}\n",
                        "{'loss': 0.2929, 'grad_norm': 1.029395341873169, 'learning_rate': 1.3903061224489797e-05, 'epoch': 15.07}\n",
                        "{'loss': 0.2926, 'grad_norm': 0.8466260433197021, 'learning_rate': 1.3775510204081633e-05, 'epoch': 15.11}\n",
                        "{'loss': 0.2897, 'grad_norm': 0.9022239446640015, 'learning_rate': 1.364795918367347e-05, 'epoch': 15.16}\n",
                        "{'loss': 0.2801, 'grad_norm': 0.8380320072174072, 'learning_rate': 1.3520408163265308e-05, 'epoch': 15.2}\n",
                        "{'loss': 0.2906, 'grad_norm': 0.6658509969711304, 'learning_rate': 1.3392857142857144e-05, 'epoch': 15.25}\n",
                        "{'loss': 0.3018, 'grad_norm': 0.8966707587242126, 'learning_rate': 1.3265306122448982e-05, 'epoch': 15.29}\n",
                        "{'loss': 0.2914, 'grad_norm': 0.7762507796287537, 'learning_rate': 1.3137755102040816e-05, 'epoch': 15.34}\n",
                        "{'loss': 0.3098, 'grad_norm': 0.8627040982246399, 'learning_rate': 1.3010204081632653e-05, 'epoch': 15.38}\n",
                        "{'loss': 0.288, 'grad_norm': 0.7224166989326477, 'learning_rate': 1.288265306122449e-05, 'epoch': 15.43}\n",
                        "{'loss': 0.2789, 'grad_norm': 0.8926447629928589, 'learning_rate': 1.2755102040816327e-05, 'epoch': 15.48}\n",
                        "{'loss': 0.2714, 'grad_norm': 0.9218106865882874, 'learning_rate': 1.2627551020408163e-05, 'epoch': 15.52}\n",
                        "{'loss': 0.2899, 'grad_norm': 0.9580888152122498, 'learning_rate': 1.25e-05, 'epoch': 15.57}\n",
                        "{'loss': 0.2796, 'grad_norm': 0.9563191533088684, 'learning_rate': 1.2372448979591837e-05, 'epoch': 15.61}\n",
                        "{'loss': 0.2875, 'grad_norm': 0.8739308714866638, 'learning_rate': 1.2244897959183674e-05, 'epoch': 15.66}\n",
                        "{'loss': 0.2702, 'grad_norm': 0.7431334853172302, 'learning_rate': 1.211734693877551e-05, 'epoch': 15.7}\n",
                        "{'loss': 0.2823, 'grad_norm': 0.7418493032455444, 'learning_rate': 1.1989795918367348e-05, 'epoch': 15.75}\n",
                        "{'loss': 0.2854, 'grad_norm': 0.7990928292274475, 'learning_rate': 1.1862244897959185e-05, 'epoch': 15.79}\n",
                        "{'loss': 0.2698, 'grad_norm': 1.171356201171875, 'learning_rate': 1.1734693877551021e-05, 'epoch': 15.84}\n",
                        "{'loss': 0.2655, 'grad_norm': 0.7391002774238586, 'learning_rate': 1.1607142857142857e-05, 'epoch': 15.88}\n",
                        "{'loss': 0.2704, 'grad_norm': 0.9429110884666443, 'learning_rate': 1.1479591836734695e-05, 'epoch': 15.93}\n",
                        "{'loss': 0.2985, 'grad_norm': 0.9971688985824585, 'learning_rate': 1.1352040816326531e-05, 'epoch': 15.97}\n"
                    ]
                },
                {
                    "data": {
                        "application/vnd.jupyter.widget-view+json": {
                            "model_id": "daf4b3ddb8014ee6accc01ada1d5028d",
                            "version_major": 2,
                            "version_minor": 0
                        },
                        "text/plain": [
                            "  0%|          | 0/134 [00:00<?, ?it/s]"
                        ]
                    },
                    "metadata": {},
                    "output_type": "display_data"
                },
                {
                    "name": "stdout",
                    "output_type": "stream",
                    "text": [
                        "{'eval_loss': 0.25454995036125183, 'eval_accuracy': 0.8948489091121222, 'eval_runtime': 30.8703, 'eval_samples_per_second': 1110.582, 'eval_steps_per_second': 4.341, 'epoch': 16.0}\n",
                        "{'loss': 0.3161, 'grad_norm': 0.9813271164894104, 'learning_rate': 1.1224489795918369e-05, 'epoch': 16.02}\n",
                        "{'loss': 0.2779, 'grad_norm': 0.7870693802833557, 'learning_rate': 1.1096938775510205e-05, 'epoch': 16.06}\n",
                        "{'loss': 0.2768, 'grad_norm': 0.7121210694313049, 'learning_rate': 1.096938775510204e-05, 'epoch': 16.11}\n",
                        "{'loss': 0.2796, 'grad_norm': 0.9340022802352905, 'learning_rate': 1.0841836734693878e-05, 'epoch': 16.15}\n",
                        "{'loss': 0.2777, 'grad_norm': 0.938133180141449, 'learning_rate': 1.0714285714285714e-05, 'epoch': 16.2}\n",
                        "{'loss': 0.2828, 'grad_norm': 0.7995957136154175, 'learning_rate': 1.0586734693877552e-05, 'epoch': 16.24}\n",
                        "{'loss': 0.2827, 'grad_norm': 0.7310016751289368, 'learning_rate': 1.045918367346939e-05, 'epoch': 16.29}\n",
                        "{'loss': 0.2911, 'grad_norm': 0.8229255676269531, 'learning_rate': 1.0331632653061225e-05, 'epoch': 16.33}\n",
                        "{'loss': 0.2931, 'grad_norm': 1.0532820224761963, 'learning_rate': 1.0204081632653061e-05, 'epoch': 16.38}\n",
                        "{'loss': 0.2918, 'grad_norm': 1.0251580476760864, 'learning_rate': 1.0076530612244899e-05, 'epoch': 16.43}\n",
                        "{'loss': 0.2888, 'grad_norm': 0.9339492321014404, 'learning_rate': 9.948979591836735e-06, 'epoch': 16.47}\n",
                        "{'loss': 0.3003, 'grad_norm': 1.0844420194625854, 'learning_rate': 9.821428571428573e-06, 'epoch': 16.52}\n",
                        "{'loss': 0.2891, 'grad_norm': 0.7416608333587646, 'learning_rate': 9.693877551020408e-06, 'epoch': 16.56}\n",
                        "{'loss': 0.2627, 'grad_norm': 0.8895490765571594, 'learning_rate': 9.566326530612244e-06, 'epoch': 16.61}\n",
                        "{'loss': 0.2754, 'grad_norm': 0.7378973364830017, 'learning_rate': 9.438775510204082e-06, 'epoch': 16.65}\n",
                        "{'loss': 0.298, 'grad_norm': 0.8291137218475342, 'learning_rate': 9.31122448979592e-06, 'epoch': 16.7}\n",
                        "{'loss': 0.2708, 'grad_norm': 0.8831973671913147, 'learning_rate': 9.183673469387756e-06, 'epoch': 16.74}\n",
                        "{'loss': 0.2831, 'grad_norm': 1.2444607019424438, 'learning_rate': 9.056122448979593e-06, 'epoch': 16.79}\n",
                        "{'loss': 0.2782, 'grad_norm': 0.7863284945487976, 'learning_rate': 8.92857142857143e-06, 'epoch': 16.83}\n",
                        "{'loss': 0.2756, 'grad_norm': 0.9449377059936523, 'learning_rate': 8.801020408163265e-06, 'epoch': 16.88}\n",
                        "{'loss': 0.2697, 'grad_norm': 0.9163334369659424, 'learning_rate': 8.673469387755103e-06, 'epoch': 16.92}\n",
                        "{'loss': 0.2929, 'grad_norm': 0.8549899458885193, 'learning_rate': 8.545918367346939e-06, 'epoch': 16.97}\n"
                    ]
                },
                {
                    "data": {
                        "application/vnd.jupyter.widget-view+json": {
                            "model_id": "3b1eba4e99a049f0881c72e922fd8aa2",
                            "version_major": 2,
                            "version_minor": 0
                        },
                        "text/plain": [
                            "  0%|          | 0/134 [00:00<?, ?it/s]"
                        ]
                    },
                    "metadata": {},
                    "output_type": "display_data"
                },
                {
                    "name": "stdout",
                    "output_type": "stream",
                    "text": [
                        "{'eval_loss': 0.25311940908432007, 'eval_accuracy': 0.8955197759887994, 'eval_runtime': 30.9692, 'eval_samples_per_second': 1107.035, 'eval_steps_per_second': 4.327, 'epoch': 17.0}\n",
                        "{'loss': 0.281, 'grad_norm': 0.7476648092269897, 'learning_rate': 8.418367346938775e-06, 'epoch': 17.01}\n",
                        "{'loss': 0.2831, 'grad_norm': 0.6786288022994995, 'learning_rate': 8.290816326530612e-06, 'epoch': 17.06}\n",
                        "{'loss': 0.2938, 'grad_norm': 0.9614419937133789, 'learning_rate': 8.163265306122448e-06, 'epoch': 17.1}\n",
                        "{'loss': 0.288, 'grad_norm': 0.9583922624588013, 'learning_rate': 8.035714285714286e-06, 'epoch': 17.15}\n",
                        "{'loss': 0.2902, 'grad_norm': 0.7512609958648682, 'learning_rate': 7.908163265306124e-06, 'epoch': 17.19}\n",
                        "{'loss': 0.28, 'grad_norm': 0.9792643189430237, 'learning_rate': 7.78061224489796e-06, 'epoch': 17.24}\n",
                        "{'loss': 0.2943, 'grad_norm': 0.938090443611145, 'learning_rate': 7.653061224489797e-06, 'epoch': 17.29}\n",
                        "{'loss': 0.278, 'grad_norm': 0.7395123243331909, 'learning_rate': 7.525510204081633e-06, 'epoch': 17.33}\n",
                        "{'loss': 0.2987, 'grad_norm': 0.9949853420257568, 'learning_rate': 7.39795918367347e-06, 'epoch': 17.38}\n",
                        "{'loss': 0.2792, 'grad_norm': 0.602512776851654, 'learning_rate': 7.270408163265306e-06, 'epoch': 17.42}\n",
                        "{'loss': 0.2979, 'grad_norm': 0.8283291459083557, 'learning_rate': 7.142857142857143e-06, 'epoch': 17.47}\n",
                        "{'loss': 0.277, 'grad_norm': 0.8991528153419495, 'learning_rate': 7.0153061224489795e-06, 'epoch': 17.51}\n",
                        "{'loss': 0.3139, 'grad_norm': 0.8620355725288391, 'learning_rate': 6.887755102040816e-06, 'epoch': 17.56}\n",
                        "{'loss': 0.2826, 'grad_norm': 0.7293456792831421, 'learning_rate': 6.760204081632654e-06, 'epoch': 17.6}\n",
                        "{'loss': 0.2834, 'grad_norm': 0.7038722038269043, 'learning_rate': 6.632653061224491e-06, 'epoch': 17.65}\n",
                        "{'loss': 0.2835, 'grad_norm': 0.8045939207077026, 'learning_rate': 6.505102040816327e-06, 'epoch': 17.69}\n",
                        "{'loss': 0.2668, 'grad_norm': 1.1204051971435547, 'learning_rate': 6.3775510204081635e-06, 'epoch': 17.74}\n",
                        "{'loss': 0.2865, 'grad_norm': 1.21985924243927, 'learning_rate': 6.25e-06, 'epoch': 17.78}\n",
                        "{'loss': 0.2693, 'grad_norm': 1.0560163259506226, 'learning_rate': 6.122448979591837e-06, 'epoch': 17.83}\n",
                        "{'loss': 0.2749, 'grad_norm': 0.9610655903816223, 'learning_rate': 5.994897959183674e-06, 'epoch': 17.87}\n",
                        "{'loss': 0.2838, 'grad_norm': 0.943601667881012, 'learning_rate': 5.867346938775511e-06, 'epoch': 17.92}\n",
                        "{'loss': 0.2857, 'grad_norm': 0.7738334536552429, 'learning_rate': 5.7397959183673475e-06, 'epoch': 17.96}\n"
                    ]
                },
                {
                    "data": {
                        "application/vnd.jupyter.widget-view+json": {
                            "model_id": "b67c392d7a0b466e8ecdd2ac54fe5c35",
                            "version_major": 2,
                            "version_minor": 0
                        },
                        "text/plain": [
                            "  0%|          | 0/134 [00:00<?, ?it/s]"
                        ]
                    },
                    "metadata": {},
                    "output_type": "display_data"
                },
                {
                    "name": "stdout",
                    "output_type": "stream",
                    "text": [
                        "{'eval_loss': 0.25360018014907837, 'eval_accuracy': 0.8948780772371951, 'eval_runtime': 30.4679, 'eval_samples_per_second': 1125.25, 'eval_steps_per_second': 4.398, 'epoch': 18.0}\n",
                        "{'loss': 0.2727, 'grad_norm': 0.9142851829528809, 'learning_rate': 5.612244897959184e-06, 'epoch': 18.01}\n",
                        "{'loss': 0.2872, 'grad_norm': 0.9257677793502808, 'learning_rate': 5.48469387755102e-06, 'epoch': 18.05}\n",
                        "{'loss': 0.289, 'grad_norm': 0.9115723967552185, 'learning_rate': 5.357142857142857e-06, 'epoch': 18.1}\n",
                        "{'loss': 0.3064, 'grad_norm': 0.8956109285354614, 'learning_rate': 5.229591836734695e-06, 'epoch': 18.14}\n",
                        "{'loss': 0.2813, 'grad_norm': 0.7900171279907227, 'learning_rate': 5.102040816326531e-06, 'epoch': 18.19}\n",
                        "{'loss': 0.2962, 'grad_norm': 0.8971437215805054, 'learning_rate': 4.9744897959183674e-06, 'epoch': 18.24}\n",
                        "{'loss': 0.283, 'grad_norm': 0.6934467554092407, 'learning_rate': 4.846938775510204e-06, 'epoch': 18.28}\n",
                        "{'loss': 0.2898, 'grad_norm': 0.9459550976753235, 'learning_rate': 4.719387755102041e-06, 'epoch': 18.33}\n",
                        "{'loss': 0.2836, 'grad_norm': 0.9995254278182983, 'learning_rate': 4.591836734693878e-06, 'epoch': 18.37}\n",
                        "{'loss': 0.2916, 'grad_norm': 0.6883082985877991, 'learning_rate': 4.464285714285715e-06, 'epoch': 18.42}\n",
                        "{'loss': 0.267, 'grad_norm': 0.8234436511993408, 'learning_rate': 4.336734693877551e-06, 'epoch': 18.46}\n",
                        "{'loss': 0.2956, 'grad_norm': 0.7323037385940552, 'learning_rate': 4.209183673469387e-06, 'epoch': 18.51}\n",
                        "{'loss': 0.2709, 'grad_norm': 0.7580260634422302, 'learning_rate': 4.081632653061224e-06, 'epoch': 18.55}\n",
                        "{'loss': 0.2937, 'grad_norm': 1.074946403503418, 'learning_rate': 3.954081632653062e-06, 'epoch': 18.6}\n",
                        "{'loss': 0.2871, 'grad_norm': 0.8699546456336975, 'learning_rate': 3.826530612244899e-06, 'epoch': 18.64}\n",
                        "{'loss': 0.2777, 'grad_norm': 0.994080662727356, 'learning_rate': 3.698979591836735e-06, 'epoch': 18.69}\n",
                        "{'loss': 0.2862, 'grad_norm': 0.885647177696228, 'learning_rate': 3.5714285714285714e-06, 'epoch': 18.73}\n",
                        "{'loss': 0.2781, 'grad_norm': 0.7529974579811096, 'learning_rate': 3.443877551020408e-06, 'epoch': 18.78}\n",
                        "{'loss': 0.3227, 'grad_norm': 0.9518107175827026, 'learning_rate': 3.3163265306122454e-06, 'epoch': 18.82}\n",
                        "{'loss': 0.2713, 'grad_norm': 0.711104691028595, 'learning_rate': 3.1887755102040818e-06, 'epoch': 18.87}\n",
                        "{'loss': 0.293, 'grad_norm': 0.6846811175346375, 'learning_rate': 3.0612244897959185e-06, 'epoch': 18.91}\n",
                        "{'loss': 0.3047, 'grad_norm': 0.8422209620475769, 'learning_rate': 2.9336734693877553e-06, 'epoch': 18.96}\n"
                    ]
                },
                {
                    "data": {
                        "application/vnd.jupyter.widget-view+json": {
                            "model_id": "9dd5917b902a48a780ffc8a76dc26afa",
                            "version_major": 2,
                            "version_minor": 0
                        },
                        "text/plain": [
                            "  0%|          | 0/134 [00:00<?, ?it/s]"
                        ]
                    },
                    "metadata": {},
                    "output_type": "display_data"
                },
                {
                    "name": "stdout",
                    "output_type": "stream",
                    "text": [
                        "{'eval_loss': 0.24998049437999725, 'eval_accuracy': 0.8953447672383619, 'eval_runtime': 30.5257, 'eval_samples_per_second': 1123.121, 'eval_steps_per_second': 4.39, 'epoch': 19.0}\n",
                        "{'loss': 0.2799, 'grad_norm': 0.9792028069496155, 'learning_rate': 2.806122448979592e-06, 'epoch': 19.0}\n",
                        "{'loss': 0.2888, 'grad_norm': 0.9682706594467163, 'learning_rate': 2.6785714285714285e-06, 'epoch': 19.05}\n",
                        "{'loss': 0.2852, 'grad_norm': 0.8230661749839783, 'learning_rate': 2.5510204081632653e-06, 'epoch': 19.1}\n",
                        "{'loss': 0.2655, 'grad_norm': 0.9372957348823547, 'learning_rate': 2.423469387755102e-06, 'epoch': 19.14}\n",
                        "{'loss': 0.2802, 'grad_norm': 0.8907191753387451, 'learning_rate': 2.295918367346939e-06, 'epoch': 19.19}\n",
                        "{'loss': 0.2954, 'grad_norm': 1.0428447723388672, 'learning_rate': 2.1683673469387757e-06, 'epoch': 19.23}\n",
                        "{'loss': 0.2824, 'grad_norm': 0.7810648679733276, 'learning_rate': 2.040816326530612e-06, 'epoch': 19.28}\n",
                        "{'loss': 0.2777, 'grad_norm': 0.9300900101661682, 'learning_rate': 1.9132653061224493e-06, 'epoch': 19.32}\n",
                        "{'loss': 0.2765, 'grad_norm': 1.0637884140014648, 'learning_rate': 1.7857142857142857e-06, 'epoch': 19.37}\n",
                        "{'loss': 0.287, 'grad_norm': 0.9372860789299011, 'learning_rate': 1.6581632653061227e-06, 'epoch': 19.41}\n",
                        "{'loss': 0.288, 'grad_norm': 0.7872751355171204, 'learning_rate': 1.5306122448979593e-06, 'epoch': 19.46}\n",
                        "{'loss': 0.2827, 'grad_norm': 0.8869794011116028, 'learning_rate': 1.403061224489796e-06, 'epoch': 19.5}\n",
                        "{'loss': 0.2828, 'grad_norm': 1.357809066772461, 'learning_rate': 1.2755102040816327e-06, 'epoch': 19.55}\n",
                        "{'loss': 0.2926, 'grad_norm': 0.6917840838432312, 'learning_rate': 1.1479591836734695e-06, 'epoch': 19.59}\n",
                        "{'loss': 0.2829, 'grad_norm': 1.0792865753173828, 'learning_rate': 1.020408163265306e-06, 'epoch': 19.64}\n",
                        "{'loss': 0.2673, 'grad_norm': 0.7886938452720642, 'learning_rate': 8.928571428571428e-07, 'epoch': 19.68}\n",
                        "{'loss': 0.3104, 'grad_norm': 1.1362173557281494, 'learning_rate': 7.653061224489796e-07, 'epoch': 19.73}\n",
                        "{'loss': 0.2766, 'grad_norm': 0.7840309739112854, 'learning_rate': 6.377551020408163e-07, 'epoch': 19.77}\n",
                        "{'loss': 0.2528, 'grad_norm': 0.7368381023406982, 'learning_rate': 5.10204081632653e-07, 'epoch': 19.82}\n",
                        "{'loss': 0.2872, 'grad_norm': 0.9665206670761108, 'learning_rate': 3.826530612244898e-07, 'epoch': 19.86}\n",
                        "{'loss': 0.2928, 'grad_norm': 0.8047531247138977, 'learning_rate': 2.551020408163265e-07, 'epoch': 19.91}\n",
                        "{'loss': 0.2654, 'grad_norm': 0.840043842792511, 'learning_rate': 1.2755102040816326e-07, 'epoch': 19.95}\n",
                        "{'loss': 0.2838, 'grad_norm': 1.269526481628418, 'learning_rate': 0.0, 'epoch': 20.0}\n"
                    ]
                },
                {
                    "data": {
                        "application/vnd.jupyter.widget-view+json": {
                            "model_id": "cf3165e63d9f439bb493a85ff70a8d49",
                            "version_major": 2,
                            "version_minor": 0
                        },
                        "text/plain": [
                            "  0%|          | 0/134 [00:00<?, ?it/s]"
                        ]
                    },
                    "metadata": {},
                    "output_type": "display_data"
                },
                {
                    "name": "stdout",
                    "output_type": "stream",
                    "text": [
                        "{'eval_loss': 0.25163358449935913, 'eval_accuracy': 0.895315599113289, 'eval_runtime': 30.4632, 'eval_samples_per_second': 1125.424, 'eval_steps_per_second': 4.399, 'epoch': 20.0}\n",
                        "{'train_runtime': 9292.4387, 'train_samples_per_second': 121.538, 'train_steps_per_second': 0.476, 'train_loss': 0.34099182462260735, 'epoch': 20.0}\n",
                        "./data/llm/graph_prompter_hf_frozen/attentions.npy ./data/llm/graph_prompter_hf_frozen/hidden_states.npy ./data/llm/graph_prompter_hf_frozen/tokens.csv\n",
                        "train Forward Epoch 1 from 1\n"
                    ]
                },
                {
                    "name": "stderr",
                    "output_type": "stream",
                    "text": [
                        "BertSdpaSelfAttention is used but `torch.nn.functional.scaled_dot_product_attention` does not support non-absolute `position_embedding_type` or `output_attentions=True` or `head_mask`. Falling back to the manual attention implementation, but specifying the manual implementation will be required from Transformers version v5.0.0 onwards. This warning can be removed using the argument `attn_implementation=\"eager\"` when loading the model.\n"
                    ]
                },
                {
                    "name": "stdout",
                    "output_type": "stream",
                    "text": [
                        "test Forward Epoch 1 from 1\n",
                        "val Forward Epoch 1 from 1\n"
                    ]
                }
            ],
            "source": [
                "graph_prompter_hf_frozen_bert_classifier.train_model_on_data(\n",
                "    dataset_graph_prompter_hf, epochs=EPOCHS, batch_size=BATCH_SIZE\n",
                ")\n",
                "# now we don't have to generate new non-existing edges, because they were generated in the beginning anyways.\n",
                "graph_prompter_hf_frozen_bert_classifier = GraphPrompterHFFrozenClassifier(\n",
                "    kg_manager,\n",
                "    graph_representation_generator_graph_prompter_hf.get_embedding,\n",
                "    root_path=INPUT_EMBEDS_REPLACE_FROZEN_ROOT,\n",
                "    false_ratio=-1.0,  # init with false_ratio of -1 so no new false edges are produced on the fly\n",
                ")\n",
                "graph_prompter_hf_frozen_df = (\n",
                "    graph_prompter_hf_frozen_bert_classifier.forward_dataset_and_save_outputs(\n",
                "        dataset_graph_prompter_hf,\n",
                "        kg_manager.get_vanilla_tokens_as_df,\n",
                "        epochs=1,\n",
                "        batch_size=BATCH_SIZE,\n",
                "        force_recompute=True,\n",
                "    )\n",
                ")"
            ]
        },
        {
            "cell_type": "markdown",
            "metadata": {},
            "source": [
                "# Post-Training\n",
                "After Training, we load all attentions and hidden states from before and append the new fields to the dataset."
            ]
        },
        {
            "cell_type": "code",
            "execution_count": 7,
            "metadata": {},
            "outputs": [],
            "source": [
                "vanilla_df = ClassifierBase.read_forward_dataset(\"./data/llm/vanilla\")\n",
                "prompt_df = ClassifierBase.read_forward_dataset(\"./data/llm/prompt\")\n",
                "graph_prompter_hf_df = ClassifierBase.read_forward_dataset(\n",
                "    \"./data/llm/graph_prompter_hf\"\n",
                ")"
            ]
        },
        {
            "cell_type": "code",
            "execution_count": 10,
            "metadata": {},
            "outputs": [
                {
                    "data": {
                        "text/html": [
                            "<div>\n",
                            "<style scoped>\n",
                            "    .dataframe tbody tr th:only-of-type {\n",
                            "        vertical-align: middle;\n",
                            "    }\n",
                            "\n",
                            "    .dataframe tbody tr th {\n",
                            "        vertical-align: top;\n",
                            "    }\n",
                            "\n",
                            "    .dataframe thead th {\n",
                            "        text-align: right;\n",
                            "    }\n",
                            "</style>\n",
                            "<table border=\"1\" class=\"dataframe\">\n",
                            "  <thead>\n",
                            "    <tr style=\"text-align: right;\">\n",
                            "      <th></th>\n",
                            "      <th>source_id</th>\n",
                            "      <th>target_id</th>\n",
                            "      <th>id_x</th>\n",
                            "      <th>id_y</th>\n",
                            "      <th>prompt_feature_title</th>\n",
                            "      <th>prompt_feature_genres</th>\n",
                            "      <th>labels</th>\n",
                            "      <th>split</th>\n",
                            "      <th>prompt</th>\n",
                            "      <th>gnn_feature_(no genres listed)</th>\n",
                            "      <th>...</th>\n",
                            "      <th>gnn_feature_IMAX</th>\n",
                            "      <th>gnn_feature_Musical</th>\n",
                            "      <th>gnn_feature_Mystery</th>\n",
                            "      <th>gnn_feature_Romance</th>\n",
                            "      <th>gnn_feature_Sci-Fi</th>\n",
                            "      <th>gnn_feature_Thriller</th>\n",
                            "      <th>gnn_feature_War</th>\n",
                            "      <th>gnn_feature_Western</th>\n",
                            "      <th>graph_prompter_hf_source_embedding</th>\n",
                            "      <th>graph_prompter_hf_target_embedding</th>\n",
                            "    </tr>\n",
                            "  </thead>\n",
                            "  <tbody>\n",
                            "    <tr>\n",
                            "      <th>0</th>\n",
                            "      <td>0</td>\n",
                            "      <td>5</td>\n",
                            "      <td>0.0</td>\n",
                            "      <td>5.0</td>\n",
                            "      <td>Heat (1995)</td>\n",
                            "      <td>['Action', 'Crime', 'Thriller']</td>\n",
                            "      <td>1</td>\n",
                            "      <td>train</td>\n",
                            "      <td>0[SEP]5[SEP]Heat (1995)[SEP]['Action', 'Crime'...</td>\n",
                            "      <td>NaN</td>\n",
                            "      <td>...</td>\n",
                            "      <td>NaN</td>\n",
                            "      <td>NaN</td>\n",
                            "      <td>NaN</td>\n",
                            "      <td>NaN</td>\n",
                            "      <td>NaN</td>\n",
                            "      <td>NaN</td>\n",
                            "      <td>NaN</td>\n",
                            "      <td>NaN</td>\n",
                            "      <td>[0.6693655252456665, 0.4152011275291443, -0.31...</td>\n",
                            "      <td>[0.5493870973587036, -0.5692430734634399, -0.6...</td>\n",
                            "    </tr>\n",
                            "    <tr>\n",
                            "      <th>1</th>\n",
                            "      <td>0</td>\n",
                            "      <td>89</td>\n",
                            "      <td>0.0</td>\n",
                            "      <td>89.0</td>\n",
                            "      <td>Bottle Rocket (1996)</td>\n",
                            "      <td>['Adventure', 'Comedy', 'Crime', 'Romance']</td>\n",
                            "      <td>1</td>\n",
                            "      <td>train</td>\n",
                            "      <td>0[SEP]89[SEP]Bottle Rocket (1996)[SEP]['Advent...</td>\n",
                            "      <td>NaN</td>\n",
                            "      <td>...</td>\n",
                            "      <td>NaN</td>\n",
                            "      <td>NaN</td>\n",
                            "      <td>NaN</td>\n",
                            "      <td>NaN</td>\n",
                            "      <td>NaN</td>\n",
                            "      <td>NaN</td>\n",
                            "      <td>NaN</td>\n",
                            "      <td>NaN</td>\n",
                            "      <td>[0.6030164957046509, 0.37829291820526123, -0.3...</td>\n",
                            "      <td>[0.08589676022529602, -0.4689454734325409, 0.0...</td>\n",
                            "    </tr>\n",
                            "    <tr>\n",
                            "      <th>2</th>\n",
                            "      <td>0</td>\n",
                            "      <td>97</td>\n",
                            "      <td>0.0</td>\n",
                            "      <td>97.0</td>\n",
                            "      <td>Braveheart (1995)</td>\n",
                            "      <td>['Action', 'Drama', 'War']</td>\n",
                            "      <td>1</td>\n",
                            "      <td>train</td>\n",
                            "      <td>0[SEP]97[SEP]Braveheart (1995)[SEP]['Action', ...</td>\n",
                            "      <td>NaN</td>\n",
                            "      <td>...</td>\n",
                            "      <td>NaN</td>\n",
                            "      <td>NaN</td>\n",
                            "      <td>NaN</td>\n",
                            "      <td>NaN</td>\n",
                            "      <td>NaN</td>\n",
                            "      <td>NaN</td>\n",
                            "      <td>NaN</td>\n",
                            "      <td>NaN</td>\n",
                            "      <td>[0.6387443542480469, 0.3706628084182739, -0.32...</td>\n",
                            "      <td>[0.04940161854028702, -0.47019216418266296, -0...</td>\n",
                            "    </tr>\n",
                            "    <tr>\n",
                            "      <th>3</th>\n",
                            "      <td>0</td>\n",
                            "      <td>184</td>\n",
                            "      <td>0.0</td>\n",
                            "      <td>184.0</td>\n",
                            "      <td>Billy Madison (1995)</td>\n",
                            "      <td>['Comedy']</td>\n",
                            "      <td>1</td>\n",
                            "      <td>train</td>\n",
                            "      <td>0[SEP]184[SEP]Billy Madison (1995)[SEP]['Comedy']</td>\n",
                            "      <td>NaN</td>\n",
                            "      <td>...</td>\n",
                            "      <td>NaN</td>\n",
                            "      <td>NaN</td>\n",
                            "      <td>NaN</td>\n",
                            "      <td>NaN</td>\n",
                            "      <td>NaN</td>\n",
                            "      <td>NaN</td>\n",
                            "      <td>NaN</td>\n",
                            "      <td>NaN</td>\n",
                            "      <td>[0.49271589517593384, 0.4562503397464752, -0.2...</td>\n",
                            "      <td>[0.6636490821838379, -0.3091672956943512, 0.01...</td>\n",
                            "    </tr>\n",
                            "    <tr>\n",
                            "      <th>4</th>\n",
                            "      <td>0</td>\n",
                            "      <td>224</td>\n",
                            "      <td>0.0</td>\n",
                            "      <td>224.0</td>\n",
                            "      <td>Star Wars: Episode IV - A New Hope (1977)</td>\n",
                            "      <td>['Action', 'Adventure', 'Sci-Fi']</td>\n",
                            "      <td>1</td>\n",
                            "      <td>train</td>\n",
                            "      <td>0[SEP]224[SEP]Star Wars: Episode IV - A New Ho...</td>\n",
                            "      <td>NaN</td>\n",
                            "      <td>...</td>\n",
                            "      <td>NaN</td>\n",
                            "      <td>NaN</td>\n",
                            "      <td>NaN</td>\n",
                            "      <td>NaN</td>\n",
                            "      <td>NaN</td>\n",
                            "      <td>NaN</td>\n",
                            "      <td>NaN</td>\n",
                            "      <td>NaN</td>\n",
                            "      <td>[0.6498588919639587, 0.43191879987716675, -0.3...</td>\n",
                            "      <td>[-0.08320911973714828, -0.060460180044174194, ...</td>\n",
                            "    </tr>\n",
                            "    <tr>\n",
                            "      <th>...</th>\n",
                            "      <td>...</td>\n",
                            "      <td>...</td>\n",
                            "      <td>...</td>\n",
                            "      <td>...</td>\n",
                            "      <td>...</td>\n",
                            "      <td>...</td>\n",
                            "      <td>...</td>\n",
                            "      <td>...</td>\n",
                            "      <td>...</td>\n",
                            "      <td>...</td>\n",
                            "      <td>...</td>\n",
                            "      <td>...</td>\n",
                            "      <td>...</td>\n",
                            "      <td>...</td>\n",
                            "      <td>...</td>\n",
                            "      <td>...</td>\n",
                            "      <td>...</td>\n",
                            "      <td>...</td>\n",
                            "      <td>...</td>\n",
                            "      <td>...</td>\n",
                            "      <td>...</td>\n",
                            "    </tr>\n",
                            "    <tr>\n",
                            "      <th>125032</th>\n",
                            "      <td>79</td>\n",
                            "      <td>8846</td>\n",
                            "      <td>NaN</td>\n",
                            "      <td>NaN</td>\n",
                            "      <td>Lovesick (2014)</td>\n",
                            "      <td>['Comedy', 'Romance']</td>\n",
                            "      <td>0</td>\n",
                            "      <td>val</td>\n",
                            "      <td>79[SEP]8846[SEP]Lovesick (2014)[SEP]['Comedy',...</td>\n",
                            "      <td>0.0</td>\n",
                            "      <td>...</td>\n",
                            "      <td>0.0</td>\n",
                            "      <td>0.0</td>\n",
                            "      <td>0.0</td>\n",
                            "      <td>1.0</td>\n",
                            "      <td>0.0</td>\n",
                            "      <td>0.0</td>\n",
                            "      <td>0.0</td>\n",
                            "      <td>0.0</td>\n",
                            "      <td>[-0.5735506415367126, -0.044633716344833374, -...</td>\n",
                            "      <td>[0.47228026390075684, -0.911340594291687, 0.00...</td>\n",
                            "    </tr>\n",
                            "    <tr>\n",
                            "      <th>125033</th>\n",
                            "      <td>300</td>\n",
                            "      <td>2595</td>\n",
                            "      <td>NaN</td>\n",
                            "      <td>NaN</td>\n",
                            "      <td>Dersu Uzala (1975)</td>\n",
                            "      <td>['Adventure', 'Drama']</td>\n",
                            "      <td>0</td>\n",
                            "      <td>val</td>\n",
                            "      <td>300[SEP]2595[SEP]Dersu Uzala (1975)[SEP]['Adve...</td>\n",
                            "      <td>0.0</td>\n",
                            "      <td>...</td>\n",
                            "      <td>0.0</td>\n",
                            "      <td>0.0</td>\n",
                            "      <td>0.0</td>\n",
                            "      <td>0.0</td>\n",
                            "      <td>0.0</td>\n",
                            "      <td>0.0</td>\n",
                            "      <td>0.0</td>\n",
                            "      <td>0.0</td>\n",
                            "      <td>[0.006543345749378204, -0.3807082176208496, 0....</td>\n",
                            "      <td>[0.36955565214157104, -0.21707147359848022, -0...</td>\n",
                            "    </tr>\n",
                            "    <tr>\n",
                            "      <th>125034</th>\n",
                            "      <td>321</td>\n",
                            "      <td>59</td>\n",
                            "      <td>NaN</td>\n",
                            "      <td>NaN</td>\n",
                            "      <td>Lawnmower Man 2: Beyond Cyberspace (1996)</td>\n",
                            "      <td>['Action', 'Sci-Fi', 'Thriller']</td>\n",
                            "      <td>0</td>\n",
                            "      <td>val</td>\n",
                            "      <td>321[SEP]59[SEP]Lawnmower Man 2: Beyond Cybersp...</td>\n",
                            "      <td>0.0</td>\n",
                            "      <td>...</td>\n",
                            "      <td>0.0</td>\n",
                            "      <td>0.0</td>\n",
                            "      <td>0.0</td>\n",
                            "      <td>0.0</td>\n",
                            "      <td>1.0</td>\n",
                            "      <td>1.0</td>\n",
                            "      <td>0.0</td>\n",
                            "      <td>0.0</td>\n",
                            "      <td>[-0.3852957785129547, 0.02625414729118347, -0....</td>\n",
                            "      <td>[0.38845473527908325, -0.27163609862327576, -0...</td>\n",
                            "    </tr>\n",
                            "    <tr>\n",
                            "      <th>125035</th>\n",
                            "      <td>388</td>\n",
                            "      <td>2639</td>\n",
                            "      <td>NaN</td>\n",
                            "      <td>NaN</td>\n",
                            "      <td>All the Vermeers in New York (1990)</td>\n",
                            "      <td>['Comedy', 'Drama', 'Romance']</td>\n",
                            "      <td>0</td>\n",
                            "      <td>val</td>\n",
                            "      <td>388[SEP]2639[SEP]All the Vermeers in New York ...</td>\n",
                            "      <td>0.0</td>\n",
                            "      <td>...</td>\n",
                            "      <td>0.0</td>\n",
                            "      <td>0.0</td>\n",
                            "      <td>0.0</td>\n",
                            "      <td>1.0</td>\n",
                            "      <td>0.0</td>\n",
                            "      <td>0.0</td>\n",
                            "      <td>0.0</td>\n",
                            "      <td>0.0</td>\n",
                            "      <td>[0.26095038652420044, 0.08665543794631958, -0....</td>\n",
                            "      <td>[1.6701771020889282, -0.6786400079727173, 0.87...</td>\n",
                            "    </tr>\n",
                            "    <tr>\n",
                            "      <th>125036</th>\n",
                            "      <td>562</td>\n",
                            "      <td>5853</td>\n",
                            "      <td>NaN</td>\n",
                            "      <td>NaN</td>\n",
                            "      <td>Fever Pitch (2005)</td>\n",
                            "      <td>['Comedy', 'Romance']</td>\n",
                            "      <td>0</td>\n",
                            "      <td>val</td>\n",
                            "      <td>562[SEP]5853[SEP]Fever Pitch (2005)[SEP]['Come...</td>\n",
                            "      <td>0.0</td>\n",
                            "      <td>...</td>\n",
                            "      <td>0.0</td>\n",
                            "      <td>0.0</td>\n",
                            "      <td>0.0</td>\n",
                            "      <td>1.0</td>\n",
                            "      <td>0.0</td>\n",
                            "      <td>0.0</td>\n",
                            "      <td>0.0</td>\n",
                            "      <td>0.0</td>\n",
                            "      <td>[-0.10399876534938812, -1.4549669027328491, -0...</td>\n",
                            "      <td>[0.2887535095214844, -0.13333263993263245, 0.4...</td>\n",
                            "    </tr>\n",
                            "  </tbody>\n",
                            "</table>\n",
                            "<p>125037 rows × 31 columns</p>\n",
                            "</div>"
                        ],
                        "text/plain": [
                            "        source_id  target_id  id_x   id_y  \\\n",
                            "0               0          5   0.0    5.0   \n",
                            "1               0         89   0.0   89.0   \n",
                            "2               0         97   0.0   97.0   \n",
                            "3               0        184   0.0  184.0   \n",
                            "4               0        224   0.0  224.0   \n",
                            "...           ...        ...   ...    ...   \n",
                            "125032         79       8846   NaN    NaN   \n",
                            "125033        300       2595   NaN    NaN   \n",
                            "125034        321         59   NaN    NaN   \n",
                            "125035        388       2639   NaN    NaN   \n",
                            "125036        562       5853   NaN    NaN   \n",
                            "\n",
                            "                             prompt_feature_title  \\\n",
                            "0                                     Heat (1995)   \n",
                            "1                            Bottle Rocket (1996)   \n",
                            "2                               Braveheart (1995)   \n",
                            "3                            Billy Madison (1995)   \n",
                            "4       Star Wars: Episode IV - A New Hope (1977)   \n",
                            "...                                           ...   \n",
                            "125032                            Lovesick (2014)   \n",
                            "125033                         Dersu Uzala (1975)   \n",
                            "125034  Lawnmower Man 2: Beyond Cyberspace (1996)   \n",
                            "125035        All the Vermeers in New York (1990)   \n",
                            "125036                         Fever Pitch (2005)   \n",
                            "\n",
                            "                              prompt_feature_genres  labels  split  \\\n",
                            "0                   ['Action', 'Crime', 'Thriller']       1  train   \n",
                            "1       ['Adventure', 'Comedy', 'Crime', 'Romance']       1  train   \n",
                            "2                        ['Action', 'Drama', 'War']       1  train   \n",
                            "3                                        ['Comedy']       1  train   \n",
                            "4                 ['Action', 'Adventure', 'Sci-Fi']       1  train   \n",
                            "...                                             ...     ...    ...   \n",
                            "125032                        ['Comedy', 'Romance']       0    val   \n",
                            "125033                       ['Adventure', 'Drama']       0    val   \n",
                            "125034             ['Action', 'Sci-Fi', 'Thriller']       0    val   \n",
                            "125035               ['Comedy', 'Drama', 'Romance']       0    val   \n",
                            "125036                        ['Comedy', 'Romance']       0    val   \n",
                            "\n",
                            "                                                   prompt  \\\n",
                            "0       0[SEP]5[SEP]Heat (1995)[SEP]['Action', 'Crime'...   \n",
                            "1       0[SEP]89[SEP]Bottle Rocket (1996)[SEP]['Advent...   \n",
                            "2       0[SEP]97[SEP]Braveheart (1995)[SEP]['Action', ...   \n",
                            "3       0[SEP]184[SEP]Billy Madison (1995)[SEP]['Comedy']   \n",
                            "4       0[SEP]224[SEP]Star Wars: Episode IV - A New Ho...   \n",
                            "...                                                   ...   \n",
                            "125032  79[SEP]8846[SEP]Lovesick (2014)[SEP]['Comedy',...   \n",
                            "125033  300[SEP]2595[SEP]Dersu Uzala (1975)[SEP]['Adve...   \n",
                            "125034  321[SEP]59[SEP]Lawnmower Man 2: Beyond Cybersp...   \n",
                            "125035  388[SEP]2639[SEP]All the Vermeers in New York ...   \n",
                            "125036  562[SEP]5853[SEP]Fever Pitch (2005)[SEP]['Come...   \n",
                            "\n",
                            "        gnn_feature_(no genres listed)  ...  gnn_feature_IMAX  \\\n",
                            "0                                  NaN  ...               NaN   \n",
                            "1                                  NaN  ...               NaN   \n",
                            "2                                  NaN  ...               NaN   \n",
                            "3                                  NaN  ...               NaN   \n",
                            "4                                  NaN  ...               NaN   \n",
                            "...                                ...  ...               ...   \n",
                            "125032                             0.0  ...               0.0   \n",
                            "125033                             0.0  ...               0.0   \n",
                            "125034                             0.0  ...               0.0   \n",
                            "125035                             0.0  ...               0.0   \n",
                            "125036                             0.0  ...               0.0   \n",
                            "\n",
                            "        gnn_feature_Musical  gnn_feature_Mystery  gnn_feature_Romance  \\\n",
                            "0                       NaN                  NaN                  NaN   \n",
                            "1                       NaN                  NaN                  NaN   \n",
                            "2                       NaN                  NaN                  NaN   \n",
                            "3                       NaN                  NaN                  NaN   \n",
                            "4                       NaN                  NaN                  NaN   \n",
                            "...                     ...                  ...                  ...   \n",
                            "125032                  0.0                  0.0                  1.0   \n",
                            "125033                  0.0                  0.0                  0.0   \n",
                            "125034                  0.0                  0.0                  0.0   \n",
                            "125035                  0.0                  0.0                  1.0   \n",
                            "125036                  0.0                  0.0                  1.0   \n",
                            "\n",
                            "        gnn_feature_Sci-Fi  gnn_feature_Thriller  gnn_feature_War  \\\n",
                            "0                      NaN                   NaN              NaN   \n",
                            "1                      NaN                   NaN              NaN   \n",
                            "2                      NaN                   NaN              NaN   \n",
                            "3                      NaN                   NaN              NaN   \n",
                            "4                      NaN                   NaN              NaN   \n",
                            "...                    ...                   ...              ...   \n",
                            "125032                 0.0                   0.0              0.0   \n",
                            "125033                 0.0                   0.0              0.0   \n",
                            "125034                 1.0                   1.0              0.0   \n",
                            "125035                 0.0                   0.0              0.0   \n",
                            "125036                 0.0                   0.0              0.0   \n",
                            "\n",
                            "        gnn_feature_Western  \\\n",
                            "0                       NaN   \n",
                            "1                       NaN   \n",
                            "2                       NaN   \n",
                            "3                       NaN   \n",
                            "4                       NaN   \n",
                            "...                     ...   \n",
                            "125032                  0.0   \n",
                            "125033                  0.0   \n",
                            "125034                  0.0   \n",
                            "125035                  0.0   \n",
                            "125036                  0.0   \n",
                            "\n",
                            "                    graph_prompter_hf_source_embedding  \\\n",
                            "0       [0.6693655252456665, 0.4152011275291443, -0.31...   \n",
                            "1       [0.6030164957046509, 0.37829291820526123, -0.3...   \n",
                            "2       [0.6387443542480469, 0.3706628084182739, -0.32...   \n",
                            "3       [0.49271589517593384, 0.4562503397464752, -0.2...   \n",
                            "4       [0.6498588919639587, 0.43191879987716675, -0.3...   \n",
                            "...                                                   ...   \n",
                            "125032  [-0.5735506415367126, -0.044633716344833374, -...   \n",
                            "125033  [0.006543345749378204, -0.3807082176208496, 0....   \n",
                            "125034  [-0.3852957785129547, 0.02625414729118347, -0....   \n",
                            "125035  [0.26095038652420044, 0.08665543794631958, -0....   \n",
                            "125036  [-0.10399876534938812, -1.4549669027328491, -0...   \n",
                            "\n",
                            "                    graph_prompter_hf_target_embedding  \n",
                            "0       [0.5493870973587036, -0.5692430734634399, -0.6...  \n",
                            "1       [0.08589676022529602, -0.4689454734325409, 0.0...  \n",
                            "2       [0.04940161854028702, -0.47019216418266296, -0...  \n",
                            "3       [0.6636490821838379, -0.3091672956943512, 0.01...  \n",
                            "4       [-0.08320911973714828, -0.060460180044174194, ...  \n",
                            "...                                                   ...  \n",
                            "125032  [0.47228026390075684, -0.911340594291687, 0.00...  \n",
                            "125033  [0.36955565214157104, -0.21707147359848022, -0...  \n",
                            "125034  [0.38845473527908325, -0.27163609862327576, -0...  \n",
                            "125035  [1.6701771020889282, -0.6786400079727173, 0.87...  \n",
                            "125036  [0.2887535095214844, -0.13333263993263245, 0.4...  \n",
                            "\n",
                            "[125037 rows x 31 columns]"
                        ]
                    },
                    "execution_count": 10,
                    "metadata": {},
                    "output_type": "execute_result"
                }
            ],
            "source": [
                "kg_manager.llm_df"
            ]
        },
        {
            "cell_type": "code",
            "execution_count": 8,
            "metadata": {},
            "outputs": [
                {
                    "ename": "AssertionError",
                    "evalue": "",
                    "output_type": "error",
                    "traceback": [
                        "\u001b[1;31m---------------------------------------------------------------------------\u001b[0m",
                        "\u001b[1;31mAssertionError\u001b[0m                            Traceback (most recent call last)",
                        "Cell \u001b[1;32mIn[8], line 1\u001b[0m\n\u001b[1;32m----> 1\u001b[0m dataset \u001b[38;5;241m=\u001b[39m \u001b[43mkg_manager\u001b[49m\u001b[38;5;241;43m.\u001b[39;49m\u001b[43mgenerate_huggingface_dataset\u001b[49m\u001b[43m(\u001b[49m\n\u001b[0;32m      2\u001b[0m \u001b[43m    \u001b[49m\u001b[43m[\u001b[49m\u001b[43mvanilla_df\u001b[49m\u001b[43m,\u001b[49m\u001b[43m \u001b[49m\u001b[43mprompt_df\u001b[49m\u001b[43m,\u001b[49m\u001b[43m \u001b[49m\u001b[43mgraph_prompter_hf_df\u001b[49m\u001b[43m,\u001b[49m\u001b[43m \u001b[49m\u001b[43mgraph_prompter_hf_frozen_df\u001b[49m\u001b[43m]\u001b[49m\u001b[43m,\u001b[49m\n\u001b[0;32m      3\u001b[0m \u001b[43m    \u001b[49m\u001b[43m[\u001b[49m\u001b[38;5;124;43m\"\u001b[39;49m\u001b[38;5;124;43mvanilla\u001b[39;49m\u001b[38;5;124;43m\"\u001b[39;49m\u001b[43m,\u001b[49m\u001b[43m \u001b[49m\u001b[38;5;124;43m\"\u001b[39;49m\u001b[38;5;124;43mprompt\u001b[39;49m\u001b[38;5;124;43m\"\u001b[39;49m\u001b[43m,\u001b[49m\u001b[43m \u001b[49m\u001b[38;5;124;43m\"\u001b[39;49m\u001b[38;5;124;43mgraph_prompter_hf\u001b[39;49m\u001b[38;5;124;43m\"\u001b[39;49m\u001b[43m,\u001b[49m\u001b[43m \u001b[49m\u001b[38;5;124;43m\"\u001b[39;49m\u001b[38;5;124;43mgraph_prompter_hf_frozen_df\u001b[39;49m\u001b[38;5;124;43m\"\u001b[39;49m\u001b[43m]\u001b[49m\u001b[43m,\u001b[49m\n\u001b[0;32m      4\u001b[0m \u001b[43m)\u001b[49m\n",
                        "File \u001b[1;32mc:\\Users\\MARS\\Ahmad\\Hauptprojekt\\dataset_manager.py:540\u001b[0m, in \u001b[0;36mKGManger.generate_huggingface_dataset\u001b[1;34m(self, dfs, df_prefix_list)\u001b[0m\n\u001b[0;32m    538\u001b[0m len_df \u001b[38;5;241m=\u001b[39m \u001b[38;5;28mlen\u001b[39m(dfs[\u001b[38;5;241m0\u001b[39m])\n\u001b[0;32m    539\u001b[0m \u001b[38;5;28;01mfor\u001b[39;00m df \u001b[38;5;129;01min\u001b[39;00m dfs:\n\u001b[1;32m--> 540\u001b[0m     \u001b[38;5;28;01massert\u001b[39;00m \u001b[38;5;28mlen\u001b[39m(df) \u001b[38;5;241m==\u001b[39m len_df\n\u001b[0;32m    541\u001b[0m     df[\u001b[38;5;124m\"\u001b[39m\u001b[38;5;124mattentions_original_shape\u001b[39m\u001b[38;5;124m\"\u001b[39m] \u001b[38;5;241m=\u001b[39m df[\u001b[38;5;124m\"\u001b[39m\u001b[38;5;124mattentions\u001b[39m\u001b[38;5;124m\"\u001b[39m]\u001b[38;5;241m.\u001b[39mapply(\n\u001b[0;32m    542\u001b[0m         \u001b[38;5;28;01mlambda\u001b[39;00m attention: attention\u001b[38;5;241m.\u001b[39mshape\n\u001b[0;32m    543\u001b[0m     )\n\u001b[0;32m    544\u001b[0m     df[\u001b[38;5;124m\"\u001b[39m\u001b[38;5;124mattentions\u001b[39m\u001b[38;5;124m\"\u001b[39m] \u001b[38;5;241m=\u001b[39m df[\u001b[38;5;124m\"\u001b[39m\u001b[38;5;124mattentions\u001b[39m\u001b[38;5;124m\"\u001b[39m]\u001b[38;5;241m.\u001b[39mapply(\n\u001b[0;32m    545\u001b[0m         \u001b[38;5;28;01mlambda\u001b[39;00m attention: attention\u001b[38;5;241m.\u001b[39mflatten()\n\u001b[0;32m    546\u001b[0m     )\n",
                        "\u001b[1;31mAssertionError\u001b[0m: "
                    ]
                }
            ],
            "source": [
                "dataset = kg_manager.generate_huggingface_dataset(\n",
                "    [vanilla_df, prompt_df, graph_prompter_hf_df, graph_prompter_hf_frozen_df],\n",
                "    [\"vanilla\", \"prompt\", \"graph_prompter_hf\", \"graph_prompter_hf_frozen_df\"],\n",
                ")"
            ]
        },
        {
            "cell_type": "code",
            "execution_count": null,
            "metadata": {},
            "outputs": [
                {
                    "ename": "NameError",
                    "evalue": "name 'dataset' is not defined",
                    "output_type": "error",
                    "traceback": [
                        "\u001b[1;31m---------------------------------------------------------------------------\u001b[0m",
                        "\u001b[1;31mNameError\u001b[0m                                 Traceback (most recent call last)",
                        "Cell \u001b[1;32mIn[6], line 1\u001b[0m\n\u001b[1;32m----> 1\u001b[0m \u001b[43mdataset\u001b[49m\n",
                        "\u001b[1;31mNameError\u001b[0m: name 'dataset' is not defined"
                    ]
                }
            ],
            "source": [
                "dataset"
            ]
        },
        {
            "cell_type": "code",
            "execution_count": null,
            "metadata": {},
            "outputs": [
                {
                    "data": {
                        "application/vnd.jupyter.widget-view+json": {
                            "model_id": "f89c974afcf94afab198668489c5a249",
                            "version_major": 2,
                            "version_minor": 0
                        },
                        "text/plain": [
                            "Saving the dataset (0/10 shards):   0%|          | 0/56469 [00:00<?, ? examples/s]"
                        ]
                    },
                    "metadata": {},
                    "output_type": "display_data"
                },
                {
                    "data": {
                        "application/vnd.jupyter.widget-view+json": {
                            "model_id": "22f0eab7ed8f44ff90e5e9bc9282444c",
                            "version_major": 2,
                            "version_minor": 0
                        },
                        "text/plain": [
                            "Saving the dataset (0/6 shards):   0%|          | 0/34284 [00:00<?, ? examples/s]"
                        ]
                    },
                    "metadata": {},
                    "output_type": "display_data"
                },
                {
                    "data": {
                        "application/vnd.jupyter.widget-view+json": {
                            "model_id": "50adf2489da4406383eb72805be58c56",
                            "version_major": 2,
                            "version_minor": 0
                        },
                        "text/plain": [
                            "Saving the dataset (0/6 shards):   0%|          | 0/34284 [00:00<?, ? examples/s]"
                        ]
                    },
                    "metadata": {},
                    "output_type": "display_data"
                }
            ],
            "source": [
                "dataset.save_to_disk(\"./data/dataset.hf\")"
            ]
        },
        {
            "cell_type": "code",
            "execution_count": null,
            "metadata": {},
            "outputs": [
                {
                    "data": {
                        "application/vnd.jupyter.widget-view+json": {
                            "model_id": "b0a909ef5cbe44389fd61ffafb3f7ba8",
                            "version_major": 2,
                            "version_minor": 0
                        },
                        "text/plain": [
                            "Uploading the dataset shards:   0%|          | 0/10 [00:00<?, ?it/s]"
                        ]
                    },
                    "metadata": {},
                    "output_type": "display_data"
                },
                {
                    "data": {
                        "application/vnd.jupyter.widget-view+json": {
                            "model_id": "0cb10c3b45cb4b52919fcddb8f0e2f95",
                            "version_major": 2,
                            "version_minor": 0
                        },
                        "text/plain": [
                            "Creating parquet from Arrow format:   0%|          | 0/6 [00:00<?, ?ba/s]"
                        ]
                    },
                    "metadata": {},
                    "output_type": "display_data"
                },
                {
                    "data": {
                        "application/vnd.jupyter.widget-view+json": {
                            "model_id": "e831a0ac0c22420fab7dbdb3295a13e7",
                            "version_major": 2,
                            "version_minor": 0
                        },
                        "text/plain": [
                            "Creating parquet from Arrow format:   0%|          | 0/6 [00:00<?, ?ba/s]"
                        ]
                    },
                    "metadata": {},
                    "output_type": "display_data"
                },
                {
                    "data": {
                        "application/vnd.jupyter.widget-view+json": {
                            "model_id": "faea6bffbc6b467c960d42d4dbf0c7ad",
                            "version_major": 2,
                            "version_minor": 0
                        },
                        "text/plain": [
                            "Creating parquet from Arrow format:   0%|          | 0/6 [00:00<?, ?ba/s]"
                        ]
                    },
                    "metadata": {},
                    "output_type": "display_data"
                },
                {
                    "data": {
                        "application/vnd.jupyter.widget-view+json": {
                            "model_id": "13cf1ee0df7e4e708965c67cda4549bd",
                            "version_major": 2,
                            "version_minor": 0
                        },
                        "text/plain": [
                            "Creating parquet from Arrow format:   0%|          | 0/6 [00:00<?, ?ba/s]"
                        ]
                    },
                    "metadata": {},
                    "output_type": "display_data"
                },
                {
                    "data": {
                        "application/vnd.jupyter.widget-view+json": {
                            "model_id": "51fba39200734990ac3cc00b108933d4",
                            "version_major": 2,
                            "version_minor": 0
                        },
                        "text/plain": [
                            "Creating parquet from Arrow format:   0%|          | 0/6 [00:00<?, ?ba/s]"
                        ]
                    },
                    "metadata": {},
                    "output_type": "display_data"
                },
                {
                    "data": {
                        "application/vnd.jupyter.widget-view+json": {
                            "model_id": "3805eab96d3d4249a06305e2a225aeef",
                            "version_major": 2,
                            "version_minor": 0
                        },
                        "text/plain": [
                            "Creating parquet from Arrow format:   0%|          | 0/6 [00:00<?, ?ba/s]"
                        ]
                    },
                    "metadata": {},
                    "output_type": "display_data"
                },
                {
                    "data": {
                        "application/vnd.jupyter.widget-view+json": {
                            "model_id": "8d6b310452f943a6b2e6de1663a21bd6",
                            "version_major": 2,
                            "version_minor": 0
                        },
                        "text/plain": [
                            "Creating parquet from Arrow format:   0%|          | 0/6 [00:00<?, ?ba/s]"
                        ]
                    },
                    "metadata": {},
                    "output_type": "display_data"
                },
                {
                    "data": {
                        "application/vnd.jupyter.widget-view+json": {
                            "model_id": "726d4d4d4a774ef090e30d7df1526442",
                            "version_major": 2,
                            "version_minor": 0
                        },
                        "text/plain": [
                            "Creating parquet from Arrow format:   0%|          | 0/6 [00:00<?, ?ba/s]"
                        ]
                    },
                    "metadata": {},
                    "output_type": "display_data"
                },
                {
                    "data": {
                        "application/vnd.jupyter.widget-view+json": {
                            "model_id": "3d50d73923d24c7f81544b04ac8a60e4",
                            "version_major": 2,
                            "version_minor": 0
                        },
                        "text/plain": [
                            "Creating parquet from Arrow format:   0%|          | 0/6 [00:00<?, ?ba/s]"
                        ]
                    },
                    "metadata": {},
                    "output_type": "display_data"
                },
                {
                    "data": {
                        "application/vnd.jupyter.widget-view+json": {
                            "model_id": "d0eb7834b2af48ae86423d0db3ea53a9",
                            "version_major": 2,
                            "version_minor": 0
                        },
                        "text/plain": [
                            "Creating parquet from Arrow format:   0%|          | 0/6 [00:00<?, ?ba/s]"
                        ]
                    },
                    "metadata": {},
                    "output_type": "display_data"
                },
                {
                    "data": {
                        "application/vnd.jupyter.widget-view+json": {
                            "model_id": "a31b0f0353164169b6cbe7d37e1cfa31",
                            "version_major": 2,
                            "version_minor": 0
                        },
                        "text/plain": [
                            "Uploading the dataset shards:   0%|          | 0/6 [00:00<?, ?it/s]"
                        ]
                    },
                    "metadata": {},
                    "output_type": "display_data"
                },
                {
                    "data": {
                        "application/vnd.jupyter.widget-view+json": {
                            "model_id": "2315cdc3de584ea09e0dd00283388359",
                            "version_major": 2,
                            "version_minor": 0
                        },
                        "text/plain": [
                            "Creating parquet from Arrow format:   0%|          | 0/6 [00:00<?, ?ba/s]"
                        ]
                    },
                    "metadata": {},
                    "output_type": "display_data"
                },
                {
                    "data": {
                        "application/vnd.jupyter.widget-view+json": {
                            "model_id": "7132361a3a84439cbeeb17bbc0b11f41",
                            "version_major": 2,
                            "version_minor": 0
                        },
                        "text/plain": [
                            "Creating parquet from Arrow format:   0%|          | 0/6 [00:00<?, ?ba/s]"
                        ]
                    },
                    "metadata": {},
                    "output_type": "display_data"
                },
                {
                    "data": {
                        "application/vnd.jupyter.widget-view+json": {
                            "model_id": "8e295c3a7e364687b26362a87c0774b7",
                            "version_major": 2,
                            "version_minor": 0
                        },
                        "text/plain": [
                            "Creating parquet from Arrow format:   0%|          | 0/6 [00:00<?, ?ba/s]"
                        ]
                    },
                    "metadata": {},
                    "output_type": "display_data"
                },
                {
                    "data": {
                        "application/vnd.jupyter.widget-view+json": {
                            "model_id": "6e3ef3c487b9492186cb2f3f8ba6a845",
                            "version_major": 2,
                            "version_minor": 0
                        },
                        "text/plain": [
                            "Creating parquet from Arrow format:   0%|          | 0/6 [00:00<?, ?ba/s]"
                        ]
                    },
                    "metadata": {},
                    "output_type": "display_data"
                },
                {
                    "data": {
                        "application/vnd.jupyter.widget-view+json": {
                            "model_id": "579db4ac26f2469ea6b758f1a2708d41",
                            "version_major": 2,
                            "version_minor": 0
                        },
                        "text/plain": [
                            "Creating parquet from Arrow format:   0%|          | 0/6 [00:00<?, ?ba/s]"
                        ]
                    },
                    "metadata": {},
                    "output_type": "display_data"
                },
                {
                    "data": {
                        "application/vnd.jupyter.widget-view+json": {
                            "model_id": "fb516a56c5604f7a927c9ee80a0473fd",
                            "version_major": 2,
                            "version_minor": 0
                        },
                        "text/plain": [
                            "Creating parquet from Arrow format:   0%|          | 0/6 [00:00<?, ?ba/s]"
                        ]
                    },
                    "metadata": {},
                    "output_type": "display_data"
                },
                {
                    "data": {
                        "application/vnd.jupyter.widget-view+json": {
                            "model_id": "f632b0e2c5bd48738fe04760450c7bb7",
                            "version_major": 2,
                            "version_minor": 0
                        },
                        "text/plain": [
                            "Uploading the dataset shards:   0%|          | 0/6 [00:00<?, ?it/s]"
                        ]
                    },
                    "metadata": {},
                    "output_type": "display_data"
                },
                {
                    "data": {
                        "application/vnd.jupyter.widget-view+json": {
                            "model_id": "5a914326db5f454eb0253b25acc13e23",
                            "version_major": 2,
                            "version_minor": 0
                        },
                        "text/plain": [
                            "Creating parquet from Arrow format:   0%|          | 0/6 [00:00<?, ?ba/s]"
                        ]
                    },
                    "metadata": {},
                    "output_type": "display_data"
                },
                {
                    "data": {
                        "application/vnd.jupyter.widget-view+json": {
                            "model_id": "389f34fd3058483f870cb954ab03bfce",
                            "version_major": 2,
                            "version_minor": 0
                        },
                        "text/plain": [
                            "Creating parquet from Arrow format:   0%|          | 0/6 [00:00<?, ?ba/s]"
                        ]
                    },
                    "metadata": {},
                    "output_type": "display_data"
                },
                {
                    "data": {
                        "application/vnd.jupyter.widget-view+json": {
                            "model_id": "2b7141200a994701b064ba52035273e9",
                            "version_major": 2,
                            "version_minor": 0
                        },
                        "text/plain": [
                            "Creating parquet from Arrow format:   0%|          | 0/6 [00:00<?, ?ba/s]"
                        ]
                    },
                    "metadata": {},
                    "output_type": "display_data"
                },
                {
                    "data": {
                        "application/vnd.jupyter.widget-view+json": {
                            "model_id": "5d6fff1457884dcca7ca4ad8c8084820",
                            "version_major": 2,
                            "version_minor": 0
                        },
                        "text/plain": [
                            "Creating parquet from Arrow format:   0%|          | 0/6 [00:00<?, ?ba/s]"
                        ]
                    },
                    "metadata": {},
                    "output_type": "display_data"
                },
                {
                    "data": {
                        "application/vnd.jupyter.widget-view+json": {
                            "model_id": "15dc090a5fda4b1f89a48dced7c4bd54",
                            "version_major": 2,
                            "version_minor": 0
                        },
                        "text/plain": [
                            "Creating parquet from Arrow format:   0%|          | 0/6 [00:00<?, ?ba/s]"
                        ]
                    },
                    "metadata": {},
                    "output_type": "display_data"
                },
                {
                    "data": {
                        "application/vnd.jupyter.widget-view+json": {
                            "model_id": "e29b0e30a28b4e0e8a369120f6943f07",
                            "version_major": 2,
                            "version_minor": 0
                        },
                        "text/plain": [
                            "Creating parquet from Arrow format:   0%|          | 0/6 [00:00<?, ?ba/s]"
                        ]
                    },
                    "metadata": {},
                    "output_type": "display_data"
                },
                {
                    "data": {
                        "application/vnd.jupyter.widget-view+json": {
                            "model_id": "adaf19b432e04648a97e2fdd9898462e",
                            "version_major": 2,
                            "version_minor": 0
                        },
                        "text/plain": [
                            "README.md:   0%|          | 0.00/2.80k [00:00<?, ?B/s]"
                        ]
                    },
                    "metadata": {},
                    "output_type": "display_data"
                },
                {
                    "name": "stderr",
                    "output_type": "stream",
                    "text": [
                        "c:\\Users\\MARS\\.conda\\envs\\hauptprojekt\\Lib\\site-packages\\huggingface_hub\\file_download.py:157: UserWarning: `huggingface_hub` cache-system uses symlinks by default to efficiently store duplicated files but your machine does not support them in C:\\Users\\MARS\\.cache\\huggingface\\hub\\datasets--AhmadPython--MovieLens_KGE. Caching files will still work but in a degraded version that might require more space on your disk. This warning can be disabled by setting the `HF_HUB_DISABLE_SYMLINKS_WARNING` environment variable. For more details, see https://huggingface.co/docs/huggingface_hub/how-to-cache#limitations.\n",
                        "To support symlinks on Windows, you either need to activate Developer Mode or to run Python as an administrator. In order to see activate developer mode, see this article: https://docs.microsoft.com/en-us/windows/apps/get-started/enable-your-device-for-development\n",
                        "  warnings.warn(message)\n"
                    ]
                },
                {
                    "data": {
                        "text/plain": [
                            "CommitInfo(commit_url='https://huggingface.co/datasets/AhmadPython/MovieLens_KGE/commit/70c96f660429150e55b6437d59ee39da76891de7', commit_message='Upload dataset', commit_description='', oid='70c96f660429150e55b6437d59ee39da76891de7', pr_url=None, pr_revision=None, pr_num=None)"
                        ]
                    },
                    "execution_count": 11,
                    "metadata": {},
                    "output_type": "execute_result"
                }
            ],
            "source": [
                "dataset.push_to_hub(\"AhmadPython/MovieLens_KGE\")"
            ]
        }
    ],
    "metadata": {
        "kernelspec": {
            "display_name": "hauptprojekt",
            "language": "python",
            "name": "python3"
        },
        "language_info": {
            "codemirror_mode": {
                "name": "ipython",
                "version": 3
            },
            "file_extension": ".py",
            "mimetype": "text/x-python",
            "name": "python",
            "nbconvert_exporter": "python",
            "pygments_lexer": "ipython3",
            "version": "3.12.4"
        }
    },
    "nbformat": 4,
    "nbformat_minor": 2
}