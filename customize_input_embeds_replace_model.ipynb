{
 "cells": [
  {
   "cell_type": "code",
   "execution_count": 1,
   "metadata": {},
   "outputs": [],
   "source": [
    "from llm_manager import (\n",
    "    SequenceClassifierOutputOverRanges,\n",
    "    EmbeddingBasedClassifier,\n",
    "    ClassifierBase,\n",
    "    ID2LABEL,\n",
    "    LABEL2ID,\n",
    "    MODEL_NAME,\n",
    ")\n",
    "from dataset_manager import ROOT, MovieLensManager, INPUT_EMBEDS_REPLACE_KGE_DIMENSION\n",
    "from graph_representation_generator import GraphRepresentationGenerator\n",
    "from typing import Optional, Union, Tuple\n",
    "import os\n",
    "\n",
    "import torch\n",
    "from torch.nn import BCEWithLogitsLoss, CrossEntropyLoss, MSELoss\n",
    "from transformers import BertForSequenceClassification"
   ]
  },
  {
   "cell_type": "markdown",
   "metadata": {},
   "source": [
    "# Customize Input Embeds Replace Classifier\n",
    "In our first experiments we noticed that replacing the placeholders of the input embeds with the KGEs breakes up the gradient propagation all the way back. To make it even, we will freeze this entire step so that only the attention headers are trained. "
   ]
  },
  {
   "cell_type": "code",
   "execution_count": 2,
   "metadata": {},
   "outputs": [],
   "source": [
    "class InputEmbedsReplaceFrozenBertForSequenceClassification(\n",
    "    BertForSequenceClassification\n",
    "):\n",
    "    def forward(\n",
    "        self,\n",
    "        input_ids: Optional[torch.Tensor] = None,\n",
    "        attention_mask: Optional[torch.Tensor] = None,\n",
    "        token_type_ids: Optional[torch.Tensor] = None,\n",
    "        position_ids: Optional[torch.Tensor] = None,\n",
    "        head_mask: Optional[torch.Tensor] = None,\n",
    "        inputs_embeds: Optional[torch.Tensor] = None,\n",
    "        labels: Optional[torch.Tensor] = None,\n",
    "        output_attentions: Optional[bool] = None,\n",
    "        output_hidden_states: Optional[bool] = None,\n",
    "        return_dict: Optional[bool] = None,\n",
    "        graph_embeddings: Optional[torch.Tensor] = None,\n",
    "        semantic_positional_encoding: Optional[torch.Tensor] = None,\n",
    "    ) -> Union[Tuple[torch.Tensor], SequenceClassifierOutputOverRanges]:\n",
    "        r\"\"\"\n",
    "        labels (`torch.LongTensor` of shape `(batch_size,)`, *optional*):\n",
    "            Labels for computing the sequence classification/regression loss. Indices should be in `[0, ...,\n",
    "            config.num_labels - 1]`. If `config.num_labels == 1` a regression loss is computed (Mean-Square loss), If\n",
    "            `config.num_labels > 1` a classification loss is computed (Cross-Entropy).\n",
    "        \"\"\"\n",
    "        return_dict = (\n",
    "            return_dict if return_dict is not None else self.config.use_return_dict\n",
    "        )\n",
    "        if inputs_embeds is None:\n",
    "            # CHANGES: we freeze the gradients when producing input embeddings and detach them before passing them on just to be save\n",
    "            with torch.no_grad():\n",
    "                inputs_embeds = self.bert.embeddings(input_ids).detach()\n",
    "            assert isinstance(inputs_embeds, torch.Tensor)\n",
    "        if graph_embeddings is not None and len(graph_embeddings) > 0:\n",
    "            if attention_mask is not None:\n",
    "                mask = (\n",
    "                    (\n",
    "                        (attention_mask.to(self.device).sum(dim=1) - 1)\n",
    "                        .unsqueeze(1)\n",
    "                        .repeat((1, 2))\n",
    "                        - torch.tensor([3, 1], device=self.device)\n",
    "                    )\n",
    "                    .unsqueeze(2)\n",
    "                    .repeat((1, 1, self.config.hidden_size))\n",
    "                )  # basically a mask finding the last positions between the sep tokens (reshaped so they can be used in scatter)\n",
    "                inputs_embeds = inputs_embeds.to(\n",
    "                    self.device\n",
    "                ).scatter(\n",
    "                    1, mask.to(self.device), graph_embeddings.to(self.device)\n",
    "                )  # replace the input embeds at the place holder positions with the KGEs.\n",
    "        outputs = self.bert(\n",
    "            attention_mask=attention_mask,\n",
    "            token_type_ids=token_type_ids,\n",
    "            position_ids=position_ids,\n",
    "            head_mask=head_mask,\n",
    "            inputs_embeds=inputs_embeds,\n",
    "            output_attentions=output_attentions,\n",
    "            output_hidden_states=output_hidden_states,\n",
    "            return_dict=return_dict,\n",
    "        )  # feed forward the input embeds to the attention model\n",
    "\n",
    "        pooled_output = outputs[1]\n",
    "\n",
    "        pooled_output = self.dropout(pooled_output)\n",
    "        logits = self.classifier(pooled_output)\n",
    "        loss = None\n",
    "        if labels is not None:\n",
    "            if self.config.problem_type is None:\n",
    "                if self.num_labels == 1:\n",
    "                    self.config.problem_type = \"regression\"\n",
    "                elif self.num_labels > 1 and (\n",
    "                    labels.dtype == torch.long or labels.dtype == torch.int\n",
    "                ):\n",
    "                    self.config.problem_type = \"single_label_classification\"\n",
    "                else:\n",
    "                    self.config.problem_type = \"multi_label_classification\"\n",
    "\n",
    "            if self.config.problem_type == \"regression\":\n",
    "                loss_fct = MSELoss()\n",
    "                if self.num_labels == 1:\n",
    "                    loss = loss_fct(logits.squeeze(), labels.squeeze())\n",
    "                else:\n",
    "                    loss = loss_fct(logits, labels)\n",
    "            elif self.config.problem_type == \"single_label_classification\":\n",
    "                loss_fct = CrossEntropyLoss()\n",
    "                loss = loss_fct(logits.view(-1, self.num_labels), labels.view(-1))\n",
    "            elif self.config.problem_type == \"multi_label_classification\":\n",
    "                loss_fct = BCEWithLogitsLoss()\n",
    "                loss = loss_fct(logits, labels)\n",
    "        if not return_dict:\n",
    "            output = (logits,) + outputs[2:]\n",
    "            return ((loss,) + output) if loss is not None else output\n",
    "\n",
    "        return SequenceClassifierOutputOverRanges(\n",
    "            loss=loss,\n",
    "            logits=logits,\n",
    "            hidden_states=outputs.hidden_states,\n",
    "            attentions=outputs.attentions,\n",
    "            semantic_positional_encoding=semantic_positional_encoding,\n",
    "        )"
   ]
  },
  {
   "cell_type": "markdown",
   "metadata": {},
   "source": [
    "Next we define the new Classifier the same way the original was defined, with the exception of the model we are loading, which is the new frozen model."
   ]
  },
  {
   "cell_type": "code",
   "execution_count": 3,
   "metadata": {},
   "outputs": [],
   "source": [
    "class InputEmbedsReplaceFrozenClassifier(EmbeddingBasedClassifier):\n",
    "    def __init__(\n",
    "        self,\n",
    "        kge_manager,\n",
    "        get_embedding_cb,\n",
    "        root_path,\n",
    "        model_name=MODEL_NAME,\n",
    "        model_max_length=256,\n",
    "        false_ratio=1.0,\n",
    "        force_recompute=False,\n",
    "    ) -> None:\n",
    "        training_path = f\"{root_path}/training\"\n",
    "        model_path = f\"{training_path}/best\"\n",
    "\n",
    "        if os.path.exists(model_path) and not force_recompute:\n",
    "            model = (\n",
    "                InputEmbedsReplaceFrozenBertForSequenceClassification.from_pretrained(\n",
    "                    model_path,\n",
    "                    num_labels=2,\n",
    "                    id2label=ID2LABEL,\n",
    "                    label2id=LABEL2ID,\n",
    "                )\n",
    "            )\n",
    "        else:\n",
    "            model = (\n",
    "                InputEmbedsReplaceFrozenBertForSequenceClassification.from_pretrained(\n",
    "                    model_name, num_labels=2, id2label=ID2LABEL, label2id=LABEL2ID\n",
    "                )\n",
    "            )\n",
    "        assert isinstance(model, BertForSequenceClassification)\n",
    "        super().__init__(\n",
    "            kge_manager,\n",
    "            get_embedding_cb,\n",
    "            root_path,\n",
    "            model,\n",
    "            model_name,\n",
    "            model_max_length,\n",
    "            false_ratio,\n",
    "            force_recompute,\n",
    "        )\n",
    "\n",
    "    def plot_training_loss_and_accuracy(self):\n",
    "        model_type = \"Input Embeds Replace\"\n",
    "        self._plot_training_loss_and_accuracy(model_type)"
   ]
  },
  {
   "cell_type": "markdown",
   "metadata": {},
   "source": [
    "Now comes the whole training procedure (see training_models.ipynb)"
   ]
  },
  {
   "cell_type": "code",
   "execution_count": 4,
   "metadata": {},
   "outputs": [
    {
     "name": "stdout",
     "output_type": "stream",
     "text": [
      "loading pretrained model\n",
      "Device: 'cuda'\n"
     ]
    }
   ],
   "source": [
    "kg_manager = MovieLensManager()\n",
    "EPOCHS = 20\n",
    "BATCH_SIZE = 256\n",
    "graph_representation_generator_input_embeds_replace = GraphRepresentationGenerator(\n",
    "    kg_manager.data,\n",
    "    kg_manager.gnn_train_data,\n",
    "    kg_manager.gnn_val_data,\n",
    "    kg_manager.gnn_test_data,\n",
    "    hidden_channels=INPUT_EMBEDS_REPLACE_KGE_DIMENSION,\n",
    "    kge_dimension=INPUT_EMBEDS_REPLACE_KGE_DIMENSION,\n",
    ")\n",
    "input_embeds_replace_embeddings = (\n",
    "    graph_representation_generator_input_embeds_replace.get_saved_embeddings(\n",
    "        \"input_embeds_replace\"\n",
    "    )\n",
    ")\n",
    "save = False\n",
    "if input_embeds_replace_embeddings is None:\n",
    "    input_embeds_replace_embeddings = (\n",
    "        graph_representation_generator_input_embeds_replace.generate_embeddings(\n",
    "            kg_manager.llm_df\n",
    "        )\n",
    "    )\n",
    "    save = True\n",
    "kg_manager.append_input_embeds_replace_graph_embeddings(\n",
    "    input_embeds_replace_embeddings, save=save\n",
    ")"
   ]
  },
  {
   "cell_type": "code",
   "execution_count": 5,
   "metadata": {},
   "outputs": [
    {
     "name": "stderr",
     "output_type": "stream",
     "text": [
      "Some weights of InputEmbedsReplaceFrozenBertForSequenceClassification were not initialized from the model checkpoint at google/bert_uncased_L-2_H-128_A-2 and are newly initialized: ['classifier.bias', 'classifier.weight']\n",
      "You should probably TRAIN this model on a down-stream task to be able to use it for predictions and inference.\n"
     ]
    },
    {
     "data": {
      "application/vnd.jupyter.widget-view+json": {
       "model_id": "5d3c4612506c49ca82e30ae450c40c33",
       "version_major": 2,
       "version_minor": 0
      },
      "text/plain": [
       "Map:   0%|          | 0/56469 [00:00<?, ? examples/s]"
      ]
     },
     "metadata": {},
     "output_type": "display_data"
    },
    {
     "data": {
      "application/vnd.jupyter.widget-view+json": {
       "model_id": "b4d0897fdb184d1aa0e3f7a98e77ebb7",
       "version_major": 2,
       "version_minor": 0
      },
      "text/plain": [
       "Map:   0%|          | 0/34284 [00:00<?, ? examples/s]"
      ]
     },
     "metadata": {},
     "output_type": "display_data"
    },
    {
     "data": {
      "application/vnd.jupyter.widget-view+json": {
       "model_id": "5d6bef942abd44aeacaccac0b3cd5303",
       "version_major": 2,
       "version_minor": 0
      },
      "text/plain": [
       "Map:   0%|          | 0/34284 [00:00<?, ? examples/s]"
      ]
     },
     "metadata": {},
     "output_type": "display_data"
    },
    {
     "data": {
      "application/vnd.jupyter.widget-view+json": {
       "model_id": "f93562d0f2c7465687483fad376df56f",
       "version_major": 2,
       "version_minor": 0
      },
      "text/plain": [
       "Saving the dataset (0/1 shards):   0%|          | 0/56469 [00:00<?, ? examples/s]"
      ]
     },
     "metadata": {},
     "output_type": "display_data"
    },
    {
     "data": {
      "application/vnd.jupyter.widget-view+json": {
       "model_id": "e527ea4abc8145b7a1ac73e689819c24",
       "version_major": 2,
       "version_minor": 0
      },
      "text/plain": [
       "Saving the dataset (0/1 shards):   0%|          | 0/34284 [00:00<?, ? examples/s]"
      ]
     },
     "metadata": {},
     "output_type": "display_data"
    },
    {
     "data": {
      "application/vnd.jupyter.widget-view+json": {
       "model_id": "384bc4e2200c4f02b1d980fbba0cf8e1",
       "version_major": 2,
       "version_minor": 0
      },
      "text/plain": [
       "Saving the dataset (0/1 shards):   0%|          | 0/34284 [00:00<?, ? examples/s]"
      ]
     },
     "metadata": {},
     "output_type": "display_data"
    },
    {
     "data": {
      "application/vnd.jupyter.widget-view+json": {
       "model_id": "35ad9d09212644d6bac74833e8f1b5fc",
       "version_major": 2,
       "version_minor": 0
      },
      "text/plain": [
       "  0%|          | 0/4420 [00:00<?, ?it/s]"
      ]
     },
     "metadata": {},
     "output_type": "display_data"
    },
    {
     "name": "stderr",
     "output_type": "stream",
     "text": [
      "c:\\Users\\MARS\\.conda\\envs\\hauptprojekt\\Lib\\site-packages\\transformers\\models\\bert\\modeling_bert.py:439: UserWarning: 1Torch was not compiled with flash attention. (Triggered internally at ..\\aten\\src\\ATen\\native\\transformers\\cuda\\sdp_utils.cpp:455.)\n",
      "  attn_output = torch.nn.functional.scaled_dot_product_attention(\n"
     ]
    },
    {
     "name": "stdout",
     "output_type": "stream",
     "text": [
      "{'loss': 0.6929, 'grad_norm': 0.4582357704639435, 'learning_rate': 1.0000000000000002e-06, 'epoch': 0.05}\n",
      "{'loss': 0.6937, 'grad_norm': 0.40128108859062195, 'learning_rate': 2.0000000000000003e-06, 'epoch': 0.09}\n",
      "{'loss': 0.6922, 'grad_norm': 0.41317835450172424, 'learning_rate': 3e-06, 'epoch': 0.14}\n",
      "{'loss': 0.6912, 'grad_norm': 0.3376091420650482, 'learning_rate': 4.000000000000001e-06, 'epoch': 0.18}\n",
      "{'loss': 0.6907, 'grad_norm': 0.27966317534446716, 'learning_rate': 5e-06, 'epoch': 0.23}\n",
      "{'loss': 0.6898, 'grad_norm': 0.653462827205658, 'learning_rate': 6e-06, 'epoch': 0.27}\n",
      "{'loss': 0.6895, 'grad_norm': 0.29140666127204895, 'learning_rate': 7.000000000000001e-06, 'epoch': 0.32}\n",
      "{'loss': 0.6892, 'grad_norm': 0.597112774848938, 'learning_rate': 8.000000000000001e-06, 'epoch': 0.36}\n",
      "{'loss': 0.6838, 'grad_norm': 0.5333534479141235, 'learning_rate': 9e-06, 'epoch': 0.41}\n",
      "{'loss': 0.686, 'grad_norm': 0.45640063285827637, 'learning_rate': 1e-05, 'epoch': 0.45}\n",
      "{'loss': 0.6845, 'grad_norm': 0.5833815336227417, 'learning_rate': 1.1000000000000001e-05, 'epoch': 0.5}\n",
      "{'loss': 0.6811, 'grad_norm': 0.4566013514995575, 'learning_rate': 1.2e-05, 'epoch': 0.54}\n",
      "{'loss': 0.6771, 'grad_norm': 0.5447419881820679, 'learning_rate': 1.3000000000000001e-05, 'epoch': 0.59}\n",
      "{'loss': 0.6744, 'grad_norm': 0.7353494763374329, 'learning_rate': 1.4000000000000001e-05, 'epoch': 0.63}\n",
      "{'loss': 0.6658, 'grad_norm': 0.9713600873947144, 'learning_rate': 1.5e-05, 'epoch': 0.68}\n",
      "{'loss': 0.6586, 'grad_norm': 0.5071967840194702, 'learning_rate': 1.6000000000000003e-05, 'epoch': 0.72}\n",
      "{'loss': 0.6434, 'grad_norm': 0.764781653881073, 'learning_rate': 1.7000000000000003e-05, 'epoch': 0.77}\n",
      "{'loss': 0.6228, 'grad_norm': 0.7433999180793762, 'learning_rate': 1.8e-05, 'epoch': 0.81}\n",
      "{'loss': 0.6128, 'grad_norm': 0.8099238872528076, 'learning_rate': 1.9e-05, 'epoch': 0.86}\n",
      "{'loss': 0.5901, 'grad_norm': 0.9244574308395386, 'learning_rate': 2e-05, 'epoch': 0.9}\n",
      "{'loss': 0.5738, 'grad_norm': 0.9309335947036743, 'learning_rate': 2.1e-05, 'epoch': 0.95}\n",
      "{'loss': 0.5485, 'grad_norm': 0.7489711046218872, 'learning_rate': 2.2000000000000003e-05, 'epoch': 1.0}\n"
     ]
    },
    {
     "data": {
      "application/vnd.jupyter.widget-view+json": {
       "model_id": "068599f8ed374e779337a186d77cf608",
       "version_major": 2,
       "version_minor": 0
      },
      "text/plain": [
       "  0%|          | 0/134 [00:00<?, ?it/s]"
      ]
     },
     "metadata": {},
     "output_type": "display_data"
    },
    {
     "name": "stdout",
     "output_type": "stream",
     "text": [
      "{'eval_loss': 0.5134672522544861, 'eval_accuracy': 0.7898144907245362, 'eval_runtime': 30.5805, 'eval_samples_per_second': 1121.106, 'eval_steps_per_second': 4.382, 'epoch': 1.0}\n",
      "{'loss': 0.5402, 'grad_norm': 0.8751072287559509, 'learning_rate': 2.3000000000000003e-05, 'epoch': 1.04}\n",
      "{'loss': 0.5279, 'grad_norm': 0.8203177452087402, 'learning_rate': 2.4e-05, 'epoch': 1.09}\n",
      "{'loss': 0.5142, 'grad_norm': 0.7455928921699524, 'learning_rate': 2.5e-05, 'epoch': 1.13}\n",
      "{'loss': 0.5069, 'grad_norm': 0.7852235436439514, 'learning_rate': 2.6000000000000002e-05, 'epoch': 1.18}\n",
      "{'loss': 0.4934, 'grad_norm': 0.8675952553749084, 'learning_rate': 2.7000000000000002e-05, 'epoch': 1.22}\n",
      "{'loss': 0.4865, 'grad_norm': 0.7708192467689514, 'learning_rate': 2.8000000000000003e-05, 'epoch': 1.27}\n",
      "{'loss': 0.4826, 'grad_norm': 0.7010336518287659, 'learning_rate': 2.9e-05, 'epoch': 1.31}\n",
      "{'loss': 0.4763, 'grad_norm': 0.6503818035125732, 'learning_rate': 3e-05, 'epoch': 1.36}\n",
      "{'loss': 0.4645, 'grad_norm': 0.763946533203125, 'learning_rate': 3.1e-05, 'epoch': 1.4}\n",
      "{'loss': 0.4779, 'grad_norm': 0.8896386623382568, 'learning_rate': 3.2000000000000005e-05, 'epoch': 1.45}\n",
      "{'loss': 0.4593, 'grad_norm': 1.1505447626113892, 'learning_rate': 3.3e-05, 'epoch': 1.49}\n",
      "{'loss': 0.4634, 'grad_norm': 0.7163275480270386, 'learning_rate': 3.4000000000000007e-05, 'epoch': 1.54}\n",
      "{'loss': 0.453, 'grad_norm': 0.8125005960464478, 'learning_rate': 3.5e-05, 'epoch': 1.58}\n",
      "{'loss': 0.4472, 'grad_norm': 0.7226387858390808, 'learning_rate': 3.6e-05, 'epoch': 1.63}\n",
      "{'loss': 0.4468, 'grad_norm': 0.8198579549789429, 'learning_rate': 3.7e-05, 'epoch': 1.67}\n",
      "{'loss': 0.4513, 'grad_norm': 1.056339144706726, 'learning_rate': 3.8e-05, 'epoch': 1.72}\n",
      "{'loss': 0.4294, 'grad_norm': 0.8040112257003784, 'learning_rate': 3.9000000000000006e-05, 'epoch': 1.76}\n",
      "{'loss': 0.4312, 'grad_norm': 0.7594257593154907, 'learning_rate': 4e-05, 'epoch': 1.81}\n",
      "{'loss': 0.4336, 'grad_norm': 0.6547077894210815, 'learning_rate': 4.1e-05, 'epoch': 1.86}\n",
      "{'loss': 0.4221, 'grad_norm': 0.7081494927406311, 'learning_rate': 4.2e-05, 'epoch': 1.9}\n",
      "{'loss': 0.4156, 'grad_norm': 0.8233839273452759, 'learning_rate': 4.3e-05, 'epoch': 1.95}\n",
      "{'loss': 0.433, 'grad_norm': 0.777977466583252, 'learning_rate': 4.4000000000000006e-05, 'epoch': 1.99}\n"
     ]
    },
    {
     "data": {
      "application/vnd.jupyter.widget-view+json": {
       "model_id": "a9fa68a2eeb64dbf9c5bc1a8b81c3a95",
       "version_major": 2,
       "version_minor": 0
      },
      "text/plain": [
       "  0%|          | 0/134 [00:00<?, ?it/s]"
      ]
     },
     "metadata": {},
     "output_type": "display_data"
    },
    {
     "name": "stdout",
     "output_type": "stream",
     "text": [
      "{'eval_loss': 0.39485082030296326, 'eval_accuracy': 0.8309707152024268, 'eval_runtime': 30.5287, 'eval_samples_per_second': 1123.009, 'eval_steps_per_second': 4.389, 'epoch': 2.0}\n",
      "{'loss': 0.4251, 'grad_norm': 0.9167351126670837, 'learning_rate': 4.5e-05, 'epoch': 2.04}\n",
      "{'loss': 0.4098, 'grad_norm': 0.7703631520271301, 'learning_rate': 4.600000000000001e-05, 'epoch': 2.08}\n",
      "{'loss': 0.4155, 'grad_norm': 0.8481701016426086, 'learning_rate': 4.7e-05, 'epoch': 2.13}\n",
      "{'loss': 0.3988, 'grad_norm': 0.8063255548477173, 'learning_rate': 4.8e-05, 'epoch': 2.17}\n",
      "{'loss': 0.396, 'grad_norm': 0.6711715459823608, 'learning_rate': 4.9e-05, 'epoch': 2.22}\n",
      "{'loss': 0.3949, 'grad_norm': 0.8976175785064697, 'learning_rate': 5e-05, 'epoch': 2.26}\n",
      "{'loss': 0.3952, 'grad_norm': 1.729543685913086, 'learning_rate': 4.987244897959184e-05, 'epoch': 2.31}\n",
      "{'loss': 0.4157, 'grad_norm': 0.8729920983314514, 'learning_rate': 4.974489795918368e-05, 'epoch': 2.35}\n",
      "{'loss': 0.4061, 'grad_norm': 0.6452743411064148, 'learning_rate': 4.961734693877551e-05, 'epoch': 2.4}\n",
      "{'loss': 0.3797, 'grad_norm': 0.7217799425125122, 'learning_rate': 4.9489795918367346e-05, 'epoch': 2.44}\n",
      "{'loss': 0.394, 'grad_norm': 1.0466430187225342, 'learning_rate': 4.9362244897959184e-05, 'epoch': 2.49}\n",
      "{'loss': 0.4093, 'grad_norm': 0.8377333879470825, 'learning_rate': 4.923469387755102e-05, 'epoch': 2.53}\n",
      "{'loss': 0.3785, 'grad_norm': 0.7594947814941406, 'learning_rate': 4.910714285714286e-05, 'epoch': 2.58}\n",
      "{'loss': 0.3915, 'grad_norm': 0.8928130269050598, 'learning_rate': 4.89795918367347e-05, 'epoch': 2.62}\n",
      "{'loss': 0.388, 'grad_norm': 0.8067125678062439, 'learning_rate': 4.8852040816326534e-05, 'epoch': 2.67}\n",
      "{'loss': 0.3958, 'grad_norm': 0.6934050917625427, 'learning_rate': 4.872448979591837e-05, 'epoch': 2.71}\n",
      "{'loss': 0.392, 'grad_norm': 0.6296189427375793, 'learning_rate': 4.859693877551021e-05, 'epoch': 2.76}\n",
      "{'loss': 0.3945, 'grad_norm': 1.356166124343872, 'learning_rate': 4.846938775510204e-05, 'epoch': 2.81}\n",
      "{'loss': 0.3531, 'grad_norm': 0.8630622625350952, 'learning_rate': 4.834183673469388e-05, 'epoch': 2.85}\n",
      "{'loss': 0.3733, 'grad_norm': 0.8937166929244995, 'learning_rate': 4.8214285714285716e-05, 'epoch': 2.9}\n",
      "{'loss': 0.3652, 'grad_norm': 0.6869173049926758, 'learning_rate': 4.8086734693877554e-05, 'epoch': 2.94}\n",
      "{'loss': 0.366, 'grad_norm': 0.6043732166290283, 'learning_rate': 4.795918367346939e-05, 'epoch': 2.99}\n"
     ]
    },
    {
     "data": {
      "application/vnd.jupyter.widget-view+json": {
       "model_id": "046e40042e7a4761a66c6885934f626f",
       "version_major": 2,
       "version_minor": 0
      },
      "text/plain": [
       "  0%|          | 0/134 [00:00<?, ?it/s]"
      ]
     },
     "metadata": {},
     "output_type": "display_data"
    },
    {
     "name": "stdout",
     "output_type": "stream",
     "text": [
      "{'eval_loss': 0.3448346257209778, 'eval_accuracy': 0.855442772138607, 'eval_runtime': 31.1751, 'eval_samples_per_second': 1099.725, 'eval_steps_per_second': 4.298, 'epoch': 3.0}\n",
      "{'loss': 0.3721, 'grad_norm': 0.9145734906196594, 'learning_rate': 4.783163265306123e-05, 'epoch': 3.03}\n",
      "{'loss': 0.3676, 'grad_norm': 0.725443959236145, 'learning_rate': 4.7704081632653066e-05, 'epoch': 3.08}\n",
      "{'loss': 0.3926, 'grad_norm': 0.7349307537078857, 'learning_rate': 4.7576530612244904e-05, 'epoch': 3.12}\n",
      "{'loss': 0.3521, 'grad_norm': 0.7026703953742981, 'learning_rate': 4.744897959183674e-05, 'epoch': 3.17}\n",
      "{'loss': 0.3618, 'grad_norm': 0.7656220197677612, 'learning_rate': 4.732142857142857e-05, 'epoch': 3.21}\n",
      "{'loss': 0.372, 'grad_norm': 0.6938208937644958, 'learning_rate': 4.719387755102041e-05, 'epoch': 3.26}\n",
      "{'loss': 0.3655, 'grad_norm': 0.697308361530304, 'learning_rate': 4.706632653061225e-05, 'epoch': 3.3}\n",
      "{'loss': 0.3702, 'grad_norm': 0.843809962272644, 'learning_rate': 4.6938775510204086e-05, 'epoch': 3.35}\n",
      "{'loss': 0.3667, 'grad_norm': 0.8275265693664551, 'learning_rate': 4.6811224489795916e-05, 'epoch': 3.39}\n",
      "{'loss': 0.3559, 'grad_norm': 0.7136110067367554, 'learning_rate': 4.6683673469387754e-05, 'epoch': 3.44}\n",
      "{'loss': 0.3662, 'grad_norm': 0.7144587635993958, 'learning_rate': 4.655612244897959e-05, 'epoch': 3.48}\n",
      "{'loss': 0.3701, 'grad_norm': 0.7460727095603943, 'learning_rate': 4.642857142857143e-05, 'epoch': 3.53}\n",
      "{'loss': 0.3676, 'grad_norm': 0.6125110387802124, 'learning_rate': 4.630102040816327e-05, 'epoch': 3.57}\n",
      "{'loss': 0.3791, 'grad_norm': 1.0940831899642944, 'learning_rate': 4.6173469387755105e-05, 'epoch': 3.62}\n",
      "{'loss': 0.377, 'grad_norm': 0.8578933477401733, 'learning_rate': 4.604591836734694e-05, 'epoch': 3.67}\n",
      "{'loss': 0.3673, 'grad_norm': 0.7589256763458252, 'learning_rate': 4.591836734693878e-05, 'epoch': 3.71}\n",
      "{'loss': 0.3785, 'grad_norm': 0.7299141883850098, 'learning_rate': 4.579081632653062e-05, 'epoch': 3.76}\n",
      "{'loss': 0.3543, 'grad_norm': 0.7123461365699768, 'learning_rate': 4.566326530612245e-05, 'epoch': 3.8}\n",
      "{'loss': 0.3644, 'grad_norm': 0.8764742016792297, 'learning_rate': 4.5535714285714286e-05, 'epoch': 3.85}\n",
      "{'loss': 0.3534, 'grad_norm': 0.7704057693481445, 'learning_rate': 4.5408163265306124e-05, 'epoch': 3.89}\n",
      "{'loss': 0.3635, 'grad_norm': 0.6557937264442444, 'learning_rate': 4.528061224489796e-05, 'epoch': 3.94}\n",
      "{'loss': 0.3559, 'grad_norm': 0.8415281772613525, 'learning_rate': 4.515306122448979e-05, 'epoch': 3.98}\n"
     ]
    },
    {
     "data": {
      "application/vnd.jupyter.widget-view+json": {
       "model_id": "296cef9e6f8844e5b1822a372817d633",
       "version_major": 2,
       "version_minor": 0
      },
      "text/plain": [
       "  0%|          | 0/134 [00:00<?, ?it/s]"
      ]
     },
     "metadata": {},
     "output_type": "display_data"
    },
    {
     "name": "stdout",
     "output_type": "stream",
     "text": [
      "{'eval_loss': 0.32922351360321045, 'eval_accuracy': 0.8586804340217011, 'eval_runtime': 30.6781, 'eval_samples_per_second': 1117.539, 'eval_steps_per_second': 4.368, 'epoch': 4.0}\n",
      "{'loss': 0.3462, 'grad_norm': 0.8350036144256592, 'learning_rate': 4.502551020408164e-05, 'epoch': 4.03}\n",
      "{'loss': 0.3423, 'grad_norm': 0.7518599629402161, 'learning_rate': 4.4897959183673474e-05, 'epoch': 4.07}\n",
      "{'loss': 0.3834, 'grad_norm': 0.8655911684036255, 'learning_rate': 4.477040816326531e-05, 'epoch': 4.12}\n",
      "{'loss': 0.3587, 'grad_norm': 0.8432542681694031, 'learning_rate': 4.464285714285715e-05, 'epoch': 4.16}\n",
      "{'loss': 0.3465, 'grad_norm': 0.7233604788780212, 'learning_rate': 4.451530612244898e-05, 'epoch': 4.21}\n",
      "{'loss': 0.3334, 'grad_norm': 0.674627959728241, 'learning_rate': 4.438775510204082e-05, 'epoch': 4.25}\n",
      "{'loss': 0.3504, 'grad_norm': 0.8079975247383118, 'learning_rate': 4.4260204081632656e-05, 'epoch': 4.3}\n",
      "{'loss': 0.3384, 'grad_norm': 0.6328087449073792, 'learning_rate': 4.4132653061224493e-05, 'epoch': 4.34}\n",
      "{'loss': 0.3571, 'grad_norm': 0.7695781588554382, 'learning_rate': 4.4005102040816324e-05, 'epoch': 4.39}\n",
      "{'loss': 0.3377, 'grad_norm': 0.6606314182281494, 'learning_rate': 4.387755102040816e-05, 'epoch': 4.43}\n",
      "{'loss': 0.3685, 'grad_norm': 0.6602187752723694, 'learning_rate': 4.375e-05, 'epoch': 4.48}\n",
      "{'loss': 0.3827, 'grad_norm': 0.8705633878707886, 'learning_rate': 4.362244897959184e-05, 'epoch': 4.52}\n",
      "{'loss': 0.3615, 'grad_norm': 0.6895952224731445, 'learning_rate': 4.3494897959183675e-05, 'epoch': 4.57}\n",
      "{'loss': 0.3617, 'grad_norm': 0.8050860166549683, 'learning_rate': 4.336734693877551e-05, 'epoch': 4.62}\n",
      "{'loss': 0.3577, 'grad_norm': 0.7031276822090149, 'learning_rate': 4.323979591836735e-05, 'epoch': 4.66}\n",
      "{'loss': 0.3541, 'grad_norm': 1.1899152994155884, 'learning_rate': 4.311224489795919e-05, 'epoch': 4.71}\n",
      "{'loss': 0.3433, 'grad_norm': 0.7057185173034668, 'learning_rate': 4.2984693877551025e-05, 'epoch': 4.75}\n",
      "{'loss': 0.3636, 'grad_norm': 0.731963574886322, 'learning_rate': 4.2857142857142856e-05, 'epoch': 4.8}\n",
      "{'loss': 0.3637, 'grad_norm': 0.7433614730834961, 'learning_rate': 4.2729591836734694e-05, 'epoch': 4.84}\n",
      "{'loss': 0.35, 'grad_norm': 0.9981119632720947, 'learning_rate': 4.260204081632653e-05, 'epoch': 4.89}\n",
      "{'loss': 0.3343, 'grad_norm': 0.6137439608573914, 'learning_rate': 4.247448979591837e-05, 'epoch': 4.93}\n",
      "{'loss': 0.33, 'grad_norm': 0.9169473052024841, 'learning_rate': 4.234693877551021e-05, 'epoch': 4.98}\n"
     ]
    },
    {
     "data": {
      "application/vnd.jupyter.widget-view+json": {
       "model_id": "03ab93d1c74d46ee941753049f023873",
       "version_major": 2,
       "version_minor": 0
      },
      "text/plain": [
       "  0%|          | 0/134 [00:00<?, ?it/s]"
      ]
     },
     "metadata": {},
     "output_type": "display_data"
    },
    {
     "name": "stdout",
     "output_type": "stream",
     "text": [
      "{'eval_loss': 0.3201815187931061, 'eval_accuracy': 0.8648640765371602, 'eval_runtime': 30.7996, 'eval_samples_per_second': 1113.131, 'eval_steps_per_second': 4.351, 'epoch': 5.0}\n",
      "{'loss': 0.3582, 'grad_norm': 0.715366542339325, 'learning_rate': 4.2219387755102045e-05, 'epoch': 5.02}\n",
      "{'loss': 0.3533, 'grad_norm': 0.5962766408920288, 'learning_rate': 4.209183673469388e-05, 'epoch': 5.07}\n",
      "{'loss': 0.3535, 'grad_norm': 0.8110225796699524, 'learning_rate': 4.196428571428572e-05, 'epoch': 5.11}\n",
      "{'loss': 0.3323, 'grad_norm': 0.8143725991249084, 'learning_rate': 4.183673469387756e-05, 'epoch': 5.16}\n",
      "{'loss': 0.3298, 'grad_norm': 0.6367934346199036, 'learning_rate': 4.170918367346939e-05, 'epoch': 5.2}\n",
      "{'loss': 0.3313, 'grad_norm': 0.7643365859985352, 'learning_rate': 4.1581632653061226e-05, 'epoch': 5.25}\n",
      "{'loss': 0.3521, 'grad_norm': 0.7419686317443848, 'learning_rate': 4.1454081632653064e-05, 'epoch': 5.29}\n",
      "{'loss': 0.3548, 'grad_norm': 0.7939806580543518, 'learning_rate': 4.13265306122449e-05, 'epoch': 5.34}\n",
      "{'loss': 0.3492, 'grad_norm': 0.7469730377197266, 'learning_rate': 4.119897959183674e-05, 'epoch': 5.38}\n",
      "{'loss': 0.3485, 'grad_norm': 0.7280092835426331, 'learning_rate': 4.107142857142857e-05, 'epoch': 5.43}\n",
      "{'loss': 0.3454, 'grad_norm': 0.6943193078041077, 'learning_rate': 4.094387755102041e-05, 'epoch': 5.48}\n",
      "{'loss': 0.3448, 'grad_norm': 0.9345827102661133, 'learning_rate': 4.0816326530612245e-05, 'epoch': 5.52}\n",
      "{'loss': 0.3386, 'grad_norm': 0.6669655442237854, 'learning_rate': 4.068877551020408e-05, 'epoch': 5.57}\n",
      "{'loss': 0.3438, 'grad_norm': 0.6568870544433594, 'learning_rate': 4.056122448979592e-05, 'epoch': 5.61}\n",
      "{'loss': 0.3363, 'grad_norm': 0.8802464008331299, 'learning_rate': 4.043367346938776e-05, 'epoch': 5.66}\n",
      "{'loss': 0.3605, 'grad_norm': 0.9162823557853699, 'learning_rate': 4.0306122448979596e-05, 'epoch': 5.7}\n",
      "{'loss': 0.3498, 'grad_norm': 0.6980936527252197, 'learning_rate': 4.017857142857143e-05, 'epoch': 5.75}\n",
      "{'loss': 0.3481, 'grad_norm': 0.6537540555000305, 'learning_rate': 4.0051020408163264e-05, 'epoch': 5.79}\n",
      "{'loss': 0.3331, 'grad_norm': 0.7319779396057129, 'learning_rate': 3.99234693877551e-05, 'epoch': 5.84}\n",
      "{'loss': 0.3412, 'grad_norm': 0.7245568633079529, 'learning_rate': 3.979591836734694e-05, 'epoch': 5.88}\n",
      "{'loss': 0.3627, 'grad_norm': 0.8381592035293579, 'learning_rate': 3.966836734693878e-05, 'epoch': 5.93}\n",
      "{'loss': 0.321, 'grad_norm': 0.7404627203941345, 'learning_rate': 3.9540816326530615e-05, 'epoch': 5.97}\n"
     ]
    },
    {
     "data": {
      "application/vnd.jupyter.widget-view+json": {
       "model_id": "c74c381e14534039b3c2d67f8f72b3c9",
       "version_major": 2,
       "version_minor": 0
      },
      "text/plain": [
       "  0%|          | 0/134 [00:00<?, ?it/s]"
      ]
     },
     "metadata": {},
     "output_type": "display_data"
    },
    {
     "name": "stdout",
     "output_type": "stream",
     "text": [
      "{'eval_loss': 0.3125484585762024, 'eval_accuracy': 0.8687434371718586, 'eval_runtime': 30.8241, 'eval_samples_per_second': 1112.248, 'eval_steps_per_second': 4.347, 'epoch': 6.0}\n",
      "{'loss': 0.332, 'grad_norm': 0.8464667797088623, 'learning_rate': 3.9413265306122446e-05, 'epoch': 6.02}\n",
      "{'loss': 0.3334, 'grad_norm': 0.7309756875038147, 'learning_rate': 3.928571428571429e-05, 'epoch': 6.06}\n",
      "{'loss': 0.3411, 'grad_norm': 0.8790808916091919, 'learning_rate': 3.915816326530613e-05, 'epoch': 6.11}\n",
      "{'loss': 0.3328, 'grad_norm': 0.9831762313842773, 'learning_rate': 3.9030612244897965e-05, 'epoch': 6.15}\n",
      "{'loss': 0.3346, 'grad_norm': 0.6677863597869873, 'learning_rate': 3.8903061224489796e-05, 'epoch': 6.2}\n",
      "{'loss': 0.3291, 'grad_norm': 0.730955958366394, 'learning_rate': 3.8775510204081634e-05, 'epoch': 6.24}\n",
      "{'loss': 0.3472, 'grad_norm': 0.819309413433075, 'learning_rate': 3.864795918367347e-05, 'epoch': 6.29}\n",
      "{'loss': 0.3358, 'grad_norm': 0.7697454690933228, 'learning_rate': 3.852040816326531e-05, 'epoch': 6.33}\n",
      "{'loss': 0.3243, 'grad_norm': 0.8877620697021484, 'learning_rate': 3.839285714285715e-05, 'epoch': 6.38}\n",
      "{'loss': 0.3439, 'grad_norm': 0.700890302658081, 'learning_rate': 3.826530612244898e-05, 'epoch': 6.43}\n",
      "{'loss': 0.3584, 'grad_norm': 0.6788147687911987, 'learning_rate': 3.8137755102040815e-05, 'epoch': 6.47}\n",
      "{'loss': 0.319, 'grad_norm': 0.6404337882995605, 'learning_rate': 3.801020408163265e-05, 'epoch': 6.52}\n",
      "{'loss': 0.3309, 'grad_norm': 0.9837389588356018, 'learning_rate': 3.788265306122449e-05, 'epoch': 6.56}\n",
      "{'loss': 0.3365, 'grad_norm': 0.8827123045921326, 'learning_rate': 3.775510204081633e-05, 'epoch': 6.61}\n",
      "{'loss': 0.3272, 'grad_norm': 0.7435399293899536, 'learning_rate': 3.7627551020408166e-05, 'epoch': 6.65}\n",
      "{'loss': 0.342, 'grad_norm': 0.6306157112121582, 'learning_rate': 3.7500000000000003e-05, 'epoch': 6.7}\n",
      "{'loss': 0.3555, 'grad_norm': 0.7750962972640991, 'learning_rate': 3.737244897959184e-05, 'epoch': 6.74}\n",
      "{'loss': 0.3353, 'grad_norm': 0.8051289319992065, 'learning_rate': 3.724489795918368e-05, 'epoch': 6.79}\n",
      "{'loss': 0.3251, 'grad_norm': 0.7928802371025085, 'learning_rate': 3.711734693877551e-05, 'epoch': 6.83}\n",
      "{'loss': 0.3336, 'grad_norm': 0.9841620326042175, 'learning_rate': 3.698979591836735e-05, 'epoch': 6.88}\n",
      "{'loss': 0.3274, 'grad_norm': 0.7454960346221924, 'learning_rate': 3.6862244897959185e-05, 'epoch': 6.92}\n",
      "{'loss': 0.3304, 'grad_norm': 0.7612149715423584, 'learning_rate': 3.673469387755102e-05, 'epoch': 6.97}\n"
     ]
    },
    {
     "data": {
      "application/vnd.jupyter.widget-view+json": {
       "model_id": "4c402a49268449c8baa49a31602631b5",
       "version_major": 2,
       "version_minor": 0
      },
      "text/plain": [
       "  0%|          | 0/134 [00:00<?, ?it/s]"
      ]
     },
     "metadata": {},
     "output_type": "display_data"
    },
    {
     "name": "stdout",
     "output_type": "stream",
     "text": [
      "{'eval_loss': 0.3008391261100769, 'eval_accuracy': 0.8749270796873178, 'eval_runtime': 31.1781, 'eval_samples_per_second': 1099.618, 'eval_steps_per_second': 4.298, 'epoch': 7.0}\n",
      "{'loss': 0.3271, 'grad_norm': 0.7256224155426025, 'learning_rate': 3.6607142857142853e-05, 'epoch': 7.01}\n",
      "{'loss': 0.3314, 'grad_norm': 0.7637787461280823, 'learning_rate': 3.64795918367347e-05, 'epoch': 7.06}\n",
      "{'loss': 0.3311, 'grad_norm': 0.6798861026763916, 'learning_rate': 3.6352040816326536e-05, 'epoch': 7.1}\n",
      "{'loss': 0.3146, 'grad_norm': 0.8280966281890869, 'learning_rate': 3.622448979591837e-05, 'epoch': 7.15}\n",
      "{'loss': 0.3143, 'grad_norm': 0.7171550989151001, 'learning_rate': 3.609693877551021e-05, 'epoch': 7.19}\n",
      "{'loss': 0.3451, 'grad_norm': 0.627884566783905, 'learning_rate': 3.596938775510204e-05, 'epoch': 7.24}\n",
      "{'loss': 0.3268, 'grad_norm': 0.6408852934837341, 'learning_rate': 3.584183673469388e-05, 'epoch': 7.29}\n",
      "{'loss': 0.3299, 'grad_norm': 0.6742938160896301, 'learning_rate': 3.571428571428572e-05, 'epoch': 7.33}\n",
      "{'loss': 0.3152, 'grad_norm': 0.8623709678649902, 'learning_rate': 3.5586734693877555e-05, 'epoch': 7.38}\n",
      "{'loss': 0.3349, 'grad_norm': 0.8498279452323914, 'learning_rate': 3.5459183673469385e-05, 'epoch': 7.42}\n",
      "{'loss': 0.349, 'grad_norm': 0.9003262519836426, 'learning_rate': 3.533163265306122e-05, 'epoch': 7.47}\n",
      "{'loss': 0.3302, 'grad_norm': 0.7006732821464539, 'learning_rate': 3.520408163265306e-05, 'epoch': 7.51}\n",
      "{'loss': 0.3355, 'grad_norm': 0.6860749125480652, 'learning_rate': 3.50765306122449e-05, 'epoch': 7.56}\n",
      "{'loss': 0.3298, 'grad_norm': 0.887387216091156, 'learning_rate': 3.4948979591836736e-05, 'epoch': 7.6}\n",
      "{'loss': 0.3262, 'grad_norm': 0.7147103548049927, 'learning_rate': 3.4821428571428574e-05, 'epoch': 7.65}\n",
      "{'loss': 0.3315, 'grad_norm': 0.7047399282455444, 'learning_rate': 3.469387755102041e-05, 'epoch': 7.69}\n",
      "{'loss': 0.2983, 'grad_norm': 0.8375021815299988, 'learning_rate': 3.456632653061225e-05, 'epoch': 7.74}\n",
      "{'loss': 0.3261, 'grad_norm': 0.6925451159477234, 'learning_rate': 3.443877551020409e-05, 'epoch': 7.78}\n",
      "{'loss': 0.3246, 'grad_norm': 0.7536590695381165, 'learning_rate': 3.431122448979592e-05, 'epoch': 7.83}\n",
      "{'loss': 0.3521, 'grad_norm': 0.7792919278144836, 'learning_rate': 3.4183673469387755e-05, 'epoch': 7.87}\n",
      "{'loss': 0.3212, 'grad_norm': 0.8286839723587036, 'learning_rate': 3.405612244897959e-05, 'epoch': 7.92}\n",
      "{'loss': 0.337, 'grad_norm': 0.7693448662757874, 'learning_rate': 3.392857142857143e-05, 'epoch': 7.96}\n"
     ]
    },
    {
     "data": {
      "application/vnd.jupyter.widget-view+json": {
       "model_id": "0ab0d2f9589e4fb38f2ee61231ec68f8",
       "version_major": 2,
       "version_minor": 0
      },
      "text/plain": [
       "  0%|          | 0/134 [00:00<?, ?it/s]"
      ]
     },
     "metadata": {},
     "output_type": "display_data"
    },
    {
     "name": "stdout",
     "output_type": "stream",
     "text": [
      "{'eval_loss': 0.29197609424591064, 'eval_accuracy': 0.878835608447089, 'eval_runtime': 30.8424, 'eval_samples_per_second': 1111.585, 'eval_steps_per_second': 4.345, 'epoch': 8.0}\n",
      "{'loss': 0.3204, 'grad_norm': 0.8711879849433899, 'learning_rate': 3.380102040816326e-05, 'epoch': 8.01}\n",
      "{'loss': 0.3212, 'grad_norm': 0.9114750623703003, 'learning_rate': 3.36734693877551e-05, 'epoch': 8.05}\n",
      "{'loss': 0.3466, 'grad_norm': 0.6983364224433899, 'learning_rate': 3.354591836734694e-05, 'epoch': 8.1}\n",
      "{'loss': 0.3183, 'grad_norm': 0.6994694471359253, 'learning_rate': 3.341836734693878e-05, 'epoch': 8.14}\n",
      "{'loss': 0.3208, 'grad_norm': 0.7548505067825317, 'learning_rate': 3.329081632653062e-05, 'epoch': 8.19}\n",
      "{'loss': 0.3336, 'grad_norm': 0.7596806287765503, 'learning_rate': 3.316326530612245e-05, 'epoch': 8.24}\n",
      "{'loss': 0.3175, 'grad_norm': 0.8499863147735596, 'learning_rate': 3.303571428571429e-05, 'epoch': 8.28}\n",
      "{'loss': 0.3278, 'grad_norm': 0.698805570602417, 'learning_rate': 3.2908163265306125e-05, 'epoch': 8.33}\n",
      "{'loss': 0.3236, 'grad_norm': 0.7891659736633301, 'learning_rate': 3.278061224489796e-05, 'epoch': 8.37}\n",
      "{'loss': 0.3382, 'grad_norm': 0.6970914602279663, 'learning_rate': 3.265306122448979e-05, 'epoch': 8.42}\n",
      "{'loss': 0.3171, 'grad_norm': 0.9361276030540466, 'learning_rate': 3.252551020408163e-05, 'epoch': 8.46}\n",
      "{'loss': 0.312, 'grad_norm': 1.052498698234558, 'learning_rate': 3.239795918367347e-05, 'epoch': 8.51}\n",
      "{'loss': 0.3185, 'grad_norm': 0.8734674453735352, 'learning_rate': 3.2270408163265306e-05, 'epoch': 8.55}\n",
      "{'loss': 0.3308, 'grad_norm': 1.0653897523880005, 'learning_rate': 3.2142857142857144e-05, 'epoch': 8.6}\n",
      "{'loss': 0.3235, 'grad_norm': 0.9362732172012329, 'learning_rate': 3.201530612244898e-05, 'epoch': 8.64}\n",
      "{'loss': 0.3177, 'grad_norm': 0.7477591633796692, 'learning_rate': 3.188775510204082e-05, 'epoch': 8.69}\n",
      "{'loss': 0.3249, 'grad_norm': 0.7907047867774963, 'learning_rate': 3.176020408163266e-05, 'epoch': 8.73}\n",
      "{'loss': 0.3059, 'grad_norm': 0.7349433302879333, 'learning_rate': 3.1632653061224494e-05, 'epoch': 8.78}\n",
      "{'loss': 0.3029, 'grad_norm': 0.8585379719734192, 'learning_rate': 3.1505102040816325e-05, 'epoch': 8.82}\n",
      "{'loss': 0.323, 'grad_norm': 0.7647694945335388, 'learning_rate': 3.137755102040816e-05, 'epoch': 8.87}\n",
      "{'loss': 0.3066, 'grad_norm': 0.6601291298866272, 'learning_rate': 3.125e-05, 'epoch': 8.91}\n",
      "{'loss': 0.3089, 'grad_norm': 1.0013777017593384, 'learning_rate': 3.112244897959184e-05, 'epoch': 8.96}\n"
     ]
    },
    {
     "data": {
      "application/vnd.jupyter.widget-view+json": {
       "model_id": "f829c0b624244fb9bc7d0d4eac9b5b97",
       "version_major": 2,
       "version_minor": 0
      },
      "text/plain": [
       "  0%|          | 0/134 [00:00<?, ?it/s]"
      ]
     },
     "metadata": {},
     "output_type": "display_data"
    },
    {
     "name": "stdout",
     "output_type": "stream",
     "text": [
      "{'eval_loss': 0.29590144753456116, 'eval_accuracy': 0.8774647065686617, 'eval_runtime': 30.2923, 'eval_samples_per_second': 1131.775, 'eval_steps_per_second': 4.424, 'epoch': 9.0}\n",
      "{'loss': 0.3145, 'grad_norm': 0.7110249996185303, 'learning_rate': 3.0994897959183676e-05, 'epoch': 9.0}\n",
      "{'loss': 0.3121, 'grad_norm': 0.74888676404953, 'learning_rate': 3.086734693877551e-05, 'epoch': 9.05}\n",
      "{'loss': 0.2992, 'grad_norm': 0.783839225769043, 'learning_rate': 3.073979591836735e-05, 'epoch': 9.1}\n",
      "{'loss': 0.3104, 'grad_norm': 0.7438682913780212, 'learning_rate': 3.061224489795919e-05, 'epoch': 9.14}\n",
      "{'loss': 0.3343, 'grad_norm': 1.352871060371399, 'learning_rate': 3.0484693877551023e-05, 'epoch': 9.19}\n",
      "{'loss': 0.335, 'grad_norm': 0.9227076172828674, 'learning_rate': 3.0357142857142857e-05, 'epoch': 9.23}\n",
      "{'loss': 0.3267, 'grad_norm': 0.775842010974884, 'learning_rate': 3.0229591836734695e-05, 'epoch': 9.28}\n",
      "{'loss': 0.3164, 'grad_norm': 0.7836957573890686, 'learning_rate': 3.0102040816326533e-05, 'epoch': 9.32}\n",
      "{'loss': 0.3072, 'grad_norm': 0.7740724682807922, 'learning_rate': 2.997448979591837e-05, 'epoch': 9.37}\n",
      "{'loss': 0.3106, 'grad_norm': 0.8169175386428833, 'learning_rate': 2.9846938775510208e-05, 'epoch': 9.41}\n",
      "{'loss': 0.3071, 'grad_norm': 0.6505377888679504, 'learning_rate': 2.9719387755102042e-05, 'epoch': 9.46}\n",
      "{'loss': 0.3129, 'grad_norm': 0.7149973511695862, 'learning_rate': 2.959183673469388e-05, 'epoch': 9.5}\n",
      "{'loss': 0.3232, 'grad_norm': 0.6722357273101807, 'learning_rate': 2.9464285714285718e-05, 'epoch': 9.55}\n",
      "{'loss': 0.3145, 'grad_norm': 0.7549188137054443, 'learning_rate': 2.9336734693877555e-05, 'epoch': 9.59}\n",
      "{'loss': 0.3144, 'grad_norm': 1.1949090957641602, 'learning_rate': 2.9209183673469386e-05, 'epoch': 9.64}\n",
      "{'loss': 0.3289, 'grad_norm': 0.986773669719696, 'learning_rate': 2.9081632653061224e-05, 'epoch': 9.68}\n",
      "{'loss': 0.3275, 'grad_norm': 0.9522667527198792, 'learning_rate': 2.895408163265306e-05, 'epoch': 9.73}\n",
      "{'loss': 0.3182, 'grad_norm': 0.8421642780303955, 'learning_rate': 2.8826530612244902e-05, 'epoch': 9.77}\n",
      "{'loss': 0.3154, 'grad_norm': 0.7146462798118591, 'learning_rate': 2.869897959183674e-05, 'epoch': 9.82}\n",
      "{'loss': 0.3156, 'grad_norm': 0.8125865459442139, 'learning_rate': 2.857142857142857e-05, 'epoch': 9.86}\n",
      "{'loss': 0.3338, 'grad_norm': 1.2210602760314941, 'learning_rate': 2.844387755102041e-05, 'epoch': 9.91}\n",
      "{'loss': 0.32, 'grad_norm': 0.8261954188346863, 'learning_rate': 2.8316326530612246e-05, 'epoch': 9.95}\n",
      "{'loss': 0.3304, 'grad_norm': 0.9618022441864014, 'learning_rate': 2.8188775510204084e-05, 'epoch': 10.0}\n"
     ]
    },
    {
     "data": {
      "application/vnd.jupyter.widget-view+json": {
       "model_id": "e630a6e64be64cb0bc8a2e3ee09520bf",
       "version_major": 2,
       "version_minor": 0
      },
      "text/plain": [
       "  0%|          | 0/134 [00:00<?, ?it/s]"
      ]
     },
     "metadata": {},
     "output_type": "display_data"
    },
    {
     "name": "stdout",
     "output_type": "stream",
     "text": [
      "{'eval_loss': 0.2878313660621643, 'eval_accuracy': 0.880294014700735, 'eval_runtime': 30.9438, 'eval_samples_per_second': 1107.946, 'eval_steps_per_second': 4.33, 'epoch': 10.0}\n",
      "{'loss': 0.324, 'grad_norm': 0.8487284183502197, 'learning_rate': 2.8061224489795918e-05, 'epoch': 10.05}\n",
      "{'loss': 0.3234, 'grad_norm': 0.764045000076294, 'learning_rate': 2.7933673469387756e-05, 'epoch': 10.09}\n",
      "{'loss': 0.2987, 'grad_norm': 0.7852975726127625, 'learning_rate': 2.7806122448979593e-05, 'epoch': 10.14}\n",
      "{'loss': 0.3061, 'grad_norm': 0.7608056664466858, 'learning_rate': 2.767857142857143e-05, 'epoch': 10.18}\n",
      "{'loss': 0.2931, 'grad_norm': 0.724790096282959, 'learning_rate': 2.7551020408163265e-05, 'epoch': 10.23}\n",
      "{'loss': 0.3211, 'grad_norm': 0.7681241631507874, 'learning_rate': 2.7423469387755103e-05, 'epoch': 10.27}\n",
      "{'loss': 0.312, 'grad_norm': 0.6648139953613281, 'learning_rate': 2.729591836734694e-05, 'epoch': 10.32}\n",
      "{'loss': 0.2945, 'grad_norm': 0.6836796998977661, 'learning_rate': 2.7168367346938778e-05, 'epoch': 10.36}\n",
      "{'loss': 0.3226, 'grad_norm': 0.6907950639724731, 'learning_rate': 2.7040816326530616e-05, 'epoch': 10.41}\n",
      "{'loss': 0.3171, 'grad_norm': 1.016592025756836, 'learning_rate': 2.6913265306122447e-05, 'epoch': 10.45}\n",
      "{'loss': 0.3237, 'grad_norm': 0.7246093153953552, 'learning_rate': 2.6785714285714288e-05, 'epoch': 10.5}\n",
      "{'loss': 0.3188, 'grad_norm': 0.6473656892776489, 'learning_rate': 2.6658163265306125e-05, 'epoch': 10.54}\n",
      "{'loss': 0.2988, 'grad_norm': 0.7359742522239685, 'learning_rate': 2.6530612244897963e-05, 'epoch': 10.59}\n",
      "{'loss': 0.3227, 'grad_norm': 0.7838477492332458, 'learning_rate': 2.6403061224489794e-05, 'epoch': 10.63}\n",
      "{'loss': 0.3171, 'grad_norm': 1.106069564819336, 'learning_rate': 2.627551020408163e-05, 'epoch': 10.68}\n",
      "{'loss': 0.3094, 'grad_norm': 0.9927030801773071, 'learning_rate': 2.614795918367347e-05, 'epoch': 10.72}\n",
      "{'loss': 0.3109, 'grad_norm': 0.6314948797225952, 'learning_rate': 2.6020408163265307e-05, 'epoch': 10.77}\n",
      "{'loss': 0.3104, 'grad_norm': 0.9590998888015747, 'learning_rate': 2.5892857142857148e-05, 'epoch': 10.81}\n",
      "{'loss': 0.3222, 'grad_norm': 0.6817792057991028, 'learning_rate': 2.576530612244898e-05, 'epoch': 10.86}\n",
      "{'loss': 0.2953, 'grad_norm': 0.8318796753883362, 'learning_rate': 2.5637755102040816e-05, 'epoch': 10.9}\n",
      "{'loss': 0.3032, 'grad_norm': 0.6624312996864319, 'learning_rate': 2.5510204081632654e-05, 'epoch': 10.95}\n",
      "{'loss': 0.2944, 'grad_norm': 1.0454729795455933, 'learning_rate': 2.538265306122449e-05, 'epoch': 11.0}\n"
     ]
    },
    {
     "data": {
      "application/vnd.jupyter.widget-view+json": {
       "model_id": "4445b24d6ff64043b0b805b3ffc4cfbb",
       "version_major": 2,
       "version_minor": 0
      },
      "text/plain": [
       "  0%|          | 0/134 [00:00<?, ?it/s]"
      ]
     },
     "metadata": {},
     "output_type": "display_data"
    },
    {
     "name": "stdout",
     "output_type": "stream",
     "text": [
      "{'eval_loss': 0.2889189124107361, 'eval_accuracy': 0.8805856959514642, 'eval_runtime': 30.4473, 'eval_samples_per_second': 1126.013, 'eval_steps_per_second': 4.401, 'epoch': 11.0}\n",
      "{'loss': 0.316, 'grad_norm': 0.8163294196128845, 'learning_rate': 2.5255102040816326e-05, 'epoch': 11.04}\n",
      "{'loss': 0.2926, 'grad_norm': 0.7280205488204956, 'learning_rate': 2.5127551020408164e-05, 'epoch': 11.09}\n",
      "{'loss': 0.3066, 'grad_norm': 0.9762079119682312, 'learning_rate': 2.5e-05, 'epoch': 11.13}\n",
      "{'loss': 0.3192, 'grad_norm': 1.0050466060638428, 'learning_rate': 2.487244897959184e-05, 'epoch': 11.18}\n",
      "{'loss': 0.3227, 'grad_norm': 0.900336742401123, 'learning_rate': 2.4744897959183673e-05, 'epoch': 11.22}\n",
      "{'loss': 0.3102, 'grad_norm': 0.8947376012802124, 'learning_rate': 2.461734693877551e-05, 'epoch': 11.27}\n",
      "{'loss': 0.3196, 'grad_norm': 0.7671115398406982, 'learning_rate': 2.448979591836735e-05, 'epoch': 11.31}\n",
      "{'loss': 0.3149, 'grad_norm': 0.686499834060669, 'learning_rate': 2.4362244897959186e-05, 'epoch': 11.36}\n",
      "{'loss': 0.3115, 'grad_norm': 0.962968647480011, 'learning_rate': 2.423469387755102e-05, 'epoch': 11.4}\n",
      "{'loss': 0.3066, 'grad_norm': 0.7778356671333313, 'learning_rate': 2.4107142857142858e-05, 'epoch': 11.45}\n",
      "{'loss': 0.3229, 'grad_norm': 0.6668800115585327, 'learning_rate': 2.3979591836734696e-05, 'epoch': 11.49}\n",
      "{'loss': 0.3062, 'grad_norm': 0.75848788022995, 'learning_rate': 2.3852040816326533e-05, 'epoch': 11.54}\n",
      "{'loss': 0.2863, 'grad_norm': 0.8238949179649353, 'learning_rate': 2.372448979591837e-05, 'epoch': 11.58}\n",
      "{'loss': 0.3109, 'grad_norm': 1.1110451221466064, 'learning_rate': 2.3596938775510205e-05, 'epoch': 11.63}\n",
      "{'loss': 0.2984, 'grad_norm': 0.7853637933731079, 'learning_rate': 2.3469387755102043e-05, 'epoch': 11.67}\n",
      "{'loss': 0.309, 'grad_norm': 0.712925136089325, 'learning_rate': 2.3341836734693877e-05, 'epoch': 11.72}\n",
      "{'loss': 0.3138, 'grad_norm': 0.8567711710929871, 'learning_rate': 2.3214285714285715e-05, 'epoch': 11.76}\n",
      "{'loss': 0.3236, 'grad_norm': 0.8364089131355286, 'learning_rate': 2.3086734693877552e-05, 'epoch': 11.81}\n",
      "{'loss': 0.299, 'grad_norm': 0.7413621544837952, 'learning_rate': 2.295918367346939e-05, 'epoch': 11.86}\n",
      "{'loss': 0.3027, 'grad_norm': 0.896479070186615, 'learning_rate': 2.2831632653061224e-05, 'epoch': 11.9}\n",
      "{'loss': 0.2996, 'grad_norm': 0.8762922286987305, 'learning_rate': 2.2704081632653062e-05, 'epoch': 11.95}\n",
      "{'loss': 0.295, 'grad_norm': 1.063099980354309, 'learning_rate': 2.2576530612244896e-05, 'epoch': 11.99}\n"
     ]
    },
    {
     "data": {
      "application/vnd.jupyter.widget-view+json": {
       "model_id": "87d711731e51493590779b7ac3581337",
       "version_major": 2,
       "version_minor": 0
      },
      "text/plain": [
       "  0%|          | 0/134 [00:00<?, ?it/s]"
      ]
     },
     "metadata": {},
     "output_type": "display_data"
    },
    {
     "name": "stdout",
     "output_type": "stream",
     "text": [
      "{'eval_loss': 0.28472280502319336, 'eval_accuracy': 0.8822191109555477, 'eval_runtime': 30.3801, 'eval_samples_per_second': 1128.503, 'eval_steps_per_second': 4.411, 'epoch': 12.0}\n",
      "{'loss': 0.2999, 'grad_norm': 1.0480611324310303, 'learning_rate': 2.2448979591836737e-05, 'epoch': 12.04}\n",
      "{'loss': 0.3133, 'grad_norm': 0.8168999552726746, 'learning_rate': 2.2321428571428575e-05, 'epoch': 12.08}\n",
      "{'loss': 0.2961, 'grad_norm': 0.8464174866676331, 'learning_rate': 2.219387755102041e-05, 'epoch': 12.13}\n",
      "{'loss': 0.3265, 'grad_norm': 0.7923605442047119, 'learning_rate': 2.2066326530612247e-05, 'epoch': 12.17}\n",
      "{'loss': 0.3007, 'grad_norm': 0.7791452407836914, 'learning_rate': 2.193877551020408e-05, 'epoch': 12.22}\n",
      "{'loss': 0.3147, 'grad_norm': 0.7774122953414917, 'learning_rate': 2.181122448979592e-05, 'epoch': 12.26}\n",
      "{'loss': 0.3172, 'grad_norm': 1.0869982242584229, 'learning_rate': 2.1683673469387756e-05, 'epoch': 12.31}\n",
      "{'loss': 0.312, 'grad_norm': 0.8831064701080322, 'learning_rate': 2.1556122448979594e-05, 'epoch': 12.35}\n",
      "{'loss': 0.3058, 'grad_norm': 0.7093132138252258, 'learning_rate': 2.1428571428571428e-05, 'epoch': 12.4}\n",
      "{'loss': 0.3007, 'grad_norm': 0.7237879037857056, 'learning_rate': 2.1301020408163266e-05, 'epoch': 12.44}\n",
      "{'loss': 0.3031, 'grad_norm': 0.9047442078590393, 'learning_rate': 2.1173469387755103e-05, 'epoch': 12.49}\n",
      "{'loss': 0.3163, 'grad_norm': 0.9317835569381714, 'learning_rate': 2.104591836734694e-05, 'epoch': 12.53}\n",
      "{'loss': 0.2997, 'grad_norm': 0.7009974122047424, 'learning_rate': 2.091836734693878e-05, 'epoch': 12.58}\n",
      "{'loss': 0.3146, 'grad_norm': 1.1242389678955078, 'learning_rate': 2.0790816326530613e-05, 'epoch': 12.62}\n",
      "{'loss': 0.3122, 'grad_norm': 0.9297274947166443, 'learning_rate': 2.066326530612245e-05, 'epoch': 12.67}\n",
      "{'loss': 0.2944, 'grad_norm': 0.7576825022697449, 'learning_rate': 2.0535714285714285e-05, 'epoch': 12.71}\n",
      "{'loss': 0.3082, 'grad_norm': 0.8075936436653137, 'learning_rate': 2.0408163265306123e-05, 'epoch': 12.76}\n",
      "{'loss': 0.2974, 'grad_norm': 1.3381130695343018, 'learning_rate': 2.028061224489796e-05, 'epoch': 12.81}\n",
      "{'loss': 0.3006, 'grad_norm': 0.8648316264152527, 'learning_rate': 2.0153061224489798e-05, 'epoch': 12.85}\n",
      "{'loss': 0.3079, 'grad_norm': 1.1985373497009277, 'learning_rate': 2.0025510204081632e-05, 'epoch': 12.9}\n",
      "{'loss': 0.3185, 'grad_norm': 0.7676230072975159, 'learning_rate': 1.989795918367347e-05, 'epoch': 12.94}\n",
      "{'loss': 0.3017, 'grad_norm': 0.732737123966217, 'learning_rate': 1.9770408163265307e-05, 'epoch': 12.99}\n"
     ]
    },
    {
     "data": {
      "application/vnd.jupyter.widget-view+json": {
       "model_id": "f1bd1209919547db99d3fd839826e6ae",
       "version_major": 2,
       "version_minor": 0
      },
      "text/plain": [
       "  0%|          | 0/134 [00:00<?, ?it/s]"
      ]
     },
     "metadata": {},
     "output_type": "display_data"
    },
    {
     "name": "stdout",
     "output_type": "stream",
     "text": [
      "{'eval_loss': 0.2822956144809723, 'eval_accuracy': 0.8827733053319332, 'eval_runtime': 30.4009, 'eval_samples_per_second': 1127.728, 'eval_steps_per_second': 4.408, 'epoch': 13.0}\n",
      "{'loss': 0.3086, 'grad_norm': 0.7135851383209229, 'learning_rate': 1.9642857142857145e-05, 'epoch': 13.03}\n",
      "{'loss': 0.2954, 'grad_norm': 0.9137508869171143, 'learning_rate': 1.9515306122448983e-05, 'epoch': 13.08}\n",
      "{'loss': 0.3204, 'grad_norm': 0.8552921414375305, 'learning_rate': 1.9387755102040817e-05, 'epoch': 13.12}\n",
      "{'loss': 0.2847, 'grad_norm': 0.994759738445282, 'learning_rate': 1.9260204081632655e-05, 'epoch': 13.17}\n",
      "{'loss': 0.303, 'grad_norm': 0.7316272854804993, 'learning_rate': 1.913265306122449e-05, 'epoch': 13.21}\n",
      "{'loss': 0.3158, 'grad_norm': 1.142510175704956, 'learning_rate': 1.9005102040816326e-05, 'epoch': 13.26}\n",
      "{'loss': 0.3221, 'grad_norm': 0.7474606037139893, 'learning_rate': 1.8877551020408164e-05, 'epoch': 13.3}\n",
      "{'loss': 0.3164, 'grad_norm': 0.8416677713394165, 'learning_rate': 1.8750000000000002e-05, 'epoch': 13.35}\n",
      "{'loss': 0.3054, 'grad_norm': 0.7787541747093201, 'learning_rate': 1.862244897959184e-05, 'epoch': 13.39}\n",
      "{'loss': 0.2977, 'grad_norm': 0.8118498921394348, 'learning_rate': 1.8494897959183674e-05, 'epoch': 13.44}\n",
      "{'loss': 0.3046, 'grad_norm': 0.9665956497192383, 'learning_rate': 1.836734693877551e-05, 'epoch': 13.48}\n",
      "{'loss': 0.2992, 'grad_norm': 0.744906485080719, 'learning_rate': 1.823979591836735e-05, 'epoch': 13.53}\n",
      "{'loss': 0.3078, 'grad_norm': 0.944693922996521, 'learning_rate': 1.8112244897959187e-05, 'epoch': 13.57}\n",
      "{'loss': 0.3331, 'grad_norm': 0.754655122756958, 'learning_rate': 1.798469387755102e-05, 'epoch': 13.62}\n",
      "{'loss': 0.3205, 'grad_norm': 0.8302606344223022, 'learning_rate': 1.785714285714286e-05, 'epoch': 13.67}\n",
      "{'loss': 0.3221, 'grad_norm': 0.9060618877410889, 'learning_rate': 1.7729591836734693e-05, 'epoch': 13.71}\n",
      "{'loss': 0.3099, 'grad_norm': 0.8467497229576111, 'learning_rate': 1.760204081632653e-05, 'epoch': 13.76}\n",
      "{'loss': 0.2905, 'grad_norm': 0.6952481269836426, 'learning_rate': 1.7474489795918368e-05, 'epoch': 13.8}\n",
      "{'loss': 0.3039, 'grad_norm': 0.8239951729774475, 'learning_rate': 1.7346938775510206e-05, 'epoch': 13.85}\n",
      "{'loss': 0.3032, 'grad_norm': 0.6949334740638733, 'learning_rate': 1.7219387755102043e-05, 'epoch': 13.89}\n",
      "{'loss': 0.3147, 'grad_norm': 0.8278700113296509, 'learning_rate': 1.7091836734693878e-05, 'epoch': 13.94}\n",
      "{'loss': 0.3034, 'grad_norm': 1.0905694961547852, 'learning_rate': 1.6964285714285715e-05, 'epoch': 13.98}\n"
     ]
    },
    {
     "data": {
      "application/vnd.jupyter.widget-view+json": {
       "model_id": "2cb8056f00e346a2b616a05424cb21d2",
       "version_major": 2,
       "version_minor": 0
      },
      "text/plain": [
       "  0%|          | 0/134 [00:00<?, ?it/s]"
      ]
     },
     "metadata": {},
     "output_type": "display_data"
    },
    {
     "name": "stdout",
     "output_type": "stream",
     "text": [
      "{'eval_loss': 0.2784067988395691, 'eval_accuracy': 0.883590012833975, 'eval_runtime': 30.5623, 'eval_samples_per_second': 1121.774, 'eval_steps_per_second': 4.384, 'epoch': 14.0}\n",
      "{'loss': 0.3085, 'grad_norm': 0.9444997906684875, 'learning_rate': 1.683673469387755e-05, 'epoch': 14.03}\n",
      "{'loss': 0.3029, 'grad_norm': 0.734022855758667, 'learning_rate': 1.670918367346939e-05, 'epoch': 14.07}\n",
      "{'loss': 0.3062, 'grad_norm': 0.7859597206115723, 'learning_rate': 1.6581632653061225e-05, 'epoch': 14.12}\n",
      "{'loss': 0.3237, 'grad_norm': 0.9414042234420776, 'learning_rate': 1.6454081632653062e-05, 'epoch': 14.16}\n",
      "{'loss': 0.2921, 'grad_norm': 0.8176825642585754, 'learning_rate': 1.6326530612244897e-05, 'epoch': 14.21}\n",
      "{'loss': 0.3072, 'grad_norm': 0.9385035037994385, 'learning_rate': 1.6198979591836734e-05, 'epoch': 14.25}\n",
      "{'loss': 0.3137, 'grad_norm': 0.7723339796066284, 'learning_rate': 1.6071428571428572e-05, 'epoch': 14.3}\n",
      "{'loss': 0.2845, 'grad_norm': 0.822453498840332, 'learning_rate': 1.594387755102041e-05, 'epoch': 14.34}\n",
      "{'loss': 0.2955, 'grad_norm': 0.7461465001106262, 'learning_rate': 1.5816326530612247e-05, 'epoch': 14.39}\n",
      "{'loss': 0.3202, 'grad_norm': 1.091120958328247, 'learning_rate': 1.568877551020408e-05, 'epoch': 14.43}\n",
      "{'loss': 0.2991, 'grad_norm': 0.7653586864471436, 'learning_rate': 1.556122448979592e-05, 'epoch': 14.48}\n",
      "{'loss': 0.3092, 'grad_norm': 0.8773793578147888, 'learning_rate': 1.5433673469387753e-05, 'epoch': 14.52}\n",
      "{'loss': 0.3007, 'grad_norm': 0.7869541049003601, 'learning_rate': 1.5306122448979594e-05, 'epoch': 14.57}\n",
      "{'loss': 0.3062, 'grad_norm': 0.7625503540039062, 'learning_rate': 1.5178571428571429e-05, 'epoch': 14.62}\n",
      "{'loss': 0.3165, 'grad_norm': 0.80470210313797, 'learning_rate': 1.5051020408163266e-05, 'epoch': 14.66}\n",
      "{'loss': 0.2959, 'grad_norm': 0.7984376549720764, 'learning_rate': 1.4923469387755104e-05, 'epoch': 14.71}\n",
      "{'loss': 0.3049, 'grad_norm': 0.8063702583312988, 'learning_rate': 1.479591836734694e-05, 'epoch': 14.75}\n",
      "{'loss': 0.2912, 'grad_norm': 0.6938486695289612, 'learning_rate': 1.4668367346938778e-05, 'epoch': 14.8}\n",
      "{'loss': 0.3046, 'grad_norm': 0.773210346698761, 'learning_rate': 1.4540816326530612e-05, 'epoch': 14.84}\n",
      "{'loss': 0.293, 'grad_norm': 0.8637319803237915, 'learning_rate': 1.4413265306122451e-05, 'epoch': 14.89}\n",
      "{'loss': 0.2952, 'grad_norm': 0.7619277834892273, 'learning_rate': 1.4285714285714285e-05, 'epoch': 14.93}\n",
      "{'loss': 0.3086, 'grad_norm': 0.8664875626564026, 'learning_rate': 1.4158163265306123e-05, 'epoch': 14.98}\n"
     ]
    },
    {
     "data": {
      "application/vnd.jupyter.widget-view+json": {
       "model_id": "a7172426f7f74fbfb3c14a48e9641bd2",
       "version_major": 2,
       "version_minor": 0
      },
      "text/plain": [
       "  0%|          | 0/134 [00:00<?, ?it/s]"
      ]
     },
     "metadata": {},
     "output_type": "display_data"
    },
    {
     "name": "stdout",
     "output_type": "stream",
     "text": [
      "{'eval_loss': 0.27679625153541565, 'eval_accuracy': 0.8847275697118189, 'eval_runtime': 30.8775, 'eval_samples_per_second': 1110.322, 'eval_steps_per_second': 4.34, 'epoch': 15.0}\n",
      "{'loss': 0.2871, 'grad_norm': 0.9733253717422485, 'learning_rate': 1.4030612244897959e-05, 'epoch': 15.02}\n",
      "{'loss': 0.3201, 'grad_norm': 1.0517566204071045, 'learning_rate': 1.3903061224489797e-05, 'epoch': 15.07}\n",
      "{'loss': 0.2968, 'grad_norm': 0.7327494621276855, 'learning_rate': 1.3775510204081633e-05, 'epoch': 15.11}\n",
      "{'loss': 0.3, 'grad_norm': 0.8263207077980042, 'learning_rate': 1.364795918367347e-05, 'epoch': 15.16}\n",
      "{'loss': 0.3011, 'grad_norm': 0.8814637660980225, 'learning_rate': 1.3520408163265308e-05, 'epoch': 15.2}\n",
      "{'loss': 0.3134, 'grad_norm': 0.7117173075675964, 'learning_rate': 1.3392857142857144e-05, 'epoch': 15.25}\n",
      "{'loss': 0.3067, 'grad_norm': 0.8434823155403137, 'learning_rate': 1.3265306122448982e-05, 'epoch': 15.29}\n",
      "{'loss': 0.3108, 'grad_norm': 0.6617300510406494, 'learning_rate': 1.3137755102040816e-05, 'epoch': 15.34}\n",
      "{'loss': 0.3113, 'grad_norm': 1.0638891458511353, 'learning_rate': 1.3010204081632653e-05, 'epoch': 15.38}\n",
      "{'loss': 0.3041, 'grad_norm': 0.6934399604797363, 'learning_rate': 1.288265306122449e-05, 'epoch': 15.43}\n",
      "{'loss': 0.2976, 'grad_norm': 0.9068228006362915, 'learning_rate': 1.2755102040816327e-05, 'epoch': 15.48}\n",
      "{'loss': 0.2936, 'grad_norm': 1.000124216079712, 'learning_rate': 1.2627551020408163e-05, 'epoch': 15.52}\n",
      "{'loss': 0.2967, 'grad_norm': 1.2059725522994995, 'learning_rate': 1.25e-05, 'epoch': 15.57}\n",
      "{'loss': 0.2908, 'grad_norm': 0.7323616147041321, 'learning_rate': 1.2372448979591837e-05, 'epoch': 15.61}\n",
      "{'loss': 0.2976, 'grad_norm': 0.9540553092956543, 'learning_rate': 1.2244897959183674e-05, 'epoch': 15.66}\n",
      "{'loss': 0.2946, 'grad_norm': 0.827602207660675, 'learning_rate': 1.211734693877551e-05, 'epoch': 15.7}\n",
      "{'loss': 0.2969, 'grad_norm': 0.7544684410095215, 'learning_rate': 1.1989795918367348e-05, 'epoch': 15.75}\n",
      "{'loss': 0.3008, 'grad_norm': 0.7785813808441162, 'learning_rate': 1.1862244897959185e-05, 'epoch': 15.79}\n",
      "{'loss': 0.2945, 'grad_norm': 0.8203862309455872, 'learning_rate': 1.1734693877551021e-05, 'epoch': 15.84}\n",
      "{'loss': 0.2847, 'grad_norm': 0.6803362965583801, 'learning_rate': 1.1607142857142857e-05, 'epoch': 15.88}\n",
      "{'loss': 0.2832, 'grad_norm': 0.6993427872657776, 'learning_rate': 1.1479591836734695e-05, 'epoch': 15.93}\n",
      "{'loss': 0.3072, 'grad_norm': 0.7651109099388123, 'learning_rate': 1.1352040816326531e-05, 'epoch': 15.97}\n"
     ]
    },
    {
     "data": {
      "application/vnd.jupyter.widget-view+json": {
       "model_id": "896c9651238c4bbf8a74e0b690b9bc1f",
       "version_major": 2,
       "version_minor": 0
      },
      "text/plain": [
       "  0%|          | 0/134 [00:00<?, ?it/s]"
      ]
     },
     "metadata": {},
     "output_type": "display_data"
    },
    {
     "name": "stdout",
     "output_type": "stream",
     "text": [
      "{'eval_loss': 0.2783898115158081, 'eval_accuracy': 0.8844067203360167, 'eval_runtime': 31.0569, 'eval_samples_per_second': 1103.911, 'eval_steps_per_second': 4.315, 'epoch': 16.0}\n",
      "{'loss': 0.3195, 'grad_norm': 0.8947851657867432, 'learning_rate': 1.1224489795918369e-05, 'epoch': 16.02}\n",
      "{'loss': 0.2861, 'grad_norm': 0.7487950921058655, 'learning_rate': 1.1096938775510205e-05, 'epoch': 16.06}\n",
      "{'loss': 0.3075, 'grad_norm': 0.8315370678901672, 'learning_rate': 1.096938775510204e-05, 'epoch': 16.11}\n",
      "{'loss': 0.3013, 'grad_norm': 0.8027757406234741, 'learning_rate': 1.0841836734693878e-05, 'epoch': 16.15}\n",
      "{'loss': 0.2971, 'grad_norm': 0.8171247839927673, 'learning_rate': 1.0714285714285714e-05, 'epoch': 16.2}\n",
      "{'loss': 0.3002, 'grad_norm': 0.8738830089569092, 'learning_rate': 1.0586734693877552e-05, 'epoch': 16.24}\n",
      "{'loss': 0.3032, 'grad_norm': 0.7531570196151733, 'learning_rate': 1.045918367346939e-05, 'epoch': 16.29}\n",
      "{'loss': 0.3124, 'grad_norm': 0.7500296235084534, 'learning_rate': 1.0331632653061225e-05, 'epoch': 16.33}\n",
      "{'loss': 0.2945, 'grad_norm': 0.7955502867698669, 'learning_rate': 1.0204081632653061e-05, 'epoch': 16.38}\n",
      "{'loss': 0.308, 'grad_norm': 0.7912520170211792, 'learning_rate': 1.0076530612244899e-05, 'epoch': 16.43}\n",
      "{'loss': 0.3033, 'grad_norm': 0.7632420659065247, 'learning_rate': 9.948979591836735e-06, 'epoch': 16.47}\n",
      "{'loss': 0.3106, 'grad_norm': 0.9424151182174683, 'learning_rate': 9.821428571428573e-06, 'epoch': 16.52}\n",
      "{'loss': 0.308, 'grad_norm': 0.8280099034309387, 'learning_rate': 9.693877551020408e-06, 'epoch': 16.56}\n",
      "{'loss': 0.2896, 'grad_norm': 0.9602512121200562, 'learning_rate': 9.566326530612244e-06, 'epoch': 16.61}\n",
      "{'loss': 0.2935, 'grad_norm': 0.6883404850959778, 'learning_rate': 9.438775510204082e-06, 'epoch': 16.65}\n",
      "{'loss': 0.3097, 'grad_norm': 0.7740941047668457, 'learning_rate': 9.31122448979592e-06, 'epoch': 16.7}\n",
      "{'loss': 0.281, 'grad_norm': 0.8423404693603516, 'learning_rate': 9.183673469387756e-06, 'epoch': 16.74}\n",
      "{'loss': 0.293, 'grad_norm': 0.9360066056251526, 'learning_rate': 9.056122448979593e-06, 'epoch': 16.79}\n",
      "{'loss': 0.2876, 'grad_norm': 0.7855128049850464, 'learning_rate': 8.92857142857143e-06, 'epoch': 16.83}\n",
      "{'loss': 0.2986, 'grad_norm': 0.823559045791626, 'learning_rate': 8.801020408163265e-06, 'epoch': 16.88}\n",
      "{'loss': 0.2881, 'grad_norm': 0.8249577879905701, 'learning_rate': 8.673469387755103e-06, 'epoch': 16.92}\n",
      "{'loss': 0.3129, 'grad_norm': 0.7267836928367615, 'learning_rate': 8.545918367346939e-06, 'epoch': 16.97}\n"
     ]
    },
    {
     "data": {
      "application/vnd.jupyter.widget-view+json": {
       "model_id": "fa1646b07ce043db8cec1bad93797efd",
       "version_major": 2,
       "version_minor": 0
      },
      "text/plain": [
       "  0%|          | 0/134 [00:00<?, ?it/s]"
      ]
     },
     "metadata": {},
     "output_type": "display_data"
    },
    {
     "name": "stdout",
     "output_type": "stream",
     "text": [
      "{'eval_loss': 0.2763293385505676, 'eval_accuracy': 0.8854567728386419, 'eval_runtime': 30.6132, 'eval_samples_per_second': 1119.911, 'eval_steps_per_second': 4.377, 'epoch': 17.0}\n",
      "{'loss': 0.294, 'grad_norm': 0.6928896903991699, 'learning_rate': 8.418367346938775e-06, 'epoch': 17.01}\n",
      "{'loss': 0.3039, 'grad_norm': 0.7257115244865417, 'learning_rate': 8.290816326530612e-06, 'epoch': 17.06}\n",
      "{'loss': 0.3071, 'grad_norm': 0.8468036651611328, 'learning_rate': 8.163265306122448e-06, 'epoch': 17.1}\n",
      "{'loss': 0.3026, 'grad_norm': 0.7924095392227173, 'learning_rate': 8.035714285714286e-06, 'epoch': 17.15}\n",
      "{'loss': 0.2985, 'grad_norm': 0.8559116721153259, 'learning_rate': 7.908163265306124e-06, 'epoch': 17.19}\n",
      "{'loss': 0.2986, 'grad_norm': 0.9285740256309509, 'learning_rate': 7.78061224489796e-06, 'epoch': 17.24}\n",
      "{'loss': 0.3054, 'grad_norm': 0.6626217365264893, 'learning_rate': 7.653061224489797e-06, 'epoch': 17.29}\n",
      "{'loss': 0.2888, 'grad_norm': 0.8077366948127747, 'learning_rate': 7.525510204081633e-06, 'epoch': 17.33}\n",
      "{'loss': 0.3158, 'grad_norm': 1.2014082670211792, 'learning_rate': 7.39795918367347e-06, 'epoch': 17.38}\n",
      "{'loss': 0.3129, 'grad_norm': 0.8217583894729614, 'learning_rate': 7.270408163265306e-06, 'epoch': 17.42}\n",
      "{'loss': 0.316, 'grad_norm': 0.9081981182098389, 'learning_rate': 7.142857142857143e-06, 'epoch': 17.47}\n",
      "{'loss': 0.3018, 'grad_norm': 0.8792880773544312, 'learning_rate': 7.0153061224489795e-06, 'epoch': 17.51}\n",
      "{'loss': 0.3249, 'grad_norm': 0.8488947153091431, 'learning_rate': 6.887755102040816e-06, 'epoch': 17.56}\n",
      "{'loss': 0.2915, 'grad_norm': 0.7626529335975647, 'learning_rate': 6.760204081632654e-06, 'epoch': 17.6}\n",
      "{'loss': 0.3056, 'grad_norm': 0.68369460105896, 'learning_rate': 6.632653061224491e-06, 'epoch': 17.65}\n",
      "{'loss': 0.3022, 'grad_norm': 0.8336998820304871, 'learning_rate': 6.505102040816327e-06, 'epoch': 17.69}\n",
      "{'loss': 0.2911, 'grad_norm': 0.9065294861793518, 'learning_rate': 6.3775510204081635e-06, 'epoch': 17.74}\n",
      "{'loss': 0.3027, 'grad_norm': 0.9117287993431091, 'learning_rate': 6.25e-06, 'epoch': 17.78}\n",
      "{'loss': 0.2892, 'grad_norm': 0.8974323868751526, 'learning_rate': 6.122448979591837e-06, 'epoch': 17.83}\n",
      "{'loss': 0.2958, 'grad_norm': 0.8386481404304504, 'learning_rate': 5.994897959183674e-06, 'epoch': 17.87}\n",
      "{'loss': 0.3004, 'grad_norm': 0.8722847104072571, 'learning_rate': 5.867346938775511e-06, 'epoch': 17.92}\n",
      "{'loss': 0.2918, 'grad_norm': 0.7151139378547668, 'learning_rate': 5.7397959183673475e-06, 'epoch': 17.96}\n"
     ]
    },
    {
     "data": {
      "application/vnd.jupyter.widget-view+json": {
       "model_id": "d1450e681471442ebc730854bb905a65",
       "version_major": 2,
       "version_minor": 0
      },
      "text/plain": [
       "  0%|          | 0/134 [00:00<?, ?it/s]"
      ]
     },
     "metadata": {},
     "output_type": "display_data"
    },
    {
     "name": "stdout",
     "output_type": "stream",
     "text": [
      "{'eval_loss': 0.2785985469818115, 'eval_accuracy': 0.8845233928363084, 'eval_runtime': 30.2353, 'eval_samples_per_second': 1133.905, 'eval_steps_per_second': 4.432, 'epoch': 18.0}\n",
      "{'loss': 0.2903, 'grad_norm': 0.8356746435165405, 'learning_rate': 5.612244897959184e-06, 'epoch': 18.01}\n",
      "{'loss': 0.3091, 'grad_norm': 0.7528868317604065, 'learning_rate': 5.48469387755102e-06, 'epoch': 18.05}\n",
      "{'loss': 0.3084, 'grad_norm': 0.9889609813690186, 'learning_rate': 5.357142857142857e-06, 'epoch': 18.1}\n",
      "{'loss': 0.3155, 'grad_norm': 0.8081106543540955, 'learning_rate': 5.229591836734695e-06, 'epoch': 18.14}\n",
      "{'loss': 0.2939, 'grad_norm': 0.7267455458641052, 'learning_rate': 5.102040816326531e-06, 'epoch': 18.19}\n",
      "{'loss': 0.2953, 'grad_norm': 0.7956850528717041, 'learning_rate': 4.9744897959183674e-06, 'epoch': 18.24}\n",
      "{'loss': 0.3071, 'grad_norm': 0.6891839504241943, 'learning_rate': 4.846938775510204e-06, 'epoch': 18.28}\n",
      "{'loss': 0.3026, 'grad_norm': 0.7114583849906921, 'learning_rate': 4.719387755102041e-06, 'epoch': 18.33}\n",
      "{'loss': 0.3064, 'grad_norm': 0.8244607448577881, 'learning_rate': 4.591836734693878e-06, 'epoch': 18.37}\n",
      "{'loss': 0.306, 'grad_norm': 0.8296545147895813, 'learning_rate': 4.464285714285715e-06, 'epoch': 18.42}\n",
      "{'loss': 0.2771, 'grad_norm': 0.970154881477356, 'learning_rate': 4.336734693877551e-06, 'epoch': 18.46}\n",
      "{'loss': 0.3174, 'grad_norm': 0.8782944083213806, 'learning_rate': 4.209183673469387e-06, 'epoch': 18.51}\n",
      "{'loss': 0.2884, 'grad_norm': 0.7417207360267639, 'learning_rate': 4.081632653061224e-06, 'epoch': 18.55}\n",
      "{'loss': 0.3077, 'grad_norm': 1.1064393520355225, 'learning_rate': 3.954081632653062e-06, 'epoch': 18.6}\n",
      "{'loss': 0.307, 'grad_norm': 0.7775306701660156, 'learning_rate': 3.826530612244899e-06, 'epoch': 18.64}\n",
      "{'loss': 0.2954, 'grad_norm': 0.8774169087409973, 'learning_rate': 3.698979591836735e-06, 'epoch': 18.69}\n",
      "{'loss': 0.2986, 'grad_norm': 0.8680290579795837, 'learning_rate': 3.5714285714285714e-06, 'epoch': 18.73}\n",
      "{'loss': 0.2893, 'grad_norm': 0.7985645532608032, 'learning_rate': 3.443877551020408e-06, 'epoch': 18.78}\n",
      "{'loss': 0.3274, 'grad_norm': 0.8565550446510315, 'learning_rate': 3.3163265306122454e-06, 'epoch': 18.82}\n",
      "{'loss': 0.2787, 'grad_norm': 0.7972239851951599, 'learning_rate': 3.1887755102040818e-06, 'epoch': 18.87}\n",
      "{'loss': 0.3117, 'grad_norm': 0.8437226414680481, 'learning_rate': 3.0612244897959185e-06, 'epoch': 18.91}\n",
      "{'loss': 0.3187, 'grad_norm': 0.8653504252433777, 'learning_rate': 2.9336734693877553e-06, 'epoch': 18.96}\n"
     ]
    },
    {
     "data": {
      "application/vnd.jupyter.widget-view+json": {
       "model_id": "d98f00c7bb914831bd6dbcb46eefbe46",
       "version_major": 2,
       "version_minor": 0
      },
      "text/plain": [
       "  0%|          | 0/134 [00:00<?, ?it/s]"
      ]
     },
     "metadata": {},
     "output_type": "display_data"
    },
    {
     "name": "stdout",
     "output_type": "stream",
     "text": [
      "{'eval_loss': 0.27347999811172485, 'eval_accuracy': 0.8857192859642982, 'eval_runtime': 30.174, 'eval_samples_per_second': 1136.208, 'eval_steps_per_second': 4.441, 'epoch': 19.0}\n",
      "{'loss': 0.3083, 'grad_norm': 0.7870933413505554, 'learning_rate': 2.806122448979592e-06, 'epoch': 19.0}\n",
      "{'loss': 0.3131, 'grad_norm': 0.7621570825576782, 'learning_rate': 2.6785714285714285e-06, 'epoch': 19.05}\n",
      "{'loss': 0.298, 'grad_norm': 0.9138600826263428, 'learning_rate': 2.5510204081632653e-06, 'epoch': 19.1}\n",
      "{'loss': 0.2795, 'grad_norm': 0.8356846570968628, 'learning_rate': 2.423469387755102e-06, 'epoch': 19.14}\n",
      "{'loss': 0.2872, 'grad_norm': 0.7734460830688477, 'learning_rate': 2.295918367346939e-06, 'epoch': 19.19}\n",
      "{'loss': 0.3182, 'grad_norm': 0.8826451897621155, 'learning_rate': 2.1683673469387757e-06, 'epoch': 19.23}\n",
      "{'loss': 0.302, 'grad_norm': 0.7545251846313477, 'learning_rate': 2.040816326530612e-06, 'epoch': 19.28}\n",
      "{'loss': 0.2917, 'grad_norm': 0.9485779404640198, 'learning_rate': 1.9132653061224493e-06, 'epoch': 19.32}\n",
      "{'loss': 0.2915, 'grad_norm': 0.9579500555992126, 'learning_rate': 1.7857142857142857e-06, 'epoch': 19.37}\n",
      "{'loss': 0.3075, 'grad_norm': 1.1746896505355835, 'learning_rate': 1.6581632653061227e-06, 'epoch': 19.41}\n",
      "{'loss': 0.2928, 'grad_norm': 0.7301144599914551, 'learning_rate': 1.5306122448979593e-06, 'epoch': 19.46}\n",
      "{'loss': 0.3048, 'grad_norm': 0.8402774333953857, 'learning_rate': 1.403061224489796e-06, 'epoch': 19.5}\n",
      "{'loss': 0.2977, 'grad_norm': 1.484311580657959, 'learning_rate': 1.2755102040816327e-06, 'epoch': 19.55}\n",
      "{'loss': 0.2985, 'grad_norm': 0.851935863494873, 'learning_rate': 1.1479591836734695e-06, 'epoch': 19.59}\n",
      "{'loss': 0.2944, 'grad_norm': 0.7831299901008606, 'learning_rate': 1.020408163265306e-06, 'epoch': 19.64}\n",
      "{'loss': 0.2939, 'grad_norm': 0.7904527187347412, 'learning_rate': 8.928571428571428e-07, 'epoch': 19.68}\n",
      "{'loss': 0.3249, 'grad_norm': 1.19497811794281, 'learning_rate': 7.653061224489796e-07, 'epoch': 19.73}\n",
      "{'loss': 0.2916, 'grad_norm': 0.7490536570549011, 'learning_rate': 6.377551020408163e-07, 'epoch': 19.77}\n",
      "{'loss': 0.2783, 'grad_norm': 0.7012951374053955, 'learning_rate': 5.10204081632653e-07, 'epoch': 19.82}\n",
      "{'loss': 0.2925, 'grad_norm': 0.9347797632217407, 'learning_rate': 3.826530612244898e-07, 'epoch': 19.86}\n",
      "{'loss': 0.314, 'grad_norm': 0.8336067795753479, 'learning_rate': 2.551020408163265e-07, 'epoch': 19.91}\n",
      "{'loss': 0.2905, 'grad_norm': 0.7859487533569336, 'learning_rate': 1.2755102040816326e-07, 'epoch': 19.95}\n",
      "{'loss': 0.2878, 'grad_norm': 1.2275727987289429, 'learning_rate': 0.0, 'epoch': 20.0}\n"
     ]
    },
    {
     "data": {
      "application/vnd.jupyter.widget-view+json": {
       "model_id": "9bd6d7ed9b4d481090dc7913c535411c",
       "version_major": 2,
       "version_minor": 0
      },
      "text/plain": [
       "  0%|          | 0/134 [00:00<?, ?it/s]"
      ]
     },
     "metadata": {},
     "output_type": "display_data"
    },
    {
     "name": "stdout",
     "output_type": "stream",
     "text": [
      "{'eval_loss': 0.27520960569381714, 'eval_accuracy': 0.8859234628398086, 'eval_runtime': 30.26, 'eval_samples_per_second': 1132.981, 'eval_steps_per_second': 4.428, 'epoch': 20.0}\n",
      "{'train_runtime': 9341.9345, 'train_samples_per_second': 120.894, 'train_steps_per_second': 0.473, 'train_loss': 0.3462586749732764, 'epoch': 20.0}\n",
      "./data/llm/input_embeds_replace_frozen/attentions.npy ./data/llm/input_embeds_replace_frozen/hidden_states.npy ./data/llm/input_embeds_replace_frozen/tokens.csv\n",
      "train Forward Epoch 1 from 1\n"
     ]
    },
    {
     "name": "stderr",
     "output_type": "stream",
     "text": [
      "BertSdpaSelfAttention is used but `torch.nn.functional.scaled_dot_product_attention` does not support non-absolute `position_embedding_type` or `output_attentions=True` or `head_mask`. Falling back to the manual attention implementation, but specifying the manual implementation will be required from Transformers version v5.0.0 onwards. This warning can be removed using the argument `attn_implementation=\"eager\"` when loading the model.\n"
     ]
    },
    {
     "name": "stdout",
     "output_type": "stream",
     "text": [
      "test Forward Epoch 1 from 1\n",
      "val Forward Epoch 1 from 1\n"
     ]
    }
   ],
   "source": [
    "INPUT_EMBEDS_REPLACE_FROZEN_ROOT = (\n",
    "    f\"{ROOT}/llm/input_embeds_replace_frozen\"  # make sure the dir exists\n",
    ")\n",
    "if not os.path.exists(INPUT_EMBEDS_REPLACE_FROZEN_ROOT):\n",
    "    os.makedirs(INPUT_EMBEDS_REPLACE_FROZEN_ROOT)\n",
    "input_embeds_replace_frozen_bert_classifier = InputEmbedsReplaceFrozenClassifier(\n",
    "    kg_manager,\n",
    "    graph_representation_generator_input_embeds_replace.get_embedding,\n",
    "    root_path=INPUT_EMBEDS_REPLACE_FROZEN_ROOT,\n",
    ")\n",
    "dataset_input_embeds_replace = (\n",
    "    kg_manager.generate_input_embeds_replace_embedding_dataset(\n",
    "        input_embeds_replace_frozen_bert_classifier.tokenizer.sep_token,\n",
    "        input_embeds_replace_frozen_bert_classifier.tokenizer.pad_token,\n",
    "        input_embeds_replace_frozen_bert_classifier.tokenize_function,\n",
    "        force_recompute=True,\n",
    "    )\n",
    ")\n",
    "input_embeds_replace_frozen_bert_classifier.train_model_on_data(\n",
    "    dataset_input_embeds_replace, epochs=EPOCHS, batch_size=BATCH_SIZE\n",
    ")\n",
    "# now we don't have to generate new non-existing edges, because they were generated in the beginning anyways.\n",
    "input_embeds_replace_frozen_bert_classifier = InputEmbedsReplaceFrozenClassifier(\n",
    "    kg_manager,\n",
    "    graph_representation_generator_input_embeds_replace.get_embedding,\n",
    "    root_path=INPUT_EMBEDS_REPLACE_FROZEN_ROOT,\n",
    "    false_ratio=-1.0,  # init with false_ratio of -1 so no new false edges are produced on the fly\n",
    ")\n",
    "input_embeds_replace_frozen_df = (\n",
    "    input_embeds_replace_frozen_bert_classifier.forward_dataset_and_save_outputs(\n",
    "        dataset_input_embeds_replace,\n",
    "        kg_manager.get_vanilla_tokens_as_df,\n",
    "        epochs=1,\n",
    "        batch_size=BATCH_SIZE,\n",
    "        force_recompute=False,\n",
    "    )\n",
    ")"
   ]
  },
  {
   "cell_type": "markdown",
   "metadata": {},
   "source": [
    "# Post-Training\n",
    "After Training, we load all attentions and hidden states from before and append the new fields to the dataset."
   ]
  },
  {
   "cell_type": "code",
   "execution_count": 6,
   "metadata": {},
   "outputs": [],
   "source": [
    "vanilla_df = ClassifierBase.read_forward_dataset(\"./data/llm/vanilla\")\n",
    "prompt_df = ClassifierBase.read_forward_dataset(\"./data/llm/prompt\")\n",
    "input_embeds_replace_df = ClassifierBase.read_forward_dataset(\n",
    "    \"./data/llm/input_embeds_replace\"\n",
    ")"
   ]
  },
  {
   "cell_type": "code",
   "execution_count": 7,
   "metadata": {},
   "outputs": [
    {
     "data": {
      "text/html": [
       "<div>\n",
       "<style scoped>\n",
       "    .dataframe tbody tr th:only-of-type {\n",
       "        vertical-align: middle;\n",
       "    }\n",
       "\n",
       "    .dataframe tbody tr th {\n",
       "        vertical-align: top;\n",
       "    }\n",
       "\n",
       "    .dataframe thead th {\n",
       "        text-align: right;\n",
       "    }\n",
       "</style>\n",
       "<table border=\"1\" class=\"dataframe\">\n",
       "  <thead>\n",
       "    <tr style=\"text-align: right;\">\n",
       "      <th></th>\n",
       "      <th>source_id</th>\n",
       "      <th>target_id</th>\n",
       "      <th>id_x</th>\n",
       "      <th>id_y</th>\n",
       "      <th>prompt_feature_title</th>\n",
       "      <th>prompt_feature_genres</th>\n",
       "      <th>labels</th>\n",
       "      <th>split</th>\n",
       "      <th>prompt</th>\n",
       "      <th>gnn_feature_(no genres listed)</th>\n",
       "      <th>...</th>\n",
       "      <th>gnn_feature_IMAX</th>\n",
       "      <th>gnn_feature_Musical</th>\n",
       "      <th>gnn_feature_Mystery</th>\n",
       "      <th>gnn_feature_Romance</th>\n",
       "      <th>gnn_feature_Sci-Fi</th>\n",
       "      <th>gnn_feature_Thriller</th>\n",
       "      <th>gnn_feature_War</th>\n",
       "      <th>gnn_feature_Western</th>\n",
       "      <th>input_embeds_replace_source_embedding</th>\n",
       "      <th>input_embeds_replace_target_embedding</th>\n",
       "    </tr>\n",
       "  </thead>\n",
       "  <tbody>\n",
       "    <tr>\n",
       "      <th>0</th>\n",
       "      <td>0</td>\n",
       "      <td>5</td>\n",
       "      <td>0.0</td>\n",
       "      <td>5.0</td>\n",
       "      <td>Heat (1995)</td>\n",
       "      <td>['Action', 'Crime', 'Thriller']</td>\n",
       "      <td>1</td>\n",
       "      <td>train</td>\n",
       "      <td>0[SEP]5[SEP]Heat (1995)[SEP]['Action', 'Crime'...</td>\n",
       "      <td>NaN</td>\n",
       "      <td>...</td>\n",
       "      <td>NaN</td>\n",
       "      <td>NaN</td>\n",
       "      <td>NaN</td>\n",
       "      <td>NaN</td>\n",
       "      <td>NaN</td>\n",
       "      <td>NaN</td>\n",
       "      <td>NaN</td>\n",
       "      <td>NaN</td>\n",
       "      <td>[0.6693655252456665, 0.4152011275291443, -0.31...</td>\n",
       "      <td>[0.5493870973587036, -0.5692430734634399, -0.6...</td>\n",
       "    </tr>\n",
       "    <tr>\n",
       "      <th>1</th>\n",
       "      <td>0</td>\n",
       "      <td>89</td>\n",
       "      <td>0.0</td>\n",
       "      <td>89.0</td>\n",
       "      <td>Bottle Rocket (1996)</td>\n",
       "      <td>['Adventure', 'Comedy', 'Crime', 'Romance']</td>\n",
       "      <td>1</td>\n",
       "      <td>train</td>\n",
       "      <td>0[SEP]89[SEP]Bottle Rocket (1996)[SEP]['Advent...</td>\n",
       "      <td>NaN</td>\n",
       "      <td>...</td>\n",
       "      <td>NaN</td>\n",
       "      <td>NaN</td>\n",
       "      <td>NaN</td>\n",
       "      <td>NaN</td>\n",
       "      <td>NaN</td>\n",
       "      <td>NaN</td>\n",
       "      <td>NaN</td>\n",
       "      <td>NaN</td>\n",
       "      <td>[0.6030164957046509, 0.37829291820526123, -0.3...</td>\n",
       "      <td>[0.08589676022529602, -0.4689454734325409, 0.0...</td>\n",
       "    </tr>\n",
       "    <tr>\n",
       "      <th>2</th>\n",
       "      <td>0</td>\n",
       "      <td>97</td>\n",
       "      <td>0.0</td>\n",
       "      <td>97.0</td>\n",
       "      <td>Braveheart (1995)</td>\n",
       "      <td>['Action', 'Drama', 'War']</td>\n",
       "      <td>1</td>\n",
       "      <td>train</td>\n",
       "      <td>0[SEP]97[SEP]Braveheart (1995)[SEP]['Action', ...</td>\n",
       "      <td>NaN</td>\n",
       "      <td>...</td>\n",
       "      <td>NaN</td>\n",
       "      <td>NaN</td>\n",
       "      <td>NaN</td>\n",
       "      <td>NaN</td>\n",
       "      <td>NaN</td>\n",
       "      <td>NaN</td>\n",
       "      <td>NaN</td>\n",
       "      <td>NaN</td>\n",
       "      <td>[0.6387443542480469, 0.3706628084182739, -0.32...</td>\n",
       "      <td>[0.04940161854028702, -0.47019216418266296, -0...</td>\n",
       "    </tr>\n",
       "    <tr>\n",
       "      <th>3</th>\n",
       "      <td>0</td>\n",
       "      <td>184</td>\n",
       "      <td>0.0</td>\n",
       "      <td>184.0</td>\n",
       "      <td>Billy Madison (1995)</td>\n",
       "      <td>['Comedy']</td>\n",
       "      <td>1</td>\n",
       "      <td>train</td>\n",
       "      <td>0[SEP]184[SEP]Billy Madison (1995)[SEP]['Comedy']</td>\n",
       "      <td>NaN</td>\n",
       "      <td>...</td>\n",
       "      <td>NaN</td>\n",
       "      <td>NaN</td>\n",
       "      <td>NaN</td>\n",
       "      <td>NaN</td>\n",
       "      <td>NaN</td>\n",
       "      <td>NaN</td>\n",
       "      <td>NaN</td>\n",
       "      <td>NaN</td>\n",
       "      <td>[0.49271589517593384, 0.4562503397464752, -0.2...</td>\n",
       "      <td>[0.6636490821838379, -0.3091672956943512, 0.01...</td>\n",
       "    </tr>\n",
       "    <tr>\n",
       "      <th>4</th>\n",
       "      <td>0</td>\n",
       "      <td>224</td>\n",
       "      <td>0.0</td>\n",
       "      <td>224.0</td>\n",
       "      <td>Star Wars: Episode IV - A New Hope (1977)</td>\n",
       "      <td>['Action', 'Adventure', 'Sci-Fi']</td>\n",
       "      <td>1</td>\n",
       "      <td>train</td>\n",
       "      <td>0[SEP]224[SEP]Star Wars: Episode IV - A New Ho...</td>\n",
       "      <td>NaN</td>\n",
       "      <td>...</td>\n",
       "      <td>NaN</td>\n",
       "      <td>NaN</td>\n",
       "      <td>NaN</td>\n",
       "      <td>NaN</td>\n",
       "      <td>NaN</td>\n",
       "      <td>NaN</td>\n",
       "      <td>NaN</td>\n",
       "      <td>NaN</td>\n",
       "      <td>[0.6498588919639587, 0.43191879987716675, -0.3...</td>\n",
       "      <td>[-0.08320911973714828, -0.060460180044174194, ...</td>\n",
       "    </tr>\n",
       "    <tr>\n",
       "      <th>...</th>\n",
       "      <td>...</td>\n",
       "      <td>...</td>\n",
       "      <td>...</td>\n",
       "      <td>...</td>\n",
       "      <td>...</td>\n",
       "      <td>...</td>\n",
       "      <td>...</td>\n",
       "      <td>...</td>\n",
       "      <td>...</td>\n",
       "      <td>...</td>\n",
       "      <td>...</td>\n",
       "      <td>...</td>\n",
       "      <td>...</td>\n",
       "      <td>...</td>\n",
       "      <td>...</td>\n",
       "      <td>...</td>\n",
       "      <td>...</td>\n",
       "      <td>...</td>\n",
       "      <td>...</td>\n",
       "      <td>...</td>\n",
       "      <td>...</td>\n",
       "    </tr>\n",
       "    <tr>\n",
       "      <th>125032</th>\n",
       "      <td>79</td>\n",
       "      <td>8846</td>\n",
       "      <td>NaN</td>\n",
       "      <td>NaN</td>\n",
       "      <td>Lovesick (2014)</td>\n",
       "      <td>['Comedy', 'Romance']</td>\n",
       "      <td>0</td>\n",
       "      <td>val</td>\n",
       "      <td>79[SEP]8846[SEP]Lovesick (2014)[SEP]['Comedy',...</td>\n",
       "      <td>0.0</td>\n",
       "      <td>...</td>\n",
       "      <td>0.0</td>\n",
       "      <td>0.0</td>\n",
       "      <td>0.0</td>\n",
       "      <td>1.0</td>\n",
       "      <td>0.0</td>\n",
       "      <td>0.0</td>\n",
       "      <td>0.0</td>\n",
       "      <td>0.0</td>\n",
       "      <td>[-0.5735506415367126, -0.044633716344833374, -...</td>\n",
       "      <td>[0.47228026390075684, -0.911340594291687, 0.00...</td>\n",
       "    </tr>\n",
       "    <tr>\n",
       "      <th>125033</th>\n",
       "      <td>300</td>\n",
       "      <td>2595</td>\n",
       "      <td>NaN</td>\n",
       "      <td>NaN</td>\n",
       "      <td>Dersu Uzala (1975)</td>\n",
       "      <td>['Adventure', 'Drama']</td>\n",
       "      <td>0</td>\n",
       "      <td>val</td>\n",
       "      <td>300[SEP]2595[SEP]Dersu Uzala (1975)[SEP]['Adve...</td>\n",
       "      <td>0.0</td>\n",
       "      <td>...</td>\n",
       "      <td>0.0</td>\n",
       "      <td>0.0</td>\n",
       "      <td>0.0</td>\n",
       "      <td>0.0</td>\n",
       "      <td>0.0</td>\n",
       "      <td>0.0</td>\n",
       "      <td>0.0</td>\n",
       "      <td>0.0</td>\n",
       "      <td>[0.006543345749378204, -0.3807082176208496, 0....</td>\n",
       "      <td>[0.36955565214157104, -0.21707147359848022, -0...</td>\n",
       "    </tr>\n",
       "    <tr>\n",
       "      <th>125034</th>\n",
       "      <td>321</td>\n",
       "      <td>59</td>\n",
       "      <td>NaN</td>\n",
       "      <td>NaN</td>\n",
       "      <td>Lawnmower Man 2: Beyond Cyberspace (1996)</td>\n",
       "      <td>['Action', 'Sci-Fi', 'Thriller']</td>\n",
       "      <td>0</td>\n",
       "      <td>val</td>\n",
       "      <td>321[SEP]59[SEP]Lawnmower Man 2: Beyond Cybersp...</td>\n",
       "      <td>0.0</td>\n",
       "      <td>...</td>\n",
       "      <td>0.0</td>\n",
       "      <td>0.0</td>\n",
       "      <td>0.0</td>\n",
       "      <td>0.0</td>\n",
       "      <td>1.0</td>\n",
       "      <td>1.0</td>\n",
       "      <td>0.0</td>\n",
       "      <td>0.0</td>\n",
       "      <td>[-0.3852957785129547, 0.02625414729118347, -0....</td>\n",
       "      <td>[0.38845473527908325, -0.27163609862327576, -0...</td>\n",
       "    </tr>\n",
       "    <tr>\n",
       "      <th>125035</th>\n",
       "      <td>388</td>\n",
       "      <td>2639</td>\n",
       "      <td>NaN</td>\n",
       "      <td>NaN</td>\n",
       "      <td>All the Vermeers in New York (1990)</td>\n",
       "      <td>['Comedy', 'Drama', 'Romance']</td>\n",
       "      <td>0</td>\n",
       "      <td>val</td>\n",
       "      <td>388[SEP]2639[SEP]All the Vermeers in New York ...</td>\n",
       "      <td>0.0</td>\n",
       "      <td>...</td>\n",
       "      <td>0.0</td>\n",
       "      <td>0.0</td>\n",
       "      <td>0.0</td>\n",
       "      <td>1.0</td>\n",
       "      <td>0.0</td>\n",
       "      <td>0.0</td>\n",
       "      <td>0.0</td>\n",
       "      <td>0.0</td>\n",
       "      <td>[0.26095038652420044, 0.08665543794631958, -0....</td>\n",
       "      <td>[1.6701771020889282, -0.6786400079727173, 0.87...</td>\n",
       "    </tr>\n",
       "    <tr>\n",
       "      <th>125036</th>\n",
       "      <td>562</td>\n",
       "      <td>5853</td>\n",
       "      <td>NaN</td>\n",
       "      <td>NaN</td>\n",
       "      <td>Fever Pitch (2005)</td>\n",
       "      <td>['Comedy', 'Romance']</td>\n",
       "      <td>0</td>\n",
       "      <td>val</td>\n",
       "      <td>562[SEP]5853[SEP]Fever Pitch (2005)[SEP]['Come...</td>\n",
       "      <td>0.0</td>\n",
       "      <td>...</td>\n",
       "      <td>0.0</td>\n",
       "      <td>0.0</td>\n",
       "      <td>0.0</td>\n",
       "      <td>1.0</td>\n",
       "      <td>0.0</td>\n",
       "      <td>0.0</td>\n",
       "      <td>0.0</td>\n",
       "      <td>0.0</td>\n",
       "      <td>[-0.10399876534938812, -1.4549669027328491, -0...</td>\n",
       "      <td>[0.2887535095214844, -0.13333263993263245, 0.4...</td>\n",
       "    </tr>\n",
       "  </tbody>\n",
       "</table>\n",
       "<p>125037 rows × 31 columns</p>\n",
       "</div>"
      ],
      "text/plain": [
       "        source_id  target_id  id_x   id_y  \\\n",
       "0               0          5   0.0    5.0   \n",
       "1               0         89   0.0   89.0   \n",
       "2               0         97   0.0   97.0   \n",
       "3               0        184   0.0  184.0   \n",
       "4               0        224   0.0  224.0   \n",
       "...           ...        ...   ...    ...   \n",
       "125032         79       8846   NaN    NaN   \n",
       "125033        300       2595   NaN    NaN   \n",
       "125034        321         59   NaN    NaN   \n",
       "125035        388       2639   NaN    NaN   \n",
       "125036        562       5853   NaN    NaN   \n",
       "\n",
       "                             prompt_feature_title  \\\n",
       "0                                     Heat (1995)   \n",
       "1                            Bottle Rocket (1996)   \n",
       "2                               Braveheart (1995)   \n",
       "3                            Billy Madison (1995)   \n",
       "4       Star Wars: Episode IV - A New Hope (1977)   \n",
       "...                                           ...   \n",
       "125032                            Lovesick (2014)   \n",
       "125033                         Dersu Uzala (1975)   \n",
       "125034  Lawnmower Man 2: Beyond Cyberspace (1996)   \n",
       "125035        All the Vermeers in New York (1990)   \n",
       "125036                         Fever Pitch (2005)   \n",
       "\n",
       "                              prompt_feature_genres  labels  split  \\\n",
       "0                   ['Action', 'Crime', 'Thriller']       1  train   \n",
       "1       ['Adventure', 'Comedy', 'Crime', 'Romance']       1  train   \n",
       "2                        ['Action', 'Drama', 'War']       1  train   \n",
       "3                                        ['Comedy']       1  train   \n",
       "4                 ['Action', 'Adventure', 'Sci-Fi']       1  train   \n",
       "...                                             ...     ...    ...   \n",
       "125032                        ['Comedy', 'Romance']       0    val   \n",
       "125033                       ['Adventure', 'Drama']       0    val   \n",
       "125034             ['Action', 'Sci-Fi', 'Thriller']       0    val   \n",
       "125035               ['Comedy', 'Drama', 'Romance']       0    val   \n",
       "125036                        ['Comedy', 'Romance']       0    val   \n",
       "\n",
       "                                                   prompt  \\\n",
       "0       0[SEP]5[SEP]Heat (1995)[SEP]['Action', 'Crime'...   \n",
       "1       0[SEP]89[SEP]Bottle Rocket (1996)[SEP]['Advent...   \n",
       "2       0[SEP]97[SEP]Braveheart (1995)[SEP]['Action', ...   \n",
       "3       0[SEP]184[SEP]Billy Madison (1995)[SEP]['Comedy']   \n",
       "4       0[SEP]224[SEP]Star Wars: Episode IV - A New Ho...   \n",
       "...                                                   ...   \n",
       "125032  79[SEP]8846[SEP]Lovesick (2014)[SEP]['Comedy',...   \n",
       "125033  300[SEP]2595[SEP]Dersu Uzala (1975)[SEP]['Adve...   \n",
       "125034  321[SEP]59[SEP]Lawnmower Man 2: Beyond Cybersp...   \n",
       "125035  388[SEP]2639[SEP]All the Vermeers in New York ...   \n",
       "125036  562[SEP]5853[SEP]Fever Pitch (2005)[SEP]['Come...   \n",
       "\n",
       "        gnn_feature_(no genres listed)  ...  gnn_feature_IMAX  \\\n",
       "0                                  NaN  ...               NaN   \n",
       "1                                  NaN  ...               NaN   \n",
       "2                                  NaN  ...               NaN   \n",
       "3                                  NaN  ...               NaN   \n",
       "4                                  NaN  ...               NaN   \n",
       "...                                ...  ...               ...   \n",
       "125032                             0.0  ...               0.0   \n",
       "125033                             0.0  ...               0.0   \n",
       "125034                             0.0  ...               0.0   \n",
       "125035                             0.0  ...               0.0   \n",
       "125036                             0.0  ...               0.0   \n",
       "\n",
       "        gnn_feature_Musical  gnn_feature_Mystery  gnn_feature_Romance  \\\n",
       "0                       NaN                  NaN                  NaN   \n",
       "1                       NaN                  NaN                  NaN   \n",
       "2                       NaN                  NaN                  NaN   \n",
       "3                       NaN                  NaN                  NaN   \n",
       "4                       NaN                  NaN                  NaN   \n",
       "...                     ...                  ...                  ...   \n",
       "125032                  0.0                  0.0                  1.0   \n",
       "125033                  0.0                  0.0                  0.0   \n",
       "125034                  0.0                  0.0                  0.0   \n",
       "125035                  0.0                  0.0                  1.0   \n",
       "125036                  0.0                  0.0                  1.0   \n",
       "\n",
       "        gnn_feature_Sci-Fi  gnn_feature_Thriller  gnn_feature_War  \\\n",
       "0                      NaN                   NaN              NaN   \n",
       "1                      NaN                   NaN              NaN   \n",
       "2                      NaN                   NaN              NaN   \n",
       "3                      NaN                   NaN              NaN   \n",
       "4                      NaN                   NaN              NaN   \n",
       "...                    ...                   ...              ...   \n",
       "125032                 0.0                   0.0              0.0   \n",
       "125033                 0.0                   0.0              0.0   \n",
       "125034                 1.0                   1.0              0.0   \n",
       "125035                 0.0                   0.0              0.0   \n",
       "125036                 0.0                   0.0              0.0   \n",
       "\n",
       "        gnn_feature_Western  \\\n",
       "0                       NaN   \n",
       "1                       NaN   \n",
       "2                       NaN   \n",
       "3                       NaN   \n",
       "4                       NaN   \n",
       "...                     ...   \n",
       "125032                  0.0   \n",
       "125033                  0.0   \n",
       "125034                  0.0   \n",
       "125035                  0.0   \n",
       "125036                  0.0   \n",
       "\n",
       "                    input_embeds_replace_source_embedding  \\\n",
       "0       [0.6693655252456665, 0.4152011275291443, -0.31...   \n",
       "1       [0.6030164957046509, 0.37829291820526123, -0.3...   \n",
       "2       [0.6387443542480469, 0.3706628084182739, -0.32...   \n",
       "3       [0.49271589517593384, 0.4562503397464752, -0.2...   \n",
       "4       [0.6498588919639587, 0.43191879987716675, -0.3...   \n",
       "...                                                   ...   \n",
       "125032  [-0.5735506415367126, -0.044633716344833374, -...   \n",
       "125033  [0.006543345749378204, -0.3807082176208496, 0....   \n",
       "125034  [-0.3852957785129547, 0.02625414729118347, -0....   \n",
       "125035  [0.26095038652420044, 0.08665543794631958, -0....   \n",
       "125036  [-0.10399876534938812, -1.4549669027328491, -0...   \n",
       "\n",
       "                    input_embeds_replace_target_embedding  \n",
       "0       [0.5493870973587036, -0.5692430734634399, -0.6...  \n",
       "1       [0.08589676022529602, -0.4689454734325409, 0.0...  \n",
       "2       [0.04940161854028702, -0.47019216418266296, -0...  \n",
       "3       [0.6636490821838379, -0.3091672956943512, 0.01...  \n",
       "4       [-0.08320911973714828, -0.060460180044174194, ...  \n",
       "...                                                   ...  \n",
       "125032  [0.47228026390075684, -0.911340594291687, 0.00...  \n",
       "125033  [0.36955565214157104, -0.21707147359848022, -0...  \n",
       "125034  [0.38845473527908325, -0.27163609862327576, -0...  \n",
       "125035  [1.6701771020889282, -0.6786400079727173, 0.87...  \n",
       "125036  [0.2887535095214844, -0.13333263993263245, 0.4...  \n",
       "\n",
       "[125037 rows x 31 columns]"
      ]
     },
     "execution_count": 7,
     "metadata": {},
     "output_type": "execute_result"
    }
   ],
   "source": [
    "kg_manager.llm_df"
   ]
  },
  {
   "cell_type": "code",
   "execution_count": 8,
   "metadata": {},
   "outputs": [],
   "source": [
    "dataset = kg_manager.generate_huggingface_dataset(\n",
    "    [vanilla_df, prompt_df, input_embeds_replace_df, input_embeds_replace_frozen_df],\n",
    "    [\"vanilla\", \"prompt\", \"input_embeds_replace\", \"input_embeds_replace_frozen_df\"],\n",
    ")"
   ]
  },
  {
   "cell_type": "code",
   "execution_count": 9,
   "metadata": {},
   "outputs": [
    {
     "data": {
      "text/plain": [
       "DatasetDict({\n",
       "    train: Dataset({\n",
       "        features: ['source_id', 'target_id', 'id_x', 'id_y', 'prompt_feature_title', 'prompt_feature_genres', 'labels', 'split', 'prompt', 'gnn_feature_(no genres listed)', 'gnn_feature_Action', 'gnn_feature_Adventure', 'gnn_feature_Animation', 'gnn_feature_Children', 'gnn_feature_Comedy', 'gnn_feature_Crime', 'gnn_feature_Documentary', 'gnn_feature_Drama', 'gnn_feature_Fantasy', 'gnn_feature_Film-Noir', 'gnn_feature_Horror', 'gnn_feature_IMAX', 'gnn_feature_Musical', 'gnn_feature_Mystery', 'gnn_feature_Romance', 'gnn_feature_Sci-Fi', 'gnn_feature_Thriller', 'gnn_feature_War', 'gnn_feature_Western', 'input_embeds_replace_source_embedding', 'input_embeds_replace_target_embedding', 'vanilla_attentions', 'vanilla_hidden_states', 'vanilla_attentions_original_shape', 'vanilla_hidden_states_original_shape', 'prompt_attentions', 'prompt_hidden_states', 'prompt_attentions_original_shape', 'prompt_hidden_states_original_shape', 'input_embeds_replace_attentions', 'input_embeds_replace_hidden_states', 'input_embeds_replace_attentions_original_shape', 'input_embeds_replace_hidden_states_original_shape', 'input_embeds_replace_frozen_df_attentions', 'input_embeds_replace_frozen_df_hidden_states', 'input_embeds_replace_frozen_df_attentions_original_shape', 'input_embeds_replace_frozen_df_hidden_states_original_shape'],\n",
       "        num_rows: 56469\n",
       "    })\n",
       "    val: Dataset({\n",
       "        features: ['source_id', 'target_id', 'id_x', 'id_y', 'prompt_feature_title', 'prompt_feature_genres', 'labels', 'split', 'prompt', 'gnn_feature_(no genres listed)', 'gnn_feature_Action', 'gnn_feature_Adventure', 'gnn_feature_Animation', 'gnn_feature_Children', 'gnn_feature_Comedy', 'gnn_feature_Crime', 'gnn_feature_Documentary', 'gnn_feature_Drama', 'gnn_feature_Fantasy', 'gnn_feature_Film-Noir', 'gnn_feature_Horror', 'gnn_feature_IMAX', 'gnn_feature_Musical', 'gnn_feature_Mystery', 'gnn_feature_Romance', 'gnn_feature_Sci-Fi', 'gnn_feature_Thriller', 'gnn_feature_War', 'gnn_feature_Western', 'input_embeds_replace_source_embedding', 'input_embeds_replace_target_embedding', 'vanilla_attentions', 'vanilla_hidden_states', 'vanilla_attentions_original_shape', 'vanilla_hidden_states_original_shape', 'prompt_attentions', 'prompt_hidden_states', 'prompt_attentions_original_shape', 'prompt_hidden_states_original_shape', 'input_embeds_replace_attentions', 'input_embeds_replace_hidden_states', 'input_embeds_replace_attentions_original_shape', 'input_embeds_replace_hidden_states_original_shape', 'input_embeds_replace_frozen_df_attentions', 'input_embeds_replace_frozen_df_hidden_states', 'input_embeds_replace_frozen_df_attentions_original_shape', 'input_embeds_replace_frozen_df_hidden_states_original_shape'],\n",
       "        num_rows: 34284\n",
       "    })\n",
       "    test: Dataset({\n",
       "        features: ['source_id', 'target_id', 'id_x', 'id_y', 'prompt_feature_title', 'prompt_feature_genres', 'labels', 'split', 'prompt', 'gnn_feature_(no genres listed)', 'gnn_feature_Action', 'gnn_feature_Adventure', 'gnn_feature_Animation', 'gnn_feature_Children', 'gnn_feature_Comedy', 'gnn_feature_Crime', 'gnn_feature_Documentary', 'gnn_feature_Drama', 'gnn_feature_Fantasy', 'gnn_feature_Film-Noir', 'gnn_feature_Horror', 'gnn_feature_IMAX', 'gnn_feature_Musical', 'gnn_feature_Mystery', 'gnn_feature_Romance', 'gnn_feature_Sci-Fi', 'gnn_feature_Thriller', 'gnn_feature_War', 'gnn_feature_Western', 'input_embeds_replace_source_embedding', 'input_embeds_replace_target_embedding', 'vanilla_attentions', 'vanilla_hidden_states', 'vanilla_attentions_original_shape', 'vanilla_hidden_states_original_shape', 'prompt_attentions', 'prompt_hidden_states', 'prompt_attentions_original_shape', 'prompt_hidden_states_original_shape', 'input_embeds_replace_attentions', 'input_embeds_replace_hidden_states', 'input_embeds_replace_attentions_original_shape', 'input_embeds_replace_hidden_states_original_shape', 'input_embeds_replace_frozen_df_attentions', 'input_embeds_replace_frozen_df_hidden_states', 'input_embeds_replace_frozen_df_attentions_original_shape', 'input_embeds_replace_frozen_df_hidden_states_original_shape'],\n",
       "        num_rows: 34284\n",
       "    })\n",
       "})"
      ]
     },
     "execution_count": 9,
     "metadata": {},
     "output_type": "execute_result"
    }
   ],
   "source": [
    "dataset"
   ]
  },
  {
   "cell_type": "code",
   "execution_count": 10,
   "metadata": {},
   "outputs": [
    {
     "data": {
      "application/vnd.jupyter.widget-view+json": {
       "model_id": "f89c974afcf94afab198668489c5a249",
       "version_major": 2,
       "version_minor": 0
      },
      "text/plain": [
       "Saving the dataset (0/10 shards):   0%|          | 0/56469 [00:00<?, ? examples/s]"
      ]
     },
     "metadata": {},
     "output_type": "display_data"
    },
    {
     "data": {
      "application/vnd.jupyter.widget-view+json": {
       "model_id": "22f0eab7ed8f44ff90e5e9bc9282444c",
       "version_major": 2,
       "version_minor": 0
      },
      "text/plain": [
       "Saving the dataset (0/6 shards):   0%|          | 0/34284 [00:00<?, ? examples/s]"
      ]
     },
     "metadata": {},
     "output_type": "display_data"
    },
    {
     "data": {
      "application/vnd.jupyter.widget-view+json": {
       "model_id": "50adf2489da4406383eb72805be58c56",
       "version_major": 2,
       "version_minor": 0
      },
      "text/plain": [
       "Saving the dataset (0/6 shards):   0%|          | 0/34284 [00:00<?, ? examples/s]"
      ]
     },
     "metadata": {},
     "output_type": "display_data"
    }
   ],
   "source": [
    "dataset.save_to_disk(\"./data/dataset.hf\")"
   ]
  },
  {
   "cell_type": "code",
   "execution_count": 11,
   "metadata": {},
   "outputs": [
    {
     "data": {
      "application/vnd.jupyter.widget-view+json": {
       "model_id": "b0a909ef5cbe44389fd61ffafb3f7ba8",
       "version_major": 2,
       "version_minor": 0
      },
      "text/plain": [
       "Uploading the dataset shards:   0%|          | 0/10 [00:00<?, ?it/s]"
      ]
     },
     "metadata": {},
     "output_type": "display_data"
    },
    {
     "data": {
      "application/vnd.jupyter.widget-view+json": {
       "model_id": "0cb10c3b45cb4b52919fcddb8f0e2f95",
       "version_major": 2,
       "version_minor": 0
      },
      "text/plain": [
       "Creating parquet from Arrow format:   0%|          | 0/6 [00:00<?, ?ba/s]"
      ]
     },
     "metadata": {},
     "output_type": "display_data"
    },
    {
     "data": {
      "application/vnd.jupyter.widget-view+json": {
       "model_id": "e831a0ac0c22420fab7dbdb3295a13e7",
       "version_major": 2,
       "version_minor": 0
      },
      "text/plain": [
       "Creating parquet from Arrow format:   0%|          | 0/6 [00:00<?, ?ba/s]"
      ]
     },
     "metadata": {},
     "output_type": "display_data"
    },
    {
     "data": {
      "application/vnd.jupyter.widget-view+json": {
       "model_id": "faea6bffbc6b467c960d42d4dbf0c7ad",
       "version_major": 2,
       "version_minor": 0
      },
      "text/plain": [
       "Creating parquet from Arrow format:   0%|          | 0/6 [00:00<?, ?ba/s]"
      ]
     },
     "metadata": {},
     "output_type": "display_data"
    },
    {
     "data": {
      "application/vnd.jupyter.widget-view+json": {
       "model_id": "13cf1ee0df7e4e708965c67cda4549bd",
       "version_major": 2,
       "version_minor": 0
      },
      "text/plain": [
       "Creating parquet from Arrow format:   0%|          | 0/6 [00:00<?, ?ba/s]"
      ]
     },
     "metadata": {},
     "output_type": "display_data"
    },
    {
     "data": {
      "application/vnd.jupyter.widget-view+json": {
       "model_id": "51fba39200734990ac3cc00b108933d4",
       "version_major": 2,
       "version_minor": 0
      },
      "text/plain": [
       "Creating parquet from Arrow format:   0%|          | 0/6 [00:00<?, ?ba/s]"
      ]
     },
     "metadata": {},
     "output_type": "display_data"
    },
    {
     "data": {
      "application/vnd.jupyter.widget-view+json": {
       "model_id": "3805eab96d3d4249a06305e2a225aeef",
       "version_major": 2,
       "version_minor": 0
      },
      "text/plain": [
       "Creating parquet from Arrow format:   0%|          | 0/6 [00:00<?, ?ba/s]"
      ]
     },
     "metadata": {},
     "output_type": "display_data"
    },
    {
     "data": {
      "application/vnd.jupyter.widget-view+json": {
       "model_id": "8d6b310452f943a6b2e6de1663a21bd6",
       "version_major": 2,
       "version_minor": 0
      },
      "text/plain": [
       "Creating parquet from Arrow format:   0%|          | 0/6 [00:00<?, ?ba/s]"
      ]
     },
     "metadata": {},
     "output_type": "display_data"
    },
    {
     "data": {
      "application/vnd.jupyter.widget-view+json": {
       "model_id": "726d4d4d4a774ef090e30d7df1526442",
       "version_major": 2,
       "version_minor": 0
      },
      "text/plain": [
       "Creating parquet from Arrow format:   0%|          | 0/6 [00:00<?, ?ba/s]"
      ]
     },
     "metadata": {},
     "output_type": "display_data"
    },
    {
     "data": {
      "application/vnd.jupyter.widget-view+json": {
       "model_id": "3d50d73923d24c7f81544b04ac8a60e4",
       "version_major": 2,
       "version_minor": 0
      },
      "text/plain": [
       "Creating parquet from Arrow format:   0%|          | 0/6 [00:00<?, ?ba/s]"
      ]
     },
     "metadata": {},
     "output_type": "display_data"
    },
    {
     "data": {
      "application/vnd.jupyter.widget-view+json": {
       "model_id": "d0eb7834b2af48ae86423d0db3ea53a9",
       "version_major": 2,
       "version_minor": 0
      },
      "text/plain": [
       "Creating parquet from Arrow format:   0%|          | 0/6 [00:00<?, ?ba/s]"
      ]
     },
     "metadata": {},
     "output_type": "display_data"
    },
    {
     "data": {
      "application/vnd.jupyter.widget-view+json": {
       "model_id": "a31b0f0353164169b6cbe7d37e1cfa31",
       "version_major": 2,
       "version_minor": 0
      },
      "text/plain": [
       "Uploading the dataset shards:   0%|          | 0/6 [00:00<?, ?it/s]"
      ]
     },
     "metadata": {},
     "output_type": "display_data"
    },
    {
     "data": {
      "application/vnd.jupyter.widget-view+json": {
       "model_id": "2315cdc3de584ea09e0dd00283388359",
       "version_major": 2,
       "version_minor": 0
      },
      "text/plain": [
       "Creating parquet from Arrow format:   0%|          | 0/6 [00:00<?, ?ba/s]"
      ]
     },
     "metadata": {},
     "output_type": "display_data"
    },
    {
     "data": {
      "application/vnd.jupyter.widget-view+json": {
       "model_id": "7132361a3a84439cbeeb17bbc0b11f41",
       "version_major": 2,
       "version_minor": 0
      },
      "text/plain": [
       "Creating parquet from Arrow format:   0%|          | 0/6 [00:00<?, ?ba/s]"
      ]
     },
     "metadata": {},
     "output_type": "display_data"
    },
    {
     "data": {
      "application/vnd.jupyter.widget-view+json": {
       "model_id": "8e295c3a7e364687b26362a87c0774b7",
       "version_major": 2,
       "version_minor": 0
      },
      "text/plain": [
       "Creating parquet from Arrow format:   0%|          | 0/6 [00:00<?, ?ba/s]"
      ]
     },
     "metadata": {},
     "output_type": "display_data"
    },
    {
     "data": {
      "application/vnd.jupyter.widget-view+json": {
       "model_id": "6e3ef3c487b9492186cb2f3f8ba6a845",
       "version_major": 2,
       "version_minor": 0
      },
      "text/plain": [
       "Creating parquet from Arrow format:   0%|          | 0/6 [00:00<?, ?ba/s]"
      ]
     },
     "metadata": {},
     "output_type": "display_data"
    },
    {
     "data": {
      "application/vnd.jupyter.widget-view+json": {
       "model_id": "579db4ac26f2469ea6b758f1a2708d41",
       "version_major": 2,
       "version_minor": 0
      },
      "text/plain": [
       "Creating parquet from Arrow format:   0%|          | 0/6 [00:00<?, ?ba/s]"
      ]
     },
     "metadata": {},
     "output_type": "display_data"
    },
    {
     "data": {
      "application/vnd.jupyter.widget-view+json": {
       "model_id": "fb516a56c5604f7a927c9ee80a0473fd",
       "version_major": 2,
       "version_minor": 0
      },
      "text/plain": [
       "Creating parquet from Arrow format:   0%|          | 0/6 [00:00<?, ?ba/s]"
      ]
     },
     "metadata": {},
     "output_type": "display_data"
    },
    {
     "data": {
      "application/vnd.jupyter.widget-view+json": {
       "model_id": "f632b0e2c5bd48738fe04760450c7bb7",
       "version_major": 2,
       "version_minor": 0
      },
      "text/plain": [
       "Uploading the dataset shards:   0%|          | 0/6 [00:00<?, ?it/s]"
      ]
     },
     "metadata": {},
     "output_type": "display_data"
    },
    {
     "data": {
      "application/vnd.jupyter.widget-view+json": {
       "model_id": "5a914326db5f454eb0253b25acc13e23",
       "version_major": 2,
       "version_minor": 0
      },
      "text/plain": [
       "Creating parquet from Arrow format:   0%|          | 0/6 [00:00<?, ?ba/s]"
      ]
     },
     "metadata": {},
     "output_type": "display_data"
    },
    {
     "data": {
      "application/vnd.jupyter.widget-view+json": {
       "model_id": "389f34fd3058483f870cb954ab03bfce",
       "version_major": 2,
       "version_minor": 0
      },
      "text/plain": [
       "Creating parquet from Arrow format:   0%|          | 0/6 [00:00<?, ?ba/s]"
      ]
     },
     "metadata": {},
     "output_type": "display_data"
    },
    {
     "data": {
      "application/vnd.jupyter.widget-view+json": {
       "model_id": "2b7141200a994701b064ba52035273e9",
       "version_major": 2,
       "version_minor": 0
      },
      "text/plain": [
       "Creating parquet from Arrow format:   0%|          | 0/6 [00:00<?, ?ba/s]"
      ]
     },
     "metadata": {},
     "output_type": "display_data"
    },
    {
     "data": {
      "application/vnd.jupyter.widget-view+json": {
       "model_id": "5d6fff1457884dcca7ca4ad8c8084820",
       "version_major": 2,
       "version_minor": 0
      },
      "text/plain": [
       "Creating parquet from Arrow format:   0%|          | 0/6 [00:00<?, ?ba/s]"
      ]
     },
     "metadata": {},
     "output_type": "display_data"
    },
    {
     "data": {
      "application/vnd.jupyter.widget-view+json": {
       "model_id": "15dc090a5fda4b1f89a48dced7c4bd54",
       "version_major": 2,
       "version_minor": 0
      },
      "text/plain": [
       "Creating parquet from Arrow format:   0%|          | 0/6 [00:00<?, ?ba/s]"
      ]
     },
     "metadata": {},
     "output_type": "display_data"
    },
    {
     "data": {
      "application/vnd.jupyter.widget-view+json": {
       "model_id": "e29b0e30a28b4e0e8a369120f6943f07",
       "version_major": 2,
       "version_minor": 0
      },
      "text/plain": [
       "Creating parquet from Arrow format:   0%|          | 0/6 [00:00<?, ?ba/s]"
      ]
     },
     "metadata": {},
     "output_type": "display_data"
    },
    {
     "data": {
      "application/vnd.jupyter.widget-view+json": {
       "model_id": "adaf19b432e04648a97e2fdd9898462e",
       "version_major": 2,
       "version_minor": 0
      },
      "text/plain": [
       "README.md:   0%|          | 0.00/2.80k [00:00<?, ?B/s]"
      ]
     },
     "metadata": {},
     "output_type": "display_data"
    },
    {
     "name": "stderr",
     "output_type": "stream",
     "text": [
      "c:\\Users\\MARS\\.conda\\envs\\hauptprojekt\\Lib\\site-packages\\huggingface_hub\\file_download.py:157: UserWarning: `huggingface_hub` cache-system uses symlinks by default to efficiently store duplicated files but your machine does not support them in C:\\Users\\MARS\\.cache\\huggingface\\hub\\datasets--AhmadPython--MovieLens_KGE. Caching files will still work but in a degraded version that might require more space on your disk. This warning can be disabled by setting the `HF_HUB_DISABLE_SYMLINKS_WARNING` environment variable. For more details, see https://huggingface.co/docs/huggingface_hub/how-to-cache#limitations.\n",
      "To support symlinks on Windows, you either need to activate Developer Mode or to run Python as an administrator. In order to see activate developer mode, see this article: https://docs.microsoft.com/en-us/windows/apps/get-started/enable-your-device-for-development\n",
      "  warnings.warn(message)\n"
     ]
    },
    {
     "data": {
      "text/plain": [
       "CommitInfo(commit_url='https://huggingface.co/datasets/AhmadPython/MovieLens_KGE/commit/70c96f660429150e55b6437d59ee39da76891de7', commit_message='Upload dataset', commit_description='', oid='70c96f660429150e55b6437d59ee39da76891de7', pr_url=None, pr_revision=None, pr_num=None)"
      ]
     },
     "execution_count": 11,
     "metadata": {},
     "output_type": "execute_result"
    }
   ],
   "source": [
    "dataset.push_to_hub(\"AhmadPython/MovieLens_KGE\")"
   ]
  }
 ],
 "metadata": {
  "kernelspec": {
   "display_name": "hauptprojekt",
   "language": "python",
   "name": "python3"
  },
  "language_info": {
   "codemirror_mode": {
    "name": "ipython",
    "version": 3
   },
   "file_extension": ".py",
   "mimetype": "text/x-python",
   "name": "python",
   "nbconvert_exporter": "python",
   "pygments_lexer": "ipython3",
   "version": "3.12.4"
  }
 },
 "nbformat": 4,
 "nbformat_minor": 2
}
