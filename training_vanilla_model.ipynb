{
    "cells": [
        {
            "cell_type": "markdown",
            "metadata": {},
            "source": [
                "# Training and Evaluation of GNNs and LLMs\n",
                "In this notebook, we train the models on the [MovieLens Dataset](https://movielens.org/) after the Pytorch Geometrics Tutorial on [Link Prediction](https://colab.research.google.com/drive/1xpzn1Nvai1ygd_P5Yambc_oe4VBPK_ZT?usp=sharing#scrollTo=vit8xKCiXAue).\n",
                "\n",
                "First we import all of our dependencies.\n",
                "\n",
                "The **GraphRepresentationGenerator** manages and trains a GNN model. Its most important interfaces include\n",
                "**the constructor**, which defines the GNN architecture and loads the pre-trained GNN model if it is already on the hard disk,\n",
                "**the training method**, which initializes the training on the GNN model and\n",
                "**the get_embedding methods**, which represent the inference interface to the GNN model and return the corresponding embeddings in the dimension defined in the constructor for given user movie node pairs.\n",
                "\n",
                "**The MovieLensLoader** loads and manages the data sets. The most important tasks include **saving and (re)loading and transforming** the data sets.\n",
                "\n",
                "**PromptEncoderOnlyClassifier** and **VanillaEncoderOnlyClassifier** each manage a **prompt (model) LLM** and a **vanilla (model) LLM**. An EncoderOnlyClassifier (ClassifierBase) provides interfaces for training and testing an LLM model.\n",
                "PromptEncoder and VanillaEncoder differ from their DataCollectors. DataCollectors change the behavior of the models during training and testing and allow data points to be created at runtime. With the help of these collators, we **create non-existent edges on the fly**."
            ]
        },
        {
            "cell_type": "code",
            "execution_count": 1,
            "metadata": {},
            "outputs": [],
            "source": [
                "from dataset_manager import MovieLensManager, ROOT\n",
                "from llm_manager import VanillaBertClassifier"
            ]
        },
        {
            "cell_type": "code",
            "execution_count": 2,
            "metadata": {},
            "outputs": [],
            "source": [
                "EPOCHS = 8\n",
                "BATCH_SIZE_LLM = 256"
            ]
        },
        {
            "cell_type": "markdown",
            "metadata": {},
            "source": [
                "We define in advance which **Knowledge Graph Embedding Dimension (KGE_DIMENSION)** the GNN encoder has. We want to determine from which output dimension the GNN encoder can produce embeddings that lead to a significant increase in performance *without exceeding the context length of the LLMs*. In the original tutorial, the KGE_DIMENSION was $64$."
            ]
        },
        {
            "cell_type": "code",
            "execution_count": 3,
            "metadata": {},
            "outputs": [],
            "source": [
                "kg_manager = MovieLensManager()"
            ]
        },
        {
            "cell_type": "code",
            "execution_count": 4,
            "metadata": {},
            "outputs": [
                {
                    "data": {
                        "text/plain": [
                            "array([1, 0], dtype=int64)"
                        ]
                    },
                    "execution_count": 4,
                    "metadata": {},
                    "output_type": "execute_result"
                }
            ],
            "source": [
                "kg_manager.llm_df[kg_manager.llm_df[\"split\"] == \"test\"][\"labels\"].unique()"
            ]
        },
        {
            "cell_type": "markdown",
            "metadata": {},
            "source": [
                "llm_df = kg_manager.llm_df.merge(kg_manager.target_df[[\"id\", \"prompt_feature_title\", \"prompt_feature_genres\"]].rename(columns={\"id\": \"target_id\"}), on = \"target_id\")\n",
                "llm_df"
            ]
        },
        {
            "cell_type": "markdown",
            "metadata": {},
            "source": [
                "First we load the MovieLensLoader, which downloads the Movie Lens dataset (https://files.grouplens.org/datasets/movielens/ml-32m.zip) and prepares it to be used on GNN and LLM. We also pass the embedding dimensions that we will assume we are training with. First time takes approx. 30 sec."
            ]
        },
        {
            "cell_type": "code",
            "execution_count": 5,
            "metadata": {},
            "outputs": [
                {
                    "data": {
                        "text/plain": [
                            "HeteroData(\n",
                            "  source={ node_id=[610] },\n",
                            "  target={\n",
                            "    node_id=[9742],\n",
                            "    x=[9742, 20],\n",
                            "  },\n",
                            "  (source, edge, target)={ edge_index=[2, 100836] },\n",
                            "  (target, rev_edge, source)={ edge_index=[2, 100836] }\n",
                            ")"
                        ]
                    },
                    "execution_count": 5,
                    "metadata": {},
                    "output_type": "execute_result"
                }
            ],
            "source": [
                "kg_manager.data"
            ]
        },
        {
            "cell_type": "markdown",
            "metadata": {},
            "source": [
                "Next we initialize the vanilla encoder only classifier. This classifier does only use the NLP part of the prompt (no KGE) for predicting if the given link exists."
            ]
        },
        {
            "cell_type": "code",
            "execution_count": 6,
            "metadata": {},
            "outputs": [],
            "source": [
                "VANILLA_ROOT = f\"{ROOT}/llm/vanilla\""
            ]
        },
        {
            "cell_type": "code",
            "execution_count": 7,
            "metadata": {},
            "outputs": [
                {
                    "name": "stderr",
                    "output_type": "stream",
                    "text": [
                        "Some weights of BertForSequenceClassificationRanges were not initialized from the model checkpoint at google/bert_uncased_L-2_H-128_A-2 and are newly initialized: ['classifier.bias', 'classifier.weight']\n",
                        "You should probably TRAIN this model on a down-stream task to be able to use it for predictions and inference.\n",
                        "Some weights of BertForSequenceClassificationRanges were not initialized from the model checkpoint at google/bert_uncased_L-2_H-128_A-2 and are newly initialized because the shapes did not match:\n",
                        "- bert.embeddings.token_type_embeddings.weight: found shape torch.Size([2, 128]) in the checkpoint and torch.Size([4, 128]) in the model instantiated\n",
                        "You should probably TRAIN this model on a down-stream task to be able to use it for predictions and inference.\n"
                    ]
                },
                {
                    "name": "stdout",
                    "output_type": "stream",
                    "text": [
                        "4\n",
                        "4\n"
                    ]
                }
            ],
            "source": [
                "vanilla_bert_classifier = VanillaBertClassifier(\n",
                "    kg_manager.llm_df,\n",
                "    kg_manager.source_df,\n",
                "    kg_manager.target_df,\n",
                "    root_path=VANILLA_ROOT,\n",
                ")"
            ]
        },
        {
            "cell_type": "code",
            "execution_count": 8,
            "metadata": {},
            "outputs": [
                {
                    "data": {
                        "text/html": [
                            "<div>\n",
                            "<style scoped>\n",
                            "    .dataframe tbody tr th:only-of-type {\n",
                            "        vertical-align: middle;\n",
                            "    }\n",
                            "\n",
                            "    .dataframe tbody tr th {\n",
                            "        vertical-align: top;\n",
                            "    }\n",
                            "\n",
                            "    .dataframe thead th {\n",
                            "        text-align: right;\n",
                            "    }\n",
                            "</style>\n",
                            "<table border=\"1\" class=\"dataframe\">\n",
                            "  <thead>\n",
                            "    <tr style=\"text-align: right;\">\n",
                            "      <th></th>\n",
                            "      <th>source_id</th>\n",
                            "      <th>target_id</th>\n",
                            "      <th>split</th>\n",
                            "      <th>labels</th>\n",
                            "      <th>prompt_feature_title</th>\n",
                            "      <th>prompt_feature_genres</th>\n",
                            "    </tr>\n",
                            "  </thead>\n",
                            "  <tbody>\n",
                            "    <tr>\n",
                            "      <th>0</th>\n",
                            "      <td>447</td>\n",
                            "      <td>2635</td>\n",
                            "      <td>train</td>\n",
                            "      <td>1</td>\n",
                            "      <td>Parenthood (1989)</td>\n",
                            "      <td>['Comedy', 'Drama']</td>\n",
                            "    </tr>\n",
                            "    <tr>\n",
                            "      <th>1</th>\n",
                            "      <td>81</td>\n",
                            "      <td>1486</td>\n",
                            "      <td>train</td>\n",
                            "      <td>1</td>\n",
                            "      <td>Back to the Future Part II (1989)</td>\n",
                            "      <td>['Adventure', 'Comedy', 'Sci-Fi']</td>\n",
                            "    </tr>\n",
                            "    <tr>\n",
                            "      <th>2</th>\n",
                            "      <td>488</td>\n",
                            "      <td>3614</td>\n",
                            "      <td>train</td>\n",
                            "      <td>1</td>\n",
                            "      <td>Ocean's Eleven (2001)</td>\n",
                            "      <td>['Crime', 'Thriller']</td>\n",
                            "    </tr>\n",
                            "    <tr>\n",
                            "      <th>3</th>\n",
                            "      <td>33</td>\n",
                            "      <td>1071</td>\n",
                            "      <td>train</td>\n",
                            "      <td>1</td>\n",
                            "      <td>Mars Attacks! (1996)</td>\n",
                            "      <td>['Action', 'Comedy', 'Sci-Fi']</td>\n",
                            "    </tr>\n",
                            "    <tr>\n",
                            "      <th>4</th>\n",
                            "      <td>461</td>\n",
                            "      <td>6342</td>\n",
                            "      <td>train</td>\n",
                            "      <td>1</td>\n",
                            "      <td>Shut Up &amp; Sing (2006)</td>\n",
                            "      <td>['Documentary']</td>\n",
                            "    </tr>\n",
                            "    <tr>\n",
                            "      <th>...</th>\n",
                            "      <td>...</td>\n",
                            "      <td>...</td>\n",
                            "      <td>...</td>\n",
                            "      <td>...</td>\n",
                            "      <td>...</td>\n",
                            "      <td>...</td>\n",
                            "    </tr>\n",
                            "    <tr>\n",
                            "      <th>64528</th>\n",
                            "      <td>505</td>\n",
                            "      <td>5984</td>\n",
                            "      <td>val</td>\n",
                            "      <td>0</td>\n",
                            "      <td>Proof (2005)</td>\n",
                            "      <td>['Drama']</td>\n",
                            "    </tr>\n",
                            "    <tr>\n",
                            "      <th>64529</th>\n",
                            "      <td>445</td>\n",
                            "      <td>1446</td>\n",
                            "      <td>val</td>\n",
                            "      <td>0</td>\n",
                            "      <td>Nightmare on Elm Street 2: Freddy's Revenge, A...</td>\n",
                            "      <td>['Horror']</td>\n",
                            "    </tr>\n",
                            "    <tr>\n",
                            "      <th>64530</th>\n",
                            "      <td>8</td>\n",
                            "      <td>9234</td>\n",
                            "      <td>val</td>\n",
                            "      <td>0</td>\n",
                            "      <td>Who Killed Chea Vichea? (2010)</td>\n",
                            "      <td>['Documentary']</td>\n",
                            "    </tr>\n",
                            "    <tr>\n",
                            "      <th>64531</th>\n",
                            "      <td>225</td>\n",
                            "      <td>1784</td>\n",
                            "      <td>val</td>\n",
                            "      <td>0</td>\n",
                            "      <td>Police Academy 5: Assignment: Miami Beach (1988)</td>\n",
                            "      <td>['Comedy', 'Crime']</td>\n",
                            "    </tr>\n",
                            "    <tr>\n",
                            "      <th>64532</th>\n",
                            "      <td>38</td>\n",
                            "      <td>7247</td>\n",
                            "      <td>val</td>\n",
                            "      <td>0</td>\n",
                            "      <td>Wicked City (Yôjû toshi) (1987)</td>\n",
                            "      <td>['Animation', 'Fantasy', 'Horror', 'Sci-Fi']</td>\n",
                            "    </tr>\n",
                            "  </tbody>\n",
                            "</table>\n",
                            "<p>64533 rows × 6 columns</p>\n",
                            "</div>"
                        ],
                        "text/plain": [
                            "       source_id  target_id  split  labels  \\\n",
                            "0            447       2635  train       1   \n",
                            "1             81       1486  train       1   \n",
                            "2            488       3614  train       1   \n",
                            "3             33       1071  train       1   \n",
                            "4            461       6342  train       1   \n",
                            "...          ...        ...    ...     ...   \n",
                            "64528        505       5984    val       0   \n",
                            "64529        445       1446    val       0   \n",
                            "64530          8       9234    val       0   \n",
                            "64531        225       1784    val       0   \n",
                            "64532         38       7247    val       0   \n",
                            "\n",
                            "                                    prompt_feature_title  \\\n",
                            "0                                      Parenthood (1989)   \n",
                            "1                      Back to the Future Part II (1989)   \n",
                            "2                                  Ocean's Eleven (2001)   \n",
                            "3                                   Mars Attacks! (1996)   \n",
                            "4                                  Shut Up & Sing (2006)   \n",
                            "...                                                  ...   \n",
                            "64528                                       Proof (2005)   \n",
                            "64529  Nightmare on Elm Street 2: Freddy's Revenge, A...   \n",
                            "64530                     Who Killed Chea Vichea? (2010)   \n",
                            "64531   Police Academy 5: Assignment: Miami Beach (1988)   \n",
                            "64532                    Wicked City (Yôjû toshi) (1987)   \n",
                            "\n",
                            "                              prompt_feature_genres  \n",
                            "0                               ['Comedy', 'Drama']  \n",
                            "1                 ['Adventure', 'Comedy', 'Sci-Fi']  \n",
                            "2                             ['Crime', 'Thriller']  \n",
                            "3                    ['Action', 'Comedy', 'Sci-Fi']  \n",
                            "4                                   ['Documentary']  \n",
                            "...                                             ...  \n",
                            "64528                                     ['Drama']  \n",
                            "64529                                    ['Horror']  \n",
                            "64530                               ['Documentary']  \n",
                            "64531                           ['Comedy', 'Crime']  \n",
                            "64532  ['Animation', 'Fantasy', 'Horror', 'Sci-Fi']  \n",
                            "\n",
                            "[64533 rows x 6 columns]"
                        ]
                    },
                    "execution_count": 8,
                    "metadata": {},
                    "output_type": "execute_result"
                }
            ],
            "source": [
                "kg_manager.llm_df"
            ]
        },
        {
            "cell_type": "markdown",
            "metadata": {},
            "source": [
                "Next we generate a vanilla llm dataset and tokenize it for training."
            ]
        },
        {
            "cell_type": "code",
            "execution_count": 9,
            "metadata": {},
            "outputs": [
                {
                    "data": {
                        "application/vnd.jupyter.widget-view+json": {
                            "model_id": "6c46046db94f4ccb8c36c76bb160ec98",
                            "version_major": 2,
                            "version_minor": 0
                        },
                        "text/plain": [
                            "Map:   0%|          | 0/24201 [00:00<?, ? examples/s]"
                        ]
                    },
                    "metadata": {},
                    "output_type": "display_data"
                },
                {
                    "data": {
                        "application/vnd.jupyter.widget-view+json": {
                            "model_id": "0e5e187020f24b5c83e98a495c5ad8f7",
                            "version_major": 2,
                            "version_minor": 0
                        },
                        "text/plain": [
                            "Map:   0%|          | 0/20166 [00:00<?, ? examples/s]"
                        ]
                    },
                    "metadata": {},
                    "output_type": "display_data"
                },
                {
                    "data": {
                        "application/vnd.jupyter.widget-view+json": {
                            "model_id": "8b73e760e7dc4d82a0eb6023a32177b6",
                            "version_major": 2,
                            "version_minor": 0
                        },
                        "text/plain": [
                            "Map:   0%|          | 0/20166 [00:00<?, ? examples/s]"
                        ]
                    },
                    "metadata": {},
                    "output_type": "display_data"
                },
                {
                    "data": {
                        "application/vnd.jupyter.widget-view+json": {
                            "model_id": "af1dde2741674476b49446595d7ab54a",
                            "version_major": 2,
                            "version_minor": 0
                        },
                        "text/plain": [
                            "Saving the dataset (0/1 shards):   0%|          | 0/24201 [00:00<?, ? examples/s]"
                        ]
                    },
                    "metadata": {},
                    "output_type": "display_data"
                },
                {
                    "data": {
                        "application/vnd.jupyter.widget-view+json": {
                            "model_id": "1f27e1dee0294ddb985124419b1b5488",
                            "version_major": 2,
                            "version_minor": 0
                        },
                        "text/plain": [
                            "Saving the dataset (0/1 shards):   0%|          | 0/20166 [00:00<?, ? examples/s]"
                        ]
                    },
                    "metadata": {},
                    "output_type": "display_data"
                },
                {
                    "data": {
                        "application/vnd.jupyter.widget-view+json": {
                            "model_id": "8c63e2b01822403aa13e378444272894",
                            "version_major": 2,
                            "version_minor": 0
                        },
                        "text/plain": [
                            "Saving the dataset (0/1 shards):   0%|          | 0/20166 [00:00<?, ? examples/s]"
                        ]
                    },
                    "metadata": {},
                    "output_type": "display_data"
                }
            ],
            "source": [
                "dataset_vanilla = kg_manager.generate_vanilla_dataset(\n",
                "    vanilla_bert_classifier.tokenize_function\n",
                ")"
            ]
        },
        {
            "cell_type": "code",
            "execution_count": 10,
            "metadata": {},
            "outputs": [
                {
                    "data": {
                        "text/plain": [
                            "\"447[SEP]2635[SEP]Parenthood (1989)[SEP]['Comedy', 'Drama']\""
                        ]
                    },
                    "execution_count": 10,
                    "metadata": {},
                    "output_type": "execute_result"
                }
            ],
            "source": [
                "dataset_vanilla[\"train\"][0][\"prompt\"]"
            ]
        },
        {
            "cell_type": "code",
            "execution_count": 11,
            "metadata": {},
            "outputs": [
                {
                    "data": {
                        "text/plain": [
                            "DatasetDict({\n",
                            "    train: Dataset({\n",
                            "        features: ['source_id', 'target_id', 'split', 'labels', 'prompt_feature_title', 'prompt_feature_genres', 'prompt', 'input_ids', 'attention_mask', 'token_type_ranges', 'token_type_ids'],\n",
                            "        num_rows: 24201\n",
                            "    })\n",
                            "    val: Dataset({\n",
                            "        features: ['source_id', 'target_id', 'split', 'labels', 'prompt_feature_title', 'prompt_feature_genres', 'prompt', 'input_ids', 'attention_mask', 'token_type_ranges', 'token_type_ids'],\n",
                            "        num_rows: 20166\n",
                            "    })\n",
                            "    test: Dataset({\n",
                            "        features: ['source_id', 'target_id', 'split', 'labels', 'prompt_feature_title', 'prompt_feature_genres', 'prompt', 'input_ids', 'attention_mask', 'token_type_ranges', 'token_type_ids'],\n",
                            "        num_rows: 20166\n",
                            "    })\n",
                            "})"
                        ]
                    },
                    "execution_count": 11,
                    "metadata": {},
                    "output_type": "execute_result"
                }
            ],
            "source": [
                "dataset_vanilla"
            ]
        },
        {
            "cell_type": "markdown",
            "metadata": {},
            "source": [
                "Next we train the model on the produced dataset. This can be skipped, if already trained ones."
            ]
        },
        {
            "cell_type": "code",
            "execution_count": 12,
            "metadata": {},
            "outputs": [
                {
                    "data": {
                        "application/vnd.jupyter.widget-view+json": {
                            "model_id": "b3da76cde468414eb71674ca8af52cf7",
                            "version_major": 2,
                            "version_minor": 0
                        },
                        "text/plain": [
                            "  0%|          | 0/760 [00:00<?, ?it/s]"
                        ]
                    },
                    "metadata": {},
                    "output_type": "display_data"
                },
                {
                    "name": "stderr",
                    "output_type": "stream",
                    "text": [
                        "c:\\Users\\MARS\\.conda\\envs\\hauptprojekt\\Lib\\site-packages\\transformers\\models\\bert\\modeling_bert.py:440: UserWarning: 1Torch was not compiled with flash attention. (Triggered internally at ..\\aten\\src\\ATen\\native\\transformers\\cuda\\sdp_utils.cpp:455.)\n",
                        "  attn_output = torch.nn.functional.scaled_dot_product_attention(\n"
                    ]
                },
                {
                    "name": "stdout",
                    "output_type": "stream",
                    "text": [
                        "{'loss': 0.6897, 'grad_norm': 1.0061800479888916, 'learning_rate': 1.0000000000000002e-06, 'epoch': 0.11}\n",
                        "{'loss': 0.6897, 'grad_norm': 0.8246354460716248, 'learning_rate': 2.0000000000000003e-06, 'epoch': 0.21}\n",
                        "{'loss': 0.6862, 'grad_norm': 1.0328469276428223, 'learning_rate': 3e-06, 'epoch': 0.32}\n",
                        "{'loss': 0.6875, 'grad_norm': 1.200447916984558, 'learning_rate': 4.000000000000001e-06, 'epoch': 0.42}\n",
                        "{'loss': 0.6839, 'grad_norm': 0.8768653869628906, 'learning_rate': 5e-06, 'epoch': 0.53}\n",
                        "{'loss': 0.6814, 'grad_norm': 0.8105555772781372, 'learning_rate': 6e-06, 'epoch': 0.63}\n",
                        "{'loss': 0.6802, 'grad_norm': 0.7252908945083618, 'learning_rate': 7.000000000000001e-06, 'epoch': 0.74}\n",
                        "{'loss': 0.6754, 'grad_norm': 0.49430352449417114, 'learning_rate': 8.000000000000001e-06, 'epoch': 0.84}\n",
                        "{'loss': 0.6778, 'grad_norm': 0.39622610807418823, 'learning_rate': 9e-06, 'epoch': 0.95}\n"
                    ]
                },
                {
                    "data": {
                        "application/vnd.jupyter.widget-view+json": {
                            "model_id": "bb6c91fcb40347e0aa30981b0856a6a7",
                            "version_major": 2,
                            "version_minor": 0
                        },
                        "text/plain": [
                            "  0%|          | 0/79 [00:00<?, ?it/s]"
                        ]
                    },
                    "metadata": {},
                    "output_type": "display_data"
                },
                {
                    "name": "stdout",
                    "output_type": "stream",
                    "text": [
                        "{'eval_loss': 0.7063984274864197, 'eval_accuracy': 0.5, 'eval_runtime': 15.6285, 'eval_samples_per_second': 1290.334, 'eval_steps_per_second': 5.055, 'epoch': 1.0}\n",
                        "{'loss': 0.6739, 'grad_norm': 0.40631821751594543, 'learning_rate': 1e-05, 'epoch': 1.05}\n",
                        "{'loss': 0.6724, 'grad_norm': 0.38505494594573975, 'learning_rate': 1.1000000000000001e-05, 'epoch': 1.16}\n",
                        "{'loss': 0.6689, 'grad_norm': 0.45800697803497314, 'learning_rate': 1.2e-05, 'epoch': 1.26}\n",
                        "{'loss': 0.6713, 'grad_norm': 0.25119832158088684, 'learning_rate': 1.3000000000000001e-05, 'epoch': 1.37}\n",
                        "{'loss': 0.6662, 'grad_norm': 0.36643391847610474, 'learning_rate': 1.4000000000000001e-05, 'epoch': 1.47}\n",
                        "{'loss': 0.668, 'grad_norm': 0.25897446274757385, 'learning_rate': 1.5e-05, 'epoch': 1.58}\n",
                        "{'loss': 0.6663, 'grad_norm': 0.3056357502937317, 'learning_rate': 1.6000000000000003e-05, 'epoch': 1.68}\n",
                        "{'loss': 0.6678, 'grad_norm': 0.33235061168670654, 'learning_rate': 1.7000000000000003e-05, 'epoch': 1.79}\n",
                        "{'loss': 0.6572, 'grad_norm': 0.3397113084793091, 'learning_rate': 1.8e-05, 'epoch': 1.89}\n",
                        "{'loss': 0.6572, 'grad_norm': 0.5541194677352905, 'learning_rate': 1.9e-05, 'epoch': 2.0}\n"
                    ]
                },
                {
                    "data": {
                        "application/vnd.jupyter.widget-view+json": {
                            "model_id": "6a0f4f4066864946bd624e15af6fc533",
                            "version_major": 2,
                            "version_minor": 0
                        },
                        "text/plain": [
                            "  0%|          | 0/79 [00:00<?, ?it/s]"
                        ]
                    },
                    "metadata": {},
                    "output_type": "display_data"
                },
                {
                    "name": "stdout",
                    "output_type": "stream",
                    "text": [
                        "{'eval_loss': 0.7051416039466858, 'eval_accuracy': 0.50024794208073, 'eval_runtime': 15.8431, 'eval_samples_per_second': 1272.859, 'eval_steps_per_second': 4.986, 'epoch': 2.0}\n",
                        "{'loss': 0.6537, 'grad_norm': 0.44927528500556946, 'learning_rate': 2e-05, 'epoch': 2.11}\n",
                        "{'loss': 0.6546, 'grad_norm': 0.45282262563705444, 'learning_rate': 2.1e-05, 'epoch': 2.21}\n",
                        "{'loss': 0.6511, 'grad_norm': 0.38748276233673096, 'learning_rate': 2.2000000000000003e-05, 'epoch': 2.32}\n",
                        "{'loss': 0.6488, 'grad_norm': 0.45551007986068726, 'learning_rate': 2.3000000000000003e-05, 'epoch': 2.42}\n",
                        "{'loss': 0.6451, 'grad_norm': 0.5899112224578857, 'learning_rate': 2.4e-05, 'epoch': 2.53}\n",
                        "{'loss': 0.6446, 'grad_norm': 0.850372314453125, 'learning_rate': 2.5e-05, 'epoch': 2.63}\n",
                        "{'loss': 0.6385, 'grad_norm': 0.6836862564086914, 'learning_rate': 2.6000000000000002e-05, 'epoch': 2.74}\n",
                        "{'loss': 0.6385, 'grad_norm': 1.130502700805664, 'learning_rate': 2.7000000000000002e-05, 'epoch': 2.84}\n",
                        "{'loss': 0.6363, 'grad_norm': 0.6936959028244019, 'learning_rate': 2.8000000000000003e-05, 'epoch': 2.95}\n"
                    ]
                },
                {
                    "data": {
                        "application/vnd.jupyter.widget-view+json": {
                            "model_id": "031439cc70d5483aafee4c5d11d42b37",
                            "version_major": 2,
                            "version_minor": 0
                        },
                        "text/plain": [
                            "  0%|          | 0/79 [00:00<?, ?it/s]"
                        ]
                    },
                    "metadata": {},
                    "output_type": "display_data"
                },
                {
                    "name": "stdout",
                    "output_type": "stream",
                    "text": [
                        "{'eval_loss': 0.6523293256759644, 'eval_accuracy': 0.622830506793613, 'eval_runtime': 15.8624, 'eval_samples_per_second': 1271.312, 'eval_steps_per_second': 4.98, 'epoch': 3.0}\n",
                        "{'loss': 0.6325, 'grad_norm': 0.6933301091194153, 'learning_rate': 2.9e-05, 'epoch': 3.05}\n",
                        "{'loss': 0.6256, 'grad_norm': 0.7129482626914978, 'learning_rate': 3e-05, 'epoch': 3.16}\n",
                        "{'loss': 0.6294, 'grad_norm': 0.7248950004577637, 'learning_rate': 3.1e-05, 'epoch': 3.26}\n",
                        "{'loss': 0.6207, 'grad_norm': 0.7263774275779724, 'learning_rate': 3.2000000000000005e-05, 'epoch': 3.37}\n",
                        "{'loss': 0.6194, 'grad_norm': 1.3423842191696167, 'learning_rate': 3.3e-05, 'epoch': 3.47}\n",
                        "{'loss': 0.6211, 'grad_norm': 0.7208135724067688, 'learning_rate': 3.4000000000000007e-05, 'epoch': 3.58}\n",
                        "{'loss': 0.6231, 'grad_norm': 0.8050276041030884, 'learning_rate': 3.5e-05, 'epoch': 3.68}\n",
                        "{'loss': 0.608, 'grad_norm': 0.8048757314682007, 'learning_rate': 3.6e-05, 'epoch': 3.79}\n",
                        "{'loss': 0.617, 'grad_norm': 0.8143143653869629, 'learning_rate': 3.7e-05, 'epoch': 3.89}\n",
                        "{'loss': 0.5976, 'grad_norm': 2.1071689128875732, 'learning_rate': 3.8e-05, 'epoch': 4.0}\n"
                    ]
                },
                {
                    "data": {
                        "application/vnd.jupyter.widget-view+json": {
                            "model_id": "6f564d9cd69c4cc58a675513b52a4bff",
                            "version_major": 2,
                            "version_minor": 0
                        },
                        "text/plain": [
                            "  0%|          | 0/79 [00:00<?, ?it/s]"
                        ]
                    },
                    "metadata": {},
                    "output_type": "display_data"
                },
                {
                    "name": "stdout",
                    "output_type": "stream",
                    "text": [
                        "{'eval_loss': 0.6127854585647583, 'eval_accuracy': 0.6774769413864922, 'eval_runtime': 15.9603, 'eval_samples_per_second': 1263.507, 'eval_steps_per_second': 4.95, 'epoch': 4.0}\n",
                        "{'loss': 0.6103, 'grad_norm': 1.0445537567138672, 'learning_rate': 3.9000000000000006e-05, 'epoch': 4.11}\n",
                        "{'loss': 0.5982, 'grad_norm': 1.443149447441101, 'learning_rate': 4e-05, 'epoch': 4.21}\n",
                        "{'loss': 0.59, 'grad_norm': 1.0138808488845825, 'learning_rate': 4.1e-05, 'epoch': 4.32}\n",
                        "{'loss': 0.5813, 'grad_norm': 1.0067769289016724, 'learning_rate': 4.2e-05, 'epoch': 4.42}\n",
                        "{'loss': 0.5921, 'grad_norm': 1.5461236238479614, 'learning_rate': 4.3e-05, 'epoch': 4.53}\n",
                        "{'loss': 0.5708, 'grad_norm': 1.3650308847427368, 'learning_rate': 4.4000000000000006e-05, 'epoch': 4.63}\n",
                        "{'loss': 0.5738, 'grad_norm': 1.0483241081237793, 'learning_rate': 4.5e-05, 'epoch': 4.74}\n",
                        "{'loss': 0.553, 'grad_norm': 1.5155107975006104, 'learning_rate': 4.600000000000001e-05, 'epoch': 4.84}\n",
                        "{'loss': 0.5749, 'grad_norm': 1.4012447595596313, 'learning_rate': 4.7e-05, 'epoch': 4.95}\n"
                    ]
                },
                {
                    "data": {
                        "application/vnd.jupyter.widget-view+json": {
                            "model_id": "2143873fcc394c829169f66a2372655b",
                            "version_major": 2,
                            "version_minor": 0
                        },
                        "text/plain": [
                            "  0%|          | 0/79 [00:00<?, ?it/s]"
                        ]
                    },
                    "metadata": {},
                    "output_type": "display_data"
                },
                {
                    "name": "stdout",
                    "output_type": "stream",
                    "text": [
                        "{'eval_loss': 0.5708811283111572, 'eval_accuracy': 0.7172964395517207, 'eval_runtime': 15.7707, 'eval_samples_per_second': 1278.7, 'eval_steps_per_second': 5.009, 'epoch': 5.0}\n",
                        "{'loss': 0.5639, 'grad_norm': 1.300254225730896, 'learning_rate': 4.8e-05, 'epoch': 5.05}\n",
                        "{'loss': 0.5603, 'grad_norm': 1.7548812627792358, 'learning_rate': 4.9e-05, 'epoch': 5.16}\n",
                        "{'loss': 0.5496, 'grad_norm': 1.845305323600769, 'learning_rate': 5e-05, 'epoch': 5.26}\n",
                        "{'loss': 0.5534, 'grad_norm': 1.3404316902160645, 'learning_rate': 4.8076923076923084e-05, 'epoch': 5.37}\n",
                        "{'loss': 0.5414, 'grad_norm': 2.188323974609375, 'learning_rate': 4.615384615384616e-05, 'epoch': 5.47}\n",
                        "{'loss': 0.5319, 'grad_norm': 1.4208147525787354, 'learning_rate': 4.423076923076923e-05, 'epoch': 5.58}\n",
                        "{'loss': 0.5353, 'grad_norm': 2.1429100036621094, 'learning_rate': 4.230769230769231e-05, 'epoch': 5.68}\n",
                        "{'loss': 0.5346, 'grad_norm': 1.3367221355438232, 'learning_rate': 4.038461538461539e-05, 'epoch': 5.79}\n",
                        "{'loss': 0.5456, 'grad_norm': 1.34516441822052, 'learning_rate': 3.846153846153846e-05, 'epoch': 5.89}\n",
                        "{'loss': 0.5413, 'grad_norm': 1.90032160282135, 'learning_rate': 3.653846153846154e-05, 'epoch': 6.0}\n"
                    ]
                },
                {
                    "data": {
                        "application/vnd.jupyter.widget-view+json": {
                            "model_id": "044c25334caa4448bf3c73287b1a9cd6",
                            "version_major": 2,
                            "version_minor": 0
                        },
                        "text/plain": [
                            "  0%|          | 0/79 [00:00<?, ?it/s]"
                        ]
                    },
                    "metadata": {},
                    "output_type": "display_data"
                },
                {
                    "name": "stdout",
                    "output_type": "stream",
                    "text": [
                        "{'eval_loss': 0.5209808349609375, 'eval_accuracy': 0.7491322027174452, 'eval_runtime': 15.7436, 'eval_samples_per_second': 1280.901, 'eval_steps_per_second': 5.018, 'epoch': 6.0}\n",
                        "{'loss': 0.5244, 'grad_norm': 2.402892589569092, 'learning_rate': 3.461538461538462e-05, 'epoch': 6.11}\n",
                        "{'loss': 0.5353, 'grad_norm': 1.8972808122634888, 'learning_rate': 3.269230769230769e-05, 'epoch': 6.21}\n",
                        "{'loss': 0.5215, 'grad_norm': 1.1852353811264038, 'learning_rate': 3.0769230769230774e-05, 'epoch': 6.32}\n",
                        "{'loss': 0.5364, 'grad_norm': 1.2729064226150513, 'learning_rate': 2.8846153846153845e-05, 'epoch': 6.42}\n",
                        "{'loss': 0.5163, 'grad_norm': 2.0578904151916504, 'learning_rate': 2.6923076923076923e-05, 'epoch': 6.53}\n",
                        "{'loss': 0.5155, 'grad_norm': 1.1980606317520142, 'learning_rate': 2.5e-05, 'epoch': 6.63}\n",
                        "{'loss': 0.5264, 'grad_norm': 1.8238039016723633, 'learning_rate': 2.307692307692308e-05, 'epoch': 6.74}\n",
                        "{'loss': 0.5111, 'grad_norm': 1.719527006149292, 'learning_rate': 2.1153846153846154e-05, 'epoch': 6.84}\n",
                        "{'loss': 0.5227, 'grad_norm': 1.8883378505706787, 'learning_rate': 1.923076923076923e-05, 'epoch': 6.95}\n"
                    ]
                },
                {
                    "data": {
                        "application/vnd.jupyter.widget-view+json": {
                            "model_id": "bcb39388532a4b1eb0f110aa9148f096",
                            "version_major": 2,
                            "version_minor": 0
                        },
                        "text/plain": [
                            "  0%|          | 0/79 [00:00<?, ?it/s]"
                        ]
                    },
                    "metadata": {},
                    "output_type": "display_data"
                },
                {
                    "name": "stdout",
                    "output_type": "stream",
                    "text": [
                        "{'eval_loss': 0.5125658512115479, 'eval_accuracy': 0.7550828126549638, 'eval_runtime': 15.924, 'eval_samples_per_second': 1266.393, 'eval_steps_per_second': 4.961, 'epoch': 7.0}\n",
                        "{'loss': 0.5119, 'grad_norm': 2.4244143962860107, 'learning_rate': 1.730769230769231e-05, 'epoch': 7.05}\n",
                        "{'loss': 0.509, 'grad_norm': 2.1597790718078613, 'learning_rate': 1.5384615384615387e-05, 'epoch': 7.16}\n",
                        "{'loss': 0.5117, 'grad_norm': 2.2433955669403076, 'learning_rate': 1.3461538461538462e-05, 'epoch': 7.26}\n",
                        "{'loss': 0.5208, 'grad_norm': 1.3145318031311035, 'learning_rate': 1.153846153846154e-05, 'epoch': 7.37}\n",
                        "{'loss': 0.5018, 'grad_norm': 1.2993314266204834, 'learning_rate': 9.615384615384616e-06, 'epoch': 7.47}\n",
                        "{'loss': 0.5049, 'grad_norm': 1.458736538887024, 'learning_rate': 7.692307692307694e-06, 'epoch': 7.58}\n",
                        "{'loss': 0.5078, 'grad_norm': 1.309504747390747, 'learning_rate': 5.76923076923077e-06, 'epoch': 7.68}\n",
                        "{'loss': 0.5019, 'grad_norm': 1.77482271194458, 'learning_rate': 3.846153846153847e-06, 'epoch': 7.79}\n",
                        "{'loss': 0.5146, 'grad_norm': 1.560828685760498, 'learning_rate': 1.9230769230769234e-06, 'epoch': 7.89}\n",
                        "{'loss': 0.5057, 'grad_norm': 1.729695200920105, 'learning_rate': 0.0, 'epoch': 8.0}\n"
                    ]
                },
                {
                    "data": {
                        "application/vnd.jupyter.widget-view+json": {
                            "model_id": "d487cb56f8934a64ac0651a21bff9dc3",
                            "version_major": 2,
                            "version_minor": 0
                        },
                        "text/plain": [
                            "  0%|          | 0/79 [00:00<?, ?it/s]"
                        ]
                    },
                    "metadata": {},
                    "output_type": "display_data"
                },
                {
                    "name": "stdout",
                    "output_type": "stream",
                    "text": [
                        "{'eval_loss': 0.5084526538848877, 'eval_accuracy': 0.7593474164435188, 'eval_runtime': 15.8522, 'eval_samples_per_second': 1272.123, 'eval_steps_per_second': 4.984, 'epoch': 8.0}\n",
                        "{'train_runtime': 363.468, 'train_samples_per_second': 532.669, 'train_steps_per_second': 2.091, 'train_loss': 0.5964150265643471, 'epoch': 8.0}\n"
                    ]
                },
                {
                    "ename": "AttributeError",
                    "evalue": "'VanillaBertClassifier' object has no attribute 'device'",
                    "output_type": "error",
                    "traceback": [
                        "\u001b[1;31m---------------------------------------------------------------------------\u001b[0m",
                        "\u001b[1;31mAttributeError\u001b[0m                            Traceback (most recent call last)",
                        "Cell \u001b[1;32mIn[12], line 1\u001b[0m\n\u001b[1;32m----> 1\u001b[0m \u001b[43mvanilla_bert_classifier\u001b[49m\u001b[38;5;241;43m.\u001b[39;49m\u001b[43mtrain_model_on_data\u001b[49m\u001b[43m(\u001b[49m\n\u001b[0;32m      2\u001b[0m \u001b[43m    \u001b[49m\u001b[43mdataset_vanilla\u001b[49m\u001b[43m,\u001b[49m\u001b[43m \u001b[49m\u001b[43mepochs\u001b[49m\u001b[38;5;241;43m=\u001b[39;49m\u001b[43mEPOCHS\u001b[49m\u001b[43m,\u001b[49m\u001b[43m \u001b[49m\u001b[43mbatch_size\u001b[49m\u001b[38;5;241;43m=\u001b[39;49m\u001b[43mBATCH_SIZE_LLM\u001b[49m\n\u001b[0;32m      3\u001b[0m \u001b[43m)\u001b[49m\n",
                        "File \u001b[1;32mc:\\Users\\MARS\\Ahmad\\Hauptprojekt\\llm_manager.py:959\u001b[0m, in \u001b[0;36mClassifierBase.train_model_on_data\u001b[1;34m(self, dataset, epochs, batch_size)\u001b[0m\n\u001b[0;32m    956\u001b[0m trainer\u001b[38;5;241m.\u001b[39mtrain()\n\u001b[0;32m    958\u001b[0m trainer\u001b[38;5;241m.\u001b[39mmodel\u001b[38;5;241m.\u001b[39mto(device\u001b[38;5;241m=\u001b[39m\u001b[38;5;124m\"\u001b[39m\u001b[38;5;124mcpu\u001b[39m\u001b[38;5;124m\"\u001b[39m)\u001b[38;5;241m.\u001b[39msave_pretrained(\u001b[38;5;28mself\u001b[39m\u001b[38;5;241m.\u001b[39mbest_model_path)  \u001b[38;5;66;03m# type: ignore\u001b[39;00m\n\u001b[1;32m--> 959\u001b[0m trainer\u001b[38;5;241m.\u001b[39mmodel\u001b[38;5;241m.\u001b[39mto(device\u001b[38;5;241m=\u001b[39m\u001b[38;5;28;43mself\u001b[39;49m\u001b[38;5;241;43m.\u001b[39;49m\u001b[43mdevice\u001b[49m)\n",
                        "\u001b[1;31mAttributeError\u001b[0m: 'VanillaBertClassifier' object has no attribute 'device'"
                    ]
                }
            ],
            "source": [
                "vanilla_bert_classifier.train_model_on_data(\n",
                "    dataset_vanilla, epochs=EPOCHS, batch_size=BATCH_SIZE_LLM\n",
                ")"
            ]
        },
        {
            "cell_type": "markdown",
            "metadata": {},
            "source": [
                "Next we initialize the prompt encoder only classifier. This classifier uses the vanilla prompt and the KGEs for its link prediction."
            ]
        }
    ],
    "metadata": {
        "kernelspec": {
            "display_name": "hauptprojekt",
            "language": "python",
            "name": "python3"
        },
        "language_info": {
            "codemirror_mode": {
                "name": "ipython",
                "version": 3
            },
            "file_extension": ".py",
            "mimetype": "text/x-python",
            "name": "python",
            "nbconvert_exporter": "python",
            "pygments_lexer": "ipython3",
            "version": "3.12.4"
        }
    },
    "nbformat": 4,
    "nbformat_minor": 2
}
