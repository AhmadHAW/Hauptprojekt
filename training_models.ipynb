{
 "cells": [
  {
   "cell_type": "markdown",
   "metadata": {},
   "source": [
    "# Training and Evaluation of GNNs and LLMs\n",
    "In this notebook, we train the models on the [MovieLens Dataset](https://movielens.org/) after the Pytorch Geometrics Tutorial on [Link Prediction](https://colab.research.google.com/drive/1xpzn1Nvai1ygd_P5Yambc_oe4VBPK_ZT?usp=sharing#scrollTo=vit8xKCiXAue).\n",
    "\n",
    "First we import all of our dependencies.\n",
    "\n",
    "The **GNNTrainer** manages and trains a GNN model. Its most important interfaces include\n",
    "**the constructor**, which defines the GNN architecture and loads the pre-trained GNN model if it is already on the hard disk,\n",
    "**the training method**, which initializes the training on the GNN model and\n",
    "**the get_embedding methods**, which represent the inference interface to the GNN model and return the corresponding embeddings in the dimension defined in the constructor for given user movie node pairs.\n",
    "\n",
    "**The MovieLensLoader** loads and manages the data sets. The most important tasks include **saving and (re)loading and transforming** the data sets.\n",
    "\n",
    "**PromptEncoderOnlyClassifier** and **VanillaEncoderOnlyClassifier** each manage a **prompt (model) LLM** and a **vanilla (model) LLM**. An EncoderOnlyClassifier (ClassifierBase) provides interfaces for training and testing an LLM model.\n",
    "PromptEncoder and VanillaEncoder differ from their DataCollectors. DataCollectors change the behavior of the models during training and testing and allow data points to be created at runtime. With the help of these collators, we **create non-existent edges on the fly**."
   ]
  },
  {
   "cell_type": "code",
   "execution_count": 1,
   "metadata": {},
   "outputs": [],
   "source": [
    "from gnn import GNNTrainer\n",
    "from dataset_preprocess import (\n",
    "    MovieLensLoader,\n",
    "    PROMPT_KGE_DIMENSION,\n",
    "    ATTENTION_KGE_DIMENSION,\n",
    ")\n",
    "from llm import (\n",
    "    PromptBertClassifier,\n",
    "    VanillaBertClassifier,\n",
    "    AttentionBertClassifierBase,\n",
    ")"
   ]
  },
  {
   "cell_type": "code",
   "execution_count": 2,
   "metadata": {},
   "outputs": [],
   "source": [
    "EPOCHS = 20\n",
    "BATCH_SIZE = 256"
   ]
  },
  {
   "cell_type": "markdown",
   "metadata": {},
   "source": [
    "We define in advance which **Knowledge Graph Embedding Dimension (KGE_DIMENSION)** the GNN encoder has. We want to determine from which output dimension the GNN encoder can produce embeddings that lead to a significant increase in performance *without exceeding the context length of the LLMs*. In the original tutorial, the KGE_DIMENSION was $64$."
   ]
  },
  {
   "cell_type": "code",
   "execution_count": 3,
   "metadata": {},
   "outputs": [],
   "source": [
    "loader = MovieLensLoader()"
   ]
  },
  {
   "cell_type": "markdown",
   "metadata": {},
   "source": [
    "First we load the MovieLensLoader, which downloads the Movie Lens dataset (https://files.grouplens.org/datasets/movielens/ml-latest-small.zip) and prepares it to be used on GNN and LLM. We also pass the embedding dimensions that we will assume we are training with. First time takes approx. 30 sec."
   ]
  },
  {
   "cell_type": "code",
   "execution_count": 4,
   "metadata": {},
   "outputs": [
    {
     "data": {
      "text/plain": [
       "HeteroData(\n",
       "  source={ node_id=[610] },\n",
       "  target={\n",
       "    node_id=[9742],\n",
       "    x=[9742, 20],\n",
       "  },\n",
       "  (source, edge, target)={ edge_index=[2, 100836] },\n",
       "  (target, rev_edge, source)={ edge_index=[2, 100836] }\n",
       ")"
      ]
     },
     "execution_count": 4,
     "metadata": {},
     "output_type": "execute_result"
    }
   ],
   "source": [
    "loader.data"
   ]
  },
  {
   "cell_type": "markdown",
   "metadata": {},
   "source": [
    "Next, we initialize the GNN trainers (possible on Cuda), one for each KGE_DIMENSION.\n",
    "A GNN trainer manages a model and each model consists of an **encoder and classifier** part.\n",
    "\n",
    "**The encoder** is a parameterized *Grap Convolutional Network (GCN)* with a *2-layer GNN computation graph* and a single *ReLU* activation function in between.\n",
    "\n",
    "**The classifier** applies the dot-product between source and destination kges to derive edge-level predictions."
   ]
  },
  {
   "cell_type": "code",
   "execution_count": 5,
   "metadata": {},
   "outputs": [
    {
     "name": "stdout",
     "output_type": "stream",
     "text": [
      "loading pretrained model\n",
      "Device: 'cuda'\n",
      "loading pretrained model\n",
      "Device: 'cuda'\n"
     ]
    }
   ],
   "source": [
    "gnn_trainer_prompt = GNNTrainer(\n",
    "    loader.data,\n",
    "    loader.gnn_train_data,\n",
    "    loader.gnn_val_data,\n",
    "    loader.gnn_test_data,\n",
    "    kge_dimension=PROMPT_KGE_DIMENSION,\n",
    ")\n",
    "gnn_trainer_attention = GNNTrainer(\n",
    "    loader.data,\n",
    "    loader.gnn_train_data,\n",
    "    loader.gnn_val_data,\n",
    "    loader.gnn_test_data,\n",
    "    hidden_channels=ATTENTION_KGE_DIMENSION,\n",
    "    kge_dimension=ATTENTION_KGE_DIMENSION,\n",
    ")"
   ]
  },
  {
   "cell_type": "markdown",
   "metadata": {},
   "source": [
    "We then train and validate the model on the link prediction task.\n",
    "\n",
    "If the model is already trained, we can skip this part.\n",
    "Training the models can take up to 5 minutes."
   ]
  },
  {
   "cell_type": "code",
   "execution_count": 6,
   "metadata": {},
   "outputs": [
    {
     "name": "stdout",
     "output_type": "stream",
     "text": [
      "Prompt Training\n",
      "Attention Training\n"
     ]
    }
   ],
   "source": [
    "print(\"Prompt Training\")\n",
    "#gnn_trainer_prompt.train_model(loader.gnn_train_data, EPOCHS, BATCH_SIZE)\n",
    "#gnn_trainer_prompt.validate_model(loader.gnn_test_data)\n",
    "print(\"Attention Training\")\n",
    "#gnn_trainer_attention.train_model(loader.gnn_train_data, EPOCHS, BATCH_SIZE)\n",
    "#gnn_trainer_attention.validate_model(loader.gnn_test_data)\n"
   ]
  },
  {
   "cell_type": "markdown",
   "metadata": {},
   "source": [
    "Next we produce the KGEs for every edge in the dataset. These embeddings can then be used for the LLM on the link-prediction task."
   ]
  },
  {
   "cell_type": "code",
   "execution_count": 8,
   "metadata": {},
   "outputs": [],
   "source": [
    "prompt_embeddings = gnn_trainer_prompt.get_saved_embeddings(\"prompt\")\n",
    "attention_embeddings = gnn_trainer_attention.get_saved_embeddings(\"attention\")\n",
    "save = False\n",
    "if prompt_embeddings is None or attention_embeddings is None:\n",
    "    prompt_embeddings = gnn_trainer_prompt.generate_embeddings(loader.llm_df)\n",
    "    attention_embeddings = gnn_trainer_attention.generate_embeddings(loader.llm_df)\n",
    "    save = True\n",
    "\n",
    "loader.append_prompt_graph_embeddings(prompt_embeddings, save=save)\n",
    "loader.append_attention_graph_embeddings(attention_embeddings, save=save)\n"
   ]
  },
  {
   "cell_type": "markdown",
   "metadata": {},
   "source": [
    "Next we initialize the vanilla encoder only classifier. This classifier does only use the NLP part of the prompt (no KGE) for predicting if the given link exists."
   ]
  },
  {
   "cell_type": "code",
   "execution_count": 9,
   "metadata": {},
   "outputs": [],
   "source": [
    "vanilla_bert_classifier = VanillaBertClassifier(\n",
    "    loader.llm_df, loader.source_df, loader.target_df\n",
    ")"
   ]
  },
  {
   "cell_type": "markdown",
   "metadata": {},
   "source": [
    "Next we generate a vanilla llm dataset and tokenize it for training."
   ]
  },
  {
   "cell_type": "code",
   "execution_count": 10,
   "metadata": {},
   "outputs": [],
   "source": [
    "dataset_vanilla = loader.generate_vanilla_dataset(\n",
    "    vanilla_bert_classifier.tokenize_function\n",
    ")"
   ]
  },
  {
   "cell_type": "markdown",
   "metadata": {},
   "source": [
    "Next we train the model on the produced dataset. This can be skipped, if already trained ones."
   ]
  },
  {
   "cell_type": "code",
   "execution_count": 11,
   "metadata": {},
   "outputs": [],
   "source": [
    "#vanilla_bert_classifier.train_model_on_data(dataset_vanilla, epochs=EPOCHS, batch_size = BATCH_SIZE)"
   ]
  },
  {
   "cell_type": "markdown",
   "metadata": {},
   "source": [
    "Next we initialize the prompt encoder only classifier. This classifier uses the vanilla prompt and the KGEs for its link prediction."
   ]
  },
  {
   "cell_type": "code",
   "execution_count": 12,
   "metadata": {},
   "outputs": [],
   "source": [
    "prompt_bert_classifier = PromptBertClassifier(\n",
    "    loader,\n",
    "    gnn_trainer_prompt.get_embedding,\n",
    "    model_max_length=512,\n",
    ")"
   ]
  },
  {
   "cell_type": "markdown",
   "metadata": {},
   "source": [
    "We also generate a prompt dataset, this time the prompts also include the KGEs."
   ]
  },
  {
   "cell_type": "code",
   "execution_count": 13,
   "metadata": {},
   "outputs": [],
   "source": [
    "dataset_prompt = loader.generate_prompt_embedding_dataset(\n",
    "    prompt_bert_classifier.tokenize_function,\n",
    ")"
   ]
  },
  {
   "cell_type": "markdown",
   "metadata": {},
   "source": [
    "We also train the model. This can be skipped if already done ones."
   ]
  },
  {
   "cell_type": "code",
   "execution_count": 14,
   "metadata": {},
   "outputs": [],
   "source": [
    "#prompt_bert_classifier.train_model_on_data(dataset_prompt, epochs=EPOCHS, batch_size = BATCH_SIZE)"
   ]
  },
  {
   "cell_type": "code",
   "execution_count": 15,
   "metadata": {},
   "outputs": [
    {
     "name": "stderr",
     "output_type": "stream",
     "text": [
      "Some weights of EmbeddingBertForSequenceClassification were not initialized from the model checkpoint at google/bert_uncased_L-2_H-128_A-2 and are newly initialized: ['classifier.bias', 'classifier.weight']\n",
      "You should probably TRAIN this model on a down-stream task to be able to use it for predictions and inference.\n"
     ]
    }
   ],
   "source": [
    "attention_bert_classifier = AttentionBertClassifierBase(\n",
    "    loader,\n",
    "    gnn_trainer_attention.get_embedding,\n",
    ")"
   ]
  },
  {
   "cell_type": "code",
   "execution_count": 16,
   "metadata": {},
   "outputs": [],
   "source": [
    "dataset_embedding = loader.generate_attention_embedding_dataset(\n",
    "    attention_bert_classifier.tokenizer.sep_token,\n",
    "    attention_bert_classifier.tokenizer.pad_token,\n",
    "    attention_bert_classifier.tokenize_function,\n",
    ")"
   ]
  },
  {
   "cell_type": "code",
   "execution_count": 17,
   "metadata": {},
   "outputs": [],
   "source": [
    "#attention_bert_classifier.train_model_on_data(dataset_embedding, epochs=EPOCHS, batch_size = BATCH_SIZE)"
   ]
  },
  {
   "cell_type": "code",
   "execution_count": 18,
   "metadata": {},
   "outputs": [],
   "source": [
    "# loader.add_false_edges(\n",
    "#     2.0, gnn_trainer_prompt.get_embedding, gnn_trainer_attention.get_embedding\n",
    "# )"
   ]
  },
  {
   "cell_type": "code",
   "execution_count": 19,
   "metadata": {},
   "outputs": [
    {
     "name": "stderr",
     "output_type": "stream",
     "text": [
      "Some weights of EmbeddingBertForSequenceClassification were not initialized from the model checkpoint at google/bert_uncased_L-2_H-128_A-2 and are newly initialized: ['classifier.bias', 'classifier.weight']\n",
      "You should probably TRAIN this model on a down-stream task to be able to use it for predictions and inference.\n"
     ]
    }
   ],
   "source": [
    "vanilla_bert_classifier = VanillaBertClassifier(\n",
    "    loader.llm_df,\n",
    "    loader.source_df,\n",
    "    loader.target_df,\n",
    "    false_ratio=-1,\n",
    ")\n",
    "prompt_bert_classifier = PromptBertClassifier(\n",
    "    loader,\n",
    "    gnn_trainer_prompt.get_embedding,\n",
    "    model_max_length=512,\n",
    "    false_ratio=-1,\n",
    ")\n",
    "attention_bert_classifier = AttentionBertClassifierBase(\n",
    "    loader,\n",
    "    gnn_trainer_attention.get_embedding,\n",
    "    false_ratio=-1,\n",
    ")\n"
   ]
  },
  {
   "cell_type": "code",
   "execution_count": 20,
   "metadata": {},
   "outputs": [],
   "source": [
    "dataset_vanilla_fixed = loader.generate_vanilla_dataset(\n",
    "    vanilla_bert_classifier.tokenize_function, suffix=\"_fixed\"\n",
    ")\n",
    "dataset_prompt_fixed = loader.generate_prompt_embedding_dataset(\n",
    "    prompt_bert_classifier.tokenize_function,\n",
    "    suffix=\"_fixed\",\n",
    ")\n",
    "dataset_attention_fixed = loader.generate_attention_embedding_dataset(\n",
    "    attention_bert_classifier.tokenizer.sep_token,\n",
    "    attention_bert_classifier.tokenizer.pad_token,\n",
    "    attention_bert_classifier.tokenize_function,\n",
    "    suffix=\"_fixed\",\n",
    ")"
   ]
  },
  {
   "cell_type": "code",
   "execution_count": 21,
   "metadata": {},
   "outputs": [
    {
     "name": "stderr",
     "output_type": "stream",
     "text": [
      "BertSdpaSelfAttention is used but `torch.nn.functional.scaled_dot_product_attention` does not support non-absolute `position_embedding_type` or `output_attentions=True` or `head_mask`. Falling back to the manual attention implementation, but specifying the manual implementation will be required from Transformers version v5.0.0 onwards. This warning can be removed using the argument `attn_implementation=\"eager\"` when loading the model.\n"
     ]
    },
    {
     "name": "stdout",
     "output_type": "stream",
     "text": [
      "Vanilla train Forward Epoch 1 from 1\n",
      "Vanilla test Forward Epoch 1 from 1\n",
      "Vanilla val Forward Epoch 1 from 1\n",
      "Prompt train Forward Epoch 1 from 1\n",
      "Prompt test Forward Epoch 1 from 1\n",
      "Prompt val Forward Epoch 1 from 1\n",
      "Adding train Forward Epoch 1 from 1\n",
      "Adding test Forward Epoch 1 from 1\n",
      "Adding val Forward Epoch 1 from 1\n"
     ]
    }
   ],
   "source": [
    "vanilla_bert_classifier.forward_dataset_and_save_outputs(\n",
    "    dataset_vanilla_fixed, epochs=1, batch_size = BATCH_SIZE\n",
    ")\n",
    "prompt_bert_classifier.forward_dataset_and_save_outputs(dataset_prompt_fixed, epochs=1)\n",
    "df = attention_bert_classifier.forward_dataset_and_save_outputs(\n",
    "    dataset_attention_fixed, epochs=1, batch_size = BATCH_SIZE\n",
    ")"
   ]
  }
 ],
 "metadata": {
  "kernelspec": {
   "display_name": "grundprojekt",
   "language": "python",
   "name": "python3"
  },
  "language_info": {
   "codemirror_mode": {
    "name": "ipython",
    "version": 3
   },
   "file_extension": ".py",
   "mimetype": "text/x-python",
   "name": "python",
   "nbconvert_exporter": "python",
   "pygments_lexer": "ipython3",
   "version": "3.12.4"
  }
 },
 "nbformat": 4,
 "nbformat_minor": 2
}
