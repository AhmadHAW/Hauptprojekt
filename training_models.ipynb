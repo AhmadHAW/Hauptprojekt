{
 "cells": [
  {
   "cell_type": "markdown",
   "metadata": {},
   "source": [
    "# Training and Evaluation of GNNs and LLMs\n",
    "In this notebook, we train the models on the [MovieLens Dataset](https://movielens.org/) after the Pytorch Geometrics Tutorial on [Link Prediction](https://colab.research.google.com/drive/1xpzn1Nvai1ygd_P5Yambc_oe4VBPK_ZT?usp=sharing#scrollTo=vit8xKCiXAue).\n",
    "\n",
    "First we import all of our dependencies.\n",
    "\n",
    "The **GNNTrainer** manages and trains a GNN model. Its most important interfaces include\n",
    "**the constructor**, which defines the GNN architecture and loads the pre-trained GNN model if it is already on the hard disk,\n",
    "**the training method**, which initializes the training on the GNN model and\n",
    "**the get_embedding methods**, which represent the inference interface to the GNN model and return the corresponding embeddings in the dimension defined in the constructor for given user movie node pairs.\n",
    "\n",
    "**The MovieLensLoader** loads and manages the data sets. The most important tasks include **saving and (re)loading and transforming** the data sets.\n",
    "\n",
    "**PromptEncoderOnlyClassifier** and **VanillaEncoderOnlyClassifier** each manage a **prompt (model) LLM** and a **vanilla (model) LLM**. An EncoderOnlyClassifier (ClassifierBase) provides interfaces for training and testing an LLM model.\n",
    "PromptEncoder and VanillaEncoder differ from their DataCollectors. DataCollectors change the behavior of the models during training and testing and allow data points to be created at runtime. With the help of these collators, we **create non-existent edges on the fly**."
   ]
  },
  {
   "cell_type": "code",
   "execution_count": 1,
   "metadata": {},
   "outputs": [],
   "source": [
    "from gnn import GNNTrainer\n",
    "from movie_lens_loader import MovieLensLoader\n",
    "from llm import PromptBertClassifier, VanillaBertClassifier, AddingEmbeddingsBertClassifierBase\n",
    "\n",
    "from transformers import AutoConfig"
   ]
  },
  {
   "cell_type": "markdown",
   "metadata": {},
   "source": [
    "We define in advance which **Knowledge Graph Embedding Dimension (KGE_DIMENSION)** the GNN encoder has. We want to determine from which output dimension the GNN encoder can produce embeddings that lead to a significant increase in performance *without exceeding the context length of the LLMs*. In the original tutorial, the KGE_DIMENSION was $64$."
   ]
  },
  {
   "cell_type": "code",
   "execution_count": 2,
   "metadata": {},
   "outputs": [],
   "source": [
    "MODEL_NAME = \"google/bert_uncased_L-2_H-128_A-2\"\n",
    "MODEL_HIDDEN_SIZE = AutoConfig.from_pretrained(MODEL_NAME).hidden_size\n",
    "SMALL_KGE_DIMENSION = 4\n",
    "LARGE_KGE_DIMENSION = MODEL_HIDDEN_SIZE\n",
    "KGE_DIMENSIONS = [SMALL_KGE_DIMENSION, LARGE_KGE_DIMENSION] # Output Dimension of the GNN Encoder.\n",
    "EPOCHS = 1\n",
    "BATCH_SIZE = 64"
   ]
  },
  {
   "cell_type": "markdown",
   "metadata": {},
   "source": [
    "First we load the MovieLensLoader, which downloads the Movie Lens dataset (https://files.grouplens.org/datasets/movielens/ml-latest-small.zip) and prepares it to be used on GNN and LLM. We also pass the embedding dimensions that we will assume we are training with. First time takes approx. 30 sec."
   ]
  },
  {
   "cell_type": "code",
   "execution_count": 3,
   "metadata": {},
   "outputs": [],
   "source": [
    "\n",
    "movie_lens_loader = MovieLensLoader(kge_dimensions = KGE_DIMENSIONS)"
   ]
  },
  {
   "cell_type": "code",
   "execution_count": 4,
   "metadata": {},
   "outputs": [
    {
     "data": {
      "text/html": [
       "<div>\n",
       "<style scoped>\n",
       "    .dataframe tbody tr th:only-of-type {\n",
       "        vertical-align: middle;\n",
       "    }\n",
       "\n",
       "    .dataframe tbody tr th {\n",
       "        vertical-align: top;\n",
       "    }\n",
       "\n",
       "    .dataframe thead th {\n",
       "        text-align: right;\n",
       "    }\n",
       "</style>\n",
       "<table border=\"1\" class=\"dataframe\">\n",
       "  <thead>\n",
       "    <tr style=\"text-align: right;\">\n",
       "      <th></th>\n",
       "      <th>mappedUserId</th>\n",
       "      <th>mappedMovieId</th>\n",
       "      <th>title</th>\n",
       "      <th>genres</th>\n",
       "      <th>labels</th>\n",
       "      <th>prompt</th>\n",
       "      <th>split</th>\n",
       "    </tr>\n",
       "  </thead>\n",
       "  <tbody>\n",
       "    <tr>\n",
       "      <th>0</th>\n",
       "      <td>0</td>\n",
       "      <td>0</td>\n",
       "      <td>Toy Story (1995)</td>\n",
       "      <td>['Adventure', 'Animation', 'Children', 'Comedy...</td>\n",
       "      <td>1</td>\n",
       "      <td>0[SEP]Toy Story (1995)[SEP]['Adventure', 'Anim...</td>\n",
       "      <td>val</td>\n",
       "    </tr>\n",
       "    <tr>\n",
       "      <th>1</th>\n",
       "      <td>0</td>\n",
       "      <td>2</td>\n",
       "      <td>Grumpier Old Men (1995)</td>\n",
       "      <td>['Comedy', 'Romance']</td>\n",
       "      <td>1</td>\n",
       "      <td>0[SEP]Grumpier Old Men (1995)[SEP]['Comedy', '...</td>\n",
       "      <td>train</td>\n",
       "    </tr>\n",
       "    <tr>\n",
       "      <th>2</th>\n",
       "      <td>0</td>\n",
       "      <td>5</td>\n",
       "      <td>Heat (1995)</td>\n",
       "      <td>['Action', 'Crime', 'Thriller']</td>\n",
       "      <td>1</td>\n",
       "      <td>0[SEP]Heat (1995)[SEP]['Action', 'Crime', 'Thr...</td>\n",
       "      <td>train</td>\n",
       "    </tr>\n",
       "    <tr>\n",
       "      <th>3</th>\n",
       "      <td>0</td>\n",
       "      <td>43</td>\n",
       "      <td>Seven (a.k.a. Se7en) (1995)</td>\n",
       "      <td>['Mystery', 'Thriller']</td>\n",
       "      <td>1</td>\n",
       "      <td>0[SEP]Seven (a.k.a. Se7en) (1995)[SEP]['Myster...</td>\n",
       "      <td>test</td>\n",
       "    </tr>\n",
       "    <tr>\n",
       "      <th>4</th>\n",
       "      <td>0</td>\n",
       "      <td>46</td>\n",
       "      <td>Usual Suspects, The (1995)</td>\n",
       "      <td>['Crime', 'Mystery', 'Thriller']</td>\n",
       "      <td>1</td>\n",
       "      <td>0[SEP]Usual Suspects, The (1995)[SEP]['Crime',...</td>\n",
       "      <td>train</td>\n",
       "    </tr>\n",
       "  </tbody>\n",
       "</table>\n",
       "</div>"
      ],
      "text/plain": [
       "   mappedUserId  mappedMovieId                        title  \\\n",
       "0             0              0             Toy Story (1995)   \n",
       "1             0              2      Grumpier Old Men (1995)   \n",
       "2             0              5                  Heat (1995)   \n",
       "3             0             43  Seven (a.k.a. Se7en) (1995)   \n",
       "4             0             46   Usual Suspects, The (1995)   \n",
       "\n",
       "                                              genres  labels  \\\n",
       "0  ['Adventure', 'Animation', 'Children', 'Comedy...       1   \n",
       "1                              ['Comedy', 'Romance']       1   \n",
       "2                    ['Action', 'Crime', 'Thriller']       1   \n",
       "3                            ['Mystery', 'Thriller']       1   \n",
       "4                   ['Crime', 'Mystery', 'Thriller']       1   \n",
       "\n",
       "                                              prompt  split  \n",
       "0  0[SEP]Toy Story (1995)[SEP]['Adventure', 'Anim...    val  \n",
       "1  0[SEP]Grumpier Old Men (1995)[SEP]['Comedy', '...  train  \n",
       "2  0[SEP]Heat (1995)[SEP]['Action', 'Crime', 'Thr...  train  \n",
       "3  0[SEP]Seven (a.k.a. Se7en) (1995)[SEP]['Myster...   test  \n",
       "4  0[SEP]Usual Suspects, The (1995)[SEP]['Crime',...  train  "
      ]
     },
     "execution_count": 4,
     "metadata": {},
     "output_type": "execute_result"
    }
   ],
   "source": [
    "movie_lens_loader.llm_df.head()"
   ]
  },
  {
   "cell_type": "markdown",
   "metadata": {},
   "source": [
    "Next, we initialize the GNN trainers (possible on Cuda), one for each KGE_DIMENSION.\n",
    "A GNN trainer manages a model and each model consists of an **encoder and classifier** part.\n",
    "\n",
    "**The encoder** is a parameterized *Grap Convolutional Network (GCN)* with a *2-layer GNN computation graph* and a single *ReLU* activation function in between.\n",
    "\n",
    "**The classifier** applies the dot-product between source and destination kges to derive edge-level predictions."
   ]
  },
  {
   "cell_type": "code",
   "execution_count": 5,
   "metadata": {},
   "outputs": [
    {
     "name": "stdout",
     "output_type": "stream",
     "text": [
      "loading pretrained model\n",
      "Device: 'cpu'\n",
      "loading pretrained model\n",
      "Device: 'cpu'\n"
     ]
    }
   ],
   "source": [
    "gnn_trainer =    GNNTrainer(movie_lens_loader.data, kge_dimension = SMALL_KGE_DIMENSION)\n",
    "gnn_trainer_large = GNNTrainer(movie_lens_loader.data, hidden_channels=MODEL_HIDDEN_SIZE, kge_dimension=MODEL_HIDDEN_SIZE)"
   ]
  },
  {
   "cell_type": "markdown",
   "metadata": {},
   "source": [
    "We then train and validate the model on the link prediction task.\n",
    "\n",
    "If the model is already trained, we can skip this part.\n",
    "Training the models can take up to 5 minutes."
   ]
  },
  {
   "cell_type": "code",
   "execution_count": 6,
   "metadata": {},
   "outputs": [
    {
     "name": "stdout",
     "output_type": "stream",
     "text": [
      "4\n"
     ]
    },
    {
     "name": "stderr",
     "output_type": "stream",
     "text": [
      "100%|██████████| 190/190 [00:03<00:00, 49.38it/s]\n"
     ]
    },
    {
     "name": "stdout",
     "output_type": "stream",
     "text": [
      "Epoch: 001, Loss: 0.3376\n"
     ]
    },
    {
     "name": "stderr",
     "output_type": "stream",
     "text": [
      "100%|██████████| 79/79 [00:00<00:00, 127.63it/s]\n"
     ]
    },
    {
     "name": "stdout",
     "output_type": "stream",
     "text": [
      "\n",
      "Validation AUC: 0.9006\n",
      "128\n"
     ]
    },
    {
     "name": "stderr",
     "output_type": "stream",
     "text": [
      "100%|██████████| 190/190 [00:06<00:00, 27.22it/s]\n"
     ]
    },
    {
     "name": "stdout",
     "output_type": "stream",
     "text": [
      "Epoch: 001, Loss: 0.3239\n"
     ]
    },
    {
     "name": "stderr",
     "output_type": "stream",
     "text": [
      "100%|██████████| 79/79 [00:00<00:00, 96.22it/s] "
     ]
    },
    {
     "name": "stdout",
     "output_type": "stream",
     "text": [
      "\n",
      "Validation AUC: 0.9208\n"
     ]
    },
    {
     "name": "stderr",
     "output_type": "stream",
     "text": [
      "\n"
     ]
    }
   ],
   "source": [
    "\n",
    "print(gnn_trainer.kge_dimension)\n",
    "gnn_trainer.train_model(movie_lens_loader.gnn_train_data, EPOCHS)\n",
    "gnn_trainer.validate_model(movie_lens_loader.gnn_test_data)\n",
    "print(gnn_trainer_large.kge_dimension)\n",
    "gnn_trainer_large.train_model(movie_lens_loader.gnn_train_data, EPOCHS)\n",
    "gnn_trainer_large.validate_model(movie_lens_loader.gnn_test_data)\n"
   ]
  },
  {
   "cell_type": "markdown",
   "metadata": {},
   "source": [
    "Next we produce the KGEs for every edge in the dataset. These embeddings can then be used for the LLM on the link-prediction task."
   ]
  },
  {
   "cell_type": "code",
   "execution_count": 7,
   "metadata": {},
   "outputs": [
    {
     "data": {
      "text/html": [
       "<div>\n",
       "<style scoped>\n",
       "    .dataframe tbody tr th:only-of-type {\n",
       "        vertical-align: middle;\n",
       "    }\n",
       "\n",
       "    .dataframe tbody tr th {\n",
       "        vertical-align: top;\n",
       "    }\n",
       "\n",
       "    .dataframe thead th {\n",
       "        text-align: right;\n",
       "    }\n",
       "</style>\n",
       "<table border=\"1\" class=\"dataframe\">\n",
       "  <thead>\n",
       "    <tr style=\"text-align: right;\">\n",
       "      <th></th>\n",
       "      <th>mappedUserId</th>\n",
       "      <th>mappedMovieId</th>\n",
       "      <th>title</th>\n",
       "      <th>genres</th>\n",
       "      <th>labels</th>\n",
       "      <th>prompt</th>\n",
       "      <th>split</th>\n",
       "      <th>user_embedding_4</th>\n",
       "      <th>movie_embedding_4</th>\n",
       "      <th>user_embedding_128</th>\n",
       "      <th>movie_embedding_128</th>\n",
       "    </tr>\n",
       "  </thead>\n",
       "  <tbody>\n",
       "    <tr>\n",
       "      <th>0</th>\n",
       "      <td>0</td>\n",
       "      <td>0</td>\n",
       "      <td>Toy Story (1995)</td>\n",
       "      <td>['Adventure', 'Animation', 'Children', 'Comedy...</td>\n",
       "      <td>1</td>\n",
       "      <td>0[SEP]Toy Story (1995)[SEP]['Adventure', 'Anim...</td>\n",
       "      <td>val</td>\n",
       "      <td>[-1.4025567770004272, 0.6816163659095764, -3.0...</td>\n",
       "      <td>[0.7183933258056641, -0.7495675086975098, -0.5...</td>\n",
       "      <td>[-0.13522014021873474, 0.16583335399627686, 0....</td>\n",
       "      <td>[-0.15604138374328613, 0.22537894546985626, 0....</td>\n",
       "    </tr>\n",
       "    <tr>\n",
       "      <th>1</th>\n",
       "      <td>0</td>\n",
       "      <td>2</td>\n",
       "      <td>Grumpier Old Men (1995)</td>\n",
       "      <td>['Comedy', 'Romance']</td>\n",
       "      <td>1</td>\n",
       "      <td>0[SEP]Grumpier Old Men (1995)[SEP]['Comedy', '...</td>\n",
       "      <td>train</td>\n",
       "      <td>[-1.0757461786270142, 0.6430796384811401, -2.7...</td>\n",
       "      <td>[0.8827657103538513, -0.8039241433143616, -0.1...</td>\n",
       "      <td>[-0.13852912187576294, 0.22851958870887756, 0....</td>\n",
       "      <td>[-0.5181198120117188, 0.18665221333503723, 0.4...</td>\n",
       "    </tr>\n",
       "    <tr>\n",
       "      <th>2</th>\n",
       "      <td>0</td>\n",
       "      <td>5</td>\n",
       "      <td>Heat (1995)</td>\n",
       "      <td>['Action', 'Crime', 'Thriller']</td>\n",
       "      <td>1</td>\n",
       "      <td>0[SEP]Heat (1995)[SEP]['Action', 'Crime', 'Thr...</td>\n",
       "      <td>train</td>\n",
       "      <td>[-1.1887747049331665, 0.6766993999481201, -2.8...</td>\n",
       "      <td>[0.3578329086303711, -0.37480437755584717, -0....</td>\n",
       "      <td>[-0.1273198425769806, 0.21016445755958557, 0.3...</td>\n",
       "      <td>[0.25531184673309326, 0.1213562935590744, 0.42...</td>\n",
       "    </tr>\n",
       "    <tr>\n",
       "      <th>3</th>\n",
       "      <td>0</td>\n",
       "      <td>43</td>\n",
       "      <td>Seven (a.k.a. Se7en) (1995)</td>\n",
       "      <td>['Mystery', 'Thriller']</td>\n",
       "      <td>1</td>\n",
       "      <td>0[SEP]Seven (a.k.a. Se7en) (1995)[SEP]['Myster...</td>\n",
       "      <td>test</td>\n",
       "      <td>[-1.2844634056091309, 0.6699168682098389, -2.9...</td>\n",
       "      <td>[0.49199721217155457, -0.14119231700897217, -0...</td>\n",
       "      <td>[-0.13550306856632233, 0.21558162569999695, 0....</td>\n",
       "      <td>[0.18766692280769348, 0.1714116334915161, 0.47...</td>\n",
       "    </tr>\n",
       "    <tr>\n",
       "      <th>4</th>\n",
       "      <td>0</td>\n",
       "      <td>46</td>\n",
       "      <td>Usual Suspects, The (1995)</td>\n",
       "      <td>['Crime', 'Mystery', 'Thriller']</td>\n",
       "      <td>1</td>\n",
       "      <td>0[SEP]Usual Suspects, The (1995)[SEP]['Crime',...</td>\n",
       "      <td>train</td>\n",
       "      <td>[-1.028777003288269, 0.6010562181472778, -2.48...</td>\n",
       "      <td>[0.6986081004142761, -0.4587530195713043, -0.2...</td>\n",
       "      <td>[-0.2011059671640396, 0.22581297159194946, 0.3...</td>\n",
       "      <td>[0.05735247954726219, 0.24271981418132782, 0.4...</td>\n",
       "    </tr>\n",
       "  </tbody>\n",
       "</table>\n",
       "</div>"
      ],
      "text/plain": [
       "   mappedUserId  mappedMovieId                        title  \\\n",
       "0             0              0             Toy Story (1995)   \n",
       "1             0              2      Grumpier Old Men (1995)   \n",
       "2             0              5                  Heat (1995)   \n",
       "3             0             43  Seven (a.k.a. Se7en) (1995)   \n",
       "4             0             46   Usual Suspects, The (1995)   \n",
       "\n",
       "                                              genres  labels  \\\n",
       "0  ['Adventure', 'Animation', 'Children', 'Comedy...       1   \n",
       "1                              ['Comedy', 'Romance']       1   \n",
       "2                    ['Action', 'Crime', 'Thriller']       1   \n",
       "3                            ['Mystery', 'Thriller']       1   \n",
       "4                   ['Crime', 'Mystery', 'Thriller']       1   \n",
       "\n",
       "                                              prompt  split  \\\n",
       "0  0[SEP]Toy Story (1995)[SEP]['Adventure', 'Anim...    val   \n",
       "1  0[SEP]Grumpier Old Men (1995)[SEP]['Comedy', '...  train   \n",
       "2  0[SEP]Heat (1995)[SEP]['Action', 'Crime', 'Thr...  train   \n",
       "3  0[SEP]Seven (a.k.a. Se7en) (1995)[SEP]['Myster...   test   \n",
       "4  0[SEP]Usual Suspects, The (1995)[SEP]['Crime',...  train   \n",
       "\n",
       "                                    user_embedding_4  \\\n",
       "0  [-1.4025567770004272, 0.6816163659095764, -3.0...   \n",
       "1  [-1.0757461786270142, 0.6430796384811401, -2.7...   \n",
       "2  [-1.1887747049331665, 0.6766993999481201, -2.8...   \n",
       "3  [-1.2844634056091309, 0.6699168682098389, -2.9...   \n",
       "4  [-1.028777003288269, 0.6010562181472778, -2.48...   \n",
       "\n",
       "                                   movie_embedding_4  \\\n",
       "0  [0.7183933258056641, -0.7495675086975098, -0.5...   \n",
       "1  [0.8827657103538513, -0.8039241433143616, -0.1...   \n",
       "2  [0.3578329086303711, -0.37480437755584717, -0....   \n",
       "3  [0.49199721217155457, -0.14119231700897217, -0...   \n",
       "4  [0.6986081004142761, -0.4587530195713043, -0.2...   \n",
       "\n",
       "                                  user_embedding_128  \\\n",
       "0  [-0.13522014021873474, 0.16583335399627686, 0....   \n",
       "1  [-0.13852912187576294, 0.22851958870887756, 0....   \n",
       "2  [-0.1273198425769806, 0.21016445755958557, 0.3...   \n",
       "3  [-0.13550306856632233, 0.21558162569999695, 0....   \n",
       "4  [-0.2011059671640396, 0.22581297159194946, 0.3...   \n",
       "\n",
       "                                 movie_embedding_128  \n",
       "0  [-0.15604138374328613, 0.22537894546985626, 0....  \n",
       "1  [-0.5181198120117188, 0.18665221333503723, 0.4...  \n",
       "2  [0.25531184673309326, 0.1213562935590744, 0.42...  \n",
       "3  [0.18766692280769348, 0.1714116334915161, 0.47...  \n",
       "4  [0.05735247954726219, 0.24271981418132782, 0.4...  "
      ]
     },
     "execution_count": 7,
     "metadata": {},
     "output_type": "execute_result"
    }
   ],
   "source": [
    "gnn_trainer.get_embeddings(movie_lens_loader)\n",
    "gnn_trainer_large.get_embeddings(movie_lens_loader)\n",
    "movie_lens_loader.llm_df.head()"
   ]
  },
  {
   "cell_type": "markdown",
   "metadata": {},
   "source": [
    "Next we initialize the vanilla encoder only classifier. This classifier does only use the NLP part of the prompt (no KGE) for predicting if the given link exists."
   ]
  },
  {
   "cell_type": "code",
   "execution_count": 8,
   "metadata": {},
   "outputs": [],
   "source": [
    "vanilla_bert_classifier = VanillaBertClassifier(movie_lens_loader.llm_df, batch_size=BATCH_SIZE, model_name=MODEL_NAME)"
   ]
  },
  {
   "cell_type": "markdown",
   "metadata": {},
   "source": [
    "Next we generate a vanilla llm dataset and tokenize it for training."
   ]
  },
  {
   "cell_type": "code",
   "execution_count": 9,
   "metadata": {},
   "outputs": [],
   "source": [
    "dataset_vanilla = movie_lens_loader.generate_vanilla_dataset(vanilla_bert_classifier.tokenize_function)"
   ]
  },
  {
   "cell_type": "markdown",
   "metadata": {},
   "source": [
    "Next we train the model on the produced dataset. This can be skipped, if already trained ones."
   ]
  },
  {
   "cell_type": "code",
   "execution_count": 10,
   "metadata": {},
   "outputs": [],
   "source": [
    "#vanilla_bert_classifier.train_model_on_data(dataset_vanilla, epochs=EPOCHS)"
   ]
  },
  {
   "cell_type": "markdown",
   "metadata": {},
   "source": [
    "Next we initialize the prompt encoder only classifier. This classifier uses the vanilla prompt and the KGEs for its link prediction."
   ]
  },
  {
   "cell_type": "code",
   "execution_count": 11,
   "metadata": {},
   "outputs": [
    {
     "name": "stderr",
     "output_type": "stream",
     "text": [
      "Some weights of BertForSequenceClassificationRanges were not initialized from the model checkpoint at google/bert_uncased_L-2_H-128_A-2 and are newly initialized: ['classifier.bias', 'classifier.weight']\n",
      "You should probably TRAIN this model on a down-stream task to be able to use it for predictions and inference.\n"
     ]
    }
   ],
   "source": [
    "prompt_bert_classifier = PromptBertClassifier(movie_lens_loader, gnn_trainer.get_embedding, kge_dimension=SMALL_KGE_DIMENSION, batch_size=BATCH_SIZE, model_max_length = 512, model_name=MODEL_NAME)"
   ]
  },
  {
   "cell_type": "markdown",
   "metadata": {},
   "source": [
    "We also generate a prompt dataset, this time the prompts also include the KGEs."
   ]
  },
  {
   "cell_type": "code",
   "execution_count": 12,
   "metadata": {},
   "outputs": [],
   "source": [
    "dataset_prompt = movie_lens_loader.generate_prompt_embedding_dataset(prompt_bert_classifier.tokenize_function, kge_dimension = prompt_bert_classifier.kge_dimension)"
   ]
  },
  {
   "cell_type": "markdown",
   "metadata": {},
   "source": [
    "We also train the model. This can be skipped if already done ones."
   ]
  },
  {
   "cell_type": "code",
   "execution_count": 13,
   "metadata": {},
   "outputs": [],
   "source": [
    "#prompt_bert_classifier.train_model_on_data(dataset_prompt, epochs = EPOCHS)"
   ]
  },
  {
   "cell_type": "code",
   "execution_count": 14,
   "metadata": {},
   "outputs": [
    {
     "name": "stderr",
     "output_type": "stream",
     "text": [
      "Some weights of AddingEmbeddingBertForSequenceClassification were not initialized from the model checkpoint at google/bert_uncased_L-2_H-128_A-2 and are newly initialized: ['classifier.bias', 'classifier.weight']\n",
      "You should probably TRAIN this model on a down-stream task to be able to use it for predictions and inference.\n"
     ]
    },
    {
     "data": {
      "application/vnd.jupyter.widget-view+json": {
       "model_id": "bd46433abfe04035887bb225c13d64ce",
       "version_major": 2,
       "version_minor": 0
      },
      "text/plain": [
       "Map:   0%|          | 0/56469 [00:00<?, ? examples/s]"
      ]
     },
     "metadata": {},
     "output_type": "display_data"
    },
    {
     "data": {
      "application/vnd.jupyter.widget-view+json": {
       "model_id": "f6428a8e432344e992fa0429ef896062",
       "version_major": 2,
       "version_minor": 0
      },
      "text/plain": [
       "Map:   0%|          | 0/17142 [00:00<?, ? examples/s]"
      ]
     },
     "metadata": {},
     "output_type": "display_data"
    },
    {
     "data": {
      "application/vnd.jupyter.widget-view+json": {
       "model_id": "a508653bfa8f4ac9acb133b58acb190a",
       "version_major": 2,
       "version_minor": 0
      },
      "text/plain": [
       "Map:   0%|          | 0/17142 [00:00<?, ? examples/s]"
      ]
     },
     "metadata": {},
     "output_type": "display_data"
    },
    {
     "data": {
      "application/vnd.jupyter.widget-view+json": {
       "model_id": "79ad55b3ca654902a32c9cfebfb0c569",
       "version_major": 2,
       "version_minor": 0
      },
      "text/plain": [
       "Saving the dataset (0/1 shards):   0%|          | 0/56469 [00:00<?, ? examples/s]"
      ]
     },
     "metadata": {},
     "output_type": "display_data"
    },
    {
     "data": {
      "application/vnd.jupyter.widget-view+json": {
       "model_id": "e140bdab9f1c403f999f48815f2f7024",
       "version_major": 2,
       "version_minor": 0
      },
      "text/plain": [
       "Saving the dataset (0/1 shards):   0%|          | 0/17142 [00:00<?, ? examples/s]"
      ]
     },
     "metadata": {},
     "output_type": "display_data"
    },
    {
     "data": {
      "application/vnd.jupyter.widget-view+json": {
       "model_id": "38f038ede48348119081f08aa4eb6fce",
       "version_major": 2,
       "version_minor": 0
      },
      "text/plain": [
       "Saving the dataset (0/1 shards):   0%|          | 0/17142 [00:00<?, ? examples/s]"
      ]
     },
     "metadata": {},
     "output_type": "display_data"
    }
   ],
   "source": [
    "adding_embedding_bert_only_classifier = AddingEmbeddingsBertClassifierBase(movie_lens_loader, gnn_trainer_large.get_embedding, kge_dimension=MODEL_HIDDEN_SIZE, batch_size=BATCH_SIZE, model_name=MODEL_NAME)\n",
    "dataset_adding_embedding = movie_lens_loader.generate_adding_embedding_dataset(adding_embedding_bert_only_classifier.tokenizer.sep_token, adding_embedding_bert_only_classifier.tokenizer.pad_token, adding_embedding_bert_only_classifier.tokenize_function, kge_dimension = MODEL_HIDDEN_SIZE)"
   ]
  },
  {
   "cell_type": "code",
   "execution_count": 15,
   "metadata": {},
   "outputs": [
    {
     "data": {
      "application/vnd.jupyter.widget-view+json": {
       "model_id": "7a61cb37fa8b4d85ad2d526d47265398",
       "version_major": 2,
       "version_minor": 0
      },
      "text/plain": [
       "  0%|          | 0/883 [00:00<?, ?it/s]"
      ]
     },
     "metadata": {},
     "output_type": "display_data"
    },
    {
     "ename": "",
     "evalue": "",
     "output_type": "error",
     "traceback": [
      "\u001b[1;31mThe Kernel crashed while executing code in the current cell or a previous cell. \n",
      "\u001b[1;31mPlease review the code in the cell(s) to identify a possible cause of the failure. \n",
      "\u001b[1;31mClick <a href='https://aka.ms/vscodeJupyterKernelCrash'>here</a> for more info. \n",
      "\u001b[1;31mView Jupyter <a href='command:jupyter.viewOutput'>log</a> for further details."
     ]
    }
   ],
   "source": [
    "#adding_embedding_bert_only_classifier.train_model_on_data(dataset_adding_embedding, epochs = EPOCHS)"
   ]
  },
  {
   "cell_type": "code",
   "execution_count": null,
   "metadata": {},
   "outputs": [
    {
     "name": "stdout",
     "output_type": "stream",
     "text": [
      "Adding 656 false edges for train.\n",
      "Adding 196 false edges for test.\n",
      "Adding 172 false edges for val.\n"
     ]
    },
    {
     "data": {
      "text/html": [
       "<div>\n",
       "<style scoped>\n",
       "    .dataframe tbody tr th:only-of-type {\n",
       "        vertical-align: middle;\n",
       "    }\n",
       "\n",
       "    .dataframe tbody tr th {\n",
       "        vertical-align: top;\n",
       "    }\n",
       "\n",
       "    .dataframe thead th {\n",
       "        text-align: right;\n",
       "    }\n",
       "</style>\n",
       "<table border=\"1\" class=\"dataframe\">\n",
       "  <thead>\n",
       "    <tr style=\"text-align: right;\">\n",
       "      <th></th>\n",
       "      <th>mappedUserId</th>\n",
       "      <th>mappedMovieId</th>\n",
       "      <th>title</th>\n",
       "      <th>genres</th>\n",
       "      <th>prompt</th>\n",
       "      <th>split</th>\n",
       "      <th>labels</th>\n",
       "      <th>user_embedding_4</th>\n",
       "      <th>movie_embedding_4</th>\n",
       "      <th>user_embedding_128</th>\n",
       "      <th>movie_embedding_128</th>\n",
       "    </tr>\n",
       "  </thead>\n",
       "  <tbody>\n",
       "    <tr>\n",
       "      <th>0</th>\n",
       "      <td>180</td>\n",
       "      <td>910</td>\n",
       "      <td>Once Upon a Time in the West (C'era una volta ...</td>\n",
       "      <td>['Action', 'Drama', 'Western']</td>\n",
       "      <td>180[SEP]Once Upon a Time in the West (C'era un...</td>\n",
       "      <td>train</td>\n",
       "      <td>1</td>\n",
       "      <td>[0.838445246219635, -0.37525758147239685, -2.3...</td>\n",
       "      <td>[1.3539336919784546, -1.3562633991241455, -0.4...</td>\n",
       "      <td>[0.040662720799446106, 0.06649568676948547, -0...</td>\n",
       "      <td>[-0.4420027732849121, -0.9158413410186768, 0.3...</td>\n",
       "    </tr>\n",
       "    <tr>\n",
       "      <th>1</th>\n",
       "      <td>83</td>\n",
       "      <td>5738</td>\n",
       "      <td>Aviator, The (2004)</td>\n",
       "      <td>['Drama']</td>\n",
       "      <td>83[SEP]Aviator, The (2004)[SEP]['Drama']</td>\n",
       "      <td>train</td>\n",
       "      <td>1</td>\n",
       "      <td>[-0.5373823046684265, 0.5054466724395752, -3.0...</td>\n",
       "      <td>[-0.1709502637386322, -1.4477055072784424, -1....</td>\n",
       "      <td>[-0.41327977180480957, -0.916988730430603, -0....</td>\n",
       "      <td>[-0.3103116750717163, 0.22894519567489624, -0....</td>\n",
       "    </tr>\n",
       "    <tr>\n",
       "      <th>2</th>\n",
       "      <td>260</td>\n",
       "      <td>656</td>\n",
       "      <td>Escape from L.A. (1996)</td>\n",
       "      <td>['Action', 'Adventure', 'Sci-Fi', 'Thriller']</td>\n",
       "      <td>260[SEP]Escape from L.A. (1996)[SEP]['Action',...</td>\n",
       "      <td>train</td>\n",
       "      <td>1</td>\n",
       "      <td>[-0.9165530800819397, 1.343902349472046, -2.71...</td>\n",
       "      <td>[1.0745933055877686, -0.7053966522216797, -0.6...</td>\n",
       "      <td>[0.09863702952861786, 0.3924756944179535, 0.99...</td>\n",
       "      <td>[0.04699868708848953, -0.07751499116420746, 0....</td>\n",
       "    </tr>\n",
       "    <tr>\n",
       "      <th>3</th>\n",
       "      <td>355</td>\n",
       "      <td>1576</td>\n",
       "      <td>Indiana Jones and the Temple of Doom (1984)</td>\n",
       "      <td>['Action', 'Adventure', 'Fantasy']</td>\n",
       "      <td>355[SEP]Indiana Jones and the Temple of Doom (...</td>\n",
       "      <td>train</td>\n",
       "      <td>1</td>\n",
       "      <td>[0.834461510181427, 0.3378297686576843, -2.922...</td>\n",
       "      <td>[0.6744173765182495, -0.8369619846343994, -1.1...</td>\n",
       "      <td>[-0.06641509383916855, -0.24213919043540955, -...</td>\n",
       "      <td>[-0.00337088480591774, -0.00557747483253479, 0...</td>\n",
       "    </tr>\n",
       "    <tr>\n",
       "      <th>4</th>\n",
       "      <td>229</td>\n",
       "      <td>4643</td>\n",
       "      <td>Gloomy Sunday (Ein Lied von Liebe und Tod) (1999)</td>\n",
       "      <td>['Drama', 'Romance']</td>\n",
       "      <td>229[SEP]Gloomy Sunday (Ein Lied von Liebe und ...</td>\n",
       "      <td>train</td>\n",
       "      <td>1</td>\n",
       "      <td>[0.018658041954040527, -0.3827669322490692, -3...</td>\n",
       "      <td>[0.11454576253890991, -2.884582996368408, 0.77...</td>\n",
       "      <td>[-0.010033026337623596, -0.3314223289489746, 0...</td>\n",
       "      <td>[-0.6175022125244141, 0.7383372783660889, -1.0...</td>\n",
       "    </tr>\n",
       "    <tr>\n",
       "      <th>...</th>\n",
       "      <td>...</td>\n",
       "      <td>...</td>\n",
       "      <td>...</td>\n",
       "      <td>...</td>\n",
       "      <td>...</td>\n",
       "      <td>...</td>\n",
       "      <td>...</td>\n",
       "      <td>...</td>\n",
       "      <td>...</td>\n",
       "      <td>...</td>\n",
       "      <td>...</td>\n",
       "    </tr>\n",
       "    <tr>\n",
       "      <th>1531</th>\n",
       "      <td>131</td>\n",
       "      <td>1730</td>\n",
       "      <td>Life Is Beautiful (La Vita è bella) (1997)</td>\n",
       "      <td>['Comedy', 'Drama', 'Romance', 'War']</td>\n",
       "      <td>131[SEP]Life Is Beautiful (La Vita è bella) (1...</td>\n",
       "      <td>val</td>\n",
       "      <td>0</td>\n",
       "      <td>[0.6431354284286499, -0.11565425246953964, -2....</td>\n",
       "      <td>[0.3669813871383667, -0.5662603378295898, -1.3...</td>\n",
       "      <td>[0.21160167455673218, -0.4200924336910248, -0....</td>\n",
       "      <td>[-0.26695168018341064, 0.08760415017604828, -0...</td>\n",
       "    </tr>\n",
       "    <tr>\n",
       "      <th>1532</th>\n",
       "      <td>310</td>\n",
       "      <td>3898</td>\n",
       "      <td>Halloween: Resurrection (Halloween 8) (2002)</td>\n",
       "      <td>['Horror', 'Thriller']</td>\n",
       "      <td>310[SEP]Halloween: Resurrection (Halloween 8) ...</td>\n",
       "      <td>val</td>\n",
       "      <td>0</td>\n",
       "      <td>[0.19500422477722168, -0.1430656909942627, -3....</td>\n",
       "      <td>[0.6304952502250671, -1.9827512502670288, 0.07...</td>\n",
       "      <td>[0.06075066328048706, -0.44455862045288086, -0...</td>\n",
       "      <td>[0.12356743216514587, -0.02117633819580078, 0....</td>\n",
       "    </tr>\n",
       "    <tr>\n",
       "      <th>1533</th>\n",
       "      <td>566</td>\n",
       "      <td>1063</td>\n",
       "      <td>Grease (1978)</td>\n",
       "      <td>['Comedy', 'Musical', 'Romance']</td>\n",
       "      <td>566[SEP]Grease (1978)[SEP]['Comedy', 'Musical'...</td>\n",
       "      <td>val</td>\n",
       "      <td>0</td>\n",
       "      <td>[0.24057187139987946, 0.04831351339817047, -3....</td>\n",
       "      <td>[1.3200078010559082, -0.9709514379501343, -0.7...</td>\n",
       "      <td>[0.005273051559925079, 0.0785430520772934, -0....</td>\n",
       "      <td>[-0.4090748727321625, 0.06467289477586746, 0.1...</td>\n",
       "    </tr>\n",
       "    <tr>\n",
       "      <th>1534</th>\n",
       "      <td>532</td>\n",
       "      <td>1073</td>\n",
       "      <td>Jerry Maguire (1996)</td>\n",
       "      <td>['Drama', 'Romance']</td>\n",
       "      <td>532[SEP]Jerry Maguire (1996)[SEP]['Drama', 'Ro...</td>\n",
       "      <td>val</td>\n",
       "      <td>0</td>\n",
       "      <td>[0.15030480921268463, 0.42936304211616516, -2....</td>\n",
       "      <td>[1.0465419292449951, -0.7236583232879639, -0.8...</td>\n",
       "      <td>[-0.06371378898620605, -0.9162569642066956, 0....</td>\n",
       "      <td>[-0.43918490409851074, 0.23587584495544434, -0...</td>\n",
       "    </tr>\n",
       "    <tr>\n",
       "      <th>1535</th>\n",
       "      <td>75</td>\n",
       "      <td>4662</td>\n",
       "      <td>Journeys with George (2002)</td>\n",
       "      <td>['Documentary']</td>\n",
       "      <td>75[SEP]Journeys with George (2002)[SEP]['Docum...</td>\n",
       "      <td>val</td>\n",
       "      <td>0</td>\n",
       "      <td>[1.321106195449829, -0.7677293419837952, -1.54...</td>\n",
       "      <td>[1.8359227180480957, -2.3582589626312256, 1.83...</td>\n",
       "      <td>[-0.4221740663051605, -0.2139803171157837, -0....</td>\n",
       "      <td>[-0.9802427887916565, 0.6551151275634766, -0.8...</td>\n",
       "    </tr>\n",
       "  </tbody>\n",
       "</table>\n",
       "<p>1536 rows × 11 columns</p>\n",
       "</div>"
      ],
      "text/plain": [
       "      mappedUserId  mappedMovieId  \\\n",
       "0              180            910   \n",
       "1               83           5738   \n",
       "2              260            656   \n",
       "3              355           1576   \n",
       "4              229           4643   \n",
       "...            ...            ...   \n",
       "1531           131           1730   \n",
       "1532           310           3898   \n",
       "1533           566           1063   \n",
       "1534           532           1073   \n",
       "1535            75           4662   \n",
       "\n",
       "                                                  title  \\\n",
       "0     Once Upon a Time in the West (C'era una volta ...   \n",
       "1                                   Aviator, The (2004)   \n",
       "2                               Escape from L.A. (1996)   \n",
       "3           Indiana Jones and the Temple of Doom (1984)   \n",
       "4     Gloomy Sunday (Ein Lied von Liebe und Tod) (1999)   \n",
       "...                                                 ...   \n",
       "1531         Life Is Beautiful (La Vita è bella) (1997)   \n",
       "1532       Halloween: Resurrection (Halloween 8) (2002)   \n",
       "1533                                      Grease (1978)   \n",
       "1534                               Jerry Maguire (1996)   \n",
       "1535                        Journeys with George (2002)   \n",
       "\n",
       "                                             genres  \\\n",
       "0                    ['Action', 'Drama', 'Western']   \n",
       "1                                         ['Drama']   \n",
       "2     ['Action', 'Adventure', 'Sci-Fi', 'Thriller']   \n",
       "3                ['Action', 'Adventure', 'Fantasy']   \n",
       "4                              ['Drama', 'Romance']   \n",
       "...                                             ...   \n",
       "1531          ['Comedy', 'Drama', 'Romance', 'War']   \n",
       "1532                         ['Horror', 'Thriller']   \n",
       "1533               ['Comedy', 'Musical', 'Romance']   \n",
       "1534                           ['Drama', 'Romance']   \n",
       "1535                                ['Documentary']   \n",
       "\n",
       "                                                 prompt  split  labels  \\\n",
       "0     180[SEP]Once Upon a Time in the West (C'era un...  train       1   \n",
       "1              83[SEP]Aviator, The (2004)[SEP]['Drama']  train       1   \n",
       "2     260[SEP]Escape from L.A. (1996)[SEP]['Action',...  train       1   \n",
       "3     355[SEP]Indiana Jones and the Temple of Doom (...  train       1   \n",
       "4     229[SEP]Gloomy Sunday (Ein Lied von Liebe und ...  train       1   \n",
       "...                                                 ...    ...     ...   \n",
       "1531  131[SEP]Life Is Beautiful (La Vita è bella) (1...    val       0   \n",
       "1532  310[SEP]Halloween: Resurrection (Halloween 8) ...    val       0   \n",
       "1533  566[SEP]Grease (1978)[SEP]['Comedy', 'Musical'...    val       0   \n",
       "1534  532[SEP]Jerry Maguire (1996)[SEP]['Drama', 'Ro...    val       0   \n",
       "1535  75[SEP]Journeys with George (2002)[SEP]['Docum...    val       0   \n",
       "\n",
       "                                       user_embedding_4  \\\n",
       "0     [0.838445246219635, -0.37525758147239685, -2.3...   \n",
       "1     [-0.5373823046684265, 0.5054466724395752, -3.0...   \n",
       "2     [-0.9165530800819397, 1.343902349472046, -2.71...   \n",
       "3     [0.834461510181427, 0.3378297686576843, -2.922...   \n",
       "4     [0.018658041954040527, -0.3827669322490692, -3...   \n",
       "...                                                 ...   \n",
       "1531  [0.6431354284286499, -0.11565425246953964, -2....   \n",
       "1532  [0.19500422477722168, -0.1430656909942627, -3....   \n",
       "1533  [0.24057187139987946, 0.04831351339817047, -3....   \n",
       "1534  [0.15030480921268463, 0.42936304211616516, -2....   \n",
       "1535  [1.321106195449829, -0.7677293419837952, -1.54...   \n",
       "\n",
       "                                      movie_embedding_4  \\\n",
       "0     [1.3539336919784546, -1.3562633991241455, -0.4...   \n",
       "1     [-0.1709502637386322, -1.4477055072784424, -1....   \n",
       "2     [1.0745933055877686, -0.7053966522216797, -0.6...   \n",
       "3     [0.6744173765182495, -0.8369619846343994, -1.1...   \n",
       "4     [0.11454576253890991, -2.884582996368408, 0.77...   \n",
       "...                                                 ...   \n",
       "1531  [0.3669813871383667, -0.5662603378295898, -1.3...   \n",
       "1532  [0.6304952502250671, -1.9827512502670288, 0.07...   \n",
       "1533  [1.3200078010559082, -0.9709514379501343, -0.7...   \n",
       "1534  [1.0465419292449951, -0.7236583232879639, -0.8...   \n",
       "1535  [1.8359227180480957, -2.3582589626312256, 1.83...   \n",
       "\n",
       "                                     user_embedding_128  \\\n",
       "0     [0.040662720799446106, 0.06649568676948547, -0...   \n",
       "1     [-0.41327977180480957, -0.916988730430603, -0....   \n",
       "2     [0.09863702952861786, 0.3924756944179535, 0.99...   \n",
       "3     [-0.06641509383916855, -0.24213919043540955, -...   \n",
       "4     [-0.010033026337623596, -0.3314223289489746, 0...   \n",
       "...                                                 ...   \n",
       "1531  [0.21160167455673218, -0.4200924336910248, -0....   \n",
       "1532  [0.06075066328048706, -0.44455862045288086, -0...   \n",
       "1533  [0.005273051559925079, 0.0785430520772934, -0....   \n",
       "1534  [-0.06371378898620605, -0.9162569642066956, 0....   \n",
       "1535  [-0.4221740663051605, -0.2139803171157837, -0....   \n",
       "\n",
       "                                    movie_embedding_128  \n",
       "0     [-0.4420027732849121, -0.9158413410186768, 0.3...  \n",
       "1     [-0.3103116750717163, 0.22894519567489624, -0....  \n",
       "2     [0.04699868708848953, -0.07751499116420746, 0....  \n",
       "3     [-0.00337088480591774, -0.00557747483253479, 0...  \n",
       "4     [-0.6175022125244141, 0.7383372783660889, -1.0...  \n",
       "...                                                 ...  \n",
       "1531  [-0.26695168018341064, 0.08760415017604828, -0...  \n",
       "1532  [0.12356743216514587, -0.02117633819580078, 0....  \n",
       "1533  [-0.4090748727321625, 0.06467289477586746, 0.1...  \n",
       "1534  [-0.43918490409851074, 0.23587584495544434, -0...  \n",
       "1535  [-0.9802427887916565, 0.6551151275634766, -0.8...  \n",
       "\n",
       "[1536 rows x 11 columns]"
      ]
     },
     "execution_count": 17,
     "metadata": {},
     "output_type": "execute_result"
    }
   ],
   "source": [
    "movie_lens_loader.llm_df[\"labels\"] = 1\n",
    "movie_lens_loader.add_false_edges(false_ratio = 2.0)"
   ]
  },
  {
   "cell_type": "code",
   "execution_count": null,
   "metadata": {},
   "outputs": [],
   "source": [
    "vanilla_bert_classifier = VanillaBertClassifier(movie_lens_loader.llm_df, batch_size=BATCH_SIZE, model_name=MODEL_NAME, false_ratio=-1)\n",
    "prompt_bert_classifier = PromptBertClassifier(movie_lens_loader, gnn_trainer.get_embedding, kge_dimension=SMALL_KGE_DIMENSION, batch_size=BATCH_SIZE, model_max_length = 512, model_name=MODEL_NAME, false_ratio = -1)\n",
    "adding_embedding_bert_only_classifier = AddingEmbeddingsBertClassifierBase(movie_lens_loader, gnn_trainer_large.get_embedding, kge_dimension=MODEL_HIDDEN_SIZE, batch_size=BATCH_SIZE, model_name=MODEL_NAME, false_ratio=-1)\n"
   ]
  },
  {
   "cell_type": "code",
   "execution_count": null,
   "metadata": {},
   "outputs": [
    {
     "data": {
      "application/vnd.jupyter.widget-view+json": {
       "model_id": "4ed4f2f7953a44b691c6c2e879aa2bba",
       "version_major": 2,
       "version_minor": 0
      },
      "text/plain": [
       "Map:   0%|          | 0/984 [00:00<?, ? examples/s]"
      ]
     },
     "metadata": {},
     "output_type": "display_data"
    },
    {
     "data": {
      "application/vnd.jupyter.widget-view+json": {
       "model_id": "10449fac4ca5497db297bd21e044f382",
       "version_major": 2,
       "version_minor": 0
      },
      "text/plain": [
       "Map:   0%|          | 0/258 [00:00<?, ? examples/s]"
      ]
     },
     "metadata": {},
     "output_type": "display_data"
    },
    {
     "data": {
      "application/vnd.jupyter.widget-view+json": {
       "model_id": "6663443727e84a93a35242cfefda96a0",
       "version_major": 2,
       "version_minor": 0
      },
      "text/plain": [
       "Map:   0%|          | 0/294 [00:00<?, ? examples/s]"
      ]
     },
     "metadata": {},
     "output_type": "display_data"
    },
    {
     "data": {
      "application/vnd.jupyter.widget-view+json": {
       "model_id": "601a94e624d3462aaea627ad2e7a683e",
       "version_major": 2,
       "version_minor": 0
      },
      "text/plain": [
       "Saving the dataset (0/1 shards):   0%|          | 0/984 [00:00<?, ? examples/s]"
      ]
     },
     "metadata": {},
     "output_type": "display_data"
    },
    {
     "data": {
      "application/vnd.jupyter.widget-view+json": {
       "model_id": "74438048c9d9450f9160f7913803cc8b",
       "version_major": 2,
       "version_minor": 0
      },
      "text/plain": [
       "Saving the dataset (0/1 shards):   0%|          | 0/258 [00:00<?, ? examples/s]"
      ]
     },
     "metadata": {},
     "output_type": "display_data"
    },
    {
     "data": {
      "application/vnd.jupyter.widget-view+json": {
       "model_id": "56b62e0d14ea4bb6b22093b2f50c8a5c",
       "version_major": 2,
       "version_minor": 0
      },
      "text/plain": [
       "Saving the dataset (0/1 shards):   0%|          | 0/294 [00:00<?, ? examples/s]"
      ]
     },
     "metadata": {},
     "output_type": "display_data"
    },
    {
     "data": {
      "application/vnd.jupyter.widget-view+json": {
       "model_id": "03979d01390a4ddfb5488b665862c0c6",
       "version_major": 2,
       "version_minor": 0
      },
      "text/plain": [
       "Map:   0%|          | 0/984 [00:00<?, ? examples/s]"
      ]
     },
     "metadata": {},
     "output_type": "display_data"
    },
    {
     "data": {
      "application/vnd.jupyter.widget-view+json": {
       "model_id": "251330f66da94237aa31e7badced4e41",
       "version_major": 2,
       "version_minor": 0
      },
      "text/plain": [
       "Map:   0%|          | 0/258 [00:00<?, ? examples/s]"
      ]
     },
     "metadata": {},
     "output_type": "display_data"
    },
    {
     "data": {
      "application/vnd.jupyter.widget-view+json": {
       "model_id": "c0ae3a7504bb448bafefa6e8b0fbc95b",
       "version_major": 2,
       "version_minor": 0
      },
      "text/plain": [
       "Map:   0%|          | 0/294 [00:00<?, ? examples/s]"
      ]
     },
     "metadata": {},
     "output_type": "display_data"
    },
    {
     "data": {
      "application/vnd.jupyter.widget-view+json": {
       "model_id": "0ef34d16f4d84943861db19c2b2effdf",
       "version_major": 2,
       "version_minor": 0
      },
      "text/plain": [
       "Saving the dataset (0/1 shards):   0%|          | 0/984 [00:00<?, ? examples/s]"
      ]
     },
     "metadata": {},
     "output_type": "display_data"
    },
    {
     "data": {
      "application/vnd.jupyter.widget-view+json": {
       "model_id": "016a93c53fb941518c43a26edb2d5479",
       "version_major": 2,
       "version_minor": 0
      },
      "text/plain": [
       "Saving the dataset (0/1 shards):   0%|          | 0/258 [00:00<?, ? examples/s]"
      ]
     },
     "metadata": {},
     "output_type": "display_data"
    },
    {
     "data": {
      "application/vnd.jupyter.widget-view+json": {
       "model_id": "50291335d719492d94ed27e131c6054b",
       "version_major": 2,
       "version_minor": 0
      },
      "text/plain": [
       "Saving the dataset (0/1 shards):   0%|          | 0/294 [00:00<?, ? examples/s]"
      ]
     },
     "metadata": {},
     "output_type": "display_data"
    },
    {
     "data": {
      "application/vnd.jupyter.widget-view+json": {
       "model_id": "1c8cf7311f744060b24cecb66e5e812c",
       "version_major": 2,
       "version_minor": 0
      },
      "text/plain": [
       "Map:   0%|          | 0/984 [00:00<?, ? examples/s]"
      ]
     },
     "metadata": {},
     "output_type": "display_data"
    },
    {
     "data": {
      "application/vnd.jupyter.widget-view+json": {
       "model_id": "511a2c0b96874cdb8963d55d3069e2f9",
       "version_major": 2,
       "version_minor": 0
      },
      "text/plain": [
       "Map:   0%|          | 0/258 [00:00<?, ? examples/s]"
      ]
     },
     "metadata": {},
     "output_type": "display_data"
    },
    {
     "data": {
      "application/vnd.jupyter.widget-view+json": {
       "model_id": "f3b8e548899e426db37f41e33112e5e5",
       "version_major": 2,
       "version_minor": 0
      },
      "text/plain": [
       "Map:   0%|          | 0/294 [00:00<?, ? examples/s]"
      ]
     },
     "metadata": {},
     "output_type": "display_data"
    },
    {
     "data": {
      "application/vnd.jupyter.widget-view+json": {
       "model_id": "5971fda63443412baa8098ea0bcee050",
       "version_major": 2,
       "version_minor": 0
      },
      "text/plain": [
       "Saving the dataset (0/1 shards):   0%|          | 0/984 [00:00<?, ? examples/s]"
      ]
     },
     "metadata": {},
     "output_type": "display_data"
    },
    {
     "data": {
      "application/vnd.jupyter.widget-view+json": {
       "model_id": "1f24cf6a7a5a4154b76c0a611264c20b",
       "version_major": 2,
       "version_minor": 0
      },
      "text/plain": [
       "Saving the dataset (0/1 shards):   0%|          | 0/258 [00:00<?, ? examples/s]"
      ]
     },
     "metadata": {},
     "output_type": "display_data"
    },
    {
     "data": {
      "application/vnd.jupyter.widget-view+json": {
       "model_id": "aca54d723a7044848a4a857c6a3ba090",
       "version_major": 2,
       "version_minor": 0
      },
      "text/plain": [
       "Saving the dataset (0/1 shards):   0%|          | 0/294 [00:00<?, ? examples/s]"
      ]
     },
     "metadata": {},
     "output_type": "display_data"
    }
   ],
   "source": [
    "#del dataset_vanilla\n",
    "#del dataset_prompt\n",
    "#del dataset_adding_embedding\n",
    "#import gc\n",
    "#gc.collect()\n",
    "dataset_vanilla = movie_lens_loader.generate_vanilla_dataset(vanilla_bert_classifier.tokenize_function, suffix = \"_fixed\", force_recompute=True)\n",
    "dataset_prompt = movie_lens_loader.generate_prompt_embedding_dataset(prompt_bert_classifier.tokenize_function, kge_dimension = prompt_bert_classifier.kge_dimension, suffix = \"_fixed\", force_recompute=True)\n",
    "dataset_adding_embedding = movie_lens_loader.generate_adding_embedding_dataset(adding_embedding_bert_only_classifier.tokenizer.sep_token, adding_embedding_bert_only_classifier.tokenizer.pad_token, adding_embedding_bert_only_classifier.tokenize_function, suffix = \"_fixed\", kge_dimension = MODEL_HIDDEN_SIZE, force_recompute=True)"
   ]
  },
  {
   "cell_type": "code",
   "execution_count": null,
   "metadata": {},
   "outputs": [
    {
     "name": "stderr",
     "output_type": "stream",
     "text": [
      "BertSdpaSelfAttention is used but `torch.nn.functional.scaled_dot_product_attention` does not support non-absolute `position_embedding_type` or `output_attentions=True` or `head_mask`. Falling back to the manual attention implementation, but specifying the manual implementation will be required from Transformers version v5.0.0 onwards. This warning can be removed using the argument `attn_implementation=\"eager\"` when loading the model.\n"
     ]
    },
    {
     "name": "stdout",
     "output_type": "stream",
     "text": [
      "Vanilla train Forward Epoch 1 from 3\n"
     ]
    },
    {
     "ename": "ValueError",
     "evalue": "invalid literal for int() with base 10: ''",
     "output_type": "error",
     "traceback": [
      "\u001b[1;31m---------------------------------------------------------------------------\u001b[0m",
      "\u001b[1;31mValueError\u001b[0m                                Traceback (most recent call last)",
      "Cell \u001b[1;32mIn[20], line 1\u001b[0m\n\u001b[1;32m----> 1\u001b[0m \u001b[43mvanilla_bert_classifier\u001b[49m\u001b[38;5;241;43m.\u001b[39;49m\u001b[43mforward_dataset_and_save_outputs\u001b[49m\u001b[43m(\u001b[49m\u001b[43mdataset_vanilla\u001b[49m\u001b[43m,\u001b[49m\u001b[43m \u001b[49m\u001b[43mforce_recompute\u001b[49m\u001b[38;5;241;43m=\u001b[39;49m\u001b[38;5;28;43;01mTrue\u001b[39;49;00m\u001b[43m)\u001b[49m\n\u001b[0;32m      2\u001b[0m prompt_bert_classifier\u001b[38;5;241m.\u001b[39mforward_dataset_and_save_outputs(dataset_prompt, force_recompute\u001b[38;5;241m=\u001b[39m\u001b[38;5;28;01mTrue\u001b[39;00m)\n\u001b[0;32m      3\u001b[0m df \u001b[38;5;241m=\u001b[39m adding_embedding_bert_only_classifier\u001b[38;5;241m.\u001b[39mforward_dataset_and_save_outputs(dataset_adding_embedding, force_recompute\u001b[38;5;241m=\u001b[39m\u001b[38;5;28;01mTrue\u001b[39;00m)\n",
      "File \u001b[1;32mc:\\Users\\MARS\\Ahmad\\Hauptprojekt\\llm.py:1355\u001b[0m, in \u001b[0;36mVanillaBertClassifier.forward_dataset_and_save_outputs\u001b[1;34m(self, dataset, splits, batch_size, epochs, load_fields, force_recompute)\u001b[0m\n\u001b[0;32m   1353\u001b[0m     last_hidden_states\u001b[38;5;241m.\u001b[39mappend(hidden_states\u001b[38;5;241m.\u001b[39mnumpy())\n\u001b[0;32m   1354\u001b[0m     \u001b[38;5;28;01mdel\u001b[39;00m hidden_states\n\u001b[1;32m-> 1355\u001b[0m tokens \u001b[38;5;241m=\u001b[39m \u001b[38;5;28;43mself\u001b[39;49m\u001b[38;5;241;43m.\u001b[39;49m\u001b[43mget_tokens_as_df\u001b[49m\u001b[43m(\u001b[49m\u001b[43mbatch\u001b[49m\u001b[43m[\u001b[49m\u001b[38;5;124;43m\"\u001b[39;49m\u001b[38;5;124;43minput_ids\u001b[39;49m\u001b[38;5;124;43m\"\u001b[39;49m\u001b[43m]\u001b[49m\u001b[43m,\u001b[49m\u001b[43m \u001b[49m\u001b[43mranges_over_batch\u001b[49m\u001b[43m)\u001b[49m\n\u001b[0;32m   1356\u001b[0m tokens[\u001b[38;5;124m\"\u001b[39m\u001b[38;5;124mlabels\u001b[39m\u001b[38;5;124m\"\u001b[39m] \u001b[38;5;241m=\u001b[39m batch[\u001b[38;5;124m\"\u001b[39m\u001b[38;5;124mlabels\u001b[39m\u001b[38;5;124m\"\u001b[39m]\u001b[38;5;241m.\u001b[39mtolist()\n\u001b[0;32m   1357\u001b[0m tokens[\u001b[38;5;124m\"\u001b[39m\u001b[38;5;124msplit\u001b[39m\u001b[38;5;124m\"\u001b[39m] \u001b[38;5;241m=\u001b[39m splits_\n",
      "File \u001b[1;32mc:\\Users\\MARS\\Ahmad\\Hauptprojekt\\llm.py:1447\u001b[0m, in \u001b[0;36mVanillaBertClassifier.get_tokens_as_df\u001b[1;34m(self, input_ids, all_ranges_over_batch)\u001b[0m\n\u001b[0;32m   1445\u001b[0m     \u001b[38;5;28;01mif\u001b[39;00m pos \u001b[38;5;241m==\u001b[39m \u001b[38;5;241m2\u001b[39m:\n\u001b[0;32m   1446\u001b[0m         semantic_tokens\u001b[38;5;241m.\u001b[39mextend([decode[\u001b[38;5;28mlen\u001b[39m(\u001b[38;5;124m\"\u001b[39m\u001b[38;5;124mgenres : \u001b[39m\u001b[38;5;124m\"\u001b[39m):] \u001b[38;5;28;01mfor\u001b[39;00m decode \u001b[38;5;129;01min\u001b[39;00m decoded])\n\u001b[1;32m-> 1447\u001b[0m all_semantic_tokens[\u001b[38;5;241m0\u001b[39m] \u001b[38;5;241m=\u001b[39m [\u001b[38;5;28;43mint\u001b[39;49m\u001b[43m(\u001b[49m\u001b[38;5;28;43mid\u001b[39;49m\u001b[43m)\u001b[49m \u001b[38;5;28;01mfor\u001b[39;00m \u001b[38;5;28mid\u001b[39m \u001b[38;5;129;01min\u001b[39;00m all_semantic_tokens[\u001b[38;5;241m0\u001b[39m]]\n\u001b[0;32m   1448\u001b[0m all_semantic_tokens[\u001b[38;5;241m2\u001b[39m] \u001b[38;5;241m=\u001b[39m [ast\u001b[38;5;241m.\u001b[39mliteral_eval(string_list) \u001b[38;5;28;01mfor\u001b[39;00m string_list \u001b[38;5;129;01min\u001b[39;00m all_semantic_tokens[\u001b[38;5;241m2\u001b[39m]]\n\u001b[0;32m   1449\u001b[0m data \u001b[38;5;241m=\u001b[39m {\u001b[38;5;124m\"\u001b[39m\u001b[38;5;124muser_id\u001b[39m\u001b[38;5;124m\"\u001b[39m: all_semantic_tokens[\u001b[38;5;241m0\u001b[39m], \u001b[38;5;124m\"\u001b[39m\u001b[38;5;124mtitle\u001b[39m\u001b[38;5;124m\"\u001b[39m: all_semantic_tokens[\u001b[38;5;241m1\u001b[39m], \u001b[38;5;124m\"\u001b[39m\u001b[38;5;124mgenres\u001b[39m\u001b[38;5;124m\"\u001b[39m: all_semantic_tokens[\u001b[38;5;241m2\u001b[39m]}\n",
      "\u001b[1;31mValueError\u001b[0m: invalid literal for int() with base 10: ''"
     ]
    }
   ],
   "source": [
    "vanilla_bert_classifier.forward_dataset_and_save_outputs(dataset_vanilla, force_recompute=True)\n",
    "prompt_bert_classifier.forward_dataset_and_save_outputs(dataset_prompt, force_recompute=True)\n",
    "df = adding_embedding_bert_only_classifier.forward_dataset_and_save_outputs(dataset_adding_embedding, force_recompute=True)"
   ]
  }
 ],
 "metadata": {
  "kernelspec": {
   "display_name": "grundprojekt",
   "language": "python",
   "name": "python3"
  },
  "language_info": {
   "codemirror_mode": {
    "name": "ipython",
    "version": 3
   },
   "file_extension": ".py",
   "mimetype": "text/x-python",
   "name": "python",
   "nbconvert_exporter": "python",
   "pygments_lexer": "ipython3",
   "version": "3.12.4"
  }
 },
 "nbformat": 4,
 "nbformat_minor": 2
}
