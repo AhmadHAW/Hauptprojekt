{
 "cells": [
  {
   "cell_type": "markdown",
   "metadata": {},
   "source": [
    "# Training and Evaluation of GNNs and LLMs\n",
    "In this notebook, we train the models on the [MovieLens Dataset](https://movielens.org/) after the Pytorch Geometrics Tutorial on [Link Prediction](https://colab.research.google.com/drive/1xpzn1Nvai1ygd_P5Yambc_oe4VBPK_ZT?usp=sharing#scrollTo=vit8xKCiXAue).\n",
    "\n",
    "First we import all of our dependencies.\n",
    "\n",
    "The **GraphRepresentationGenerator** manages and trains a GNN model. Its most important interfaces include\n",
    "**the constructor**, which defines the GNN architecture and loads the pre-trained GNN model if it is already on the hard disk,\n",
    "**the training method**, which initializes the training on the GNN model and\n",
    "**the get_embedding methods**, which represent the inference interface to the GNN model and return the corresponding embeddings in the dimension defined in the constructor for given user movie node pairs.\n",
    "\n",
    "**The MovieLensLoader** loads and manages the data sets. The most important tasks include **saving and (re)loading and transforming** the data sets.\n",
    "\n",
    "**PromptEncoderOnlyClassifier** and **VanillaEncoderOnlyClassifier** each manage a **prompt (model) LLM** and a **vanilla (model) LLM**. An EncoderOnlyClassifier (ClassifierBase) provides interfaces for training and testing an LLM model.\n",
    "PromptEncoder and VanillaEncoder differ from their DataCollectors. DataCollectors change the behavior of the models during training and testing and allow data points to be created at runtime. With the help of these collators, we **create non-existent edges on the fly**."
   ]
  },
  {
   "cell_type": "code",
   "execution_count": 1,
   "metadata": {},
   "outputs": [],
   "source": [
    "from graph_representation_generator import GraphRepresentationGenerator\n",
    "from dataset_manager import (\n",
    "    MovieLensManager,\n",
    "    PROMPT_KGE_DIMENSION,\n",
    "    INPUT_EMBEDS_REPLACE_KGE_DIMENSION,\n",
    "    ROOT,\n",
    ")\n",
    "from llm_manager import (\n",
    "    PromptBertClassifier,\n",
    "    VanillaBertClassifier,\n",
    "    InputEmbedsReplaceClassifier,\n",
    ")"
   ]
  },
  {
   "cell_type": "code",
   "execution_count": 8,
   "metadata": {},
   "outputs": [],
   "source": [
    "EPOCHS = 20\n",
    "BATCH_SIZE_KGE = 128000\n",
    "BATCH_SIZE_LLM = 256"
   ]
  },
  {
   "cell_type": "markdown",
   "metadata": {},
   "source": [
    "We define in advance which **Knowledge Graph Embedding Dimension (KGE_DIMENSION)** the GNN encoder has. We want to determine from which output dimension the GNN encoder can produce embeddings that lead to a significant increase in performance *without exceeding the context length of the LLMs*. In the original tutorial, the KGE_DIMENSION was $64$."
   ]
  },
  {
   "cell_type": "code",
   "execution_count": 3,
   "metadata": {},
   "outputs": [],
   "source": [
    "kg_manager = MovieLensManager()"
   ]
  },
  {
   "cell_type": "code",
   "execution_count": 4,
   "metadata": {},
   "outputs": [
    {
     "data": {
      "text/html": [
       "<div>\n",
       "<style scoped>\n",
       "    .dataframe tbody tr th:only-of-type {\n",
       "        vertical-align: middle;\n",
       "    }\n",
       "\n",
       "    .dataframe tbody tr th {\n",
       "        vertical-align: top;\n",
       "    }\n",
       "\n",
       "    .dataframe thead th {\n",
       "        text-align: right;\n",
       "    }\n",
       "</style>\n",
       "<table border=\"1\" class=\"dataframe\">\n",
       "  <thead>\n",
       "    <tr style=\"text-align: right;\">\n",
       "      <th></th>\n",
       "      <th>source_id</th>\n",
       "      <th>target_id</th>\n",
       "      <th>id_x</th>\n",
       "      <th>id_y</th>\n",
       "      <th>prompt_feature_title</th>\n",
       "      <th>prompt_feature_genres</th>\n",
       "      <th>labels</th>\n",
       "      <th>split</th>\n",
       "      <th>split_x</th>\n",
       "      <th>split_y</th>\n",
       "      <th>_merge</th>\n",
       "    </tr>\n",
       "  </thead>\n",
       "  <tbody>\n",
       "    <tr>\n",
       "      <th>0</th>\n",
       "      <td>0</td>\n",
       "      <td>16</td>\n",
       "      <td>0</td>\n",
       "      <td>16</td>\n",
       "      <td>Sense and Sensibility (1995)</td>\n",
       "      <td>['Drama', 'Romance']</td>\n",
       "      <td>1</td>\n",
       "      <td>train</td>\n",
       "      <td>NaN</td>\n",
       "      <td>NaN</td>\n",
       "      <td>NaN</td>\n",
       "    </tr>\n",
       "    <tr>\n",
       "      <th>1</th>\n",
       "      <td>0</td>\n",
       "      <td>16</td>\n",
       "      <td>0</td>\n",
       "      <td>16</td>\n",
       "      <td>Sense and Sensibility (1995)</td>\n",
       "      <td>['Drama', 'Romance']</td>\n",
       "      <td>1</td>\n",
       "      <td>val</td>\n",
       "      <td>NaN</td>\n",
       "      <td>NaN</td>\n",
       "      <td>NaN</td>\n",
       "    </tr>\n",
       "    <tr>\n",
       "      <th>2</th>\n",
       "      <td>0</td>\n",
       "      <td>24</td>\n",
       "      <td>0</td>\n",
       "      <td>24</td>\n",
       "      <td>Leaving Las Vegas (1995)</td>\n",
       "      <td>['Drama', 'Romance']</td>\n",
       "      <td>1</td>\n",
       "      <td>train</td>\n",
       "      <td>NaN</td>\n",
       "      <td>NaN</td>\n",
       "      <td>NaN</td>\n",
       "    </tr>\n",
       "    <tr>\n",
       "      <th>3</th>\n",
       "      <td>0</td>\n",
       "      <td>24</td>\n",
       "      <td>0</td>\n",
       "      <td>24</td>\n",
       "      <td>Leaving Las Vegas (1995)</td>\n",
       "      <td>['Drama', 'Romance']</td>\n",
       "      <td>1</td>\n",
       "      <td>test</td>\n",
       "      <td>NaN</td>\n",
       "      <td>NaN</td>\n",
       "      <td>NaN</td>\n",
       "    </tr>\n",
       "    <tr>\n",
       "      <th>4</th>\n",
       "      <td>0</td>\n",
       "      <td>28</td>\n",
       "      <td>0</td>\n",
       "      <td>28</td>\n",
       "      <td>City of Lost Children, The (Cité des enfants p...</td>\n",
       "      <td>['Adventure', 'Drama', 'Fantasy', 'Mystery', '...</td>\n",
       "      <td>1</td>\n",
       "      <td>val</td>\n",
       "      <td>NaN</td>\n",
       "      <td>NaN</td>\n",
       "      <td>NaN</td>\n",
       "    </tr>\n",
       "    <tr>\n",
       "      <th>...</th>\n",
       "      <td>...</td>\n",
       "      <td>...</td>\n",
       "      <td>...</td>\n",
       "      <td>...</td>\n",
       "      <td>...</td>\n",
       "      <td>...</td>\n",
       "      <td>...</td>\n",
       "      <td>...</td>\n",
       "      <td>...</td>\n",
       "      <td>...</td>\n",
       "      <td>...</td>\n",
       "    </tr>\n",
       "    <tr>\n",
       "      <th>46720294</th>\n",
       "      <td>200947</td>\n",
       "      <td>15212</td>\n",
       "      <td>200947</td>\n",
       "      <td>15212</td>\n",
       "      <td>Vampires Suck (2010)</td>\n",
       "      <td>['Comedy']</td>\n",
       "      <td>1</td>\n",
       "      <td>test</td>\n",
       "      <td>NaN</td>\n",
       "      <td>NaN</td>\n",
       "      <td>NaN</td>\n",
       "    </tr>\n",
       "    <tr>\n",
       "      <th>46720295</th>\n",
       "      <td>200947</td>\n",
       "      <td>15240</td>\n",
       "      <td>200947</td>\n",
       "      <td>15240</td>\n",
       "      <td>Social Network, The (2010)</td>\n",
       "      <td>['Drama']</td>\n",
       "      <td>1</td>\n",
       "      <td>train</td>\n",
       "      <td>NaN</td>\n",
       "      <td>NaN</td>\n",
       "      <td>NaN</td>\n",
       "    </tr>\n",
       "    <tr>\n",
       "      <th>46720296</th>\n",
       "      <td>200947</td>\n",
       "      <td>15240</td>\n",
       "      <td>200947</td>\n",
       "      <td>15240</td>\n",
       "      <td>Social Network, The (2010)</td>\n",
       "      <td>['Drama']</td>\n",
       "      <td>1</td>\n",
       "      <td>test</td>\n",
       "      <td>NaN</td>\n",
       "      <td>NaN</td>\n",
       "      <td>NaN</td>\n",
       "    </tr>\n",
       "    <tr>\n",
       "      <th>46720297</th>\n",
       "      <td>200947</td>\n",
       "      <td>16546</td>\n",
       "      <td>200947</td>\n",
       "      <td>16546</td>\n",
       "      <td>Beginners (2010)</td>\n",
       "      <td>['Drama']</td>\n",
       "      <td>1</td>\n",
       "      <td>train</td>\n",
       "      <td>NaN</td>\n",
       "      <td>NaN</td>\n",
       "      <td>NaN</td>\n",
       "    </tr>\n",
       "    <tr>\n",
       "      <th>46720298</th>\n",
       "      <td>200947</td>\n",
       "      <td>16546</td>\n",
       "      <td>200947</td>\n",
       "      <td>16546</td>\n",
       "      <td>Beginners (2010)</td>\n",
       "      <td>['Drama']</td>\n",
       "      <td>1</td>\n",
       "      <td>test</td>\n",
       "      <td>NaN</td>\n",
       "      <td>NaN</td>\n",
       "      <td>NaN</td>\n",
       "    </tr>\n",
       "  </tbody>\n",
       "</table>\n",
       "<p>46720299 rows × 11 columns</p>\n",
       "</div>"
      ],
      "text/plain": [
       "          source_id  target_id    id_x   id_y  \\\n",
       "0                 0         16       0     16   \n",
       "1                 0         16       0     16   \n",
       "2                 0         24       0     24   \n",
       "3                 0         24       0     24   \n",
       "4                 0         28       0     28   \n",
       "...             ...        ...     ...    ...   \n",
       "46720294     200947      15212  200947  15212   \n",
       "46720295     200947      15240  200947  15240   \n",
       "46720296     200947      15240  200947  15240   \n",
       "46720297     200947      16546  200947  16546   \n",
       "46720298     200947      16546  200947  16546   \n",
       "\n",
       "                                       prompt_feature_title  \\\n",
       "0                              Sense and Sensibility (1995)   \n",
       "1                              Sense and Sensibility (1995)   \n",
       "2                                  Leaving Las Vegas (1995)   \n",
       "3                                  Leaving Las Vegas (1995)   \n",
       "4         City of Lost Children, The (Cité des enfants p...   \n",
       "...                                                     ...   \n",
       "46720294                               Vampires Suck (2010)   \n",
       "46720295                         Social Network, The (2010)   \n",
       "46720296                         Social Network, The (2010)   \n",
       "46720297                                   Beginners (2010)   \n",
       "46720298                                   Beginners (2010)   \n",
       "\n",
       "                                      prompt_feature_genres  labels  split  \\\n",
       "0                                      ['Drama', 'Romance']       1  train   \n",
       "1                                      ['Drama', 'Romance']       1    val   \n",
       "2                                      ['Drama', 'Romance']       1  train   \n",
       "3                                      ['Drama', 'Romance']       1   test   \n",
       "4         ['Adventure', 'Drama', 'Fantasy', 'Mystery', '...       1    val   \n",
       "...                                                     ...     ...    ...   \n",
       "46720294                                         ['Comedy']       1   test   \n",
       "46720295                                          ['Drama']       1  train   \n",
       "46720296                                          ['Drama']       1   test   \n",
       "46720297                                          ['Drama']       1  train   \n",
       "46720298                                          ['Drama']       1   test   \n",
       "\n",
       "          split_x  split_y  _merge  \n",
       "0             NaN      NaN     NaN  \n",
       "1             NaN      NaN     NaN  \n",
       "2             NaN      NaN     NaN  \n",
       "3             NaN      NaN     NaN  \n",
       "4             NaN      NaN     NaN  \n",
       "...           ...      ...     ...  \n",
       "46720294      NaN      NaN     NaN  \n",
       "46720295      NaN      NaN     NaN  \n",
       "46720296      NaN      NaN     NaN  \n",
       "46720297      NaN      NaN     NaN  \n",
       "46720298      NaN      NaN     NaN  \n",
       "\n",
       "[46720299 rows x 11 columns]"
      ]
     },
     "execution_count": 4,
     "metadata": {},
     "output_type": "execute_result"
    }
   ],
   "source": [
    "kg_manager.llm_df"
   ]
  },
  {
   "cell_type": "markdown",
   "metadata": {},
   "source": [
    "First we load the MovieLensLoader, which downloads the Movie Lens dataset (https://files.grouplens.org/datasets/movielens/ml-32m.zip) and prepares it to be used on GNN and LLM. We also pass the embedding dimensions that we will assume we are training with. First time takes approx. 30 sec."
   ]
  },
  {
   "cell_type": "code",
   "execution_count": 5,
   "metadata": {},
   "outputs": [
    {
     "data": {
      "text/plain": [
       "HeteroData(\n",
       "  source={ node_id=[200948] },\n",
       "  target={\n",
       "    node_id=[87585],\n",
       "    x=[87585, 20],\n",
       "  },\n",
       "  (source, edge, target)={ edge_index=[2, 32000204] },\n",
       "  (target, rev_edge, source)={ edge_index=[2, 32000204] }\n",
       ")"
      ]
     },
     "execution_count": 5,
     "metadata": {},
     "output_type": "execute_result"
    }
   ],
   "source": [
    "kg_manager.data"
   ]
  },
  {
   "cell_type": "markdown",
   "metadata": {},
   "source": [
    "Next, we initialize the GNN trainers (possible on Cuda), one for each KGE_DIMENSION.\n",
    "A GNN trainer manages a model and each model consists of an **encoder and classifier** part.\n",
    "\n",
    "**The encoder** is a parameterized *Grap Convolutional Network (GCN)* with a *2-layer GNN computation graph* and a single *ReLU* activation function in between.\n",
    "\n",
    "**The classifier** applies the dot-product between source and destination kges to derive edge-level predictions."
   ]
  },
  {
   "cell_type": "code",
   "execution_count": 9,
   "metadata": {},
   "outputs": [
    {
     "name": "stdout",
     "output_type": "stream",
     "text": [
      "Device: 'cpu'\n",
      "Device: 'cpu'\n"
     ]
    }
   ],
   "source": [
    "graph_representation_generator_prompt = GraphRepresentationGenerator(\n",
    "    kg_manager.data,\n",
    "    kg_manager.gnn_train_data,\n",
    "    kg_manager.gnn_val_data,\n",
    "    kg_manager.gnn_test_data,\n",
    "    kge_dimension=PROMPT_KGE_DIMENSION,\n",
    "    force_recompute=True,\n",
    ")\n",
    "graph_representation_generator_input_embeds_replace = GraphRepresentationGenerator(\n",
    "    kg_manager.data,\n",
    "    kg_manager.gnn_train_data,\n",
    "    kg_manager.gnn_val_data,\n",
    "    kg_manager.gnn_test_data,\n",
    "    hidden_channels=INPUT_EMBEDS_REPLACE_KGE_DIMENSION,\n",
    "    kge_dimension=INPUT_EMBEDS_REPLACE_KGE_DIMENSION,\n",
    "    force_recompute=True,\n",
    ")"
   ]
  },
  {
   "cell_type": "markdown",
   "metadata": {},
   "source": [
    "We then train and validate the model on the link prediction task.\n",
    "\n",
    "If the model is already trained, we can skip this part.\n",
    "Training the models can take up to 5 minutes."
   ]
  },
  {
   "cell_type": "code",
   "execution_count": 10,
   "metadata": {},
   "outputs": [
    {
     "name": "stdout",
     "output_type": "stream",
     "text": [
      "Prompt Training\n"
     ]
    },
    {
     "name": "stderr",
     "output_type": "stream",
     "text": [
      "100%|██████████| 61/61 [07:58<00:00,  7.85s/it]\n"
     ]
    },
    {
     "name": "stdout",
     "output_type": "stream",
     "text": [
      "Epoch: 001, Loss: 0.4455\n"
     ]
    },
    {
     "name": "stderr",
     "output_type": "stream",
     "text": [
      "100%|██████████| 61/61 [07:57<00:00,  7.83s/it]\n"
     ]
    },
    {
     "name": "stdout",
     "output_type": "stream",
     "text": [
      "Epoch: 002, Loss: 0.2166\n"
     ]
    },
    {
     "name": "stderr",
     "output_type": "stream",
     "text": [
      "100%|██████████| 61/61 [08:00<00:00,  7.88s/it]\n"
     ]
    },
    {
     "name": "stdout",
     "output_type": "stream",
     "text": [
      "Epoch: 003, Loss: 0.1780\n"
     ]
    },
    {
     "name": "stderr",
     "output_type": "stream",
     "text": [
      " 70%|███████   | 43/61 [05:49<02:26,  8.11s/it]"
     ]
    }
   ],
   "source": [
    "print(\"Prompt Training\")\n",
    "graph_representation_generator_prompt.train_model(\n",
    "    kg_manager.gnn_train_data, EPOCHS, BATCH_SIZE_KGE\n",
    ")\n",
    "graph_representation_generator_prompt.validate_model(\n",
    "    kg_manager.gnn_test_data, batch_size=BATCH_SIZE_KGE\n",
    ")\n",
    "print(\"Attention Training\")\n",
    "graph_representation_generator_input_embeds_replace.train_model(\n",
    "    kg_manager.gnn_train_data, EPOCHS, BATCH_SIZE_KGE\n",
    ")\n",
    "graph_representation_generator_input_embeds_replace.validate_model(\n",
    "    kg_manager.gnn_test_data, batch_size=BATCH_SIZE_KGE\n",
    ")\n"
   ]
  },
  {
   "cell_type": "markdown",
   "metadata": {},
   "source": [
    "Next we produce the KGEs for every edge in the dataset. These embeddings can then be used for the LLM on the link-prediction task."
   ]
  },
  {
   "cell_type": "code",
   "execution_count": 6,
   "metadata": {},
   "outputs": [],
   "source": [
    "prompt_embeddings = graph_representation_generator_prompt.get_saved_embeddings(\"prompt\")\n",
    "input_embeds_replace_embeddings = (\n",
    "    graph_representation_generator_input_embeds_replace.get_saved_embeddings(\n",
    "        \"input_embeds_replace\"\n",
    "    )\n",
    ")\n",
    "save_prompt = False\n",
    "save_input_embeds_replace = False\n",
    "if prompt_embeddings is None:\n",
    "    prompt_embeddings = graph_representation_generator_prompt.generate_embeddings(\n",
    "        kg_manager.llm_df\n",
    "    )\n",
    "    save_prompt = True\n",
    "if input_embeds_replace_embeddings is None:\n",
    "    input_embeds_replace_embeddings = (\n",
    "        graph_representation_generator_input_embeds_replace.generate_embeddings(\n",
    "            kg_manager.llm_df\n",
    "        )\n",
    "    )\n",
    "    save_input_embeds_replace = True\n",
    "\n",
    "kg_manager.append_prompt_graph_embeddings(prompt_embeddings, save=save_prompt)\n",
    "kg_manager.append_input_embeds_replace_graph_embeddings(\n",
    "    input_embeds_replace_embeddings, save=save_input_embeds_replace\n",
    ")\n"
   ]
  },
  {
   "cell_type": "code",
   "execution_count": null,
   "metadata": {},
   "outputs": [],
   "source": [
    "df = kg_manager.add_false_edges(\n",
    "    1.0,\n",
    "    graph_representation_generator_prompt.get_embedding,\n",
    "    graph_representation_generator_input_embeds_replace.get_embedding,\n",
    "    splits=[\"val\", \"test\"],\n",
    ")\n",
    "df[df[\"split\"] == \"val\"]"
   ]
  },
  {
   "cell_type": "markdown",
   "metadata": {},
   "source": [
    "Next we initialize the vanilla encoder only classifier. This classifier does only use the NLP part of the prompt (no KGE) for predicting if the given link exists."
   ]
  },
  {
   "cell_type": "code",
   "execution_count": 7,
   "metadata": {},
   "outputs": [],
   "source": [
    "VANILLA_ROOT = f\"{ROOT}/llm/vanilla\"\n",
    "PROMPT_ROOT = f\"{ROOT}/llm/prompt\"\n",
    "INPUT_EMBEDS_REPLACE_ROOT = f\"{ROOT}/llm/input_embeds_replace\""
   ]
  },
  {
   "cell_type": "code",
   "execution_count": null,
   "metadata": {},
   "outputs": [],
   "source": [
    "vanilla_bert_classifier = VanillaBertClassifier(\n",
    "    kg_manager.llm_df,\n",
    "    kg_manager.source_df,\n",
    "    kg_manager.target_df,\n",
    "    root_path=VANILLA_ROOT,\n",
    ")"
   ]
  },
  {
   "cell_type": "markdown",
   "metadata": {},
   "source": [
    "Next we generate a vanilla llm dataset and tokenize it for training."
   ]
  },
  {
   "cell_type": "code",
   "execution_count": null,
   "metadata": {},
   "outputs": [],
   "source": [
    "dataset_vanilla = kg_manager.generate_vanilla_dataset(\n",
    "    vanilla_bert_classifier.tokenize_function\n",
    ")"
   ]
  },
  {
   "cell_type": "markdown",
   "metadata": {},
   "source": [
    "Next we train the model on the produced dataset. This can be skipped, if already trained ones."
   ]
  },
  {
   "cell_type": "code",
   "execution_count": null,
   "metadata": {},
   "outputs": [],
   "source": [
    "vanilla_bert_classifier.train_model_on_data(\n",
    "    dataset_vanilla, epochs=EPOCHS, batch_size=BATCH_SIZE\n",
    ")"
   ]
  },
  {
   "cell_type": "markdown",
   "metadata": {},
   "source": [
    "Next we initialize the prompt encoder only classifier. This classifier uses the vanilla prompt and the KGEs for its link prediction."
   ]
  },
  {
   "cell_type": "code",
   "execution_count": null,
   "metadata": {},
   "outputs": [],
   "source": [
    "prompt_bert_classifier = PromptBertClassifier(\n",
    "    kg_manager,\n",
    "    graph_representation_generator_prompt.get_embedding,\n",
    "    model_max_length=512,\n",
    "    root_path=PROMPT_ROOT,\n",
    ")"
   ]
  },
  {
   "cell_type": "markdown",
   "metadata": {},
   "source": [
    "We also generate a prompt dataset, this time the prompts also include the KGEs."
   ]
  },
  {
   "cell_type": "code",
   "execution_count": null,
   "metadata": {},
   "outputs": [],
   "source": [
    "dataset_prompt = kg_manager.generate_prompt_embedding_dataset(\n",
    "    prompt_bert_classifier.tokenize_function,\n",
    ")"
   ]
  },
  {
   "cell_type": "markdown",
   "metadata": {},
   "source": [
    "We also train the model. This can be skipped if already done ones."
   ]
  },
  {
   "cell_type": "code",
   "execution_count": null,
   "metadata": {},
   "outputs": [],
   "source": [
    "prompt_bert_classifier.train_model_on_data(\n",
    "    dataset_prompt, epochs=EPOCHS, batch_size=BATCH_SIZE\n",
    ")"
   ]
  },
  {
   "cell_type": "code",
   "execution_count": null,
   "metadata": {},
   "outputs": [],
   "source": [
    "input_embeds_replace_bert_classifier = InputEmbedsReplaceClassifier(\n",
    "    kg_manager,\n",
    "    graph_representation_generator_input_embeds_replace.get_embedding,\n",
    "    root_path=INPUT_EMBEDS_REPLACE_ROOT,\n",
    ")"
   ]
  },
  {
   "cell_type": "code",
   "execution_count": null,
   "metadata": {},
   "outputs": [],
   "source": [
    "dataset_embedding = kg_manager.generate_input_embeds_replace_embedding_dataset(\n",
    "    input_embeds_replace_bert_classifier.tokenizer.sep_token,\n",
    "    input_embeds_replace_bert_classifier.tokenizer.pad_token,\n",
    "    input_embeds_replace_bert_classifier.tokenize_function,\n",
    ")"
   ]
  },
  {
   "cell_type": "code",
   "execution_count": null,
   "metadata": {},
   "outputs": [],
   "source": [
    "input_embeds_replace_bert_classifier.train_model_on_data(\n",
    "    dataset_embedding, epochs=EPOCHS, batch_size=BATCH_SIZE\n",
    ")"
   ]
  }
 ],
 "metadata": {
  "kernelspec": {
   "display_name": "grundprojekt",
   "language": "python",
   "name": "python3"
  },
  "language_info": {
   "codemirror_mode": {
    "name": "ipython",
    "version": 3
   },
   "file_extension": ".py",
   "mimetype": "text/x-python",
   "name": "python",
   "nbconvert_exporter": "python",
   "pygments_lexer": "ipython3",
   "version": "3.12.4"
  }
 },
 "nbformat": 4,
 "nbformat_minor": 2
}
