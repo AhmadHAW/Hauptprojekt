{
 "cells": [
  {
   "cell_type": "markdown",
   "metadata": {},
   "source": [
    "# Training and Evaluation of GNNs and LLMs\n",
    "In this notebook, we train the models on the [MovieLens Dataset](https://movielens.org/) after the Pytorch Geometrics Tutorial on [Link Prediction](https://colab.research.google.com/drive/1xpzn1Nvai1ygd_P5Yambc_oe4VBPK_ZT?usp=sharing#scrollTo=vit8xKCiXAue).\n",
    "\n",
    "First we import all of our dependencies.\n",
    "\n",
    "The **GraphRepresentationGenerator** manages and trains a GNN model. Its most important interfaces include\n",
    "**the constructor**, which defines the GNN architecture and loads the pre-trained GNN model if it is already on the hard disk,\n",
    "**the training method**, which initializes the training on the GNN model and\n",
    "**the get_embedding methods**, which represent the inference interface to the GNN model and return the corresponding embeddings in the dimension defined in the constructor for given user movie node pairs.\n",
    "\n",
    "**The MovieLensLoader** loads and manages the data sets. The most important tasks include **saving and (re)loading and transforming** the data sets.\n",
    "\n",
    "**PromptEncoderOnlyClassifier** and **VanillaEncoderOnlyClassifier** each manage a **prompt (model) LLM** and a **vanilla (model) LLM**. An EncoderOnlyClassifier (ClassifierBase) provides interfaces for training and testing an LLM model.\n",
    "PromptEncoder and VanillaEncoder differ from their DataCollectors. DataCollectors change the behavior of the models during training and testing and allow data points to be created at runtime. With the help of these collators, we **create non-existent edges on the fly**."
   ]
  },
  {
   "cell_type": "code",
   "execution_count": 1,
   "metadata": {},
   "outputs": [],
   "source": [
    "from graph_representation_generator import GraphRepresentationGenerator\n",
    "from dataset_manager import (\n",
    "    MovieLensManager,\n",
    "    PROMPT_KGE_DIMENSION,\n",
    "    ATTENTION_KGE_DIMENSION,\n",
    ")\n",
    "from llm_manager import (\n",
    "    PromptBertClassifier,\n",
    "    VanillaBertClassifier,\n",
    "    AttentionBertClassifierBase,\n",
    ")"
   ]
  },
  {
   "cell_type": "code",
   "execution_count": 2,
   "metadata": {},
   "outputs": [],
   "source": [
    "EPOCHS = 20\n",
    "BATCH_SIZE = 512"
   ]
  },
  {
   "cell_type": "markdown",
   "metadata": {},
   "source": [
    "We define in advance which **Knowledge Graph Embedding Dimension (KGE_DIMENSION)** the GNN encoder has. We want to determine from which output dimension the GNN encoder can produce embeddings that lead to a significant increase in performance *without exceeding the context length of the LLMs*. In the original tutorial, the KGE_DIMENSION was $64$."
   ]
  },
  {
   "cell_type": "code",
   "execution_count": 3,
   "metadata": {},
   "outputs": [],
   "source": [
    "kg_manager = MovieLensManager()"
   ]
  },
  {
   "cell_type": "markdown",
   "metadata": {},
   "source": [
    "First we load the MovieLensLoader, which downloads the Movie Lens dataset (https://files.grouplens.org/datasets/movielens/ml-latest-small.zip) and prepares it to be used on GNN and LLM. We also pass the embedding dimensions that we will assume we are training with. First time takes approx. 30 sec."
   ]
  },
  {
   "cell_type": "code",
   "execution_count": 4,
   "metadata": {},
   "outputs": [
    {
     "data": {
      "text/plain": [
       "HeteroData(\n",
       "  source={ node_id=[610] },\n",
       "  target={\n",
       "    node_id=[9742],\n",
       "    x=[9742, 20],\n",
       "  },\n",
       "  (source, edge, target)={ edge_index=[2, 100836] },\n",
       "  (target, rev_edge, source)={ edge_index=[2, 100836] }\n",
       ")"
      ]
     },
     "execution_count": 4,
     "metadata": {},
     "output_type": "execute_result"
    }
   ],
   "source": [
    "kg_manager.data"
   ]
  },
  {
   "cell_type": "markdown",
   "metadata": {},
   "source": [
    "Next, we initialize the GNN trainers (possible on Cuda), one for each KGE_DIMENSION.\n",
    "A GNN trainer manages a model and each model consists of an **encoder and classifier** part.\n",
    "\n",
    "**The encoder** is a parameterized *Grap Convolutional Network (GCN)* with a *2-layer GNN computation graph* and a single *ReLU* activation function in between.\n",
    "\n",
    "**The classifier** applies the dot-product between source and destination kges to derive edge-level predictions."
   ]
  },
  {
   "cell_type": "code",
   "execution_count": 5,
   "metadata": {},
   "outputs": [
    {
     "name": "stdout",
     "output_type": "stream",
     "text": [
      "loading pretrained model\n",
      "Device: 'cuda'\n",
      "loading pretrained model\n",
      "Device: 'cuda'\n"
     ]
    }
   ],
   "source": [
    "graph_representation_generator_prompt = GraphRepresentationGenerator(\n",
    "    kg_manager.data,\n",
    "    kg_manager.gnn_train_data,\n",
    "    kg_manager.gnn_val_data,\n",
    "    kg_manager.gnn_test_data,\n",
    "    kge_dimension=PROMPT_KGE_DIMENSION,\n",
    ")\n",
    "graph_representation_generator_attention = GraphRepresentationGenerator(\n",
    "    kg_manager.data,\n",
    "    kg_manager.gnn_train_data,\n",
    "    kg_manager.gnn_val_data,\n",
    "    kg_manager.gnn_test_data,\n",
    "    hidden_channels=ATTENTION_KGE_DIMENSION,\n",
    "    kge_dimension=ATTENTION_KGE_DIMENSION,\n",
    ")"
   ]
  },
  {
   "cell_type": "markdown",
   "metadata": {},
   "source": [
    "We then train and validate the model on the link prediction task.\n",
    "\n",
    "If the model is already trained, we can skip this part.\n",
    "Training the models can take up to 5 minutes."
   ]
  },
  {
   "cell_type": "code",
   "execution_count": 6,
   "metadata": {},
   "outputs": [
    {
     "name": "stdout",
     "output_type": "stream",
     "text": [
      "Prompt Training\n",
      "Attention Training\n"
     ]
    }
   ],
   "source": [
    "print(\"Prompt Training\")\n",
    "#graph_representation_generator_prompt.train_model(kg_manager.gnn_train_data, EPOCHS, BATCH_SIZE)\n",
    "#graph_representation_generator_prompt.validate_model(kg_manager.gnn_test_data)\n",
    "print(\"Attention Training\")\n",
    "#graph_representation_generator_attention.train_model(kg_manager.gnn_train_data, EPOCHS, BATCH_SIZE)\n",
    "#graph_representation_generator_attention.validate_model(kg_manager.gnn_test_data)\n"
   ]
  },
  {
   "cell_type": "markdown",
   "metadata": {},
   "source": [
    "Next we produce the KGEs for every edge in the dataset. These embeddings can then be used for the LLM on the link-prediction task."
   ]
  },
  {
   "cell_type": "code",
   "execution_count": 7,
   "metadata": {},
   "outputs": [],
   "source": [
    "prompt_embeddings = graph_representation_generator_prompt.get_saved_embeddings(\"prompt\")\n",
    "attention_embeddings = graph_representation_generator_attention.get_saved_embeddings(\n",
    "    \"attention\"\n",
    ")\n",
    "save = False\n",
    "if prompt_embeddings is None or attention_embeddings is None:\n",
    "    prompt_embeddings = graph_representation_generator_prompt.generate_embeddings(\n",
    "        kg_manager.llm_df\n",
    "    )\n",
    "    attention_embeddings = graph_representation_generator_attention.generate_embeddings(\n",
    "        kg_manager.llm_df\n",
    "    )\n",
    "    save = True\n",
    "\n",
    "kg_manager.append_prompt_graph_embeddings(prompt_embeddings, save=save)\n",
    "kg_manager.append_attention_graph_embeddings(attention_embeddings, save=save)\n"
   ]
  },
  {
   "cell_type": "code",
   "execution_count": 8,
   "metadata": {},
   "outputs": [],
   "source": [
    "# kg_manager.add_false_edges(\n",
    "#     2.0, graph_representation_generator_prompt.get_embedding, graph_representation_generator_attention.get_embedding, splits = [\"val\", \"test\"]\n",
    "# )"
   ]
  },
  {
   "cell_type": "markdown",
   "metadata": {},
   "source": [
    "Next we initialize the vanilla encoder only classifier. This classifier does only use the NLP part of the prompt (no KGE) for predicting if the given link exists."
   ]
  },
  {
   "cell_type": "code",
   "execution_count": 9,
   "metadata": {},
   "outputs": [],
   "source": [
    "vanilla_bert_classifier = VanillaBertClassifier(\n",
    "    kg_manager.llm_df, kg_manager.source_df, kg_manager.target_df\n",
    ")"
   ]
  },
  {
   "cell_type": "markdown",
   "metadata": {},
   "source": [
    "Next we generate a vanilla llm dataset and tokenize it for training."
   ]
  },
  {
   "cell_type": "code",
   "execution_count": 10,
   "metadata": {},
   "outputs": [],
   "source": [
    "dataset_vanilla = kg_manager.generate_vanilla_dataset(\n",
    "    vanilla_bert_classifier.tokenize_function\n",
    ")"
   ]
  },
  {
   "cell_type": "markdown",
   "metadata": {},
   "source": [
    "Next we train the model on the produced dataset. This can be skipped, if already trained ones."
   ]
  },
  {
   "cell_type": "code",
   "execution_count": 11,
   "metadata": {},
   "outputs": [],
   "source": [
    "#vanilla_bert_classifier.train_model_on_data(dataset_vanilla, epochs=EPOCHS, batch_size = BATCH_SIZE)"
   ]
  },
  {
   "cell_type": "markdown",
   "metadata": {},
   "source": [
    "Next we initialize the prompt encoder only classifier. This classifier uses the vanilla prompt and the KGEs for its link prediction."
   ]
  },
  {
   "cell_type": "code",
   "execution_count": 12,
   "metadata": {},
   "outputs": [],
   "source": [
    "prompt_bert_classifier = PromptBertClassifier(\n",
    "    kg_manager,\n",
    "    graph_representation_generator_prompt.get_embedding,\n",
    "    model_max_length=512,\n",
    ")"
   ]
  },
  {
   "cell_type": "markdown",
   "metadata": {},
   "source": [
    "We also generate a prompt dataset, this time the prompts also include the KGEs."
   ]
  },
  {
   "cell_type": "code",
   "execution_count": 13,
   "metadata": {},
   "outputs": [],
   "source": [
    "dataset_prompt = kg_manager.generate_prompt_embedding_dataset(\n",
    "    prompt_bert_classifier.tokenize_function,\n",
    ")"
   ]
  },
  {
   "cell_type": "markdown",
   "metadata": {},
   "source": [
    "We also train the model. This can be skipped if already done ones."
   ]
  },
  {
   "cell_type": "code",
   "execution_count": 14,
   "metadata": {},
   "outputs": [],
   "source": [
    "#prompt_bert_classifier.train_model_on_data(dataset_prompt, epochs=EPOCHS, batch_size = BATCH_SIZE)"
   ]
  },
  {
   "cell_type": "code",
   "execution_count": 15,
   "metadata": {},
   "outputs": [],
   "source": [
    "attention_bert_classifier = AttentionBertClassifierBase(\n",
    "    kg_manager,\n",
    "    graph_representation_generator_attention.get_embedding,\n",
    ")"
   ]
  },
  {
   "cell_type": "code",
   "execution_count": 16,
   "metadata": {},
   "outputs": [],
   "source": [
    "dataset_embedding = kg_manager.generate_attention_embedding_dataset(\n",
    "    attention_bert_classifier.tokenizer.sep_token,\n",
    "    attention_bert_classifier.tokenizer.pad_token,\n",
    "    attention_bert_classifier.tokenize_function,\n",
    ")"
   ]
  },
  {
   "cell_type": "code",
   "execution_count": 17,
   "metadata": {},
   "outputs": [],
   "source": [
    "#attention_bert_classifier.train_model_on_data(dataset_embedding, epochs=EPOCHS, batch_size = BATCH_SIZE)"
   ]
  },
  {
   "cell_type": "code",
   "execution_count": 18,
   "metadata": {},
   "outputs": [],
   "source": [
    "# kg_manager.add_false_edges(\n",
    "#     2.0, graph_representation_generator_prompt.get_embedding, graph_representation_generator_attention.get_embedding, splits = [\"train\"]\n",
    "# )"
   ]
  },
  {
   "cell_type": "code",
   "execution_count": 19,
   "metadata": {},
   "outputs": [],
   "source": [
    "vanilla_bert_classifier = VanillaBertClassifier(\n",
    "    kg_manager.llm_df,\n",
    "    kg_manager.source_df,\n",
    "    kg_manager.target_df,\n",
    "    false_ratio=-1,\n",
    ")\n",
    "prompt_bert_classifier = PromptBertClassifier(\n",
    "    kg_manager,\n",
    "    graph_representation_generator_prompt.get_embedding,\n",
    "    model_max_length=512,\n",
    "    false_ratio=-1,\n",
    ")\n",
    "attention_bert_classifier = AttentionBertClassifierBase(\n",
    "    kg_manager,\n",
    "    graph_representation_generator_attention.get_embedding,\n",
    "    false_ratio=-1,\n",
    ")\n"
   ]
  },
  {
   "cell_type": "code",
   "execution_count": 20,
   "metadata": {},
   "outputs": [],
   "source": [
    "dataset_vanilla_fixed = kg_manager.generate_vanilla_dataset(\n",
    "    vanilla_bert_classifier.tokenize_function, suffix=\"_fixed\"\n",
    ")\n",
    "dataset_prompt_fixed = kg_manager.generate_prompt_embedding_dataset(\n",
    "    prompt_bert_classifier.tokenize_function,\n",
    "    suffix=\"_fixed\",\n",
    ")\n",
    "dataset_attention_fixed = kg_manager.generate_attention_embedding_dataset(\n",
    "    attention_bert_classifier.tokenizer.sep_token,\n",
    "    attention_bert_classifier.tokenizer.pad_token,\n",
    "    attention_bert_classifier.tokenize_function,\n",
    "    suffix=\"_fixed\",\n",
    ")"
   ]
  },
  {
   "cell_type": "code",
   "execution_count": 21,
   "metadata": {},
   "outputs": [
    {
     "data": {
      "text/plain": [
       "\"0[SEP]62[SEP]From Dusk Till Dawn (1996)[SEP]['Action', 'Comedy', 'Horror', 'Thriller']\""
      ]
     },
     "execution_count": 21,
     "metadata": {},
     "output_type": "execute_result"
    }
   ],
   "source": [
    "dataset_vanilla_fixed[\"val\"][\"prompt\"][0]"
   ]
  },
  {
   "cell_type": "code",
   "execution_count": 22,
   "metadata": {},
   "outputs": [
    {
     "name": "stdout",
     "output_type": "stream",
     "text": [
      "Vanilla train Forward Epoch 1 from 1\n"
     ]
    },
    {
     "name": "stderr",
     "output_type": "stream",
     "text": [
      "BertSdpaSelfAttention is used but `torch.nn.functional.scaled_dot_product_attention` does not support non-absolute `position_embedding_type` or `output_attentions=True` or `head_mask`. Falling back to the manual attention implementation, but specifying the manual implementation will be required from Transformers version v5.0.0 onwards. This warning can be removed using the argument `attn_implementation=\"eager\"` when loading the model.\n"
     ]
    },
    {
     "ename": "TypeError",
     "evalue": "list indices must be integers or slices, not tuple",
     "output_type": "error",
     "traceback": [
      "\u001b[1;31m---------------------------------------------------------------------------\u001b[0m",
      "\u001b[1;31mTypeError\u001b[0m                                 Traceback (most recent call last)",
      "Cell \u001b[1;32mIn[22], line 1\u001b[0m\n\u001b[1;32m----> 1\u001b[0m \u001b[43mvanilla_bert_classifier\u001b[49m\u001b[38;5;241;43m.\u001b[39;49m\u001b[43mforward_dataset_and_save_outputs\u001b[49m\u001b[43m(\u001b[49m\n\u001b[0;32m      2\u001b[0m \u001b[43m    \u001b[49m\u001b[43mdataset_vanilla_fixed\u001b[49m\u001b[43m,\u001b[49m\u001b[43m \u001b[49m\u001b[43mkg_manager\u001b[49m\u001b[38;5;241;43m.\u001b[39;49m\u001b[43mget_vanilla_tokens_as_df\u001b[49m\u001b[43m,\u001b[49m\u001b[43m \u001b[49m\u001b[43mepochs\u001b[49m\u001b[38;5;241;43m=\u001b[39;49m\u001b[38;5;241;43m1\u001b[39;49m\u001b[43m,\u001b[49m\u001b[43m \u001b[49m\u001b[43mbatch_size\u001b[49m\u001b[38;5;241;43m=\u001b[39;49m\u001b[43mBATCH_SIZE\u001b[49m\n\u001b[0;32m      3\u001b[0m \u001b[43m)\u001b[49m\n\u001b[0;32m      4\u001b[0m prompt_bert_classifier\u001b[38;5;241m.\u001b[39mforward_dataset_and_save_outputs(dataset_prompt_fixed, kg_manager\u001b[38;5;241m.\u001b[39mget_prompt_tokens_as_df, epochs\u001b[38;5;241m=\u001b[39m\u001b[38;5;241m1\u001b[39m)\n\u001b[0;32m      5\u001b[0m df \u001b[38;5;241m=\u001b[39m attention_bert_classifier\u001b[38;5;241m.\u001b[39mforward_dataset_and_save_outputs(\n\u001b[0;32m      6\u001b[0m     dataset_attention_fixed, kg_manager\u001b[38;5;241m.\u001b[39mget_vanilla_tokens_as_df, epochs\u001b[38;5;241m=\u001b[39m\u001b[38;5;241m1\u001b[39m, batch_size\u001b[38;5;241m=\u001b[39mBATCH_SIZE\n\u001b[0;32m      7\u001b[0m )\n",
      "File \u001b[1;32mc:\\Users\\MARS\\Ahmad\\Hauptprojekt\\llm_manager.py:1902\u001b[0m, in \u001b[0;36mVanillaBertClassifier.forward_dataset_and_save_outputs\u001b[1;34m(self, dataset, get_tokens_as_df_cb, splits, batch_size, epochs, load_fields, force_recompute)\u001b[0m\n\u001b[0;32m   1898\u001b[0m     hidden_states_on_each_layer \u001b[38;5;241m=\u001b[39m np\u001b[38;5;241m.\u001b[39mstack(\n\u001b[0;32m   1899\u001b[0m         hidden_states_on_each_layer\n\u001b[0;32m   1900\u001b[0m     )\n\u001b[0;32m   1901\u001b[0m     all_hidden_states\u001b[38;5;241m.\u001b[39mappend(hidden_states_on_each_layer)\n\u001b[1;32m-> 1902\u001b[0m tokens \u001b[38;5;241m=\u001b[39m \u001b[43mget_tokens_as_df_cb\u001b[49m\u001b[43m(\u001b[49m\n\u001b[0;32m   1903\u001b[0m \u001b[43m    \u001b[49m\u001b[43minput_ids\u001b[49m\u001b[43m,\u001b[49m\n\u001b[0;32m   1904\u001b[0m \u001b[43m    \u001b[49m\u001b[38;5;28;43mself\u001b[39;49m\u001b[38;5;241;43m.\u001b[39;49m\u001b[43mtokenizer\u001b[49m\u001b[43m,\u001b[49m\n\u001b[0;32m   1905\u001b[0m \u001b[43m    \u001b[49m\u001b[43msemantic_positional_encoding\u001b[49m\u001b[43m,\u001b[49m\n\u001b[0;32m   1906\u001b[0m \u001b[43m\u001b[49m\u001b[43m)\u001b[49m\n\u001b[0;32m   1907\u001b[0m tokens[\u001b[38;5;124m\"\u001b[39m\u001b[38;5;124mlabels\u001b[39m\u001b[38;5;124m\"\u001b[39m] \u001b[38;5;241m=\u001b[39m batch[\u001b[38;5;124m\"\u001b[39m\u001b[38;5;124mlabels\u001b[39m\u001b[38;5;124m\"\u001b[39m]\u001b[38;5;241m.\u001b[39mtolist()\n\u001b[0;32m   1908\u001b[0m tokens[\u001b[38;5;124m\"\u001b[39m\u001b[38;5;124msplit\u001b[39m\u001b[38;5;124m\"\u001b[39m] \u001b[38;5;241m=\u001b[39m splits_\n",
      "File \u001b[1;32mc:\\Users\\MARS\\Ahmad\\Hauptprojekt\\dataset_manager.py:733\u001b[0m, in \u001b[0;36mMovieLensManager.get_vanilla_tokens_as_df\u001b[1;34m(self, input_ids, tokenizer, all_semantic_positional_encoding)\u001b[0m\n\u001b[0;32m    729\u001b[0m all_semantic_tokens \u001b[38;5;241m=\u001b[39m [user_ids, titles, genres]\n\u001b[0;32m    730\u001b[0m \u001b[38;5;28mself\u001b[39m\u001b[38;5;241m.\u001b[39mfill_all_semantic_tokens(\n\u001b[0;32m    731\u001b[0m     all_semantic_tokens, input_ids, tokenizer, all_semantic_positional_encoding\n\u001b[0;32m    732\u001b[0m )\n\u001b[1;32m--> 733\u001b[0m \u001b[38;5;28mprint\u001b[39m(\u001b[43mall_semantic_tokens\u001b[49m\u001b[43m[\u001b[49m\u001b[43m:\u001b[49m\u001b[43m,\u001b[49m\u001b[43m \u001b[49m\u001b[38;5;241;43m0\u001b[39;49m\u001b[43m]\u001b[49m)\n\u001b[0;32m    734\u001b[0m all_semantic_tokens[\u001b[38;5;241m0\u001b[39m] \u001b[38;5;241m=\u001b[39m [\u001b[38;5;28mint\u001b[39m(\u001b[38;5;28mid\u001b[39m) \u001b[38;5;28;01mfor\u001b[39;00m \u001b[38;5;28mid\u001b[39m \u001b[38;5;129;01min\u001b[39;00m all_semantic_tokens[\u001b[38;5;241m0\u001b[39m]]\n\u001b[0;32m    735\u001b[0m all_semantic_tokens[\u001b[38;5;241m1\u001b[39m] \u001b[38;5;241m=\u001b[39m [\u001b[38;5;28mint\u001b[39m(\u001b[38;5;28mid\u001b[39m) \u001b[38;5;28;01mfor\u001b[39;00m \u001b[38;5;28mid\u001b[39m \u001b[38;5;129;01min\u001b[39;00m all_semantic_tokens[\u001b[38;5;241m1\u001b[39m]]\n",
      "\u001b[1;31mTypeError\u001b[0m: list indices must be integers or slices, not tuple"
     ]
    }
   ],
   "source": [
    "vanilla_bert_classifier.forward_dataset_and_save_outputs(\n",
    "    dataset_vanilla_fixed, kg_manager.get_vanilla_tokens_as_df, epochs=1, batch_size=BATCH_SIZE\n",
    ")\n",
    "prompt_bert_classifier.forward_dataset_and_save_outputs(dataset_prompt_fixed, kg_manager.get_prompt_tokens_as_df, epochs=1)\n",
    "df = attention_bert_classifier.forward_dataset_and_save_outputs(\n",
    "    dataset_attention_fixed, kg_manager.get_vanilla_tokens_as_df, epochs=1, batch_size=BATCH_SIZE\n",
    ")"
   ]
  }
 ],
 "metadata": {
  "kernelspec": {
   "display_name": "grundprojekt",
   "language": "python",
   "name": "python3"
  },
  "language_info": {
   "codemirror_mode": {
    "name": "ipython",
    "version": 3
   },
   "file_extension": ".py",
   "mimetype": "text/x-python",
   "name": "python",
   "nbconvert_exporter": "python",
   "pygments_lexer": "ipython3",
   "version": "3.12.4"
  }
 },
 "nbformat": 4,
 "nbformat_minor": 2
}
