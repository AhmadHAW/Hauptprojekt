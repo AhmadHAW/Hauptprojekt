{
 "cells": [
  {
   "cell_type": "markdown",
   "metadata": {},
   "source": [
    "# Training and Evaluation of GNNs and LLMs\n",
    "In this notebook, we train the models on the [MovieLens Dataset](https://movielens.org/) after the Pytorch Geometrics Tutorial on [Link Prediction](https://colab.research.google.com/drive/1xpzn1Nvai1ygd_P5Yambc_oe4VBPK_ZT?usp=sharing#scrollTo=vit8xKCiXAue).\n",
    "\n",
    "First we import all of our dependencies.\n",
    "\n",
    "The **GNNTrainer** manages and trains a GNN model. Its most important interfaces include\n",
    "**the constructor**, which defines the GNN architecture and loads the pre-trained GNN model if it is already on the hard disk,\n",
    "**the training method**, which initializes the training on the GNN model and\n",
    "**the get_embedding methods**, which represent the inference interface to the GNN model and return the corresponding embeddings in the dimension defined in the constructor for given user movie node pairs.\n",
    "\n",
    "**The MovieLensLoader** loads and manages the data sets. The most important tasks include **saving and (re)loading and transforming** the data sets.\n",
    "\n",
    "**PromptEncoderOnlyClassifier** and **VanillaEncoderOnlyClassifier** each manage a **prompt (model) LLM** and a **vanilla (model) LLM**. An EncoderOnlyClassifier (ClassifierBase) provides interfaces for training and testing an LLM model.\n",
    "PromptEncoder and VanillaEncoder differ from their DataCollectors. DataCollectors change the behavior of the models during training and testing and allow data points to be created at runtime. With the help of these collators, we **create non-existent edges on the fly**."
   ]
  },
  {
   "cell_type": "code",
   "execution_count": 1,
   "metadata": {},
   "outputs": [],
   "source": [
    "from gnn import GNNTrainer\n",
    "from movie_lens_loader import MovieLensLoader\n",
    "from llm import PromptBertClassifier, VanillaBertClassifier, AddingEmbeddingsBertClassifierBase\n",
    "\n",
    "from transformers import AutoConfig"
   ]
  },
  {
   "cell_type": "markdown",
   "metadata": {},
   "source": [
    "We define in advance which **Knowledge Graph Embedding Dimension (KGE_DIMENSION)** the GNN encoder has. We want to determine from which output dimension the GNN encoder can produce embeddings that lead to a significant increase in performance *without exceeding the context length of the LLMs*. In the original tutorial, the KGE_DIMENSION was $64$."
   ]
  },
  {
   "cell_type": "code",
   "execution_count": 2,
   "metadata": {},
   "outputs": [],
   "source": [
    "MODEL_NAME = \"google/bert_uncased_L-2_H-128_A-2\"\n",
    "MODEL_HIDDEN_SIZE = AutoConfig.from_pretrained(MODEL_NAME).hidden_size\n",
    "SMALL_KGE_DIMENSION = 4\n",
    "LARGE_KGE_DIMENSION = MODEL_HIDDEN_SIZE\n",
    "KGE_DIMENSIONS = [SMALL_KGE_DIMENSION, LARGE_KGE_DIMENSION] # Output Dimension of the GNN Encoder.\n",
    "EPOCHS = 20\n",
    "BATCH_SIZE = 256"
   ]
  },
  {
   "cell_type": "markdown",
   "metadata": {},
   "source": [
    "First we load the MovieLensLoader, which downloads the Movie Lens dataset (https://files.grouplens.org/datasets/movielens/ml-latest-small.zip) and prepares it to be used on GNN and LLM. We also pass the embedding dimensions that we will assume we are training with. First time takes approx. 30 sec."
   ]
  },
  {
   "cell_type": "code",
   "execution_count": 3,
   "metadata": {},
   "outputs": [],
   "source": [
    "\n",
    "movie_lens_loader = MovieLensLoader(kge_dimensions = KGE_DIMENSIONS)"
   ]
  },
  {
   "cell_type": "code",
   "execution_count": 4,
   "metadata": {},
   "outputs": [
    {
     "data": {
      "text/html": [
       "<div>\n",
       "<style scoped>\n",
       "    .dataframe tbody tr th:only-of-type {\n",
       "        vertical-align: middle;\n",
       "    }\n",
       "\n",
       "    .dataframe tbody tr th {\n",
       "        vertical-align: top;\n",
       "    }\n",
       "\n",
       "    .dataframe thead th {\n",
       "        text-align: right;\n",
       "    }\n",
       "</style>\n",
       "<table border=\"1\" class=\"dataframe\">\n",
       "  <thead>\n",
       "    <tr style=\"text-align: right;\">\n",
       "      <th></th>\n",
       "      <th>mappedUserId</th>\n",
       "      <th>mappedMovieId</th>\n",
       "      <th>title</th>\n",
       "      <th>genres</th>\n",
       "      <th>prompt</th>\n",
       "      <th>split</th>\n",
       "      <th>user_embedding_4</th>\n",
       "      <th>movie_embedding_4</th>\n",
       "      <th>user_embedding_128</th>\n",
       "      <th>movie_embedding_128</th>\n",
       "    </tr>\n",
       "  </thead>\n",
       "  <tbody>\n",
       "    <tr>\n",
       "      <th>0</th>\n",
       "      <td>0</td>\n",
       "      <td>0</td>\n",
       "      <td>Toy Story (1995)</td>\n",
       "      <td>['Adventure', 'Animation', 'Children', 'Comedy...</td>\n",
       "      <td>user: 0[SEP]title: Toy Story (1995)[SEP]genres...</td>\n",
       "      <td>val</td>\n",
       "      <td>[-1.1001030206680298, 1.8915419578552246, 1.12...</td>\n",
       "      <td>[-0.5872145891189575, 0.7743701934814453, 1.61...</td>\n",
       "      <td>[0.08414871990680695, -0.8586543798446655, -0....</td>\n",
       "      <td>[0.16821661591529846, -0.092796690762043, -0.3...</td>\n",
       "    </tr>\n",
       "    <tr>\n",
       "      <th>1</th>\n",
       "      <td>0</td>\n",
       "      <td>2</td>\n",
       "      <td>Grumpier Old Men (1995)</td>\n",
       "      <td>['Comedy', 'Romance']</td>\n",
       "      <td>user: 0[SEP]title: Grumpier Old Men (1995)[SEP...</td>\n",
       "      <td>train</td>\n",
       "      <td>[-1.1077896356582642, 2.1780264377593994, 1.23...</td>\n",
       "      <td>[0.09496331214904785, 0.2714781165122986, 1.88...</td>\n",
       "      <td>[0.05774740129709244, -0.9950929284095764, -0....</td>\n",
       "      <td>[0.490773469209671, 0.3398897647857666, -0.477...</td>\n",
       "    </tr>\n",
       "    <tr>\n",
       "      <th>2</th>\n",
       "      <td>0</td>\n",
       "      <td>5</td>\n",
       "      <td>Heat (1995)</td>\n",
       "      <td>['Action', 'Crime', 'Thriller']</td>\n",
       "      <td>user: 0[SEP]title: Heat (1995)[SEP]genres: ['A...</td>\n",
       "      <td>train</td>\n",
       "      <td>[-1.2368007898330688, 1.965051293373108, 1.000...</td>\n",
       "      <td>[-0.31836411356925964, -0.3369845151901245, 2....</td>\n",
       "      <td>[0.12886668741703033, -0.9324935674667358, -0....</td>\n",
       "      <td>[0.04016011953353882, 0.29606175422668457, -0....</td>\n",
       "    </tr>\n",
       "    <tr>\n",
       "      <th>3</th>\n",
       "      <td>0</td>\n",
       "      <td>43</td>\n",
       "      <td>Seven (a.k.a. Se7en) (1995)</td>\n",
       "      <td>['Mystery', 'Thriller']</td>\n",
       "      <td>user: 0[SEP]title: Seven (a.k.a. Se7en) (1995)...</td>\n",
       "      <td>train</td>\n",
       "      <td>[-1.1827130317687988, 2.0680408477783203, 1.21...</td>\n",
       "      <td>[-1.0212271213531494, 0.4136617183685303, 2.13...</td>\n",
       "      <td>[0.007488217204809189, -0.8364493250846863, -0...</td>\n",
       "      <td>[0.08211947977542877, 0.01935999095439911, -0....</td>\n",
       "    </tr>\n",
       "    <tr>\n",
       "      <th>4</th>\n",
       "      <td>0</td>\n",
       "      <td>46</td>\n",
       "      <td>Usual Suspects, The (1995)</td>\n",
       "      <td>['Crime', 'Mystery', 'Thriller']</td>\n",
       "      <td>user: 0[SEP]title: Usual Suspects, The (1995)[...</td>\n",
       "      <td>test</td>\n",
       "      <td>[-1.0296814441680908, 2.030970811843872, 1.094...</td>\n",
       "      <td>[-0.7692033052444458, 0.5881525874137878, 1.53...</td>\n",
       "      <td>[0.07757449150085449, -0.9171958565711975, -0....</td>\n",
       "      <td>[0.1306394338607788, 0.0786743313074112, -0.00...</td>\n",
       "    </tr>\n",
       "  </tbody>\n",
       "</table>\n",
       "</div>"
      ],
      "text/plain": [
       "   mappedUserId  mappedMovieId                        title  \\\n",
       "0             0              0             Toy Story (1995)   \n",
       "1             0              2      Grumpier Old Men (1995)   \n",
       "2             0              5                  Heat (1995)   \n",
       "3             0             43  Seven (a.k.a. Se7en) (1995)   \n",
       "4             0             46   Usual Suspects, The (1995)   \n",
       "\n",
       "                                              genres  \\\n",
       "0  ['Adventure', 'Animation', 'Children', 'Comedy...   \n",
       "1                              ['Comedy', 'Romance']   \n",
       "2                    ['Action', 'Crime', 'Thriller']   \n",
       "3                            ['Mystery', 'Thriller']   \n",
       "4                   ['Crime', 'Mystery', 'Thriller']   \n",
       "\n",
       "                                              prompt  split  \\\n",
       "0  user: 0[SEP]title: Toy Story (1995)[SEP]genres...    val   \n",
       "1  user: 0[SEP]title: Grumpier Old Men (1995)[SEP...  train   \n",
       "2  user: 0[SEP]title: Heat (1995)[SEP]genres: ['A...  train   \n",
       "3  user: 0[SEP]title: Seven (a.k.a. Se7en) (1995)...  train   \n",
       "4  user: 0[SEP]title: Usual Suspects, The (1995)[...   test   \n",
       "\n",
       "                                    user_embedding_4  \\\n",
       "0  [-1.1001030206680298, 1.8915419578552246, 1.12...   \n",
       "1  [-1.1077896356582642, 2.1780264377593994, 1.23...   \n",
       "2  [-1.2368007898330688, 1.965051293373108, 1.000...   \n",
       "3  [-1.1827130317687988, 2.0680408477783203, 1.21...   \n",
       "4  [-1.0296814441680908, 2.030970811843872, 1.094...   \n",
       "\n",
       "                                   movie_embedding_4  \\\n",
       "0  [-0.5872145891189575, 0.7743701934814453, 1.61...   \n",
       "1  [0.09496331214904785, 0.2714781165122986, 1.88...   \n",
       "2  [-0.31836411356925964, -0.3369845151901245, 2....   \n",
       "3  [-1.0212271213531494, 0.4136617183685303, 2.13...   \n",
       "4  [-0.7692033052444458, 0.5881525874137878, 1.53...   \n",
       "\n",
       "                                  user_embedding_128  \\\n",
       "0  [0.08414871990680695, -0.8586543798446655, -0....   \n",
       "1  [0.05774740129709244, -0.9950929284095764, -0....   \n",
       "2  [0.12886668741703033, -0.9324935674667358, -0....   \n",
       "3  [0.007488217204809189, -0.8364493250846863, -0...   \n",
       "4  [0.07757449150085449, -0.9171958565711975, -0....   \n",
       "\n",
       "                                 movie_embedding_128  \n",
       "0  [0.16821661591529846, -0.092796690762043, -0.3...  \n",
       "1  [0.490773469209671, 0.3398897647857666, -0.477...  \n",
       "2  [0.04016011953353882, 0.29606175422668457, -0....  \n",
       "3  [0.08211947977542877, 0.01935999095439911, -0....  \n",
       "4  [0.1306394338607788, 0.0786743313074112, -0.00...  "
      ]
     },
     "execution_count": 4,
     "metadata": {},
     "output_type": "execute_result"
    }
   ],
   "source": [
    "movie_lens_loader.llm_df.head()"
   ]
  },
  {
   "cell_type": "markdown",
   "metadata": {},
   "source": [
    "Next, we initialize the GNN trainers (possible on Cuda), one for each KGE_DIMENSION.\n",
    "A GNN trainer manages a model and each model consists of an **encoder and classifier** part.\n",
    "\n",
    "**The encoder** is a parameterized *Grap Convolutional Network (GCN)* with a *2-layer GNN computation graph* and a single *ReLU* activation function in between.\n",
    "\n",
    "**The classifier** applies the dot-product between source and destination kges to derive edge-level predictions."
   ]
  },
  {
   "cell_type": "code",
   "execution_count": 5,
   "metadata": {},
   "outputs": [
    {
     "name": "stdout",
     "output_type": "stream",
     "text": [
      "loading pretrained model\n",
      "Device: 'cuda'\n",
      "loading pretrained model\n",
      "Device: 'cuda'\n"
     ]
    }
   ],
   "source": [
    "gnn_trainer =    GNNTrainer(movie_lens_loader.data, kge_dimension = SMALL_KGE_DIMENSION)\n",
    "gnn_trainer_large = GNNTrainer(movie_lens_loader.data, hidden_channels=MODEL_HIDDEN_SIZE, kge_dimension=MODEL_HIDDEN_SIZE)"
   ]
  },
  {
   "cell_type": "markdown",
   "metadata": {},
   "source": [
    "We then train and validate the model on the link prediction task.\n",
    "\n",
    "If the model is already trained, we can skip this part.\n",
    "Training the models can take up to 5 minutes."
   ]
  },
  {
   "cell_type": "code",
   "execution_count": 6,
   "metadata": {},
   "outputs": [
    {
     "name": "stdout",
     "output_type": "stream",
     "text": [
      "4\n"
     ]
    },
    {
     "name": "stderr",
     "output_type": "stream",
     "text": [
      "100%|██████████| 79/79 [00:04<00:00, 17.09it/s]\n"
     ]
    },
    {
     "name": "stdout",
     "output_type": "stream",
     "text": [
      "\n",
      "Validation AUC: 0.9342\n",
      "128\n"
     ]
    },
    {
     "name": "stderr",
     "output_type": "stream",
     "text": [
      "100%|██████████| 79/79 [00:04<00:00, 17.10it/s]"
     ]
    },
    {
     "name": "stdout",
     "output_type": "stream",
     "text": [
      "\n",
      "Validation AUC: 0.9280\n"
     ]
    },
    {
     "name": "stderr",
     "output_type": "stream",
     "text": [
      "\n"
     ]
    }
   ],
   "source": [
    "\n",
    "print(gnn_trainer.kge_dimension)\n",
    "#gnn_trainer.train_model(movie_lens_loader.gnn_train_data, EPOCHS)\n",
    "gnn_trainer.validate_model(movie_lens_loader.gnn_test_data)\n",
    "print(gnn_trainer_large.kge_dimension)\n",
    "#gnn_trainer_large.train_model(movie_lens_loader.gnn_train_data, EPOCHS)\n",
    "gnn_trainer_large.validate_model(movie_lens_loader.gnn_test_data)\n"
   ]
  },
  {
   "cell_type": "markdown",
   "metadata": {},
   "source": [
    "Next we produce the KGEs for every edge in the dataset. These embeddings can then be used for the LLM on the link-prediction task."
   ]
  },
  {
   "cell_type": "code",
   "execution_count": 7,
   "metadata": {},
   "outputs": [
    {
     "data": {
      "text/html": [
       "<div>\n",
       "<style scoped>\n",
       "    .dataframe tbody tr th:only-of-type {\n",
       "        vertical-align: middle;\n",
       "    }\n",
       "\n",
       "    .dataframe tbody tr th {\n",
       "        vertical-align: top;\n",
       "    }\n",
       "\n",
       "    .dataframe thead th {\n",
       "        text-align: right;\n",
       "    }\n",
       "</style>\n",
       "<table border=\"1\" class=\"dataframe\">\n",
       "  <thead>\n",
       "    <tr style=\"text-align: right;\">\n",
       "      <th></th>\n",
       "      <th>mappedUserId</th>\n",
       "      <th>mappedMovieId</th>\n",
       "      <th>title</th>\n",
       "      <th>genres</th>\n",
       "      <th>prompt</th>\n",
       "      <th>split</th>\n",
       "      <th>user_embedding_4</th>\n",
       "      <th>movie_embedding_4</th>\n",
       "      <th>user_embedding_128</th>\n",
       "      <th>movie_embedding_128</th>\n",
       "    </tr>\n",
       "  </thead>\n",
       "  <tbody>\n",
       "    <tr>\n",
       "      <th>0</th>\n",
       "      <td>0</td>\n",
       "      <td>0</td>\n",
       "      <td>Toy Story (1995)</td>\n",
       "      <td>['Adventure', 'Animation', 'Children', 'Comedy...</td>\n",
       "      <td>user: 0[SEP]title: Toy Story (1995)[SEP]genres...</td>\n",
       "      <td>val</td>\n",
       "      <td>[-1.1001030206680298, 1.8915419578552246, 1.12...</td>\n",
       "      <td>[-0.5872145891189575, 0.7743701934814453, 1.61...</td>\n",
       "      <td>[0.08414871990680695, -0.8586543798446655, -0....</td>\n",
       "      <td>[0.16821661591529846, -0.092796690762043, -0.3...</td>\n",
       "    </tr>\n",
       "    <tr>\n",
       "      <th>1</th>\n",
       "      <td>0</td>\n",
       "      <td>2</td>\n",
       "      <td>Grumpier Old Men (1995)</td>\n",
       "      <td>['Comedy', 'Romance']</td>\n",
       "      <td>user: 0[SEP]title: Grumpier Old Men (1995)[SEP...</td>\n",
       "      <td>train</td>\n",
       "      <td>[-1.1077896356582642, 2.1780264377593994, 1.23...</td>\n",
       "      <td>[0.09496331214904785, 0.2714781165122986, 1.88...</td>\n",
       "      <td>[0.05774740129709244, -0.9950929284095764, -0....</td>\n",
       "      <td>[0.490773469209671, 0.3398897647857666, -0.477...</td>\n",
       "    </tr>\n",
       "    <tr>\n",
       "      <th>2</th>\n",
       "      <td>0</td>\n",
       "      <td>5</td>\n",
       "      <td>Heat (1995)</td>\n",
       "      <td>['Action', 'Crime', 'Thriller']</td>\n",
       "      <td>user: 0[SEP]title: Heat (1995)[SEP]genres: ['A...</td>\n",
       "      <td>train</td>\n",
       "      <td>[-1.2368007898330688, 1.965051293373108, 1.000...</td>\n",
       "      <td>[-0.31836411356925964, -0.3369845151901245, 2....</td>\n",
       "      <td>[0.12886668741703033, -0.9324935674667358, -0....</td>\n",
       "      <td>[0.04016011953353882, 0.29606175422668457, -0....</td>\n",
       "    </tr>\n",
       "    <tr>\n",
       "      <th>3</th>\n",
       "      <td>0</td>\n",
       "      <td>43</td>\n",
       "      <td>Seven (a.k.a. Se7en) (1995)</td>\n",
       "      <td>['Mystery', 'Thriller']</td>\n",
       "      <td>user: 0[SEP]title: Seven (a.k.a. Se7en) (1995)...</td>\n",
       "      <td>train</td>\n",
       "      <td>[-1.1827130317687988, 2.0680408477783203, 1.21...</td>\n",
       "      <td>[-1.0212271213531494, 0.4136617183685303, 2.13...</td>\n",
       "      <td>[0.007488217204809189, -0.8364493250846863, -0...</td>\n",
       "      <td>[0.08211947977542877, 0.01935999095439911, -0....</td>\n",
       "    </tr>\n",
       "    <tr>\n",
       "      <th>4</th>\n",
       "      <td>0</td>\n",
       "      <td>46</td>\n",
       "      <td>Usual Suspects, The (1995)</td>\n",
       "      <td>['Crime', 'Mystery', 'Thriller']</td>\n",
       "      <td>user: 0[SEP]title: Usual Suspects, The (1995)[...</td>\n",
       "      <td>test</td>\n",
       "      <td>[-1.0296814441680908, 2.030970811843872, 1.094...</td>\n",
       "      <td>[-0.7692033052444458, 0.5881525874137878, 1.53...</td>\n",
       "      <td>[0.07757449150085449, -0.9171958565711975, -0....</td>\n",
       "      <td>[0.1306394338607788, 0.0786743313074112, -0.00...</td>\n",
       "    </tr>\n",
       "  </tbody>\n",
       "</table>\n",
       "</div>"
      ],
      "text/plain": [
       "   mappedUserId  mappedMovieId                        title  \\\n",
       "0             0              0             Toy Story (1995)   \n",
       "1             0              2      Grumpier Old Men (1995)   \n",
       "2             0              5                  Heat (1995)   \n",
       "3             0             43  Seven (a.k.a. Se7en) (1995)   \n",
       "4             0             46   Usual Suspects, The (1995)   \n",
       "\n",
       "                                              genres  \\\n",
       "0  ['Adventure', 'Animation', 'Children', 'Comedy...   \n",
       "1                              ['Comedy', 'Romance']   \n",
       "2                    ['Action', 'Crime', 'Thriller']   \n",
       "3                            ['Mystery', 'Thriller']   \n",
       "4                   ['Crime', 'Mystery', 'Thriller']   \n",
       "\n",
       "                                              prompt  split  \\\n",
       "0  user: 0[SEP]title: Toy Story (1995)[SEP]genres...    val   \n",
       "1  user: 0[SEP]title: Grumpier Old Men (1995)[SEP...  train   \n",
       "2  user: 0[SEP]title: Heat (1995)[SEP]genres: ['A...  train   \n",
       "3  user: 0[SEP]title: Seven (a.k.a. Se7en) (1995)...  train   \n",
       "4  user: 0[SEP]title: Usual Suspects, The (1995)[...   test   \n",
       "\n",
       "                                    user_embedding_4  \\\n",
       "0  [-1.1001030206680298, 1.8915419578552246, 1.12...   \n",
       "1  [-1.1077896356582642, 2.1780264377593994, 1.23...   \n",
       "2  [-1.2368007898330688, 1.965051293373108, 1.000...   \n",
       "3  [-1.1827130317687988, 2.0680408477783203, 1.21...   \n",
       "4  [-1.0296814441680908, 2.030970811843872, 1.094...   \n",
       "\n",
       "                                   movie_embedding_4  \\\n",
       "0  [-0.5872145891189575, 0.7743701934814453, 1.61...   \n",
       "1  [0.09496331214904785, 0.2714781165122986, 1.88...   \n",
       "2  [-0.31836411356925964, -0.3369845151901245, 2....   \n",
       "3  [-1.0212271213531494, 0.4136617183685303, 2.13...   \n",
       "4  [-0.7692033052444458, 0.5881525874137878, 1.53...   \n",
       "\n",
       "                                  user_embedding_128  \\\n",
       "0  [0.08414871990680695, -0.8586543798446655, -0....   \n",
       "1  [0.05774740129709244, -0.9950929284095764, -0....   \n",
       "2  [0.12886668741703033, -0.9324935674667358, -0....   \n",
       "3  [0.007488217204809189, -0.8364493250846863, -0...   \n",
       "4  [0.07757449150085449, -0.9171958565711975, -0....   \n",
       "\n",
       "                                 movie_embedding_128  \n",
       "0  [0.16821661591529846, -0.092796690762043, -0.3...  \n",
       "1  [0.490773469209671, 0.3398897647857666, -0.477...  \n",
       "2  [0.04016011953353882, 0.29606175422668457, -0....  \n",
       "3  [0.08211947977542877, 0.01935999095439911, -0....  \n",
       "4  [0.1306394338607788, 0.0786743313074112, -0.00...  "
      ]
     },
     "execution_count": 7,
     "metadata": {},
     "output_type": "execute_result"
    }
   ],
   "source": [
    "gnn_trainer.get_embeddings(movie_lens_loader)\n",
    "gnn_trainer_large.get_embeddings(movie_lens_loader)\n",
    "movie_lens_loader.llm_df.head()"
   ]
  },
  {
   "cell_type": "markdown",
   "metadata": {},
   "source": [
    "Next we initialize the vanilla encoder only classifier. This classifier does only use the NLP part of the prompt (no KGE) for predicting if the given link exists."
   ]
  },
  {
   "cell_type": "code",
   "execution_count": 8,
   "metadata": {},
   "outputs": [],
   "source": [
    "vanilla_bert_classifier = VanillaBertClassifier(movie_lens_loader.llm_df, batch_size=BATCH_SIZE, model_name=MODEL_NAME)"
   ]
  },
  {
   "cell_type": "markdown",
   "metadata": {},
   "source": [
    "Next we generate a vanilla llm dataset and tokenize it for training."
   ]
  },
  {
   "cell_type": "code",
   "execution_count": 9,
   "metadata": {},
   "outputs": [],
   "source": [
    "dataset_vanilla = movie_lens_loader.generate_vanilla_dataset(vanilla_bert_classifier.tokenize_function)"
   ]
  },
  {
   "cell_type": "markdown",
   "metadata": {},
   "source": [
    "Next we train the model on the produced dataset. This can be skipped, if already trained ones."
   ]
  },
  {
   "cell_type": "code",
   "execution_count": 10,
   "metadata": {},
   "outputs": [],
   "source": [
    "#vanilla_bert_classifier.train_model_on_data(dataset_vanilla, epochs=EPOCHS)"
   ]
  },
  {
   "cell_type": "markdown",
   "metadata": {},
   "source": [
    "Next we initialize the prompt encoder only classifier. This classifier uses the vanilla prompt and the KGEs for its link prediction."
   ]
  },
  {
   "cell_type": "code",
   "execution_count": 11,
   "metadata": {},
   "outputs": [
    {
     "name": "stderr",
     "output_type": "stream",
     "text": [
      "Some weights of BertForSequenceClassification were not initialized from the model checkpoint at google/bert_uncased_L-2_H-128_A-2 and are newly initialized: ['classifier.bias', 'classifier.weight']\n",
      "You should probably TRAIN this model on a down-stream task to be able to use it for predictions and inference.\n"
     ]
    }
   ],
   "source": [
    "prompt_bert_classifier = PromptBertClassifier(movie_lens_loader, gnn_trainer.get_embedding, kge_dimension=SMALL_KGE_DIMENSION, batch_size=BATCH_SIZE, model_name=MODEL_NAME)"
   ]
  },
  {
   "cell_type": "markdown",
   "metadata": {},
   "source": [
    "We also generate a prompt dataset, this time the prompts also include the KGEs."
   ]
  },
  {
   "cell_type": "code",
   "execution_count": 12,
   "metadata": {},
   "outputs": [],
   "source": [
    "dataset_prompt = movie_lens_loader.generate_prompt_embedding_dataset(prompt_bert_classifier.tokenize_function, kge_dimension = prompt_bert_classifier.kge_dimension)"
   ]
  },
  {
   "cell_type": "markdown",
   "metadata": {},
   "source": [
    "We also train the model. This can be skipped if already done ones."
   ]
  },
  {
   "cell_type": "code",
   "execution_count": 13,
   "metadata": {},
   "outputs": [
    {
     "data": {
      "application/vnd.jupyter.widget-view+json": {
       "model_id": "2a6fe114ca4c4326ac0834f78a072e80",
       "version_major": 2,
       "version_minor": 0
      },
      "text/plain": [
       "  0%|          | 0/4420 [00:00<?, ?it/s]"
      ]
     },
     "metadata": {},
     "output_type": "display_data"
    },
    {
     "name": "stderr",
     "output_type": "stream",
     "text": [
      "c:\\Users\\MARS\\.conda\\envs\\hauptprojekt\\Lib\\site-packages\\transformers\\models\\bert\\modeling_bert.py:439: UserWarning: 1Torch was not compiled with flash attention. (Triggered internally at ..\\aten\\src\\ATen\\native\\transformers\\cuda\\sdp_utils.cpp:455.)\n",
      "  attn_output = torch.nn.functional.scaled_dot_product_attention(\n"
     ]
    },
    {
     "name": "stdout",
     "output_type": "stream",
     "text": [
      "{'loss': 0.679, 'grad_norm': 2.0133321285247803, 'learning_rate': 1.0000000000000002e-06, 'epoch': 0.05}\n",
      "{'loss': 0.6778, 'grad_norm': 2.2803542613983154, 'learning_rate': 2.0000000000000003e-06, 'epoch': 0.09}\n",
      "{'loss': 0.673, 'grad_norm': 1.5807524919509888, 'learning_rate': 3e-06, 'epoch': 0.14}\n",
      "{'loss': 0.6673, 'grad_norm': 1.5122690200805664, 'learning_rate': 4.000000000000001e-06, 'epoch': 0.18}\n",
      "{'loss': 0.6604, 'grad_norm': 1.2263641357421875, 'learning_rate': 5e-06, 'epoch': 0.23}\n",
      "{'loss': 0.654, 'grad_norm': 1.9036740064620972, 'learning_rate': 6e-06, 'epoch': 0.27}\n",
      "{'loss': 0.6471, 'grad_norm': 1.2255926132202148, 'learning_rate': 7.000000000000001e-06, 'epoch': 0.32}\n",
      "{'loss': 0.6484, 'grad_norm': 0.3636559844017029, 'learning_rate': 8.000000000000001e-06, 'epoch': 0.36}\n",
      "{'loss': 0.6453, 'grad_norm': 0.5044724941253662, 'learning_rate': 9e-06, 'epoch': 0.41}\n",
      "{'loss': 0.6391, 'grad_norm': 0.8040212988853455, 'learning_rate': 1e-05, 'epoch': 0.45}\n",
      "{'loss': 0.6327, 'grad_norm': 0.3139409124851227, 'learning_rate': 1.1000000000000001e-05, 'epoch': 0.5}\n",
      "{'loss': 0.6373, 'grad_norm': 0.2498696744441986, 'learning_rate': 1.2e-05, 'epoch': 0.54}\n",
      "{'loss': 0.6197, 'grad_norm': 0.7329816818237305, 'learning_rate': 1.3000000000000001e-05, 'epoch': 0.59}\n",
      "{'loss': 0.6396, 'grad_norm': 1.1420115232467651, 'learning_rate': 1.4000000000000001e-05, 'epoch': 0.63}\n",
      "{'loss': 0.6244, 'grad_norm': 0.5066423416137695, 'learning_rate': 1.5e-05, 'epoch': 0.68}\n",
      "{'loss': 0.6243, 'grad_norm': 0.2808074951171875, 'learning_rate': 1.6000000000000003e-05, 'epoch': 0.72}\n",
      "{'loss': 0.624, 'grad_norm': 0.7572122812271118, 'learning_rate': 1.7000000000000003e-05, 'epoch': 0.77}\n",
      "{'loss': 0.6288, 'grad_norm': 0.3024705648422241, 'learning_rate': 1.8e-05, 'epoch': 0.81}\n",
      "{'loss': 0.6252, 'grad_norm': 0.3605022728443146, 'learning_rate': 1.9e-05, 'epoch': 0.86}\n",
      "{'loss': 0.6158, 'grad_norm': 0.5583219528198242, 'learning_rate': 2e-05, 'epoch': 0.9}\n",
      "{'loss': 0.6265, 'grad_norm': 1.0844392776489258, 'learning_rate': 2.1e-05, 'epoch': 0.95}\n",
      "{'loss': 0.6185, 'grad_norm': 1.007702350616455, 'learning_rate': 2.2000000000000003e-05, 'epoch': 1.0}\n"
     ]
    },
    {
     "data": {
      "application/vnd.jupyter.widget-view+json": {
       "model_id": "28435077b739479d918f34bbfbf46edf",
       "version_major": 2,
       "version_minor": 0
      },
      "text/plain": [
       "  0%|          | 0/67 [00:00<?, ?it/s]"
      ]
     },
     "metadata": {},
     "output_type": "display_data"
    },
    {
     "name": "stdout",
     "output_type": "stream",
     "text": [
      "{'eval_loss': 0.6177912354469299, 'eval_accuracy': 0.6661999766654999, 'eval_runtime': 166.6224, 'eval_samples_per_second': 102.879, 'eval_steps_per_second': 0.402, 'epoch': 1.0}\n",
      "{'loss': 0.625, 'grad_norm': 0.40551435947418213, 'learning_rate': 2.3000000000000003e-05, 'epoch': 1.04}\n",
      "{'loss': 0.6142, 'grad_norm': 0.41211628913879395, 'learning_rate': 2.4e-05, 'epoch': 1.09}\n",
      "{'loss': 0.6158, 'grad_norm': 0.9771807193756104, 'learning_rate': 2.5e-05, 'epoch': 1.13}\n",
      "{'loss': 0.6055, 'grad_norm': 0.33162227272987366, 'learning_rate': 2.6000000000000002e-05, 'epoch': 1.18}\n",
      "{'loss': 0.6205, 'grad_norm': 0.8342613577842712, 'learning_rate': 2.7000000000000002e-05, 'epoch': 1.22}\n",
      "{'loss': 0.622, 'grad_norm': 0.8178257942199707, 'learning_rate': 2.8000000000000003e-05, 'epoch': 1.27}\n",
      "{'loss': 0.6343, 'grad_norm': 0.9120437502861023, 'learning_rate': 2.9e-05, 'epoch': 1.31}\n",
      "{'loss': 0.6142, 'grad_norm': 0.8860794901847839, 'learning_rate': 3e-05, 'epoch': 1.36}\n",
      "{'loss': 0.6226, 'grad_norm': 0.5648393034934998, 'learning_rate': 3.1e-05, 'epoch': 1.4}\n",
      "{'loss': 0.6003, 'grad_norm': 1.5089699029922485, 'learning_rate': 3.2000000000000005e-05, 'epoch': 1.45}\n",
      "{'loss': 0.6174, 'grad_norm': 0.49912360310554504, 'learning_rate': 3.3e-05, 'epoch': 1.49}\n",
      "{'loss': 0.6096, 'grad_norm': 1.0848954916000366, 'learning_rate': 3.4000000000000007e-05, 'epoch': 1.54}\n",
      "{'loss': 0.6093, 'grad_norm': 0.5890395045280457, 'learning_rate': 3.5e-05, 'epoch': 1.58}\n",
      "{'loss': 0.6036, 'grad_norm': 0.7803230285644531, 'learning_rate': 3.6e-05, 'epoch': 1.63}\n",
      "{'loss': 0.5967, 'grad_norm': 1.2075546979904175, 'learning_rate': 3.7e-05, 'epoch': 1.67}\n",
      "{'loss': 0.602, 'grad_norm': 0.7899077534675598, 'learning_rate': 3.8e-05, 'epoch': 1.72}\n",
      "{'loss': 0.5998, 'grad_norm': 0.8125513792037964, 'learning_rate': 3.9000000000000006e-05, 'epoch': 1.76}\n",
      "{'loss': 0.5889, 'grad_norm': 0.6467033624649048, 'learning_rate': 4e-05, 'epoch': 1.81}\n",
      "{'loss': 0.5773, 'grad_norm': 0.7699625492095947, 'learning_rate': 4.1e-05, 'epoch': 1.86}\n",
      "{'loss': 0.5473, 'grad_norm': 1.1714235544204712, 'learning_rate': 4.2e-05, 'epoch': 1.9}\n",
      "{'loss': 0.5444, 'grad_norm': 3.1406545639038086, 'learning_rate': 4.3e-05, 'epoch': 1.95}\n",
      "{'loss': 0.5524, 'grad_norm': 3.9959535598754883, 'learning_rate': 4.4000000000000006e-05, 'epoch': 1.99}\n"
     ]
    },
    {
     "data": {
      "application/vnd.jupyter.widget-view+json": {
       "model_id": "ac15aa22c9a9460cb81ed511c678aad2",
       "version_major": 2,
       "version_minor": 0
      },
      "text/plain": [
       "  0%|          | 0/67 [00:00<?, ?it/s]"
      ]
     },
     "metadata": {},
     "output_type": "display_data"
    },
    {
     "name": "stdout",
     "output_type": "stream",
     "text": [
      "{'eval_loss': 0.5217620134353638, 'eval_accuracy': 0.7382452455956131, 'eval_runtime': 168.6952, 'eval_samples_per_second': 101.615, 'eval_steps_per_second': 0.397, 'epoch': 2.0}\n",
      "{'loss': 0.5541, 'grad_norm': 1.1645301580429077, 'learning_rate': 4.5e-05, 'epoch': 2.04}\n",
      "{'loss': 0.5285, 'grad_norm': 2.0737507343292236, 'learning_rate': 4.600000000000001e-05, 'epoch': 2.08}\n",
      "{'loss': 0.5417, 'grad_norm': 1.7233505249023438, 'learning_rate': 4.7e-05, 'epoch': 2.13}\n",
      "{'loss': 0.515, 'grad_norm': 5.963149547576904, 'learning_rate': 4.8e-05, 'epoch': 2.17}\n",
      "{'loss': 0.5224, 'grad_norm': 2.123399019241333, 'learning_rate': 4.9e-05, 'epoch': 2.22}\n",
      "{'loss': 0.5018, 'grad_norm': 1.1121021509170532, 'learning_rate': 5e-05, 'epoch': 2.26}\n",
      "{'loss': 0.5205, 'grad_norm': 1.1940871477127075, 'learning_rate': 4.987244897959184e-05, 'epoch': 2.31}\n",
      "{'loss': 0.497, 'grad_norm': 1.5084012746810913, 'learning_rate': 4.974489795918368e-05, 'epoch': 2.35}\n",
      "{'loss': 0.5032, 'grad_norm': 1.2528804540634155, 'learning_rate': 4.961734693877551e-05, 'epoch': 2.4}\n",
      "{'loss': 0.4943, 'grad_norm': 3.075833559036255, 'learning_rate': 4.9489795918367346e-05, 'epoch': 2.44}\n",
      "{'loss': 0.4671, 'grad_norm': 2.3331573009490967, 'learning_rate': 4.9362244897959184e-05, 'epoch': 2.49}\n",
      "{'loss': 0.4816, 'grad_norm': 1.9277418851852417, 'learning_rate': 4.923469387755102e-05, 'epoch': 2.53}\n",
      "{'loss': 0.4965, 'grad_norm': 1.9784746170043945, 'learning_rate': 4.910714285714286e-05, 'epoch': 2.58}\n",
      "{'loss': 0.4839, 'grad_norm': 2.466458559036255, 'learning_rate': 4.89795918367347e-05, 'epoch': 2.62}\n",
      "{'loss': 0.4621, 'grad_norm': 1.3359923362731934, 'learning_rate': 4.8852040816326534e-05, 'epoch': 2.67}\n",
      "{'loss': 0.4877, 'grad_norm': 2.9522383213043213, 'learning_rate': 4.872448979591837e-05, 'epoch': 2.71}\n",
      "{'loss': 0.4626, 'grad_norm': 2.1743664741516113, 'learning_rate': 4.859693877551021e-05, 'epoch': 2.76}\n",
      "{'loss': 0.4721, 'grad_norm': 4.958430290222168, 'learning_rate': 4.846938775510204e-05, 'epoch': 2.81}\n",
      "{'loss': 0.4818, 'grad_norm': 3.4580070972442627, 'learning_rate': 4.834183673469388e-05, 'epoch': 2.85}\n",
      "{'loss': 0.4637, 'grad_norm': 3.4151859283447266, 'learning_rate': 4.8214285714285716e-05, 'epoch': 2.9}\n",
      "{'loss': 0.4721, 'grad_norm': 1.4744192361831665, 'learning_rate': 4.8086734693877554e-05, 'epoch': 2.94}\n",
      "{'loss': 0.4799, 'grad_norm': 2.218616485595703, 'learning_rate': 4.795918367346939e-05, 'epoch': 2.99}\n"
     ]
    },
    {
     "data": {
      "application/vnd.jupyter.widget-view+json": {
       "model_id": "0e0406fe2e684974859c7bc981ef9e37",
       "version_major": 2,
       "version_minor": 0
      },
      "text/plain": [
       "  0%|          | 0/67 [00:00<?, ?it/s]"
      ]
     },
     "metadata": {},
     "output_type": "display_data"
    },
    {
     "name": "stdout",
     "output_type": "stream",
     "text": [
      "{'eval_loss': 0.419197142124176, 'eval_accuracy': 0.8065569945163925, 'eval_runtime': 167.6274, 'eval_samples_per_second': 102.263, 'eval_steps_per_second': 0.4, 'epoch': 3.0}\n",
      "{'loss': 0.4483, 'grad_norm': 2.6346092224121094, 'learning_rate': 4.783163265306123e-05, 'epoch': 3.03}\n",
      "{'loss': 0.4699, 'grad_norm': 2.4391942024230957, 'learning_rate': 4.7704081632653066e-05, 'epoch': 3.08}\n",
      "{'loss': 0.4622, 'grad_norm': 1.942014217376709, 'learning_rate': 4.7576530612244904e-05, 'epoch': 3.12}\n",
      "{'loss': 0.4768, 'grad_norm': 1.635702133178711, 'learning_rate': 4.744897959183674e-05, 'epoch': 3.17}\n",
      "{'loss': 0.4475, 'grad_norm': 1.3766586780548096, 'learning_rate': 4.732142857142857e-05, 'epoch': 3.21}\n",
      "{'loss': 0.4543, 'grad_norm': 1.2722172737121582, 'learning_rate': 4.719387755102041e-05, 'epoch': 3.26}\n",
      "{'loss': 0.4439, 'grad_norm': 1.9239388704299927, 'learning_rate': 4.706632653061225e-05, 'epoch': 3.3}\n",
      "{'loss': 0.4415, 'grad_norm': 2.896433115005493, 'learning_rate': 4.6938775510204086e-05, 'epoch': 3.35}\n",
      "{'loss': 0.4508, 'grad_norm': 1.4242771863937378, 'learning_rate': 4.6811224489795916e-05, 'epoch': 3.39}\n",
      "{'loss': 0.4515, 'grad_norm': 1.7443830966949463, 'learning_rate': 4.6683673469387754e-05, 'epoch': 3.44}\n",
      "{'loss': 0.4479, 'grad_norm': 2.7066633701324463, 'learning_rate': 4.655612244897959e-05, 'epoch': 3.48}\n",
      "{'loss': 0.4371, 'grad_norm': 1.4972829818725586, 'learning_rate': 4.642857142857143e-05, 'epoch': 3.53}\n",
      "{'loss': 0.4286, 'grad_norm': 1.310296893119812, 'learning_rate': 4.630102040816327e-05, 'epoch': 3.57}\n",
      "{'loss': 0.4318, 'grad_norm': 1.2296321392059326, 'learning_rate': 4.6173469387755105e-05, 'epoch': 3.62}\n",
      "{'loss': 0.4587, 'grad_norm': 4.809437274932861, 'learning_rate': 4.604591836734694e-05, 'epoch': 3.67}\n",
      "{'loss': 0.4466, 'grad_norm': 1.9231460094451904, 'learning_rate': 4.591836734693878e-05, 'epoch': 3.71}\n",
      "{'loss': 0.4349, 'grad_norm': 4.517203330993652, 'learning_rate': 4.579081632653062e-05, 'epoch': 3.76}\n",
      "{'loss': 0.4423, 'grad_norm': 1.9455749988555908, 'learning_rate': 4.566326530612245e-05, 'epoch': 3.8}\n",
      "{'loss': 0.4366, 'grad_norm': 1.2347300052642822, 'learning_rate': 4.5535714285714286e-05, 'epoch': 3.85}\n",
      "{'loss': 0.4196, 'grad_norm': 1.4508897066116333, 'learning_rate': 4.5408163265306124e-05, 'epoch': 3.89}\n",
      "{'loss': 0.4371, 'grad_norm': 3.522841215133667, 'learning_rate': 4.528061224489796e-05, 'epoch': 3.94}\n",
      "{'loss': 0.448, 'grad_norm': 2.115290880203247, 'learning_rate': 4.515306122448979e-05, 'epoch': 3.98}\n"
     ]
    },
    {
     "data": {
      "application/vnd.jupyter.widget-view+json": {
       "model_id": "c2663e6898924a4c97cb7b0e4a8d38a1",
       "version_major": 2,
       "version_minor": 0
      },
      "text/plain": [
       "  0%|          | 0/67 [00:00<?, ?it/s]"
      ]
     },
     "metadata": {},
     "output_type": "display_data"
    },
    {
     "name": "stdout",
     "output_type": "stream",
     "text": [
      "{'eval_loss': 0.3925262689590454, 'eval_accuracy': 0.8168825107922063, 'eval_runtime': 168.2904, 'eval_samples_per_second': 101.86, 'eval_steps_per_second': 0.398, 'epoch': 4.0}\n",
      "{'loss': 0.4493, 'grad_norm': 1.1924556493759155, 'learning_rate': 4.502551020408164e-05, 'epoch': 4.03}\n",
      "{'loss': 0.4475, 'grad_norm': 1.7662426233291626, 'learning_rate': 4.4897959183673474e-05, 'epoch': 4.07}\n",
      "{'loss': 0.4268, 'grad_norm': 1.5061163902282715, 'learning_rate': 4.477040816326531e-05, 'epoch': 4.12}\n",
      "{'loss': 0.4318, 'grad_norm': 1.804823398590088, 'learning_rate': 4.464285714285715e-05, 'epoch': 4.16}\n",
      "{'loss': 0.4332, 'grad_norm': 2.086886405944824, 'learning_rate': 4.451530612244898e-05, 'epoch': 4.21}\n",
      "{'loss': 0.4314, 'grad_norm': 2.6553871631622314, 'learning_rate': 4.438775510204082e-05, 'epoch': 4.25}\n",
      "{'loss': 0.4231, 'grad_norm': 1.379791259765625, 'learning_rate': 4.4260204081632656e-05, 'epoch': 4.3}\n",
      "{'loss': 0.4266, 'grad_norm': 1.9438687562942505, 'learning_rate': 4.4132653061224493e-05, 'epoch': 4.34}\n",
      "{'loss': 0.383, 'grad_norm': 1.740181565284729, 'learning_rate': 4.4005102040816324e-05, 'epoch': 4.39}\n",
      "{'loss': 0.4271, 'grad_norm': 2.1935672760009766, 'learning_rate': 4.387755102040816e-05, 'epoch': 4.43}\n",
      "{'loss': 0.4177, 'grad_norm': 1.5798618793487549, 'learning_rate': 4.375e-05, 'epoch': 4.48}\n",
      "{'loss': 0.4112, 'grad_norm': 1.5440176725387573, 'learning_rate': 4.362244897959184e-05, 'epoch': 4.52}\n",
      "{'loss': 0.4371, 'grad_norm': 3.6895153522491455, 'learning_rate': 4.3494897959183675e-05, 'epoch': 4.57}\n",
      "{'loss': 0.4381, 'grad_norm': 1.3094191551208496, 'learning_rate': 4.336734693877551e-05, 'epoch': 4.62}\n",
      "{'loss': 0.4282, 'grad_norm': 1.3629220724105835, 'learning_rate': 4.323979591836735e-05, 'epoch': 4.66}\n",
      "{'loss': 0.4262, 'grad_norm': 1.7858377695083618, 'learning_rate': 4.311224489795919e-05, 'epoch': 4.71}\n",
      "{'loss': 0.4195, 'grad_norm': 1.573738694190979, 'learning_rate': 4.2984693877551025e-05, 'epoch': 4.75}\n",
      "{'loss': 0.4026, 'grad_norm': 3.393162965774536, 'learning_rate': 4.2857142857142856e-05, 'epoch': 4.8}\n",
      "{'loss': 0.3958, 'grad_norm': 2.0919430255889893, 'learning_rate': 4.2729591836734694e-05, 'epoch': 4.84}\n",
      "{'loss': 0.4088, 'grad_norm': 2.4356439113616943, 'learning_rate': 4.260204081632653e-05, 'epoch': 4.89}\n",
      "{'loss': 0.4084, 'grad_norm': 2.1879653930664062, 'learning_rate': 4.247448979591837e-05, 'epoch': 4.93}\n",
      "{'loss': 0.4209, 'grad_norm': 1.3082740306854248, 'learning_rate': 4.234693877551021e-05, 'epoch': 4.98}\n"
     ]
    },
    {
     "data": {
      "application/vnd.jupyter.widget-view+json": {
       "model_id": "65391311d9a841b8b8533e50344b9396",
       "version_major": 2,
       "version_minor": 0
      },
      "text/plain": [
       "  0%|          | 0/67 [00:00<?, ?it/s]"
      ]
     },
     "metadata": {},
     "output_type": "display_data"
    },
    {
     "name": "stdout",
     "output_type": "stream",
     "text": [
      "{'eval_loss': 0.37018483877182007, 'eval_accuracy': 0.8317582545793957, 'eval_runtime': 167.3209, 'eval_samples_per_second': 102.45, 'eval_steps_per_second': 0.4, 'epoch': 5.0}\n",
      "{'loss': 0.4099, 'grad_norm': 2.0873093605041504, 'learning_rate': 4.2219387755102045e-05, 'epoch': 5.02}\n",
      "{'loss': 0.4082, 'grad_norm': 4.340262413024902, 'learning_rate': 4.209183673469388e-05, 'epoch': 5.07}\n",
      "{'loss': 0.4023, 'grad_norm': 2.3191778659820557, 'learning_rate': 4.196428571428572e-05, 'epoch': 5.11}\n",
      "{'loss': 0.4196, 'grad_norm': 2.7521753311157227, 'learning_rate': 4.183673469387756e-05, 'epoch': 5.16}\n",
      "{'loss': 0.409, 'grad_norm': 1.5038940906524658, 'learning_rate': 4.170918367346939e-05, 'epoch': 5.2}\n",
      "{'loss': 0.4159, 'grad_norm': 1.8419475555419922, 'learning_rate': 4.1581632653061226e-05, 'epoch': 5.25}\n",
      "{'loss': 0.4081, 'grad_norm': 2.533839225769043, 'learning_rate': 4.1454081632653064e-05, 'epoch': 5.29}\n",
      "{'loss': 0.4164, 'grad_norm': 1.6267328262329102, 'learning_rate': 4.13265306122449e-05, 'epoch': 5.34}\n",
      "{'loss': 0.4078, 'grad_norm': 2.649557590484619, 'learning_rate': 4.119897959183674e-05, 'epoch': 5.38}\n",
      "{'loss': 0.4081, 'grad_norm': 5.350416660308838, 'learning_rate': 4.107142857142857e-05, 'epoch': 5.43}\n",
      "{'loss': 0.3978, 'grad_norm': 1.658073902130127, 'learning_rate': 4.094387755102041e-05, 'epoch': 5.48}\n",
      "{'loss': 0.4206, 'grad_norm': 2.757364511489868, 'learning_rate': 4.0816326530612245e-05, 'epoch': 5.52}\n",
      "{'loss': 0.4096, 'grad_norm': 2.259957790374756, 'learning_rate': 4.068877551020408e-05, 'epoch': 5.57}\n",
      "{'loss': 0.3966, 'grad_norm': 1.9562397003173828, 'learning_rate': 4.056122448979592e-05, 'epoch': 5.61}\n",
      "{'loss': 0.3947, 'grad_norm': 1.5808202028274536, 'learning_rate': 4.043367346938776e-05, 'epoch': 5.66}\n",
      "{'loss': 0.4163, 'grad_norm': 2.38157057762146, 'learning_rate': 4.0306122448979596e-05, 'epoch': 5.7}\n",
      "{'loss': 0.4012, 'grad_norm': 1.5669398307800293, 'learning_rate': 4.017857142857143e-05, 'epoch': 5.75}\n",
      "{'loss': 0.4209, 'grad_norm': 1.7302331924438477, 'learning_rate': 4.0051020408163264e-05, 'epoch': 5.79}\n",
      "{'loss': 0.3989, 'grad_norm': 1.702684760093689, 'learning_rate': 3.99234693877551e-05, 'epoch': 5.84}\n",
      "{'loss': 0.3898, 'grad_norm': 2.553635597229004, 'learning_rate': 3.979591836734694e-05, 'epoch': 5.88}\n",
      "{'loss': 0.3913, 'grad_norm': 3.8945529460906982, 'learning_rate': 3.966836734693878e-05, 'epoch': 5.93}\n",
      "{'loss': 0.3945, 'grad_norm': 1.9257744550704956, 'learning_rate': 3.9540816326530615e-05, 'epoch': 5.97}\n"
     ]
    },
    {
     "data": {
      "application/vnd.jupyter.widget-view+json": {
       "model_id": "70b311b796114c24a1d90d195fc6a480",
       "version_major": 2,
       "version_minor": 0
      },
      "text/plain": [
       "  0%|          | 0/67 [00:00<?, ?it/s]"
      ]
     },
     "metadata": {},
     "output_type": "display_data"
    },
    {
     "name": "stdout",
     "output_type": "stream",
     "text": [
      "{'eval_loss': 0.3563588261604309, 'eval_accuracy': 0.8370668533426672, 'eval_runtime': 168.6328, 'eval_samples_per_second': 101.653, 'eval_steps_per_second': 0.397, 'epoch': 6.0}\n",
      "{'loss': 0.3889, 'grad_norm': 1.6959741115570068, 'learning_rate': 3.9413265306122446e-05, 'epoch': 6.02}\n",
      "{'loss': 0.4175, 'grad_norm': 3.336632013320923, 'learning_rate': 3.928571428571429e-05, 'epoch': 6.06}\n",
      "{'loss': 0.3972, 'grad_norm': 1.762070655822754, 'learning_rate': 3.915816326530613e-05, 'epoch': 6.11}\n",
      "{'loss': 0.3838, 'grad_norm': 1.4784995317459106, 'learning_rate': 3.9030612244897965e-05, 'epoch': 6.15}\n",
      "{'loss': 0.383, 'grad_norm': 1.5206083059310913, 'learning_rate': 3.8903061224489796e-05, 'epoch': 6.2}\n",
      "{'loss': 0.3851, 'grad_norm': 1.5879034996032715, 'learning_rate': 3.8775510204081634e-05, 'epoch': 6.24}\n",
      "{'loss': 0.3905, 'grad_norm': 1.6178771257400513, 'learning_rate': 3.864795918367347e-05, 'epoch': 6.29}\n",
      "{'loss': 0.3833, 'grad_norm': 3.3765218257904053, 'learning_rate': 3.852040816326531e-05, 'epoch': 6.33}\n",
      "{'loss': 0.4163, 'grad_norm': 1.8338088989257812, 'learning_rate': 3.839285714285715e-05, 'epoch': 6.38}\n",
      "{'loss': 0.3786, 'grad_norm': 1.7630250453948975, 'learning_rate': 3.826530612244898e-05, 'epoch': 6.43}\n",
      "{'loss': 0.3814, 'grad_norm': 1.6243369579315186, 'learning_rate': 3.8137755102040815e-05, 'epoch': 6.47}\n",
      "{'loss': 0.3979, 'grad_norm': 2.682124614715576, 'learning_rate': 3.801020408163265e-05, 'epoch': 6.52}\n",
      "{'loss': 0.3915, 'grad_norm': 2.2631921768188477, 'learning_rate': 3.788265306122449e-05, 'epoch': 6.56}\n",
      "{'loss': 0.3933, 'grad_norm': 2.9303250312805176, 'learning_rate': 3.775510204081633e-05, 'epoch': 6.61}\n",
      "{'loss': 0.3943, 'grad_norm': 1.6897670030593872, 'learning_rate': 3.7627551020408166e-05, 'epoch': 6.65}\n",
      "{'loss': 0.3931, 'grad_norm': 2.781125068664551, 'learning_rate': 3.7500000000000003e-05, 'epoch': 6.7}\n",
      "{'loss': 0.3982, 'grad_norm': 2.396613359451294, 'learning_rate': 3.737244897959184e-05, 'epoch': 6.74}\n",
      "{'loss': 0.381, 'grad_norm': 5.335792064666748, 'learning_rate': 3.724489795918368e-05, 'epoch': 6.79}\n",
      "{'loss': 0.3844, 'grad_norm': 1.68793523311615, 'learning_rate': 3.711734693877551e-05, 'epoch': 6.83}\n",
      "{'loss': 0.3891, 'grad_norm': 2.6483511924743652, 'learning_rate': 3.698979591836735e-05, 'epoch': 6.88}\n",
      "{'loss': 0.3803, 'grad_norm': 1.6546319723129272, 'learning_rate': 3.6862244897959185e-05, 'epoch': 6.92}\n",
      "{'loss': 0.3871, 'grad_norm': 1.5023138523101807, 'learning_rate': 3.673469387755102e-05, 'epoch': 6.97}\n"
     ]
    },
    {
     "data": {
      "application/vnd.jupyter.widget-view+json": {
       "model_id": "d6677fc528334874b8e3ea269535079b",
       "version_major": 2,
       "version_minor": 0
      },
      "text/plain": [
       "  0%|          | 0/67 [00:00<?, ?it/s]"
      ]
     },
     "metadata": {},
     "output_type": "display_data"
    },
    {
     "name": "stdout",
     "output_type": "stream",
     "text": [
      "{'eval_loss': 0.34895142912864685, 'eval_accuracy': 0.8432504958581263, 'eval_runtime': 166.8057, 'eval_samples_per_second': 102.766, 'eval_steps_per_second': 0.402, 'epoch': 7.0}\n",
      "{'loss': 0.366, 'grad_norm': 1.9183104038238525, 'learning_rate': 3.6607142857142853e-05, 'epoch': 7.01}\n",
      "{'loss': 0.3961, 'grad_norm': 1.4231370687484741, 'learning_rate': 3.64795918367347e-05, 'epoch': 7.06}\n",
      "{'loss': 0.3851, 'grad_norm': 1.85813307762146, 'learning_rate': 3.6352040816326536e-05, 'epoch': 7.1}\n",
      "{'loss': 0.384, 'grad_norm': 3.181644916534424, 'learning_rate': 3.622448979591837e-05, 'epoch': 7.15}\n",
      "{'loss': 0.4002, 'grad_norm': 1.6260340213775635, 'learning_rate': 3.609693877551021e-05, 'epoch': 7.19}\n",
      "{'loss': 0.3711, 'grad_norm': 1.5887869596481323, 'learning_rate': 3.596938775510204e-05, 'epoch': 7.24}\n",
      "{'loss': 0.3816, 'grad_norm': 4.565511226654053, 'learning_rate': 3.584183673469388e-05, 'epoch': 7.29}\n",
      "{'loss': 0.3827, 'grad_norm': 2.1093719005584717, 'learning_rate': 3.571428571428572e-05, 'epoch': 7.33}\n",
      "{'loss': 0.3808, 'grad_norm': 1.807195782661438, 'learning_rate': 3.5586734693877555e-05, 'epoch': 7.38}\n",
      "{'loss': 0.3796, 'grad_norm': 2.0943381786346436, 'learning_rate': 3.5459183673469385e-05, 'epoch': 7.42}\n",
      "{'loss': 0.3853, 'grad_norm': 2.718003511428833, 'learning_rate': 3.533163265306122e-05, 'epoch': 7.47}\n",
      "{'loss': 0.3946, 'grad_norm': 2.5043139457702637, 'learning_rate': 3.520408163265306e-05, 'epoch': 7.51}\n",
      "{'loss': 0.369, 'grad_norm': 2.5817718505859375, 'learning_rate': 3.50765306122449e-05, 'epoch': 7.56}\n",
      "{'loss': 0.3599, 'grad_norm': 2.5972256660461426, 'learning_rate': 3.4948979591836736e-05, 'epoch': 7.6}\n",
      "{'loss': 0.3583, 'grad_norm': 3.0346758365631104, 'learning_rate': 3.4821428571428574e-05, 'epoch': 7.65}\n",
      "{'loss': 0.3778, 'grad_norm': 1.608073353767395, 'learning_rate': 3.469387755102041e-05, 'epoch': 7.69}\n",
      "{'loss': 0.3818, 'grad_norm': 1.977649211883545, 'learning_rate': 3.456632653061225e-05, 'epoch': 7.74}\n",
      "{'loss': 0.3752, 'grad_norm': 1.336527943611145, 'learning_rate': 3.443877551020409e-05, 'epoch': 7.78}\n",
      "{'loss': 0.3817, 'grad_norm': 2.9691786766052246, 'learning_rate': 3.431122448979592e-05, 'epoch': 7.83}\n",
      "{'loss': 0.3612, 'grad_norm': 2.035614013671875, 'learning_rate': 3.4183673469387755e-05, 'epoch': 7.87}\n",
      "{'loss': 0.3666, 'grad_norm': 3.9082834720611572, 'learning_rate': 3.405612244897959e-05, 'epoch': 7.92}\n",
      "{'loss': 0.3974, 'grad_norm': 2.882237434387207, 'learning_rate': 3.392857142857143e-05, 'epoch': 7.96}\n"
     ]
    },
    {
     "data": {
      "application/vnd.jupyter.widget-view+json": {
       "model_id": "c7e92bef168d44e6b2dda5a4eb84ca5a",
       "version_major": 2,
       "version_minor": 0
      },
      "text/plain": [
       "  0%|          | 0/67 [00:00<?, ?it/s]"
      ]
     },
     "metadata": {},
     "output_type": "display_data"
    },
    {
     "name": "stdout",
     "output_type": "stream",
     "text": [
      "{'eval_loss': 0.33202528953552246, 'eval_accuracy': 0.8497258196243146, 'eval_runtime': 166.7377, 'eval_samples_per_second': 102.808, 'eval_steps_per_second': 0.402, 'epoch': 8.0}\n",
      "{'loss': 0.3895, 'grad_norm': 1.75002920627594, 'learning_rate': 3.380102040816326e-05, 'epoch': 8.01}\n",
      "{'loss': 0.3566, 'grad_norm': 3.6180458068847656, 'learning_rate': 3.36734693877551e-05, 'epoch': 8.05}\n",
      "{'loss': 0.3943, 'grad_norm': 2.6973016262054443, 'learning_rate': 3.354591836734694e-05, 'epoch': 8.1}\n",
      "{'loss': 0.3452, 'grad_norm': 2.408785104751587, 'learning_rate': 3.341836734693878e-05, 'epoch': 8.14}\n",
      "{'loss': 0.388, 'grad_norm': 4.599977970123291, 'learning_rate': 3.329081632653062e-05, 'epoch': 8.19}\n",
      "{'loss': 0.3629, 'grad_norm': 1.7526192665100098, 'learning_rate': 3.316326530612245e-05, 'epoch': 8.24}\n",
      "{'loss': 0.365, 'grad_norm': 3.8998208045959473, 'learning_rate': 3.303571428571429e-05, 'epoch': 8.28}\n",
      "{'loss': 0.3747, 'grad_norm': 2.53245210647583, 'learning_rate': 3.2908163265306125e-05, 'epoch': 8.33}\n",
      "{'loss': 0.3529, 'grad_norm': 1.7126765251159668, 'learning_rate': 3.278061224489796e-05, 'epoch': 8.37}\n",
      "{'loss': 0.3634, 'grad_norm': 1.7195967435836792, 'learning_rate': 3.265306122448979e-05, 'epoch': 8.42}\n",
      "{'loss': 0.3664, 'grad_norm': 2.5859203338623047, 'learning_rate': 3.252551020408163e-05, 'epoch': 8.46}\n",
      "{'loss': 0.3528, 'grad_norm': 1.8438050746917725, 'learning_rate': 3.239795918367347e-05, 'epoch': 8.51}\n",
      "{'loss': 0.3652, 'grad_norm': 1.8118351697921753, 'learning_rate': 3.2270408163265306e-05, 'epoch': 8.55}\n",
      "{'loss': 0.3648, 'grad_norm': 3.5480873584747314, 'learning_rate': 3.2142857142857144e-05, 'epoch': 8.6}\n",
      "{'loss': 0.3726, 'grad_norm': 2.2904701232910156, 'learning_rate': 3.201530612244898e-05, 'epoch': 8.64}\n",
      "{'loss': 0.3695, 'grad_norm': 1.9382151365280151, 'learning_rate': 3.188775510204082e-05, 'epoch': 8.69}\n",
      "{'loss': 0.3616, 'grad_norm': 2.6185078620910645, 'learning_rate': 3.176020408163266e-05, 'epoch': 8.73}\n",
      "{'loss': 0.3565, 'grad_norm': 2.9427762031555176, 'learning_rate': 3.1632653061224494e-05, 'epoch': 8.78}\n",
      "{'loss': 0.3609, 'grad_norm': 3.639042377471924, 'learning_rate': 3.1505102040816325e-05, 'epoch': 8.82}\n",
      "{'loss': 0.3613, 'grad_norm': 5.4214887619018555, 'learning_rate': 3.137755102040816e-05, 'epoch': 8.87}\n",
      "{'loss': 0.361, 'grad_norm': 2.521796941757202, 'learning_rate': 3.125e-05, 'epoch': 8.91}\n",
      "{'loss': 0.3582, 'grad_norm': 3.4062132835388184, 'learning_rate': 3.112244897959184e-05, 'epoch': 8.96}\n"
     ]
    },
    {
     "data": {
      "application/vnd.jupyter.widget-view+json": {
       "model_id": "f1a9090b32134ca8beb6e9b3e388736b",
       "version_major": 2,
       "version_minor": 0
      },
      "text/plain": [
       "  0%|          | 0/67 [00:00<?, ?it/s]"
      ]
     },
     "metadata": {},
     "output_type": "display_data"
    },
    {
     "name": "stdout",
     "output_type": "stream",
     "text": [
      "{'eval_loss': 0.32349950075149536, 'eval_accuracy': 0.8561428071403571, 'eval_runtime': 167.6532, 'eval_samples_per_second': 102.247, 'eval_steps_per_second': 0.4, 'epoch': 9.0}\n",
      "{'loss': 0.3554, 'grad_norm': 2.5443665981292725, 'learning_rate': 3.0994897959183676e-05, 'epoch': 9.0}\n",
      "{'loss': 0.3689, 'grad_norm': 1.851567029953003, 'learning_rate': 3.086734693877551e-05, 'epoch': 9.05}\n",
      "{'loss': 0.3611, 'grad_norm': 2.3390023708343506, 'learning_rate': 3.073979591836735e-05, 'epoch': 9.1}\n",
      "{'loss': 0.358, 'grad_norm': 2.5125954151153564, 'learning_rate': 3.061224489795919e-05, 'epoch': 9.14}\n",
      "{'loss': 0.3631, 'grad_norm': 1.6115801334381104, 'learning_rate': 3.0484693877551023e-05, 'epoch': 9.19}\n",
      "{'loss': 0.3758, 'grad_norm': 2.3114757537841797, 'learning_rate': 3.0357142857142857e-05, 'epoch': 9.23}\n",
      "{'loss': 0.3675, 'grad_norm': 1.5353615283966064, 'learning_rate': 3.0229591836734695e-05, 'epoch': 9.28}\n",
      "{'loss': 0.3697, 'grad_norm': 3.259267807006836, 'learning_rate': 3.0102040816326533e-05, 'epoch': 9.32}\n",
      "{'loss': 0.3626, 'grad_norm': 2.5136005878448486, 'learning_rate': 2.997448979591837e-05, 'epoch': 9.37}\n",
      "{'loss': 0.3517, 'grad_norm': 1.6146812438964844, 'learning_rate': 2.9846938775510208e-05, 'epoch': 9.41}\n",
      "{'loss': 0.3627, 'grad_norm': 2.7214999198913574, 'learning_rate': 2.9719387755102042e-05, 'epoch': 9.46}\n",
      "{'loss': 0.3463, 'grad_norm': 1.7752593755722046, 'learning_rate': 2.959183673469388e-05, 'epoch': 9.5}\n",
      "{'loss': 0.3634, 'grad_norm': 1.9776536226272583, 'learning_rate': 2.9464285714285718e-05, 'epoch': 9.55}\n",
      "{'loss': 0.3558, 'grad_norm': 1.6688716411590576, 'learning_rate': 2.9336734693877555e-05, 'epoch': 9.59}\n",
      "{'loss': 0.3667, 'grad_norm': 1.6829938888549805, 'learning_rate': 2.9209183673469386e-05, 'epoch': 9.64}\n",
      "{'loss': 0.3434, 'grad_norm': 3.7197766304016113, 'learning_rate': 2.9081632653061224e-05, 'epoch': 9.68}\n",
      "{'loss': 0.3607, 'grad_norm': 1.7562203407287598, 'learning_rate': 2.895408163265306e-05, 'epoch': 9.73}\n",
      "{'loss': 0.3321, 'grad_norm': 2.2216684818267822, 'learning_rate': 2.8826530612244902e-05, 'epoch': 9.77}\n",
      "{'loss': 0.3534, 'grad_norm': 3.541590452194214, 'learning_rate': 2.869897959183674e-05, 'epoch': 9.82}\n",
      "{'loss': 0.3549, 'grad_norm': 2.7739579677581787, 'learning_rate': 2.857142857142857e-05, 'epoch': 9.86}\n",
      "{'loss': 0.3488, 'grad_norm': 2.0987164974212646, 'learning_rate': 2.844387755102041e-05, 'epoch': 9.91}\n",
      "{'loss': 0.3422, 'grad_norm': 1.6362844705581665, 'learning_rate': 2.8316326530612246e-05, 'epoch': 9.95}\n",
      "{'loss': 0.3498, 'grad_norm': 2.4648711681365967, 'learning_rate': 2.8188775510204084e-05, 'epoch': 10.0}\n"
     ]
    },
    {
     "data": {
      "application/vnd.jupyter.widget-view+json": {
       "model_id": "c236e13041fa4e6a91730d15e330ef4f",
       "version_major": 2,
       "version_minor": 0
      },
      "text/plain": [
       "  0%|          | 0/67 [00:00<?, ?it/s]"
      ]
     },
     "metadata": {},
     "output_type": "display_data"
    },
    {
     "name": "stdout",
     "output_type": "stream",
     "text": [
      "{'eval_loss': 0.31438156962394714, 'eval_accuracy': 0.8595846458989617, 'eval_runtime': 169.1472, 'eval_samples_per_second': 101.344, 'eval_steps_per_second': 0.396, 'epoch': 10.0}\n",
      "{'loss': 0.3569, 'grad_norm': 1.371767282485962, 'learning_rate': 2.8061224489795918e-05, 'epoch': 10.05}\n",
      "{'loss': 0.3793, 'grad_norm': 2.1237711906433105, 'learning_rate': 2.7933673469387756e-05, 'epoch': 10.09}\n",
      "{'loss': 0.3456, 'grad_norm': 2.1659793853759766, 'learning_rate': 2.7806122448979593e-05, 'epoch': 10.14}\n",
      "{'loss': 0.3583, 'grad_norm': 2.1240532398223877, 'learning_rate': 2.767857142857143e-05, 'epoch': 10.18}\n",
      "{'loss': 0.3535, 'grad_norm': 4.539743423461914, 'learning_rate': 2.7551020408163265e-05, 'epoch': 10.23}\n",
      "{'loss': 0.3531, 'grad_norm': 1.9370315074920654, 'learning_rate': 2.7423469387755103e-05, 'epoch': 10.27}\n",
      "{'loss': 0.3499, 'grad_norm': 2.4600889682769775, 'learning_rate': 2.729591836734694e-05, 'epoch': 10.32}\n",
      "{'loss': 0.3666, 'grad_norm': 3.2179789543151855, 'learning_rate': 2.7168367346938778e-05, 'epoch': 10.36}\n",
      "{'loss': 0.343, 'grad_norm': 2.970395565032959, 'learning_rate': 2.7040816326530616e-05, 'epoch': 10.41}\n",
      "{'loss': 0.3451, 'grad_norm': 2.0138933658599854, 'learning_rate': 2.6913265306122447e-05, 'epoch': 10.45}\n",
      "{'loss': 0.3595, 'grad_norm': 2.862644672393799, 'learning_rate': 2.6785714285714288e-05, 'epoch': 10.5}\n",
      "{'loss': 0.342, 'grad_norm': 2.352342367172241, 'learning_rate': 2.6658163265306125e-05, 'epoch': 10.54}\n",
      "{'loss': 0.3359, 'grad_norm': 3.133354425430298, 'learning_rate': 2.6530612244897963e-05, 'epoch': 10.59}\n",
      "{'loss': 0.3511, 'grad_norm': 4.023052215576172, 'learning_rate': 2.6403061224489794e-05, 'epoch': 10.63}\n",
      "{'loss': 0.3523, 'grad_norm': 1.5992248058319092, 'learning_rate': 2.627551020408163e-05, 'epoch': 10.68}\n",
      "{'loss': 0.3592, 'grad_norm': 1.739845871925354, 'learning_rate': 2.614795918367347e-05, 'epoch': 10.72}\n",
      "{'loss': 0.3547, 'grad_norm': 1.652925968170166, 'learning_rate': 2.6020408163265307e-05, 'epoch': 10.77}\n",
      "{'loss': 0.3711, 'grad_norm': 2.359835624694824, 'learning_rate': 2.5892857142857148e-05, 'epoch': 10.81}\n",
      "{'loss': 0.3437, 'grad_norm': 2.0474414825439453, 'learning_rate': 2.576530612244898e-05, 'epoch': 10.86}\n",
      "{'loss': 0.3411, 'grad_norm': 1.466408133506775, 'learning_rate': 2.5637755102040816e-05, 'epoch': 10.9}\n",
      "{'loss': 0.3507, 'grad_norm': 1.6816116571426392, 'learning_rate': 2.5510204081632654e-05, 'epoch': 10.95}\n",
      "{'loss': 0.3545, 'grad_norm': 1.8086607456207275, 'learning_rate': 2.538265306122449e-05, 'epoch': 11.0}\n"
     ]
    },
    {
     "data": {
      "application/vnd.jupyter.widget-view+json": {
       "model_id": "90b3c8e47ce74a968e80ece3104648ce",
       "version_major": 2,
       "version_minor": 0
      },
      "text/plain": [
       "  0%|          | 0/67 [00:00<?, ?it/s]"
      ]
     },
     "metadata": {},
     "output_type": "display_data"
    },
    {
     "name": "stdout",
     "output_type": "stream",
     "text": [
      "{'eval_loss': 0.31501761078834534, 'eval_accuracy': 0.860926379652316, 'eval_runtime': 168.2349, 'eval_samples_per_second': 101.893, 'eval_steps_per_second': 0.398, 'epoch': 11.0}\n",
      "{'loss': 0.3552, 'grad_norm': 2.161956548690796, 'learning_rate': 2.5255102040816326e-05, 'epoch': 11.04}\n",
      "{'loss': 0.3386, 'grad_norm': 2.5855789184570312, 'learning_rate': 2.5127551020408164e-05, 'epoch': 11.09}\n",
      "{'loss': 0.3542, 'grad_norm': 1.6112260818481445, 'learning_rate': 2.5e-05, 'epoch': 11.13}\n",
      "{'loss': 0.3683, 'grad_norm': 2.7125349044799805, 'learning_rate': 2.487244897959184e-05, 'epoch': 11.18}\n",
      "{'loss': 0.3504, 'grad_norm': 1.5861746072769165, 'learning_rate': 2.4744897959183673e-05, 'epoch': 11.22}\n",
      "{'loss': 0.3483, 'grad_norm': 2.1374118328094482, 'learning_rate': 2.461734693877551e-05, 'epoch': 11.27}\n",
      "{'loss': 0.3383, 'grad_norm': 1.7424129247665405, 'learning_rate': 2.448979591836735e-05, 'epoch': 11.31}\n",
      "{'loss': 0.3657, 'grad_norm': 1.5313876867294312, 'learning_rate': 2.4362244897959186e-05, 'epoch': 11.36}\n",
      "{'loss': 0.3367, 'grad_norm': 1.9608230590820312, 'learning_rate': 2.423469387755102e-05, 'epoch': 11.4}\n",
      "{'loss': 0.3369, 'grad_norm': 1.668320655822754, 'learning_rate': 2.4107142857142858e-05, 'epoch': 11.45}\n",
      "{'loss': 0.3557, 'grad_norm': 2.2431743144989014, 'learning_rate': 2.3979591836734696e-05, 'epoch': 11.49}\n",
      "{'loss': 0.366, 'grad_norm': 3.4427411556243896, 'learning_rate': 2.3852040816326533e-05, 'epoch': 11.54}\n",
      "{'loss': 0.3461, 'grad_norm': 1.781192660331726, 'learning_rate': 2.372448979591837e-05, 'epoch': 11.58}\n",
      "{'loss': 0.3465, 'grad_norm': 1.4517754316329956, 'learning_rate': 2.3596938775510205e-05, 'epoch': 11.63}\n",
      "{'loss': 0.362, 'grad_norm': 2.847318172454834, 'learning_rate': 2.3469387755102043e-05, 'epoch': 11.67}\n",
      "{'loss': 0.3422, 'grad_norm': 2.2263712882995605, 'learning_rate': 2.3341836734693877e-05, 'epoch': 11.72}\n",
      "{'loss': 0.3496, 'grad_norm': 1.963341474533081, 'learning_rate': 2.3214285714285715e-05, 'epoch': 11.76}\n",
      "{'loss': 0.3439, 'grad_norm': 3.0401597023010254, 'learning_rate': 2.3086734693877552e-05, 'epoch': 11.81}\n",
      "{'loss': 0.3418, 'grad_norm': 2.4659481048583984, 'learning_rate': 2.295918367346939e-05, 'epoch': 11.86}\n",
      "{'loss': 0.3475, 'grad_norm': 1.8345863819122314, 'learning_rate': 2.2831632653061224e-05, 'epoch': 11.9}\n",
      "{'loss': 0.3586, 'grad_norm': 1.711165428161621, 'learning_rate': 2.2704081632653062e-05, 'epoch': 11.95}\n",
      "{'loss': 0.341, 'grad_norm': 2.0169169902801514, 'learning_rate': 2.2576530612244896e-05, 'epoch': 11.99}\n"
     ]
    },
    {
     "data": {
      "application/vnd.jupyter.widget-view+json": {
       "model_id": "4a0a50ee16584232b2794e8617473954",
       "version_major": 2,
       "version_minor": 0
      },
      "text/plain": [
       "  0%|          | 0/67 [00:00<?, ?it/s]"
      ]
     },
     "metadata": {},
     "output_type": "display_data"
    },
    {
     "name": "stdout",
     "output_type": "stream",
     "text": [
      "{'eval_loss': 0.31382784247398376, 'eval_accuracy': 0.8614514059036286, 'eval_runtime': 167.5427, 'eval_samples_per_second': 102.314, 'eval_steps_per_second': 0.4, 'epoch': 12.0}\n",
      "{'loss': 0.3507, 'grad_norm': 3.4585635662078857, 'learning_rate': 2.2448979591836737e-05, 'epoch': 12.04}\n",
      "{'loss': 0.3504, 'grad_norm': 1.3815233707427979, 'learning_rate': 2.2321428571428575e-05, 'epoch': 12.08}\n",
      "{'loss': 0.3442, 'grad_norm': 2.639545440673828, 'learning_rate': 2.219387755102041e-05, 'epoch': 12.13}\n",
      "{'loss': 0.3644, 'grad_norm': 4.172611236572266, 'learning_rate': 2.2066326530612247e-05, 'epoch': 12.17}\n",
      "{'loss': 0.3344, 'grad_norm': 2.56211519241333, 'learning_rate': 2.193877551020408e-05, 'epoch': 12.22}\n",
      "{'loss': 0.3467, 'grad_norm': 1.9352631568908691, 'learning_rate': 2.181122448979592e-05, 'epoch': 12.26}\n",
      "{'loss': 0.3442, 'grad_norm': 2.5657474994659424, 'learning_rate': 2.1683673469387756e-05, 'epoch': 12.31}\n",
      "{'loss': 0.3547, 'grad_norm': 2.4472920894622803, 'learning_rate': 2.1556122448979594e-05, 'epoch': 12.35}\n",
      "{'loss': 0.3443, 'grad_norm': 2.999180793762207, 'learning_rate': 2.1428571428571428e-05, 'epoch': 12.4}\n",
      "{'loss': 0.3326, 'grad_norm': 1.5668379068374634, 'learning_rate': 2.1301020408163266e-05, 'epoch': 12.44}\n",
      "{'loss': 0.3608, 'grad_norm': 3.5243866443634033, 'learning_rate': 2.1173469387755103e-05, 'epoch': 12.49}\n",
      "{'loss': 0.3641, 'grad_norm': 1.9826993942260742, 'learning_rate': 2.104591836734694e-05, 'epoch': 12.53}\n",
      "{'loss': 0.3387, 'grad_norm': 1.3885128498077393, 'learning_rate': 2.091836734693878e-05, 'epoch': 12.58}\n",
      "{'loss': 0.342, 'grad_norm': 3.6430227756500244, 'learning_rate': 2.0790816326530613e-05, 'epoch': 12.62}\n",
      "{'loss': 0.348, 'grad_norm': 1.5764392614364624, 'learning_rate': 2.066326530612245e-05, 'epoch': 12.67}\n",
      "{'loss': 0.3441, 'grad_norm': 3.2023813724517822, 'learning_rate': 2.0535714285714285e-05, 'epoch': 12.71}\n",
      "{'loss': 0.3555, 'grad_norm': 1.9899407625198364, 'learning_rate': 2.0408163265306123e-05, 'epoch': 12.76}\n",
      "{'loss': 0.3451, 'grad_norm': 2.231825113296509, 'learning_rate': 2.028061224489796e-05, 'epoch': 12.81}\n",
      "{'loss': 0.357, 'grad_norm': 1.8717753887176514, 'learning_rate': 2.0153061224489798e-05, 'epoch': 12.85}\n",
      "{'loss': 0.3428, 'grad_norm': 1.8807451725006104, 'learning_rate': 2.0025510204081632e-05, 'epoch': 12.9}\n",
      "{'loss': 0.3429, 'grad_norm': 1.6471755504608154, 'learning_rate': 1.989795918367347e-05, 'epoch': 12.94}\n",
      "{'loss': 0.342, 'grad_norm': 1.4855152368545532, 'learning_rate': 1.9770408163265307e-05, 'epoch': 12.99}\n"
     ]
    },
    {
     "data": {
      "application/vnd.jupyter.widget-view+json": {
       "model_id": "a328df2d37144986865ae809fba1c6ca",
       "version_major": 2,
       "version_minor": 0
      },
      "text/plain": [
       "  0%|          | 0/67 [00:00<?, ?it/s]"
      ]
     },
     "metadata": {},
     "output_type": "display_data"
    },
    {
     "name": "stdout",
     "output_type": "stream",
     "text": [
      "{'eval_loss': 0.3130281865596771, 'eval_accuracy': 0.8616847509042119, 'eval_runtime': 167.6683, 'eval_samples_per_second': 102.238, 'eval_steps_per_second': 0.4, 'epoch': 13.0}\n",
      "{'loss': 0.3263, 'grad_norm': 2.4004828929901123, 'learning_rate': 1.9642857142857145e-05, 'epoch': 13.03}\n",
      "{'loss': 0.3466, 'grad_norm': 1.8615409135818481, 'learning_rate': 1.9515306122448983e-05, 'epoch': 13.08}\n",
      "{'loss': 0.3295, 'grad_norm': 2.857135772705078, 'learning_rate': 1.9387755102040817e-05, 'epoch': 13.12}\n",
      "{'loss': 0.3404, 'grad_norm': 2.4170479774475098, 'learning_rate': 1.9260204081632655e-05, 'epoch': 13.17}\n",
      "{'loss': 0.3444, 'grad_norm': 1.6658514738082886, 'learning_rate': 1.913265306122449e-05, 'epoch': 13.21}\n",
      "{'loss': 0.3471, 'grad_norm': 1.6664605140686035, 'learning_rate': 1.9005102040816326e-05, 'epoch': 13.26}\n",
      "{'loss': 0.3446, 'grad_norm': 1.8387547731399536, 'learning_rate': 1.8877551020408164e-05, 'epoch': 13.3}\n",
      "{'loss': 0.3355, 'grad_norm': 1.854002833366394, 'learning_rate': 1.8750000000000002e-05, 'epoch': 13.35}\n",
      "{'loss': 0.3235, 'grad_norm': 1.4448292255401611, 'learning_rate': 1.862244897959184e-05, 'epoch': 13.39}\n",
      "{'loss': 0.3473, 'grad_norm': 1.6570595502853394, 'learning_rate': 1.8494897959183674e-05, 'epoch': 13.44}\n",
      "{'loss': 0.3566, 'grad_norm': 2.2314414978027344, 'learning_rate': 1.836734693877551e-05, 'epoch': 13.48}\n",
      "{'loss': 0.3389, 'grad_norm': 1.9174250364303589, 'learning_rate': 1.823979591836735e-05, 'epoch': 13.53}\n",
      "{'loss': 0.3326, 'grad_norm': 1.8460423946380615, 'learning_rate': 1.8112244897959187e-05, 'epoch': 13.57}\n",
      "{'loss': 0.3403, 'grad_norm': 1.694400668144226, 'learning_rate': 1.798469387755102e-05, 'epoch': 13.62}\n",
      "{'loss': 0.3366, 'grad_norm': 2.048861265182495, 'learning_rate': 1.785714285714286e-05, 'epoch': 13.67}\n",
      "{'loss': 0.3394, 'grad_norm': 4.442760944366455, 'learning_rate': 1.7729591836734693e-05, 'epoch': 13.71}\n",
      "{'loss': 0.3415, 'grad_norm': 2.1887385845184326, 'learning_rate': 1.760204081632653e-05, 'epoch': 13.76}\n",
      "{'loss': 0.328, 'grad_norm': 1.510464072227478, 'learning_rate': 1.7474489795918368e-05, 'epoch': 13.8}\n",
      "{'loss': 0.367, 'grad_norm': 1.7289690971374512, 'learning_rate': 1.7346938775510206e-05, 'epoch': 13.85}\n",
      "{'loss': 0.3249, 'grad_norm': 1.838267207145691, 'learning_rate': 1.7219387755102043e-05, 'epoch': 13.89}\n",
      "{'loss': 0.3209, 'grad_norm': 1.8573472499847412, 'learning_rate': 1.7091836734693878e-05, 'epoch': 13.94}\n",
      "{'loss': 0.3408, 'grad_norm': 1.8521112203598022, 'learning_rate': 1.6964285714285715e-05, 'epoch': 13.98}\n"
     ]
    },
    {
     "data": {
      "application/vnd.jupyter.widget-view+json": {
       "model_id": "1027451c15144af4a77b529c9e30cda9",
       "version_major": 2,
       "version_minor": 0
      },
      "text/plain": [
       "  0%|          | 0/67 [00:00<?, ?it/s]"
      ]
     },
     "metadata": {},
     "output_type": "display_data"
    },
    {
     "name": "stdout",
     "output_type": "stream",
     "text": [
      "{'eval_loss': 0.3073578178882599, 'eval_accuracy': 0.8659432971648583, 'eval_runtime': 166.9382, 'eval_samples_per_second': 102.685, 'eval_steps_per_second': 0.401, 'epoch': 14.0}\n",
      "{'loss': 0.3441, 'grad_norm': 4.481644153594971, 'learning_rate': 1.683673469387755e-05, 'epoch': 14.03}\n",
      "{'loss': 0.319, 'grad_norm': 2.5402743816375732, 'learning_rate': 1.670918367346939e-05, 'epoch': 14.07}\n",
      "{'loss': 0.3073, 'grad_norm': 2.4481611251831055, 'learning_rate': 1.6581632653061225e-05, 'epoch': 14.12}\n",
      "{'loss': 0.3349, 'grad_norm': 2.031440019607544, 'learning_rate': 1.6454081632653062e-05, 'epoch': 14.16}\n",
      "{'loss': 0.3443, 'grad_norm': 1.6451114416122437, 'learning_rate': 1.6326530612244897e-05, 'epoch': 14.21}\n",
      "{'loss': 0.362, 'grad_norm': 2.9352810382843018, 'learning_rate': 1.6198979591836734e-05, 'epoch': 14.25}\n",
      "{'loss': 0.3492, 'grad_norm': 1.5065643787384033, 'learning_rate': 1.6071428571428572e-05, 'epoch': 14.3}\n",
      "{'loss': 0.3501, 'grad_norm': 2.8169615268707275, 'learning_rate': 1.594387755102041e-05, 'epoch': 14.34}\n",
      "{'loss': 0.3281, 'grad_norm': 2.3340885639190674, 'learning_rate': 1.5816326530612247e-05, 'epoch': 14.39}\n",
      "{'loss': 0.3202, 'grad_norm': 2.5757243633270264, 'learning_rate': 1.568877551020408e-05, 'epoch': 14.43}\n",
      "{'loss': 0.3269, 'grad_norm': 1.665069341659546, 'learning_rate': 1.556122448979592e-05, 'epoch': 14.48}\n",
      "{'loss': 0.3216, 'grad_norm': 1.965427041053772, 'learning_rate': 1.5433673469387753e-05, 'epoch': 14.52}\n",
      "{'loss': 0.3517, 'grad_norm': 2.2190864086151123, 'learning_rate': 1.5306122448979594e-05, 'epoch': 14.57}\n",
      "{'loss': 0.3112, 'grad_norm': 3.442410707473755, 'learning_rate': 1.5178571428571429e-05, 'epoch': 14.62}\n",
      "{'loss': 0.3372, 'grad_norm': 1.7976704835891724, 'learning_rate': 1.5051020408163266e-05, 'epoch': 14.66}\n",
      "{'loss': 0.3396, 'grad_norm': 1.6929535865783691, 'learning_rate': 1.4923469387755104e-05, 'epoch': 14.71}\n",
      "{'loss': 0.3283, 'grad_norm': 1.9050266742706299, 'learning_rate': 1.479591836734694e-05, 'epoch': 14.75}\n",
      "{'loss': 0.3451, 'grad_norm': 1.3648717403411865, 'learning_rate': 1.4668367346938778e-05, 'epoch': 14.8}\n",
      "{'loss': 0.3328, 'grad_norm': 2.1778721809387207, 'learning_rate': 1.4540816326530612e-05, 'epoch': 14.84}\n",
      "{'loss': 0.3521, 'grad_norm': 2.3415892124176025, 'learning_rate': 1.4413265306122451e-05, 'epoch': 14.89}\n",
      "{'loss': 0.3306, 'grad_norm': 4.632515907287598, 'learning_rate': 1.4285714285714285e-05, 'epoch': 14.93}\n",
      "{'loss': 0.3409, 'grad_norm': 1.8603228330612183, 'learning_rate': 1.4158163265306123e-05, 'epoch': 14.98}\n"
     ]
    },
    {
     "data": {
      "application/vnd.jupyter.widget-view+json": {
       "model_id": "4599ddd7955648efab9ab1d75440c8ce",
       "version_major": 2,
       "version_minor": 0
      },
      "text/plain": [
       "  0%|          | 0/67 [00:00<?, ?it/s]"
      ]
     },
     "metadata": {},
     "output_type": "display_data"
    },
    {
     "name": "stdout",
     "output_type": "stream",
     "text": [
      "{'eval_loss': 0.3080599308013916, 'eval_accuracy': 0.8591762921479408, 'eval_runtime': 166.3749, 'eval_samples_per_second': 103.032, 'eval_steps_per_second': 0.403, 'epoch': 15.0}\n",
      "{'loss': 0.3271, 'grad_norm': 1.6559295654296875, 'learning_rate': 1.4030612244897959e-05, 'epoch': 15.02}\n",
      "{'loss': 0.3312, 'grad_norm': 1.5949742794036865, 'learning_rate': 1.3903061224489797e-05, 'epoch': 15.07}\n",
      "{'loss': 0.343, 'grad_norm': 3.2012698650360107, 'learning_rate': 1.3775510204081633e-05, 'epoch': 15.11}\n",
      "{'loss': 0.3486, 'grad_norm': 3.549734115600586, 'learning_rate': 1.364795918367347e-05, 'epoch': 15.16}\n",
      "{'loss': 0.3397, 'grad_norm': 3.4084696769714355, 'learning_rate': 1.3520408163265308e-05, 'epoch': 15.2}\n",
      "{'loss': 0.3302, 'grad_norm': 4.328952789306641, 'learning_rate': 1.3392857142857144e-05, 'epoch': 15.25}\n",
      "{'loss': 0.3361, 'grad_norm': 1.7581273317337036, 'learning_rate': 1.3265306122448982e-05, 'epoch': 15.29}\n",
      "{'loss': 0.3462, 'grad_norm': 2.7893874645233154, 'learning_rate': 1.3137755102040816e-05, 'epoch': 15.34}\n",
      "{'loss': 0.3328, 'grad_norm': 2.3316214084625244, 'learning_rate': 1.3010204081632653e-05, 'epoch': 15.38}\n",
      "{'loss': 0.3342, 'grad_norm': 1.63142991065979, 'learning_rate': 1.288265306122449e-05, 'epoch': 15.43}\n",
      "{'loss': 0.3359, 'grad_norm': 1.4504854679107666, 'learning_rate': 1.2755102040816327e-05, 'epoch': 15.48}\n",
      "{'loss': 0.3507, 'grad_norm': 3.122807264328003, 'learning_rate': 1.2627551020408163e-05, 'epoch': 15.52}\n",
      "{'loss': 0.3387, 'grad_norm': 2.1819889545440674, 'learning_rate': 1.25e-05, 'epoch': 15.57}\n",
      "{'loss': 0.3412, 'grad_norm': 3.9818074703216553, 'learning_rate': 1.2372448979591837e-05, 'epoch': 15.61}\n",
      "{'loss': 0.337, 'grad_norm': 2.2463300228118896, 'learning_rate': 1.2244897959183674e-05, 'epoch': 15.66}\n",
      "{'loss': 0.3316, 'grad_norm': 1.6746292114257812, 'learning_rate': 1.211734693877551e-05, 'epoch': 15.7}\n",
      "{'loss': 0.3377, 'grad_norm': 2.008852481842041, 'learning_rate': 1.1989795918367348e-05, 'epoch': 15.75}\n",
      "{'loss': 0.3343, 'grad_norm': 2.848673105239868, 'learning_rate': 1.1862244897959185e-05, 'epoch': 15.79}\n",
      "{'loss': 0.3262, 'grad_norm': 2.160392999649048, 'learning_rate': 1.1734693877551021e-05, 'epoch': 15.84}\n",
      "{'loss': 0.3339, 'grad_norm': 2.6387839317321777, 'learning_rate': 1.1607142857142857e-05, 'epoch': 15.88}\n",
      "{'loss': 0.3379, 'grad_norm': 2.4738214015960693, 'learning_rate': 1.1479591836734695e-05, 'epoch': 15.93}\n",
      "{'loss': 0.3419, 'grad_norm': 4.5134992599487305, 'learning_rate': 1.1352040816326531e-05, 'epoch': 15.97}\n"
     ]
    },
    {
     "data": {
      "application/vnd.jupyter.widget-view+json": {
       "model_id": "e08273c1d2884d04bfd11b47f8372de5",
       "version_major": 2,
       "version_minor": 0
      },
      "text/plain": [
       "  0%|          | 0/67 [00:00<?, ?it/s]"
      ]
     },
     "metadata": {},
     "output_type": "display_data"
    },
    {
     "name": "stdout",
     "output_type": "stream",
     "text": [
      "{'eval_loss': 0.29574859142303467, 'eval_accuracy': 0.8702601796756505, 'eval_runtime': 170.6292, 'eval_samples_per_second': 100.463, 'eval_steps_per_second': 0.393, 'epoch': 16.0}\n",
      "{'loss': 0.3344, 'grad_norm': 2.137279748916626, 'learning_rate': 1.1224489795918369e-05, 'epoch': 16.02}\n",
      "{'loss': 0.3236, 'grad_norm': 1.4718824625015259, 'learning_rate': 1.1096938775510205e-05, 'epoch': 16.06}\n",
      "{'loss': 0.3252, 'grad_norm': 1.6820440292358398, 'learning_rate': 1.096938775510204e-05, 'epoch': 16.11}\n",
      "{'loss': 0.3387, 'grad_norm': 2.5989990234375, 'learning_rate': 1.0841836734693878e-05, 'epoch': 16.15}\n",
      "{'loss': 0.3318, 'grad_norm': 2.3536739349365234, 'learning_rate': 1.0714285714285714e-05, 'epoch': 16.2}\n",
      "{'loss': 0.3307, 'grad_norm': 2.654719352722168, 'learning_rate': 1.0586734693877552e-05, 'epoch': 16.24}\n",
      "{'loss': 0.3243, 'grad_norm': 1.679227352142334, 'learning_rate': 1.045918367346939e-05, 'epoch': 16.29}\n",
      "{'loss': 0.3573, 'grad_norm': 1.5329948663711548, 'learning_rate': 1.0331632653061225e-05, 'epoch': 16.33}\n",
      "{'loss': 0.3272, 'grad_norm': 2.802438735961914, 'learning_rate': 1.0204081632653061e-05, 'epoch': 16.38}\n",
      "{'loss': 0.3525, 'grad_norm': 2.4022417068481445, 'learning_rate': 1.0076530612244899e-05, 'epoch': 16.43}\n",
      "{'loss': 0.3391, 'grad_norm': 3.3585848808288574, 'learning_rate': 9.948979591836735e-06, 'epoch': 16.47}\n",
      "{'loss': 0.3166, 'grad_norm': 1.6331208944320679, 'learning_rate': 9.821428571428573e-06, 'epoch': 16.52}\n",
      "{'loss': 0.3231, 'grad_norm': 2.6265296936035156, 'learning_rate': 9.693877551020408e-06, 'epoch': 16.56}\n",
      "{'loss': 0.3244, 'grad_norm': 1.9915149211883545, 'learning_rate': 9.566326530612244e-06, 'epoch': 16.61}\n",
      "{'loss': 0.3237, 'grad_norm': 1.8045387268066406, 'learning_rate': 9.438775510204082e-06, 'epoch': 16.65}\n",
      "{'loss': 0.323, 'grad_norm': 2.2675764560699463, 'learning_rate': 9.31122448979592e-06, 'epoch': 16.7}\n",
      "{'loss': 0.3371, 'grad_norm': 2.559842109680176, 'learning_rate': 9.183673469387756e-06, 'epoch': 16.74}\n",
      "{'loss': 0.3695, 'grad_norm': 2.5844409465789795, 'learning_rate': 9.056122448979593e-06, 'epoch': 16.79}\n",
      "{'loss': 0.3264, 'grad_norm': 2.684537649154663, 'learning_rate': 8.92857142857143e-06, 'epoch': 16.83}\n",
      "{'loss': 0.3181, 'grad_norm': 1.6155694723129272, 'learning_rate': 8.801020408163265e-06, 'epoch': 16.88}\n",
      "{'loss': 0.3247, 'grad_norm': 1.6789988279342651, 'learning_rate': 8.673469387755103e-06, 'epoch': 16.92}\n",
      "{'loss': 0.337, 'grad_norm': 2.122328996658325, 'learning_rate': 8.545918367346939e-06, 'epoch': 16.97}\n"
     ]
    },
    {
     "data": {
      "application/vnd.jupyter.widget-view+json": {
       "model_id": "18cd2e48496643e7a6e5f1a29ca0ea5b",
       "version_major": 2,
       "version_minor": 0
      },
      "text/plain": [
       "  0%|          | 0/67 [00:00<?, ?it/s]"
      ]
     },
     "metadata": {},
     "output_type": "display_data"
    },
    {
     "name": "stdout",
     "output_type": "stream",
     "text": [
      "{'eval_loss': 0.29735779762268066, 'eval_accuracy': 0.8696768171741921, 'eval_runtime': 167.6554, 'eval_samples_per_second': 102.245, 'eval_steps_per_second': 0.4, 'epoch': 17.0}\n",
      "{'loss': 0.3252, 'grad_norm': 2.0683369636535645, 'learning_rate': 8.418367346938775e-06, 'epoch': 17.01}\n",
      "{'loss': 0.3362, 'grad_norm': 3.434779644012451, 'learning_rate': 8.290816326530612e-06, 'epoch': 17.06}\n",
      "{'loss': 0.3298, 'grad_norm': 1.6070014238357544, 'learning_rate': 8.163265306122448e-06, 'epoch': 17.1}\n",
      "{'loss': 0.3381, 'grad_norm': 3.573881149291992, 'learning_rate': 8.035714285714286e-06, 'epoch': 17.15}\n",
      "{'loss': 0.3225, 'grad_norm': 1.8341189622879028, 'learning_rate': 7.908163265306124e-06, 'epoch': 17.19}\n",
      "{'loss': 0.3309, 'grad_norm': 1.9570201635360718, 'learning_rate': 7.78061224489796e-06, 'epoch': 17.24}\n",
      "{'loss': 0.3157, 'grad_norm': 2.583948850631714, 'learning_rate': 7.653061224489797e-06, 'epoch': 17.29}\n",
      "{'loss': 0.3317, 'grad_norm': 4.233783721923828, 'learning_rate': 7.525510204081633e-06, 'epoch': 17.33}\n",
      "{'loss': 0.3303, 'grad_norm': 1.9689418077468872, 'learning_rate': 7.39795918367347e-06, 'epoch': 17.38}\n",
      "{'loss': 0.3185, 'grad_norm': 1.9258968830108643, 'learning_rate': 7.270408163265306e-06, 'epoch': 17.42}\n",
      "{'loss': 0.3164, 'grad_norm': 2.7013468742370605, 'learning_rate': 7.142857142857143e-06, 'epoch': 17.47}\n",
      "{'loss': 0.3289, 'grad_norm': 3.577312469482422, 'learning_rate': 7.0153061224489795e-06, 'epoch': 17.51}\n",
      "{'loss': 0.3193, 'grad_norm': 2.198819637298584, 'learning_rate': 6.887755102040816e-06, 'epoch': 17.56}\n",
      "{'loss': 0.3405, 'grad_norm': 1.772936463356018, 'learning_rate': 6.760204081632654e-06, 'epoch': 17.6}\n",
      "{'loss': 0.3319, 'grad_norm': 2.9042749404907227, 'learning_rate': 6.632653061224491e-06, 'epoch': 17.65}\n",
      "{'loss': 0.3156, 'grad_norm': 2.0378153324127197, 'learning_rate': 6.505102040816327e-06, 'epoch': 17.69}\n",
      "{'loss': 0.3433, 'grad_norm': 2.1607840061187744, 'learning_rate': 6.3775510204081635e-06, 'epoch': 17.74}\n",
      "{'loss': 0.3127, 'grad_norm': 1.99545419216156, 'learning_rate': 6.25e-06, 'epoch': 17.78}\n",
      "{'loss': 0.3092, 'grad_norm': 1.483005404472351, 'learning_rate': 6.122448979591837e-06, 'epoch': 17.83}\n",
      "{'loss': 0.3398, 'grad_norm': 1.7261301279067993, 'learning_rate': 5.994897959183674e-06, 'epoch': 17.87}\n",
      "{'loss': 0.3208, 'grad_norm': 1.824960708618164, 'learning_rate': 5.867346938775511e-06, 'epoch': 17.92}\n",
      "{'loss': 0.3327, 'grad_norm': 1.9628021717071533, 'learning_rate': 5.7397959183673475e-06, 'epoch': 17.96}\n"
     ]
    },
    {
     "data": {
      "application/vnd.jupyter.widget-view+json": {
       "model_id": "990b7db9e759498eac8c5ec932801323",
       "version_major": 2,
       "version_minor": 0
      },
      "text/plain": [
       "  0%|          | 0/67 [00:00<?, ?it/s]"
      ]
     },
     "metadata": {},
     "output_type": "display_data"
    },
    {
     "name": "stdout",
     "output_type": "stream",
     "text": [
      "{'eval_loss': 0.29272645711898804, 'eval_accuracy': 0.8714852409287132, 'eval_runtime': 170.2087, 'eval_samples_per_second': 100.712, 'eval_steps_per_second': 0.394, 'epoch': 18.0}\n",
      "{'loss': 0.326, 'grad_norm': 1.4779797792434692, 'learning_rate': 5.612244897959184e-06, 'epoch': 18.01}\n",
      "{'loss': 0.3435, 'grad_norm': 1.8217583894729614, 'learning_rate': 5.48469387755102e-06, 'epoch': 18.05}\n",
      "{'loss': 0.338, 'grad_norm': 1.8670899868011475, 'learning_rate': 5.357142857142857e-06, 'epoch': 18.1}\n",
      "{'loss': 0.3447, 'grad_norm': 2.4358131885528564, 'learning_rate': 5.229591836734695e-06, 'epoch': 18.14}\n",
      "{'loss': 0.3281, 'grad_norm': 2.4266974925994873, 'learning_rate': 5.102040816326531e-06, 'epoch': 18.19}\n",
      "{'loss': 0.3206, 'grad_norm': 3.318112373352051, 'learning_rate': 4.9744897959183674e-06, 'epoch': 18.24}\n",
      "{'loss': 0.3292, 'grad_norm': 6.297029495239258, 'learning_rate': 4.846938775510204e-06, 'epoch': 18.28}\n",
      "{'loss': 0.3276, 'grad_norm': 2.546241044998169, 'learning_rate': 4.719387755102041e-06, 'epoch': 18.33}\n",
      "{'loss': 0.3153, 'grad_norm': 1.8524287939071655, 'learning_rate': 4.591836734693878e-06, 'epoch': 18.37}\n",
      "{'loss': 0.3245, 'grad_norm': 1.870802640914917, 'learning_rate': 4.464285714285715e-06, 'epoch': 18.42}\n",
      "{'loss': 0.3435, 'grad_norm': 3.9149444103240967, 'learning_rate': 4.336734693877551e-06, 'epoch': 18.46}\n",
      "{'loss': 0.327, 'grad_norm': 2.9656808376312256, 'learning_rate': 4.209183673469387e-06, 'epoch': 18.51}\n",
      "{'loss': 0.3146, 'grad_norm': 2.0336432456970215, 'learning_rate': 4.081632653061224e-06, 'epoch': 18.55}\n",
      "{'loss': 0.338, 'grad_norm': 3.12795352935791, 'learning_rate': 3.954081632653062e-06, 'epoch': 18.6}\n",
      "{'loss': 0.3104, 'grad_norm': 1.6175925731658936, 'learning_rate': 3.826530612244899e-06, 'epoch': 18.64}\n",
      "{'loss': 0.3307, 'grad_norm': 1.7156325578689575, 'learning_rate': 3.698979591836735e-06, 'epoch': 18.69}\n",
      "{'loss': 0.3281, 'grad_norm': 2.5277087688446045, 'learning_rate': 3.5714285714285714e-06, 'epoch': 18.73}\n",
      "{'loss': 0.3342, 'grad_norm': 2.0938656330108643, 'learning_rate': 3.443877551020408e-06, 'epoch': 18.78}\n",
      "{'loss': 0.3263, 'grad_norm': 1.9826546907424927, 'learning_rate': 3.3163265306122454e-06, 'epoch': 18.82}\n",
      "{'loss': 0.3221, 'grad_norm': 2.106790781021118, 'learning_rate': 3.1887755102040818e-06, 'epoch': 18.87}\n",
      "{'loss': 0.3296, 'grad_norm': 2.0581986904144287, 'learning_rate': 3.0612244897959185e-06, 'epoch': 18.91}\n",
      "{'loss': 0.3463, 'grad_norm': 1.8166179656982422, 'learning_rate': 2.9336734693877553e-06, 'epoch': 18.96}\n"
     ]
    },
    {
     "data": {
      "application/vnd.jupyter.widget-view+json": {
       "model_id": "0b7efdc202c24827812139a260dd0b33",
       "version_major": 2,
       "version_minor": 0
      },
      "text/plain": [
       "  0%|          | 0/67 [00:00<?, ?it/s]"
      ]
     },
     "metadata": {},
     "output_type": "display_data"
    },
    {
     "name": "stdout",
     "output_type": "stream",
     "text": [
      "{'eval_loss': 0.2934187054634094, 'eval_accuracy': 0.8725352934313383, 'eval_runtime': 168.023, 'eval_samples_per_second': 102.022, 'eval_steps_per_second': 0.399, 'epoch': 19.0}\n",
      "{'loss': 0.3211, 'grad_norm': 1.892685055732727, 'learning_rate': 2.806122448979592e-06, 'epoch': 19.0}\n",
      "{'loss': 0.3317, 'grad_norm': 2.6029622554779053, 'learning_rate': 2.6785714285714285e-06, 'epoch': 19.05}\n",
      "{'loss': 0.3508, 'grad_norm': 2.1942896842956543, 'learning_rate': 2.5510204081632653e-06, 'epoch': 19.1}\n",
      "{'loss': 0.351, 'grad_norm': 2.260469913482666, 'learning_rate': 2.423469387755102e-06, 'epoch': 19.14}\n",
      "{'loss': 0.3403, 'grad_norm': 2.1681981086730957, 'learning_rate': 2.295918367346939e-06, 'epoch': 19.19}\n",
      "{'loss': 0.3134, 'grad_norm': 2.7360994815826416, 'learning_rate': 2.1683673469387757e-06, 'epoch': 19.23}\n",
      "{'loss': 0.3426, 'grad_norm': 3.0878658294677734, 'learning_rate': 2.040816326530612e-06, 'epoch': 19.28}\n",
      "{'loss': 0.3226, 'grad_norm': 1.561689853668213, 'learning_rate': 1.9132653061224493e-06, 'epoch': 19.32}\n",
      "{'loss': 0.3414, 'grad_norm': 4.588913917541504, 'learning_rate': 1.7857142857142857e-06, 'epoch': 19.37}\n",
      "{'loss': 0.3237, 'grad_norm': 1.3552337884902954, 'learning_rate': 1.6581632653061227e-06, 'epoch': 19.41}\n",
      "{'loss': 0.3231, 'grad_norm': 1.8467793464660645, 'learning_rate': 1.5306122448979593e-06, 'epoch': 19.46}\n",
      "{'loss': 0.3215, 'grad_norm': 1.6270880699157715, 'learning_rate': 1.403061224489796e-06, 'epoch': 19.5}\n",
      "{'loss': 0.3393, 'grad_norm': 1.811578392982483, 'learning_rate': 1.2755102040816327e-06, 'epoch': 19.55}\n",
      "{'loss': 0.3267, 'grad_norm': 2.025892734527588, 'learning_rate': 1.1479591836734695e-06, 'epoch': 19.59}\n",
      "{'loss': 0.3354, 'grad_norm': 1.9622379541397095, 'learning_rate': 1.020408163265306e-06, 'epoch': 19.64}\n",
      "{'loss': 0.341, 'grad_norm': 2.029524803161621, 'learning_rate': 8.928571428571428e-07, 'epoch': 19.68}\n",
      "{'loss': 0.3244, 'grad_norm': 1.9298568964004517, 'learning_rate': 7.653061224489796e-07, 'epoch': 19.73}\n",
      "{'loss': 0.2958, 'grad_norm': 2.669919490814209, 'learning_rate': 6.377551020408163e-07, 'epoch': 19.77}\n",
      "{'loss': 0.317, 'grad_norm': 1.4648940563201904, 'learning_rate': 5.10204081632653e-07, 'epoch': 19.82}\n",
      "{'loss': 0.3421, 'grad_norm': 1.6661810874938965, 'learning_rate': 3.826530612244898e-07, 'epoch': 19.86}\n",
      "{'loss': 0.3338, 'grad_norm': 3.1177139282226562, 'learning_rate': 2.551020408163265e-07, 'epoch': 19.91}\n",
      "{'loss': 0.3225, 'grad_norm': 1.6425093412399292, 'learning_rate': 1.2755102040816326e-07, 'epoch': 19.95}\n",
      "{'loss': 0.3574, 'grad_norm': 2.677001714706421, 'learning_rate': 0.0, 'epoch': 20.0}\n"
     ]
    },
    {
     "data": {
      "application/vnd.jupyter.widget-view+json": {
       "model_id": "ad60c03121084198a03cacca1cae1eed",
       "version_major": 2,
       "version_minor": 0
      },
      "text/plain": [
       "  0%|          | 0/67 [00:00<?, ?it/s]"
      ]
     },
     "metadata": {},
     "output_type": "display_data"
    },
    {
     "name": "stdout",
     "output_type": "stream",
     "text": [
      "{'eval_loss': 0.28821152448654175, 'eval_accuracy': 0.8773188659432971, 'eval_runtime': 169.1877, 'eval_samples_per_second': 101.319, 'eval_steps_per_second': 0.396, 'epoch': 20.0}\n",
      "{'train_runtime': 14044.0232, 'train_samples_per_second': 80.417, 'train_steps_per_second': 0.315, 'train_loss': 0.39407227238918324, 'epoch': 20.0}\n"
     ]
    }
   ],
   "source": [
    "prompt_bert_classifier.train_model_on_data(dataset_prompt, epochs = EPOCHS)"
   ]
  },
  {
   "cell_type": "code",
   "execution_count": 14,
   "metadata": {},
   "outputs": [
    {
     "name": "stderr",
     "output_type": "stream",
     "text": [
      "Some weights of InsertEmbeddingBertForSequenceClassification were not initialized from the model checkpoint at google/bert_uncased_L-2_H-128_A-2 and are newly initialized: ['classifier.bias', 'classifier.weight']\n",
      "You should probably TRAIN this model on a down-stream task to be able to use it for predictions and inference.\n"
     ]
    },
    {
     "data": {
      "application/vnd.jupyter.widget-view+json": {
       "model_id": "fd4cc768b43e47d2a812b9fe78b357e5",
       "version_major": 2,
       "version_minor": 0
      },
      "text/plain": [
       "Map:   0%|          | 0/56469 [00:00<?, ? examples/s]"
      ]
     },
     "metadata": {},
     "output_type": "display_data"
    },
    {
     "data": {
      "application/vnd.jupyter.widget-view+json": {
       "model_id": "2de31113ae2e4db098ab2551a15b4c24",
       "version_major": 2,
       "version_minor": 0
      },
      "text/plain": [
       "Map:   0%|          | 0/17142 [00:00<?, ? examples/s]"
      ]
     },
     "metadata": {},
     "output_type": "display_data"
    },
    {
     "data": {
      "application/vnd.jupyter.widget-view+json": {
       "model_id": "1560e39d771746c8b5206c379328e959",
       "version_major": 2,
       "version_minor": 0
      },
      "text/plain": [
       "Map:   0%|          | 0/17142 [00:00<?, ? examples/s]"
      ]
     },
     "metadata": {},
     "output_type": "display_data"
    },
    {
     "data": {
      "application/vnd.jupyter.widget-view+json": {
       "model_id": "b75c8727c87a4fb1b294f7899bd9b034",
       "version_major": 2,
       "version_minor": 0
      },
      "text/plain": [
       "Saving the dataset (0/2 shards):   0%|          | 0/56469 [00:00<?, ? examples/s]"
      ]
     },
     "metadata": {},
     "output_type": "display_data"
    },
    {
     "data": {
      "application/vnd.jupyter.widget-view+json": {
       "model_id": "9ebdf17316a4400cbcaca44db0ece983",
       "version_major": 2,
       "version_minor": 0
      },
      "text/plain": [
       "Saving the dataset (0/1 shards):   0%|          | 0/17142 [00:00<?, ? examples/s]"
      ]
     },
     "metadata": {},
     "output_type": "display_data"
    },
    {
     "data": {
      "application/vnd.jupyter.widget-view+json": {
       "model_id": "0ed46aad640e41d6a35b5f551a2ed9f7",
       "version_major": 2,
       "version_minor": 0
      },
      "text/plain": [
       "Saving the dataset (0/1 shards):   0%|          | 0/17142 [00:00<?, ? examples/s]"
      ]
     },
     "metadata": {},
     "output_type": "display_data"
    }
   ],
   "source": [
    "adding_embedding_bert_only_classifier = AddingEmbeddingsBertClassifierBase(movie_lens_loader, gnn_trainer_large.get_embedding, kge_dimension=MODEL_HIDDEN_SIZE, batch_size=BATCH_SIZE, model_name=MODEL_NAME)\n",
    "dataset_adding_embedding = movie_lens_loader.generate_adding_embedding_dataset(adding_embedding_bert_only_classifier.tokenizer.sep_token, adding_embedding_bert_only_classifier.tokenizer.pad_token, adding_embedding_bert_only_classifier.tokenize_function, kge_dimension = MODEL_HIDDEN_SIZE)\n"
   ]
  },
  {
   "cell_type": "code",
   "execution_count": 15,
   "metadata": {},
   "outputs": [
    {
     "data": {
      "application/vnd.jupyter.widget-view+json": {
       "model_id": "4299591a199e4327aadf0dde62ef254d",
       "version_major": 2,
       "version_minor": 0
      },
      "text/plain": [
       "  0%|          | 0/4420 [00:00<?, ?it/s]"
      ]
     },
     "metadata": {},
     "output_type": "display_data"
    },
    {
     "name": "stdout",
     "output_type": "stream",
     "text": [
      "{'loss': 0.7091, 'grad_norm': 2.509500026702881, 'learning_rate': 1.0000000000000002e-06, 'epoch': 0.05}\n",
      "{'loss': 0.7048, 'grad_norm': 2.799487590789795, 'learning_rate': 2.0000000000000003e-06, 'epoch': 0.09}\n",
      "{'loss': 0.7035, 'grad_norm': 2.143673896789551, 'learning_rate': 3e-06, 'epoch': 0.14}\n",
      "{'loss': 0.6954, 'grad_norm': 2.0925886631011963, 'learning_rate': 4.000000000000001e-06, 'epoch': 0.18}\n",
      "{'loss': 0.6853, 'grad_norm': 1.866171956062317, 'learning_rate': 5e-06, 'epoch': 0.23}\n",
      "{'loss': 0.6781, 'grad_norm': 2.5431997776031494, 'learning_rate': 6e-06, 'epoch': 0.27}\n",
      "{'loss': 0.6691, 'grad_norm': 1.8883814811706543, 'learning_rate': 7.000000000000001e-06, 'epoch': 0.32}\n",
      "{'loss': 0.6606, 'grad_norm': 0.9473239779472351, 'learning_rate': 8.000000000000001e-06, 'epoch': 0.36}\n",
      "{'loss': 0.6513, 'grad_norm': 0.37495705485343933, 'learning_rate': 9e-06, 'epoch': 0.41}\n",
      "{'loss': 0.6463, 'grad_norm': 1.2949178218841553, 'learning_rate': 1e-05, 'epoch': 0.45}\n",
      "{'loss': 0.6336, 'grad_norm': 0.5739748477935791, 'learning_rate': 1.1000000000000001e-05, 'epoch': 0.5}\n",
      "{'loss': 0.633, 'grad_norm': 0.6359241008758545, 'learning_rate': 1.2e-05, 'epoch': 0.54}\n",
      "{'loss': 0.6133, 'grad_norm': 1.0007498264312744, 'learning_rate': 1.3000000000000001e-05, 'epoch': 0.59}\n",
      "{'loss': 0.6218, 'grad_norm': 1.2491248846054077, 'learning_rate': 1.4000000000000001e-05, 'epoch': 0.63}\n",
      "{'loss': 0.5978, 'grad_norm': 1.0616109371185303, 'learning_rate': 1.5e-05, 'epoch': 0.68}\n",
      "{'loss': 0.5859, 'grad_norm': 0.9990572929382324, 'learning_rate': 1.6000000000000003e-05, 'epoch': 0.72}\n",
      "{'loss': 0.5774, 'grad_norm': 1.1655229330062866, 'learning_rate': 1.7000000000000003e-05, 'epoch': 0.77}\n",
      "{'loss': 0.5672, 'grad_norm': 0.9610909223556519, 'learning_rate': 1.8e-05, 'epoch': 0.81}\n",
      "{'loss': 0.5565, 'grad_norm': 0.950404167175293, 'learning_rate': 1.9e-05, 'epoch': 0.86}\n",
      "{'loss': 0.5349, 'grad_norm': 1.0139647722244263, 'learning_rate': 2e-05, 'epoch': 0.9}\n",
      "{'loss': 0.5297, 'grad_norm': 1.1593786478042603, 'learning_rate': 2.1e-05, 'epoch': 0.95}\n",
      "{'loss': 0.5107, 'grad_norm': 1.3081501722335815, 'learning_rate': 2.2000000000000003e-05, 'epoch': 1.0}\n"
     ]
    },
    {
     "data": {
      "application/vnd.jupyter.widget-view+json": {
       "model_id": "4db83228d67f47e1998b6c94b66eef36",
       "version_major": 2,
       "version_minor": 0
      },
      "text/plain": [
       "  0%|          | 0/67 [00:00<?, ?it/s]"
      ]
     },
     "metadata": {},
     "output_type": "display_data"
    },
    {
     "name": "stdout",
     "output_type": "stream",
     "text": [
      "{'eval_loss': 0.4853430688381195, 'eval_accuracy': 0.7964648232411621, 'eval_runtime': 148.5075, 'eval_samples_per_second': 115.429, 'eval_steps_per_second': 0.451, 'epoch': 1.0}\n",
      "{'loss': 0.517, 'grad_norm': 0.9431381821632385, 'learning_rate': 2.3000000000000003e-05, 'epoch': 1.04}\n",
      "{'loss': 0.4844, 'grad_norm': 1.1250807046890259, 'learning_rate': 2.4e-05, 'epoch': 1.09}\n",
      "{'loss': 0.4854, 'grad_norm': 1.1480079889297485, 'learning_rate': 2.5e-05, 'epoch': 1.13}\n",
      "{'loss': 0.4693, 'grad_norm': 1.0225285291671753, 'learning_rate': 2.6000000000000002e-05, 'epoch': 1.18}\n",
      "{'loss': 0.4675, 'grad_norm': 1.0478017330169678, 'learning_rate': 2.7000000000000002e-05, 'epoch': 1.22}\n",
      "{'loss': 0.458, 'grad_norm': 1.0481812953948975, 'learning_rate': 2.8000000000000003e-05, 'epoch': 1.27}\n",
      "{'loss': 0.4643, 'grad_norm': 1.0488988161087036, 'learning_rate': 2.9e-05, 'epoch': 1.31}\n",
      "{'loss': 0.4418, 'grad_norm': 0.9810708165168762, 'learning_rate': 3e-05, 'epoch': 1.36}\n",
      "{'loss': 0.4526, 'grad_norm': 1.0317351818084717, 'learning_rate': 3.1e-05, 'epoch': 1.4}\n",
      "{'loss': 0.42, 'grad_norm': 1.1822669506072998, 'learning_rate': 3.2000000000000005e-05, 'epoch': 1.45}\n",
      "{'loss': 0.4411, 'grad_norm': 1.3208961486816406, 'learning_rate': 3.3e-05, 'epoch': 1.49}\n",
      "{'loss': 0.4157, 'grad_norm': 1.2310786247253418, 'learning_rate': 3.4000000000000007e-05, 'epoch': 1.54}\n",
      "{'loss': 0.4223, 'grad_norm': 0.8567414879798889, 'learning_rate': 3.5e-05, 'epoch': 1.58}\n",
      "{'loss': 0.4118, 'grad_norm': 1.068816065788269, 'learning_rate': 3.6e-05, 'epoch': 1.63}\n",
      "{'loss': 0.416, 'grad_norm': 1.455457091331482, 'learning_rate': 3.7e-05, 'epoch': 1.67}\n",
      "{'loss': 0.4308, 'grad_norm': 0.9164302349090576, 'learning_rate': 3.8e-05, 'epoch': 1.72}\n",
      "{'loss': 0.438, 'grad_norm': 0.8084738254547119, 'learning_rate': 3.9000000000000006e-05, 'epoch': 1.76}\n",
      "{'loss': 0.413, 'grad_norm': 0.869011640548706, 'learning_rate': 4e-05, 'epoch': 1.81}\n",
      "{'loss': 0.3981, 'grad_norm': 1.1435692310333252, 'learning_rate': 4.1e-05, 'epoch': 1.86}\n",
      "{'loss': 0.3981, 'grad_norm': 0.9923743009567261, 'learning_rate': 4.2e-05, 'epoch': 1.9}\n",
      "{'loss': 0.4024, 'grad_norm': 1.161163091659546, 'learning_rate': 4.3e-05, 'epoch': 1.95}\n",
      "{'loss': 0.4101, 'grad_norm': 1.602384090423584, 'learning_rate': 4.4000000000000006e-05, 'epoch': 1.99}\n"
     ]
    },
    {
     "data": {
      "application/vnd.jupyter.widget-view+json": {
       "model_id": "c9630db46c554a07bc926ead0bccac18",
       "version_major": 2,
       "version_minor": 0
      },
      "text/plain": [
       "  0%|          | 0/67 [00:00<?, ?it/s]"
      ]
     },
     "metadata": {},
     "output_type": "display_data"
    },
    {
     "name": "stdout",
     "output_type": "stream",
     "text": [
      "{'eval_loss': 0.3956083059310913, 'eval_accuracy': 0.8163574845408937, 'eval_runtime': 150.7453, 'eval_samples_per_second': 113.715, 'eval_steps_per_second': 0.444, 'epoch': 2.0}\n",
      "{'loss': 0.3869, 'grad_norm': 0.9085557460784912, 'learning_rate': 4.5e-05, 'epoch': 2.04}\n",
      "{'loss': 0.3968, 'grad_norm': 1.0455820560455322, 'learning_rate': 4.600000000000001e-05, 'epoch': 2.08}\n",
      "{'loss': 0.4208, 'grad_norm': 0.9333491921424866, 'learning_rate': 4.7e-05, 'epoch': 2.13}\n",
      "{'loss': 0.3986, 'grad_norm': 1.1259772777557373, 'learning_rate': 4.8e-05, 'epoch': 2.17}\n",
      "{'loss': 0.4114, 'grad_norm': 0.8827069401741028, 'learning_rate': 4.9e-05, 'epoch': 2.22}\n",
      "{'loss': 0.4059, 'grad_norm': 1.017343282699585, 'learning_rate': 5e-05, 'epoch': 2.26}\n",
      "{'loss': 0.3952, 'grad_norm': 1.0563033819198608, 'learning_rate': 4.987244897959184e-05, 'epoch': 2.31}\n",
      "{'loss': 0.3979, 'grad_norm': 0.9619131088256836, 'learning_rate': 4.974489795918368e-05, 'epoch': 2.35}\n",
      "{'loss': 0.3888, 'grad_norm': 1.0475866794586182, 'learning_rate': 4.961734693877551e-05, 'epoch': 2.4}\n",
      "{'loss': 0.4002, 'grad_norm': 1.3269033432006836, 'learning_rate': 4.9489795918367346e-05, 'epoch': 2.44}\n",
      "{'loss': 0.357, 'grad_norm': 0.9428542256355286, 'learning_rate': 4.9362244897959184e-05, 'epoch': 2.49}\n",
      "{'loss': 0.3895, 'grad_norm': 0.783464789390564, 'learning_rate': 4.923469387755102e-05, 'epoch': 2.53}\n",
      "{'loss': 0.3828, 'grad_norm': 0.9853924512863159, 'learning_rate': 4.910714285714286e-05, 'epoch': 2.58}\n",
      "{'loss': 0.3785, 'grad_norm': 1.2030636072158813, 'learning_rate': 4.89795918367347e-05, 'epoch': 2.62}\n",
      "{'loss': 0.3875, 'grad_norm': 1.780131220817566, 'learning_rate': 4.8852040816326534e-05, 'epoch': 2.67}\n",
      "{'loss': 0.4017, 'grad_norm': 1.5140103101730347, 'learning_rate': 4.872448979591837e-05, 'epoch': 2.71}\n",
      "{'loss': 0.3535, 'grad_norm': 1.2337913513183594, 'learning_rate': 4.859693877551021e-05, 'epoch': 2.76}\n",
      "{'loss': 0.3944, 'grad_norm': 2.1773407459259033, 'learning_rate': 4.846938775510204e-05, 'epoch': 2.81}\n",
      "{'loss': 0.3939, 'grad_norm': 1.1748915910720825, 'learning_rate': 4.834183673469388e-05, 'epoch': 2.85}\n",
      "{'loss': 0.3779, 'grad_norm': 1.1891103982925415, 'learning_rate': 4.8214285714285716e-05, 'epoch': 2.9}\n",
      "{'loss': 0.3817, 'grad_norm': 1.110060691833496, 'learning_rate': 4.8086734693877554e-05, 'epoch': 2.94}\n",
      "{'loss': 0.3711, 'grad_norm': 1.2327508926391602, 'learning_rate': 4.795918367346939e-05, 'epoch': 2.99}\n"
     ]
    },
    {
     "data": {
      "application/vnd.jupyter.widget-view+json": {
       "model_id": "2089eaea06564a91a1df2678f8850b8a",
       "version_major": 2,
       "version_minor": 0
      },
      "text/plain": [
       "  0%|          | 0/67 [00:00<?, ?it/s]"
      ]
     },
     "metadata": {},
     "output_type": "display_data"
    },
    {
     "name": "stdout",
     "output_type": "stream",
     "text": [
      "{'eval_loss': 0.34688109159469604, 'eval_accuracy': 0.8445338933613348, 'eval_runtime': 148.9407, 'eval_samples_per_second': 115.093, 'eval_steps_per_second': 0.45, 'epoch': 3.0}\n",
      "{'loss': 0.3553, 'grad_norm': 0.9349470138549805, 'learning_rate': 4.783163265306123e-05, 'epoch': 3.03}\n",
      "{'loss': 0.3645, 'grad_norm': 0.9631088972091675, 'learning_rate': 4.7704081632653066e-05, 'epoch': 3.08}\n",
      "{'loss': 0.3763, 'grad_norm': 0.9411998391151428, 'learning_rate': 4.7576530612244904e-05, 'epoch': 3.12}\n",
      "{'loss': 0.3873, 'grad_norm': 1.0161653757095337, 'learning_rate': 4.744897959183674e-05, 'epoch': 3.17}\n",
      "{'loss': 0.3697, 'grad_norm': 0.9823721647262573, 'learning_rate': 4.732142857142857e-05, 'epoch': 3.21}\n",
      "{'loss': 0.3716, 'grad_norm': 0.8645493984222412, 'learning_rate': 4.719387755102041e-05, 'epoch': 3.26}\n",
      "{'loss': 0.373, 'grad_norm': 1.1809028387069702, 'learning_rate': 4.706632653061225e-05, 'epoch': 3.3}\n",
      "{'loss': 0.3727, 'grad_norm': 0.9025824666023254, 'learning_rate': 4.6938775510204086e-05, 'epoch': 3.35}\n",
      "{'loss': 0.3647, 'grad_norm': 1.1245509386062622, 'learning_rate': 4.6811224489795916e-05, 'epoch': 3.39}\n",
      "{'loss': 0.3618, 'grad_norm': 0.7842320799827576, 'learning_rate': 4.6683673469387754e-05, 'epoch': 3.44}\n",
      "{'loss': 0.3656, 'grad_norm': 0.912196159362793, 'learning_rate': 4.655612244897959e-05, 'epoch': 3.48}\n",
      "{'loss': 0.3653, 'grad_norm': 0.9808375835418701, 'learning_rate': 4.642857142857143e-05, 'epoch': 3.53}\n",
      "{'loss': 0.3529, 'grad_norm': 1.2017632722854614, 'learning_rate': 4.630102040816327e-05, 'epoch': 3.57}\n",
      "{'loss': 0.3505, 'grad_norm': 1.0975162982940674, 'learning_rate': 4.6173469387755105e-05, 'epoch': 3.62}\n",
      "{'loss': 0.3562, 'grad_norm': 1.5177828073501587, 'learning_rate': 4.604591836734694e-05, 'epoch': 3.67}\n",
      "{'loss': 0.3591, 'grad_norm': 0.7417841553688049, 'learning_rate': 4.591836734693878e-05, 'epoch': 3.71}\n",
      "{'loss': 0.356, 'grad_norm': 1.1101391315460205, 'learning_rate': 4.579081632653062e-05, 'epoch': 3.76}\n",
      "{'loss': 0.3436, 'grad_norm': 0.8094195127487183, 'learning_rate': 4.566326530612245e-05, 'epoch': 3.8}\n",
      "{'loss': 0.3753, 'grad_norm': 0.740225613117218, 'learning_rate': 4.5535714285714286e-05, 'epoch': 3.85}\n",
      "{'loss': 0.3373, 'grad_norm': 0.961048424243927, 'learning_rate': 4.5408163265306124e-05, 'epoch': 3.89}\n",
      "{'loss': 0.3601, 'grad_norm': 1.2794896364212036, 'learning_rate': 4.528061224489796e-05, 'epoch': 3.94}\n",
      "{'loss': 0.3711, 'grad_norm': 0.9736688137054443, 'learning_rate': 4.515306122448979e-05, 'epoch': 3.98}\n"
     ]
    },
    {
     "data": {
      "application/vnd.jupyter.widget-view+json": {
       "model_id": "aa1c12b898c148bf913e1d09b4cea2ce",
       "version_major": 2,
       "version_minor": 0
      },
      "text/plain": [
       "  0%|          | 0/67 [00:00<?, ?it/s]"
      ]
     },
     "metadata": {},
     "output_type": "display_data"
    },
    {
     "name": "stdout",
     "output_type": "stream",
     "text": [
      "{'eval_loss': 0.3236522674560547, 'eval_accuracy': 0.8577178858942948, 'eval_runtime': 149.0229, 'eval_samples_per_second': 115.029, 'eval_steps_per_second': 0.45, 'epoch': 4.0}\n",
      "{'loss': 0.379, 'grad_norm': 1.0309009552001953, 'learning_rate': 4.502551020408164e-05, 'epoch': 4.03}\n",
      "{'loss': 0.3623, 'grad_norm': 0.9340695738792419, 'learning_rate': 4.4897959183673474e-05, 'epoch': 4.07}\n",
      "{'loss': 0.341, 'grad_norm': 0.8402586579322815, 'learning_rate': 4.477040816326531e-05, 'epoch': 4.12}\n",
      "{'loss': 0.3363, 'grad_norm': 1.3143240213394165, 'learning_rate': 4.464285714285715e-05, 'epoch': 4.16}\n",
      "{'loss': 0.3448, 'grad_norm': 1.1387217044830322, 'learning_rate': 4.451530612244898e-05, 'epoch': 4.21}\n",
      "{'loss': 0.3639, 'grad_norm': 1.3493255376815796, 'learning_rate': 4.438775510204082e-05, 'epoch': 4.25}\n",
      "{'loss': 0.3401, 'grad_norm': 0.9757453799247742, 'learning_rate': 4.4260204081632656e-05, 'epoch': 4.3}\n",
      "{'loss': 0.3457, 'grad_norm': 0.9458795189857483, 'learning_rate': 4.4132653061224493e-05, 'epoch': 4.34}\n",
      "{'loss': 0.337, 'grad_norm': 1.088085412979126, 'learning_rate': 4.4005102040816324e-05, 'epoch': 4.39}\n",
      "{'loss': 0.3376, 'grad_norm': 1.0002974271774292, 'learning_rate': 4.387755102040816e-05, 'epoch': 4.43}\n",
      "{'loss': 0.3339, 'grad_norm': 0.9835473299026489, 'learning_rate': 4.375e-05, 'epoch': 4.48}\n",
      "{'loss': 0.34, 'grad_norm': 0.8331032395362854, 'learning_rate': 4.362244897959184e-05, 'epoch': 4.52}\n",
      "{'loss': 0.3453, 'grad_norm': 0.8738658428192139, 'learning_rate': 4.3494897959183675e-05, 'epoch': 4.57}\n",
      "{'loss': 0.3472, 'grad_norm': 0.9449275732040405, 'learning_rate': 4.336734693877551e-05, 'epoch': 4.62}\n",
      "{'loss': 0.3665, 'grad_norm': 1.0105905532836914, 'learning_rate': 4.323979591836735e-05, 'epoch': 4.66}\n",
      "{'loss': 0.3462, 'grad_norm': 1.041784405708313, 'learning_rate': 4.311224489795919e-05, 'epoch': 4.71}\n",
      "{'loss': 0.3411, 'grad_norm': 1.5251941680908203, 'learning_rate': 4.2984693877551025e-05, 'epoch': 4.75}\n",
      "{'loss': 0.3326, 'grad_norm': 1.5996915102005005, 'learning_rate': 4.2857142857142856e-05, 'epoch': 4.8}\n",
      "{'loss': 0.3492, 'grad_norm': 0.8368462920188904, 'learning_rate': 4.2729591836734694e-05, 'epoch': 4.84}\n",
      "{'loss': 0.3474, 'grad_norm': 0.8722376823425293, 'learning_rate': 4.260204081632653e-05, 'epoch': 4.89}\n",
      "{'loss': 0.338, 'grad_norm': 0.8480409979820251, 'learning_rate': 4.247448979591837e-05, 'epoch': 4.93}\n",
      "{'loss': 0.3373, 'grad_norm': 1.3913004398345947, 'learning_rate': 4.234693877551021e-05, 'epoch': 4.98}\n"
     ]
    },
    {
     "data": {
      "application/vnd.jupyter.widget-view+json": {
       "model_id": "0e5466dc9e6a4a35b897e1d7e78ea0cb",
       "version_major": 2,
       "version_minor": 0
      },
      "text/plain": [
       "  0%|          | 0/67 [00:00<?, ?it/s]"
      ]
     },
     "metadata": {},
     "output_type": "display_data"
    },
    {
     "name": "stdout",
     "output_type": "stream",
     "text": [
      "{'eval_loss': 0.3170113265514374, 'eval_accuracy': 0.8601680084004201, 'eval_runtime': 149.7218, 'eval_samples_per_second': 114.492, 'eval_steps_per_second': 0.447, 'epoch': 5.0}\n",
      "{'loss': 0.337, 'grad_norm': 0.9424701929092407, 'learning_rate': 4.2219387755102045e-05, 'epoch': 5.02}\n",
      "{'loss': 0.3417, 'grad_norm': 1.1752114295959473, 'learning_rate': 4.209183673469388e-05, 'epoch': 5.07}\n",
      "{'loss': 0.3176, 'grad_norm': 1.514762282371521, 'learning_rate': 4.196428571428572e-05, 'epoch': 5.11}\n",
      "{'loss': 0.346, 'grad_norm': 1.2150661945343018, 'learning_rate': 4.183673469387756e-05, 'epoch': 5.16}\n",
      "{'loss': 0.3486, 'grad_norm': 1.1392451524734497, 'learning_rate': 4.170918367346939e-05, 'epoch': 5.2}\n",
      "{'loss': 0.339, 'grad_norm': 0.8045358061790466, 'learning_rate': 4.1581632653061226e-05, 'epoch': 5.25}\n",
      "{'loss': 0.3367, 'grad_norm': 1.031054973602295, 'learning_rate': 4.1454081632653064e-05, 'epoch': 5.29}\n",
      "{'loss': 0.3439, 'grad_norm': 1.3351845741271973, 'learning_rate': 4.13265306122449e-05, 'epoch': 5.34}\n",
      "{'loss': 0.3518, 'grad_norm': 0.8609133958816528, 'learning_rate': 4.119897959183674e-05, 'epoch': 5.38}\n",
      "{'loss': 0.3305, 'grad_norm': 0.8736714720726013, 'learning_rate': 4.107142857142857e-05, 'epoch': 5.43}\n",
      "{'loss': 0.3347, 'grad_norm': 0.7471272349357605, 'learning_rate': 4.094387755102041e-05, 'epoch': 5.48}\n",
      "{'loss': 0.3382, 'grad_norm': 1.0478391647338867, 'learning_rate': 4.0816326530612245e-05, 'epoch': 5.52}\n",
      "{'loss': 0.3433, 'grad_norm': 0.8601682782173157, 'learning_rate': 4.068877551020408e-05, 'epoch': 5.57}\n",
      "{'loss': 0.3305, 'grad_norm': 1.226202368736267, 'learning_rate': 4.056122448979592e-05, 'epoch': 5.61}\n",
      "{'loss': 0.3248, 'grad_norm': 0.9849453568458557, 'learning_rate': 4.043367346938776e-05, 'epoch': 5.66}\n",
      "{'loss': 0.3491, 'grad_norm': 0.9233667254447937, 'learning_rate': 4.0306122448979596e-05, 'epoch': 5.7}\n",
      "{'loss': 0.3337, 'grad_norm': 0.9624980092048645, 'learning_rate': 4.017857142857143e-05, 'epoch': 5.75}\n",
      "{'loss': 0.3425, 'grad_norm': 0.8908261060714722, 'learning_rate': 4.0051020408163264e-05, 'epoch': 5.79}\n",
      "{'loss': 0.3187, 'grad_norm': 0.9062829613685608, 'learning_rate': 3.99234693877551e-05, 'epoch': 5.84}\n",
      "{'loss': 0.2988, 'grad_norm': 0.8324004411697388, 'learning_rate': 3.979591836734694e-05, 'epoch': 5.88}\n",
      "{'loss': 0.3278, 'grad_norm': 1.1700891256332397, 'learning_rate': 3.966836734693878e-05, 'epoch': 5.93}\n",
      "{'loss': 0.3345, 'grad_norm': 1.6674609184265137, 'learning_rate': 3.9540816326530615e-05, 'epoch': 5.97}\n"
     ]
    },
    {
     "data": {
      "application/vnd.jupyter.widget-view+json": {
       "model_id": "084fc909e8e14ed486ed404325e7877c",
       "version_major": 2,
       "version_minor": 0
      },
      "text/plain": [
       "  0%|          | 0/67 [00:00<?, ?it/s]"
      ]
     },
     "metadata": {},
     "output_type": "display_data"
    },
    {
     "name": "stdout",
     "output_type": "stream",
     "text": [
      "{'eval_loss': 0.3035866916179657, 'eval_accuracy': 0.8657682884144208, 'eval_runtime': 151.083, 'eval_samples_per_second': 113.461, 'eval_steps_per_second': 0.443, 'epoch': 6.0}\n",
      "{'loss': 0.3302, 'grad_norm': 0.7767389416694641, 'learning_rate': 3.9413265306122446e-05, 'epoch': 6.02}\n",
      "{'loss': 0.3226, 'grad_norm': 1.0604954957962036, 'learning_rate': 3.928571428571429e-05, 'epoch': 6.06}\n",
      "{'loss': 0.3138, 'grad_norm': 0.9361637234687805, 'learning_rate': 3.915816326530613e-05, 'epoch': 6.11}\n",
      "{'loss': 0.2979, 'grad_norm': 0.8221874833106995, 'learning_rate': 3.9030612244897965e-05, 'epoch': 6.15}\n",
      "{'loss': 0.3196, 'grad_norm': 1.008080005645752, 'learning_rate': 3.8903061224489796e-05, 'epoch': 6.2}\n",
      "{'loss': 0.3207, 'grad_norm': 0.9232077598571777, 'learning_rate': 3.8775510204081634e-05, 'epoch': 6.24}\n",
      "{'loss': 0.326, 'grad_norm': 1.0624943971633911, 'learning_rate': 3.864795918367347e-05, 'epoch': 6.29}\n",
      "{'loss': 0.3243, 'grad_norm': 1.1224843263626099, 'learning_rate': 3.852040816326531e-05, 'epoch': 6.33}\n",
      "{'loss': 0.3556, 'grad_norm': 1.127025842666626, 'learning_rate': 3.839285714285715e-05, 'epoch': 6.38}\n",
      "{'loss': 0.2952, 'grad_norm': 0.8858752250671387, 'learning_rate': 3.826530612244898e-05, 'epoch': 6.43}\n",
      "{'loss': 0.3042, 'grad_norm': 0.8010537028312683, 'learning_rate': 3.8137755102040815e-05, 'epoch': 6.47}\n",
      "{'loss': 0.3202, 'grad_norm': 1.3328499794006348, 'learning_rate': 3.801020408163265e-05, 'epoch': 6.52}\n",
      "{'loss': 0.3208, 'grad_norm': 1.211610198020935, 'learning_rate': 3.788265306122449e-05, 'epoch': 6.56}\n",
      "{'loss': 0.3196, 'grad_norm': 0.9673305153846741, 'learning_rate': 3.775510204081633e-05, 'epoch': 6.61}\n",
      "{'loss': 0.3223, 'grad_norm': 0.942746102809906, 'learning_rate': 3.7627551020408166e-05, 'epoch': 6.65}\n",
      "{'loss': 0.3355, 'grad_norm': 1.1300300359725952, 'learning_rate': 3.7500000000000003e-05, 'epoch': 6.7}\n",
      "{'loss': 0.321, 'grad_norm': 0.8472810983657837, 'learning_rate': 3.737244897959184e-05, 'epoch': 6.74}\n",
      "{'loss': 0.3038, 'grad_norm': 1.1955008506774902, 'learning_rate': 3.724489795918368e-05, 'epoch': 6.79}\n",
      "{'loss': 0.3301, 'grad_norm': 1.1191545724868774, 'learning_rate': 3.711734693877551e-05, 'epoch': 6.83}\n",
      "{'loss': 0.3103, 'grad_norm': 0.8241930603981018, 'learning_rate': 3.698979591836735e-05, 'epoch': 6.88}\n",
      "{'loss': 0.3045, 'grad_norm': 1.139405369758606, 'learning_rate': 3.6862244897959185e-05, 'epoch': 6.92}\n",
      "{'loss': 0.3093, 'grad_norm': 0.9057125449180603, 'learning_rate': 3.673469387755102e-05, 'epoch': 6.97}\n"
     ]
    },
    {
     "data": {
      "application/vnd.jupyter.widget-view+json": {
       "model_id": "3c39f73adb7e42ceb9f1862b3458f929",
       "version_major": 2,
       "version_minor": 0
      },
      "text/plain": [
       "  0%|          | 0/67 [00:00<?, ?it/s]"
      ]
     },
     "metadata": {},
     "output_type": "display_data"
    },
    {
     "name": "stdout",
     "output_type": "stream",
     "text": [
      "{'eval_loss': 0.3006895184516907, 'eval_accuracy': 0.8706685334266714, 'eval_runtime': 149.6139, 'eval_samples_per_second': 114.575, 'eval_steps_per_second': 0.448, 'epoch': 7.0}\n",
      "{'loss': 0.2978, 'grad_norm': 1.117543339729309, 'learning_rate': 3.6607142857142853e-05, 'epoch': 7.01}\n",
      "{'loss': 0.3284, 'grad_norm': 1.08034348487854, 'learning_rate': 3.64795918367347e-05, 'epoch': 7.06}\n",
      "{'loss': 0.3144, 'grad_norm': 1.2560765743255615, 'learning_rate': 3.6352040816326536e-05, 'epoch': 7.1}\n",
      "{'loss': 0.3177, 'grad_norm': 0.7268418073654175, 'learning_rate': 3.622448979591837e-05, 'epoch': 7.15}\n",
      "{'loss': 0.3142, 'grad_norm': 1.5668540000915527, 'learning_rate': 3.609693877551021e-05, 'epoch': 7.19}\n",
      "{'loss': 0.3114, 'grad_norm': 0.8042719960212708, 'learning_rate': 3.596938775510204e-05, 'epoch': 7.24}\n",
      "{'loss': 0.3165, 'grad_norm': 0.8799934983253479, 'learning_rate': 3.584183673469388e-05, 'epoch': 7.29}\n",
      "{'loss': 0.3198, 'grad_norm': 0.9216762781143188, 'learning_rate': 3.571428571428572e-05, 'epoch': 7.33}\n",
      "{'loss': 0.3221, 'grad_norm': 0.8096817135810852, 'learning_rate': 3.5586734693877555e-05, 'epoch': 7.38}\n",
      "{'loss': 0.3144, 'grad_norm': 0.8574190735816956, 'learning_rate': 3.5459183673469385e-05, 'epoch': 7.42}\n",
      "{'loss': 0.3129, 'grad_norm': 1.3508809804916382, 'learning_rate': 3.533163265306122e-05, 'epoch': 7.47}\n",
      "{'loss': 0.3231, 'grad_norm': 1.0547491312026978, 'learning_rate': 3.520408163265306e-05, 'epoch': 7.51}\n",
      "{'loss': 0.3018, 'grad_norm': 1.2297455072402954, 'learning_rate': 3.50765306122449e-05, 'epoch': 7.56}\n",
      "{'loss': 0.3029, 'grad_norm': 1.1948140859603882, 'learning_rate': 3.4948979591836736e-05, 'epoch': 7.6}\n",
      "{'loss': 0.2787, 'grad_norm': 0.8967732191085815, 'learning_rate': 3.4821428571428574e-05, 'epoch': 7.65}\n",
      "{'loss': 0.3149, 'grad_norm': 0.9185968041419983, 'learning_rate': 3.469387755102041e-05, 'epoch': 7.69}\n",
      "{'loss': 0.3107, 'grad_norm': 1.0173319578170776, 'learning_rate': 3.456632653061225e-05, 'epoch': 7.74}\n",
      "{'loss': 0.3052, 'grad_norm': 0.9913737773895264, 'learning_rate': 3.443877551020409e-05, 'epoch': 7.78}\n",
      "{'loss': 0.3167, 'grad_norm': 0.8149247169494629, 'learning_rate': 3.431122448979592e-05, 'epoch': 7.83}\n",
      "{'loss': 0.3075, 'grad_norm': 0.9074280261993408, 'learning_rate': 3.4183673469387755e-05, 'epoch': 7.87}\n",
      "{'loss': 0.3083, 'grad_norm': 1.0455708503723145, 'learning_rate': 3.405612244897959e-05, 'epoch': 7.92}\n",
      "{'loss': 0.3167, 'grad_norm': 1.2410237789154053, 'learning_rate': 3.392857142857143e-05, 'epoch': 7.96}\n"
     ]
    },
    {
     "data": {
      "application/vnd.jupyter.widget-view+json": {
       "model_id": "7436e980374447c7a70bae7693d4a218",
       "version_major": 2,
       "version_minor": 0
      },
      "text/plain": [
       "  0%|          | 0/67 [00:00<?, ?it/s]"
      ]
     },
     "metadata": {},
     "output_type": "display_data"
    },
    {
     "name": "stdout",
     "output_type": "stream",
     "text": [
      "{'eval_loss': 0.2804384231567383, 'eval_accuracy': 0.8787189359467973, 'eval_runtime': 149.4534, 'eval_samples_per_second': 114.698, 'eval_steps_per_second': 0.448, 'epoch': 8.0}\n",
      "{'loss': 0.3227, 'grad_norm': 0.9453676342964172, 'learning_rate': 3.380102040816326e-05, 'epoch': 8.01}\n",
      "{'loss': 0.299, 'grad_norm': 0.8656010031700134, 'learning_rate': 3.36734693877551e-05, 'epoch': 8.05}\n",
      "{'loss': 0.3205, 'grad_norm': 1.021600604057312, 'learning_rate': 3.354591836734694e-05, 'epoch': 8.1}\n",
      "{'loss': 0.2928, 'grad_norm': 0.9979525208473206, 'learning_rate': 3.341836734693878e-05, 'epoch': 8.14}\n",
      "{'loss': 0.3078, 'grad_norm': 1.4387305974960327, 'learning_rate': 3.329081632653062e-05, 'epoch': 8.19}\n",
      "{'loss': 0.3053, 'grad_norm': 0.9978251457214355, 'learning_rate': 3.316326530612245e-05, 'epoch': 8.24}\n",
      "{'loss': 0.2996, 'grad_norm': 1.1429896354675293, 'learning_rate': 3.303571428571429e-05, 'epoch': 8.28}\n",
      "{'loss': 0.3053, 'grad_norm': 0.9999520778656006, 'learning_rate': 3.2908163265306125e-05, 'epoch': 8.33}\n",
      "{'loss': 0.273, 'grad_norm': 1.0463182926177979, 'learning_rate': 3.278061224489796e-05, 'epoch': 8.37}\n",
      "{'loss': 0.3043, 'grad_norm': 0.8720652461051941, 'learning_rate': 3.265306122448979e-05, 'epoch': 8.42}\n",
      "{'loss': 0.3013, 'grad_norm': 0.9952022433280945, 'learning_rate': 3.252551020408163e-05, 'epoch': 8.46}\n",
      "{'loss': 0.2976, 'grad_norm': 1.151939868927002, 'learning_rate': 3.239795918367347e-05, 'epoch': 8.51}\n",
      "{'loss': 0.2984, 'grad_norm': 0.9534520506858826, 'learning_rate': 3.2270408163265306e-05, 'epoch': 8.55}\n",
      "{'loss': 0.3022, 'grad_norm': 1.0612690448760986, 'learning_rate': 3.2142857142857144e-05, 'epoch': 8.6}\n",
      "{'loss': 0.3181, 'grad_norm': 0.9591711759567261, 'learning_rate': 3.201530612244898e-05, 'epoch': 8.64}\n",
      "{'loss': 0.305, 'grad_norm': 0.9164801836013794, 'learning_rate': 3.188775510204082e-05, 'epoch': 8.69}\n",
      "{'loss': 0.3053, 'grad_norm': 0.8464444279670715, 'learning_rate': 3.176020408163266e-05, 'epoch': 8.73}\n",
      "{'loss': 0.3102, 'grad_norm': 0.9035813212394714, 'learning_rate': 3.1632653061224494e-05, 'epoch': 8.78}\n",
      "{'loss': 0.2853, 'grad_norm': 1.2226498126983643, 'learning_rate': 3.1505102040816325e-05, 'epoch': 8.82}\n",
      "{'loss': 0.3052, 'grad_norm': 1.0354199409484863, 'learning_rate': 3.137755102040816e-05, 'epoch': 8.87}\n",
      "{'loss': 0.3017, 'grad_norm': 1.033780813217163, 'learning_rate': 3.125e-05, 'epoch': 8.91}\n",
      "{'loss': 0.2944, 'grad_norm': 1.167593240737915, 'learning_rate': 3.112244897959184e-05, 'epoch': 8.96}\n"
     ]
    },
    {
     "data": {
      "application/vnd.jupyter.widget-view+json": {
       "model_id": "f7e6b7d82ee74e3e995f2854568187c0",
       "version_major": 2,
       "version_minor": 0
      },
      "text/plain": [
       "  0%|          | 0/67 [00:00<?, ?it/s]"
      ]
     },
     "metadata": {},
     "output_type": "display_data"
    },
    {
     "name": "stdout",
     "output_type": "stream",
     "text": [
      "{'eval_loss': 0.2776373624801636, 'eval_accuracy': 0.8807023684517559, 'eval_runtime': 148.9537, 'eval_samples_per_second': 115.083, 'eval_steps_per_second': 0.45, 'epoch': 9.0}\n",
      "{'loss': 0.2928, 'grad_norm': 0.868794322013855, 'learning_rate': 3.0994897959183676e-05, 'epoch': 9.0}\n",
      "{'loss': 0.3029, 'grad_norm': 0.9612505435943604, 'learning_rate': 3.086734693877551e-05, 'epoch': 9.05}\n",
      "{'loss': 0.3028, 'grad_norm': 0.7910257577896118, 'learning_rate': 3.073979591836735e-05, 'epoch': 9.1}\n",
      "{'loss': 0.3188, 'grad_norm': 0.8692062497138977, 'learning_rate': 3.061224489795919e-05, 'epoch': 9.14}\n",
      "{'loss': 0.2888, 'grad_norm': 1.0114737749099731, 'learning_rate': 3.0484693877551023e-05, 'epoch': 9.19}\n",
      "{'loss': 0.3022, 'grad_norm': 0.9708380699157715, 'learning_rate': 3.0357142857142857e-05, 'epoch': 9.23}\n",
      "{'loss': 0.292, 'grad_norm': 1.088259220123291, 'learning_rate': 3.0229591836734695e-05, 'epoch': 9.28}\n",
      "{'loss': 0.311, 'grad_norm': 0.9922879338264465, 'learning_rate': 3.0102040816326533e-05, 'epoch': 9.32}\n",
      "{'loss': 0.314, 'grad_norm': 0.7824979424476624, 'learning_rate': 2.997448979591837e-05, 'epoch': 9.37}\n",
      "{'loss': 0.2888, 'grad_norm': 1.0302395820617676, 'learning_rate': 2.9846938775510208e-05, 'epoch': 9.41}\n",
      "{'loss': 0.2991, 'grad_norm': 0.9200924634933472, 'learning_rate': 2.9719387755102042e-05, 'epoch': 9.46}\n",
      "{'loss': 0.2969, 'grad_norm': 1.4115231037139893, 'learning_rate': 2.959183673469388e-05, 'epoch': 9.5}\n",
      "{'loss': 0.2897, 'grad_norm': 0.9143623113632202, 'learning_rate': 2.9464285714285718e-05, 'epoch': 9.55}\n",
      "{'loss': 0.2863, 'grad_norm': 1.0117007493972778, 'learning_rate': 2.9336734693877555e-05, 'epoch': 9.59}\n",
      "{'loss': 0.2962, 'grad_norm': 0.6921010613441467, 'learning_rate': 2.9209183673469386e-05, 'epoch': 9.64}\n",
      "{'loss': 0.2957, 'grad_norm': 1.6030004024505615, 'learning_rate': 2.9081632653061224e-05, 'epoch': 9.68}\n",
      "{'loss': 0.2801, 'grad_norm': 1.371972680091858, 'learning_rate': 2.895408163265306e-05, 'epoch': 9.73}\n",
      "{'loss': 0.2671, 'grad_norm': 0.8498256206512451, 'learning_rate': 2.8826530612244902e-05, 'epoch': 9.77}\n",
      "{'loss': 0.2868, 'grad_norm': 1.0013765096664429, 'learning_rate': 2.869897959183674e-05, 'epoch': 9.82}\n",
      "{'loss': 0.2823, 'grad_norm': 1.978513479232788, 'learning_rate': 2.857142857142857e-05, 'epoch': 9.86}\n",
      "{'loss': 0.2828, 'grad_norm': 1.0025219917297363, 'learning_rate': 2.844387755102041e-05, 'epoch': 9.91}\n",
      "{'loss': 0.2754, 'grad_norm': 0.8110020160675049, 'learning_rate': 2.8316326530612246e-05, 'epoch': 9.95}\n",
      "{'loss': 0.2898, 'grad_norm': 1.7152526378631592, 'learning_rate': 2.8188775510204084e-05, 'epoch': 10.0}\n"
     ]
    },
    {
     "data": {
      "application/vnd.jupyter.widget-view+json": {
       "model_id": "1a39981f97cb44c7a300bf42541417b1",
       "version_major": 2,
       "version_minor": 0
      },
      "text/plain": [
       "  0%|          | 0/67 [00:00<?, ?it/s]"
      ]
     },
     "metadata": {},
     "output_type": "display_data"
    },
    {
     "name": "stdout",
     "output_type": "stream",
     "text": [
      "{'eval_loss': 0.26560232043266296, 'eval_accuracy': 0.88723602846809, 'eval_runtime': 151.1049, 'eval_samples_per_second': 113.444, 'eval_steps_per_second': 0.443, 'epoch': 10.0}\n",
      "{'loss': 0.2905, 'grad_norm': 1.1739002466201782, 'learning_rate': 2.8061224489795918e-05, 'epoch': 10.05}\n",
      "{'loss': 0.2983, 'grad_norm': 1.164442539215088, 'learning_rate': 2.7933673469387756e-05, 'epoch': 10.09}\n",
      "{'loss': 0.2918, 'grad_norm': 1.5632154941558838, 'learning_rate': 2.7806122448979593e-05, 'epoch': 10.14}\n",
      "{'loss': 0.2922, 'grad_norm': 1.3233723640441895, 'learning_rate': 2.767857142857143e-05, 'epoch': 10.18}\n",
      "{'loss': 0.2973, 'grad_norm': 1.1120280027389526, 'learning_rate': 2.7551020408163265e-05, 'epoch': 10.23}\n",
      "{'loss': 0.2693, 'grad_norm': 1.7096308469772339, 'learning_rate': 2.7423469387755103e-05, 'epoch': 10.27}\n",
      "{'loss': 0.2916, 'grad_norm': 0.7552413940429688, 'learning_rate': 2.729591836734694e-05, 'epoch': 10.32}\n",
      "{'loss': 0.2915, 'grad_norm': 0.8566994667053223, 'learning_rate': 2.7168367346938778e-05, 'epoch': 10.36}\n",
      "{'loss': 0.2621, 'grad_norm': 0.9659394025802612, 'learning_rate': 2.7040816326530616e-05, 'epoch': 10.41}\n",
      "{'loss': 0.2823, 'grad_norm': 0.8465927839279175, 'learning_rate': 2.6913265306122447e-05, 'epoch': 10.45}\n",
      "{'loss': 0.2994, 'grad_norm': 0.9673462510108948, 'learning_rate': 2.6785714285714288e-05, 'epoch': 10.5}\n",
      "{'loss': 0.2974, 'grad_norm': 0.8308637142181396, 'learning_rate': 2.6658163265306125e-05, 'epoch': 10.54}\n",
      "{'loss': 0.281, 'grad_norm': 0.9187742471694946, 'learning_rate': 2.6530612244897963e-05, 'epoch': 10.59}\n",
      "{'loss': 0.2944, 'grad_norm': 1.0268909931182861, 'learning_rate': 2.6403061224489794e-05, 'epoch': 10.63}\n",
      "{'loss': 0.2791, 'grad_norm': 1.1318517923355103, 'learning_rate': 2.627551020408163e-05, 'epoch': 10.68}\n",
      "{'loss': 0.3023, 'grad_norm': 1.010040044784546, 'learning_rate': 2.614795918367347e-05, 'epoch': 10.72}\n",
      "{'loss': 0.3016, 'grad_norm': 0.9320743680000305, 'learning_rate': 2.6020408163265307e-05, 'epoch': 10.77}\n",
      "{'loss': 0.3086, 'grad_norm': 0.966247022151947, 'learning_rate': 2.5892857142857148e-05, 'epoch': 10.81}\n",
      "{'loss': 0.2903, 'grad_norm': 0.8755863904953003, 'learning_rate': 2.576530612244898e-05, 'epoch': 10.86}\n",
      "{'loss': 0.2916, 'grad_norm': 0.8176862597465515, 'learning_rate': 2.5637755102040816e-05, 'epoch': 10.9}\n",
      "{'loss': 0.283, 'grad_norm': 0.7590714693069458, 'learning_rate': 2.5510204081632654e-05, 'epoch': 10.95}\n",
      "{'loss': 0.2842, 'grad_norm': 1.1587355136871338, 'learning_rate': 2.538265306122449e-05, 'epoch': 11.0}\n"
     ]
    },
    {
     "data": {
      "application/vnd.jupyter.widget-view+json": {
       "model_id": "b38ddaf0af5b495996ce4d864b1b3c1c",
       "version_major": 2,
       "version_minor": 0
      },
      "text/plain": [
       "  0%|          | 0/67 [00:00<?, ?it/s]"
      ]
     },
     "metadata": {},
     "output_type": "display_data"
    },
    {
     "name": "stdout",
     "output_type": "stream",
     "text": [
      "{'eval_loss': 0.26583555340766907, 'eval_accuracy': 0.8857192859642982, 'eval_runtime': 149.5195, 'eval_samples_per_second': 114.647, 'eval_steps_per_second': 0.448, 'epoch': 11.0}\n",
      "{'loss': 0.2975, 'grad_norm': 0.9776728749275208, 'learning_rate': 2.5255102040816326e-05, 'epoch': 11.04}\n",
      "{'loss': 0.2945, 'grad_norm': 0.8840038776397705, 'learning_rate': 2.5127551020408164e-05, 'epoch': 11.09}\n",
      "{'loss': 0.2903, 'grad_norm': 1.086629867553711, 'learning_rate': 2.5e-05, 'epoch': 11.13}\n",
      "{'loss': 0.2913, 'grad_norm': 0.8852521181106567, 'learning_rate': 2.487244897959184e-05, 'epoch': 11.18}\n",
      "{'loss': 0.2802, 'grad_norm': 0.9304704070091248, 'learning_rate': 2.4744897959183673e-05, 'epoch': 11.22}\n",
      "{'loss': 0.2924, 'grad_norm': 0.9730851650238037, 'learning_rate': 2.461734693877551e-05, 'epoch': 11.27}\n",
      "{'loss': 0.2792, 'grad_norm': 0.8322763442993164, 'learning_rate': 2.448979591836735e-05, 'epoch': 11.31}\n",
      "{'loss': 0.2852, 'grad_norm': 1.1767518520355225, 'learning_rate': 2.4362244897959186e-05, 'epoch': 11.36}\n",
      "{'loss': 0.2803, 'grad_norm': 0.8840877413749695, 'learning_rate': 2.423469387755102e-05, 'epoch': 11.4}\n",
      "{'loss': 0.2753, 'grad_norm': 0.8365047574043274, 'learning_rate': 2.4107142857142858e-05, 'epoch': 11.45}\n",
      "{'loss': 0.3015, 'grad_norm': 0.7091131806373596, 'learning_rate': 2.3979591836734696e-05, 'epoch': 11.49}\n",
      "{'loss': 0.3061, 'grad_norm': 1.3519246578216553, 'learning_rate': 2.3852040816326533e-05, 'epoch': 11.54}\n",
      "{'loss': 0.2797, 'grad_norm': 0.8974100351333618, 'learning_rate': 2.372448979591837e-05, 'epoch': 11.58}\n",
      "{'loss': 0.2811, 'grad_norm': 1.275997281074524, 'learning_rate': 2.3596938775510205e-05, 'epoch': 11.63}\n",
      "{'loss': 0.2974, 'grad_norm': 0.9498515725135803, 'learning_rate': 2.3469387755102043e-05, 'epoch': 11.67}\n",
      "{'loss': 0.2841, 'grad_norm': 1.5954883098602295, 'learning_rate': 2.3341836734693877e-05, 'epoch': 11.72}\n",
      "{'loss': 0.2941, 'grad_norm': 0.8849930167198181, 'learning_rate': 2.3214285714285715e-05, 'epoch': 11.76}\n",
      "{'loss': 0.287, 'grad_norm': 0.939504086971283, 'learning_rate': 2.3086734693877552e-05, 'epoch': 11.81}\n",
      "{'loss': 0.2951, 'grad_norm': 0.9137129187583923, 'learning_rate': 2.295918367346939e-05, 'epoch': 11.86}\n",
      "{'loss': 0.2934, 'grad_norm': 1.165429949760437, 'learning_rate': 2.2831632653061224e-05, 'epoch': 11.9}\n",
      "{'loss': 0.3037, 'grad_norm': 0.9100401401519775, 'learning_rate': 2.2704081632653062e-05, 'epoch': 11.95}\n",
      "{'loss': 0.2762, 'grad_norm': 0.7218354940414429, 'learning_rate': 2.2576530612244896e-05, 'epoch': 11.99}\n"
     ]
    },
    {
     "data": {
      "application/vnd.jupyter.widget-view+json": {
       "model_id": "1da91e9add4d40008693ba8497a25c15",
       "version_major": 2,
       "version_minor": 0
      },
      "text/plain": [
       "  0%|          | 0/67 [00:00<?, ?it/s]"
      ]
     },
     "metadata": {},
     "output_type": "display_data"
    },
    {
     "name": "stdout",
     "output_type": "stream",
     "text": [
      "{'eval_loss': 0.26594629883766174, 'eval_accuracy': 0.8867110022167775, 'eval_runtime': 149.4395, 'eval_samples_per_second': 114.709, 'eval_steps_per_second': 0.448, 'epoch': 12.0}\n",
      "{'loss': 0.2954, 'grad_norm': 1.0461323261260986, 'learning_rate': 2.2448979591836737e-05, 'epoch': 12.04}\n",
      "{'loss': 0.3002, 'grad_norm': 0.8327432870864868, 'learning_rate': 2.2321428571428575e-05, 'epoch': 12.08}\n",
      "{'loss': 0.2972, 'grad_norm': 1.2142733335494995, 'learning_rate': 2.219387755102041e-05, 'epoch': 12.13}\n",
      "{'loss': 0.2985, 'grad_norm': 0.9825642704963684, 'learning_rate': 2.2066326530612247e-05, 'epoch': 12.17}\n",
      "{'loss': 0.2731, 'grad_norm': 0.7729843258857727, 'learning_rate': 2.193877551020408e-05, 'epoch': 12.22}\n",
      "{'loss': 0.2867, 'grad_norm': 1.0139495134353638, 'learning_rate': 2.181122448979592e-05, 'epoch': 12.26}\n",
      "{'loss': 0.2953, 'grad_norm': 1.1485016345977783, 'learning_rate': 2.1683673469387756e-05, 'epoch': 12.31}\n",
      "{'loss': 0.2911, 'grad_norm': 0.9452078342437744, 'learning_rate': 2.1556122448979594e-05, 'epoch': 12.35}\n",
      "{'loss': 0.2868, 'grad_norm': 0.9919397830963135, 'learning_rate': 2.1428571428571428e-05, 'epoch': 12.4}\n",
      "{'loss': 0.2922, 'grad_norm': 0.9748334288597107, 'learning_rate': 2.1301020408163266e-05, 'epoch': 12.44}\n",
      "{'loss': 0.2834, 'grad_norm': 1.0687575340270996, 'learning_rate': 2.1173469387755103e-05, 'epoch': 12.49}\n",
      "{'loss': 0.2997, 'grad_norm': 0.7393965721130371, 'learning_rate': 2.104591836734694e-05, 'epoch': 12.53}\n",
      "{'loss': 0.2721, 'grad_norm': 0.8136206269264221, 'learning_rate': 2.091836734693878e-05, 'epoch': 12.58}\n",
      "{'loss': 0.2805, 'grad_norm': 0.9485102891921997, 'learning_rate': 2.0790816326530613e-05, 'epoch': 12.62}\n",
      "{'loss': 0.275, 'grad_norm': 0.9996694326400757, 'learning_rate': 2.066326530612245e-05, 'epoch': 12.67}\n",
      "{'loss': 0.2917, 'grad_norm': 1.1890273094177246, 'learning_rate': 2.0535714285714285e-05, 'epoch': 12.71}\n",
      "{'loss': 0.2929, 'grad_norm': 1.337056040763855, 'learning_rate': 2.0408163265306123e-05, 'epoch': 12.76}\n",
      "{'loss': 0.2759, 'grad_norm': 0.7866762280464172, 'learning_rate': 2.028061224489796e-05, 'epoch': 12.81}\n",
      "{'loss': 0.2919, 'grad_norm': 0.9391468167304993, 'learning_rate': 2.0153061224489798e-05, 'epoch': 12.85}\n",
      "{'loss': 0.3008, 'grad_norm': 1.0005217790603638, 'learning_rate': 2.0025510204081632e-05, 'epoch': 12.9}\n",
      "{'loss': 0.2808, 'grad_norm': 0.8855952024459839, 'learning_rate': 1.989795918367347e-05, 'epoch': 12.94}\n",
      "{'loss': 0.2935, 'grad_norm': 0.8925819396972656, 'learning_rate': 1.9770408163265307e-05, 'epoch': 12.99}\n"
     ]
    },
    {
     "data": {
      "application/vnd.jupyter.widget-view+json": {
       "model_id": "1821e1935e1142448eb9859fa49a94c8",
       "version_major": 2,
       "version_minor": 0
      },
      "text/plain": [
       "  0%|          | 0/67 [00:00<?, ?it/s]"
      ]
     },
     "metadata": {},
     "output_type": "display_data"
    },
    {
     "name": "stdout",
     "output_type": "stream",
     "text": [
      "{'eval_loss': 0.26677829027175903, 'eval_accuracy': 0.8859526309648815, 'eval_runtime': 149.3501, 'eval_samples_per_second': 114.777, 'eval_steps_per_second': 0.449, 'epoch': 13.0}\n",
      "{'loss': 0.2778, 'grad_norm': 1.0942413806915283, 'learning_rate': 1.9642857142857145e-05, 'epoch': 13.03}\n",
      "{'loss': 0.2804, 'grad_norm': 0.8793929815292358, 'learning_rate': 1.9515306122448983e-05, 'epoch': 13.08}\n",
      "{'loss': 0.276, 'grad_norm': 0.9027805924415588, 'learning_rate': 1.9387755102040817e-05, 'epoch': 13.12}\n",
      "{'loss': 0.2975, 'grad_norm': 0.9403008222579956, 'learning_rate': 1.9260204081632655e-05, 'epoch': 13.17}\n",
      "{'loss': 0.28, 'grad_norm': 1.0986301898956299, 'learning_rate': 1.913265306122449e-05, 'epoch': 13.21}\n",
      "{'loss': 0.2802, 'grad_norm': 0.911440372467041, 'learning_rate': 1.9005102040816326e-05, 'epoch': 13.26}\n",
      "{'loss': 0.2958, 'grad_norm': 0.9988669157028198, 'learning_rate': 1.8877551020408164e-05, 'epoch': 13.3}\n",
      "{'loss': 0.2827, 'grad_norm': 1.0921072959899902, 'learning_rate': 1.8750000000000002e-05, 'epoch': 13.35}\n",
      "{'loss': 0.2626, 'grad_norm': 1.1964141130447388, 'learning_rate': 1.862244897959184e-05, 'epoch': 13.39}\n",
      "{'loss': 0.3127, 'grad_norm': 0.9774158596992493, 'learning_rate': 1.8494897959183674e-05, 'epoch': 13.44}\n",
      "{'loss': 0.2997, 'grad_norm': 0.8790060877799988, 'learning_rate': 1.836734693877551e-05, 'epoch': 13.48}\n",
      "{'loss': 0.2935, 'grad_norm': 0.9307206869125366, 'learning_rate': 1.823979591836735e-05, 'epoch': 13.53}\n",
      "{'loss': 0.2822, 'grad_norm': 0.978641152381897, 'learning_rate': 1.8112244897959187e-05, 'epoch': 13.57}\n",
      "{'loss': 0.2711, 'grad_norm': 0.923492431640625, 'learning_rate': 1.798469387755102e-05, 'epoch': 13.62}\n",
      "{'loss': 0.2886, 'grad_norm': 0.8937357068061829, 'learning_rate': 1.785714285714286e-05, 'epoch': 13.67}\n",
      "{'loss': 0.2977, 'grad_norm': 1.043769359588623, 'learning_rate': 1.7729591836734693e-05, 'epoch': 13.71}\n",
      "{'loss': 0.2824, 'grad_norm': 0.785204291343689, 'learning_rate': 1.760204081632653e-05, 'epoch': 13.76}\n",
      "{'loss': 0.2779, 'grad_norm': 0.8524143695831299, 'learning_rate': 1.7474489795918368e-05, 'epoch': 13.8}\n",
      "{'loss': 0.2946, 'grad_norm': 0.8268048763275146, 'learning_rate': 1.7346938775510206e-05, 'epoch': 13.85}\n",
      "{'loss': 0.27, 'grad_norm': 0.9883909821510315, 'learning_rate': 1.7219387755102043e-05, 'epoch': 13.89}\n",
      "{'loss': 0.2627, 'grad_norm': 0.8752800822257996, 'learning_rate': 1.7091836734693878e-05, 'epoch': 13.94}\n",
      "{'loss': 0.2814, 'grad_norm': 0.9726148843765259, 'learning_rate': 1.6964285714285715e-05, 'epoch': 13.98}\n"
     ]
    },
    {
     "data": {
      "application/vnd.jupyter.widget-view+json": {
       "model_id": "9e0206935cc449bf956fe2f7836a725a",
       "version_major": 2,
       "version_minor": 0
      },
      "text/plain": [
       "  0%|          | 0/67 [00:00<?, ?it/s]"
      ]
     },
     "metadata": {},
     "output_type": "display_data"
    },
    {
     "name": "stdout",
     "output_type": "stream",
     "text": [
      "{'eval_loss': 0.260738730430603, 'eval_accuracy': 0.8914362384785905, 'eval_runtime': 149.5723, 'eval_samples_per_second': 114.607, 'eval_steps_per_second': 0.448, 'epoch': 14.0}\n",
      "{'loss': 0.283, 'grad_norm': 1.175284504890442, 'learning_rate': 1.683673469387755e-05, 'epoch': 14.03}\n",
      "{'loss': 0.2906, 'grad_norm': 0.8211909532546997, 'learning_rate': 1.670918367346939e-05, 'epoch': 14.07}\n",
      "{'loss': 0.2632, 'grad_norm': 0.7064717411994934, 'learning_rate': 1.6581632653061225e-05, 'epoch': 14.12}\n",
      "{'loss': 0.2721, 'grad_norm': 1.3405791521072388, 'learning_rate': 1.6454081632653062e-05, 'epoch': 14.16}\n",
      "{'loss': 0.2769, 'grad_norm': 0.9880358576774597, 'learning_rate': 1.6326530612244897e-05, 'epoch': 14.21}\n",
      "{'loss': 0.2964, 'grad_norm': 1.0329054594039917, 'learning_rate': 1.6198979591836734e-05, 'epoch': 14.25}\n",
      "{'loss': 0.2931, 'grad_norm': 1.0176931619644165, 'learning_rate': 1.6071428571428572e-05, 'epoch': 14.3}\n",
      "{'loss': 0.2901, 'grad_norm': 1.2898308038711548, 'learning_rate': 1.594387755102041e-05, 'epoch': 14.34}\n",
      "{'loss': 0.2645, 'grad_norm': 0.9109686613082886, 'learning_rate': 1.5816326530612247e-05, 'epoch': 14.39}\n",
      "{'loss': 0.2773, 'grad_norm': 0.8116068840026855, 'learning_rate': 1.568877551020408e-05, 'epoch': 14.43}\n",
      "{'loss': 0.2884, 'grad_norm': 1.0410375595092773, 'learning_rate': 1.556122448979592e-05, 'epoch': 14.48}\n",
      "{'loss': 0.293, 'grad_norm': 1.1238635778427124, 'learning_rate': 1.5433673469387753e-05, 'epoch': 14.52}\n",
      "{'loss': 0.2907, 'grad_norm': 0.9843340516090393, 'learning_rate': 1.5306122448979594e-05, 'epoch': 14.57}\n",
      "{'loss': 0.2741, 'grad_norm': 1.3133561611175537, 'learning_rate': 1.5178571428571429e-05, 'epoch': 14.62}\n",
      "{'loss': 0.2818, 'grad_norm': 1.1212319135665894, 'learning_rate': 1.5051020408163266e-05, 'epoch': 14.66}\n",
      "{'loss': 0.272, 'grad_norm': 1.3292529582977295, 'learning_rate': 1.4923469387755104e-05, 'epoch': 14.71}\n",
      "{'loss': 0.2845, 'grad_norm': 1.0611343383789062, 'learning_rate': 1.479591836734694e-05, 'epoch': 14.75}\n",
      "{'loss': 0.2798, 'grad_norm': 0.8945274353027344, 'learning_rate': 1.4668367346938778e-05, 'epoch': 14.8}\n",
      "{'loss': 0.289, 'grad_norm': 1.4244630336761475, 'learning_rate': 1.4540816326530612e-05, 'epoch': 14.84}\n",
      "{'loss': 0.3015, 'grad_norm': 1.0755164623260498, 'learning_rate': 1.4413265306122451e-05, 'epoch': 14.89}\n",
      "{'loss': 0.2751, 'grad_norm': 0.9650846123695374, 'learning_rate': 1.4285714285714285e-05, 'epoch': 14.93}\n",
      "{'loss': 0.2813, 'grad_norm': 0.9968954920768738, 'learning_rate': 1.4158163265306123e-05, 'epoch': 14.98}\n"
     ]
    },
    {
     "data": {
      "application/vnd.jupyter.widget-view+json": {
       "model_id": "dc944b8fdecc4bc6b457d66ee14d7b36",
       "version_major": 2,
       "version_minor": 0
      },
      "text/plain": [
       "  0%|          | 0/67 [00:00<?, ?it/s]"
      ]
     },
     "metadata": {},
     "output_type": "display_data"
    },
    {
     "name": "stdout",
     "output_type": "stream",
     "text": [
      "{'eval_loss': 0.2619209289550781, 'eval_accuracy': 0.8861859759654649, 'eval_runtime': 152.028, 'eval_samples_per_second': 112.756, 'eval_steps_per_second': 0.441, 'epoch': 15.0}\n",
      "{'loss': 0.275, 'grad_norm': 0.88801509141922, 'learning_rate': 1.4030612244897959e-05, 'epoch': 15.02}\n",
      "{'loss': 0.2891, 'grad_norm': 1.2506626844406128, 'learning_rate': 1.3903061224489797e-05, 'epoch': 15.07}\n",
      "{'loss': 0.2702, 'grad_norm': 0.9626736044883728, 'learning_rate': 1.3775510204081633e-05, 'epoch': 15.11}\n",
      "{'loss': 0.2971, 'grad_norm': 1.1206727027893066, 'learning_rate': 1.364795918367347e-05, 'epoch': 15.16}\n",
      "{'loss': 0.2914, 'grad_norm': 1.7500827312469482, 'learning_rate': 1.3520408163265308e-05, 'epoch': 15.2}\n",
      "{'loss': 0.2836, 'grad_norm': 0.9941381216049194, 'learning_rate': 1.3392857142857144e-05, 'epoch': 15.25}\n",
      "{'loss': 0.271, 'grad_norm': 1.041023850440979, 'learning_rate': 1.3265306122448982e-05, 'epoch': 15.29}\n",
      "{'loss': 0.2719, 'grad_norm': 1.3764194250106812, 'learning_rate': 1.3137755102040816e-05, 'epoch': 15.34}\n",
      "{'loss': 0.2814, 'grad_norm': 1.0579386949539185, 'learning_rate': 1.3010204081632653e-05, 'epoch': 15.38}\n",
      "{'loss': 0.2737, 'grad_norm': 1.0092469453811646, 'learning_rate': 1.288265306122449e-05, 'epoch': 15.43}\n",
      "{'loss': 0.2802, 'grad_norm': 1.2340087890625, 'learning_rate': 1.2755102040816327e-05, 'epoch': 15.48}\n",
      "{'loss': 0.3077, 'grad_norm': 0.7977970242500305, 'learning_rate': 1.2627551020408163e-05, 'epoch': 15.52}\n",
      "{'loss': 0.275, 'grad_norm': 0.8755238652229309, 'learning_rate': 1.25e-05, 'epoch': 15.57}\n",
      "{'loss': 0.2944, 'grad_norm': 1.0541094541549683, 'learning_rate': 1.2372448979591837e-05, 'epoch': 15.61}\n",
      "{'loss': 0.2848, 'grad_norm': 1.030466079711914, 'learning_rate': 1.2244897959183674e-05, 'epoch': 15.66}\n",
      "{'loss': 0.279, 'grad_norm': 0.9143477082252502, 'learning_rate': 1.211734693877551e-05, 'epoch': 15.7}\n",
      "{'loss': 0.2872, 'grad_norm': 0.8821234107017517, 'learning_rate': 1.1989795918367348e-05, 'epoch': 15.75}\n",
      "{'loss': 0.28, 'grad_norm': 0.8323538899421692, 'learning_rate': 1.1862244897959185e-05, 'epoch': 15.79}\n",
      "{'loss': 0.2689, 'grad_norm': 1.01657235622406, 'learning_rate': 1.1734693877551021e-05, 'epoch': 15.84}\n",
      "{'loss': 0.2868, 'grad_norm': 1.0605924129486084, 'learning_rate': 1.1607142857142857e-05, 'epoch': 15.88}\n",
      "{'loss': 0.2719, 'grad_norm': 1.00579833984375, 'learning_rate': 1.1479591836734695e-05, 'epoch': 15.93}\n",
      "{'loss': 0.2903, 'grad_norm': 1.2538079023361206, 'learning_rate': 1.1352040816326531e-05, 'epoch': 15.97}\n"
     ]
    },
    {
     "data": {
      "application/vnd.jupyter.widget-view+json": {
       "model_id": "2e440d0383ff465eb9b82df8a0c710b3",
       "version_major": 2,
       "version_minor": 0
      },
      "text/plain": [
       "  0%|          | 0/67 [00:00<?, ?it/s]"
      ]
     },
     "metadata": {},
     "output_type": "display_data"
    },
    {
     "name": "stdout",
     "output_type": "stream",
     "text": [
      "{'eval_loss': 0.25324130058288574, 'eval_accuracy': 0.891261229728153, 'eval_runtime': 153.3863, 'eval_samples_per_second': 111.757, 'eval_steps_per_second': 0.437, 'epoch': 16.0}\n",
      "{'loss': 0.2637, 'grad_norm': 1.03707754611969, 'learning_rate': 1.1224489795918369e-05, 'epoch': 16.02}\n",
      "{'loss': 0.2669, 'grad_norm': 0.8107073307037354, 'learning_rate': 1.1096938775510205e-05, 'epoch': 16.06}\n",
      "{'loss': 0.2743, 'grad_norm': 0.877745509147644, 'learning_rate': 1.096938775510204e-05, 'epoch': 16.11}\n",
      "{'loss': 0.2788, 'grad_norm': 1.2814749479293823, 'learning_rate': 1.0841836734693878e-05, 'epoch': 16.15}\n",
      "{'loss': 0.2842, 'grad_norm': 1.2220592498779297, 'learning_rate': 1.0714285714285714e-05, 'epoch': 16.2}\n",
      "{'loss': 0.2836, 'grad_norm': 0.9780862927436829, 'learning_rate': 1.0586734693877552e-05, 'epoch': 16.24}\n",
      "{'loss': 0.2953, 'grad_norm': 1.0277347564697266, 'learning_rate': 1.045918367346939e-05, 'epoch': 16.29}\n",
      "{'loss': 0.2921, 'grad_norm': 0.9057775735855103, 'learning_rate': 1.0331632653061225e-05, 'epoch': 16.33}\n",
      "{'loss': 0.2707, 'grad_norm': 1.3626424074172974, 'learning_rate': 1.0204081632653061e-05, 'epoch': 16.38}\n",
      "{'loss': 0.2909, 'grad_norm': 1.2448805570602417, 'learning_rate': 1.0076530612244899e-05, 'epoch': 16.43}\n",
      "{'loss': 0.281, 'grad_norm': 0.9582675695419312, 'learning_rate': 9.948979591836735e-06, 'epoch': 16.47}\n",
      "{'loss': 0.2648, 'grad_norm': 0.9269267320632935, 'learning_rate': 9.821428571428573e-06, 'epoch': 16.52}\n",
      "{'loss': 0.2749, 'grad_norm': 0.8983140587806702, 'learning_rate': 9.693877551020408e-06, 'epoch': 16.56}\n",
      "{'loss': 0.2887, 'grad_norm': 1.4620853662490845, 'learning_rate': 9.566326530612244e-06, 'epoch': 16.61}\n",
      "{'loss': 0.2723, 'grad_norm': 1.0307822227478027, 'learning_rate': 9.438775510204082e-06, 'epoch': 16.65}\n",
      "{'loss': 0.282, 'grad_norm': 0.8583768010139465, 'learning_rate': 9.31122448979592e-06, 'epoch': 16.7}\n",
      "{'loss': 0.2757, 'grad_norm': 0.8351364731788635, 'learning_rate': 9.183673469387756e-06, 'epoch': 16.74}\n",
      "{'loss': 0.2938, 'grad_norm': 1.5451912879943848, 'learning_rate': 9.056122448979593e-06, 'epoch': 16.79}\n",
      "{'loss': 0.2836, 'grad_norm': 0.8354629874229431, 'learning_rate': 8.92857142857143e-06, 'epoch': 16.83}\n",
      "{'loss': 0.262, 'grad_norm': 0.9892578721046448, 'learning_rate': 8.801020408163265e-06, 'epoch': 16.88}\n",
      "{'loss': 0.2632, 'grad_norm': 0.8368223905563354, 'learning_rate': 8.673469387755103e-06, 'epoch': 16.92}\n",
      "{'loss': 0.274, 'grad_norm': 1.109827995300293, 'learning_rate': 8.545918367346939e-06, 'epoch': 16.97}\n"
     ]
    },
    {
     "data": {
      "application/vnd.jupyter.widget-view+json": {
       "model_id": "3c43ec52514f47f19a704094cdcf7560",
       "version_major": 2,
       "version_minor": 0
      },
      "text/plain": [
       "  0%|          | 0/67 [00:00<?, ?it/s]"
      ]
     },
     "metadata": {},
     "output_type": "display_data"
    },
    {
     "name": "stdout",
     "output_type": "stream",
     "text": [
      "{'eval_loss': 0.25959229469299316, 'eval_accuracy': 0.887994399719986, 'eval_runtime': 152.8109, 'eval_samples_per_second': 112.178, 'eval_steps_per_second': 0.438, 'epoch': 17.0}\n",
      "{'loss': 0.275, 'grad_norm': 1.00331711769104, 'learning_rate': 8.418367346938775e-06, 'epoch': 17.01}\n",
      "{'loss': 0.2782, 'grad_norm': 0.9383623600006104, 'learning_rate': 8.290816326530612e-06, 'epoch': 17.06}\n",
      "{'loss': 0.275, 'grad_norm': 1.1063990592956543, 'learning_rate': 8.163265306122448e-06, 'epoch': 17.1}\n",
      "{'loss': 0.2793, 'grad_norm': 0.8430660963058472, 'learning_rate': 8.035714285714286e-06, 'epoch': 17.15}\n",
      "{'loss': 0.2764, 'grad_norm': 0.8457693457603455, 'learning_rate': 7.908163265306124e-06, 'epoch': 17.19}\n",
      "{'loss': 0.2898, 'grad_norm': 1.022377371788025, 'learning_rate': 7.78061224489796e-06, 'epoch': 17.24}\n",
      "{'loss': 0.2545, 'grad_norm': 1.096496343612671, 'learning_rate': 7.653061224489797e-06, 'epoch': 17.29}\n",
      "{'loss': 0.291, 'grad_norm': 1.1034842729568481, 'learning_rate': 7.525510204081633e-06, 'epoch': 17.33}\n",
      "{'loss': 0.2617, 'grad_norm': 1.0052300691604614, 'learning_rate': 7.39795918367347e-06, 'epoch': 17.38}\n",
      "{'loss': 0.2746, 'grad_norm': 1.0257129669189453, 'learning_rate': 7.270408163265306e-06, 'epoch': 17.42}\n",
      "{'loss': 0.283, 'grad_norm': 1.1778802871704102, 'learning_rate': 7.142857142857143e-06, 'epoch': 17.47}\n",
      "{'loss': 0.2846, 'grad_norm': 1.1356117725372314, 'learning_rate': 7.0153061224489795e-06, 'epoch': 17.51}\n",
      "{'loss': 0.2689, 'grad_norm': 1.0539109706878662, 'learning_rate': 6.887755102040816e-06, 'epoch': 17.56}\n",
      "{'loss': 0.2851, 'grad_norm': 0.8326007723808289, 'learning_rate': 6.760204081632654e-06, 'epoch': 17.6}\n",
      "{'loss': 0.2704, 'grad_norm': 1.0516644716262817, 'learning_rate': 6.632653061224491e-06, 'epoch': 17.65}\n",
      "{'loss': 0.2827, 'grad_norm': 1.0621354579925537, 'learning_rate': 6.505102040816327e-06, 'epoch': 17.69}\n",
      "{'loss': 0.2739, 'grad_norm': 0.9595687389373779, 'learning_rate': 6.3775510204081635e-06, 'epoch': 17.74}\n",
      "{'loss': 0.2736, 'grad_norm': 0.8201493620872498, 'learning_rate': 6.25e-06, 'epoch': 17.78}\n",
      "{'loss': 0.2475, 'grad_norm': 0.8700459599494934, 'learning_rate': 6.122448979591837e-06, 'epoch': 17.83}\n",
      "{'loss': 0.2816, 'grad_norm': 0.8936718106269836, 'learning_rate': 5.994897959183674e-06, 'epoch': 17.87}\n",
      "{'loss': 0.2634, 'grad_norm': 0.9693515300750732, 'learning_rate': 5.867346938775511e-06, 'epoch': 17.92}\n",
      "{'loss': 0.2891, 'grad_norm': 0.9922889471054077, 'learning_rate': 5.7397959183673475e-06, 'epoch': 17.96}\n"
     ]
    },
    {
     "data": {
      "application/vnd.jupyter.widget-view+json": {
       "model_id": "9887322a45404b69851fce73ff779993",
       "version_major": 2,
       "version_minor": 0
      },
      "text/plain": [
       "  0%|          | 0/67 [00:00<?, ?it/s]"
      ]
     },
     "metadata": {},
     "output_type": "display_data"
    },
    {
     "name": "stdout",
     "output_type": "stream",
     "text": [
      "{'eval_loss': 0.2536170184612274, 'eval_accuracy': 0.8919029284797573, 'eval_runtime': 152.5274, 'eval_samples_per_second': 112.386, 'eval_steps_per_second': 0.439, 'epoch': 18.0}\n",
      "{'loss': 0.2626, 'grad_norm': 1.0358753204345703, 'learning_rate': 5.612244897959184e-06, 'epoch': 18.01}\n",
      "{'loss': 0.2939, 'grad_norm': 0.8462299108505249, 'learning_rate': 5.48469387755102e-06, 'epoch': 18.05}\n",
      "{'loss': 0.2691, 'grad_norm': 0.8137834668159485, 'learning_rate': 5.357142857142857e-06, 'epoch': 18.1}\n",
      "{'loss': 0.269, 'grad_norm': 0.9100592136383057, 'learning_rate': 5.229591836734695e-06, 'epoch': 18.14}\n",
      "{'loss': 0.2873, 'grad_norm': 1.3644741773605347, 'learning_rate': 5.102040816326531e-06, 'epoch': 18.19}\n",
      "{'loss': 0.2681, 'grad_norm': 1.3821933269500732, 'learning_rate': 4.9744897959183674e-06, 'epoch': 18.24}\n",
      "{'loss': 0.268, 'grad_norm': 1.9112229347229004, 'learning_rate': 4.846938775510204e-06, 'epoch': 18.28}\n",
      "{'loss': 0.2714, 'grad_norm': 0.9123752117156982, 'learning_rate': 4.719387755102041e-06, 'epoch': 18.33}\n",
      "{'loss': 0.2685, 'grad_norm': 1.0360543727874756, 'learning_rate': 4.591836734693878e-06, 'epoch': 18.37}\n",
      "{'loss': 0.2768, 'grad_norm': 1.2811750173568726, 'learning_rate': 4.464285714285715e-06, 'epoch': 18.42}\n",
      "{'loss': 0.28, 'grad_norm': 1.118520975112915, 'learning_rate': 4.336734693877551e-06, 'epoch': 18.46}\n",
      "{'loss': 0.2697, 'grad_norm': 1.2561919689178467, 'learning_rate': 4.209183673469387e-06, 'epoch': 18.51}\n",
      "{'loss': 0.2858, 'grad_norm': 0.7510741353034973, 'learning_rate': 4.081632653061224e-06, 'epoch': 18.55}\n",
      "{'loss': 0.274, 'grad_norm': 0.8476998209953308, 'learning_rate': 3.954081632653062e-06, 'epoch': 18.6}\n",
      "{'loss': 0.2788, 'grad_norm': 0.9167407751083374, 'learning_rate': 3.826530612244899e-06, 'epoch': 18.64}\n",
      "{'loss': 0.2865, 'grad_norm': 0.8912261724472046, 'learning_rate': 3.698979591836735e-06, 'epoch': 18.69}\n",
      "{'loss': 0.2918, 'grad_norm': 1.168324589729309, 'learning_rate': 3.5714285714285714e-06, 'epoch': 18.73}\n",
      "{'loss': 0.2911, 'grad_norm': 0.9215812087059021, 'learning_rate': 3.443877551020408e-06, 'epoch': 18.78}\n",
      "{'loss': 0.2894, 'grad_norm': 1.0759350061416626, 'learning_rate': 3.3163265306122454e-06, 'epoch': 18.82}\n",
      "{'loss': 0.2833, 'grad_norm': 0.9707320928573608, 'learning_rate': 3.1887755102040818e-06, 'epoch': 18.87}\n",
      "{'loss': 0.2864, 'grad_norm': 0.9774774312973022, 'learning_rate': 3.0612244897959185e-06, 'epoch': 18.91}\n",
      "{'loss': 0.2881, 'grad_norm': 0.9299333095550537, 'learning_rate': 2.9336734693877553e-06, 'epoch': 18.96}\n"
     ]
    },
    {
     "data": {
      "application/vnd.jupyter.widget-view+json": {
       "model_id": "045eecd87d8541cba53c863ed4cde6f6",
       "version_major": 2,
       "version_minor": 0
      },
      "text/plain": [
       "  0%|          | 0/67 [00:00<?, ?it/s]"
      ]
     },
     "metadata": {},
     "output_type": "display_data"
    },
    {
     "name": "stdout",
     "output_type": "stream",
     "text": [
      "{'eval_loss': 0.24508707225322723, 'eval_accuracy': 0.8957531209893828, 'eval_runtime': 152.5009, 'eval_samples_per_second': 112.406, 'eval_steps_per_second': 0.439, 'epoch': 19.0}\n",
      "{'loss': 0.2616, 'grad_norm': 1.0053839683532715, 'learning_rate': 2.806122448979592e-06, 'epoch': 19.0}\n",
      "{'loss': 0.2901, 'grad_norm': 0.9918547868728638, 'learning_rate': 2.6785714285714285e-06, 'epoch': 19.05}\n",
      "{'loss': 0.2841, 'grad_norm': 0.9265093207359314, 'learning_rate': 2.5510204081632653e-06, 'epoch': 19.1}\n",
      "{'loss': 0.281, 'grad_norm': 0.8319127559661865, 'learning_rate': 2.423469387755102e-06, 'epoch': 19.14}\n",
      "{'loss': 0.2923, 'grad_norm': 1.1985414028167725, 'learning_rate': 2.295918367346939e-06, 'epoch': 19.19}\n",
      "{'loss': 0.2723, 'grad_norm': 0.8562483787536621, 'learning_rate': 2.1683673469387757e-06, 'epoch': 19.23}\n",
      "{'loss': 0.2864, 'grad_norm': 1.2020838260650635, 'learning_rate': 2.040816326530612e-06, 'epoch': 19.28}\n",
      "{'loss': 0.269, 'grad_norm': 0.8529525995254517, 'learning_rate': 1.9132653061224493e-06, 'epoch': 19.32}\n",
      "{'loss': 0.2911, 'grad_norm': 2.3149425983428955, 'learning_rate': 1.7857142857142857e-06, 'epoch': 19.37}\n",
      "{'loss': 0.2787, 'grad_norm': 0.8587977886199951, 'learning_rate': 1.6581632653061227e-06, 'epoch': 19.41}\n",
      "{'loss': 0.2623, 'grad_norm': 1.0419037342071533, 'learning_rate': 1.5306122448979593e-06, 'epoch': 19.46}\n",
      "{'loss': 0.2626, 'grad_norm': 1.077127456665039, 'learning_rate': 1.403061224489796e-06, 'epoch': 19.5}\n",
      "{'loss': 0.2851, 'grad_norm': 0.8413802981376648, 'learning_rate': 1.2755102040816327e-06, 'epoch': 19.55}\n",
      "{'loss': 0.2756, 'grad_norm': 0.9487725496292114, 'learning_rate': 1.1479591836734695e-06, 'epoch': 19.59}\n",
      "{'loss': 0.2901, 'grad_norm': 0.9969615936279297, 'learning_rate': 1.020408163265306e-06, 'epoch': 19.64}\n",
      "{'loss': 0.2673, 'grad_norm': 1.109897494316101, 'learning_rate': 8.928571428571428e-07, 'epoch': 19.68}\n",
      "{'loss': 0.2732, 'grad_norm': 1.191454529762268, 'learning_rate': 7.653061224489796e-07, 'epoch': 19.73}\n",
      "{'loss': 0.2571, 'grad_norm': 0.8020256757736206, 'learning_rate': 6.377551020408163e-07, 'epoch': 19.77}\n",
      "{'loss': 0.2737, 'grad_norm': 1.286216139793396, 'learning_rate': 5.10204081632653e-07, 'epoch': 19.82}\n",
      "{'loss': 0.2834, 'grad_norm': 0.8281087279319763, 'learning_rate': 3.826530612244898e-07, 'epoch': 19.86}\n",
      "{'loss': 0.2737, 'grad_norm': 0.9372217655181885, 'learning_rate': 2.551020408163265e-07, 'epoch': 19.91}\n",
      "{'loss': 0.2797, 'grad_norm': 0.8691462874412537, 'learning_rate': 1.2755102040816326e-07, 'epoch': 19.95}\n",
      "{'loss': 0.2886, 'grad_norm': 1.9414777755737305, 'learning_rate': 0.0, 'epoch': 20.0}\n"
     ]
    },
    {
     "data": {
      "application/vnd.jupyter.widget-view+json": {
       "model_id": "7dc7e7590b464146b158936d0385e510",
       "version_major": 2,
       "version_minor": 0
      },
      "text/plain": [
       "  0%|          | 0/67 [00:00<?, ?it/s]"
      ]
     },
     "metadata": {},
     "output_type": "display_data"
    },
    {
     "name": "stdout",
     "output_type": "stream",
     "text": [
      "{'eval_loss': 0.24707971513271332, 'eval_accuracy': 0.8940030334850075, 'eval_runtime': 152.7639, 'eval_samples_per_second': 112.212, 'eval_steps_per_second': 0.439, 'epoch': 20.0}\n",
      "{'train_runtime': 13225.0559, 'train_samples_per_second': 85.397, 'train_steps_per_second': 0.334, 'train_loss': 0.3273738372379838, 'epoch': 20.0}\n"
     ]
    }
   ],
   "source": [
    "adding_embedding_bert_only_classifier.train_model_on_data(dataset_adding_embedding, epochs = EPOCHS)"
   ]
  },
  {
   "cell_type": "code",
   "execution_count": null,
   "metadata": {},
   "outputs": [],
   "source": []
  }
 ],
 "metadata": {
  "kernelspec": {
   "display_name": "grundprojekt",
   "language": "python",
   "name": "python3"
  },
  "language_info": {
   "codemirror_mode": {
    "name": "ipython",
    "version": 3
   },
   "file_extension": ".py",
   "mimetype": "text/x-python",
   "name": "python",
   "nbconvert_exporter": "python",
   "pygments_lexer": "ipython3",
   "version": "3.12.4"
  }
 },
 "nbformat": 4,
 "nbformat_minor": 2
}
