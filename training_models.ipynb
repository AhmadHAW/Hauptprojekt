{
 "cells": [
  {
   "cell_type": "markdown",
   "metadata": {},
   "source": [
    "# Training and Evaluation of GNNs and LLMs\n",
    "In this notebook, we train the models on the [MovieLens Dataset](https://movielens.org/) after the Pytorch Geometrics Tutorial on [Link Prediction](https://colab.research.google.com/drive/1xpzn1Nvai1ygd_P5Yambc_oe4VBPK_ZT?usp=sharing#scrollTo=vit8xKCiXAue).\n",
    "\n",
    "First we import all of our dependencies.\n",
    "\n",
    "The **GNNTrainer** manages and trains a GNN model. Its most important interfaces include\n",
    "**the constructor**, which defines the GNN architecture and loads the pre-trained GNN model if it is already on the hard disk,\n",
    "**the training method**, which initializes the training on the GNN model and\n",
    "**the get_embedding methods**, which represent the inference interface to the GNN model and return the corresponding embeddings in the dimension defined in the constructor for given user movie node pairs.\n",
    "\n",
    "**The MovieLensLoader** loads and manages the data sets. The most important tasks include **saving and (re)loading and transforming** the data sets.\n",
    "\n",
    "**PromptEncoderOnlyClassifier** and **VanillaEncoderOnlyClassifier** each manage a **prompt (model) LLM** and a **vanilla (model) LLM**. An EncoderOnlyClassifier (ClassifierBase) provides interfaces for training and testing an LLM model.\n",
    "PromptEncoder and VanillaEncoder differ from their DataCollectors. DataCollectors change the behavior of the models during training and testing and allow data points to be created at runtime. With the help of these collators, we **create non-existent edges on the fly**."
   ]
  },
  {
   "cell_type": "code",
   "execution_count": 1,
   "metadata": {},
   "outputs": [],
   "source": [
    "from gnn import GNNTrainer\n",
    "from movie_lens_loader import MovieLensLoader\n",
    "from llm import PromptBertClassifier, VanillaBertClassifier, AddingEmbeddingsBertClassifierBase\n",
    "\n",
    "from transformers import AutoConfig"
   ]
  },
  {
   "cell_type": "markdown",
   "metadata": {},
   "source": [
    "We define in advance which **Knowledge Graph Embedding Dimension (KGE_DIMENSION)** the GNN encoder has. We want to determine from which output dimension the GNN encoder can produce embeddings that lead to a significant increase in performance *without exceeding the context length of the LLMs*. In the original tutorial, the KGE_DIMENSION was $64$."
   ]
  },
  {
   "cell_type": "code",
   "execution_count": 2,
   "metadata": {},
   "outputs": [],
   "source": [
    "MODEL_NAME = \"google/bert_uncased_L-2_H-128_A-2\"\n",
    "MODEL_HIDDEN_SIZE = AutoConfig.from_pretrained(MODEL_NAME).hidden_size\n",
    "SMALL_KGE_DIMENSION = 4\n",
    "LARGE_KGE_DIMENSION = MODEL_HIDDEN_SIZE\n",
    "KGE_DIMENSIONS = [SMALL_KGE_DIMENSION, LARGE_KGE_DIMENSION] # Output Dimension of the GNN Encoder.\n",
    "EPOCHS = 20\n",
    "BATCH_SIZE = 64"
   ]
  },
  {
   "cell_type": "markdown",
   "metadata": {},
   "source": [
    "First we load the MovieLensLoader, which downloads the Movie Lens dataset (https://files.grouplens.org/datasets/movielens/ml-latest-small.zip) and prepares it to be used on GNN and LLM. We also pass the embedding dimensions that we will assume we are training with. First time takes approx. 30 sec."
   ]
  },
  {
   "cell_type": "code",
   "execution_count": 3,
   "metadata": {},
   "outputs": [],
   "source": [
    "\n",
    "movie_lens_loader = MovieLensLoader(kge_dimensions = KGE_DIMENSIONS)"
   ]
  },
  {
   "cell_type": "code",
   "execution_count": 4,
   "metadata": {},
   "outputs": [
    {
     "data": {
      "text/html": [
       "<div>\n",
       "<style scoped>\n",
       "    .dataframe tbody tr th:only-of-type {\n",
       "        vertical-align: middle;\n",
       "    }\n",
       "\n",
       "    .dataframe tbody tr th {\n",
       "        vertical-align: top;\n",
       "    }\n",
       "\n",
       "    .dataframe thead th {\n",
       "        text-align: right;\n",
       "    }\n",
       "</style>\n",
       "<table border=\"1\" class=\"dataframe\">\n",
       "  <thead>\n",
       "    <tr style=\"text-align: right;\">\n",
       "      <th></th>\n",
       "      <th>mappedUserId</th>\n",
       "      <th>mappedMovieId</th>\n",
       "      <th>title</th>\n",
       "      <th>genres</th>\n",
       "      <th>prompt</th>\n",
       "      <th>split</th>\n",
       "    </tr>\n",
       "  </thead>\n",
       "  <tbody>\n",
       "    <tr>\n",
       "      <th>0</th>\n",
       "      <td>0</td>\n",
       "      <td>0</td>\n",
       "      <td>Toy Story (1995)</td>\n",
       "      <td>['Adventure', 'Animation', 'Children', 'Comedy...</td>\n",
       "      <td>user: 0[SEP]title: Toy Story (1995)[SEP]genres...</td>\n",
       "      <td>val</td>\n",
       "    </tr>\n",
       "    <tr>\n",
       "      <th>1</th>\n",
       "      <td>0</td>\n",
       "      <td>2</td>\n",
       "      <td>Grumpier Old Men (1995)</td>\n",
       "      <td>['Comedy', 'Romance']</td>\n",
       "      <td>user: 0[SEP]title: Grumpier Old Men (1995)[SEP...</td>\n",
       "      <td>test</td>\n",
       "    </tr>\n",
       "    <tr>\n",
       "      <th>2</th>\n",
       "      <td>0</td>\n",
       "      <td>5</td>\n",
       "      <td>Heat (1995)</td>\n",
       "      <td>['Action', 'Crime', 'Thriller']</td>\n",
       "      <td>user: 0[SEP]title: Heat (1995)[SEP]genres: ['A...</td>\n",
       "      <td>val</td>\n",
       "    </tr>\n",
       "    <tr>\n",
       "      <th>3</th>\n",
       "      <td>0</td>\n",
       "      <td>43</td>\n",
       "      <td>Seven (a.k.a. Se7en) (1995)</td>\n",
       "      <td>['Mystery', 'Thriller']</td>\n",
       "      <td>user: 0[SEP]title: Seven (a.k.a. Se7en) (1995)...</td>\n",
       "      <td>test</td>\n",
       "    </tr>\n",
       "    <tr>\n",
       "      <th>4</th>\n",
       "      <td>0</td>\n",
       "      <td>46</td>\n",
       "      <td>Usual Suspects, The (1995)</td>\n",
       "      <td>['Crime', 'Mystery', 'Thriller']</td>\n",
       "      <td>user: 0[SEP]title: Usual Suspects, The (1995)[...</td>\n",
       "      <td>train</td>\n",
       "    </tr>\n",
       "  </tbody>\n",
       "</table>\n",
       "</div>"
      ],
      "text/plain": [
       "   mappedUserId  mappedMovieId                        title  \\\n",
       "0             0              0             Toy Story (1995)   \n",
       "1             0              2      Grumpier Old Men (1995)   \n",
       "2             0              5                  Heat (1995)   \n",
       "3             0             43  Seven (a.k.a. Se7en) (1995)   \n",
       "4             0             46   Usual Suspects, The (1995)   \n",
       "\n",
       "                                              genres  \\\n",
       "0  ['Adventure', 'Animation', 'Children', 'Comedy...   \n",
       "1                              ['Comedy', 'Romance']   \n",
       "2                    ['Action', 'Crime', 'Thriller']   \n",
       "3                            ['Mystery', 'Thriller']   \n",
       "4                   ['Crime', 'Mystery', 'Thriller']   \n",
       "\n",
       "                                              prompt  split  \n",
       "0  user: 0[SEP]title: Toy Story (1995)[SEP]genres...    val  \n",
       "1  user: 0[SEP]title: Grumpier Old Men (1995)[SEP...   test  \n",
       "2  user: 0[SEP]title: Heat (1995)[SEP]genres: ['A...    val  \n",
       "3  user: 0[SEP]title: Seven (a.k.a. Se7en) (1995)...   test  \n",
       "4  user: 0[SEP]title: Usual Suspects, The (1995)[...  train  "
      ]
     },
     "execution_count": 4,
     "metadata": {},
     "output_type": "execute_result"
    }
   ],
   "source": [
    "movie_lens_loader.llm_df.head()"
   ]
  },
  {
   "cell_type": "markdown",
   "metadata": {},
   "source": [
    "Next, we initialize the GNN trainers (possible on Cuda), one for each KGE_DIMENSION.\n",
    "A GNN trainer manages a model and each model consists of an **encoder and classifier** part.\n",
    "\n",
    "**The encoder** is a parameterized *Grap Convolutional Network (GCN)* with a *2-layer GNN computation graph* and a single *ReLU* activation function in between.\n",
    "\n",
    "**The classifier** applies the dot-product between source and destination kges to derive edge-level predictions."
   ]
  },
  {
   "cell_type": "code",
   "execution_count": 5,
   "metadata": {},
   "outputs": [
    {
     "name": "stdout",
     "output_type": "stream",
     "text": [
      "loading pretrained model\n",
      "Device: 'cpu'\n",
      "loading pretrained model\n",
      "Device: 'cpu'\n"
     ]
    }
   ],
   "source": [
    "gnn_trainer =    GNNTrainer(movie_lens_loader.data, kge_dimension = SMALL_KGE_DIMENSION)\n",
    "gnn_trainer_large = GNNTrainer(movie_lens_loader.data, hidden_channels=MODEL_HIDDEN_SIZE, kge_dimension=MODEL_HIDDEN_SIZE)"
   ]
  },
  {
   "cell_type": "markdown",
   "metadata": {},
   "source": [
    "We then train and validate the model on the link prediction task.\n",
    "\n",
    "If the model is already trained, we can skip this part.\n",
    "Training the models can take up to 5 minutes."
   ]
  },
  {
   "cell_type": "code",
   "execution_count": 6,
   "metadata": {},
   "outputs": [
    {
     "name": "stdout",
     "output_type": "stream",
     "text": [
      "4\n",
      "128\n"
     ]
    }
   ],
   "source": [
    "\n",
    "print(gnn_trainer.kge_dimension)\n",
    "#gnn_trainer.train_model(movie_lens_loader.gnn_train_data, EPOCHS)\n",
    "#gnn_trainer.validate_model(movie_lens_loader.gnn_test_data)\n",
    "print(gnn_trainer_large.kge_dimension)\n",
    "#gnn_trainer_large.train_model(movie_lens_loader.gnn_train_data, EPOCHS)\n",
    "#gnn_trainer_large.validate_model(movie_lens_loader.gnn_test_data)\n"
   ]
  },
  {
   "cell_type": "markdown",
   "metadata": {},
   "source": [
    "Next we produce the KGEs for every edge in the dataset. These embeddings can then be used for the LLM on the link-prediction task."
   ]
  },
  {
   "cell_type": "code",
   "execution_count": 7,
   "metadata": {},
   "outputs": [
    {
     "data": {
      "text/html": [
       "<div>\n",
       "<style scoped>\n",
       "    .dataframe tbody tr th:only-of-type {\n",
       "        vertical-align: middle;\n",
       "    }\n",
       "\n",
       "    .dataframe tbody tr th {\n",
       "        vertical-align: top;\n",
       "    }\n",
       "\n",
       "    .dataframe thead th {\n",
       "        text-align: right;\n",
       "    }\n",
       "</style>\n",
       "<table border=\"1\" class=\"dataframe\">\n",
       "  <thead>\n",
       "    <tr style=\"text-align: right;\">\n",
       "      <th></th>\n",
       "      <th>mappedUserId</th>\n",
       "      <th>mappedMovieId</th>\n",
       "      <th>title</th>\n",
       "      <th>genres</th>\n",
       "      <th>prompt</th>\n",
       "      <th>split</th>\n",
       "      <th>user_embedding_4</th>\n",
       "      <th>movie_embedding_4</th>\n",
       "      <th>user_embedding_128</th>\n",
       "      <th>movie_embedding_128</th>\n",
       "    </tr>\n",
       "  </thead>\n",
       "  <tbody>\n",
       "    <tr>\n",
       "      <th>0</th>\n",
       "      <td>0</td>\n",
       "      <td>0</td>\n",
       "      <td>Toy Story (1995)</td>\n",
       "      <td>['Adventure', 'Animation', 'Children', 'Comedy...</td>\n",
       "      <td>user: 0[SEP]title: Toy Story (1995)[SEP]genres...</td>\n",
       "      <td>val</td>\n",
       "      <td>[0.26242750883102417, 0.6281917691230774, -1.9...</td>\n",
       "      <td>[0.5263428688049316, 0.8551913499832153, -1.04...</td>\n",
       "      <td>[0.1969558298587799, -0.3648209869861603, 0.48...</td>\n",
       "      <td>[0.2373889982700348, 0.11266285181045532, 0.37...</td>\n",
       "    </tr>\n",
       "    <tr>\n",
       "      <th>1</th>\n",
       "      <td>0</td>\n",
       "      <td>2</td>\n",
       "      <td>Grumpier Old Men (1995)</td>\n",
       "      <td>['Comedy', 'Romance']</td>\n",
       "      <td>user: 0[SEP]title: Grumpier Old Men (1995)[SEP...</td>\n",
       "      <td>test</td>\n",
       "      <td>[0.2656306028366089, 0.4019412696361542, -2.16...</td>\n",
       "      <td>[1.1155420541763306, -0.5623853206634521, 0.05...</td>\n",
       "      <td>[0.23769348859786987, -0.36578071117401123, 0....</td>\n",
       "      <td>[-0.23246431350708008, 0.19648301601409912, -0...</td>\n",
       "    </tr>\n",
       "    <tr>\n",
       "      <th>2</th>\n",
       "      <td>0</td>\n",
       "      <td>5</td>\n",
       "      <td>Heat (1995)</td>\n",
       "      <td>['Action', 'Crime', 'Thriller']</td>\n",
       "      <td>user: 0[SEP]title: Heat (1995)[SEP]genres: ['A...</td>\n",
       "      <td>val</td>\n",
       "      <td>[0.30835822224617004, 0.4791635274887085, -1.9...</td>\n",
       "      <td>[1.2811049222946167, -0.16243532299995422, -1....</td>\n",
       "      <td>[0.23082172870635986, -0.30352190136909485, 0....</td>\n",
       "      <td>[-0.09493206441402435, -0.08772756159305573, -...</td>\n",
       "    </tr>\n",
       "    <tr>\n",
       "      <th>3</th>\n",
       "      <td>0</td>\n",
       "      <td>43</td>\n",
       "      <td>Seven (a.k.a. Se7en) (1995)</td>\n",
       "      <td>['Mystery', 'Thriller']</td>\n",
       "      <td>user: 0[SEP]title: Seven (a.k.a. Se7en) (1995)...</td>\n",
       "      <td>test</td>\n",
       "      <td>[0.30060991644859314, 0.48889434337615967, -2....</td>\n",
       "      <td>[0.4733828902244568, 0.272816926240921, -0.855...</td>\n",
       "      <td>[0.2240385115146637, -0.4613000750541687, 0.66...</td>\n",
       "      <td>[-0.07982495427131653, 0.03565080836415291, -0...</td>\n",
       "    </tr>\n",
       "    <tr>\n",
       "      <th>4</th>\n",
       "      <td>0</td>\n",
       "      <td>46</td>\n",
       "      <td>Usual Suspects, The (1995)</td>\n",
       "      <td>['Crime', 'Mystery', 'Thriller']</td>\n",
       "      <td>user: 0[SEP]title: Usual Suspects, The (1995)[...</td>\n",
       "      <td>train</td>\n",
       "      <td>[0.12415044009685516, 0.4077088236808777, -2.2...</td>\n",
       "      <td>[0.23878994584083557, -0.15946447849273682, -0...</td>\n",
       "      <td>[0.1535215526819229, -0.4172874093055725, 0.60...</td>\n",
       "      <td>[-0.004737831652164459, -0.05886310338973999, ...</td>\n",
       "    </tr>\n",
       "  </tbody>\n",
       "</table>\n",
       "</div>"
      ],
      "text/plain": [
       "   mappedUserId  mappedMovieId                        title  \\\n",
       "0             0              0             Toy Story (1995)   \n",
       "1             0              2      Grumpier Old Men (1995)   \n",
       "2             0              5                  Heat (1995)   \n",
       "3             0             43  Seven (a.k.a. Se7en) (1995)   \n",
       "4             0             46   Usual Suspects, The (1995)   \n",
       "\n",
       "                                              genres  \\\n",
       "0  ['Adventure', 'Animation', 'Children', 'Comedy...   \n",
       "1                              ['Comedy', 'Romance']   \n",
       "2                    ['Action', 'Crime', 'Thriller']   \n",
       "3                            ['Mystery', 'Thriller']   \n",
       "4                   ['Crime', 'Mystery', 'Thriller']   \n",
       "\n",
       "                                              prompt  split  \\\n",
       "0  user: 0[SEP]title: Toy Story (1995)[SEP]genres...    val   \n",
       "1  user: 0[SEP]title: Grumpier Old Men (1995)[SEP...   test   \n",
       "2  user: 0[SEP]title: Heat (1995)[SEP]genres: ['A...    val   \n",
       "3  user: 0[SEP]title: Seven (a.k.a. Se7en) (1995)...   test   \n",
       "4  user: 0[SEP]title: Usual Suspects, The (1995)[...  train   \n",
       "\n",
       "                                    user_embedding_4  \\\n",
       "0  [0.26242750883102417, 0.6281917691230774, -1.9...   \n",
       "1  [0.2656306028366089, 0.4019412696361542, -2.16...   \n",
       "2  [0.30835822224617004, 0.4791635274887085, -1.9...   \n",
       "3  [0.30060991644859314, 0.48889434337615967, -2....   \n",
       "4  [0.12415044009685516, 0.4077088236808777, -2.2...   \n",
       "\n",
       "                                   movie_embedding_4  \\\n",
       "0  [0.5263428688049316, 0.8551913499832153, -1.04...   \n",
       "1  [1.1155420541763306, -0.5623853206634521, 0.05...   \n",
       "2  [1.2811049222946167, -0.16243532299995422, -1....   \n",
       "3  [0.4733828902244568, 0.272816926240921, -0.855...   \n",
       "4  [0.23878994584083557, -0.15946447849273682, -0...   \n",
       "\n",
       "                                  user_embedding_128  \\\n",
       "0  [0.1969558298587799, -0.3648209869861603, 0.48...   \n",
       "1  [0.23769348859786987, -0.36578071117401123, 0....   \n",
       "2  [0.23082172870635986, -0.30352190136909485, 0....   \n",
       "3  [0.2240385115146637, -0.4613000750541687, 0.66...   \n",
       "4  [0.1535215526819229, -0.4172874093055725, 0.60...   \n",
       "\n",
       "                                 movie_embedding_128  \n",
       "0  [0.2373889982700348, 0.11266285181045532, 0.37...  \n",
       "1  [-0.23246431350708008, 0.19648301601409912, -0...  \n",
       "2  [-0.09493206441402435, -0.08772756159305573, -...  \n",
       "3  [-0.07982495427131653, 0.03565080836415291, -0...  \n",
       "4  [-0.004737831652164459, -0.05886310338973999, ...  "
      ]
     },
     "execution_count": 7,
     "metadata": {},
     "output_type": "execute_result"
    }
   ],
   "source": [
    "gnn_trainer.get_embeddings(movie_lens_loader)\n",
    "gnn_trainer_large.get_embeddings(movie_lens_loader)\n",
    "movie_lens_loader.llm_df.head()"
   ]
  },
  {
   "cell_type": "markdown",
   "metadata": {},
   "source": [
    "Next we initialize the vanilla encoder only classifier. This classifier does only use the NLP part of the prompt (no KGE) for predicting if the given link exists."
   ]
  },
  {
   "cell_type": "code",
   "execution_count": 8,
   "metadata": {},
   "outputs": [],
   "source": [
    "vanilla_bert_classifier = VanillaBertClassifier(movie_lens_loader.llm_df, batch_size=BATCH_SIZE, model_name=MODEL_NAME)"
   ]
  },
  {
   "cell_type": "markdown",
   "metadata": {},
   "source": [
    "Next we generate a vanilla llm dataset and tokenize it for training."
   ]
  },
  {
   "cell_type": "code",
   "execution_count": 9,
   "metadata": {},
   "outputs": [],
   "source": [
    "dataset_vanilla = movie_lens_loader.generate_vanilla_dataset(vanilla_bert_classifier.tokenize_function)"
   ]
  },
  {
   "cell_type": "markdown",
   "metadata": {},
   "source": [
    "Next we train the model on the produced dataset. This can be skipped, if already trained ones."
   ]
  },
  {
   "cell_type": "code",
   "execution_count": 10,
   "metadata": {},
   "outputs": [],
   "source": [
    "#vanilla_bert_classifier.train_model_on_data(dataset_vanilla, epochs=EPOCHS)"
   ]
  },
  {
   "cell_type": "markdown",
   "metadata": {},
   "source": [
    "Next we initialize the prompt encoder only classifier. This classifier uses the vanilla prompt and the KGEs for its link prediction."
   ]
  },
  {
   "cell_type": "code",
   "execution_count": 11,
   "metadata": {},
   "outputs": [
    {
     "name": "stderr",
     "output_type": "stream",
     "text": [
      "Some weights of BertForSequenceClassification were not initialized from the model checkpoint at google/bert_uncased_L-2_H-128_A-2 and are newly initialized: ['classifier.bias', 'classifier.weight']\n",
      "You should probably TRAIN this model on a down-stream task to be able to use it for predictions and inference.\n"
     ]
    }
   ],
   "source": [
    "prompt_bert_classifier = PromptBertClassifier(movie_lens_loader, gnn_trainer.get_embedding, kge_dimension=SMALL_KGE_DIMENSION, batch_size=BATCH_SIZE, model_max_length = 512, model_name=MODEL_NAME, force_recompute=True)"
   ]
  },
  {
   "cell_type": "markdown",
   "metadata": {},
   "source": [
    "We also generate a prompt dataset, this time the prompts also include the KGEs."
   ]
  },
  {
   "cell_type": "code",
   "execution_count": 12,
   "metadata": {},
   "outputs": [],
   "source": [
    "dataset_prompt = movie_lens_loader.generate_prompt_embedding_dataset(prompt_bert_classifier.tokenize_function, kge_dimension = prompt_bert_classifier.kge_dimension)"
   ]
  },
  {
   "cell_type": "markdown",
   "metadata": {},
   "source": [
    "We also train the model. This can be skipped if already done ones."
   ]
  },
  {
   "cell_type": "code",
   "execution_count": 13,
   "metadata": {},
   "outputs": [],
   "source": [
    "#prompt_bert_classifier.train_model_on_data(dataset_prompt, epochs = EPOCHS)"
   ]
  },
  {
   "cell_type": "code",
   "execution_count": 14,
   "metadata": {},
   "outputs": [],
   "source": [
    "adding_embedding_bert_only_classifier = AddingEmbeddingsBertClassifierBase(movie_lens_loader, gnn_trainer_large.get_embedding, kge_dimension=MODEL_HIDDEN_SIZE, batch_size=BATCH_SIZE, model_name=MODEL_NAME)\n",
    "dataset_adding_embedding = movie_lens_loader.generate_adding_embedding_dataset(adding_embedding_bert_only_classifier.tokenizer.sep_token, adding_embedding_bert_only_classifier.tokenizer.pad_token, adding_embedding_bert_only_classifier.tokenize_function, kge_dimension = MODEL_HIDDEN_SIZE)"
   ]
  },
  {
   "cell_type": "code",
   "execution_count": 15,
   "metadata": {},
   "outputs": [],
   "source": [
    "#adding_embedding_bert_only_classifier.train_model_on_data(dataset_adding_embedding, epochs = EPOCHS)"
   ]
  },
  {
   "cell_type": "code",
   "execution_count": 16,
   "metadata": {},
   "outputs": [
    {
     "name": "stderr",
     "output_type": "stream",
     "text": [
      "BertSdpaSelfAttention is used but `torch.nn.functional.scaled_dot_product_attention` does not support non-absolute `position_embedding_type` or `output_attentions=True` or `head_mask`. Falling back to the manual attention implementation, but specifying the manual implementation will be required from Transformers version v5.0.0 onwards. This warning can be removed using the argument `attn_implementation=\"eager\"` when loading the model.\n"
     ]
    },
    {
     "name": "stdout",
     "output_type": "stream",
     "text": [
      "Vanilla train Forward Epoch 1 from 3\n",
      "Vanilla train Forward Epoch 2 from 3\n",
      "Vanilla train Forward Epoch 3 from 3\n",
      "Vanilla test Forward Epoch 1 from 3\n",
      "Vanilla test Forward Epoch 2 from 3\n",
      "Vanilla test Forward Epoch 3 from 3\n",
      "Vanilla val Forward Epoch 1 from 3\n",
      "Vanilla val Forward Epoch 2 from 3\n",
      "Vanilla val Forward Epoch 3 from 3\n",
      "Prompt train Forward Epoch 1 from 3\n",
      "Prompt train Forward Epoch 2 from 3\n",
      "Prompt train Forward Epoch 3 from 3\n",
      "Prompt test Forward Epoch 1 from 3\n",
      "Prompt test Forward Epoch 2 from 3\n",
      "Prompt test Forward Epoch 3 from 3\n",
      "Prompt val Forward Epoch 1 from 3\n",
      "Prompt val Forward Epoch 2 from 3\n",
      "Prompt val Forward Epoch 3 from 3\n",
      "Adding train Forward Epoch 1 from 3\n",
      "Adding train Forward Epoch 2 from 3\n",
      "Adding train Forward Epoch 3 from 3\n",
      "Adding test Forward Epoch 1 from 3\n",
      "Adding test Forward Epoch 2 from 3\n",
      "Adding test Forward Epoch 3 from 3\n",
      "Adding val Forward Epoch 1 from 3\n",
      "Adding val Forward Epoch 2 from 3\n",
      "Adding val Forward Epoch 3 from 3\n"
     ]
    }
   ],
   "source": [
    "vanilla_bert_classifier.forward_dataset_and_save_outputs(dataset_vanilla, force_recompute=True)\n",
    "prompt_bert_classifier.forward_dataset_and_save_outputs(dataset_prompt, force_recompute=True)\n",
    "df = adding_embedding_bert_only_classifier.forward_dataset_and_save_outputs(dataset_adding_embedding, force_recompute=True)"
   ]
  }
 ],
 "metadata": {
  "kernelspec": {
   "display_name": "grundprojekt",
   "language": "python",
   "name": "python3"
  },
  "language_info": {
   "codemirror_mode": {
    "name": "ipython",
    "version": 3
   },
   "file_extension": ".py",
   "mimetype": "text/x-python",
   "name": "python",
   "nbconvert_exporter": "python",
   "pygments_lexer": "ipython3",
   "version": "3.12.4"
  }
 },
 "nbformat": 4,
 "nbformat_minor": 2
}
