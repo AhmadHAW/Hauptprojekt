{
 "cells": [
  {
   "cell_type": "markdown",
   "metadata": {},
   "source": [
    "# Training and Evaluation of GNNs and LLMs\n",
    "In this notebook, we train the models on the [MovieLens Dataset](https://movielens.org/) after the Pytorch Geometrics Tutorial on [Link Prediction](https://colab.research.google.com/drive/1xpzn1Nvai1ygd_P5Yambc_oe4VBPK_ZT?usp=sharing#scrollTo=vit8xKCiXAue).\n",
    "\n",
    "First we import all of our dependencies.\n",
    "\n",
    "The **GNNTrainer** manages and trains a GNN model. Its most important interfaces include\n",
    "**the constructor**, which defines the GNN architecture and loads the pre-trained GNN model if it is already on the hard disk,\n",
    "**the training method**, which initializes the training on the GNN model and\n",
    "**the get_embedding methods**, which represent the inference interface to the GNN model and return the corresponding embeddings in the dimension defined in the constructor for given user movie node pairs.\n",
    "\n",
    "**The MovieLensLoader** loads and manages the data sets. The most important tasks include **saving and (re)loading and transforming** the data sets.\n",
    "\n",
    "**PromptEncoderOnlyClassifier** and **VanillaEncoderOnlyClassifier** each manage a **prompt (model) LLM** and a **vanilla (model) LLM**. An EncoderOnlyClassifier (ClassifierBase) provides interfaces for training and testing an LLM model.\n",
    "PromptEncoder and VanillaEncoder differ from their DataCollectors. DataCollectors change the behavior of the models during training and testing and allow data points to be created at runtime. With the help of these collators, we **create non-existent edges on the fly**."
   ]
  },
  {
   "cell_type": "code",
   "execution_count": 1,
   "metadata": {},
   "outputs": [],
   "source": [
    "from gnn import GNNTrainer\n",
    "from movie_lens_loader import MovieLensLoader\n",
    "from llm import PromptBertClassifier, VanillaBertClassifier, AddingEmbeddingsBertClassifierBase\n",
    "\n",
    "from transformers import AutoConfig"
   ]
  },
  {
   "cell_type": "markdown",
   "metadata": {},
   "source": [
    "We define in advance which **Knowledge Graph Embedding Dimension (KGE_DIMENSION)** the GNN encoder has. We want to determine from which output dimension the GNN encoder can produce embeddings that lead to a significant increase in performance *without exceeding the context length of the LLMs*. In the original tutorial, the KGE_DIMENSION was $64$."
   ]
  },
  {
   "cell_type": "code",
   "execution_count": 2,
   "metadata": {},
   "outputs": [],
   "source": [
    "MODEL_NAME = \"google/bert_uncased_L-2_H-128_A-2\"\n",
    "MODEL_HIDDEN_SIZE = AutoConfig.from_pretrained(MODEL_NAME).hidden_size\n",
    "SMALL_KGE_DIMENSION = 4\n",
    "LARGE_KGE_DIMENSION = MODEL_HIDDEN_SIZE\n",
    "KGE_DIMENSIONS = [SMALL_KGE_DIMENSION, LARGE_KGE_DIMENSION] # Output Dimension of the GNN Encoder.\n",
    "EPOCHS = 1\n",
    "BATCH_SIZE = 64"
   ]
  },
  {
   "cell_type": "markdown",
   "metadata": {},
   "source": [
    "First we load the MovieLensLoader, which downloads the Movie Lens dataset (https://files.grouplens.org/datasets/movielens/ml-latest-small.zip) and prepares it to be used on GNN and LLM. We also pass the embedding dimensions that we will assume we are training with. First time takes approx. 30 sec."
   ]
  },
  {
   "cell_type": "code",
   "execution_count": 3,
   "metadata": {},
   "outputs": [],
   "source": [
    "\n",
    "movie_lens_loader = MovieLensLoader(kge_dimensions = KGE_DIMENSIONS)"
   ]
  },
  {
   "cell_type": "code",
   "execution_count": 4,
   "metadata": {},
   "outputs": [
    {
     "data": {
      "text/html": [
       "<div>\n",
       "<style scoped>\n",
       "    .dataframe tbody tr th:only-of-type {\n",
       "        vertical-align: middle;\n",
       "    }\n",
       "\n",
       "    .dataframe tbody tr th {\n",
       "        vertical-align: top;\n",
       "    }\n",
       "\n",
       "    .dataframe thead th {\n",
       "        text-align: right;\n",
       "    }\n",
       "</style>\n",
       "<table border=\"1\" class=\"dataframe\">\n",
       "  <thead>\n",
       "    <tr style=\"text-align: right;\">\n",
       "      <th></th>\n",
       "      <th>mappedUserId</th>\n",
       "      <th>mappedMovieId</th>\n",
       "      <th>title</th>\n",
       "      <th>genres</th>\n",
       "      <th>labels</th>\n",
       "      <th>prompt</th>\n",
       "      <th>split</th>\n",
       "    </tr>\n",
       "  </thead>\n",
       "  <tbody>\n",
       "    <tr>\n",
       "      <th>0</th>\n",
       "      <td>0</td>\n",
       "      <td>0</td>\n",
       "      <td>Toy Story (1995)</td>\n",
       "      <td>['Adventure', 'Animation', 'Children', 'Comedy...</td>\n",
       "      <td>1</td>\n",
       "      <td>0[SEP]Toy Story (1995)[SEP]['Adventure', 'Anim...</td>\n",
       "      <td>val</td>\n",
       "    </tr>\n",
       "    <tr>\n",
       "      <th>1</th>\n",
       "      <td>0</td>\n",
       "      <td>2</td>\n",
       "      <td>Grumpier Old Men (1995)</td>\n",
       "      <td>['Comedy', 'Romance']</td>\n",
       "      <td>1</td>\n",
       "      <td>0[SEP]Grumpier Old Men (1995)[SEP]['Comedy', '...</td>\n",
       "      <td>train</td>\n",
       "    </tr>\n",
       "    <tr>\n",
       "      <th>2</th>\n",
       "      <td>0</td>\n",
       "      <td>5</td>\n",
       "      <td>Heat (1995)</td>\n",
       "      <td>['Action', 'Crime', 'Thriller']</td>\n",
       "      <td>1</td>\n",
       "      <td>0[SEP]Heat (1995)[SEP]['Action', 'Crime', 'Thr...</td>\n",
       "      <td>train</td>\n",
       "    </tr>\n",
       "    <tr>\n",
       "      <th>3</th>\n",
       "      <td>0</td>\n",
       "      <td>43</td>\n",
       "      <td>Seven (a.k.a. Se7en) (1995)</td>\n",
       "      <td>['Mystery', 'Thriller']</td>\n",
       "      <td>1</td>\n",
       "      <td>0[SEP]Seven (a.k.a. Se7en) (1995)[SEP]['Myster...</td>\n",
       "      <td>test</td>\n",
       "    </tr>\n",
       "    <tr>\n",
       "      <th>4</th>\n",
       "      <td>0</td>\n",
       "      <td>46</td>\n",
       "      <td>Usual Suspects, The (1995)</td>\n",
       "      <td>['Crime', 'Mystery', 'Thriller']</td>\n",
       "      <td>1</td>\n",
       "      <td>0[SEP]Usual Suspects, The (1995)[SEP]['Crime',...</td>\n",
       "      <td>train</td>\n",
       "    </tr>\n",
       "  </tbody>\n",
       "</table>\n",
       "</div>"
      ],
      "text/plain": [
       "   mappedUserId  mappedMovieId                        title  \\\n",
       "0             0              0             Toy Story (1995)   \n",
       "1             0              2      Grumpier Old Men (1995)   \n",
       "2             0              5                  Heat (1995)   \n",
       "3             0             43  Seven (a.k.a. Se7en) (1995)   \n",
       "4             0             46   Usual Suspects, The (1995)   \n",
       "\n",
       "                                              genres  labels  \\\n",
       "0  ['Adventure', 'Animation', 'Children', 'Comedy...       1   \n",
       "1                              ['Comedy', 'Romance']       1   \n",
       "2                    ['Action', 'Crime', 'Thriller']       1   \n",
       "3                            ['Mystery', 'Thriller']       1   \n",
       "4                   ['Crime', 'Mystery', 'Thriller']       1   \n",
       "\n",
       "                                              prompt  split  \n",
       "0  0[SEP]Toy Story (1995)[SEP]['Adventure', 'Anim...    val  \n",
       "1  0[SEP]Grumpier Old Men (1995)[SEP]['Comedy', '...  train  \n",
       "2  0[SEP]Heat (1995)[SEP]['Action', 'Crime', 'Thr...  train  \n",
       "3  0[SEP]Seven (a.k.a. Se7en) (1995)[SEP]['Myster...   test  \n",
       "4  0[SEP]Usual Suspects, The (1995)[SEP]['Crime',...  train  "
      ]
     },
     "execution_count": 4,
     "metadata": {},
     "output_type": "execute_result"
    }
   ],
   "source": [
    "movie_lens_loader.llm_df.head()"
   ]
  },
  {
   "cell_type": "markdown",
   "metadata": {},
   "source": [
    "Next, we initialize the GNN trainers (possible on Cuda), one for each KGE_DIMENSION.\n",
    "A GNN trainer manages a model and each model consists of an **encoder and classifier** part.\n",
    "\n",
    "**The encoder** is a parameterized *Grap Convolutional Network (GCN)* with a *2-layer GNN computation graph* and a single *ReLU* activation function in between.\n",
    "\n",
    "**The classifier** applies the dot-product between source and destination kges to derive edge-level predictions."
   ]
  },
  {
   "cell_type": "code",
   "execution_count": 5,
   "metadata": {},
   "outputs": [
    {
     "name": "stdout",
     "output_type": "stream",
     "text": [
      "loading pretrained model\n",
      "Device: 'cpu'\n",
      "loading pretrained model\n",
      "Device: 'cpu'\n"
     ]
    }
   ],
   "source": [
    "gnn_trainer =    GNNTrainer(movie_lens_loader.data, kge_dimension = SMALL_KGE_DIMENSION)\n",
    "gnn_trainer_large = GNNTrainer(movie_lens_loader.data, hidden_channels=MODEL_HIDDEN_SIZE, kge_dimension=MODEL_HIDDEN_SIZE)"
   ]
  },
  {
   "cell_type": "markdown",
   "metadata": {},
   "source": [
    "We then train and validate the model on the link prediction task.\n",
    "\n",
    "If the model is already trained, we can skip this part.\n",
    "Training the models can take up to 5 minutes."
   ]
  },
  {
   "cell_type": "code",
   "execution_count": 6,
   "metadata": {},
   "outputs": [
    {
     "name": "stdout",
     "output_type": "stream",
     "text": [
      "4\n"
     ]
    },
    {
     "name": "stderr",
     "output_type": "stream",
     "text": [
      "100%|██████████| 190/190 [00:03<00:00, 48.23it/s]\n"
     ]
    },
    {
     "name": "stdout",
     "output_type": "stream",
     "text": [
      "Epoch: 001, Loss: 0.2127\n"
     ]
    },
    {
     "name": "stderr",
     "output_type": "stream",
     "text": [
      "100%|██████████| 79/79 [00:00<00:00, 129.72it/s]\n"
     ]
    },
    {
     "name": "stdout",
     "output_type": "stream",
     "text": [
      "\n",
      "Validation AUC: 0.9195\n",
      "128\n"
     ]
    },
    {
     "name": "stderr",
     "output_type": "stream",
     "text": [
      "100%|██████████| 190/190 [00:06<00:00, 28.10it/s]\n"
     ]
    },
    {
     "name": "stdout",
     "output_type": "stream",
     "text": [
      "Epoch: 001, Loss: 0.1084\n"
     ]
    },
    {
     "name": "stderr",
     "output_type": "stream",
     "text": [
      "100%|██████████| 79/79 [00:00<00:00, 94.83it/s]"
     ]
    },
    {
     "name": "stdout",
     "output_type": "stream",
     "text": [
      "\n",
      "Validation AUC: 0.9175\n"
     ]
    },
    {
     "name": "stderr",
     "output_type": "stream",
     "text": [
      "\n"
     ]
    }
   ],
   "source": [
    "\n",
    "print(gnn_trainer.kge_dimension)\n",
    "gnn_trainer.train_model(movie_lens_loader.gnn_train_data, EPOCHS)\n",
    "gnn_trainer.validate_model(movie_lens_loader.gnn_test_data)\n",
    "print(gnn_trainer_large.kge_dimension)\n",
    "gnn_trainer_large.train_model(movie_lens_loader.gnn_train_data, EPOCHS)\n",
    "gnn_trainer_large.validate_model(movie_lens_loader.gnn_test_data)\n"
   ]
  },
  {
   "cell_type": "markdown",
   "metadata": {},
   "source": [
    "Next we produce the KGEs for every edge in the dataset. These embeddings can then be used for the LLM on the link-prediction task."
   ]
  },
  {
   "cell_type": "code",
   "execution_count": 7,
   "metadata": {},
   "outputs": [
    {
     "data": {
      "text/html": [
       "<div>\n",
       "<style scoped>\n",
       "    .dataframe tbody tr th:only-of-type {\n",
       "        vertical-align: middle;\n",
       "    }\n",
       "\n",
       "    .dataframe tbody tr th {\n",
       "        vertical-align: top;\n",
       "    }\n",
       "\n",
       "    .dataframe thead th {\n",
       "        text-align: right;\n",
       "    }\n",
       "</style>\n",
       "<table border=\"1\" class=\"dataframe\">\n",
       "  <thead>\n",
       "    <tr style=\"text-align: right;\">\n",
       "      <th></th>\n",
       "      <th>mappedUserId</th>\n",
       "      <th>mappedMovieId</th>\n",
       "      <th>title</th>\n",
       "      <th>genres</th>\n",
       "      <th>labels</th>\n",
       "      <th>prompt</th>\n",
       "      <th>split</th>\n",
       "      <th>user_embedding_4</th>\n",
       "      <th>movie_embedding_4</th>\n",
       "      <th>user_embedding_128</th>\n",
       "      <th>movie_embedding_128</th>\n",
       "    </tr>\n",
       "  </thead>\n",
       "  <tbody>\n",
       "    <tr>\n",
       "      <th>0</th>\n",
       "      <td>0</td>\n",
       "      <td>0</td>\n",
       "      <td>Toy Story (1995)</td>\n",
       "      <td>['Adventure', 'Animation', 'Children', 'Comedy...</td>\n",
       "      <td>1</td>\n",
       "      <td>0[SEP]Toy Story (1995)[SEP]['Adventure', 'Anim...</td>\n",
       "      <td>val</td>\n",
       "      <td>[-1.4025567770004272, 0.6816163659095764, -3.0...</td>\n",
       "      <td>[0.7183933258056641, -0.7495675086975098, -0.5...</td>\n",
       "      <td>[-0.13522014021873474, 0.16583335399627686, 0....</td>\n",
       "      <td>[-0.15604138374328613, 0.22537894546985626, 0....</td>\n",
       "    </tr>\n",
       "    <tr>\n",
       "      <th>1</th>\n",
       "      <td>0</td>\n",
       "      <td>2</td>\n",
       "      <td>Grumpier Old Men (1995)</td>\n",
       "      <td>['Comedy', 'Romance']</td>\n",
       "      <td>1</td>\n",
       "      <td>0[SEP]Grumpier Old Men (1995)[SEP]['Comedy', '...</td>\n",
       "      <td>train</td>\n",
       "      <td>[-1.0757461786270142, 0.6430796384811401, -2.7...</td>\n",
       "      <td>[0.8827657103538513, -0.8039241433143616, -0.1...</td>\n",
       "      <td>[-0.13852912187576294, 0.22851958870887756, 0....</td>\n",
       "      <td>[-0.5181198120117188, 0.18665221333503723, 0.4...</td>\n",
       "    </tr>\n",
       "    <tr>\n",
       "      <th>2</th>\n",
       "      <td>0</td>\n",
       "      <td>5</td>\n",
       "      <td>Heat (1995)</td>\n",
       "      <td>['Action', 'Crime', 'Thriller']</td>\n",
       "      <td>1</td>\n",
       "      <td>0[SEP]Heat (1995)[SEP]['Action', 'Crime', 'Thr...</td>\n",
       "      <td>train</td>\n",
       "      <td>[-1.1887747049331665, 0.6766993999481201, -2.8...</td>\n",
       "      <td>[0.3578329086303711, -0.37480437755584717, -0....</td>\n",
       "      <td>[-0.1273198425769806, 0.21016445755958557, 0.3...</td>\n",
       "      <td>[0.25531184673309326, 0.1213562935590744, 0.42...</td>\n",
       "    </tr>\n",
       "    <tr>\n",
       "      <th>3</th>\n",
       "      <td>0</td>\n",
       "      <td>43</td>\n",
       "      <td>Seven (a.k.a. Se7en) (1995)</td>\n",
       "      <td>['Mystery', 'Thriller']</td>\n",
       "      <td>1</td>\n",
       "      <td>0[SEP]Seven (a.k.a. Se7en) (1995)[SEP]['Myster...</td>\n",
       "      <td>test</td>\n",
       "      <td>[-1.2844634056091309, 0.6699168682098389, -2.9...</td>\n",
       "      <td>[0.49199721217155457, -0.14119231700897217, -0...</td>\n",
       "      <td>[-0.13550306856632233, 0.21558162569999695, 0....</td>\n",
       "      <td>[0.18766692280769348, 0.1714116334915161, 0.47...</td>\n",
       "    </tr>\n",
       "    <tr>\n",
       "      <th>4</th>\n",
       "      <td>0</td>\n",
       "      <td>46</td>\n",
       "      <td>Usual Suspects, The (1995)</td>\n",
       "      <td>['Crime', 'Mystery', 'Thriller']</td>\n",
       "      <td>1</td>\n",
       "      <td>0[SEP]Usual Suspects, The (1995)[SEP]['Crime',...</td>\n",
       "      <td>train</td>\n",
       "      <td>[-1.028777003288269, 0.6010562181472778, -2.48...</td>\n",
       "      <td>[0.6986081004142761, -0.4587530195713043, -0.2...</td>\n",
       "      <td>[-0.2011059671640396, 0.22581297159194946, 0.3...</td>\n",
       "      <td>[0.05735247954726219, 0.24271981418132782, 0.4...</td>\n",
       "    </tr>\n",
       "  </tbody>\n",
       "</table>\n",
       "</div>"
      ],
      "text/plain": [
       "   mappedUserId  mappedMovieId                        title  \\\n",
       "0             0              0             Toy Story (1995)   \n",
       "1             0              2      Grumpier Old Men (1995)   \n",
       "2             0              5                  Heat (1995)   \n",
       "3             0             43  Seven (a.k.a. Se7en) (1995)   \n",
       "4             0             46   Usual Suspects, The (1995)   \n",
       "\n",
       "                                              genres  labels  \\\n",
       "0  ['Adventure', 'Animation', 'Children', 'Comedy...       1   \n",
       "1                              ['Comedy', 'Romance']       1   \n",
       "2                    ['Action', 'Crime', 'Thriller']       1   \n",
       "3                            ['Mystery', 'Thriller']       1   \n",
       "4                   ['Crime', 'Mystery', 'Thriller']       1   \n",
       "\n",
       "                                              prompt  split  \\\n",
       "0  0[SEP]Toy Story (1995)[SEP]['Adventure', 'Anim...    val   \n",
       "1  0[SEP]Grumpier Old Men (1995)[SEP]['Comedy', '...  train   \n",
       "2  0[SEP]Heat (1995)[SEP]['Action', 'Crime', 'Thr...  train   \n",
       "3  0[SEP]Seven (a.k.a. Se7en) (1995)[SEP]['Myster...   test   \n",
       "4  0[SEP]Usual Suspects, The (1995)[SEP]['Crime',...  train   \n",
       "\n",
       "                                    user_embedding_4  \\\n",
       "0  [-1.4025567770004272, 0.6816163659095764, -3.0...   \n",
       "1  [-1.0757461786270142, 0.6430796384811401, -2.7...   \n",
       "2  [-1.1887747049331665, 0.6766993999481201, -2.8...   \n",
       "3  [-1.2844634056091309, 0.6699168682098389, -2.9...   \n",
       "4  [-1.028777003288269, 0.6010562181472778, -2.48...   \n",
       "\n",
       "                                   movie_embedding_4  \\\n",
       "0  [0.7183933258056641, -0.7495675086975098, -0.5...   \n",
       "1  [0.8827657103538513, -0.8039241433143616, -0.1...   \n",
       "2  [0.3578329086303711, -0.37480437755584717, -0....   \n",
       "3  [0.49199721217155457, -0.14119231700897217, -0...   \n",
       "4  [0.6986081004142761, -0.4587530195713043, -0.2...   \n",
       "\n",
       "                                  user_embedding_128  \\\n",
       "0  [-0.13522014021873474, 0.16583335399627686, 0....   \n",
       "1  [-0.13852912187576294, 0.22851958870887756, 0....   \n",
       "2  [-0.1273198425769806, 0.21016445755958557, 0.3...   \n",
       "3  [-0.13550306856632233, 0.21558162569999695, 0....   \n",
       "4  [-0.2011059671640396, 0.22581297159194946, 0.3...   \n",
       "\n",
       "                                 movie_embedding_128  \n",
       "0  [-0.15604138374328613, 0.22537894546985626, 0....  \n",
       "1  [-0.5181198120117188, 0.18665221333503723, 0.4...  \n",
       "2  [0.25531184673309326, 0.1213562935590744, 0.42...  \n",
       "3  [0.18766692280769348, 0.1714116334915161, 0.47...  \n",
       "4  [0.05735247954726219, 0.24271981418132782, 0.4...  "
      ]
     },
     "execution_count": 7,
     "metadata": {},
     "output_type": "execute_result"
    }
   ],
   "source": [
    "gnn_trainer.get_embeddings(movie_lens_loader)\n",
    "gnn_trainer_large.get_embeddings(movie_lens_loader)\n",
    "movie_lens_loader.llm_df.head()"
   ]
  },
  {
   "cell_type": "markdown",
   "metadata": {},
   "source": [
    "Next we initialize the vanilla encoder only classifier. This classifier does only use the NLP part of the prompt (no KGE) for predicting if the given link exists."
   ]
  },
  {
   "cell_type": "code",
   "execution_count": 8,
   "metadata": {},
   "outputs": [],
   "source": [
    "vanilla_bert_classifier = VanillaBertClassifier(movie_lens_loader.llm_df, batch_size=BATCH_SIZE, model_name=MODEL_NAME)"
   ]
  },
  {
   "cell_type": "markdown",
   "metadata": {},
   "source": [
    "Next we generate a vanilla llm dataset and tokenize it for training."
   ]
  },
  {
   "cell_type": "code",
   "execution_count": 9,
   "metadata": {},
   "outputs": [],
   "source": [
    "dataset_vanilla = movie_lens_loader.generate_vanilla_dataset(vanilla_bert_classifier.tokenize_function)"
   ]
  },
  {
   "cell_type": "markdown",
   "metadata": {},
   "source": [
    "Next we train the model on the produced dataset. This can be skipped, if already trained ones."
   ]
  },
  {
   "cell_type": "code",
   "execution_count": 10,
   "metadata": {},
   "outputs": [],
   "source": [
    "#vanilla_bert_classifier.train_model_on_data(dataset_vanilla, epochs=EPOCHS)"
   ]
  },
  {
   "cell_type": "markdown",
   "metadata": {},
   "source": [
    "Next we initialize the prompt encoder only classifier. This classifier uses the vanilla prompt and the KGEs for its link prediction."
   ]
  },
  {
   "cell_type": "code",
   "execution_count": 11,
   "metadata": {},
   "outputs": [
    {
     "name": "stderr",
     "output_type": "stream",
     "text": [
      "Some weights of BertForSequenceClassificationRanges were not initialized from the model checkpoint at google/bert_uncased_L-2_H-128_A-2 and are newly initialized: ['classifier.bias', 'classifier.weight']\n",
      "You should probably TRAIN this model on a down-stream task to be able to use it for predictions and inference.\n"
     ]
    }
   ],
   "source": [
    "prompt_bert_classifier = PromptBertClassifier(movie_lens_loader, gnn_trainer.get_embedding, kge_dimension=SMALL_KGE_DIMENSION, batch_size=BATCH_SIZE, model_max_length = 512, model_name=MODEL_NAME)"
   ]
  },
  {
   "cell_type": "markdown",
   "metadata": {},
   "source": [
    "We also generate a prompt dataset, this time the prompts also include the KGEs."
   ]
  },
  {
   "cell_type": "code",
   "execution_count": 12,
   "metadata": {},
   "outputs": [],
   "source": [
    "dataset_prompt = movie_lens_loader.generate_prompt_embedding_dataset(prompt_bert_classifier.tokenize_function, kge_dimension = prompt_bert_classifier.kge_dimension)"
   ]
  },
  {
   "cell_type": "markdown",
   "metadata": {},
   "source": [
    "We also train the model. This can be skipped if already done ones."
   ]
  },
  {
   "cell_type": "code",
   "execution_count": 13,
   "metadata": {},
   "outputs": [],
   "source": [
    "#prompt_bert_classifier.train_model_on_data(dataset_prompt, epochs = EPOCHS)"
   ]
  },
  {
   "cell_type": "code",
   "execution_count": 14,
   "metadata": {},
   "outputs": [
    {
     "name": "stderr",
     "output_type": "stream",
     "text": [
      "Some weights of AddingEmbeddingBertForSequenceClassification were not initialized from the model checkpoint at google/bert_uncased_L-2_H-128_A-2 and are newly initialized: ['classifier.bias', 'classifier.weight']\n",
      "You should probably TRAIN this model on a down-stream task to be able to use it for predictions and inference.\n"
     ]
    }
   ],
   "source": [
    "adding_embedding_bert_only_classifier = AddingEmbeddingsBertClassifierBase(movie_lens_loader, gnn_trainer_large.get_embedding, kge_dimension=MODEL_HIDDEN_SIZE, batch_size=BATCH_SIZE, model_name=MODEL_NAME)\n",
    "dataset_adding_embedding = movie_lens_loader.generate_adding_embedding_dataset(adding_embedding_bert_only_classifier.tokenizer.sep_token, adding_embedding_bert_only_classifier.tokenizer.pad_token, adding_embedding_bert_only_classifier.tokenize_function, kge_dimension = MODEL_HIDDEN_SIZE)"
   ]
  },
  {
   "cell_type": "code",
   "execution_count": 15,
   "metadata": {},
   "outputs": [],
   "source": [
    "#adding_embedding_bert_only_classifier.train_model_on_data(dataset_adding_embedding, epochs = EPOCHS)"
   ]
  },
  {
   "cell_type": "code",
   "execution_count": 16,
   "metadata": {},
   "outputs": [],
   "source": [
    "#movie_lens_loader.add_false_edges(false_ratio = 2.0)"
   ]
  },
  {
   "cell_type": "code",
   "execution_count": 17,
   "metadata": {},
   "outputs": [
    {
     "name": "stderr",
     "output_type": "stream",
     "text": [
      "Some weights of BertForSequenceClassificationRanges were not initialized from the model checkpoint at google/bert_uncased_L-2_H-128_A-2 and are newly initialized: ['classifier.bias', 'classifier.weight']\n",
      "You should probably TRAIN this model on a down-stream task to be able to use it for predictions and inference.\n",
      "Some weights of AddingEmbeddingBertForSequenceClassification were not initialized from the model checkpoint at google/bert_uncased_L-2_H-128_A-2 and are newly initialized: ['classifier.bias', 'classifier.weight']\n",
      "You should probably TRAIN this model on a down-stream task to be able to use it for predictions and inference.\n"
     ]
    }
   ],
   "source": [
    "vanilla_bert_classifier = VanillaBertClassifier(movie_lens_loader.llm_df, batch_size=BATCH_SIZE, model_name=MODEL_NAME, false_ratio=-1)\n",
    "prompt_bert_classifier = PromptBertClassifier(movie_lens_loader, gnn_trainer.get_embedding, kge_dimension=SMALL_KGE_DIMENSION, batch_size=BATCH_SIZE, model_max_length = 512, model_name=MODEL_NAME, false_ratio = -1)\n",
    "adding_embedding_bert_only_classifier = AddingEmbeddingsBertClassifierBase(movie_lens_loader, gnn_trainer_large.get_embedding, kge_dimension=MODEL_HIDDEN_SIZE, batch_size=BATCH_SIZE, model_name=MODEL_NAME, false_ratio=-1)\n"
   ]
  },
  {
   "cell_type": "code",
   "execution_count": 18,
   "metadata": {},
   "outputs": [],
   "source": [
    "dataset_vanilla_fixed = movie_lens_loader.generate_vanilla_dataset(vanilla_bert_classifier.tokenize_function, suffix = \"_fixed\")\n",
    "#dataset_prompt_fixed = movie_lens_loader.generate_prompt_embedding_dataset(prompt_bert_classifier.tokenize_function, kge_dimension = prompt_bert_classifier.kge_dimension, suffix = \"_fixed\")\n",
    "#dataset_adding_embedding_fixed = movie_lens_loader.generate_adding_embedding_dataset(adding_embedding_bert_only_classifier.tokenizer.sep_token, adding_embedding_bert_only_classifier.tokenizer.pad_token, adding_embedding_bert_only_classifier.tokenize_function, suffix = \"_fixed\", kge_dimension = MODEL_HIDDEN_SIZE)"
   ]
  },
  {
   "cell_type": "code",
   "execution_count": 19,
   "metadata": {},
   "outputs": [
    {
     "data": {
      "text/plain": [
       "[[1, 2], [2, 3], [3, 11], [11, 12], [12, 21], [21, 22]]"
      ]
     },
     "execution_count": 19,
     "metadata": {},
     "output_type": "execute_result"
    }
   ],
   "source": [
    "dataset_vanilla_fixed[\"train\"][0][\"ranges_over_batch\"]"
   ]
  },
  {
   "cell_type": "code",
   "execution_count": 20,
   "metadata": {},
   "outputs": [
    {
     "name": "stderr",
     "output_type": "stream",
     "text": [
      "BertSdpaSelfAttention is used but `torch.nn.functional.scaled_dot_product_attention` does not support non-absolute `position_embedding_type` or `output_attentions=True` or `head_mask`. Falling back to the manual attention implementation, but specifying the manual implementation will be required from Transformers version v5.0.0 onwards. This warning can be removed using the argument `attn_implementation=\"eager\"` when loading the model.\n"
     ]
    },
    {
     "name": "stdout",
     "output_type": "stream",
     "text": [
      "Vanilla train Forward Epoch 1 from 1\n",
      "Vanilla test Forward Epoch 1 from 1\n",
      "Vanilla val Forward Epoch 1 from 1\n"
     ]
    },
    {
     "data": {
      "text/html": [
       "<div>\n",
       "<style scoped>\n",
       "    .dataframe tbody tr th:only-of-type {\n",
       "        vertical-align: middle;\n",
       "    }\n",
       "\n",
       "    .dataframe tbody tr th {\n",
       "        vertical-align: top;\n",
       "    }\n",
       "\n",
       "    .dataframe thead th {\n",
       "        text-align: right;\n",
       "    }\n",
       "</style>\n",
       "<table border=\"1\" class=\"dataframe\">\n",
       "  <thead>\n",
       "    <tr style=\"text-align: right;\">\n",
       "      <th></th>\n",
       "      <th>level_0</th>\n",
       "      <th>index</th>\n",
       "      <th>user_id</th>\n",
       "      <th>title</th>\n",
       "      <th>genres</th>\n",
       "      <th>labels</th>\n",
       "      <th>split</th>\n",
       "      <th>hidden_states</th>\n",
       "      <th>attentions</th>\n",
       "    </tr>\n",
       "  </thead>\n",
       "  <tbody>\n",
       "    <tr>\n",
       "      <th>0</th>\n",
       "      <td>0</td>\n",
       "      <td>0</td>\n",
       "      <td>0</td>\n",
       "      <td>grumpier old men ( 1995 )</td>\n",
       "      <td>['comedy ', 'romance']</td>\n",
       "      <td>1</td>\n",
       "      <td>train</td>\n",
       "      <td>[[tensor(0.0433), tensor(-0.4525), tensor(-0.9...</td>\n",
       "      <td>[[[tensor(0.6167), tensor(0.2433)], [tensor(0....</td>\n",
       "    </tr>\n",
       "    <tr>\n",
       "      <th>1</th>\n",
       "      <td>1</td>\n",
       "      <td>1</td>\n",
       "      <td>0</td>\n",
       "      <td>heat ( 1995 )</td>\n",
       "      <td>['action ', 'crime ', 'thriller']</td>\n",
       "      <td>1</td>\n",
       "      <td>train</td>\n",
       "      <td>[[tensor(-0.0737), tensor(-0.4414), tensor(-1....</td>\n",
       "      <td>[[[tensor(0.6005), tensor(0.2771)], [tensor(0....</td>\n",
       "    </tr>\n",
       "    <tr>\n",
       "      <th>2</th>\n",
       "      <td>2</td>\n",
       "      <td>2</td>\n",
       "      <td>0</td>\n",
       "      <td>usual suspects, the ( 1995 )</td>\n",
       "      <td>['crime ', 'mystery ', 'thriller']</td>\n",
       "      <td>1</td>\n",
       "      <td>train</td>\n",
       "      <td>[[tensor(0.1260), tensor(-0.4831), tensor(-1.2...</td>\n",
       "      <td>[[[tensor(0.5491), tensor(0.2855)], [tensor(0....</td>\n",
       "    </tr>\n",
       "    <tr>\n",
       "      <th>3</th>\n",
       "      <td>3</td>\n",
       "      <td>3</td>\n",
       "      <td>0</td>\n",
       "      <td>bottle rocket ( 1996 )</td>\n",
       "      <td>['adventure ', 'comedy ', 'crime ', 'romance']</td>\n",
       "      <td>1</td>\n",
       "      <td>train</td>\n",
       "      <td>[[tensor(-0.1080), tensor(-0.4961), tensor(-1....</td>\n",
       "      <td>[[[tensor(0.5437), tensor(0.2620)], [tensor(0....</td>\n",
       "    </tr>\n",
       "    <tr>\n",
       "      <th>4</th>\n",
       "      <td>4</td>\n",
       "      <td>4</td>\n",
       "      <td>0</td>\n",
       "      <td>canadian bacon ( 1995 )</td>\n",
       "      <td>['comedy ', 'war']</td>\n",
       "      <td>1</td>\n",
       "      <td>train</td>\n",
       "      <td>[[tensor(0.3179), tensor(-0.2600), tensor(-0.9...</td>\n",
       "      <td>[[[tensor(0.6132), tensor(0.2528)], [tensor(0....</td>\n",
       "    </tr>\n",
       "    <tr>\n",
       "      <th>...</th>\n",
       "      <td>...</td>\n",
       "      <td>...</td>\n",
       "      <td>...</td>\n",
       "      <td>...</td>\n",
       "      <td>...</td>\n",
       "      <td>...</td>\n",
       "      <td>...</td>\n",
       "      <td>...</td>\n",
       "      <td>...</td>\n",
       "    </tr>\n",
       "    <tr>\n",
       "      <th>272254</th>\n",
       "      <td>51421</td>\n",
       "      <td>29</td>\n",
       "      <td>314</td>\n",
       "      <td>bee movie ( 2007 )</td>\n",
       "      <td>['animation ', 'comedy']</td>\n",
       "      <td>0</td>\n",
       "      <td>val</td>\n",
       "      <td>[[tensor(-1.0330), tensor(0.3144), tensor(-0.5...</td>\n",
       "      <td>[[[tensor(0.9281), tensor(0.0470)], [tensor(0....</td>\n",
       "    </tr>\n",
       "    <tr>\n",
       "      <th>272255</th>\n",
       "      <td>51422</td>\n",
       "      <td>30</td>\n",
       "      <td>404</td>\n",
       "      <td>goodbye lover ( 1999 )</td>\n",
       "      <td>['comedy ', 'crime ', 'thriller']</td>\n",
       "      <td>0</td>\n",
       "      <td>val</td>\n",
       "      <td>[[tensor(-1.0966), tensor(0.9011), tensor(-0.3...</td>\n",
       "      <td>[[[tensor(0.7357), tensor(0.3178)], [tensor(0....</td>\n",
       "    </tr>\n",
       "    <tr>\n",
       "      <th>272256</th>\n",
       "      <td>51423</td>\n",
       "      <td>31</td>\n",
       "      <td>221</td>\n",
       "      <td>blues brothers 2000 ( 1998 )</td>\n",
       "      <td>['action ', 'comedy ', 'musical']</td>\n",
       "      <td>0</td>\n",
       "      <td>val</td>\n",
       "      <td>[[tensor(-1.0801), tensor(0.1345), tensor(-0.3...</td>\n",
       "      <td>[[[tensor(0.8995), tensor(0.1729)], [tensor(0....</td>\n",
       "    </tr>\n",
       "    <tr>\n",
       "      <th>272257</th>\n",
       "      <td>51424</td>\n",
       "      <td>32</td>\n",
       "      <td>279</td>\n",
       "      <td>exam ( 2009 )</td>\n",
       "      <td>['mystery ', 'thriller']</td>\n",
       "      <td>0</td>\n",
       "      <td>val</td>\n",
       "      <td>[[tensor(-0.8209), tensor(0.9609), tensor(-0.5...</td>\n",
       "      <td>[[[tensor(0.7075), tensor(0.1596)], [tensor(0....</td>\n",
       "    </tr>\n",
       "    <tr>\n",
       "      <th>272258</th>\n",
       "      <td>51425</td>\n",
       "      <td>33</td>\n",
       "      <td>23</td>\n",
       "      <td>mystic river ( 2003 )</td>\n",
       "      <td>['crime ', 'drama ', 'mystery']</td>\n",
       "      <td>0</td>\n",
       "      <td>val</td>\n",
       "      <td>[[tensor(-1.5189), tensor(1.0548), tensor(-0.4...</td>\n",
       "      <td>[[[tensor(0.5749), tensor(0.2930)], [tensor(0....</td>\n",
       "    </tr>\n",
       "  </tbody>\n",
       "</table>\n",
       "<p>272259 rows × 9 columns</p>\n",
       "</div>"
      ],
      "text/plain": [
       "        level_0  index  user_id                         title  \\\n",
       "0             0      0        0     grumpier old men ( 1995 )   \n",
       "1             1      1        0                 heat ( 1995 )   \n",
       "2             2      2        0  usual suspects, the ( 1995 )   \n",
       "3             3      3        0        bottle rocket ( 1996 )   \n",
       "4             4      4        0       canadian bacon ( 1995 )   \n",
       "...         ...    ...      ...                           ...   \n",
       "272254    51421     29      314            bee movie ( 2007 )   \n",
       "272255    51422     30      404        goodbye lover ( 1999 )   \n",
       "272256    51423     31      221  blues brothers 2000 ( 1998 )   \n",
       "272257    51424     32      279                 exam ( 2009 )   \n",
       "272258    51425     33       23         mystic river ( 2003 )   \n",
       "\n",
       "                                                genres  labels  split  \\\n",
       "0                               ['comedy ', 'romance']       1  train   \n",
       "1                    ['action ', 'crime ', 'thriller']       1  train   \n",
       "2                   ['crime ', 'mystery ', 'thriller']       1  train   \n",
       "3       ['adventure ', 'comedy ', 'crime ', 'romance']       1  train   \n",
       "4                                   ['comedy ', 'war']       1  train   \n",
       "...                                                ...     ...    ...   \n",
       "272254                        ['animation ', 'comedy']       0    val   \n",
       "272255               ['comedy ', 'crime ', 'thriller']       0    val   \n",
       "272256               ['action ', 'comedy ', 'musical']       0    val   \n",
       "272257                        ['mystery ', 'thriller']       0    val   \n",
       "272258                 ['crime ', 'drama ', 'mystery']       0    val   \n",
       "\n",
       "                                            hidden_states  \\\n",
       "0       [[tensor(0.0433), tensor(-0.4525), tensor(-0.9...   \n",
       "1       [[tensor(-0.0737), tensor(-0.4414), tensor(-1....   \n",
       "2       [[tensor(0.1260), tensor(-0.4831), tensor(-1.2...   \n",
       "3       [[tensor(-0.1080), tensor(-0.4961), tensor(-1....   \n",
       "4       [[tensor(0.3179), tensor(-0.2600), tensor(-0.9...   \n",
       "...                                                   ...   \n",
       "272254  [[tensor(-1.0330), tensor(0.3144), tensor(-0.5...   \n",
       "272255  [[tensor(-1.0966), tensor(0.9011), tensor(-0.3...   \n",
       "272256  [[tensor(-1.0801), tensor(0.1345), tensor(-0.3...   \n",
       "272257  [[tensor(-0.8209), tensor(0.9609), tensor(-0.5...   \n",
       "272258  [[tensor(-1.5189), tensor(1.0548), tensor(-0.4...   \n",
       "\n",
       "                                               attentions  \n",
       "0       [[[tensor(0.6167), tensor(0.2433)], [tensor(0....  \n",
       "1       [[[tensor(0.6005), tensor(0.2771)], [tensor(0....  \n",
       "2       [[[tensor(0.5491), tensor(0.2855)], [tensor(0....  \n",
       "3       [[[tensor(0.5437), tensor(0.2620)], [tensor(0....  \n",
       "4       [[[tensor(0.6132), tensor(0.2528)], [tensor(0....  \n",
       "...                                                   ...  \n",
       "272254  [[[tensor(0.9281), tensor(0.0470)], [tensor(0....  \n",
       "272255  [[[tensor(0.7357), tensor(0.3178)], [tensor(0....  \n",
       "272256  [[[tensor(0.8995), tensor(0.1729)], [tensor(0....  \n",
       "272257  [[[tensor(0.7075), tensor(0.1596)], [tensor(0....  \n",
       "272258  [[[tensor(0.5749), tensor(0.2930)], [tensor(0....  \n",
       "\n",
       "[272259 rows x 9 columns]"
      ]
     },
     "execution_count": 20,
     "metadata": {},
     "output_type": "execute_result"
    }
   ],
   "source": [
    "vanilla_bert_classifier.forward_dataset_and_save_outputs(dataset_vanilla_fixed, epochs=1)\n",
    "#prompt_bert_classifier.forward_dataset_and_save_outputs(dataset_prompt_fixed, epochs=1)\n",
    "#df = adding_embedding_bert_only_classifier.forward_dataset_and_save_outputs(dataset_adding_embedding_fixed, epochs=1)"
   ]
  }
 ],
 "metadata": {
  "kernelspec": {
   "display_name": "grundprojekt",
   "language": "python",
   "name": "python3"
  },
  "language_info": {
   "codemirror_mode": {
    "name": "ipython",
    "version": 3
   },
   "file_extension": ".py",
   "mimetype": "text/x-python",
   "name": "python",
   "nbconvert_exporter": "python",
   "pygments_lexer": "ipython3",
   "version": "3.12.4"
  }
 },
 "nbformat": 4,
 "nbformat_minor": 2
}
