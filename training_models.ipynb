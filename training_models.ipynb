{
 "cells": [
  {
   "cell_type": "markdown",
   "metadata": {},
   "source": [
    "# Training and Evaluation of GNNs and LLMs\n",
    "In this notebook, we train the models on the [MovieLens Dataset](https://movielens.org/) after the Pytorch Geometrics Tutorial on [Link Prediction](https://colab.research.google.com/drive/1xpzn1Nvai1ygd_P5Yambc_oe4VBPK_ZT?usp=sharing#scrollTo=vit8xKCiXAue).\n",
    "\n",
    "First we import all of our dependencies.\n",
    "\n",
    "The **GNNTrainer** manages and trains a GNN model. Its most important interfaces include\n",
    "**the constructor**, which defines the GNN architecture and loads the pre-trained GNN model if it is already on the hard disk,\n",
    "**the training method**, which initializes the training on the GNN model and\n",
    "**the get_embedding methods**, which represent the inference interface to the GNN model and return the corresponding embeddings in the dimension defined in the constructor for given user movie node pairs.\n",
    "\n",
    "**The MovieLensLoader** loads and manages the data sets. The most important tasks include **saving and (re)loading and transforming** the data sets.\n",
    "\n",
    "**PromptEncoderOnlyClassifier** and **VanillaEncoderOnlyClassifier** each manage a **prompt (model) LLM** and a **vanilla (model) LLM**. An EncoderOnlyClassifier (ClassifierBase) provides interfaces for training and testing an LLM model.\n",
    "PromptEncoder and VanillaEncoder differ from their DataCollectors. DataCollectors change the behavior of the models during training and testing and allow data points to be created at runtime. With the help of these collators, we **create non-existent edges on the fly**."
   ]
  },
  {
   "cell_type": "code",
   "execution_count": 1,
   "metadata": {},
   "outputs": [],
   "source": [
    "from gnn import GNNTrainer\n",
    "from movie_lens_loader import MovieLensLoader\n",
    "from llm import PromptBertClassifier, VanillaBertClassifier, AddingEmbeddingsBertClassifierBase\n",
    "\n",
    "from transformers import AutoConfig"
   ]
  },
  {
   "cell_type": "markdown",
   "metadata": {},
   "source": [
    "We define in advance which **Knowledge Graph Embedding Dimension (KGE_DIMENSION)** the GNN encoder has. We want to determine from which output dimension the GNN encoder can produce embeddings that lead to a significant increase in performance *without exceeding the context length of the LLMs*. In the original tutorial, the KGE_DIMENSION was $64$."
   ]
  },
  {
   "cell_type": "code",
   "execution_count": 2,
   "metadata": {},
   "outputs": [],
   "source": [
    "MODEL_NAME = \"google/bert_uncased_L-2_H-128_A-2\"\n",
    "MODEL_HIDDEN_SIZE = AutoConfig.from_pretrained(MODEL_NAME).hidden_size\n",
    "SMALL_KGE_DIMENSION = 4\n",
    "LARGE_KGE_DIMENSION = MODEL_HIDDEN_SIZE\n",
    "KGE_DIMENSIONS = [SMALL_KGE_DIMENSION, LARGE_KGE_DIMENSION] # Output Dimension of the GNN Encoder.\n",
    "EPOCHS = 20\n",
    "BATCH_SIZE = 256"
   ]
  },
  {
   "cell_type": "markdown",
   "metadata": {},
   "source": [
    "First we load the MovieLensLoader, which downloads the Movie Lens dataset (https://files.grouplens.org/datasets/movielens/ml-latest-small.zip) and prepares it to be used on GNN and LLM. We also pass the embedding dimensions that we will assume we are training with. First time takes approx. 30 sec."
   ]
  },
  {
   "cell_type": "code",
   "execution_count": 3,
   "metadata": {},
   "outputs": [],
   "source": [
    "\n",
    "movie_lens_loader = MovieLensLoader(kge_dimensions = KGE_DIMENSIONS)"
   ]
  },
  {
   "cell_type": "code",
   "execution_count": 4,
   "metadata": {},
   "outputs": [
    {
     "data": {
      "text/html": [
       "<div>\n",
       "<style scoped>\n",
       "    .dataframe tbody tr th:only-of-type {\n",
       "        vertical-align: middle;\n",
       "    }\n",
       "\n",
       "    .dataframe tbody tr th {\n",
       "        vertical-align: top;\n",
       "    }\n",
       "\n",
       "    .dataframe thead th {\n",
       "        text-align: right;\n",
       "    }\n",
       "</style>\n",
       "<table border=\"1\" class=\"dataframe\">\n",
       "  <thead>\n",
       "    <tr style=\"text-align: right;\">\n",
       "      <th></th>\n",
       "      <th>mappedUserId</th>\n",
       "      <th>mappedMovieId</th>\n",
       "      <th>title</th>\n",
       "      <th>genres</th>\n",
       "      <th>prompt</th>\n",
       "      <th>split</th>\n",
       "    </tr>\n",
       "  </thead>\n",
       "  <tbody>\n",
       "    <tr>\n",
       "      <th>0</th>\n",
       "      <td>0</td>\n",
       "      <td>0</td>\n",
       "      <td>Toy Story (1995)</td>\n",
       "      <td>['Adventure', 'Animation', 'Children', 'Comedy...</td>\n",
       "      <td>user: 0[SEP]title: Toy Story (1995)[SEP]genres...</td>\n",
       "      <td>val</td>\n",
       "    </tr>\n",
       "    <tr>\n",
       "      <th>1</th>\n",
       "      <td>0</td>\n",
       "      <td>2</td>\n",
       "      <td>Grumpier Old Men (1995)</td>\n",
       "      <td>['Comedy', 'Romance']</td>\n",
       "      <td>user: 0[SEP]title: Grumpier Old Men (1995)[SEP...</td>\n",
       "      <td>train</td>\n",
       "    </tr>\n",
       "    <tr>\n",
       "      <th>2</th>\n",
       "      <td>0</td>\n",
       "      <td>5</td>\n",
       "      <td>Heat (1995)</td>\n",
       "      <td>['Action', 'Crime', 'Thriller']</td>\n",
       "      <td>user: 0[SEP]title: Heat (1995)[SEP]genres: ['A...</td>\n",
       "      <td>train</td>\n",
       "    </tr>\n",
       "    <tr>\n",
       "      <th>3</th>\n",
       "      <td>0</td>\n",
       "      <td>43</td>\n",
       "      <td>Seven (a.k.a. Se7en) (1995)</td>\n",
       "      <td>['Mystery', 'Thriller']</td>\n",
       "      <td>user: 0[SEP]title: Seven (a.k.a. Se7en) (1995)...</td>\n",
       "      <td>train</td>\n",
       "    </tr>\n",
       "    <tr>\n",
       "      <th>4</th>\n",
       "      <td>0</td>\n",
       "      <td>46</td>\n",
       "      <td>Usual Suspects, The (1995)</td>\n",
       "      <td>['Crime', 'Mystery', 'Thriller']</td>\n",
       "      <td>user: 0[SEP]title: Usual Suspects, The (1995)[...</td>\n",
       "      <td>test</td>\n",
       "    </tr>\n",
       "  </tbody>\n",
       "</table>\n",
       "</div>"
      ],
      "text/plain": [
       "   mappedUserId  mappedMovieId                        title  \\\n",
       "0             0              0             Toy Story (1995)   \n",
       "1             0              2      Grumpier Old Men (1995)   \n",
       "2             0              5                  Heat (1995)   \n",
       "3             0             43  Seven (a.k.a. Se7en) (1995)   \n",
       "4             0             46   Usual Suspects, The (1995)   \n",
       "\n",
       "                                              genres  \\\n",
       "0  ['Adventure', 'Animation', 'Children', 'Comedy...   \n",
       "1                              ['Comedy', 'Romance']   \n",
       "2                    ['Action', 'Crime', 'Thriller']   \n",
       "3                            ['Mystery', 'Thriller']   \n",
       "4                   ['Crime', 'Mystery', 'Thriller']   \n",
       "\n",
       "                                              prompt  split  \n",
       "0  user: 0[SEP]title: Toy Story (1995)[SEP]genres...    val  \n",
       "1  user: 0[SEP]title: Grumpier Old Men (1995)[SEP...  train  \n",
       "2  user: 0[SEP]title: Heat (1995)[SEP]genres: ['A...  train  \n",
       "3  user: 0[SEP]title: Seven (a.k.a. Se7en) (1995)...  train  \n",
       "4  user: 0[SEP]title: Usual Suspects, The (1995)[...   test  "
      ]
     },
     "execution_count": 4,
     "metadata": {},
     "output_type": "execute_result"
    }
   ],
   "source": [
    "movie_lens_loader.llm_df.head()"
   ]
  },
  {
   "cell_type": "markdown",
   "metadata": {},
   "source": [
    "Next, we initialize the GNN trainers (possible on Cuda), one for each KGE_DIMENSION.\n",
    "A GNN trainer manages a model and each model consists of an **encoder and classifier** part.\n",
    "\n",
    "**The encoder** is a parameterized *Grap Convolutional Network (GCN)* with a *2-layer GNN computation graph* and a single *ReLU* activation function in between.\n",
    "\n",
    "**The classifier** applies the dot-product between source and destination kges to derive edge-level predictions."
   ]
  },
  {
   "cell_type": "code",
   "execution_count": 5,
   "metadata": {},
   "outputs": [
    {
     "name": "stdout",
     "output_type": "stream",
     "text": [
      "loading pretrained model\n",
      "Device: 'cpu'\n",
      "loading pretrained model\n",
      "Device: 'cpu'\n"
     ]
    }
   ],
   "source": [
    "gnn_trainer =    GNNTrainer(movie_lens_loader.data, kge_dimension = SMALL_KGE_DIMENSION)\n",
    "gnn_trainer_large = GNNTrainer(movie_lens_loader.data, hidden_channels=MODEL_HIDDEN_SIZE, kge_dimension=MODEL_HIDDEN_SIZE)"
   ]
  },
  {
   "cell_type": "markdown",
   "metadata": {},
   "source": [
    "We then train and validate the model on the link prediction task.\n",
    "\n",
    "If the model is already trained, we can skip this part.\n",
    "Training the models can take up to 5 minutes."
   ]
  },
  {
   "cell_type": "code",
   "execution_count": 6,
   "metadata": {},
   "outputs": [
    {
     "name": "stdout",
     "output_type": "stream",
     "text": [
      "4\n",
      "128\n"
     ]
    }
   ],
   "source": [
    "\n",
    "print(gnn_trainer.kge_dimension)\n",
    "#gnn_trainer.train_model(movie_lens_loader.gnn_train_data, EPOCHS)\n",
    "#gnn_trainer.validate_model(movie_lens_loader.gnn_test_data)\n",
    "print(gnn_trainer_large.kge_dimension)\n",
    "#gnn_trainer_large.train_model(movie_lens_loader.gnn_train_data, EPOCHS)\n",
    "#gnn_trainer_large.validate_model(movie_lens_loader.gnn_test_data)\n"
   ]
  },
  {
   "cell_type": "markdown",
   "metadata": {},
   "source": [
    "Next we produce the KGEs for every edge in the dataset. These embeddings can then be used for the LLM on the link-prediction task."
   ]
  },
  {
   "cell_type": "code",
   "execution_count": 7,
   "metadata": {},
   "outputs": [
    {
     "data": {
      "text/html": [
       "<div>\n",
       "<style scoped>\n",
       "    .dataframe tbody tr th:only-of-type {\n",
       "        vertical-align: middle;\n",
       "    }\n",
       "\n",
       "    .dataframe tbody tr th {\n",
       "        vertical-align: top;\n",
       "    }\n",
       "\n",
       "    .dataframe thead th {\n",
       "        text-align: right;\n",
       "    }\n",
       "</style>\n",
       "<table border=\"1\" class=\"dataframe\">\n",
       "  <thead>\n",
       "    <tr style=\"text-align: right;\">\n",
       "      <th></th>\n",
       "      <th>mappedUserId</th>\n",
       "      <th>mappedMovieId</th>\n",
       "      <th>title</th>\n",
       "      <th>genres</th>\n",
       "      <th>prompt</th>\n",
       "      <th>split</th>\n",
       "      <th>user_embedding_4</th>\n",
       "      <th>movie_embedding_4</th>\n",
       "      <th>user_embedding_128</th>\n",
       "      <th>movie_embedding_128</th>\n",
       "    </tr>\n",
       "  </thead>\n",
       "  <tbody>\n",
       "    <tr>\n",
       "      <th>0</th>\n",
       "      <td>0</td>\n",
       "      <td>0</td>\n",
       "      <td>Toy Story (1995)</td>\n",
       "      <td>['Adventure', 'Animation', 'Children', 'Comedy...</td>\n",
       "      <td>user: 0[SEP]title: Toy Story (1995)[SEP]genres...</td>\n",
       "      <td>val</td>\n",
       "      <td>[-1.1815502643585205, 1.967491865158081, 1.330...</td>\n",
       "      <td>[-0.4464290738105774, 0.6415067911148071, 1.57...</td>\n",
       "      <td>[0.07740482687950134, -0.7918119430541992, -0....</td>\n",
       "      <td>[0.17317555844783783, -0.26109546422958374, -0...</td>\n",
       "    </tr>\n",
       "    <tr>\n",
       "      <th>1</th>\n",
       "      <td>0</td>\n",
       "      <td>2</td>\n",
       "      <td>Grumpier Old Men (1995)</td>\n",
       "      <td>['Comedy', 'Romance']</td>\n",
       "      <td>user: 0[SEP]title: Grumpier Old Men (1995)[SEP...</td>\n",
       "      <td>train</td>\n",
       "      <td>[-1.571462631225586, 2.0026934146881104, 1.266...</td>\n",
       "      <td>[0.22539174556732178, 0.17622840404510498, 2.0...</td>\n",
       "      <td>[0.22581057250499725, -0.958337128162384, -0.0...</td>\n",
       "      <td>[0.38612648844718933, 0.47033774852752686, -0....</td>\n",
       "    </tr>\n",
       "    <tr>\n",
       "      <th>2</th>\n",
       "      <td>0</td>\n",
       "      <td>5</td>\n",
       "      <td>Heat (1995)</td>\n",
       "      <td>['Action', 'Crime', 'Thriller']</td>\n",
       "      <td>user: 0[SEP]title: Heat (1995)[SEP]genres: ['A...</td>\n",
       "      <td>train</td>\n",
       "      <td>[-0.9970571994781494, 1.9963066577911377, 1.26...</td>\n",
       "      <td>[-0.07397547364234924, -0.20919907093048096, 2...</td>\n",
       "      <td>[0.044068194925785065, -0.8816429376602173, -0...</td>\n",
       "      <td>[-0.060755714774131775, 0.32998985052108765, -...</td>\n",
       "    </tr>\n",
       "    <tr>\n",
       "      <th>3</th>\n",
       "      <td>0</td>\n",
       "      <td>43</td>\n",
       "      <td>Seven (a.k.a. Se7en) (1995)</td>\n",
       "      <td>['Mystery', 'Thriller']</td>\n",
       "      <td>user: 0[SEP]title: Seven (a.k.a. Se7en) (1995)...</td>\n",
       "      <td>train</td>\n",
       "      <td>[-0.9177595973014832, 2.1703622341156006, 1.22...</td>\n",
       "      <td>[-1.090133786201477, 0.09436404705047607, 1.98...</td>\n",
       "      <td>[0.06730379909276962, -1.0015345811843872, -0....</td>\n",
       "      <td>[0.20294731855392456, 0.1033535748720169, -0.3...</td>\n",
       "    </tr>\n",
       "    <tr>\n",
       "      <th>4</th>\n",
       "      <td>0</td>\n",
       "      <td>46</td>\n",
       "      <td>Usual Suspects, The (1995)</td>\n",
       "      <td>['Crime', 'Mystery', 'Thriller']</td>\n",
       "      <td>user: 0[SEP]title: Usual Suspects, The (1995)[...</td>\n",
       "      <td>test</td>\n",
       "      <td>[-0.6725887656211853, 2.437504768371582, 1.153...</td>\n",
       "      <td>[-1.158760905265808, 0.5077576637268066, 1.141...</td>\n",
       "      <td>[0.06638426333665848, -0.9026688933372498, -0....</td>\n",
       "      <td>[0.21229048073291779, 0.33715885877609253, -0....</td>\n",
       "    </tr>\n",
       "  </tbody>\n",
       "</table>\n",
       "</div>"
      ],
      "text/plain": [
       "   mappedUserId  mappedMovieId                        title  \\\n",
       "0             0              0             Toy Story (1995)   \n",
       "1             0              2      Grumpier Old Men (1995)   \n",
       "2             0              5                  Heat (1995)   \n",
       "3             0             43  Seven (a.k.a. Se7en) (1995)   \n",
       "4             0             46   Usual Suspects, The (1995)   \n",
       "\n",
       "                                              genres  \\\n",
       "0  ['Adventure', 'Animation', 'Children', 'Comedy...   \n",
       "1                              ['Comedy', 'Romance']   \n",
       "2                    ['Action', 'Crime', 'Thriller']   \n",
       "3                            ['Mystery', 'Thriller']   \n",
       "4                   ['Crime', 'Mystery', 'Thriller']   \n",
       "\n",
       "                                              prompt  split  \\\n",
       "0  user: 0[SEP]title: Toy Story (1995)[SEP]genres...    val   \n",
       "1  user: 0[SEP]title: Grumpier Old Men (1995)[SEP...  train   \n",
       "2  user: 0[SEP]title: Heat (1995)[SEP]genres: ['A...  train   \n",
       "3  user: 0[SEP]title: Seven (a.k.a. Se7en) (1995)...  train   \n",
       "4  user: 0[SEP]title: Usual Suspects, The (1995)[...   test   \n",
       "\n",
       "                                    user_embedding_4  \\\n",
       "0  [-1.1815502643585205, 1.967491865158081, 1.330...   \n",
       "1  [-1.571462631225586, 2.0026934146881104, 1.266...   \n",
       "2  [-0.9970571994781494, 1.9963066577911377, 1.26...   \n",
       "3  [-0.9177595973014832, 2.1703622341156006, 1.22...   \n",
       "4  [-0.6725887656211853, 2.437504768371582, 1.153...   \n",
       "\n",
       "                                   movie_embedding_4  \\\n",
       "0  [-0.4464290738105774, 0.6415067911148071, 1.57...   \n",
       "1  [0.22539174556732178, 0.17622840404510498, 2.0...   \n",
       "2  [-0.07397547364234924, -0.20919907093048096, 2...   \n",
       "3  [-1.090133786201477, 0.09436404705047607, 1.98...   \n",
       "4  [-1.158760905265808, 0.5077576637268066, 1.141...   \n",
       "\n",
       "                                  user_embedding_128  \\\n",
       "0  [0.07740482687950134, -0.7918119430541992, -0....   \n",
       "1  [0.22581057250499725, -0.958337128162384, -0.0...   \n",
       "2  [0.044068194925785065, -0.8816429376602173, -0...   \n",
       "3  [0.06730379909276962, -1.0015345811843872, -0....   \n",
       "4  [0.06638426333665848, -0.9026688933372498, -0....   \n",
       "\n",
       "                                 movie_embedding_128  \n",
       "0  [0.17317555844783783, -0.26109546422958374, -0...  \n",
       "1  [0.38612648844718933, 0.47033774852752686, -0....  \n",
       "2  [-0.060755714774131775, 0.32998985052108765, -...  \n",
       "3  [0.20294731855392456, 0.1033535748720169, -0.3...  \n",
       "4  [0.21229048073291779, 0.33715885877609253, -0....  "
      ]
     },
     "execution_count": 7,
     "metadata": {},
     "output_type": "execute_result"
    }
   ],
   "source": [
    "gnn_trainer.get_embeddings(movie_lens_loader)\n",
    "gnn_trainer_large.get_embeddings(movie_lens_loader)\n",
    "movie_lens_loader.llm_df.head()"
   ]
  },
  {
   "cell_type": "markdown",
   "metadata": {},
   "source": [
    "Next we initialize the vanilla encoder only classifier. This classifier does only use the NLP part of the prompt (no KGE) for predicting if the given link exists."
   ]
  },
  {
   "cell_type": "code",
   "execution_count": 8,
   "metadata": {},
   "outputs": [],
   "source": [
    "vanilla_bert_classifier = VanillaBertClassifier(movie_lens_loader.llm_df, batch_size=BATCH_SIZE, model_name=MODEL_NAME)"
   ]
  },
  {
   "cell_type": "markdown",
   "metadata": {},
   "source": [
    "Next we generate a vanilla llm dataset and tokenize it for training."
   ]
  },
  {
   "cell_type": "code",
   "execution_count": 9,
   "metadata": {},
   "outputs": [],
   "source": [
    "dataset_vanilla = movie_lens_loader.generate_vanilla_dataset(vanilla_bert_classifier.tokenize_function)"
   ]
  },
  {
   "cell_type": "markdown",
   "metadata": {},
   "source": [
    "Next we train the model on the produced dataset. This can be skipped, if already trained ones."
   ]
  },
  {
   "cell_type": "code",
   "execution_count": 10,
   "metadata": {},
   "outputs": [],
   "source": [
    "#vanilla_bert_classifier.train_model_on_data(dataset_vanilla, epochs=EPOCHS)"
   ]
  },
  {
   "cell_type": "markdown",
   "metadata": {},
   "source": [
    "Next we initialize the prompt encoder only classifier. This classifier uses the vanilla prompt and the KGEs for its link prediction."
   ]
  },
  {
   "cell_type": "code",
   "execution_count": 11,
   "metadata": {},
   "outputs": [
    {
     "name": "stderr",
     "output_type": "stream",
     "text": [
      "Some weights of BertForSequenceClassification were not initialized from the model checkpoint at google/bert_uncased_L-2_H-128_A-2 and are newly initialized: ['classifier.bias', 'classifier.weight']\n",
      "You should probably TRAIN this model on a down-stream task to be able to use it for predictions and inference.\n"
     ]
    }
   ],
   "source": [
    "prompt_bert_classifier = PromptBertClassifier(movie_lens_loader, gnn_trainer.get_embedding, kge_dimension=SMALL_KGE_DIMENSION, batch_size=BATCH_SIZE, model_max_length = 512, model_name=MODEL_NAME, force_recompute=True)"
   ]
  },
  {
   "cell_type": "markdown",
   "metadata": {},
   "source": [
    "We also generate a prompt dataset, this time the prompts also include the KGEs."
   ]
  },
  {
   "cell_type": "code",
   "execution_count": 12,
   "metadata": {},
   "outputs": [],
   "source": [
    "dataset_prompt = movie_lens_loader.generate_prompt_embedding_dataset(prompt_bert_classifier.tokenize_function, kge_dimension = prompt_bert_classifier.kge_dimension)"
   ]
  },
  {
   "cell_type": "markdown",
   "metadata": {},
   "source": [
    "We also train the model. This can be skipped if already done ones."
   ]
  },
  {
   "cell_type": "code",
   "execution_count": 13,
   "metadata": {},
   "outputs": [],
   "source": [
    "#prompt_bert_classifier.train_model_on_data(dataset_prompt, epochs = EPOCHS)"
   ]
  },
  {
   "cell_type": "code",
   "execution_count": 14,
   "metadata": {},
   "outputs": [],
   "source": [
    "adding_embedding_bert_only_classifier = AddingEmbeddingsBertClassifierBase(movie_lens_loader, gnn_trainer_large.get_embedding, kge_dimension=MODEL_HIDDEN_SIZE, batch_size=BATCH_SIZE, model_name=MODEL_NAME)\n",
    "dataset_adding_embedding = movie_lens_loader.generate_adding_embedding_dataset(adding_embedding_bert_only_classifier.tokenizer.sep_token, adding_embedding_bert_only_classifier.tokenizer.pad_token, adding_embedding_bert_only_classifier.tokenize_function, kge_dimension = MODEL_HIDDEN_SIZE)"
   ]
  },
  {
   "cell_type": "code",
   "execution_count": 15,
   "metadata": {},
   "outputs": [],
   "source": [
    "#adding_embedding_bert_only_classifier.train_model_on_data(dataset_adding_embedding, epochs = EPOCHS)"
   ]
  },
  {
   "cell_type": "code",
   "execution_count": 16,
   "metadata": {},
   "outputs": [
    {
     "name": "stderr",
     "output_type": "stream",
     "text": [
      "BertSdpaSelfAttention is used but `torch.nn.functional.scaled_dot_product_attention` does not support non-absolute `position_embedding_type` or `output_attentions=True` or `head_mask`. Falling back to the manual attention implementation, but specifying the manual implementation will be required from Transformers version v5.0.0 onwards. This warning can be removed using the argument `attn_implementation=\"eager\"` when loading the model.\n"
     ]
    },
    {
     "data": {
      "text/html": [
       "<div>\n",
       "<style scoped>\n",
       "    .dataframe tbody tr th:only-of-type {\n",
       "        vertical-align: middle;\n",
       "    }\n",
       "\n",
       "    .dataframe tbody tr th {\n",
       "        vertical-align: top;\n",
       "    }\n",
       "\n",
       "    .dataframe thead th {\n",
       "        text-align: right;\n",
       "    }\n",
       "</style>\n",
       "<table border=\"1\" class=\"dataframe\">\n",
       "  <thead>\n",
       "    <tr style=\"text-align: right;\">\n",
       "      <th></th>\n",
       "      <th>user_id</th>\n",
       "      <th>title</th>\n",
       "      <th>genres</th>\n",
       "      <th>labels</th>\n",
       "      <th>split</th>\n",
       "      <th>hidden_states</th>\n",
       "      <th>attentions</th>\n",
       "      <th>graph_embeddings</th>\n",
       "    </tr>\n",
       "  </thead>\n",
       "  <tbody>\n",
       "    <tr>\n",
       "      <th>0</th>\n",
       "      <td>392</td>\n",
       "      <td>gonzo : the life and work of dr. hunter s. tho...</td>\n",
       "      <td>[documentary]</td>\n",
       "      <td>0</td>\n",
       "      <td>val</td>\n",
       "      <td>[[tensor(-0.8975), tensor(1.1486), tensor(-0.3...</td>\n",
       "      <td>[[[tensor(0.1124), tensor(0.1160)], [tensor(0....</td>\n",
       "      <td>[[tensor(0.1376), tensor(-0.9951), tensor(0.34...</td>\n",
       "    </tr>\n",
       "    <tr>\n",
       "      <th>1</th>\n",
       "      <td>245</td>\n",
       "      <td>very brady sequel, a ( 1996 )</td>\n",
       "      <td>[comedy]</td>\n",
       "      <td>0</td>\n",
       "      <td>val</td>\n",
       "      <td>[[tensor(-0.4546), tensor(0.7260), tensor(-0.3...</td>\n",
       "      <td>[[[tensor(0.1006), tensor(0.0869)], [tensor(0....</td>\n",
       "      <td>[[tensor(-0.0096), tensor(-0.6238), tensor(0.2...</td>\n",
       "    </tr>\n",
       "    <tr>\n",
       "      <th>2</th>\n",
       "      <td>0</td>\n",
       "      <td>dumb &amp; dumber ( dumb and dumber ) ( 1994 )</td>\n",
       "      <td>[adventure , comedy]</td>\n",
       "      <td>1</td>\n",
       "      <td>val</td>\n",
       "      <td>[[tensor(0.2223), tensor(0.6985), tensor(-0.40...</td>\n",
       "      <td>[[[tensor(0.1754), tensor(0.1472)], [tensor(0....</td>\n",
       "      <td>[[tensor(0.1465), tensor(-0.9264), tensor(-0.2...</td>\n",
       "    </tr>\n",
       "    <tr>\n",
       "      <th>3</th>\n",
       "      <td>411</td>\n",
       "      <td>death wish 5 : the face of death ( 1994 )</td>\n",
       "      <td>[action , drama]</td>\n",
       "      <td>0</td>\n",
       "      <td>val</td>\n",
       "      <td>[[tensor(-0.6065), tensor(0.9631), tensor(-0.4...</td>\n",
       "      <td>[[[tensor(0.0805), tensor(0.0988)], [tensor(0....</td>\n",
       "      <td>[[tensor(-0.1855), tensor(-0.0592), tensor(-0....</td>\n",
       "    </tr>\n",
       "    <tr>\n",
       "      <th>4</th>\n",
       "      <td>513</td>\n",
       "      <td>washington square ( 1997 )</td>\n",
       "      <td>[drama]</td>\n",
       "      <td>0</td>\n",
       "      <td>val</td>\n",
       "      <td>[[tensor(-1.1391), tensor(1.0823), tensor(-0.2...</td>\n",
       "      <td>[[[tensor(0.0626), tensor(0.0691)], [tensor(0....</td>\n",
       "      <td>[[tensor(0.1202), tensor(-0.5565), tensor(0.79...</td>\n",
       "    </tr>\n",
       "    <tr>\n",
       "      <th>...</th>\n",
       "      <td>...</td>\n",
       "      <td>...</td>\n",
       "      <td>...</td>\n",
       "      <td>...</td>\n",
       "      <td>...</td>\n",
       "      <td>...</td>\n",
       "      <td>...</td>\n",
       "      <td>...</td>\n",
       "    </tr>\n",
       "    <tr>\n",
       "      <th>187</th>\n",
       "      <td>546</td>\n",
       "      <td>heidi ( 1937 )</td>\n",
       "      <td>[children , drama]</td>\n",
       "      <td>0</td>\n",
       "      <td>val</td>\n",
       "      <td>[[tensor(-0.9938), tensor(1.1621), tensor(-0.3...</td>\n",
       "      <td>[[[tensor(0.0075), tensor(0.0085)], [tensor(0....</td>\n",
       "      <td>[[tensor(-0.3378), tensor(-1.2377), tensor(0.7...</td>\n",
       "    </tr>\n",
       "    <tr>\n",
       "      <th>188</th>\n",
       "      <td>3</td>\n",
       "      <td>princess bride, the ( 1987 )</td>\n",
       "      <td>[action , adventure , comedy , fantasy , romance]</td>\n",
       "      <td>1</td>\n",
       "      <td>val</td>\n",
       "      <td>[[tensor(-0.2865), tensor(0.9831), tensor(-0.3...</td>\n",
       "      <td>[[[tensor(0.0081), tensor(0.0190)], [tensor(0....</td>\n",
       "      <td>[[tensor(0.2737), tensor(-0.1868), tensor(-0.3...</td>\n",
       "    </tr>\n",
       "    <tr>\n",
       "      <th>189</th>\n",
       "      <td>317</td>\n",
       "      <td>wal - mart : the high cost of low price ( 2005 )</td>\n",
       "      <td>[documentary]</td>\n",
       "      <td>0</td>\n",
       "      <td>val</td>\n",
       "      <td>[[tensor(-1.1251), tensor(1.5771), tensor(-0.4...</td>\n",
       "      <td>[[[tensor(0.0079), tensor(0.0084)], [tensor(0....</td>\n",
       "      <td>[[tensor(0.5799), tensor(0.0635), tensor(-0.10...</td>\n",
       "    </tr>\n",
       "    <tr>\n",
       "      <th>190</th>\n",
       "      <td>319</td>\n",
       "      <td>strange days ( 1995 )</td>\n",
       "      <td>[action , crime , drama , mystery , sci - fi ,...</td>\n",
       "      <td>0</td>\n",
       "      <td>val</td>\n",
       "      <td>[[tensor(-0.9166), tensor(0.7996), tensor(-0.4...</td>\n",
       "      <td>[[[tensor(0.0080), tensor(0.0153)], [tensor(0....</td>\n",
       "      <td>[[tensor(-0.0205), tensor(-0.6738), tensor(0.2...</td>\n",
       "    </tr>\n",
       "    <tr>\n",
       "      <th>191</th>\n",
       "      <td>3</td>\n",
       "      <td>austin powers : international man of mystery (...</td>\n",
       "      <td>[action , adventure , comedy]</td>\n",
       "      <td>1</td>\n",
       "      <td>val</td>\n",
       "      <td>[[tensor(-0.4049), tensor(0.9563), tensor(-0.2...</td>\n",
       "      <td>[[[tensor(0.0058), tensor(0.0093)], [tensor(0....</td>\n",
       "      <td>[[tensor(0.3312), tensor(-0.0807), tensor(-0.5...</td>\n",
       "    </tr>\n",
       "  </tbody>\n",
       "</table>\n",
       "<p>192 rows × 8 columns</p>\n",
       "</div>"
      ],
      "text/plain": [
       "     user_id                                              title  \\\n",
       "0        392  gonzo : the life and work of dr. hunter s. tho...   \n",
       "1        245                      very brady sequel, a ( 1996 )   \n",
       "2          0         dumb & dumber ( dumb and dumber ) ( 1994 )   \n",
       "3        411          death wish 5 : the face of death ( 1994 )   \n",
       "4        513                         washington square ( 1997 )   \n",
       "..       ...                                                ...   \n",
       "187      546                                     heidi ( 1937 )   \n",
       "188        3                       princess bride, the ( 1987 )   \n",
       "189      317   wal - mart : the high cost of low price ( 2005 )   \n",
       "190      319                              strange days ( 1995 )   \n",
       "191        3  austin powers : international man of mystery (...   \n",
       "\n",
       "                                                genres  labels split  \\\n",
       "0                                        [documentary]       0   val   \n",
       "1                                             [comedy]       0   val   \n",
       "2                                 [adventure , comedy]       1   val   \n",
       "3                                     [action , drama]       0   val   \n",
       "4                                              [drama]       0   val   \n",
       "..                                                 ...     ...   ...   \n",
       "187                                 [children , drama]       0   val   \n",
       "188  [action , adventure , comedy , fantasy , romance]       1   val   \n",
       "189                                      [documentary]       0   val   \n",
       "190  [action , crime , drama , mystery , sci - fi ,...       0   val   \n",
       "191                      [action , adventure , comedy]       1   val   \n",
       "\n",
       "                                         hidden_states  \\\n",
       "0    [[tensor(-0.8975), tensor(1.1486), tensor(-0.3...   \n",
       "1    [[tensor(-0.4546), tensor(0.7260), tensor(-0.3...   \n",
       "2    [[tensor(0.2223), tensor(0.6985), tensor(-0.40...   \n",
       "3    [[tensor(-0.6065), tensor(0.9631), tensor(-0.4...   \n",
       "4    [[tensor(-1.1391), tensor(1.0823), tensor(-0.2...   \n",
       "..                                                 ...   \n",
       "187  [[tensor(-0.9938), tensor(1.1621), tensor(-0.3...   \n",
       "188  [[tensor(-0.2865), tensor(0.9831), tensor(-0.3...   \n",
       "189  [[tensor(-1.1251), tensor(1.5771), tensor(-0.4...   \n",
       "190  [[tensor(-0.9166), tensor(0.7996), tensor(-0.4...   \n",
       "191  [[tensor(-0.4049), tensor(0.9563), tensor(-0.2...   \n",
       "\n",
       "                                            attentions  \\\n",
       "0    [[[tensor(0.1124), tensor(0.1160)], [tensor(0....   \n",
       "1    [[[tensor(0.1006), tensor(0.0869)], [tensor(0....   \n",
       "2    [[[tensor(0.1754), tensor(0.1472)], [tensor(0....   \n",
       "3    [[[tensor(0.0805), tensor(0.0988)], [tensor(0....   \n",
       "4    [[[tensor(0.0626), tensor(0.0691)], [tensor(0....   \n",
       "..                                                 ...   \n",
       "187  [[[tensor(0.0075), tensor(0.0085)], [tensor(0....   \n",
       "188  [[[tensor(0.0081), tensor(0.0190)], [tensor(0....   \n",
       "189  [[[tensor(0.0079), tensor(0.0084)], [tensor(0....   \n",
       "190  [[[tensor(0.0080), tensor(0.0153)], [tensor(0....   \n",
       "191  [[[tensor(0.0058), tensor(0.0093)], [tensor(0....   \n",
       "\n",
       "                                      graph_embeddings  \n",
       "0    [[tensor(0.1376), tensor(-0.9951), tensor(0.34...  \n",
       "1    [[tensor(-0.0096), tensor(-0.6238), tensor(0.2...  \n",
       "2    [[tensor(0.1465), tensor(-0.9264), tensor(-0.2...  \n",
       "3    [[tensor(-0.1855), tensor(-0.0592), tensor(-0....  \n",
       "4    [[tensor(0.1202), tensor(-0.5565), tensor(0.79...  \n",
       "..                                                 ...  \n",
       "187  [[tensor(-0.3378), tensor(-1.2377), tensor(0.7...  \n",
       "188  [[tensor(0.2737), tensor(-0.1868), tensor(-0.3...  \n",
       "189  [[tensor(0.5799), tensor(0.0635), tensor(-0.10...  \n",
       "190  [[tensor(-0.0205), tensor(-0.6738), tensor(0.2...  \n",
       "191  [[tensor(0.3312), tensor(-0.0807), tensor(-0.5...  \n",
       "\n",
       "[192 rows x 8 columns]"
      ]
     },
     "execution_count": 16,
     "metadata": {},
     "output_type": "execute_result"
    }
   ],
   "source": [
    "vanilla_bert_classifier.forward_dataset_and_save_outputs(dataset_vanilla, force_recompute = True)\n",
    "prompt_bert_classifier.forward_dataset_and_save_outputs(dataset_prompt, force_recompute = True)\n",
    "adding_embedding_bert_only_classifier.forward_dataset_and_save_outputs(dataset_adding_embedding, force_recompute = True)"
   ]
  }
 ],
 "metadata": {
  "kernelspec": {
   "display_name": "grundprojekt",
   "language": "python",
   "name": "python3"
  },
  "language_info": {
   "codemirror_mode": {
    "name": "ipython",
    "version": 3
   },
   "file_extension": ".py",
   "mimetype": "text/x-python",
   "name": "python",
   "nbconvert_exporter": "python",
   "pygments_lexer": "ipython3",
   "version": "3.12.4"
  }
 },
 "nbformat": 4,
 "nbformat_minor": 2
}
