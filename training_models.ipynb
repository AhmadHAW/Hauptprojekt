{
 "cells": [
  {
   "cell_type": "markdown",
   "metadata": {},
   "source": [
    "# Training and Evaluation of GNNs and LLMs\n",
    "In this notebook, we train the models on the [MovieLens Dataset](https://movielens.org/) after the Pytorch Geometrics Tutorial on [Link Prediction](https://colab.research.google.com/drive/1xpzn1Nvai1ygd_P5Yambc_oe4VBPK_ZT?usp=sharing#scrollTo=vit8xKCiXAue).\n",
    "\n",
    "First we import all of our dependencies.\n",
    "\n",
    "The **GNNTrainer** manages and trains a GNN model. Its most important interfaces include\n",
    "**the constructor**, which defines the GNN architecture and loads the pre-trained GNN model if it is already on the hard disk,\n",
    "**the training method**, which initializes the training on the GNN model and\n",
    "**the get_embedding methods**, which represent the inference interface to the GNN model and return the corresponding embeddings in the dimension defined in the constructor for given user movie node pairs.\n",
    "\n",
    "**The MovieLensLoader** loads and manages the data sets. The most important tasks include **saving and (re)loading and transforming** the data sets.\n",
    "\n",
    "**PromptEncoderOnlyClassifier** and **VanillaEncoderOnlyClassifier** each manage a **prompt (model) LLM** and a **vanilla (model) LLM**. An EncoderOnlyClassifier (ClassifierBase) provides interfaces for training and testing an LLM model.\n",
    "PromptEncoder and VanillaEncoder differ from their DataCollectors. DataCollectors change the behavior of the models during training and testing and allow data points to be created at runtime. With the help of these collators, we **create non-existent edges on the fly**."
   ]
  },
  {
   "cell_type": "code",
   "execution_count": 1,
   "metadata": {},
   "outputs": [],
   "source": [
    "from gnn import GNNTrainer\n",
    "from movie_lens_loader import MovieLensLoader\n",
    "from llm import PromptBertClassifier, VanillaBertClassifier, AddingEmbeddingsBertClassifierBase\n",
    "\n",
    "from transformers import AutoConfig"
   ]
  },
  {
   "cell_type": "markdown",
   "metadata": {},
   "source": [
    "We define in advance which **Knowledge Graph Embedding Dimension (KGE_DIMENSION)** the GNN encoder has. We want to determine from which output dimension the GNN encoder can produce embeddings that lead to a significant increase in performance *without exceeding the context length of the LLMs*. In the original tutorial, the KGE_DIMENSION was $64$."
   ]
  },
  {
   "cell_type": "code",
   "execution_count": 2,
   "metadata": {},
   "outputs": [],
   "source": [
    "MODEL_NAME = \"google/bert_uncased_L-2_H-128_A-2\"\n",
    "MODEL_HIDDEN_SIZE = AutoConfig.from_pretrained(MODEL_NAME).hidden_size\n",
    "KGE_DIMENSIONS = [4] # Output Dimension of the GNN Encoder.\n",
    "EPOCHS = 20\n",
    "BATCH_SIZE = 256"
   ]
  },
  {
   "cell_type": "markdown",
   "metadata": {},
   "source": [
    "First we load the MovieLensLoader, which downloads the Movie Lens dataset (https://files.grouplens.org/datasets/movielens/ml-latest-small.zip) and prepares it to be used on GNN and LLM. We also pass the embedding dimensions that we will assume we are training with. First time takes approx. 30 sec."
   ]
  },
  {
   "cell_type": "code",
   "execution_count": 3,
   "metadata": {},
   "outputs": [],
   "source": [
    "\n",
    "movie_lens_loader = MovieLensLoader(kge_dimensions = KGE_DIMENSIONS)"
   ]
  },
  {
   "cell_type": "code",
   "execution_count": 4,
   "metadata": {},
   "outputs": [
    {
     "data": {
      "text/html": [
       "<div>\n",
       "<style scoped>\n",
       "    .dataframe tbody tr th:only-of-type {\n",
       "        vertical-align: middle;\n",
       "    }\n",
       "\n",
       "    .dataframe tbody tr th {\n",
       "        vertical-align: top;\n",
       "    }\n",
       "\n",
       "    .dataframe thead th {\n",
       "        text-align: right;\n",
       "    }\n",
       "</style>\n",
       "<table border=\"1\" class=\"dataframe\">\n",
       "  <thead>\n",
       "    <tr style=\"text-align: right;\">\n",
       "      <th></th>\n",
       "      <th>mappedUserId</th>\n",
       "      <th>mappedMovieId</th>\n",
       "      <th>title</th>\n",
       "      <th>genres</th>\n",
       "      <th>prompt</th>\n",
       "      <th>split</th>\n",
       "      <th>user_embedding_4</th>\n",
       "      <th>movie_embedding_4</th>\n",
       "      <th>user_embedding_128</th>\n",
       "      <th>movie_embedding_128</th>\n",
       "    </tr>\n",
       "  </thead>\n",
       "  <tbody>\n",
       "    <tr>\n",
       "      <th>0</th>\n",
       "      <td>0</td>\n",
       "      <td>0</td>\n",
       "      <td>Toy Story (1995)</td>\n",
       "      <td>['Adventure', 'Animation', 'Children', 'Comedy...</td>\n",
       "      <td>user: 0, title: Toy Story (1995), genres: ['Ad...</td>\n",
       "      <td>train</td>\n",
       "      <td>[-0.03827861696481705, -2.2619593143463135, 2....</td>\n",
       "      <td>[-0.550093412399292, -0.8870471119880676, 0.99...</td>\n",
       "      <td>[-0.20877254009246826, 0.7261011004447937, -0....</td>\n",
       "      <td>[-0.23873792588710785, 0.15261110663414001, -0...</td>\n",
       "    </tr>\n",
       "    <tr>\n",
       "      <th>1</th>\n",
       "      <td>0</td>\n",
       "      <td>2</td>\n",
       "      <td>Grumpier Old Men (1995)</td>\n",
       "      <td>['Comedy', 'Romance']</td>\n",
       "      <td>user: 0, title: Grumpier Old Men (1995), genre...</td>\n",
       "      <td>rest</td>\n",
       "      <td>[0.33092743158340454, -2.609788417816162, 2.80...</td>\n",
       "      <td>[-0.14393314719200134, -1.0467438697814941, -0...</td>\n",
       "      <td>[-0.3288712799549103, 0.7533886432647705, -0.2...</td>\n",
       "      <td>[-0.601038932800293, -0.014170907437801361, -0...</td>\n",
       "    </tr>\n",
       "    <tr>\n",
       "      <th>2</th>\n",
       "      <td>0</td>\n",
       "      <td>5</td>\n",
       "      <td>Heat (1995)</td>\n",
       "      <td>['Action', 'Crime', 'Thriller']</td>\n",
       "      <td>user: 0, title: Heat (1995), genres: ['Action'...</td>\n",
       "      <td>val</td>\n",
       "      <td>[0.26843586564064026, -2.6071953773498535, 2.8...</td>\n",
       "      <td>[-0.5415042638778687, -0.8318737745285034, 0.6...</td>\n",
       "      <td>[-0.26235586404800415, 0.8743588328361511, -0....</td>\n",
       "      <td>[-0.00794781744480133, -0.03061569482088089, 0...</td>\n",
       "    </tr>\n",
       "    <tr>\n",
       "      <th>3</th>\n",
       "      <td>0</td>\n",
       "      <td>43</td>\n",
       "      <td>Seven (a.k.a. Se7en) (1995)</td>\n",
       "      <td>['Mystery', 'Thriller']</td>\n",
       "      <td>user: 0, title: Seven (a.k.a. Se7en) (1995), g...</td>\n",
       "      <td>train</td>\n",
       "      <td>[0.18218860030174255, -2.3380637168884277, 2.7...</td>\n",
       "      <td>[-0.9858976602554321, -0.801932692527771, 0.80...</td>\n",
       "      <td>[-0.23487024009227753, 0.6445444226264954, -0....</td>\n",
       "      <td>[0.23825839161872864, 0.006370842456817627, -0...</td>\n",
       "    </tr>\n",
       "    <tr>\n",
       "      <th>4</th>\n",
       "      <td>0</td>\n",
       "      <td>46</td>\n",
       "      <td>Usual Suspects, The (1995)</td>\n",
       "      <td>['Crime', 'Mystery', 'Thriller']</td>\n",
       "      <td>user: 0, title: Usual Suspects, The (1995), ge...</td>\n",
       "      <td>test</td>\n",
       "      <td>[0.09569544345140457, -1.986099123954773, 3.03...</td>\n",
       "      <td>[-0.865667998790741, -0.9774402976036072, 0.52...</td>\n",
       "      <td>[-0.1536864936351776, 0.8239970803260803, -0.3...</td>\n",
       "      <td>[0.16465282440185547, 0.09803374111652374, -0....</td>\n",
       "    </tr>\n",
       "  </tbody>\n",
       "</table>\n",
       "</div>"
      ],
      "text/plain": [
       "   mappedUserId  mappedMovieId                        title  \\\n",
       "0             0              0             Toy Story (1995)   \n",
       "1             0              2      Grumpier Old Men (1995)   \n",
       "2             0              5                  Heat (1995)   \n",
       "3             0             43  Seven (a.k.a. Se7en) (1995)   \n",
       "4             0             46   Usual Suspects, The (1995)   \n",
       "\n",
       "                                              genres  \\\n",
       "0  ['Adventure', 'Animation', 'Children', 'Comedy...   \n",
       "1                              ['Comedy', 'Romance']   \n",
       "2                    ['Action', 'Crime', 'Thriller']   \n",
       "3                            ['Mystery', 'Thriller']   \n",
       "4                   ['Crime', 'Mystery', 'Thriller']   \n",
       "\n",
       "                                              prompt  split  \\\n",
       "0  user: 0, title: Toy Story (1995), genres: ['Ad...  train   \n",
       "1  user: 0, title: Grumpier Old Men (1995), genre...   rest   \n",
       "2  user: 0, title: Heat (1995), genres: ['Action'...    val   \n",
       "3  user: 0, title: Seven (a.k.a. Se7en) (1995), g...  train   \n",
       "4  user: 0, title: Usual Suspects, The (1995), ge...   test   \n",
       "\n",
       "                                    user_embedding_4  \\\n",
       "0  [-0.03827861696481705, -2.2619593143463135, 2....   \n",
       "1  [0.33092743158340454, -2.609788417816162, 2.80...   \n",
       "2  [0.26843586564064026, -2.6071953773498535, 2.8...   \n",
       "3  [0.18218860030174255, -2.3380637168884277, 2.7...   \n",
       "4  [0.09569544345140457, -1.986099123954773, 3.03...   \n",
       "\n",
       "                                   movie_embedding_4  \\\n",
       "0  [-0.550093412399292, -0.8870471119880676, 0.99...   \n",
       "1  [-0.14393314719200134, -1.0467438697814941, -0...   \n",
       "2  [-0.5415042638778687, -0.8318737745285034, 0.6...   \n",
       "3  [-0.9858976602554321, -0.801932692527771, 0.80...   \n",
       "4  [-0.865667998790741, -0.9774402976036072, 0.52...   \n",
       "\n",
       "                                  user_embedding_128  \\\n",
       "0  [-0.20877254009246826, 0.7261011004447937, -0....   \n",
       "1  [-0.3288712799549103, 0.7533886432647705, -0.2...   \n",
       "2  [-0.26235586404800415, 0.8743588328361511, -0....   \n",
       "3  [-0.23487024009227753, 0.6445444226264954, -0....   \n",
       "4  [-0.1536864936351776, 0.8239970803260803, -0.3...   \n",
       "\n",
       "                                 movie_embedding_128  \n",
       "0  [-0.23873792588710785, 0.15261110663414001, -0...  \n",
       "1  [-0.601038932800293, -0.014170907437801361, -0...  \n",
       "2  [-0.00794781744480133, -0.03061569482088089, 0...  \n",
       "3  [0.23825839161872864, 0.006370842456817627, -0...  \n",
       "4  [0.16465282440185547, 0.09803374111652374, -0....  "
      ]
     },
     "execution_count": 4,
     "metadata": {},
     "output_type": "execute_result"
    }
   ],
   "source": [
    "movie_lens_loader.llm_df.head()"
   ]
  },
  {
   "cell_type": "markdown",
   "metadata": {},
   "source": [
    "Next, we initialize the GNN trainers (possible on Cuda), one for each KGE_DIMENSION.\n",
    "A GNN trainer manages a model and each model consists of an **encoder and classifier** part.\n",
    "\n",
    "**The encoder** is a parameterized *Grap Convolutional Network (GCN)* with a *2-layer GNN computation graph* and a single *ReLU* activation function in between.\n",
    "\n",
    "**The classifier** applies the dot-product between source and destination kges to derive edge-level predictions."
   ]
  },
  {
   "cell_type": "code",
   "execution_count": 5,
   "metadata": {},
   "outputs": [
    {
     "name": "stdout",
     "output_type": "stream",
     "text": [
      "loading pretrained model\n",
      "Device: 'cuda'\n",
      "loading pretrained model\n",
      "Device: 'cuda'\n"
     ]
    }
   ],
   "source": [
    "gnn_trainers =    [GNNTrainer(movie_lens_loader.data, kge_dimension = kge_dimension) for kge_dimension in KGE_DIMENSIONS]\n",
    "gnn_trainer_large = GNNTrainer(movie_lens_loader.data, hidden_channels=MODEL_HIDDEN_SIZE, kge_dimension=MODEL_HIDDEN_SIZE)"
   ]
  },
  {
   "cell_type": "markdown",
   "metadata": {},
   "source": [
    "We then train and validate the model on the link prediction task.\n",
    "\n",
    "If the model is already trained, we can skip this part.\n",
    "Training the models can take up to 5 minutes."
   ]
  },
  {
   "cell_type": "code",
   "execution_count": 6,
   "metadata": {},
   "outputs": [
    {
     "name": "stdout",
     "output_type": "stream",
     "text": [
      "4\n"
     ]
    }
   ],
   "source": [
    "for gnn_trainer in gnn_trainers:\n",
    "    print(gnn_trainer.kge_dimension)\n",
    "    #gnn_trainer.train_model(movie_lens_loader.gnn_train_data, EPOCHS)\n",
    "    #gnn_trainer.validate_model(movie_lens_loader.gnn_test_data)\n",
    "#print(\"large_gnn\")\n",
    "#gnn_trainer_large.train_model(movie_lens_loader.gnn_train_data, EPOCHS)\n",
    "#gnn_trainer_large.validate_model(movie_lens_loader.gnn_test_data)\n"
   ]
  },
  {
   "cell_type": "markdown",
   "metadata": {},
   "source": [
    "Next we produce the KGEs for every edge in the dataset. These embeddings can then be used for the LLM on the link-prediction task."
   ]
  },
  {
   "cell_type": "code",
   "execution_count": 7,
   "metadata": {},
   "outputs": [
    {
     "data": {
      "text/html": [
       "<div>\n",
       "<style scoped>\n",
       "    .dataframe tbody tr th:only-of-type {\n",
       "        vertical-align: middle;\n",
       "    }\n",
       "\n",
       "    .dataframe tbody tr th {\n",
       "        vertical-align: top;\n",
       "    }\n",
       "\n",
       "    .dataframe thead th {\n",
       "        text-align: right;\n",
       "    }\n",
       "</style>\n",
       "<table border=\"1\" class=\"dataframe\">\n",
       "  <thead>\n",
       "    <tr style=\"text-align: right;\">\n",
       "      <th></th>\n",
       "      <th>mappedUserId</th>\n",
       "      <th>mappedMovieId</th>\n",
       "      <th>title</th>\n",
       "      <th>genres</th>\n",
       "      <th>prompt</th>\n",
       "      <th>split</th>\n",
       "      <th>user_embedding_4</th>\n",
       "      <th>movie_embedding_4</th>\n",
       "      <th>user_embedding_128</th>\n",
       "      <th>movie_embedding_128</th>\n",
       "    </tr>\n",
       "  </thead>\n",
       "  <tbody>\n",
       "    <tr>\n",
       "      <th>0</th>\n",
       "      <td>0</td>\n",
       "      <td>0</td>\n",
       "      <td>Toy Story (1995)</td>\n",
       "      <td>['Adventure', 'Animation', 'Children', 'Comedy...</td>\n",
       "      <td>user: 0, title: Toy Story (1995), genres: ['Ad...</td>\n",
       "      <td>train</td>\n",
       "      <td>[-0.03827861696481705, -2.2619593143463135, 2....</td>\n",
       "      <td>[-0.550093412399292, -0.8870471119880676, 0.99...</td>\n",
       "      <td>[-0.20877254009246826, 0.7261011004447937, -0....</td>\n",
       "      <td>[-0.23873792588710785, 0.15261110663414001, -0...</td>\n",
       "    </tr>\n",
       "    <tr>\n",
       "      <th>1</th>\n",
       "      <td>0</td>\n",
       "      <td>2</td>\n",
       "      <td>Grumpier Old Men (1995)</td>\n",
       "      <td>['Comedy', 'Romance']</td>\n",
       "      <td>user: 0, title: Grumpier Old Men (1995), genre...</td>\n",
       "      <td>rest</td>\n",
       "      <td>[0.33092743158340454, -2.609788417816162, 2.80...</td>\n",
       "      <td>[-0.14393314719200134, -1.0467438697814941, -0...</td>\n",
       "      <td>[-0.3288712799549103, 0.7533886432647705, -0.2...</td>\n",
       "      <td>[-0.601038932800293, -0.014170907437801361, -0...</td>\n",
       "    </tr>\n",
       "    <tr>\n",
       "      <th>2</th>\n",
       "      <td>0</td>\n",
       "      <td>5</td>\n",
       "      <td>Heat (1995)</td>\n",
       "      <td>['Action', 'Crime', 'Thriller']</td>\n",
       "      <td>user: 0, title: Heat (1995), genres: ['Action'...</td>\n",
       "      <td>val</td>\n",
       "      <td>[0.26843586564064026, -2.6071953773498535, 2.8...</td>\n",
       "      <td>[-0.5415042638778687, -0.8318737745285034, 0.6...</td>\n",
       "      <td>[-0.26235586404800415, 0.8743588328361511, -0....</td>\n",
       "      <td>[-0.00794781744480133, -0.03061569482088089, 0...</td>\n",
       "    </tr>\n",
       "    <tr>\n",
       "      <th>3</th>\n",
       "      <td>0</td>\n",
       "      <td>43</td>\n",
       "      <td>Seven (a.k.a. Se7en) (1995)</td>\n",
       "      <td>['Mystery', 'Thriller']</td>\n",
       "      <td>user: 0, title: Seven (a.k.a. Se7en) (1995), g...</td>\n",
       "      <td>train</td>\n",
       "      <td>[0.18218860030174255, -2.3380637168884277, 2.7...</td>\n",
       "      <td>[-0.9858976602554321, -0.801932692527771, 0.80...</td>\n",
       "      <td>[-0.23487024009227753, 0.6445444226264954, -0....</td>\n",
       "      <td>[0.23825839161872864, 0.006370842456817627, -0...</td>\n",
       "    </tr>\n",
       "    <tr>\n",
       "      <th>4</th>\n",
       "      <td>0</td>\n",
       "      <td>46</td>\n",
       "      <td>Usual Suspects, The (1995)</td>\n",
       "      <td>['Crime', 'Mystery', 'Thriller']</td>\n",
       "      <td>user: 0, title: Usual Suspects, The (1995), ge...</td>\n",
       "      <td>test</td>\n",
       "      <td>[0.09569544345140457, -1.986099123954773, 3.03...</td>\n",
       "      <td>[-0.865667998790741, -0.9774402976036072, 0.52...</td>\n",
       "      <td>[-0.1536864936351776, 0.8239970803260803, -0.3...</td>\n",
       "      <td>[0.16465282440185547, 0.09803374111652374, -0....</td>\n",
       "    </tr>\n",
       "  </tbody>\n",
       "</table>\n",
       "</div>"
      ],
      "text/plain": [
       "   mappedUserId  mappedMovieId                        title  \\\n",
       "0             0              0             Toy Story (1995)   \n",
       "1             0              2      Grumpier Old Men (1995)   \n",
       "2             0              5                  Heat (1995)   \n",
       "3             0             43  Seven (a.k.a. Se7en) (1995)   \n",
       "4             0             46   Usual Suspects, The (1995)   \n",
       "\n",
       "                                              genres  \\\n",
       "0  ['Adventure', 'Animation', 'Children', 'Comedy...   \n",
       "1                              ['Comedy', 'Romance']   \n",
       "2                    ['Action', 'Crime', 'Thriller']   \n",
       "3                            ['Mystery', 'Thriller']   \n",
       "4                   ['Crime', 'Mystery', 'Thriller']   \n",
       "\n",
       "                                              prompt  split  \\\n",
       "0  user: 0, title: Toy Story (1995), genres: ['Ad...  train   \n",
       "1  user: 0, title: Grumpier Old Men (1995), genre...   rest   \n",
       "2  user: 0, title: Heat (1995), genres: ['Action'...    val   \n",
       "3  user: 0, title: Seven (a.k.a. Se7en) (1995), g...  train   \n",
       "4  user: 0, title: Usual Suspects, The (1995), ge...   test   \n",
       "\n",
       "                                    user_embedding_4  \\\n",
       "0  [-0.03827861696481705, -2.2619593143463135, 2....   \n",
       "1  [0.33092743158340454, -2.609788417816162, 2.80...   \n",
       "2  [0.26843586564064026, -2.6071953773498535, 2.8...   \n",
       "3  [0.18218860030174255, -2.3380637168884277, 2.7...   \n",
       "4  [0.09569544345140457, -1.986099123954773, 3.03...   \n",
       "\n",
       "                                   movie_embedding_4  \\\n",
       "0  [-0.550093412399292, -0.8870471119880676, 0.99...   \n",
       "1  [-0.14393314719200134, -1.0467438697814941, -0...   \n",
       "2  [-0.5415042638778687, -0.8318737745285034, 0.6...   \n",
       "3  [-0.9858976602554321, -0.801932692527771, 0.80...   \n",
       "4  [-0.865667998790741, -0.9774402976036072, 0.52...   \n",
       "\n",
       "                                  user_embedding_128  \\\n",
       "0  [-0.20877254009246826, 0.7261011004447937, -0....   \n",
       "1  [-0.3288712799549103, 0.7533886432647705, -0.2...   \n",
       "2  [-0.26235586404800415, 0.8743588328361511, -0....   \n",
       "3  [-0.23487024009227753, 0.6445444226264954, -0....   \n",
       "4  [-0.1536864936351776, 0.8239970803260803, -0.3...   \n",
       "\n",
       "                                 movie_embedding_128  \n",
       "0  [-0.23873792588710785, 0.15261110663414001, -0...  \n",
       "1  [-0.601038932800293, -0.014170907437801361, -0...  \n",
       "2  [-0.00794781744480133, -0.03061569482088089, 0...  \n",
       "3  [0.23825839161872864, 0.006370842456817627, -0...  \n",
       "4  [0.16465282440185547, 0.09803374111652374, -0....  "
      ]
     },
     "execution_count": 7,
     "metadata": {},
     "output_type": "execute_result"
    }
   ],
   "source": [
    "[gnn_trainer.get_embeddings(movie_lens_loader) for gnn_trainer in gnn_trainers]\n",
    "gnn_trainer_large.get_embeddings(movie_lens_loader)\n",
    "movie_lens_loader.llm_df.head()"
   ]
  },
  {
   "cell_type": "markdown",
   "metadata": {},
   "source": [
    "Next we initialize the vanilla encoder only classifier. This classifier does only use the NLP part of the prompt (no KGE) for predicting if the given link exists."
   ]
  },
  {
   "cell_type": "code",
   "execution_count": 8,
   "metadata": {},
   "outputs": [],
   "source": [
    "vanilla_bert_classifier = VanillaBertClassifier(movie_lens_loader.llm_df, batch_size=BATCH_SIZE, model_name=MODEL_NAME)"
   ]
  },
  {
   "cell_type": "markdown",
   "metadata": {},
   "source": [
    "Next we generate a vanilla llm dataset and tokenize it for training."
   ]
  },
  {
   "cell_type": "code",
   "execution_count": 9,
   "metadata": {},
   "outputs": [],
   "source": [
    "dataset_vanilla = movie_lens_loader.generate_vanilla_dataset(vanilla_bert_classifier.tokenize_function)"
   ]
  },
  {
   "cell_type": "markdown",
   "metadata": {},
   "source": [
    "Next we train the model on the produced dataset. This can be skipped, if already trained ones."
   ]
  },
  {
   "cell_type": "code",
   "execution_count": 10,
   "metadata": {},
   "outputs": [],
   "source": [
    "#vanilla_bert_classifier.train_model_on_data(dataset_vanilla, epochs=EPOCHS)"
   ]
  },
  {
   "cell_type": "markdown",
   "metadata": {},
   "source": [
    "Next we initialize the prompt encoder only classifier. This classifier uses the vanilla prompt and the KGEs for its link prediction."
   ]
  },
  {
   "cell_type": "code",
   "execution_count": 11,
   "metadata": {},
   "outputs": [],
   "source": [
    "prompt_bert_classifiers = [PromptBertClassifier(movie_lens_loader, gnn_trainer.get_embedding, kge_dimension=embedding_dimension, batch_size=BATCH_SIZE, model_name=MODEL_NAME) for embedding_dimension, gnn_trainer in zip(KGE_DIMENSIONS, gnn_trainers)]"
   ]
  },
  {
   "cell_type": "markdown",
   "metadata": {},
   "source": [
    "We also generate a prompt dataset, this time the prompts also include the KGEs."
   ]
  },
  {
   "cell_type": "code",
   "execution_count": 12,
   "metadata": {},
   "outputs": [],
   "source": [
    "datasets_prompt = [movie_lens_loader.generate_prompt_embedding_dataset(prompt_bert_classifier.tokenize_function, kge_dimension = prompt_bert_classifier.kge_dimension) for prompt_bert_classifier in prompt_bert_classifiers]"
   ]
  },
  {
   "cell_type": "markdown",
   "metadata": {},
   "source": [
    "We also train the model. This can be skipped if already done ones."
   ]
  },
  {
   "cell_type": "code",
   "execution_count": 13,
   "metadata": {},
   "outputs": [],
   "source": [
    "#[prompt_bert_classifier.train_model_on_data(dataset_prompt, epochs = EPOCHS) for prompt_bert_classifier, dataset_prompt in zip(prompt_bert_classifiers, datasets_prompt)]"
   ]
  },
  {
   "cell_type": "code",
   "execution_count": 14,
   "metadata": {},
   "outputs": [
    {
     "name": "stderr",
     "output_type": "stream",
     "text": [
      "Some weights of InsertEmbeddingBertForSequenceClassification were not initialized from the model checkpoint at google/bert_uncased_L-2_H-128_A-2 and are newly initialized: ['classifier.bias', 'classifier.weight']\n",
      "You should probably TRAIN this model on a down-stream task to be able to use it for predictions and inference.\n"
     ]
    }
   ],
   "source": [
    "adding_embedding_bert_only_classifier = AddingEmbeddingsBertClassifierBase(movie_lens_loader, gnn_trainer_large.get_embedding, kge_dimension=MODEL_HIDDEN_SIZE, batch_size=BATCH_SIZE, model_name=MODEL_NAME)\n",
    "dataset_adding_embedding = movie_lens_loader.generate_adding_embedding_dataset(adding_embedding_bert_only_classifier.tokenizer.sep_token, adding_embedding_bert_only_classifier.tokenizer.pad_token, adding_embedding_bert_only_classifier.tokenize_function, kge_dimension = MODEL_HIDDEN_SIZE)\n"
   ]
  },
  {
   "cell_type": "code",
   "execution_count": 15,
   "metadata": {},
   "outputs": [
    {
     "data": {
      "application/vnd.jupyter.widget-view+json": {
       "model_id": "180f18dd54eb45dd855c3fdad1c09c76",
       "version_major": 2,
       "version_minor": 0
      },
      "text/plain": [
       "  0%|          | 0/4420 [00:00<?, ?it/s]"
      ]
     },
     "metadata": {},
     "output_type": "display_data"
    },
    {
     "name": "stderr",
     "output_type": "stream",
     "text": [
      "c:\\Users\\MARS\\.conda\\envs\\hauptprojekt\\Lib\\site-packages\\transformers\\models\\bert\\modeling_bert.py:439: UserWarning: 1Torch was not compiled with flash attention. (Triggered internally at ..\\aten\\src\\ATen\\native\\transformers\\cuda\\sdp_utils.cpp:455.)\n",
      "  attn_output = torch.nn.functional.scaled_dot_product_attention(\n"
     ]
    },
    {
     "name": "stdout",
     "output_type": "stream",
     "text": [
      "{'loss': 0.7771, 'grad_norm': 3.4389734268188477, 'learning_rate': 1.0000000000000002e-06, 'epoch': 0.05}\n",
      "{'loss': 0.7699, 'grad_norm': 3.764988422393799, 'learning_rate': 2.0000000000000003e-06, 'epoch': 0.09}\n",
      "{'loss': 0.7705, 'grad_norm': 3.20927357673645, 'learning_rate': 3e-06, 'epoch': 0.14}\n",
      "{'loss': 0.7597, 'grad_norm': 3.2560675144195557, 'learning_rate': 4.000000000000001e-06, 'epoch': 0.18}\n",
      "{'loss': 0.7518, 'grad_norm': 2.8689229488372803, 'learning_rate': 5e-06, 'epoch': 0.23}\n",
      "{'loss': 0.7356, 'grad_norm': 3.503141403198242, 'learning_rate': 6e-06, 'epoch': 0.27}\n",
      "{'loss': 0.7217, 'grad_norm': 2.7570619583129883, 'learning_rate': 7.000000000000001e-06, 'epoch': 0.32}\n",
      "{'loss': 0.7035, 'grad_norm': 1.7646822929382324, 'learning_rate': 8.000000000000001e-06, 'epoch': 0.36}\n",
      "{'loss': 0.6869, 'grad_norm': 0.8705242276191711, 'learning_rate': 9e-06, 'epoch': 0.41}\n",
      "{'loss': 0.6647, 'grad_norm': 1.5016316175460815, 'learning_rate': 1e-05, 'epoch': 0.45}\n",
      "{'loss': 0.6443, 'grad_norm': 0.48531433939933777, 'learning_rate': 1.1000000000000001e-05, 'epoch': 0.5}\n",
      "{'loss': 0.6417, 'grad_norm': 0.44341644644737244, 'learning_rate': 1.2e-05, 'epoch': 0.54}\n",
      "{'loss': 0.6274, 'grad_norm': 0.5734357237815857, 'learning_rate': 1.3000000000000001e-05, 'epoch': 0.59}\n",
      "{'loss': 0.6426, 'grad_norm': 0.7336462736129761, 'learning_rate': 1.4000000000000001e-05, 'epoch': 0.63}\n",
      "{'loss': 0.6279, 'grad_norm': 0.4410906434059143, 'learning_rate': 1.5e-05, 'epoch': 0.68}\n",
      "{'loss': 0.6243, 'grad_norm': 0.3271229863166809, 'learning_rate': 1.6000000000000003e-05, 'epoch': 0.72}\n",
      "{'loss': 0.6276, 'grad_norm': 0.486155241727829, 'learning_rate': 1.7000000000000003e-05, 'epoch': 0.77}\n",
      "{'loss': 0.6267, 'grad_norm': 0.3464215397834778, 'learning_rate': 1.8e-05, 'epoch': 0.81}\n",
      "{'loss': 0.6218, 'grad_norm': 0.4737691879272461, 'learning_rate': 1.9e-05, 'epoch': 0.86}\n",
      "{'loss': 0.6166, 'grad_norm': 0.5096623301506042, 'learning_rate': 2e-05, 'epoch': 0.9}\n",
      "{'loss': 0.6177, 'grad_norm': 1.1961572170257568, 'learning_rate': 2.1e-05, 'epoch': 0.95}\n",
      "{'loss': 0.6038, 'grad_norm': 0.6912391185760498, 'learning_rate': 2.2000000000000003e-05, 'epoch': 1.0}\n"
     ]
    },
    {
     "data": {
      "application/vnd.jupyter.widget-view+json": {
       "model_id": "c94e4a285cd8497d966d26d475e5453a",
       "version_major": 2,
       "version_minor": 0
      },
      "text/plain": [
       "  0%|          | 0/67 [00:00<?, ?it/s]"
      ]
     },
     "metadata": {},
     "output_type": "display_data"
    },
    {
     "name": "stdout",
     "output_type": "stream",
     "text": [
      "{'eval_loss': 0.587656557559967, 'eval_accuracy': 0.6646248979115622, 'eval_runtime': 157.3055, 'eval_samples_per_second': 108.973, 'eval_steps_per_second': 0.426, 'epoch': 1.0}\n",
      "{'loss': 0.6019, 'grad_norm': 0.8464211225509644, 'learning_rate': 2.3000000000000003e-05, 'epoch': 1.04}\n",
      "{'loss': 0.5844, 'grad_norm': 0.8668562173843384, 'learning_rate': 2.4e-05, 'epoch': 1.09}\n",
      "{'loss': 0.5756, 'grad_norm': 1.1645541191101074, 'learning_rate': 2.5e-05, 'epoch': 1.13}\n",
      "{'loss': 0.5514, 'grad_norm': 0.6494861245155334, 'learning_rate': 2.6000000000000002e-05, 'epoch': 1.18}\n",
      "{'loss': 0.555, 'grad_norm': 0.900191068649292, 'learning_rate': 2.7000000000000002e-05, 'epoch': 1.22}\n",
      "{'loss': 0.5468, 'grad_norm': 1.0752432346343994, 'learning_rate': 2.8000000000000003e-05, 'epoch': 1.27}\n",
      "{'loss': 0.5371, 'grad_norm': 1.3139674663543701, 'learning_rate': 2.9e-05, 'epoch': 1.31}\n",
      "{'loss': 0.5096, 'grad_norm': 1.4389201402664185, 'learning_rate': 3e-05, 'epoch': 1.36}\n",
      "{'loss': 0.5249, 'grad_norm': 1.3394851684570312, 'learning_rate': 3.1e-05, 'epoch': 1.4}\n",
      "{'loss': 0.5191, 'grad_norm': 1.5091500282287598, 'learning_rate': 3.2000000000000005e-05, 'epoch': 1.45}\n",
      "{'loss': 0.5158, 'grad_norm': 1.2015712261199951, 'learning_rate': 3.3e-05, 'epoch': 1.49}\n",
      "{'loss': 0.5102, 'grad_norm': 1.0789185762405396, 'learning_rate': 3.4000000000000007e-05, 'epoch': 1.54}\n",
      "{'loss': 0.5016, 'grad_norm': 1.0742015838623047, 'learning_rate': 3.5e-05, 'epoch': 1.58}\n",
      "{'loss': 0.4846, 'grad_norm': 0.9243078827857971, 'learning_rate': 3.6e-05, 'epoch': 1.63}\n",
      "{'loss': 0.4851, 'grad_norm': 0.9414644837379456, 'learning_rate': 3.7e-05, 'epoch': 1.67}\n",
      "{'loss': 0.4685, 'grad_norm': 1.3323729038238525, 'learning_rate': 3.8e-05, 'epoch': 1.72}\n",
      "{'loss': 0.4646, 'grad_norm': 1.269928216934204, 'learning_rate': 3.9000000000000006e-05, 'epoch': 1.76}\n",
      "{'loss': 0.4487, 'grad_norm': 1.7308295965194702, 'learning_rate': 4e-05, 'epoch': 1.81}\n",
      "{'loss': 0.4331, 'grad_norm': 0.8124657869338989, 'learning_rate': 4.1e-05, 'epoch': 1.86}\n",
      "{'loss': 0.4123, 'grad_norm': 1.331664800643921, 'learning_rate': 4.2e-05, 'epoch': 1.9}\n",
      "{'loss': 0.4238, 'grad_norm': 1.1556824445724487, 'learning_rate': 4.3e-05, 'epoch': 1.95}\n",
      "{'loss': 0.4152, 'grad_norm': 0.9476297497749329, 'learning_rate': 4.4000000000000006e-05, 'epoch': 1.99}\n"
     ]
    },
    {
     "data": {
      "application/vnd.jupyter.widget-view+json": {
       "model_id": "8d892fc423874213a650c1e0c8fe0488",
       "version_major": 2,
       "version_minor": 0
      },
      "text/plain": [
       "  0%|          | 0/67 [00:00<?, ?it/s]"
      ]
     },
     "metadata": {},
     "output_type": "display_data"
    },
    {
     "name": "stdout",
     "output_type": "stream",
     "text": [
      "{'eval_loss': 0.39852476119995117, 'eval_accuracy': 0.8251079220627698, 'eval_runtime': 156.8076, 'eval_samples_per_second': 109.319, 'eval_steps_per_second': 0.427, 'epoch': 2.0}\n",
      "{'loss': 0.3929, 'grad_norm': 1.1929914951324463, 'learning_rate': 4.5e-05, 'epoch': 2.04}\n",
      "{'loss': 0.3949, 'grad_norm': 1.0564472675323486, 'learning_rate': 4.600000000000001e-05, 'epoch': 2.08}\n",
      "{'loss': 0.4102, 'grad_norm': 1.180271029472351, 'learning_rate': 4.7e-05, 'epoch': 2.13}\n",
      "{'loss': 0.4146, 'grad_norm': 1.3503707647323608, 'learning_rate': 4.8e-05, 'epoch': 2.17}\n",
      "{'loss': 0.4125, 'grad_norm': 0.8526611924171448, 'learning_rate': 4.9e-05, 'epoch': 2.22}\n",
      "{'loss': 0.3883, 'grad_norm': 1.1794458627700806, 'learning_rate': 5e-05, 'epoch': 2.26}\n",
      "{'loss': 0.3823, 'grad_norm': 0.8128304481506348, 'learning_rate': 4.987244897959184e-05, 'epoch': 2.31}\n",
      "{'loss': 0.4011, 'grad_norm': 0.7751808166503906, 'learning_rate': 4.974489795918368e-05, 'epoch': 2.35}\n",
      "{'loss': 0.3689, 'grad_norm': 0.9094699621200562, 'learning_rate': 4.961734693877551e-05, 'epoch': 2.4}\n",
      "{'loss': 0.3818, 'grad_norm': 1.12823486328125, 'learning_rate': 4.9489795918367346e-05, 'epoch': 2.44}\n",
      "{'loss': 0.3669, 'grad_norm': 0.9489995241165161, 'learning_rate': 4.9362244897959184e-05, 'epoch': 2.49}\n",
      "{'loss': 0.3867, 'grad_norm': 0.922757625579834, 'learning_rate': 4.923469387755102e-05, 'epoch': 2.53}\n",
      "{'loss': 0.3811, 'grad_norm': 1.0235675573349, 'learning_rate': 4.910714285714286e-05, 'epoch': 2.58}\n",
      "{'loss': 0.3689, 'grad_norm': 1.716312050819397, 'learning_rate': 4.89795918367347e-05, 'epoch': 2.62}\n",
      "{'loss': 0.3685, 'grad_norm': 1.775889277458191, 'learning_rate': 4.8852040816326534e-05, 'epoch': 2.67}\n",
      "{'loss': 0.38, 'grad_norm': 1.7600270509719849, 'learning_rate': 4.872448979591837e-05, 'epoch': 2.71}\n",
      "{'loss': 0.3626, 'grad_norm': 0.8353757262229919, 'learning_rate': 4.859693877551021e-05, 'epoch': 2.76}\n",
      "{'loss': 0.3904, 'grad_norm': 2.219148635864258, 'learning_rate': 4.846938775510204e-05, 'epoch': 2.81}\n",
      "{'loss': 0.3783, 'grad_norm': 1.3929609060287476, 'learning_rate': 4.834183673469388e-05, 'epoch': 2.85}\n",
      "{'loss': 0.3748, 'grad_norm': 1.9037197828292847, 'learning_rate': 4.8214285714285716e-05, 'epoch': 2.9}\n",
      "{'loss': 0.3608, 'grad_norm': 0.7875383496284485, 'learning_rate': 4.8086734693877554e-05, 'epoch': 2.94}\n",
      "{'loss': 0.3724, 'grad_norm': 0.8056472539901733, 'learning_rate': 4.795918367346939e-05, 'epoch': 2.99}\n"
     ]
    },
    {
     "data": {
      "application/vnd.jupyter.widget-view+json": {
       "model_id": "c9e439e4aaba4f389cc7825eaa2c21c1",
       "version_major": 2,
       "version_minor": 0
      },
      "text/plain": [
       "  0%|          | 0/67 [00:00<?, ?it/s]"
      ]
     },
     "metadata": {},
     "output_type": "display_data"
    },
    {
     "name": "stdout",
     "output_type": "stream",
     "text": [
      "{'eval_loss': 0.34288468956947327, 'eval_accuracy': 0.8517092521292732, 'eval_runtime': 155.7217, 'eval_samples_per_second': 110.081, 'eval_steps_per_second': 0.43, 'epoch': 3.0}\n",
      "{'loss': 0.3554, 'grad_norm': 0.8012714385986328, 'learning_rate': 4.783163265306123e-05, 'epoch': 3.03}\n",
      "{'loss': 0.3558, 'grad_norm': 0.7976391911506653, 'learning_rate': 4.7704081632653066e-05, 'epoch': 3.08}\n",
      "{'loss': 0.3718, 'grad_norm': 1.6673355102539062, 'learning_rate': 4.7576530612244904e-05, 'epoch': 3.12}\n",
      "{'loss': 0.3707, 'grad_norm': 0.7889525890350342, 'learning_rate': 4.744897959183674e-05, 'epoch': 3.17}\n",
      "{'loss': 0.3679, 'grad_norm': 1.1878535747528076, 'learning_rate': 4.732142857142857e-05, 'epoch': 3.21}\n",
      "{'loss': 0.3675, 'grad_norm': 0.7542093992233276, 'learning_rate': 4.719387755102041e-05, 'epoch': 3.26}\n",
      "{'loss': 0.3727, 'grad_norm': 1.6318435668945312, 'learning_rate': 4.706632653061225e-05, 'epoch': 3.3}\n",
      "{'loss': 0.3503, 'grad_norm': 0.79146409034729, 'learning_rate': 4.6938775510204086e-05, 'epoch': 3.35}\n",
      "{'loss': 0.3414, 'grad_norm': 1.0591983795166016, 'learning_rate': 4.6811224489795916e-05, 'epoch': 3.39}\n",
      "{'loss': 0.3654, 'grad_norm': 0.9270168542861938, 'learning_rate': 4.6683673469387754e-05, 'epoch': 3.44}\n",
      "{'loss': 0.3506, 'grad_norm': 1.0774482488632202, 'learning_rate': 4.655612244897959e-05, 'epoch': 3.48}\n",
      "{'loss': 0.3793, 'grad_norm': 0.8555581569671631, 'learning_rate': 4.642857142857143e-05, 'epoch': 3.53}\n",
      "{'loss': 0.3546, 'grad_norm': 1.0991779565811157, 'learning_rate': 4.630102040816327e-05, 'epoch': 3.57}\n",
      "{'loss': 0.3567, 'grad_norm': 1.1744544506072998, 'learning_rate': 4.6173469387755105e-05, 'epoch': 3.62}\n",
      "{'loss': 0.3452, 'grad_norm': 1.260623812675476, 'learning_rate': 4.604591836734694e-05, 'epoch': 3.67}\n",
      "{'loss': 0.3568, 'grad_norm': 1.0037213563919067, 'learning_rate': 4.591836734693878e-05, 'epoch': 3.71}\n",
      "{'loss': 0.3563, 'grad_norm': 0.9204986095428467, 'learning_rate': 4.579081632653062e-05, 'epoch': 3.76}\n",
      "{'loss': 0.3483, 'grad_norm': 0.8066495656967163, 'learning_rate': 4.566326530612245e-05, 'epoch': 3.8}\n",
      "{'loss': 0.3697, 'grad_norm': 1.6308661699295044, 'learning_rate': 4.5535714285714286e-05, 'epoch': 3.85}\n",
      "{'loss': 0.3396, 'grad_norm': 0.957019031047821, 'learning_rate': 4.5408163265306124e-05, 'epoch': 3.89}\n",
      "{'loss': 0.3413, 'grad_norm': 0.9473158717155457, 'learning_rate': 4.528061224489796e-05, 'epoch': 3.94}\n",
      "{'loss': 0.3476, 'grad_norm': 0.7608095407485962, 'learning_rate': 4.515306122448979e-05, 'epoch': 3.98}\n"
     ]
    },
    {
     "data": {
      "application/vnd.jupyter.widget-view+json": {
       "model_id": "e0dd966c34bb41398f1e33910470f844",
       "version_major": 2,
       "version_minor": 0
      },
      "text/plain": [
       "  0%|          | 0/67 [00:00<?, ?it/s]"
      ]
     },
     "metadata": {},
     "output_type": "display_data"
    },
    {
     "name": "stdout",
     "output_type": "stream",
     "text": [
      "{'eval_loss': 0.3149949908256531, 'eval_accuracy': 0.8656516159141291, 'eval_runtime': 155.1841, 'eval_samples_per_second': 110.462, 'eval_steps_per_second': 0.432, 'epoch': 4.0}\n",
      "{'loss': 0.3367, 'grad_norm': 1.2894411087036133, 'learning_rate': 4.502551020408164e-05, 'epoch': 4.03}\n",
      "{'loss': 0.3605, 'grad_norm': 1.003653645515442, 'learning_rate': 4.4897959183673474e-05, 'epoch': 4.07}\n",
      "{'loss': 0.3366, 'grad_norm': 0.950372040271759, 'learning_rate': 4.477040816326531e-05, 'epoch': 4.12}\n",
      "{'loss': 0.3446, 'grad_norm': 0.9905082583427429, 'learning_rate': 4.464285714285715e-05, 'epoch': 4.16}\n",
      "{'loss': 0.3452, 'grad_norm': 1.411708116531372, 'learning_rate': 4.451530612244898e-05, 'epoch': 4.21}\n",
      "{'loss': 0.3529, 'grad_norm': 1.0551918745040894, 'learning_rate': 4.438775510204082e-05, 'epoch': 4.25}\n",
      "{'loss': 0.3609, 'grad_norm': 0.8467634320259094, 'learning_rate': 4.4260204081632656e-05, 'epoch': 4.3}\n",
      "{'loss': 0.342, 'grad_norm': 0.8253487348556519, 'learning_rate': 4.4132653061224493e-05, 'epoch': 4.34}\n",
      "{'loss': 0.35, 'grad_norm': 1.1837408542633057, 'learning_rate': 4.4005102040816324e-05, 'epoch': 4.39}\n",
      "{'loss': 0.3495, 'grad_norm': 0.8648434281349182, 'learning_rate': 4.387755102040816e-05, 'epoch': 4.43}\n",
      "{'loss': 0.3359, 'grad_norm': 0.9562602639198303, 'learning_rate': 4.375e-05, 'epoch': 4.48}\n",
      "{'loss': 0.3454, 'grad_norm': 0.8179897665977478, 'learning_rate': 4.362244897959184e-05, 'epoch': 4.52}\n",
      "{'loss': 0.3384, 'grad_norm': 0.9836104512214661, 'learning_rate': 4.3494897959183675e-05, 'epoch': 4.57}\n",
      "{'loss': 0.3444, 'grad_norm': 0.885118305683136, 'learning_rate': 4.336734693877551e-05, 'epoch': 4.62}\n",
      "{'loss': 0.3362, 'grad_norm': 0.8688185811042786, 'learning_rate': 4.323979591836735e-05, 'epoch': 4.66}\n",
      "{'loss': 0.3274, 'grad_norm': 0.9334678053855896, 'learning_rate': 4.311224489795919e-05, 'epoch': 4.71}\n",
      "{'loss': 0.3329, 'grad_norm': 1.0248223543167114, 'learning_rate': 4.2984693877551025e-05, 'epoch': 4.75}\n",
      "{'loss': 0.3412, 'grad_norm': 1.1056253910064697, 'learning_rate': 4.2857142857142856e-05, 'epoch': 4.8}\n",
      "{'loss': 0.3402, 'grad_norm': 0.9245747327804565, 'learning_rate': 4.2729591836734694e-05, 'epoch': 4.84}\n",
      "{'loss': 0.3375, 'grad_norm': 0.817142903804779, 'learning_rate': 4.260204081632653e-05, 'epoch': 4.89}\n",
      "{'loss': 0.3309, 'grad_norm': 0.8517748117446899, 'learning_rate': 4.247448979591837e-05, 'epoch': 4.93}\n",
      "{'loss': 0.3158, 'grad_norm': 0.8219841718673706, 'learning_rate': 4.234693877551021e-05, 'epoch': 4.98}\n"
     ]
    },
    {
     "data": {
      "application/vnd.jupyter.widget-view+json": {
       "model_id": "48ae8b33f0b34b3c830e8bbb2bbdc118",
       "version_major": 2,
       "version_minor": 0
      },
      "text/plain": [
       "  0%|          | 0/67 [00:00<?, ?it/s]"
      ]
     },
     "metadata": {},
     "output_type": "display_data"
    },
    {
     "name": "stdout",
     "output_type": "stream",
     "text": [
      "{'eval_loss': 0.3117503523826599, 'eval_accuracy': 0.8613347334033369, 'eval_runtime': 155.033, 'eval_samples_per_second': 110.57, 'eval_steps_per_second': 0.432, 'epoch': 5.0}\n",
      "{'loss': 0.3484, 'grad_norm': 0.9919852614402771, 'learning_rate': 4.2219387755102045e-05, 'epoch': 5.02}\n",
      "{'loss': 0.3305, 'grad_norm': 0.8359972834587097, 'learning_rate': 4.209183673469388e-05, 'epoch': 5.07}\n",
      "{'loss': 0.3262, 'grad_norm': 0.916772186756134, 'learning_rate': 4.196428571428572e-05, 'epoch': 5.11}\n",
      "{'loss': 0.3534, 'grad_norm': 0.7964627146720886, 'learning_rate': 4.183673469387756e-05, 'epoch': 5.16}\n",
      "{'loss': 0.332, 'grad_norm': 0.850926399230957, 'learning_rate': 4.170918367346939e-05, 'epoch': 5.2}\n",
      "{'loss': 0.3533, 'grad_norm': 0.7804059386253357, 'learning_rate': 4.1581632653061226e-05, 'epoch': 5.25}\n",
      "{'loss': 0.3159, 'grad_norm': 0.8583928346633911, 'learning_rate': 4.1454081632653064e-05, 'epoch': 5.29}\n",
      "{'loss': 0.3289, 'grad_norm': 2.086366891860962, 'learning_rate': 4.13265306122449e-05, 'epoch': 5.34}\n",
      "{'loss': 0.3336, 'grad_norm': 1.0357568264007568, 'learning_rate': 4.119897959183674e-05, 'epoch': 5.38}\n",
      "{'loss': 0.3357, 'grad_norm': 1.016703486442566, 'learning_rate': 4.107142857142857e-05, 'epoch': 5.43}\n",
      "{'loss': 0.3271, 'grad_norm': 1.0348647832870483, 'learning_rate': 4.094387755102041e-05, 'epoch': 5.48}\n",
      "{'loss': 0.3224, 'grad_norm': 1.0913864374160767, 'learning_rate': 4.0816326530612245e-05, 'epoch': 5.52}\n",
      "{'loss': 0.3263, 'grad_norm': 0.8669887185096741, 'learning_rate': 4.068877551020408e-05, 'epoch': 5.57}\n",
      "{'loss': 0.3228, 'grad_norm': 0.8920450806617737, 'learning_rate': 4.056122448979592e-05, 'epoch': 5.61}\n",
      "{'loss': 0.3142, 'grad_norm': 0.9529527425765991, 'learning_rate': 4.043367346938776e-05, 'epoch': 5.66}\n",
      "{'loss': 0.3327, 'grad_norm': 1.0244507789611816, 'learning_rate': 4.0306122448979596e-05, 'epoch': 5.7}\n",
      "{'loss': 0.3229, 'grad_norm': 1.8747721910476685, 'learning_rate': 4.017857142857143e-05, 'epoch': 5.75}\n",
      "{'loss': 0.322, 'grad_norm': 0.927017092704773, 'learning_rate': 4.0051020408163264e-05, 'epoch': 5.79}\n",
      "{'loss': 0.3241, 'grad_norm': 0.9294233918190002, 'learning_rate': 3.99234693877551e-05, 'epoch': 5.84}\n",
      "{'loss': 0.3198, 'grad_norm': 0.9965999126434326, 'learning_rate': 3.979591836734694e-05, 'epoch': 5.88}\n",
      "{'loss': 0.322, 'grad_norm': 0.7758774757385254, 'learning_rate': 3.966836734693878e-05, 'epoch': 5.93}\n",
      "{'loss': 0.3091, 'grad_norm': 1.248063325881958, 'learning_rate': 3.9540816326530615e-05, 'epoch': 5.97}\n"
     ]
    },
    {
     "data": {
      "application/vnd.jupyter.widget-view+json": {
       "model_id": "3beee087ce42479db2f7697ef78bfdaf",
       "version_major": 2,
       "version_minor": 0
      },
      "text/plain": [
       "  0%|          | 0/67 [00:00<?, ?it/s]"
      ]
     },
     "metadata": {},
     "output_type": "display_data"
    },
    {
     "name": "stdout",
     "output_type": "stream",
     "text": [
      "{'eval_loss': 0.29931893944740295, 'eval_accuracy': 0.8657099521642749, 'eval_runtime': 156.125, 'eval_samples_per_second': 109.797, 'eval_steps_per_second': 0.429, 'epoch': 6.0}\n",
      "{'loss': 0.3385, 'grad_norm': 1.129901647567749, 'learning_rate': 3.9413265306122446e-05, 'epoch': 6.02}\n",
      "{'loss': 0.3125, 'grad_norm': 0.8128340840339661, 'learning_rate': 3.928571428571429e-05, 'epoch': 6.06}\n",
      "{'loss': 0.3174, 'grad_norm': 0.8235880732536316, 'learning_rate': 3.915816326530613e-05, 'epoch': 6.11}\n",
      "{'loss': 0.2958, 'grad_norm': 0.9050197601318359, 'learning_rate': 3.9030612244897965e-05, 'epoch': 6.15}\n",
      "{'loss': 0.3134, 'grad_norm': 0.8400742411613464, 'learning_rate': 3.8903061224489796e-05, 'epoch': 6.2}\n",
      "{'loss': 0.3196, 'grad_norm': 1.1275615692138672, 'learning_rate': 3.8775510204081634e-05, 'epoch': 6.24}\n",
      "{'loss': 0.3346, 'grad_norm': 1.0378447771072388, 'learning_rate': 3.864795918367347e-05, 'epoch': 6.29}\n",
      "{'loss': 0.314, 'grad_norm': 0.9596097469329834, 'learning_rate': 3.852040816326531e-05, 'epoch': 6.33}\n",
      "{'loss': 0.3231, 'grad_norm': 1.2369296550750732, 'learning_rate': 3.839285714285715e-05, 'epoch': 6.38}\n",
      "{'loss': 0.3115, 'grad_norm': 1.1178721189498901, 'learning_rate': 3.826530612244898e-05, 'epoch': 6.43}\n",
      "{'loss': 0.3129, 'grad_norm': 0.9817371964454651, 'learning_rate': 3.8137755102040815e-05, 'epoch': 6.47}\n",
      "{'loss': 0.3303, 'grad_norm': 1.004494309425354, 'learning_rate': 3.801020408163265e-05, 'epoch': 6.52}\n",
      "{'loss': 0.296, 'grad_norm': 1.1721700429916382, 'learning_rate': 3.788265306122449e-05, 'epoch': 6.56}\n",
      "{'loss': 0.3176, 'grad_norm': 0.8900766968727112, 'learning_rate': 3.775510204081633e-05, 'epoch': 6.61}\n",
      "{'loss': 0.2996, 'grad_norm': 0.8440543413162231, 'learning_rate': 3.7627551020408166e-05, 'epoch': 6.65}\n",
      "{'loss': 0.3164, 'grad_norm': 1.1081091165542603, 'learning_rate': 3.7500000000000003e-05, 'epoch': 6.7}\n",
      "{'loss': 0.3162, 'grad_norm': 0.9376455545425415, 'learning_rate': 3.737244897959184e-05, 'epoch': 6.74}\n",
      "{'loss': 0.3153, 'grad_norm': 1.0872585773468018, 'learning_rate': 3.724489795918368e-05, 'epoch': 6.79}\n",
      "{'loss': 0.3179, 'grad_norm': 1.229162573814392, 'learning_rate': 3.711734693877551e-05, 'epoch': 6.83}\n",
      "{'loss': 0.3017, 'grad_norm': 0.8833855986595154, 'learning_rate': 3.698979591836735e-05, 'epoch': 6.88}\n",
      "{'loss': 0.3234, 'grad_norm': 1.2548073530197144, 'learning_rate': 3.6862244897959185e-05, 'epoch': 6.92}\n",
      "{'loss': 0.3034, 'grad_norm': 1.30196213722229, 'learning_rate': 3.673469387755102e-05, 'epoch': 6.97}\n"
     ]
    },
    {
     "data": {
      "application/vnd.jupyter.widget-view+json": {
       "model_id": "7b9e9fbd8e1942c7970cfd596fef7a9d",
       "version_major": 2,
       "version_minor": 0
      },
      "text/plain": [
       "  0%|          | 0/67 [00:00<?, ?it/s]"
      ]
     },
     "metadata": {},
     "output_type": "display_data"
    },
    {
     "name": "stdout",
     "output_type": "stream",
     "text": [
      "{'eval_loss': 0.29066622257232666, 'eval_accuracy': 0.8750437521876093, 'eval_runtime': 154.9944, 'eval_samples_per_second': 110.598, 'eval_steps_per_second': 0.432, 'epoch': 7.0}\n",
      "{'loss': 0.2968, 'grad_norm': 1.4202179908752441, 'learning_rate': 3.6607142857142853e-05, 'epoch': 7.01}\n",
      "{'loss': 0.3297, 'grad_norm': 1.0436146259307861, 'learning_rate': 3.64795918367347e-05, 'epoch': 7.06}\n",
      "{'loss': 0.3177, 'grad_norm': 1.0750023126602173, 'learning_rate': 3.6352040816326536e-05, 'epoch': 7.1}\n",
      "{'loss': 0.3106, 'grad_norm': 0.8044393062591553, 'learning_rate': 3.622448979591837e-05, 'epoch': 7.15}\n",
      "{'loss': 0.3176, 'grad_norm': 0.8793078660964966, 'learning_rate': 3.609693877551021e-05, 'epoch': 7.19}\n",
      "{'loss': 0.3088, 'grad_norm': 0.9129120707511902, 'learning_rate': 3.596938775510204e-05, 'epoch': 7.24}\n",
      "{'loss': 0.3109, 'grad_norm': 1.0727661848068237, 'learning_rate': 3.584183673469388e-05, 'epoch': 7.29}\n",
      "{'loss': 0.3115, 'grad_norm': 0.8541715145111084, 'learning_rate': 3.571428571428572e-05, 'epoch': 7.33}\n",
      "{'loss': 0.313, 'grad_norm': 0.930766761302948, 'learning_rate': 3.5586734693877555e-05, 'epoch': 7.38}\n",
      "{'loss': 0.3025, 'grad_norm': 1.226072907447815, 'learning_rate': 3.5459183673469385e-05, 'epoch': 7.42}\n",
      "{'loss': 0.3021, 'grad_norm': 1.6737600564956665, 'learning_rate': 3.533163265306122e-05, 'epoch': 7.47}\n",
      "{'loss': 0.3031, 'grad_norm': 1.275331735610962, 'learning_rate': 3.520408163265306e-05, 'epoch': 7.51}\n",
      "{'loss': 0.3086, 'grad_norm': 1.230154037475586, 'learning_rate': 3.50765306122449e-05, 'epoch': 7.56}\n",
      "{'loss': 0.2996, 'grad_norm': 0.9541725516319275, 'learning_rate': 3.4948979591836736e-05, 'epoch': 7.6}\n",
      "{'loss': 0.293, 'grad_norm': 1.0570118427276611, 'learning_rate': 3.4821428571428574e-05, 'epoch': 7.65}\n",
      "{'loss': 0.2989, 'grad_norm': 0.76308673620224, 'learning_rate': 3.469387755102041e-05, 'epoch': 7.69}\n",
      "{'loss': 0.2986, 'grad_norm': 0.9684329628944397, 'learning_rate': 3.456632653061225e-05, 'epoch': 7.74}\n",
      "{'loss': 0.3006, 'grad_norm': 0.8719494938850403, 'learning_rate': 3.443877551020409e-05, 'epoch': 7.78}\n",
      "{'loss': 0.3156, 'grad_norm': 1.0302250385284424, 'learning_rate': 3.431122448979592e-05, 'epoch': 7.83}\n",
      "{'loss': 0.3157, 'grad_norm': 0.9287096261978149, 'learning_rate': 3.4183673469387755e-05, 'epoch': 7.87}\n",
      "{'loss': 0.3035, 'grad_norm': 1.419580340385437, 'learning_rate': 3.405612244897959e-05, 'epoch': 7.92}\n",
      "{'loss': 0.2925, 'grad_norm': 0.8387437462806702, 'learning_rate': 3.392857142857143e-05, 'epoch': 7.96}\n"
     ]
    },
    {
     "data": {
      "application/vnd.jupyter.widget-view+json": {
       "model_id": "f31c527091ba4160b5d1f2bd5a22f15e",
       "version_major": 2,
       "version_minor": 0
      },
      "text/plain": [
       "  0%|          | 0/67 [00:00<?, ?it/s]"
      ]
     },
     "metadata": {},
     "output_type": "display_data"
    },
    {
     "name": "stdout",
     "output_type": "stream",
     "text": [
      "{'eval_loss': 0.2809720039367676, 'eval_accuracy': 0.877727219694318, 'eval_runtime': 155.3397, 'eval_samples_per_second': 110.352, 'eval_steps_per_second': 0.431, 'epoch': 8.0}\n",
      "{'loss': 0.3191, 'grad_norm': 0.8211286664009094, 'learning_rate': 3.380102040816326e-05, 'epoch': 8.01}\n",
      "{'loss': 0.2931, 'grad_norm': 1.0676250457763672, 'learning_rate': 3.36734693877551e-05, 'epoch': 8.05}\n",
      "{'loss': 0.3082, 'grad_norm': 0.8023940920829773, 'learning_rate': 3.354591836734694e-05, 'epoch': 8.1}\n",
      "{'loss': 0.2998, 'grad_norm': 0.864509105682373, 'learning_rate': 3.341836734693878e-05, 'epoch': 8.14}\n",
      "{'loss': 0.3039, 'grad_norm': 0.8879441618919373, 'learning_rate': 3.329081632653062e-05, 'epoch': 8.19}\n",
      "{'loss': 0.3064, 'grad_norm': 0.9329259395599365, 'learning_rate': 3.316326530612245e-05, 'epoch': 8.24}\n",
      "{'loss': 0.3114, 'grad_norm': 1.0114703178405762, 'learning_rate': 3.303571428571429e-05, 'epoch': 8.28}\n",
      "{'loss': 0.2908, 'grad_norm': 1.1163395643234253, 'learning_rate': 3.2908163265306125e-05, 'epoch': 8.33}\n",
      "{'loss': 0.2869, 'grad_norm': 1.2728604078292847, 'learning_rate': 3.278061224489796e-05, 'epoch': 8.37}\n",
      "{'loss': 0.2951, 'grad_norm': 0.9881231188774109, 'learning_rate': 3.265306122448979e-05, 'epoch': 8.42}\n",
      "{'loss': 0.2938, 'grad_norm': 1.0729360580444336, 'learning_rate': 3.252551020408163e-05, 'epoch': 8.46}\n",
      "{'loss': 0.3073, 'grad_norm': 1.1269346475601196, 'learning_rate': 3.239795918367347e-05, 'epoch': 8.51}\n",
      "{'loss': 0.2997, 'grad_norm': 0.9787229299545288, 'learning_rate': 3.2270408163265306e-05, 'epoch': 8.55}\n",
      "{'loss': 0.2932, 'grad_norm': 0.8372495174407959, 'learning_rate': 3.2142857142857144e-05, 'epoch': 8.6}\n",
      "{'loss': 0.298, 'grad_norm': 0.8539662957191467, 'learning_rate': 3.201530612244898e-05, 'epoch': 8.64}\n",
      "{'loss': 0.3068, 'grad_norm': 0.8636023998260498, 'learning_rate': 3.188775510204082e-05, 'epoch': 8.69}\n",
      "{'loss': 0.2915, 'grad_norm': 0.9133173227310181, 'learning_rate': 3.176020408163266e-05, 'epoch': 8.73}\n",
      "{'loss': 0.296, 'grad_norm': 0.9262863993644714, 'learning_rate': 3.1632653061224494e-05, 'epoch': 8.78}\n",
      "{'loss': 0.3053, 'grad_norm': 0.9341338276863098, 'learning_rate': 3.1505102040816325e-05, 'epoch': 8.82}\n",
      "{'loss': 0.3019, 'grad_norm': 1.2184014320373535, 'learning_rate': 3.137755102040816e-05, 'epoch': 8.87}\n",
      "{'loss': 0.2959, 'grad_norm': 0.9281149506568909, 'learning_rate': 3.125e-05, 'epoch': 8.91}\n",
      "{'loss': 0.2781, 'grad_norm': 1.0843076705932617, 'learning_rate': 3.112244897959184e-05, 'epoch': 8.96}\n"
     ]
    },
    {
     "data": {
      "application/vnd.jupyter.widget-view+json": {
       "model_id": "ac0e271c0a974812894b13a3cb810404",
       "version_major": 2,
       "version_minor": 0
      },
      "text/plain": [
       "  0%|          | 0/67 [00:00<?, ?it/s]"
      ]
     },
     "metadata": {},
     "output_type": "display_data"
    },
    {
     "name": "stdout",
     "output_type": "stream",
     "text": [
      "{'eval_loss': 0.2766559422016144, 'eval_accuracy': 0.8847275697118189, 'eval_runtime': 156.1664, 'eval_samples_per_second': 109.768, 'eval_steps_per_second': 0.429, 'epoch': 9.0}\n",
      "{'loss': 0.3071, 'grad_norm': 1.089714527130127, 'learning_rate': 3.0994897959183676e-05, 'epoch': 9.0}\n",
      "{'loss': 0.3015, 'grad_norm': 0.9022876024246216, 'learning_rate': 3.086734693877551e-05, 'epoch': 9.05}\n",
      "{'loss': 0.3119, 'grad_norm': 0.9541189670562744, 'learning_rate': 3.073979591836735e-05, 'epoch': 9.1}\n",
      "{'loss': 0.2858, 'grad_norm': 0.8675541877746582, 'learning_rate': 3.061224489795919e-05, 'epoch': 9.14}\n",
      "{'loss': 0.2986, 'grad_norm': 1.298288345336914, 'learning_rate': 3.0484693877551023e-05, 'epoch': 9.19}\n",
      "{'loss': 0.2986, 'grad_norm': 1.2993860244750977, 'learning_rate': 3.0357142857142857e-05, 'epoch': 9.23}\n",
      "{'loss': 0.282, 'grad_norm': 0.861420214176178, 'learning_rate': 3.0229591836734695e-05, 'epoch': 9.28}\n",
      "{'loss': 0.3027, 'grad_norm': 1.1722073554992676, 'learning_rate': 3.0102040816326533e-05, 'epoch': 9.32}\n",
      "{'loss': 0.2935, 'grad_norm': 0.8081117868423462, 'learning_rate': 2.997448979591837e-05, 'epoch': 9.37}\n",
      "{'loss': 0.2985, 'grad_norm': 0.9207034707069397, 'learning_rate': 2.9846938775510208e-05, 'epoch': 9.41}\n",
      "{'loss': 0.2845, 'grad_norm': 0.7922168970108032, 'learning_rate': 2.9719387755102042e-05, 'epoch': 9.46}\n",
      "{'loss': 0.2952, 'grad_norm': 1.312374234199524, 'learning_rate': 2.959183673469388e-05, 'epoch': 9.5}\n",
      "{'loss': 0.288, 'grad_norm': 1.0862047672271729, 'learning_rate': 2.9464285714285718e-05, 'epoch': 9.55}\n",
      "{'loss': 0.3024, 'grad_norm': 1.542301058769226, 'learning_rate': 2.9336734693877555e-05, 'epoch': 9.59}\n",
      "{'loss': 0.3012, 'grad_norm': 1.2261841297149658, 'learning_rate': 2.9209183673469386e-05, 'epoch': 9.64}\n",
      "{'loss': 0.289, 'grad_norm': 0.8499430418014526, 'learning_rate': 2.9081632653061224e-05, 'epoch': 9.68}\n",
      "{'loss': 0.2929, 'grad_norm': 0.80311119556427, 'learning_rate': 2.895408163265306e-05, 'epoch': 9.73}\n",
      "{'loss': 0.2934, 'grad_norm': 1.1561834812164307, 'learning_rate': 2.8826530612244902e-05, 'epoch': 9.77}\n",
      "{'loss': 0.3114, 'grad_norm': 0.9073063135147095, 'learning_rate': 2.869897959183674e-05, 'epoch': 9.82}\n",
      "{'loss': 0.2929, 'grad_norm': 1.4502817392349243, 'learning_rate': 2.857142857142857e-05, 'epoch': 9.86}\n",
      "{'loss': 0.3019, 'grad_norm': 1.0103188753128052, 'learning_rate': 2.844387755102041e-05, 'epoch': 9.91}\n",
      "{'loss': 0.2887, 'grad_norm': 0.8257074356079102, 'learning_rate': 2.8316326530612246e-05, 'epoch': 9.95}\n",
      "{'loss': 0.2979, 'grad_norm': 1.3081085681915283, 'learning_rate': 2.8188775510204084e-05, 'epoch': 10.0}\n"
     ]
    },
    {
     "data": {
      "application/vnd.jupyter.widget-view+json": {
       "model_id": "15c901837d0546e68f8672fc88d74434",
       "version_major": 2,
       "version_minor": 0
      },
      "text/plain": [
       "  0%|          | 0/67 [00:00<?, ?it/s]"
      ]
     },
     "metadata": {},
     "output_type": "display_data"
    },
    {
     "name": "stdout",
     "output_type": "stream",
     "text": [
      "{'eval_loss': 0.2726163864135742, 'eval_accuracy': 0.8826858009567145, 'eval_runtime': 157.1139, 'eval_samples_per_second': 109.106, 'eval_steps_per_second': 0.426, 'epoch': 10.0}\n",
      "{'loss': 0.2878, 'grad_norm': 1.012218713760376, 'learning_rate': 2.8061224489795918e-05, 'epoch': 10.05}\n",
      "{'loss': 0.294, 'grad_norm': 1.0959364175796509, 'learning_rate': 2.7933673469387756e-05, 'epoch': 10.09}\n",
      "{'loss': 0.2861, 'grad_norm': 1.3462098836898804, 'learning_rate': 2.7806122448979593e-05, 'epoch': 10.14}\n",
      "{'loss': 0.3029, 'grad_norm': 2.371915102005005, 'learning_rate': 2.767857142857143e-05, 'epoch': 10.18}\n",
      "{'loss': 0.2839, 'grad_norm': 1.5120748281478882, 'learning_rate': 2.7551020408163265e-05, 'epoch': 10.23}\n",
      "{'loss': 0.2641, 'grad_norm': 1.1346203088760376, 'learning_rate': 2.7423469387755103e-05, 'epoch': 10.27}\n",
      "{'loss': 0.2934, 'grad_norm': 0.9342988133430481, 'learning_rate': 2.729591836734694e-05, 'epoch': 10.32}\n",
      "{'loss': 0.2967, 'grad_norm': 0.9687184691429138, 'learning_rate': 2.7168367346938778e-05, 'epoch': 10.36}\n",
      "{'loss': 0.2801, 'grad_norm': 1.0899200439453125, 'learning_rate': 2.7040816326530616e-05, 'epoch': 10.41}\n",
      "{'loss': 0.299, 'grad_norm': 1.0983539819717407, 'learning_rate': 2.6913265306122447e-05, 'epoch': 10.45}\n",
      "{'loss': 0.2879, 'grad_norm': 0.8700661659240723, 'learning_rate': 2.6785714285714288e-05, 'epoch': 10.5}\n",
      "{'loss': 0.3032, 'grad_norm': 0.9256486892700195, 'learning_rate': 2.6658163265306125e-05, 'epoch': 10.54}\n",
      "{'loss': 0.2876, 'grad_norm': 1.1518090963363647, 'learning_rate': 2.6530612244897963e-05, 'epoch': 10.59}\n",
      "{'loss': 0.2845, 'grad_norm': 1.1821881532669067, 'learning_rate': 2.6403061224489794e-05, 'epoch': 10.63}\n",
      "{'loss': 0.2796, 'grad_norm': 1.6674623489379883, 'learning_rate': 2.627551020408163e-05, 'epoch': 10.68}\n",
      "{'loss': 0.3077, 'grad_norm': 1.005113959312439, 'learning_rate': 2.614795918367347e-05, 'epoch': 10.72}\n",
      "{'loss': 0.286, 'grad_norm': 0.9326217770576477, 'learning_rate': 2.6020408163265307e-05, 'epoch': 10.77}\n",
      "{'loss': 0.3016, 'grad_norm': 1.1697300672531128, 'learning_rate': 2.5892857142857148e-05, 'epoch': 10.81}\n",
      "{'loss': 0.2956, 'grad_norm': 0.924064576625824, 'learning_rate': 2.576530612244898e-05, 'epoch': 10.86}\n",
      "{'loss': 0.2894, 'grad_norm': 1.267897605895996, 'learning_rate': 2.5637755102040816e-05, 'epoch': 10.9}\n",
      "{'loss': 0.2961, 'grad_norm': 1.1938868761062622, 'learning_rate': 2.5510204081632654e-05, 'epoch': 10.95}\n",
      "{'loss': 0.2955, 'grad_norm': 1.0272597074508667, 'learning_rate': 2.538265306122449e-05, 'epoch': 11.0}\n"
     ]
    },
    {
     "data": {
      "application/vnd.jupyter.widget-view+json": {
       "model_id": "738e094305c540baa5530fb97282c38f",
       "version_major": 2,
       "version_minor": 0
      },
      "text/plain": [
       "  0%|          | 0/67 [00:00<?, ?it/s]"
      ]
     },
     "metadata": {},
     "output_type": "display_data"
    },
    {
     "name": "stdout",
     "output_type": "stream",
     "text": [
      "{'eval_loss': 0.2699470520019531, 'eval_accuracy': 0.8819857659549644, 'eval_runtime': 159.9186, 'eval_samples_per_second': 107.192, 'eval_steps_per_second': 0.419, 'epoch': 11.0}\n",
      "{'loss': 0.2767, 'grad_norm': 0.8424698114395142, 'learning_rate': 2.5255102040816326e-05, 'epoch': 11.04}\n",
      "{'loss': 0.2908, 'grad_norm': 1.0856053829193115, 'learning_rate': 2.5127551020408164e-05, 'epoch': 11.09}\n",
      "{'loss': 0.2818, 'grad_norm': 0.977380633354187, 'learning_rate': 2.5e-05, 'epoch': 11.13}\n",
      "{'loss': 0.2918, 'grad_norm': 1.2663642168045044, 'learning_rate': 2.487244897959184e-05, 'epoch': 11.18}\n",
      "{'loss': 0.2889, 'grad_norm': 0.8479412794113159, 'learning_rate': 2.4744897959183673e-05, 'epoch': 11.22}\n",
      "{'loss': 0.2921, 'grad_norm': 0.8527776598930359, 'learning_rate': 2.461734693877551e-05, 'epoch': 11.27}\n",
      "{'loss': 0.2919, 'grad_norm': 0.954310417175293, 'learning_rate': 2.448979591836735e-05, 'epoch': 11.31}\n",
      "{'loss': 0.2862, 'grad_norm': 0.9729942679405212, 'learning_rate': 2.4362244897959186e-05, 'epoch': 11.36}\n",
      "{'loss': 0.2758, 'grad_norm': 0.7499611973762512, 'learning_rate': 2.423469387755102e-05, 'epoch': 11.4}\n",
      "{'loss': 0.2914, 'grad_norm': 1.337113857269287, 'learning_rate': 2.4107142857142858e-05, 'epoch': 11.45}\n",
      "{'loss': 0.3161, 'grad_norm': 0.983500599861145, 'learning_rate': 2.3979591836734696e-05, 'epoch': 11.49}\n",
      "{'loss': 0.3064, 'grad_norm': 1.3806086778640747, 'learning_rate': 2.3852040816326533e-05, 'epoch': 11.54}\n",
      "{'loss': 0.2922, 'grad_norm': 1.4868052005767822, 'learning_rate': 2.372448979591837e-05, 'epoch': 11.58}\n",
      "{'loss': 0.2852, 'grad_norm': 0.8225846290588379, 'learning_rate': 2.3596938775510205e-05, 'epoch': 11.63}\n",
      "{'loss': 0.2851, 'grad_norm': 0.7304466962814331, 'learning_rate': 2.3469387755102043e-05, 'epoch': 11.67}\n",
      "{'loss': 0.2793, 'grad_norm': 1.2456806898117065, 'learning_rate': 2.3341836734693877e-05, 'epoch': 11.72}\n",
      "{'loss': 0.3061, 'grad_norm': 1.0103304386138916, 'learning_rate': 2.3214285714285715e-05, 'epoch': 11.76}\n",
      "{'loss': 0.2913, 'grad_norm': 0.9149574637413025, 'learning_rate': 2.3086734693877552e-05, 'epoch': 11.81}\n",
      "{'loss': 0.2959, 'grad_norm': 1.4878387451171875, 'learning_rate': 2.295918367346939e-05, 'epoch': 11.86}\n",
      "{'loss': 0.2876, 'grad_norm': 0.9149820804595947, 'learning_rate': 2.2831632653061224e-05, 'epoch': 11.9}\n",
      "{'loss': 0.3, 'grad_norm': 0.8401003479957581, 'learning_rate': 2.2704081632653062e-05, 'epoch': 11.95}\n",
      "{'loss': 0.2824, 'grad_norm': 1.0375208854675293, 'learning_rate': 2.2576530612244896e-05, 'epoch': 11.99}\n"
     ]
    },
    {
     "data": {
      "application/vnd.jupyter.widget-view+json": {
       "model_id": "9883525aeb9d402cae2e3849c2555cf4",
       "version_major": 2,
       "version_minor": 0
      },
      "text/plain": [
       "  0%|          | 0/67 [00:00<?, ?it/s]"
      ]
     },
     "metadata": {},
     "output_type": "display_data"
    },
    {
     "name": "stdout",
     "output_type": "stream",
     "text": [
      "{'eval_loss': 0.2679998576641083, 'eval_accuracy': 0.8836775172091937, 'eval_runtime': 161.1409, 'eval_samples_per_second': 106.379, 'eval_steps_per_second': 0.416, 'epoch': 12.0}\n",
      "{'loss': 0.2916, 'grad_norm': 1.089388132095337, 'learning_rate': 2.2448979591836737e-05, 'epoch': 12.04}\n",
      "{'loss': 0.2967, 'grad_norm': 1.1035181283950806, 'learning_rate': 2.2321428571428575e-05, 'epoch': 12.08}\n",
      "{'loss': 0.2817, 'grad_norm': 0.8369129300117493, 'learning_rate': 2.219387755102041e-05, 'epoch': 12.13}\n",
      "{'loss': 0.2955, 'grad_norm': 1.1285077333450317, 'learning_rate': 2.2066326530612247e-05, 'epoch': 12.17}\n",
      "{'loss': 0.2623, 'grad_norm': 1.161742925643921, 'learning_rate': 2.193877551020408e-05, 'epoch': 12.22}\n",
      "{'loss': 0.2834, 'grad_norm': 0.8510958552360535, 'learning_rate': 2.181122448979592e-05, 'epoch': 12.26}\n",
      "{'loss': 0.2991, 'grad_norm': 1.020033597946167, 'learning_rate': 2.1683673469387756e-05, 'epoch': 12.31}\n",
      "{'loss': 0.2893, 'grad_norm': 1.0266822576522827, 'learning_rate': 2.1556122448979594e-05, 'epoch': 12.35}\n",
      "{'loss': 0.2814, 'grad_norm': 1.208601713180542, 'learning_rate': 2.1428571428571428e-05, 'epoch': 12.4}\n",
      "{'loss': 0.2933, 'grad_norm': 1.3854228258132935, 'learning_rate': 2.1301020408163266e-05, 'epoch': 12.44}\n",
      "{'loss': 0.2989, 'grad_norm': 1.2425360679626465, 'learning_rate': 2.1173469387755103e-05, 'epoch': 12.49}\n",
      "{'loss': 0.3049, 'grad_norm': 0.7396466135978699, 'learning_rate': 2.104591836734694e-05, 'epoch': 12.53}\n",
      "{'loss': 0.2715, 'grad_norm': 0.8386232852935791, 'learning_rate': 2.091836734693878e-05, 'epoch': 12.58}\n",
      "{'loss': 0.2684, 'grad_norm': 1.0259276628494263, 'learning_rate': 2.0790816326530613e-05, 'epoch': 12.62}\n",
      "{'loss': 0.2733, 'grad_norm': 0.9264105558395386, 'learning_rate': 2.066326530612245e-05, 'epoch': 12.67}\n",
      "{'loss': 0.297, 'grad_norm': 1.3753206729888916, 'learning_rate': 2.0535714285714285e-05, 'epoch': 12.71}\n",
      "{'loss': 0.2936, 'grad_norm': 1.1936718225479126, 'learning_rate': 2.0408163265306123e-05, 'epoch': 12.76}\n",
      "{'loss': 0.263, 'grad_norm': 1.0714842081069946, 'learning_rate': 2.028061224489796e-05, 'epoch': 12.81}\n",
      "{'loss': 0.2942, 'grad_norm': 1.1620516777038574, 'learning_rate': 2.0153061224489798e-05, 'epoch': 12.85}\n",
      "{'loss': 0.2978, 'grad_norm': 0.861341118812561, 'learning_rate': 2.0025510204081632e-05, 'epoch': 12.9}\n",
      "{'loss': 0.2777, 'grad_norm': 1.2194565534591675, 'learning_rate': 1.989795918367347e-05, 'epoch': 12.94}\n",
      "{'loss': 0.2973, 'grad_norm': 1.5244983434677124, 'learning_rate': 1.9770408163265307e-05, 'epoch': 12.99}\n"
     ]
    },
    {
     "data": {
      "application/vnd.jupyter.widget-view+json": {
       "model_id": "8c1c7d9a9b094d519bbc6686bd5722fe",
       "version_major": 2,
       "version_minor": 0
      },
      "text/plain": [
       "  0%|          | 0/67 [00:00<?, ?it/s]"
      ]
     },
     "metadata": {},
     "output_type": "display_data"
    },
    {
     "name": "stdout",
     "output_type": "stream",
     "text": [
      "{'eval_loss': 0.2704576849937439, 'eval_accuracy': 0.8827441372068603, 'eval_runtime': 159.7239, 'eval_samples_per_second': 107.323, 'eval_steps_per_second': 0.419, 'epoch': 13.0}\n",
      "{'loss': 0.2853, 'grad_norm': 0.9642989039421082, 'learning_rate': 1.9642857142857145e-05, 'epoch': 13.03}\n",
      "{'loss': 0.2915, 'grad_norm': 0.9962408542633057, 'learning_rate': 1.9515306122448983e-05, 'epoch': 13.08}\n",
      "{'loss': 0.2961, 'grad_norm': 1.0513514280319214, 'learning_rate': 1.9387755102040817e-05, 'epoch': 13.12}\n",
      "{'loss': 0.2915, 'grad_norm': 1.3349093198776245, 'learning_rate': 1.9260204081632655e-05, 'epoch': 13.17}\n",
      "{'loss': 0.2979, 'grad_norm': 1.2407432794570923, 'learning_rate': 1.913265306122449e-05, 'epoch': 13.21}\n",
      "{'loss': 0.2728, 'grad_norm': 1.0659154653549194, 'learning_rate': 1.9005102040816326e-05, 'epoch': 13.26}\n",
      "{'loss': 0.2853, 'grad_norm': 1.374281883239746, 'learning_rate': 1.8877551020408164e-05, 'epoch': 13.3}\n",
      "{'loss': 0.2848, 'grad_norm': 1.7093620300292969, 'learning_rate': 1.8750000000000002e-05, 'epoch': 13.35}\n",
      "{'loss': 0.2569, 'grad_norm': 0.9282134771347046, 'learning_rate': 1.862244897959184e-05, 'epoch': 13.39}\n",
      "{'loss': 0.3015, 'grad_norm': 0.8919147253036499, 'learning_rate': 1.8494897959183674e-05, 'epoch': 13.44}\n",
      "{'loss': 0.2761, 'grad_norm': 1.2046666145324707, 'learning_rate': 1.836734693877551e-05, 'epoch': 13.48}\n",
      "{'loss': 0.2866, 'grad_norm': 1.1238714456558228, 'learning_rate': 1.823979591836735e-05, 'epoch': 13.53}\n",
      "{'loss': 0.2806, 'grad_norm': 1.2873647212982178, 'learning_rate': 1.8112244897959187e-05, 'epoch': 13.57}\n",
      "{'loss': 0.2777, 'grad_norm': 1.0960267782211304, 'learning_rate': 1.798469387755102e-05, 'epoch': 13.62}\n",
      "{'loss': 0.2897, 'grad_norm': 0.9677166938781738, 'learning_rate': 1.785714285714286e-05, 'epoch': 13.67}\n",
      "{'loss': 0.2962, 'grad_norm': 1.0867356061935425, 'learning_rate': 1.7729591836734693e-05, 'epoch': 13.71}\n",
      "{'loss': 0.2699, 'grad_norm': 1.079500436782837, 'learning_rate': 1.760204081632653e-05, 'epoch': 13.76}\n",
      "{'loss': 0.282, 'grad_norm': 1.166570782661438, 'learning_rate': 1.7474489795918368e-05, 'epoch': 13.8}\n",
      "{'loss': 0.2829, 'grad_norm': 0.9913896918296814, 'learning_rate': 1.7346938775510206e-05, 'epoch': 13.85}\n",
      "{'loss': 0.2965, 'grad_norm': 1.6439810991287231, 'learning_rate': 1.7219387755102043e-05, 'epoch': 13.89}\n",
      "{'loss': 0.278, 'grad_norm': 1.1093673706054688, 'learning_rate': 1.7091836734693878e-05, 'epoch': 13.94}\n",
      "{'loss': 0.2742, 'grad_norm': 0.9273044466972351, 'learning_rate': 1.6964285714285715e-05, 'epoch': 13.98}\n"
     ]
    },
    {
     "data": {
      "application/vnd.jupyter.widget-view+json": {
       "model_id": "d98350ec262c4931a08f5e518dd2a61a",
       "version_major": 2,
       "version_minor": 0
      },
      "text/plain": [
       "  0%|          | 0/67 [00:00<?, ?it/s]"
      ]
     },
     "metadata": {},
     "output_type": "display_data"
    },
    {
     "name": "stdout",
     "output_type": "stream",
     "text": [
      "{'eval_loss': 0.25977084040641785, 'eval_accuracy': 0.8889277797223194, 'eval_runtime': 160.0289, 'eval_samples_per_second': 107.118, 'eval_steps_per_second': 0.419, 'epoch': 14.0}\n",
      "{'loss': 0.2754, 'grad_norm': 0.9592587947845459, 'learning_rate': 1.683673469387755e-05, 'epoch': 14.03}\n",
      "{'loss': 0.2916, 'grad_norm': 1.1504807472229004, 'learning_rate': 1.670918367346939e-05, 'epoch': 14.07}\n",
      "{'loss': 0.2866, 'grad_norm': 0.9509300589561462, 'learning_rate': 1.6581632653061225e-05, 'epoch': 14.12}\n",
      "{'loss': 0.2698, 'grad_norm': 1.054692268371582, 'learning_rate': 1.6454081632653062e-05, 'epoch': 14.16}\n",
      "{'loss': 0.2721, 'grad_norm': 1.1029858589172363, 'learning_rate': 1.6326530612244897e-05, 'epoch': 14.21}\n",
      "{'loss': 0.2836, 'grad_norm': 0.9609228372573853, 'learning_rate': 1.6198979591836734e-05, 'epoch': 14.25}\n",
      "{'loss': 0.2948, 'grad_norm': 1.2036974430084229, 'learning_rate': 1.6071428571428572e-05, 'epoch': 14.3}\n",
      "{'loss': 0.2925, 'grad_norm': 1.7518787384033203, 'learning_rate': 1.594387755102041e-05, 'epoch': 14.34}\n",
      "{'loss': 0.2718, 'grad_norm': 0.9175171256065369, 'learning_rate': 1.5816326530612247e-05, 'epoch': 14.39}\n",
      "{'loss': 0.2852, 'grad_norm': 0.903378963470459, 'learning_rate': 1.568877551020408e-05, 'epoch': 14.43}\n",
      "{'loss': 0.3081, 'grad_norm': 0.9889141321182251, 'learning_rate': 1.556122448979592e-05, 'epoch': 14.48}\n",
      "{'loss': 0.2861, 'grad_norm': 1.391011357307434, 'learning_rate': 1.5433673469387753e-05, 'epoch': 14.52}\n",
      "{'loss': 0.2976, 'grad_norm': 0.9474375247955322, 'learning_rate': 1.5306122448979594e-05, 'epoch': 14.57}\n",
      "{'loss': 0.2897, 'grad_norm': 1.1985551118850708, 'learning_rate': 1.5178571428571429e-05, 'epoch': 14.62}\n",
      "{'loss': 0.2685, 'grad_norm': 1.3370262384414673, 'learning_rate': 1.5051020408163266e-05, 'epoch': 14.66}\n",
      "{'loss': 0.2714, 'grad_norm': 0.7911612391471863, 'learning_rate': 1.4923469387755104e-05, 'epoch': 14.71}\n",
      "{'loss': 0.2791, 'grad_norm': 1.3146206140518188, 'learning_rate': 1.479591836734694e-05, 'epoch': 14.75}\n",
      "{'loss': 0.2758, 'grad_norm': 0.9590492844581604, 'learning_rate': 1.4668367346938778e-05, 'epoch': 14.8}\n",
      "{'loss': 0.2767, 'grad_norm': 0.9798856973648071, 'learning_rate': 1.4540816326530612e-05, 'epoch': 14.84}\n",
      "{'loss': 0.3051, 'grad_norm': 0.8734716773033142, 'learning_rate': 1.4413265306122451e-05, 'epoch': 14.89}\n",
      "{'loss': 0.298, 'grad_norm': 0.9551836848258972, 'learning_rate': 1.4285714285714285e-05, 'epoch': 14.93}\n",
      "{'loss': 0.2882, 'grad_norm': 1.2149816751480103, 'learning_rate': 1.4158163265306123e-05, 'epoch': 14.98}\n"
     ]
    },
    {
     "data": {
      "application/vnd.jupyter.widget-view+json": {
       "model_id": "4624856b79844b219a0ebd945376a2b6",
       "version_major": 2,
       "version_minor": 0
      },
      "text/plain": [
       "  0%|          | 0/67 [00:00<?, ?it/s]"
      ]
     },
     "metadata": {},
     "output_type": "display_data"
    },
    {
     "name": "stdout",
     "output_type": "stream",
     "text": [
      "{'eval_loss': 0.26842913031578064, 'eval_accuracy': 0.8836775172091937, 'eval_runtime': 161.1449, 'eval_samples_per_second': 106.376, 'eval_steps_per_second': 0.416, 'epoch': 15.0}\n",
      "{'loss': 0.2781, 'grad_norm': 1.0478496551513672, 'learning_rate': 1.4030612244897959e-05, 'epoch': 15.02}\n",
      "{'loss': 0.28, 'grad_norm': 0.925595223903656, 'learning_rate': 1.3903061224489797e-05, 'epoch': 15.07}\n",
      "{'loss': 0.2706, 'grad_norm': 0.8009387850761414, 'learning_rate': 1.3775510204081633e-05, 'epoch': 15.11}\n",
      "{'loss': 0.2916, 'grad_norm': 0.9219182729721069, 'learning_rate': 1.364795918367347e-05, 'epoch': 15.16}\n",
      "{'loss': 0.2859, 'grad_norm': 1.0717352628707886, 'learning_rate': 1.3520408163265308e-05, 'epoch': 15.2}\n",
      "{'loss': 0.2887, 'grad_norm': 1.1216868162155151, 'learning_rate': 1.3392857142857144e-05, 'epoch': 15.25}\n",
      "{'loss': 0.2759, 'grad_norm': 1.0146452188491821, 'learning_rate': 1.3265306122448982e-05, 'epoch': 15.29}\n",
      "{'loss': 0.2677, 'grad_norm': 1.1930161714553833, 'learning_rate': 1.3137755102040816e-05, 'epoch': 15.34}\n",
      "{'loss': 0.2634, 'grad_norm': 1.6734610795974731, 'learning_rate': 1.3010204081632653e-05, 'epoch': 15.38}\n",
      "{'loss': 0.2846, 'grad_norm': 0.8267460465431213, 'learning_rate': 1.288265306122449e-05, 'epoch': 15.43}\n",
      "{'loss': 0.2922, 'grad_norm': 0.8476055264472961, 'learning_rate': 1.2755102040816327e-05, 'epoch': 15.48}\n",
      "{'loss': 0.2833, 'grad_norm': 1.1443513631820679, 'learning_rate': 1.2627551020408163e-05, 'epoch': 15.52}\n",
      "{'loss': 0.2876, 'grad_norm': 0.9666504859924316, 'learning_rate': 1.25e-05, 'epoch': 15.57}\n",
      "{'loss': 0.2856, 'grad_norm': 1.3522706031799316, 'learning_rate': 1.2372448979591837e-05, 'epoch': 15.61}\n",
      "{'loss': 0.2967, 'grad_norm': 1.2322113513946533, 'learning_rate': 1.2244897959183674e-05, 'epoch': 15.66}\n",
      "{'loss': 0.2849, 'grad_norm': 0.9797264337539673, 'learning_rate': 1.211734693877551e-05, 'epoch': 15.7}\n",
      "{'loss': 0.2843, 'grad_norm': 1.1063209772109985, 'learning_rate': 1.1989795918367348e-05, 'epoch': 15.75}\n",
      "{'loss': 0.2795, 'grad_norm': 1.162872314453125, 'learning_rate': 1.1862244897959185e-05, 'epoch': 15.79}\n",
      "{'loss': 0.2712, 'grad_norm': 0.9524861574172974, 'learning_rate': 1.1734693877551021e-05, 'epoch': 15.84}\n",
      "{'loss': 0.2816, 'grad_norm': 1.877127766609192, 'learning_rate': 1.1607142857142857e-05, 'epoch': 15.88}\n",
      "{'loss': 0.2932, 'grad_norm': 1.9255177974700928, 'learning_rate': 1.1479591836734695e-05, 'epoch': 15.93}\n",
      "{'loss': 0.2833, 'grad_norm': 1.173393964767456, 'learning_rate': 1.1352040816326531e-05, 'epoch': 15.97}\n"
     ]
    },
    {
     "data": {
      "application/vnd.jupyter.widget-view+json": {
       "model_id": "224e59f9335c4ebd9f40e6a5ffa55364",
       "version_major": 2,
       "version_minor": 0
      },
      "text/plain": [
       "  0%|          | 0/67 [00:00<?, ?it/s]"
      ]
     },
     "metadata": {},
     "output_type": "display_data"
    },
    {
     "name": "stdout",
     "output_type": "stream",
     "text": [
      "{'eval_loss': 0.2549313008785248, 'eval_accuracy': 0.8905028584762571, 'eval_runtime': 161.7393, 'eval_samples_per_second': 105.985, 'eval_steps_per_second': 0.414, 'epoch': 16.0}\n",
      "{'loss': 0.2813, 'grad_norm': 0.8820334672927856, 'learning_rate': 1.1224489795918369e-05, 'epoch': 16.02}\n",
      "{'loss': 0.2704, 'grad_norm': 0.8762072324752808, 'learning_rate': 1.1096938775510205e-05, 'epoch': 16.06}\n",
      "{'loss': 0.2835, 'grad_norm': 0.8517970442771912, 'learning_rate': 1.096938775510204e-05, 'epoch': 16.11}\n",
      "{'loss': 0.2907, 'grad_norm': 1.3361337184906006, 'learning_rate': 1.0841836734693878e-05, 'epoch': 16.15}\n",
      "{'loss': 0.2872, 'grad_norm': 1.013611912727356, 'learning_rate': 1.0714285714285714e-05, 'epoch': 16.2}\n",
      "{'loss': 0.2695, 'grad_norm': 1.4438892602920532, 'learning_rate': 1.0586734693877552e-05, 'epoch': 16.24}\n",
      "{'loss': 0.2912, 'grad_norm': 0.9045618176460266, 'learning_rate': 1.045918367346939e-05, 'epoch': 16.29}\n",
      "{'loss': 0.2716, 'grad_norm': 0.7900695204734802, 'learning_rate': 1.0331632653061225e-05, 'epoch': 16.33}\n",
      "{'loss': 0.2839, 'grad_norm': 1.0094226598739624, 'learning_rate': 1.0204081632653061e-05, 'epoch': 16.38}\n",
      "{'loss': 0.2821, 'grad_norm': 1.3875210285186768, 'learning_rate': 1.0076530612244899e-05, 'epoch': 16.43}\n",
      "{'loss': 0.2913, 'grad_norm': 1.0574778318405151, 'learning_rate': 9.948979591836735e-06, 'epoch': 16.47}\n",
      "{'loss': 0.26, 'grad_norm': 0.9409951567649841, 'learning_rate': 9.821428571428573e-06, 'epoch': 16.52}\n",
      "{'loss': 0.277, 'grad_norm': 0.726616621017456, 'learning_rate': 9.693877551020408e-06, 'epoch': 16.56}\n",
      "{'loss': 0.2847, 'grad_norm': 1.515353798866272, 'learning_rate': 9.566326530612244e-06, 'epoch': 16.61}\n",
      "{'loss': 0.2942, 'grad_norm': 1.3180077075958252, 'learning_rate': 9.438775510204082e-06, 'epoch': 16.65}\n",
      "{'loss': 0.285, 'grad_norm': 0.8610504865646362, 'learning_rate': 9.31122448979592e-06, 'epoch': 16.7}\n",
      "{'loss': 0.2874, 'grad_norm': 1.0106574296951294, 'learning_rate': 9.183673469387756e-06, 'epoch': 16.74}\n",
      "{'loss': 0.2829, 'grad_norm': 1.3111305236816406, 'learning_rate': 9.056122448979593e-06, 'epoch': 16.79}\n",
      "{'loss': 0.2707, 'grad_norm': 1.252210021018982, 'learning_rate': 8.92857142857143e-06, 'epoch': 16.83}\n",
      "{'loss': 0.2712, 'grad_norm': 0.8732870221138, 'learning_rate': 8.801020408163265e-06, 'epoch': 16.88}\n",
      "{'loss': 0.2713, 'grad_norm': 0.8308312296867371, 'learning_rate': 8.673469387755103e-06, 'epoch': 16.92}\n",
      "{'loss': 0.285, 'grad_norm': 1.4784985780715942, 'learning_rate': 8.545918367346939e-06, 'epoch': 16.97}\n"
     ]
    },
    {
     "data": {
      "application/vnd.jupyter.widget-view+json": {
       "model_id": "5bc201377d9147bebfce3c43bc37f44f",
       "version_major": 2,
       "version_minor": 0
      },
      "text/plain": [
       "  0%|          | 0/67 [00:00<?, ?it/s]"
      ]
     },
     "metadata": {},
     "output_type": "display_data"
    },
    {
     "name": "stdout",
     "output_type": "stream",
     "text": [
      "{'eval_loss': 0.25796571373939514, 'eval_accuracy': 0.8892777972231944, 'eval_runtime': 160.17, 'eval_samples_per_second': 107.024, 'eval_steps_per_second': 0.418, 'epoch': 17.0}\n",
      "{'loss': 0.2589, 'grad_norm': 0.9772096276283264, 'learning_rate': 8.418367346938775e-06, 'epoch': 17.01}\n",
      "{'loss': 0.2822, 'grad_norm': 1.4322434663772583, 'learning_rate': 8.290816326530612e-06, 'epoch': 17.06}\n",
      "{'loss': 0.2768, 'grad_norm': 0.9762919545173645, 'learning_rate': 8.163265306122448e-06, 'epoch': 17.1}\n",
      "{'loss': 0.2943, 'grad_norm': 1.1315116882324219, 'learning_rate': 8.035714285714286e-06, 'epoch': 17.15}\n",
      "{'loss': 0.2785, 'grad_norm': 1.067330002784729, 'learning_rate': 7.908163265306124e-06, 'epoch': 17.19}\n",
      "{'loss': 0.2917, 'grad_norm': 1.1795541048049927, 'learning_rate': 7.78061224489796e-06, 'epoch': 17.24}\n",
      "{'loss': 0.2757, 'grad_norm': 1.0631250143051147, 'learning_rate': 7.653061224489797e-06, 'epoch': 17.29}\n",
      "{'loss': 0.287, 'grad_norm': 1.241036057472229, 'learning_rate': 7.525510204081633e-06, 'epoch': 17.33}\n",
      "{'loss': 0.2778, 'grad_norm': 1.2379311323165894, 'learning_rate': 7.39795918367347e-06, 'epoch': 17.38}\n",
      "{'loss': 0.275, 'grad_norm': 0.86821049451828, 'learning_rate': 7.270408163265306e-06, 'epoch': 17.42}\n",
      "{'loss': 0.3017, 'grad_norm': 1.3229656219482422, 'learning_rate': 7.142857142857143e-06, 'epoch': 17.47}\n",
      "{'loss': 0.2801, 'grad_norm': 1.5305756330490112, 'learning_rate': 7.0153061224489795e-06, 'epoch': 17.51}\n",
      "{'loss': 0.2756, 'grad_norm': 0.8666216135025024, 'learning_rate': 6.887755102040816e-06, 'epoch': 17.56}\n",
      "{'loss': 0.2859, 'grad_norm': 0.8069404363632202, 'learning_rate': 6.760204081632654e-06, 'epoch': 17.6}\n",
      "{'loss': 0.2547, 'grad_norm': 1.2729264497756958, 'learning_rate': 6.632653061224491e-06, 'epoch': 17.65}\n",
      "{'loss': 0.2708, 'grad_norm': 0.8372703790664673, 'learning_rate': 6.505102040816327e-06, 'epoch': 17.69}\n",
      "{'loss': 0.2829, 'grad_norm': 1.335654616355896, 'learning_rate': 6.3775510204081635e-06, 'epoch': 17.74}\n",
      "{'loss': 0.2826, 'grad_norm': 1.0613707304000854, 'learning_rate': 6.25e-06, 'epoch': 17.78}\n",
      "{'loss': 0.2565, 'grad_norm': 0.8848387002944946, 'learning_rate': 6.122448979591837e-06, 'epoch': 17.83}\n",
      "{'loss': 0.2966, 'grad_norm': 1.1478078365325928, 'learning_rate': 5.994897959183674e-06, 'epoch': 17.87}\n",
      "{'loss': 0.2526, 'grad_norm': 0.8463554382324219, 'learning_rate': 5.867346938775511e-06, 'epoch': 17.92}\n",
      "{'loss': 0.2864, 'grad_norm': 0.7974833846092224, 'learning_rate': 5.7397959183673475e-06, 'epoch': 17.96}\n"
     ]
    },
    {
     "data": {
      "application/vnd.jupyter.widget-view+json": {
       "model_id": "a2b91a3401644a5f813ebcfac436b44c",
       "version_major": 2,
       "version_minor": 0
      },
      "text/plain": [
       "  0%|          | 0/67 [00:00<?, ?it/s]"
      ]
     },
     "metadata": {},
     "output_type": "display_data"
    },
    {
     "name": "stdout",
     "output_type": "stream",
     "text": [
      "{'eval_loss': 0.2539231479167938, 'eval_accuracy': 0.8931279897328199, 'eval_runtime': 160.3263, 'eval_samples_per_second': 106.919, 'eval_steps_per_second': 0.418, 'epoch': 18.0}\n",
      "{'loss': 0.2778, 'grad_norm': 1.154860258102417, 'learning_rate': 5.612244897959184e-06, 'epoch': 18.01}\n",
      "{'loss': 0.2791, 'grad_norm': 1.1577537059783936, 'learning_rate': 5.48469387755102e-06, 'epoch': 18.05}\n",
      "{'loss': 0.2964, 'grad_norm': 0.9296960830688477, 'learning_rate': 5.357142857142857e-06, 'epoch': 18.1}\n",
      "{'loss': 0.2751, 'grad_norm': 0.9612064361572266, 'learning_rate': 5.229591836734695e-06, 'epoch': 18.14}\n",
      "{'loss': 0.2617, 'grad_norm': 1.0373328924179077, 'learning_rate': 5.102040816326531e-06, 'epoch': 18.19}\n",
      "{'loss': 0.2788, 'grad_norm': 2.3092970848083496, 'learning_rate': 4.9744897959183674e-06, 'epoch': 18.24}\n",
      "{'loss': 0.2612, 'grad_norm': 1.8288300037384033, 'learning_rate': 4.846938775510204e-06, 'epoch': 18.28}\n",
      "{'loss': 0.26, 'grad_norm': 0.9837968945503235, 'learning_rate': 4.719387755102041e-06, 'epoch': 18.33}\n",
      "{'loss': 0.2917, 'grad_norm': 1.1349908113479614, 'learning_rate': 4.591836734693878e-06, 'epoch': 18.37}\n",
      "{'loss': 0.2695, 'grad_norm': 0.9643105268478394, 'learning_rate': 4.464285714285715e-06, 'epoch': 18.42}\n",
      "{'loss': 0.2949, 'grad_norm': 1.3244587182998657, 'learning_rate': 4.336734693877551e-06, 'epoch': 18.46}\n",
      "{'loss': 0.2868, 'grad_norm': 1.3161613941192627, 'learning_rate': 4.209183673469387e-06, 'epoch': 18.51}\n",
      "{'loss': 0.2979, 'grad_norm': 0.8095474243164062, 'learning_rate': 4.081632653061224e-06, 'epoch': 18.55}\n",
      "{'loss': 0.2617, 'grad_norm': 1.036091685295105, 'learning_rate': 3.954081632653062e-06, 'epoch': 18.6}\n",
      "{'loss': 0.2736, 'grad_norm': 1.3496379852294922, 'learning_rate': 3.826530612244899e-06, 'epoch': 18.64}\n",
      "{'loss': 0.2737, 'grad_norm': 0.9850603938102722, 'learning_rate': 3.698979591836735e-06, 'epoch': 18.69}\n",
      "{'loss': 0.2833, 'grad_norm': 0.9667220711708069, 'learning_rate': 3.5714285714285714e-06, 'epoch': 18.73}\n",
      "{'loss': 0.2859, 'grad_norm': 1.440638780593872, 'learning_rate': 3.443877551020408e-06, 'epoch': 18.78}\n",
      "{'loss': 0.2894, 'grad_norm': 0.8026507496833801, 'learning_rate': 3.3163265306122454e-06, 'epoch': 18.82}\n",
      "{'loss': 0.2957, 'grad_norm': 1.252306580543518, 'learning_rate': 3.1887755102040818e-06, 'epoch': 18.87}\n",
      "{'loss': 0.2664, 'grad_norm': 1.215366244316101, 'learning_rate': 3.0612244897959185e-06, 'epoch': 18.91}\n",
      "{'loss': 0.285, 'grad_norm': 0.8804450035095215, 'learning_rate': 2.9336734693877553e-06, 'epoch': 18.96}\n"
     ]
    },
    {
     "data": {
      "application/vnd.jupyter.widget-view+json": {
       "model_id": "7787aa290d6947caba9d55e406ce348c",
       "version_major": 2,
       "version_minor": 0
      },
      "text/plain": [
       "  0%|          | 0/67 [00:00<?, ?it/s]"
      ]
     },
     "metadata": {},
     "output_type": "display_data"
    },
    {
     "name": "stdout",
     "output_type": "stream",
     "text": [
      "{'eval_loss': 0.25330156087875366, 'eval_accuracy': 0.8917279197293198, 'eval_runtime': 159.9405, 'eval_samples_per_second': 107.177, 'eval_steps_per_second': 0.419, 'epoch': 19.0}\n",
      "{'loss': 0.2612, 'grad_norm': 1.0151054859161377, 'learning_rate': 2.806122448979592e-06, 'epoch': 19.0}\n",
      "{'loss': 0.2966, 'grad_norm': 1.208803415298462, 'learning_rate': 2.6785714285714285e-06, 'epoch': 19.05}\n",
      "{'loss': 0.2811, 'grad_norm': 1.0914499759674072, 'learning_rate': 2.5510204081632653e-06, 'epoch': 19.1}\n",
      "{'loss': 0.2747, 'grad_norm': 0.899793267250061, 'learning_rate': 2.423469387755102e-06, 'epoch': 19.14}\n",
      "{'loss': 0.2777, 'grad_norm': 0.741868257522583, 'learning_rate': 2.295918367346939e-06, 'epoch': 19.19}\n",
      "{'loss': 0.2847, 'grad_norm': 0.8857210278511047, 'learning_rate': 2.1683673469387757e-06, 'epoch': 19.23}\n",
      "{'loss': 0.2958, 'grad_norm': 0.9391604065895081, 'learning_rate': 2.040816326530612e-06, 'epoch': 19.28}\n",
      "{'loss': 0.2577, 'grad_norm': 0.8202571272850037, 'learning_rate': 1.9132653061224493e-06, 'epoch': 19.32}\n",
      "{'loss': 0.2774, 'grad_norm': 1.707161545753479, 'learning_rate': 1.7857142857142857e-06, 'epoch': 19.37}\n",
      "{'loss': 0.2716, 'grad_norm': 0.8932982087135315, 'learning_rate': 1.6581632653061227e-06, 'epoch': 19.41}\n",
      "{'loss': 0.2743, 'grad_norm': 1.044734239578247, 'learning_rate': 1.5306122448979593e-06, 'epoch': 19.46}\n",
      "{'loss': 0.2839, 'grad_norm': 1.0399407148361206, 'learning_rate': 1.403061224489796e-06, 'epoch': 19.5}\n",
      "{'loss': 0.2958, 'grad_norm': 0.9362040758132935, 'learning_rate': 1.2755102040816327e-06, 'epoch': 19.55}\n",
      "{'loss': 0.2756, 'grad_norm': 0.9522626399993896, 'learning_rate': 1.1479591836734695e-06, 'epoch': 19.59}\n",
      "{'loss': 0.2872, 'grad_norm': 1.1200966835021973, 'learning_rate': 1.020408163265306e-06, 'epoch': 19.64}\n",
      "{'loss': 0.2637, 'grad_norm': 1.4107098579406738, 'learning_rate': 8.928571428571428e-07, 'epoch': 19.68}\n",
      "{'loss': 0.2645, 'grad_norm': 0.8786101341247559, 'learning_rate': 7.653061224489796e-07, 'epoch': 19.73}\n",
      "{'loss': 0.2739, 'grad_norm': 1.0951974391937256, 'learning_rate': 6.377551020408163e-07, 'epoch': 19.77}\n",
      "{'loss': 0.2709, 'grad_norm': 0.7887211441993713, 'learning_rate': 5.10204081632653e-07, 'epoch': 19.82}\n",
      "{'loss': 0.2801, 'grad_norm': 0.9335923790931702, 'learning_rate': 3.826530612244898e-07, 'epoch': 19.86}\n",
      "{'loss': 0.2771, 'grad_norm': 0.9344552159309387, 'learning_rate': 2.551020408163265e-07, 'epoch': 19.91}\n",
      "{'loss': 0.2765, 'grad_norm': 0.7714322805404663, 'learning_rate': 1.2755102040816326e-07, 'epoch': 19.95}\n",
      "{'loss': 0.2784, 'grad_norm': 1.1795212030410767, 'learning_rate': 0.0, 'epoch': 20.0}\n"
     ]
    },
    {
     "data": {
      "application/vnd.jupyter.widget-view+json": {
       "model_id": "e461e33dbd2f498ab26df8ba4a915416",
       "version_major": 2,
       "version_minor": 0
      },
      "text/plain": [
       "  0%|          | 0/67 [00:00<?, ?it/s]"
      ]
     },
     "metadata": {},
     "output_type": "display_data"
    },
    {
     "name": "stdout",
     "output_type": "stream",
     "text": [
      "{'eval_loss': 0.2521660327911377, 'eval_accuracy': 0.8913195659782989, 'eval_runtime': 160.1167, 'eval_samples_per_second': 107.059, 'eval_steps_per_second': 0.418, 'epoch': 20.0}\n",
      "{'train_runtime': 14229.5051, 'train_samples_per_second': 79.369, 'train_steps_per_second': 0.311, 'train_loss': 0.3319284814515265, 'epoch': 20.0}\n"
     ]
    }
   ],
   "source": [
    "adding_embedding_bert_only_classifier.train_model_on_data(dataset_adding_embedding, epochs = EPOCHS)"
   ]
  },
  {
   "cell_type": "code",
   "execution_count": null,
   "metadata": {},
   "outputs": [],
   "source": []
  }
 ],
 "metadata": {
  "kernelspec": {
   "display_name": "grundprojekt",
   "language": "python",
   "name": "python3"
  },
  "language_info": {
   "codemirror_mode": {
    "name": "ipython",
    "version": 3
   },
   "file_extension": ".py",
   "mimetype": "text/x-python",
   "name": "python",
   "nbconvert_exporter": "python",
   "pygments_lexer": "ipython3",
   "version": "3.12.4"
  }
 },
 "nbformat": 4,
 "nbformat_minor": 2
}
