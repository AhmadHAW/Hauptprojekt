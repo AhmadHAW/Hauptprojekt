{
 "cells": [
  {
   "cell_type": "code",
   "execution_count": 1,
   "metadata": {},
   "outputs": [],
   "source": [
    "from dataset_manager.movie_lens_manager import (\n",
    "    MovieLensManager,\n",
    "    ROOT,\n",
    ")"
   ]
  },
  {
   "cell_type": "code",
   "execution_count": 2,
   "metadata": {},
   "outputs": [],
   "source": [
    "kg_manager = MovieLensManager()"
   ]
  },
  {
   "cell_type": "code",
   "execution_count": 3,
   "metadata": {},
   "outputs": [],
   "source": [
    "VANILLA_ROOT = f\"{ROOT}/llm/vanilla\"\n",
    "GRAPH_PROMPTER_HF_FROZEN_ROOT = f\"{ROOT}/llm/graph_prompter_hf_frozen\"\n",
    "GRAPH_PROMPTER_HF_ROOT = f\"{ROOT}/llm/graph_prompter_hf\""
   ]
  },
  {
   "cell_type": "code",
   "execution_count": 4,
   "metadata": {},
   "outputs": [],
   "source": [
    "dataset_vanilla = kg_manager.generate_vanilla_dataset()\n",
    "dataset_graph_prompter_hf = kg_manager.generate_graph_prompter_hf_embedding_dataset(\n",
    "    \"[SEP]\", \"[PAD]\"\n",
    ")"
   ]
  },
  {
   "cell_type": "markdown",
   "metadata": {},
   "source": [
    "dataset_vanilla, dataset_graph_prompter_hf = kg_manager.shard_dataset_randomly(\n",
    "    VANILLA_ROOT,\n",
    "    GRAPH_PROMPTER_HF_ROOT,\n",
    ")"
   ]
  },
  {
   "cell_type": "code",
   "execution_count": 5,
   "metadata": {},
   "outputs": [
    {
     "name": "stdout",
     "output_type": "stream",
     "text": [
      "save to  ./data/llm/graph_prompter_hf/xai_artifacts/test_(0, 1, 2, 3, 4).csv\n",
      "save to  ./data/llm/graph_prompter_hf/xai_artifacts/test_(0, 1, 2, 3).csv\n",
      "save to  ./data/llm/graph_prompter_hf/xai_artifacts/test_(0, 1, 2, 4).csv\n",
      "save to  ./data/llm/graph_prompter_hf/xai_artifacts/test_(0, 1, 2).csv\n",
      "save to  ./data/llm/graph_prompter_hf/xai_artifacts/test_(0, 1, 3, 4).csv\n",
      "save to  ./data/llm/graph_prompter_hf/xai_artifacts/test_(0, 1, 3).csv\n",
      "save to  ./data/llm/graph_prompter_hf/xai_artifacts/test_(0, 1, 4).csv\n",
      "save to  ./data/llm/graph_prompter_hf/xai_artifacts/test_(0, 1).csv\n",
      "save to  ./data/llm/graph_prompter_hf/xai_artifacts/test_(0, 2, 3, 4).csv\n",
      "save to  ./data/llm/graph_prompter_hf/xai_artifacts/test_(0, 2, 3).csv\n",
      "save to  ./data/llm/graph_prompter_hf/xai_artifacts/test_(0, 2, 4).csv\n",
      "save to  ./data/llm/graph_prompter_hf/xai_artifacts/test_(0, 2).csv\n",
      "save to  ./data/llm/graph_prompter_hf/xai_artifacts/test_(0, 3, 4).csv\n",
      "save to  ./data/llm/graph_prompter_hf/xai_artifacts/test_(0, 3).csv\n",
      "save to  ./data/llm/graph_prompter_hf/xai_artifacts/test_(0, 4).csv\n",
      "save to  ./data/llm/graph_prompter_hf/xai_artifacts/test_(0,).csv\n",
      "save to  ./data/llm/graph_prompter_hf/xai_artifacts/test_(1, 2, 3, 4).csv\n",
      "save to  ./data/llm/graph_prompter_hf/xai_artifacts/test_(1, 2, 3).csv\n",
      "save to  ./data/llm/graph_prompter_hf/xai_artifacts/test_(1, 2, 4).csv\n",
      "save to  ./data/llm/graph_prompter_hf/xai_artifacts/test_(1, 2).csv\n",
      "save to  ./data/llm/graph_prompter_hf/xai_artifacts/test_(1, 3, 4).csv\n",
      "save to  ./data/llm/graph_prompter_hf/xai_artifacts/test_(1, 3).csv\n",
      "save to  ./data/llm/graph_prompter_hf/xai_artifacts/test_(1, 4).csv\n",
      "save to  ./data/llm/graph_prompter_hf/xai_artifacts/test_(1,).csv\n",
      "save to  ./data/llm/graph_prompter_hf/xai_artifacts/test_(2, 3, 4).csv\n",
      "save to  ./data/llm/graph_prompter_hf/xai_artifacts/test_(2, 3).csv\n",
      "save to  ./data/llm/graph_prompter_hf/xai_artifacts/test_(2, 4).csv\n",
      "save to  ./data/llm/graph_prompter_hf/xai_artifacts/test_(2,).csv\n",
      "save to  ./data/llm/graph_prompter_hf/xai_artifacts/test_(3, 4).csv\n",
      "save to  ./data/llm/graph_prompter_hf/xai_artifacts/test_(3,).csv\n",
      "save to  ./data/llm/graph_prompter_hf/xai_artifacts/test_(4,).csv\n",
      "save to  ./data/llm/graph_prompter_hf/xai_artifacts/test_().csv\n",
      "save to  ./data/llm/graph_prompter_hf/xai_artifacts/val_(0, 1, 2, 3, 4).csv\n",
      "save to  ./data/llm/graph_prompter_hf/xai_artifacts/val_(0, 1, 2, 3).csv\n",
      "save to  ./data/llm/graph_prompter_hf/xai_artifacts/val_(0, 1, 2, 4).csv\n",
      "save to  ./data/llm/graph_prompter_hf/xai_artifacts/val_(0, 1, 2).csv\n",
      "save to  ./data/llm/graph_prompter_hf/xai_artifacts/val_(0, 1, 3, 4).csv\n",
      "save to  ./data/llm/graph_prompter_hf/xai_artifacts/val_(0, 1, 3).csv\n",
      "save to  ./data/llm/graph_prompter_hf/xai_artifacts/val_(0, 1, 4).csv\n",
      "save to  ./data/llm/graph_prompter_hf/xai_artifacts/val_(0, 1).csv\n",
      "save to  ./data/llm/graph_prompter_hf/xai_artifacts/val_(0, 2, 3, 4).csv\n",
      "save to  ./data/llm/graph_prompter_hf/xai_artifacts/val_(0, 2, 3).csv\n",
      "save to  ./data/llm/graph_prompter_hf/xai_artifacts/val_(0, 2, 4).csv\n",
      "save to  ./data/llm/graph_prompter_hf/xai_artifacts/val_(0, 2).csv\n",
      "save to  ./data/llm/graph_prompter_hf/xai_artifacts/val_(0, 3, 4).csv\n",
      "save to  ./data/llm/graph_prompter_hf/xai_artifacts/val_(0, 3).csv\n",
      "save to  ./data/llm/graph_prompter_hf/xai_artifacts/val_(0, 4).csv\n",
      "save to  ./data/llm/graph_prompter_hf/xai_artifacts/val_(0,).csv\n",
      "save to  ./data/llm/graph_prompter_hf/xai_artifacts/val_(1, 2, 3, 4).csv\n",
      "save to  ./data/llm/graph_prompter_hf/xai_artifacts/val_(1, 2, 3).csv\n",
      "save to  ./data/llm/graph_prompter_hf/xai_artifacts/val_(1, 2, 4).csv\n",
      "save to  ./data/llm/graph_prompter_hf/xai_artifacts/val_(1, 2).csv\n",
      "save to  ./data/llm/graph_prompter_hf/xai_artifacts/val_(1, 3, 4).csv\n",
      "save to  ./data/llm/graph_prompter_hf/xai_artifacts/val_(1, 3).csv\n",
      "save to  ./data/llm/graph_prompter_hf/xai_artifacts/val_(1, 4).csv\n",
      "save to  ./data/llm/graph_prompter_hf/xai_artifacts/val_(1,).csv\n",
      "save to  ./data/llm/graph_prompter_hf/xai_artifacts/val_(2, 3, 4).csv\n",
      "save to  ./data/llm/graph_prompter_hf/xai_artifacts/val_(2, 3).csv\n",
      "save to  ./data/llm/graph_prompter_hf/xai_artifacts/val_(2, 4).csv\n",
      "save to  ./data/llm/graph_prompter_hf/xai_artifacts/val_(2,).csv\n",
      "save to  ./data/llm/graph_prompter_hf/xai_artifacts/val_(3, 4).csv\n",
      "save to  ./data/llm/graph_prompter_hf/xai_artifacts/val_(3,).csv\n",
      "save to  ./data/llm/graph_prompter_hf/xai_artifacts/val_(4,).csv\n",
      "save to  ./data/llm/graph_prompter_hf/xai_artifacts/val_().csv\n"
     ]
    }
   ],
   "source": [
    "# kg_manager.fuse_xai_shards(VANILLA_ROOT, dataset_vanilla)\n",
    "# kg_manager.fuse_xai_shards(GRAPH_PROMPTER_HF_FROZEN_ROOT, dataset_graph_prompter_hf)\n",
    "kg_manager.fuse_xai_shards(GRAPH_PROMPTER_HF_ROOT, dataset_graph_prompter_hf)"
   ]
  },
  {
   "cell_type": "code",
   "execution_count": null,
   "metadata": {},
   "outputs": [],
   "source": []
  }
 ],
 "metadata": {
  "kernelspec": {
   "display_name": "hauptprojekt",
   "language": "python",
   "name": "python3"
  },
  "language_info": {
   "codemirror_mode": {
    "name": "ipython",
    "version": 3
   },
   "file_extension": ".py",
   "mimetype": "text/x-python",
   "name": "python",
   "nbconvert_exporter": "python",
   "pygments_lexer": "ipython3",
   "version": "3.12.4"
  }
 },
 "nbformat": 4,
 "nbformat_minor": 2
}
