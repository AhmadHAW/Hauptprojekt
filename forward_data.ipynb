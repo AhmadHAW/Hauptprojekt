{
    "cells": [
        {
            "cell_type": "code",
            "execution_count": 1,
            "metadata": {},
            "outputs": [],
            "source": [
                "from graph_representation_generator import GraphRepresentationGenerator\n",
                "from dataset_manager.kg_manager import (\n",
                "    MovieLensManager,\n",
                "    PROMPT_KGE_DIMENSION,\n",
                "    INPUT_EMBEDS_REPLACE_KGE_DIMENSION,\n",
                "    ROOT,\n",
                ")\n",
                "from llm_manager import (\n",
                "    PromptBertClassifier,\n",
                "    VanillaBertClassifier,\n",
                "    GraphPrompterHFClassifier,\n",
                ")"
            ]
        },
        {
            "cell_type": "code",
            "execution_count": 2,
            "metadata": {},
            "outputs": [],
            "source": [
                "kg_manager = MovieLensManager()"
            ]
        },
        {
            "cell_type": "code",
            "execution_count": 3,
            "metadata": {},
            "outputs": [
                {
                    "name": "stdout",
                    "output_type": "stream",
                    "text": [
                        "loading pretrained model\n",
                        "Device: 'cuda'\n",
                        "loading pretrained model\n",
                        "Device: 'cuda'\n"
                    ]
                }
            ],
            "source": [
                "graph_representation_generator_prompt = GraphRepresentationGenerator(\n",
                "    kg_manager.data,\n",
                "    kg_manager.gnn_train_data,\n",
                "    kg_manager.gnn_val_data,\n",
                "    kg_manager.gnn_test_data,\n",
                "    kge_dimension=PROMPT_KGE_DIMENSION,\n",
                ")\n",
                "graph_representation_generator_graph_prompter_hf = GraphRepresentationGenerator(\n",
                "    kg_manager.data,\n",
                "    kg_manager.gnn_train_data,\n",
                "    kg_manager.gnn_val_data,\n",
                "    kg_manager.gnn_test_data,\n",
                "    hidden_channels=INPUT_EMBEDS_REPLACE_KGE_DIMENSION,\n",
                "    kge_dimension=INPUT_EMBEDS_REPLACE_KGE_DIMENSION,\n",
                ")"
            ]
        },
        {
            "cell_type": "code",
            "execution_count": 4,
            "metadata": {},
            "outputs": [],
            "source": [
                "prompt_embeddings = graph_representation_generator_prompt.get_saved_embeddings(\"prompt\")\n",
                "graph_prompter_hf_embeddings = (\n",
                "    graph_representation_generator_graph_prompter_hf.get_saved_embeddings(\n",
                "        \"graph_prompter_hf\"\n",
                "    )\n",
                ")\n",
                "save_prompt = False\n",
                "save_graph_prompter_hf = False\n",
                "if prompt_embeddings is None:\n",
                "    prompt_embeddings = graph_representation_generator_prompt.generate_embeddings(\n",
                "        kg_manager.llm_df\n",
                "    )\n",
                "    save_prompt = True\n",
                "if graph_prompter_hf_embeddings is None:\n",
                "    graph_prompter_hf_embeddings = (\n",
                "        graph_representation_generator_graph_prompter_hf.generate_embeddings(\n",
                "            kg_manager.llm_df\n",
                "        )\n",
                "    )\n",
                "    save_graph_prompter_hf = True\n",
                "\n",
                "kg_manager.append_prompt_graph_embeddings(prompt_embeddings, save=save_prompt)\n",
                "kg_manager.append_graph_prompter_hf_graph_embeddings(\n",
                "    graph_prompter_hf_embeddings, save=save_graph_prompter_hf\n",
                ")\n"
            ]
        },
        {
            "cell_type": "code",
            "execution_count": 5,
            "metadata": {},
            "outputs": [],
            "source": [
                "VANILLA_ROOT = f\"{ROOT}/llm/vanilla\"\n",
                "PROMPT_ROOT = f\"{ROOT}/llm/prompt\"\n",
                "INPUT_EMBEDS_REPLACE_ROOT = f\"{ROOT}/llm/graph_prompter_hf\""
            ]
        },
        {
            "cell_type": "code",
            "execution_count": 6,
            "metadata": {},
            "outputs": [],
            "source": [
                "vanilla_bert_classifier = VanillaBertClassifier(\n",
                "    kg_manager.llm_df,\n",
                "    kg_manager.source_df,\n",
                "    kg_manager.target_df,\n",
                "    root_path=VANILLA_ROOT,\n",
                "    false_ratio=-1,\n",
                ")\n",
                "prompt_bert_classifier = PromptBertClassifier(\n",
                "    kg_manager,\n",
                "    graph_representation_generator_prompt.get_embedding,\n",
                "    root_path=PROMPT_ROOT,\n",
                "    model_max_length=512,\n",
                "    false_ratio=-1,\n",
                ")\n",
                "graph_prompter_hf_bert_classifier = GraphPrompterHFClassifier(\n",
                "    kg_manager,\n",
                "    graph_representation_generator_graph_prompter_hf.get_embedding,\n",
                "    root_path=INPUT_EMBEDS_REPLACE_ROOT,\n",
                "    false_ratio=-1,\n",
                ")\n"
            ]
        },
        {
            "cell_type": "code",
            "execution_count": 7,
            "metadata": {},
            "outputs": [],
            "source": [
                "dataset_vanilla = kg_manager.generate_vanilla_dataset(\n",
                "    vanilla_bert_classifier.tokenize_function\n",
                ")\n",
                "dataset_prompt = kg_manager.generate_prompt_embedding_dataset(\n",
                "    prompt_bert_classifier.tokenize_function,\n",
                ")\n",
                "dataset_graph_prompter_hf = kg_manager.generate_graph_prompter_hf_embedding_dataset(\n",
                "    graph_prompter_hf_bert_classifier.tokenizer.sep_token,\n",
                "    graph_prompter_hf_bert_classifier.tokenizer.pad_token,\n",
                "    graph_prompter_hf_bert_classifier.tokenize_function,\n",
                ")"
            ]
        },
        {
            "cell_type": "code",
            "execution_count": 9,
            "metadata": {},
            "outputs": [
                {
                    "name": "stdout",
                    "output_type": "stream",
                    "text": [
                        "train Forward Epoch 1 from 1\n"
                    ]
                },
                {
                    "ename": "ValueError",
                    "evalue": "attempt to get argmax of an empty sequence",
                    "output_type": "error",
                    "traceback": [
                        "\u001b[1;31m---------------------------------------------------------------------------\u001b[0m",
                        "\u001b[1;31mValueError\u001b[0m                                Traceback (most recent call last)",
                        "Cell \u001b[1;32mIn[9], line 5\u001b[0m\n\u001b[0;32m      1\u001b[0m \u001b[38;5;28;01mfor\u001b[39;00m pos \u001b[38;5;129;01min\u001b[39;00m \u001b[38;5;28mrange\u001b[39m(\n\u001b[0;32m      2\u001b[0m     \u001b[38;5;28mlen\u001b[39m(dataset_graph_prompter_hf[\u001b[38;5;124m\"\u001b[39m\u001b[38;5;124mtrain\u001b[39m\u001b[38;5;124m\"\u001b[39m][\u001b[38;5;241m0\u001b[39m][\u001b[38;5;124m\"\u001b[39m\u001b[38;5;124mtoken_type_ranges\u001b[39m\u001b[38;5;124m\"\u001b[39m]) \u001b[38;5;241m+\u001b[39m \u001b[38;5;241m3\u001b[39m,\n\u001b[0;32m      3\u001b[0m     \u001b[38;5;28mlen\u001b[39m(dataset_graph_prompter_hf[\u001b[38;5;124m\"\u001b[39m\u001b[38;5;124mtrain\u001b[39m\u001b[38;5;124m\"\u001b[39m][\u001b[38;5;241m0\u001b[39m][\u001b[38;5;124m\"\u001b[39m\u001b[38;5;124mtoken_type_ranges\u001b[39m\u001b[38;5;124m\"\u001b[39m]) \u001b[38;5;241m+\u001b[39m \u001b[38;5;241m4\u001b[39m,\n\u001b[0;32m      4\u001b[0m ):\n\u001b[1;32m----> 5\u001b[0m     prompt_df \u001b[38;5;241m=\u001b[39m \u001b[43mprompt_bert_classifier\u001b[49m\u001b[38;5;241;43m.\u001b[39;49m\u001b[43mforward_dataset_and_save_outputs\u001b[49m\u001b[43m(\u001b[49m\n\u001b[0;32m      6\u001b[0m \u001b[43m        \u001b[49m\u001b[43mdataset_prompt\u001b[49m\u001b[43m,\u001b[49m\n\u001b[0;32m      7\u001b[0m \u001b[43m        \u001b[49m\u001b[43mkg_manager\u001b[49m\u001b[38;5;241;43m.\u001b[39;49m\u001b[43mget_prompt_tokens_as_df\u001b[49m\u001b[43m,\u001b[49m\n\u001b[0;32m      8\u001b[0m \u001b[43m        \u001b[49m\u001b[43mepochs\u001b[49m\u001b[38;5;241;43m=\u001b[39;49m\u001b[38;5;241;43m1\u001b[39;49m\u001b[43m,\u001b[49m\n\u001b[0;32m      9\u001b[0m \u001b[43m        \u001b[49m\u001b[43mforce_recompute\u001b[49m\u001b[38;5;241;43m=\u001b[39;49m\u001b[38;5;28;43;01mTrue\u001b[39;49;00m\u001b[43m,\u001b[49m\n\u001b[0;32m     10\u001b[0m \u001b[43m        \u001b[49m\u001b[43mload_fields\u001b[49m\u001b[38;5;241;43m=\u001b[39;49m\u001b[43m[\u001b[49m\u001b[38;5;124;43m\"\u001b[39;49m\u001b[38;5;124;43mhidden_states\u001b[39;49m\u001b[38;5;124;43m\"\u001b[39;49m\u001b[43m,\u001b[49m\u001b[43m \u001b[49m\u001b[38;5;124;43m\"\u001b[39;49m\u001b[38;5;124;43mlogits\u001b[39;49m\u001b[38;5;124;43m\"\u001b[39;49m\u001b[43m]\u001b[49m\u001b[43m,\u001b[49m\n\u001b[0;32m     11\u001b[0m \u001b[43m        \u001b[49m\u001b[43mhidden_state_position\u001b[49m\u001b[38;5;241;43m=\u001b[39;49m\u001b[43mpos\u001b[49m\u001b[43m,\u001b[49m\n\u001b[0;32m     12\u001b[0m \u001b[43m    \u001b[49m\u001b[43m)\u001b[49m\n\u001b[0;32m     13\u001b[0m     graph_prompter_hf_df \u001b[38;5;241m=\u001b[39m (\n\u001b[0;32m     14\u001b[0m         graph_prompter_hf_bert_classifier\u001b[38;5;241m.\u001b[39mforward_dataset_and_save_outputs(\n\u001b[0;32m     15\u001b[0m             dataset_graph_prompter_hf,\n\u001b[1;32m   (...)\u001b[0m\n\u001b[0;32m     21\u001b[0m         )\n\u001b[0;32m     22\u001b[0m     )\n\u001b[0;32m     23\u001b[0m     dataset \u001b[38;5;241m=\u001b[39m kg_manager\u001b[38;5;241m.\u001b[39mgenerate_huggingface_dataset(\n\u001b[0;32m     24\u001b[0m         [prompt_df, graph_prompter_hf_df],\n\u001b[0;32m     25\u001b[0m         [\u001b[38;5;124m\"\u001b[39m\u001b[38;5;124mprompt\u001b[39m\u001b[38;5;124m\"\u001b[39m, \u001b[38;5;124m\"\u001b[39m\u001b[38;5;124mgraph_prompter_hf\u001b[39m\u001b[38;5;124m\"\u001b[39m],\n\u001b[0;32m     26\u001b[0m         add_tokens\u001b[38;5;241m=\u001b[39m\u001b[38;5;28;01mFalse\u001b[39;00m,\n\u001b[0;32m     27\u001b[0m     )\n",
                        "File \u001b[1;32mc:\\Users\\MARS\\Ahmad\\Hauptprojekt\\llm_manager.py:1129\u001b[0m, in \u001b[0;36mClassifierBase.forward_dataset_and_save_outputs\u001b[1;34m(self, dataset, get_tokens_as_df_cb, splits, batch_size, epochs, load_fields, hidden_state_position, include_graph_embeddings, force_recompute)\u001b[0m\n\u001b[0;32m   1127\u001b[0m \u001b[38;5;28;01mif\u001b[39;00m add_logits:\n\u001b[0;32m   1128\u001b[0m     logits \u001b[38;5;241m=\u001b[39m outputs\u001b[38;5;241m.\u001b[39mlogits\n\u001b[1;32m-> 1129\u001b[0m     predictions \u001b[38;5;241m=\u001b[39m [\u001b[43mnp\u001b[49m\u001b[38;5;241;43m.\u001b[39;49m\u001b[43margmax\u001b[49m\u001b[43m(\u001b[49m\u001b[43mall_logits\u001b[49m\u001b[43m,\u001b[49m\u001b[43m \u001b[49m\u001b[43maxis\u001b[49m\u001b[38;5;241;43m=\u001b[39;49m\u001b[38;5;241;43m1\u001b[39;49m\u001b[43m)\u001b[49m\u001b[38;5;241m.\u001b[39mtolist()]\n\u001b[0;32m   1130\u001b[0m     all_logits[\u001b[38;5;241m0\u001b[39m]\u001b[38;5;241m.\u001b[39mappend(logits\u001b[38;5;241m.\u001b[39mnumpy())\n\u001b[0;32m   1131\u001b[0m     \u001b[38;5;28;01mdel\u001b[39;00m logits\n",
                        "File \u001b[1;32mc:\\Users\\MARS\\.conda\\envs\\hauptprojekt\\Lib\\site-packages\\numpy\\core\\fromnumeric.py:1229\u001b[0m, in \u001b[0;36margmax\u001b[1;34m(a, axis, out, keepdims)\u001b[0m\n\u001b[0;32m   1142\u001b[0m \u001b[38;5;250m\u001b[39m\u001b[38;5;124;03m\"\"\"\u001b[39;00m\n\u001b[0;32m   1143\u001b[0m \u001b[38;5;124;03mReturns the indices of the maximum values along an axis.\u001b[39;00m\n\u001b[0;32m   1144\u001b[0m \n\u001b[1;32m   (...)\u001b[0m\n\u001b[0;32m   1226\u001b[0m \u001b[38;5;124;03m(2, 1, 4)\u001b[39;00m\n\u001b[0;32m   1227\u001b[0m \u001b[38;5;124;03m\"\"\"\u001b[39;00m\n\u001b[0;32m   1228\u001b[0m kwds \u001b[38;5;241m=\u001b[39m {\u001b[38;5;124m'\u001b[39m\u001b[38;5;124mkeepdims\u001b[39m\u001b[38;5;124m'\u001b[39m: keepdims} \u001b[38;5;28;01mif\u001b[39;00m keepdims \u001b[38;5;129;01mis\u001b[39;00m \u001b[38;5;129;01mnot\u001b[39;00m np\u001b[38;5;241m.\u001b[39m_NoValue \u001b[38;5;28;01melse\u001b[39;00m {}\n\u001b[1;32m-> 1229\u001b[0m \u001b[38;5;28;01mreturn\u001b[39;00m \u001b[43m_wrapfunc\u001b[49m\u001b[43m(\u001b[49m\u001b[43ma\u001b[49m\u001b[43m,\u001b[49m\u001b[43m \u001b[49m\u001b[38;5;124;43m'\u001b[39;49m\u001b[38;5;124;43margmax\u001b[39;49m\u001b[38;5;124;43m'\u001b[39;49m\u001b[43m,\u001b[49m\u001b[43m \u001b[49m\u001b[43maxis\u001b[49m\u001b[38;5;241;43m=\u001b[39;49m\u001b[43maxis\u001b[49m\u001b[43m,\u001b[49m\u001b[43m \u001b[49m\u001b[43mout\u001b[49m\u001b[38;5;241;43m=\u001b[39;49m\u001b[43mout\u001b[49m\u001b[43m,\u001b[49m\u001b[43m \u001b[49m\u001b[38;5;241;43m*\u001b[39;49m\u001b[38;5;241;43m*\u001b[39;49m\u001b[43mkwds\u001b[49m\u001b[43m)\u001b[49m\n",
                        "File \u001b[1;32mc:\\Users\\MARS\\.conda\\envs\\hauptprojekt\\Lib\\site-packages\\numpy\\core\\fromnumeric.py:56\u001b[0m, in \u001b[0;36m_wrapfunc\u001b[1;34m(obj, method, *args, **kwds)\u001b[0m\n\u001b[0;32m     54\u001b[0m bound \u001b[38;5;241m=\u001b[39m \u001b[38;5;28mgetattr\u001b[39m(obj, method, \u001b[38;5;28;01mNone\u001b[39;00m)\n\u001b[0;32m     55\u001b[0m \u001b[38;5;28;01mif\u001b[39;00m bound \u001b[38;5;129;01mis\u001b[39;00m \u001b[38;5;28;01mNone\u001b[39;00m:\n\u001b[1;32m---> 56\u001b[0m     \u001b[38;5;28;01mreturn\u001b[39;00m \u001b[43m_wrapit\u001b[49m\u001b[43m(\u001b[49m\u001b[43mobj\u001b[49m\u001b[43m,\u001b[49m\u001b[43m \u001b[49m\u001b[43mmethod\u001b[49m\u001b[43m,\u001b[49m\u001b[43m \u001b[49m\u001b[38;5;241;43m*\u001b[39;49m\u001b[43margs\u001b[49m\u001b[43m,\u001b[49m\u001b[43m \u001b[49m\u001b[38;5;241;43m*\u001b[39;49m\u001b[38;5;241;43m*\u001b[39;49m\u001b[43mkwds\u001b[49m\u001b[43m)\u001b[49m\n\u001b[0;32m     58\u001b[0m \u001b[38;5;28;01mtry\u001b[39;00m:\n\u001b[0;32m     59\u001b[0m     \u001b[38;5;28;01mreturn\u001b[39;00m bound(\u001b[38;5;241m*\u001b[39margs, \u001b[38;5;241m*\u001b[39m\u001b[38;5;241m*\u001b[39mkwds)\n",
                        "File \u001b[1;32mc:\\Users\\MARS\\.conda\\envs\\hauptprojekt\\Lib\\site-packages\\numpy\\core\\fromnumeric.py:45\u001b[0m, in \u001b[0;36m_wrapit\u001b[1;34m(obj, method, *args, **kwds)\u001b[0m\n\u001b[0;32m     43\u001b[0m \u001b[38;5;28;01mexcept\u001b[39;00m \u001b[38;5;167;01mAttributeError\u001b[39;00m:\n\u001b[0;32m     44\u001b[0m     wrap \u001b[38;5;241m=\u001b[39m \u001b[38;5;28;01mNone\u001b[39;00m\n\u001b[1;32m---> 45\u001b[0m result \u001b[38;5;241m=\u001b[39m \u001b[38;5;28;43mgetattr\u001b[39;49m\u001b[43m(\u001b[49m\u001b[43masarray\u001b[49m\u001b[43m(\u001b[49m\u001b[43mobj\u001b[49m\u001b[43m)\u001b[49m\u001b[43m,\u001b[49m\u001b[43m \u001b[49m\u001b[43mmethod\u001b[49m\u001b[43m)\u001b[49m\u001b[43m(\u001b[49m\u001b[38;5;241;43m*\u001b[39;49m\u001b[43margs\u001b[49m\u001b[43m,\u001b[49m\u001b[43m \u001b[49m\u001b[38;5;241;43m*\u001b[39;49m\u001b[38;5;241;43m*\u001b[39;49m\u001b[43mkwds\u001b[49m\u001b[43m)\u001b[49m\n\u001b[0;32m     46\u001b[0m \u001b[38;5;28;01mif\u001b[39;00m wrap:\n\u001b[0;32m     47\u001b[0m     \u001b[38;5;28;01mif\u001b[39;00m \u001b[38;5;129;01mnot\u001b[39;00m \u001b[38;5;28misinstance\u001b[39m(result, mu\u001b[38;5;241m.\u001b[39mndarray):\n",
                        "\u001b[1;31mValueError\u001b[0m: attempt to get argmax of an empty sequence"
                    ]
                }
            ],
            "source": [
                "for pos in range(\n",
                "    len(dataset_graph_prompter_hf[\"train\"][0][\"token_type_ranges\"]) + 3,\n",
                "    len(dataset_graph_prompter_hf[\"train\"][0][\"token_type_ranges\"]) + 4,\n",
                "):\n",
                "    prompt_df = prompt_bert_classifier.forward_dataset_and_save_outputs(\n",
                "        dataset_prompt,\n",
                "        kg_manager.get_prompt_tokens_as_df,\n",
                "        epochs=1,\n",
                "        force_recompute=True,\n",
                "        load_fields=[\"hidden_states\", \"logits\"],\n",
                "        hidden_state_position=pos,\n",
                "    )\n",
                "    graph_prompter_hf_df = (\n",
                "        graph_prompter_hf_bert_classifier.forward_dataset_and_save_outputs(\n",
                "            dataset_graph_prompter_hf,\n",
                "            kg_manager.get_vanilla_tokens_as_df,\n",
                "            epochs=1,\n",
                "            force_recompute=True,\n",
                "            load_fields=[\"hidden_states\", \"logits\"],\n",
                "            hidden_state_position=pos,\n",
                "        )\n",
                "    )\n",
                "    dataset = kg_manager.generate_huggingface_dataset(\n",
                "        [prompt_df, graph_prompter_hf_df],\n",
                "        [\"prompt\", \"graph_prompter_hf\"],\n",
                "        add_tokens=False,\n",
                "    )\n",
                "    dataset.save_to_disk(f\"./data/dataset_hidden_states_{pos}.hf\")\n"
            ]
        },
        {
            "cell_type": "code",
            "execution_count": 8,
            "metadata": {},
            "outputs": [
                {
                    "name": "stdout",
                    "output_type": "stream",
                    "text": [
                        "train Forward Epoch 1 from 1\n"
                    ]
                },
                {
                    "ename": "ValueError",
                    "evalue": "attempt to get argmax of an empty sequence",
                    "output_type": "error",
                    "traceback": [
                        "\u001b[1;31m---------------------------------------------------------------------------\u001b[0m",
                        "\u001b[1;31mValueError\u001b[0m                                Traceback (most recent call last)",
                        "Cell \u001b[1;32mIn[8], line 2\u001b[0m\n\u001b[0;32m      1\u001b[0m graph_prompter_hf_df \u001b[38;5;241m=\u001b[39m (\n\u001b[1;32m----> 2\u001b[0m     \u001b[43mgraph_prompter_hf_bert_classifier\u001b[49m\u001b[38;5;241;43m.\u001b[39;49m\u001b[43mforward_dataset_and_save_outputs\u001b[49m\u001b[43m(\u001b[49m\n\u001b[0;32m      3\u001b[0m \u001b[43m        \u001b[49m\u001b[43mdataset_graph_prompter_hf\u001b[49m\u001b[43m,\u001b[49m\n\u001b[0;32m      4\u001b[0m \u001b[43m        \u001b[49m\u001b[43mkg_manager\u001b[49m\u001b[38;5;241;43m.\u001b[39;49m\u001b[43mget_vanilla_tokens_as_df\u001b[49m\u001b[43m,\u001b[49m\n\u001b[0;32m      5\u001b[0m \u001b[43m        \u001b[49m\u001b[43mepochs\u001b[49m\u001b[38;5;241;43m=\u001b[39;49m\u001b[38;5;241;43m1\u001b[39;49m\u001b[43m,\u001b[49m\n\u001b[0;32m      6\u001b[0m \u001b[43m        \u001b[49m\u001b[43mforce_recompute\u001b[49m\u001b[38;5;241;43m=\u001b[39;49m\u001b[38;5;28;43;01mTrue\u001b[39;49;00m\u001b[43m,\u001b[49m\n\u001b[0;32m      7\u001b[0m \u001b[43m        \u001b[49m\u001b[43mload_fields\u001b[49m\u001b[38;5;241;43m=\u001b[39;49m\u001b[43m[\u001b[49m\u001b[38;5;124;43m\"\u001b[39;49m\u001b[38;5;124;43mhidden_states\u001b[39;49m\u001b[38;5;124;43m\"\u001b[39;49m\u001b[43m,\u001b[49m\u001b[43m \u001b[49m\u001b[38;5;124;43m\"\u001b[39;49m\u001b[38;5;124;43mlogits\u001b[39;49m\u001b[38;5;124;43m\"\u001b[39;49m\u001b[43m]\u001b[49m\u001b[43m,\u001b[49m\n\u001b[0;32m      8\u001b[0m \u001b[43m    \u001b[49m\u001b[43m)\u001b[49m\n\u001b[0;32m      9\u001b[0m )\n",
                        "File \u001b[1;32mc:\\Users\\MARS\\Ahmad\\Hauptprojekt\\llm_manager.py:1129\u001b[0m, in \u001b[0;36mClassifierBase.forward_dataset_and_save_outputs\u001b[1;34m(self, dataset, get_tokens_as_df_cb, splits, batch_size, epochs, load_fields, hidden_state_position, include_graph_embeddings, force_recompute)\u001b[0m\n\u001b[0;32m   1127\u001b[0m \u001b[38;5;28;01mif\u001b[39;00m add_logits:\n\u001b[0;32m   1128\u001b[0m     logits \u001b[38;5;241m=\u001b[39m outputs\u001b[38;5;241m.\u001b[39mlogits\n\u001b[1;32m-> 1129\u001b[0m     predictions \u001b[38;5;241m=\u001b[39m [\u001b[43mnp\u001b[49m\u001b[38;5;241;43m.\u001b[39;49m\u001b[43margmax\u001b[49m\u001b[43m(\u001b[49m\u001b[43mall_logits\u001b[49m\u001b[43m,\u001b[49m\u001b[43m \u001b[49m\u001b[43maxis\u001b[49m\u001b[38;5;241;43m=\u001b[39;49m\u001b[38;5;241;43m1\u001b[39;49m\u001b[43m)\u001b[49m\u001b[38;5;241m.\u001b[39mtolist()]\n\u001b[0;32m   1130\u001b[0m     all_logits[\u001b[38;5;241m0\u001b[39m]\u001b[38;5;241m.\u001b[39mappend(logits\u001b[38;5;241m.\u001b[39mnumpy())\n\u001b[0;32m   1131\u001b[0m     \u001b[38;5;28;01mdel\u001b[39;00m logits\n",
                        "File \u001b[1;32mc:\\Users\\MARS\\.conda\\envs\\hauptprojekt\\Lib\\site-packages\\numpy\\core\\fromnumeric.py:1229\u001b[0m, in \u001b[0;36margmax\u001b[1;34m(a, axis, out, keepdims)\u001b[0m\n\u001b[0;32m   1142\u001b[0m \u001b[38;5;250m\u001b[39m\u001b[38;5;124;03m\"\"\"\u001b[39;00m\n\u001b[0;32m   1143\u001b[0m \u001b[38;5;124;03mReturns the indices of the maximum values along an axis.\u001b[39;00m\n\u001b[0;32m   1144\u001b[0m \n\u001b[1;32m   (...)\u001b[0m\n\u001b[0;32m   1226\u001b[0m \u001b[38;5;124;03m(2, 1, 4)\u001b[39;00m\n\u001b[0;32m   1227\u001b[0m \u001b[38;5;124;03m\"\"\"\u001b[39;00m\n\u001b[0;32m   1228\u001b[0m kwds \u001b[38;5;241m=\u001b[39m {\u001b[38;5;124m'\u001b[39m\u001b[38;5;124mkeepdims\u001b[39m\u001b[38;5;124m'\u001b[39m: keepdims} \u001b[38;5;28;01mif\u001b[39;00m keepdims \u001b[38;5;129;01mis\u001b[39;00m \u001b[38;5;129;01mnot\u001b[39;00m np\u001b[38;5;241m.\u001b[39m_NoValue \u001b[38;5;28;01melse\u001b[39;00m {}\n\u001b[1;32m-> 1229\u001b[0m \u001b[38;5;28;01mreturn\u001b[39;00m \u001b[43m_wrapfunc\u001b[49m\u001b[43m(\u001b[49m\u001b[43ma\u001b[49m\u001b[43m,\u001b[49m\u001b[43m \u001b[49m\u001b[38;5;124;43m'\u001b[39;49m\u001b[38;5;124;43margmax\u001b[39;49m\u001b[38;5;124;43m'\u001b[39;49m\u001b[43m,\u001b[49m\u001b[43m \u001b[49m\u001b[43maxis\u001b[49m\u001b[38;5;241;43m=\u001b[39;49m\u001b[43maxis\u001b[49m\u001b[43m,\u001b[49m\u001b[43m \u001b[49m\u001b[43mout\u001b[49m\u001b[38;5;241;43m=\u001b[39;49m\u001b[43mout\u001b[49m\u001b[43m,\u001b[49m\u001b[43m \u001b[49m\u001b[38;5;241;43m*\u001b[39;49m\u001b[38;5;241;43m*\u001b[39;49m\u001b[43mkwds\u001b[49m\u001b[43m)\u001b[49m\n",
                        "File \u001b[1;32mc:\\Users\\MARS\\.conda\\envs\\hauptprojekt\\Lib\\site-packages\\numpy\\core\\fromnumeric.py:56\u001b[0m, in \u001b[0;36m_wrapfunc\u001b[1;34m(obj, method, *args, **kwds)\u001b[0m\n\u001b[0;32m     54\u001b[0m bound \u001b[38;5;241m=\u001b[39m \u001b[38;5;28mgetattr\u001b[39m(obj, method, \u001b[38;5;28;01mNone\u001b[39;00m)\n\u001b[0;32m     55\u001b[0m \u001b[38;5;28;01mif\u001b[39;00m bound \u001b[38;5;129;01mis\u001b[39;00m \u001b[38;5;28;01mNone\u001b[39;00m:\n\u001b[1;32m---> 56\u001b[0m     \u001b[38;5;28;01mreturn\u001b[39;00m \u001b[43m_wrapit\u001b[49m\u001b[43m(\u001b[49m\u001b[43mobj\u001b[49m\u001b[43m,\u001b[49m\u001b[43m \u001b[49m\u001b[43mmethod\u001b[49m\u001b[43m,\u001b[49m\u001b[43m \u001b[49m\u001b[38;5;241;43m*\u001b[39;49m\u001b[43margs\u001b[49m\u001b[43m,\u001b[49m\u001b[43m \u001b[49m\u001b[38;5;241;43m*\u001b[39;49m\u001b[38;5;241;43m*\u001b[39;49m\u001b[43mkwds\u001b[49m\u001b[43m)\u001b[49m\n\u001b[0;32m     58\u001b[0m \u001b[38;5;28;01mtry\u001b[39;00m:\n\u001b[0;32m     59\u001b[0m     \u001b[38;5;28;01mreturn\u001b[39;00m bound(\u001b[38;5;241m*\u001b[39margs, \u001b[38;5;241m*\u001b[39m\u001b[38;5;241m*\u001b[39mkwds)\n",
                        "File \u001b[1;32mc:\\Users\\MARS\\.conda\\envs\\hauptprojekt\\Lib\\site-packages\\numpy\\core\\fromnumeric.py:45\u001b[0m, in \u001b[0;36m_wrapit\u001b[1;34m(obj, method, *args, **kwds)\u001b[0m\n\u001b[0;32m     43\u001b[0m \u001b[38;5;28;01mexcept\u001b[39;00m \u001b[38;5;167;01mAttributeError\u001b[39;00m:\n\u001b[0;32m     44\u001b[0m     wrap \u001b[38;5;241m=\u001b[39m \u001b[38;5;28;01mNone\u001b[39;00m\n\u001b[1;32m---> 45\u001b[0m result \u001b[38;5;241m=\u001b[39m \u001b[38;5;28;43mgetattr\u001b[39;49m\u001b[43m(\u001b[49m\u001b[43masarray\u001b[49m\u001b[43m(\u001b[49m\u001b[43mobj\u001b[49m\u001b[43m)\u001b[49m\u001b[43m,\u001b[49m\u001b[43m \u001b[49m\u001b[43mmethod\u001b[49m\u001b[43m)\u001b[49m\u001b[43m(\u001b[49m\u001b[38;5;241;43m*\u001b[39;49m\u001b[43margs\u001b[49m\u001b[43m,\u001b[49m\u001b[43m \u001b[49m\u001b[38;5;241;43m*\u001b[39;49m\u001b[38;5;241;43m*\u001b[39;49m\u001b[43mkwds\u001b[49m\u001b[43m)\u001b[49m\n\u001b[0;32m     46\u001b[0m \u001b[38;5;28;01mif\u001b[39;00m wrap:\n\u001b[0;32m     47\u001b[0m     \u001b[38;5;28;01mif\u001b[39;00m \u001b[38;5;129;01mnot\u001b[39;00m \u001b[38;5;28misinstance\u001b[39m(result, mu\u001b[38;5;241m.\u001b[39mndarray):\n",
                        "\u001b[1;31mValueError\u001b[0m: attempt to get argmax of an empty sequence"
                    ]
                }
            ],
            "source": [
                "graph_prompter_hf_df = (\n",
                "    graph_prompter_hf_bert_classifier.forward_dataset_and_save_outputs(\n",
                "        dataset_graph_prompter_hf,\n",
                "        kg_manager.get_vanilla_tokens_as_df,\n",
                "        epochs=1,\n",
                "        force_recompute=True,\n",
                "        load_fields=[\"hidden_states\", \"logits\"],\n",
                "    )\n",
                ")"
            ]
        },
        {
            "cell_type": "code",
            "execution_count": 16,
            "metadata": {},
            "outputs": [
                {
                    "data": {
                        "text/plain": [
                            "DatasetDict({\n",
                            "    train: Dataset({\n",
                            "        features: ['prompt_hidden_states', 'prompt_hidden_states_original_shape', 'prompt_logits', 'prompt_predictions', 'split', 'graph_prompter_hf_hidden_states', 'graph_prompter_hf_logits', 'graph_prompter_hf_hidden_states_original_shape', 'graph_prompter_hf_predictions'],\n",
                            "        num_rows: 56469\n",
                            "    })\n",
                            "    val: Dataset({\n",
                            "        features: ['prompt_hidden_states', 'prompt_hidden_states_original_shape', 'prompt_logits', 'prompt_predictions', 'split', 'graph_prompter_hf_hidden_states', 'graph_prompter_hf_logits', 'graph_prompter_hf_hidden_states_original_shape', 'graph_prompter_hf_predictions'],\n",
                            "        num_rows: 34284\n",
                            "    })\n",
                            "    test: Dataset({\n",
                            "        features: ['prompt_hidden_states', 'prompt_hidden_states_original_shape', 'prompt_logits', 'prompt_predictions', 'split', 'graph_prompter_hf_hidden_states', 'graph_prompter_hf_logits', 'graph_prompter_hf_hidden_states_original_shape', 'graph_prompter_hf_predictions'],\n",
                            "        num_rows: 34284\n",
                            "    })\n",
                            "})"
                        ]
                    },
                    "execution_count": 16,
                    "metadata": {},
                    "output_type": "execute_result"
                }
            ],
            "source": [
                "dataset"
            ]
        },
        {
            "cell_type": "code",
            "execution_count": 8,
            "metadata": {},
            "outputs": [
                {
                    "name": "stdout",
                    "output_type": "stream",
                    "text": [
                        "train Forward Epoch 1 from 1\n",
                        "tensor([[-1.5371,  1.3131],\n",
                        "        [-0.9730,  0.6566],\n",
                        "        [-1.6749,  1.4050],\n",
                        "        [-1.3884,  1.0126],\n",
                        "        [-2.0894,  1.5958],\n",
                        "        [-1.6421,  1.3254],\n",
                        "        [-0.4306,  0.2153],\n",
                        "        [-1.2743,  1.0361],\n",
                        "        [-1.6583,  1.4387],\n",
                        "        [-1.6693,  1.3125],\n",
                        "        [-1.6230,  1.3089],\n",
                        "        [-1.3386,  1.0710],\n",
                        "        [-1.5201,  1.2354],\n",
                        "        [-1.5028,  1.1586],\n",
                        "        [-1.5802,  1.2815],\n",
                        "        [-1.7154,  1.3710],\n",
                        "        [-1.6931,  1.4269],\n",
                        "        [-1.3479,  1.0593],\n",
                        "        [-1.5286,  1.2707],\n",
                        "        [-1.6458,  1.3827],\n",
                        "        [-1.6411,  1.4311],\n",
                        "        [-1.0584,  0.7812],\n",
                        "        [-0.2711, -0.1110],\n",
                        "        [-0.4654,  0.0812],\n",
                        "        [ 0.2574, -0.4983],\n",
                        "        [ 0.0412, -0.3482],\n",
                        "        [-0.8761,  0.5034],\n",
                        "        [-0.2106, -0.2186],\n",
                        "        [-0.5903,  0.2960],\n",
                        "        [-0.5305,  0.1971],\n",
                        "        [-1.0252,  0.7675],\n",
                        "        [-1.0387,  0.7474],\n",
                        "        [-1.5022,  1.1573],\n",
                        "        [-1.3784,  1.0648],\n",
                        "        [-2.1076,  1.6532],\n",
                        "        [-1.6740,  1.3302],\n",
                        "        [-1.6164,  1.2686],\n",
                        "        [-1.5104,  1.1202],\n",
                        "        [-1.5936,  1.2520],\n",
                        "        [-1.3128,  1.0083],\n",
                        "        [-1.0987,  0.8177],\n",
                        "        [-0.3910,  0.1013],\n",
                        "        [-1.7729,  1.5274],\n",
                        "        [ 0.0278, -0.2439],\n",
                        "        [-0.9319,  0.8888],\n",
                        "        [-1.4826,  1.1453],\n",
                        "        [-1.1810,  0.8649],\n",
                        "        [-1.1567,  0.8331],\n",
                        "        [-1.0193,  0.8527],\n",
                        "        [ 0.4502, -0.7914],\n",
                        "        [-1.2119,  0.9413],\n",
                        "        [-1.7829,  1.4540],\n",
                        "        [-1.3319,  1.0507],\n",
                        "        [-1.3957,  1.1066],\n",
                        "        [-1.5609,  1.3466],\n",
                        "        [-0.7156,  0.5644],\n",
                        "        [-0.4525,  0.2074],\n",
                        "        [-1.2546,  0.9429],\n",
                        "        [-1.0126,  0.7943],\n",
                        "        [ 0.0909, -0.2388],\n",
                        "        [-1.1696,  0.9143],\n",
                        "        [-1.2279,  0.9233],\n",
                        "        [-1.5171,  1.1767],\n",
                        "        [-1.2010,  0.8598]])\n"
                    ]
                },
                {
                    "ename": "ValueError",
                    "evalue": "attempt to get argmax of an empty sequence",
                    "output_type": "error",
                    "traceback": [
                        "\u001b[1;31m---------------------------------------------------------------------------\u001b[0m",
                        "\u001b[1;31mValueError\u001b[0m                                Traceback (most recent call last)",
                        "Cell \u001b[1;32mIn[8], line 1\u001b[0m\n\u001b[1;32m----> 1\u001b[0m vanilla_df \u001b[38;5;241m=\u001b[39m \u001b[43mvanilla_bert_classifier\u001b[49m\u001b[38;5;241;43m.\u001b[39;49m\u001b[43mforward_dataset_and_save_outputs\u001b[49m\u001b[43m(\u001b[49m\n\u001b[0;32m      2\u001b[0m \u001b[43m    \u001b[49m\u001b[43mdataset_vanilla\u001b[49m\u001b[43m,\u001b[49m\n\u001b[0;32m      3\u001b[0m \u001b[43m    \u001b[49m\u001b[43mkg_manager\u001b[49m\u001b[38;5;241;43m.\u001b[39;49m\u001b[43mget_vanilla_tokens_as_df\u001b[49m\u001b[43m,\u001b[49m\n\u001b[0;32m      4\u001b[0m \u001b[43m    \u001b[49m\u001b[43mepochs\u001b[49m\u001b[38;5;241;43m=\u001b[39;49m\u001b[38;5;241;43m1\u001b[39;49m\u001b[43m,\u001b[49m\n\u001b[0;32m      5\u001b[0m \u001b[43m    \u001b[49m\u001b[43minclude_graph_embeddings\u001b[49m\u001b[38;5;241;43m=\u001b[39;49m\u001b[38;5;28;43;01mFalse\u001b[39;49;00m\u001b[43m,\u001b[49m\n\u001b[0;32m      6\u001b[0m \u001b[43m    \u001b[49m\u001b[43mforce_recompute\u001b[49m\u001b[38;5;241;43m=\u001b[39;49m\u001b[38;5;28;43;01mTrue\u001b[39;49;00m\u001b[43m,\u001b[49m\n\u001b[0;32m      7\u001b[0m \u001b[43m    \u001b[49m\u001b[43mload_fields\u001b[49m\u001b[38;5;241;43m=\u001b[39;49m\u001b[43m[\u001b[49m\u001b[38;5;124;43m\"\u001b[39;49m\u001b[38;5;124;43mhidden_states\u001b[39;49m\u001b[38;5;124;43m\"\u001b[39;49m\u001b[43m,\u001b[49m\u001b[43m \u001b[49m\u001b[38;5;124;43m\"\u001b[39;49m\u001b[38;5;124;43mlogits\u001b[39;49m\u001b[38;5;124;43m\"\u001b[39;49m\u001b[43m]\u001b[49m\u001b[43m,\u001b[49m\n\u001b[0;32m      8\u001b[0m \u001b[43m)\u001b[49m\n",
                        "File \u001b[1;32mc:\\Users\\MARS\\Ahmad\\Hauptprojekt\\llm_manager.py:1134\u001b[0m, in \u001b[0;36mClassifierBase.forward_dataset_and_save_outputs\u001b[1;34m(self, dataset, get_tokens_as_df_cb, splits, batch_size, epochs, load_fields, hidden_state_position, include_graph_embeddings, force_recompute)\u001b[0m\n\u001b[0;32m   1132\u001b[0m logits \u001b[38;5;241m=\u001b[39m outputs\u001b[38;5;241m.\u001b[39mlogits\n\u001b[0;32m   1133\u001b[0m \u001b[38;5;28mprint\u001b[39m(logits)\n\u001b[1;32m-> 1134\u001b[0m predictions \u001b[38;5;241m=\u001b[39m [\u001b[43mnp\u001b[49m\u001b[38;5;241;43m.\u001b[39;49m\u001b[43margmax\u001b[49m\u001b[43m(\u001b[49m\u001b[43mall_logits\u001b[49m\u001b[43m,\u001b[49m\u001b[43m \u001b[49m\u001b[43maxis\u001b[49m\u001b[38;5;241;43m=\u001b[39;49m\u001b[38;5;241;43m1\u001b[39;49m\u001b[43m)\u001b[49m\u001b[38;5;241m.\u001b[39mtolist()]\n\u001b[0;32m   1135\u001b[0m all_logits[\u001b[38;5;241m0\u001b[39m]\u001b[38;5;241m.\u001b[39mappend(logits\u001b[38;5;241m.\u001b[39mnumpy())\n\u001b[0;32m   1136\u001b[0m \u001b[38;5;28;01mdel\u001b[39;00m logits\n",
                        "File \u001b[1;32mc:\\Users\\MARS\\.conda\\envs\\hauptprojekt\\Lib\\site-packages\\numpy\\core\\fromnumeric.py:1229\u001b[0m, in \u001b[0;36margmax\u001b[1;34m(a, axis, out, keepdims)\u001b[0m\n\u001b[0;32m   1142\u001b[0m \u001b[38;5;250m\u001b[39m\u001b[38;5;124;03m\"\"\"\u001b[39;00m\n\u001b[0;32m   1143\u001b[0m \u001b[38;5;124;03mReturns the indices of the maximum values along an axis.\u001b[39;00m\n\u001b[0;32m   1144\u001b[0m \n\u001b[1;32m   (...)\u001b[0m\n\u001b[0;32m   1226\u001b[0m \u001b[38;5;124;03m(2, 1, 4)\u001b[39;00m\n\u001b[0;32m   1227\u001b[0m \u001b[38;5;124;03m\"\"\"\u001b[39;00m\n\u001b[0;32m   1228\u001b[0m kwds \u001b[38;5;241m=\u001b[39m {\u001b[38;5;124m'\u001b[39m\u001b[38;5;124mkeepdims\u001b[39m\u001b[38;5;124m'\u001b[39m: keepdims} \u001b[38;5;28;01mif\u001b[39;00m keepdims \u001b[38;5;129;01mis\u001b[39;00m \u001b[38;5;129;01mnot\u001b[39;00m np\u001b[38;5;241m.\u001b[39m_NoValue \u001b[38;5;28;01melse\u001b[39;00m {}\n\u001b[1;32m-> 1229\u001b[0m \u001b[38;5;28;01mreturn\u001b[39;00m \u001b[43m_wrapfunc\u001b[49m\u001b[43m(\u001b[49m\u001b[43ma\u001b[49m\u001b[43m,\u001b[49m\u001b[43m \u001b[49m\u001b[38;5;124;43m'\u001b[39;49m\u001b[38;5;124;43margmax\u001b[39;49m\u001b[38;5;124;43m'\u001b[39;49m\u001b[43m,\u001b[49m\u001b[43m \u001b[49m\u001b[43maxis\u001b[49m\u001b[38;5;241;43m=\u001b[39;49m\u001b[43maxis\u001b[49m\u001b[43m,\u001b[49m\u001b[43m \u001b[49m\u001b[43mout\u001b[49m\u001b[38;5;241;43m=\u001b[39;49m\u001b[43mout\u001b[49m\u001b[43m,\u001b[49m\u001b[43m \u001b[49m\u001b[38;5;241;43m*\u001b[39;49m\u001b[38;5;241;43m*\u001b[39;49m\u001b[43mkwds\u001b[49m\u001b[43m)\u001b[49m\n",
                        "File \u001b[1;32mc:\\Users\\MARS\\.conda\\envs\\hauptprojekt\\Lib\\site-packages\\numpy\\core\\fromnumeric.py:56\u001b[0m, in \u001b[0;36m_wrapfunc\u001b[1;34m(obj, method, *args, **kwds)\u001b[0m\n\u001b[0;32m     54\u001b[0m bound \u001b[38;5;241m=\u001b[39m \u001b[38;5;28mgetattr\u001b[39m(obj, method, \u001b[38;5;28;01mNone\u001b[39;00m)\n\u001b[0;32m     55\u001b[0m \u001b[38;5;28;01mif\u001b[39;00m bound \u001b[38;5;129;01mis\u001b[39;00m \u001b[38;5;28;01mNone\u001b[39;00m:\n\u001b[1;32m---> 56\u001b[0m     \u001b[38;5;28;01mreturn\u001b[39;00m \u001b[43m_wrapit\u001b[49m\u001b[43m(\u001b[49m\u001b[43mobj\u001b[49m\u001b[43m,\u001b[49m\u001b[43m \u001b[49m\u001b[43mmethod\u001b[49m\u001b[43m,\u001b[49m\u001b[43m \u001b[49m\u001b[38;5;241;43m*\u001b[39;49m\u001b[43margs\u001b[49m\u001b[43m,\u001b[49m\u001b[43m \u001b[49m\u001b[38;5;241;43m*\u001b[39;49m\u001b[38;5;241;43m*\u001b[39;49m\u001b[43mkwds\u001b[49m\u001b[43m)\u001b[49m\n\u001b[0;32m     58\u001b[0m \u001b[38;5;28;01mtry\u001b[39;00m:\n\u001b[0;32m     59\u001b[0m     \u001b[38;5;28;01mreturn\u001b[39;00m bound(\u001b[38;5;241m*\u001b[39margs, \u001b[38;5;241m*\u001b[39m\u001b[38;5;241m*\u001b[39mkwds)\n",
                        "File \u001b[1;32mc:\\Users\\MARS\\.conda\\envs\\hauptprojekt\\Lib\\site-packages\\numpy\\core\\fromnumeric.py:45\u001b[0m, in \u001b[0;36m_wrapit\u001b[1;34m(obj, method, *args, **kwds)\u001b[0m\n\u001b[0;32m     43\u001b[0m \u001b[38;5;28;01mexcept\u001b[39;00m \u001b[38;5;167;01mAttributeError\u001b[39;00m:\n\u001b[0;32m     44\u001b[0m     wrap \u001b[38;5;241m=\u001b[39m \u001b[38;5;28;01mNone\u001b[39;00m\n\u001b[1;32m---> 45\u001b[0m result \u001b[38;5;241m=\u001b[39m \u001b[38;5;28;43mgetattr\u001b[39;49m\u001b[43m(\u001b[49m\u001b[43masarray\u001b[49m\u001b[43m(\u001b[49m\u001b[43mobj\u001b[49m\u001b[43m)\u001b[49m\u001b[43m,\u001b[49m\u001b[43m \u001b[49m\u001b[43mmethod\u001b[49m\u001b[43m)\u001b[49m\u001b[43m(\u001b[49m\u001b[38;5;241;43m*\u001b[39;49m\u001b[43margs\u001b[49m\u001b[43m,\u001b[49m\u001b[43m \u001b[49m\u001b[38;5;241;43m*\u001b[39;49m\u001b[38;5;241;43m*\u001b[39;49m\u001b[43mkwds\u001b[49m\u001b[43m)\u001b[49m\n\u001b[0;32m     46\u001b[0m \u001b[38;5;28;01mif\u001b[39;00m wrap:\n\u001b[0;32m     47\u001b[0m     \u001b[38;5;28;01mif\u001b[39;00m \u001b[38;5;129;01mnot\u001b[39;00m \u001b[38;5;28misinstance\u001b[39m(result, mu\u001b[38;5;241m.\u001b[39mndarray):\n",
                        "\u001b[1;31mValueError\u001b[0m: attempt to get argmax of an empty sequence"
                    ]
                }
            ],
            "source": [
                "vanilla_df = vanilla_bert_classifier.forward_dataset_and_save_outputs(\n",
                "    dataset_vanilla,\n",
                "    kg_manager.get_vanilla_tokens_as_df,\n",
                "    epochs=1,\n",
                "    include_graph_embeddings=False,\n",
                "    force_recompute=True,\n",
                "    load_fields=[\"hidden_states\", \"logits\"],\n",
                ")"
            ]
        },
        {
            "cell_type": "code",
            "execution_count": 10,
            "metadata": {},
            "outputs": [],
            "source": [
                "dataset = kg_manager.generate_huggingface_dataset(\n",
                "    [vanilla_df, prompt_df, graph_prompter_hf_df],\n",
                "    [\"vanilla\", \"prompt\", \"graph_prompter_hf\"],\n",
                "    add_tokens=False,\n",
                ")"
            ]
        },
        {
            "cell_type": "code",
            "execution_count": 11,
            "metadata": {},
            "outputs": [
                {
                    "data": {
                        "text/plain": [
                            "DatasetDict({\n",
                            "    train: Dataset({\n",
                            "        features: ['vanilla_hidden_states_original_shape', 'vanilla_predictions', 'vanilla_hidden_states', 'split', 'vanilla_logits', 'prompt_hidden_states', 'prompt_hidden_states_original_shape', 'prompt_logits', 'prompt_predictions', 'graph_prompter_hf_hidden_states', 'graph_prompter_hf_logits', 'graph_prompter_hf_hidden_states_original_shape', 'graph_prompter_hf_predictions'],\n",
                            "        num_rows: 56469\n",
                            "    })\n",
                            "    val: Dataset({\n",
                            "        features: ['vanilla_hidden_states_original_shape', 'vanilla_predictions', 'vanilla_hidden_states', 'split', 'vanilla_logits', 'prompt_hidden_states', 'prompt_hidden_states_original_shape', 'prompt_logits', 'prompt_predictions', 'graph_prompter_hf_hidden_states', 'graph_prompter_hf_logits', 'graph_prompter_hf_hidden_states_original_shape', 'graph_prompter_hf_predictions'],\n",
                            "        num_rows: 34284\n",
                            "    })\n",
                            "    test: Dataset({\n",
                            "        features: ['vanilla_hidden_states_original_shape', 'vanilla_predictions', 'vanilla_hidden_states', 'split', 'vanilla_logits', 'prompt_hidden_states', 'prompt_hidden_states_original_shape', 'prompt_logits', 'prompt_predictions', 'graph_prompter_hf_hidden_states', 'graph_prompter_hf_logits', 'graph_prompter_hf_hidden_states_original_shape', 'graph_prompter_hf_predictions'],\n",
                            "        num_rows: 34284\n",
                            "    })\n",
                            "})"
                        ]
                    },
                    "execution_count": 11,
                    "metadata": {},
                    "output_type": "execute_result"
                }
            ],
            "source": [
                "dataset"
            ]
        },
        {
            "cell_type": "code",
            "execution_count": 12,
            "metadata": {},
            "outputs": [
                {
                    "data": {
                        "application/vnd.jupyter.widget-view+json": {
                            "model_id": "8cb2197b74ef4304b54163b84f7f0c6f",
                            "version_major": 2,
                            "version_minor": 0
                        },
                        "text/plain": [
                            "Saving the dataset (0/7 shards):   0%|          | 0/56469 [00:00<?, ? examples/s]"
                        ]
                    },
                    "metadata": {},
                    "output_type": "display_data"
                },
                {
                    "data": {
                        "application/vnd.jupyter.widget-view+json": {
                            "model_id": "a53cf873a777499ea8f888fac05254c6",
                            "version_major": 2,
                            "version_minor": 0
                        },
                        "text/plain": [
                            "Saving the dataset (0/4 shards):   0%|          | 0/34284 [00:00<?, ? examples/s]"
                        ]
                    },
                    "metadata": {},
                    "output_type": "display_data"
                },
                {
                    "data": {
                        "application/vnd.jupyter.widget-view+json": {
                            "model_id": "d7f5589346224fafa9e64713508e7ec3",
                            "version_major": 2,
                            "version_minor": 0
                        },
                        "text/plain": [
                            "Saving the dataset (0/4 shards):   0%|          | 0/34284 [00:00<?, ? examples/s]"
                        ]
                    },
                    "metadata": {},
                    "output_type": "display_data"
                }
            ],
            "source": [
                "dataset.save_to_disk(\"./data/dataset_hidden_states_0.hf\")\n",
                "# dataset.push_to_hub(\"AhmadPython/MovieLens_KGE\")"
            ]
        },
        {
            "cell_type": "code",
            "execution_count": null,
            "metadata": {},
            "outputs": [],
            "source": []
        },
        {
            "cell_type": "code",
            "execution_count": null,
            "metadata": {},
            "outputs": [],
            "source": []
        }
    ],
    "metadata": {
        "kernelspec": {
            "display_name": "hauptprojekt",
            "language": "python",
            "name": "python3"
        },
        "language_info": {
            "codemirror_mode": {
                "name": "ipython",
                "version": 3
            },
            "file_extension": ".py",
            "mimetype": "text/x-python",
            "name": "python",
            "nbconvert_exporter": "python",
            "pygments_lexer": "ipython3",
            "version": "3.12.4"
        }
    },
    "nbformat": 4,
    "nbformat_minor": 2
}
